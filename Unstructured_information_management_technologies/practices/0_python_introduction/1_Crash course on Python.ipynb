{
 "cells": [
  {
   "cell_type": "markdown",
   "metadata": {
    "slideshow": {
     "slide_type": "slide"
    }
   },
   "source": [
    "# A crash course on Python for Data Analysis\n",
    "\n",
    "1.\tPython basic programming:\n",
    "    + Python modules or how to extend the instruction set\n",
    "    + Data Types and Operations.\n",
    "    + A program in Python\n",
    "    + A function in Python\n",
    "    + Slicing\n",
    "    + References\n",
    "    + Comprehensions\n",
    "    + Generators\n",
    "    + Objects\n",
    "2.\tAdvanced programming for data analysis: NumPy.\n",
    "3.  Advanced programming for data analysis: pandas.\n",
    "4.  Advanced topics: parallel processing, etc.\n",
    "\n",
    "<center><img src=\"files/images/python.jpg\"></center>\n"
   ]
  },
  {
   "cell_type": "markdown",
   "metadata": {
    "slideshow": {
     "slide_type": "slide"
    }
   },
   "source": [
    "<center><img src=\"files/images/monty.jpg\"></center>"
   ]
  },
  {
   "cell_type": "markdown",
   "metadata": {
    "slideshow": {
     "slide_type": "slide"
    }
   },
   "source": [
    "## Python\n",
    "\n",
    "The software program that you use to invoke operators is called an **interpreter**. You enter your commands as a ‘dialog’ between you and the interpreter. Commands can be entered as part of a script (a text file with a list of commands to perform) or directly at the *cell*. \n",
    "\n",
    "In order to ask to the interpreter what to do, you must **invoke** an operator:"
   ]
  },
  {
   "cell_type": "code",
   "execution_count": 13,
   "metadata": {
    "slideshow": {
     "slide_type": "slide"
    }
   },
   "outputs": [
    {
     "data": {
      "text/plain": [
       "[0, 1, 2, 3, 4, 5, 6, 7, 8, 9]"
      ]
     },
     "execution_count": 13,
     "metadata": {},
     "output_type": "execute_result"
    }
   ],
   "source": [
    "range(10)"
   ]
  },
  {
   "cell_type": "code",
   "execution_count": 14,
   "metadata": {
    "slideshow": {
     "slide_type": "subslide"
    }
   },
   "outputs": [
    {
     "data": {
      "text/plain": [
       "16"
      ]
     },
     "execution_count": 14,
     "metadata": {},
     "output_type": "execute_result"
    }
   ],
   "source": [
    "3 + 4 + 9"
   ]
  },
  {
   "cell_type": "markdown",
   "metadata": {
    "slideshow": {
     "slide_type": "slide"
    }
   },
   "source": [
    "It’s helpful to think of the computation carried out by an operator as involving four parts:\n",
    "\n",
    "+ The name of the operator\n",
    "+ The input arguments\n",
    "+ The output value\n",
    "+ Side effects\n",
    "\n",
    "A typical operation takes one or more input arguments and uses the information in these to produce an output value. Along the way, the computer might take some action: display a graph, store a file, make a sound, etc. These actions are called side effects."
   ]
  },
  {
   "cell_type": "markdown",
   "metadata": {},
   "source": [
    "Python is a general-purpose programming language, so when we want to use more specific commands (such as statistical operators or string processing operators) we usually need to import them before we can use them. <br>"
   ]
  },
  {
   "cell_type": "markdown",
   "metadata": {},
   "source": [
    "> For Scientific Python, one of the most important libraries that we need is **numpy** (Numerical Python), which can be loaded like this: ``import numpy as np``"
   ]
  },
  {
   "cell_type": "code",
   "execution_count": 15,
   "metadata": {},
   "outputs": [
    {
     "data": {
      "text/plain": [
       "5.0"
      ]
     },
     "execution_count": 15,
     "metadata": {},
     "output_type": "execute_result"
    }
   ],
   "source": [
    "import numpy as np\n",
    "np.sqrt(25)"
   ]
  },
  {
   "cell_type": "code",
   "execution_count": 16,
   "metadata": {},
   "outputs": [
    {
     "data": {
      "text/plain": [
       "array([0, 1, 2, 3, 4, 5, 6, 7, 8, 9])"
      ]
     },
     "execution_count": 16,
     "metadata": {},
     "output_type": "execute_result"
    }
   ],
   "source": [
    "np.arange(10)"
   ]
  },
  {
   "cell_type": "markdown",
   "metadata": {},
   "source": [
    "Access to the functions, variables and classes of a module depends on the way the module was imported:"
   ]
  },
  {
   "cell_type": "code",
   "execution_count": 17,
   "metadata": {},
   "outputs": [
    {
     "data": {
      "text/plain": [
       "-1.0"
      ]
     },
     "execution_count": 17,
     "metadata": {},
     "output_type": "execute_result"
    }
   ],
   "source": [
    "import math\n",
    "math.cos(math.pi)"
   ]
  },
  {
   "cell_type": "code",
   "execution_count": 18,
   "metadata": {},
   "outputs": [
    {
     "data": {
      "text/plain": [
       "-1.0"
      ]
     },
     "execution_count": 18,
     "metadata": {},
     "output_type": "execute_result"
    }
   ],
   "source": [
    "import math as m  # import using an alias\n",
    "m.cos(m.pi)"
   ]
  },
  {
   "cell_type": "code",
   "execution_count": 19,
   "metadata": {},
   "outputs": [
    {
     "data": {
      "text/plain": [
       "-1.0"
      ]
     },
     "execution_count": 19,
     "metadata": {},
     "output_type": "execute_result"
    }
   ],
   "source": [
    "from math import cos,pi # import only some functions\n",
    "cos(pi)"
   ]
  },
  {
   "cell_type": "code",
   "execution_count": 20,
   "metadata": {},
   "outputs": [
    {
     "data": {
      "text/plain": [
       "-1.0"
      ]
     },
     "execution_count": 20,
     "metadata": {},
     "output_type": "execute_result"
    }
   ],
   "source": [
    "from math import *   # global import\n",
    "cos(pi)"
   ]
  },
  {
   "cell_type": "markdown",
   "metadata": {},
   "source": [
    "> It is critical to define a clear policy for ``import`` "
   ]
  },
  {
   "cell_type": "markdown",
   "metadata": {},
   "source": [
    "Often the value returned by an operation will be used later on. Values can be stored for later use with the **assignment operator**:"
   ]
  },
  {
   "cell_type": "code",
   "execution_count": 21,
   "metadata": {},
   "outputs": [],
   "source": [
    "a = 101"
   ]
  },
  {
   "cell_type": "markdown",
   "metadata": {},
   "source": [
    "The command has stored the value 101 under the name <code>a</code>. Such stored values are called **objects**. \n",
    "\n",
    "Making an assignment to an object defines the object. Once an object has been defined, it can be referred to and used in later computations. \n",
    "\n",
    "To refer to the value stored in the object, just use the object’s name itself. For instance:"
   ]
  },
  {
   "cell_type": "code",
   "execution_count": 22,
   "metadata": {},
   "outputs": [
    {
     "data": {
      "text/plain": [
       "10.04987562112089"
      ]
     },
     "execution_count": 22,
     "metadata": {},
     "output_type": "execute_result"
    }
   ],
   "source": [
    "b = np.sqrt(a)\n",
    "b"
   ]
  },
  {
   "cell_type": "markdown",
   "metadata": {},
   "source": [
    "There are some general rules for object names:\n",
    "\n",
    "+ Use only letters and numbers and ‘underscores’ (_)\n",
    "+ Do NOT use spaces anywhere in the name\n",
    "+ A number cannot be the first character in the name\n",
    "+ Capital letters are treated as distinct from lower-case letters (i.e., Python is case-sensitive)"
   ]
  },
  {
   "cell_type": "code",
   "execution_count": 23,
   "metadata": {},
   "outputs": [
    {
     "ename": "SyntaxError",
     "evalue": "invalid syntax (<ipython-input-23-f986eee6e224>, line 1)",
     "output_type": "error",
     "traceback": [
      "\u001b[0;36m  File \u001b[0;32m\"<ipython-input-23-f986eee6e224>\"\u001b[0;36m, line \u001b[0;32m1\u001b[0m\n\u001b[0;31m    3a = 10\u001b[0m\n\u001b[0m     ^\u001b[0m\n\u001b[0;31mSyntaxError\u001b[0m\u001b[0;31m:\u001b[0m invalid syntax\n"
     ]
    }
   ],
   "source": [
    "3a = 10"
   ]
  },
  {
   "cell_type": "code",
   "execution_count": 24,
   "metadata": {},
   "outputs": [],
   "source": [
    "a3 = 10"
   ]
  },
  {
   "cell_type": "markdown",
   "metadata": {},
   "source": [
    "When you assign a new value to an existing object (*dynamic typing*), the former values of that object is erased from the computer memory. The former value of b was 10.0498756211, but after a new assignment:"
   ]
  },
  {
   "cell_type": "code",
   "execution_count": 25,
   "metadata": {},
   "outputs": [
    {
     "name": "stdout",
     "output_type": "stream",
     "text": [
      "a\n"
     ]
    }
   ],
   "source": [
    "b = 'a'\n",
    "print b"
   ]
  },
  {
   "cell_type": "markdown",
   "metadata": {},
   "source": [
    "The value of an object is changed only via the assignment operator. Using an object in a computation does not change the value. "
   ]
  },
  {
   "cell_type": "markdown",
   "metadata": {},
   "source": [
    "The brilliant thing about organizing operators in terms of input arguments and output values is that the output of one operator can be used as an input to another. This lets complicated computations be built out of simpler ones.\n",
    "\n",
    "One way to connect the computations is by using objects to store the intermediate outputs:"
   ]
  },
  {
   "cell_type": "code",
   "execution_count": 26,
   "metadata": {},
   "outputs": [
    {
     "data": {
      "text/plain": [
       "array([0.        , 1.        , 1.41421356, 1.73205081, 2.        ])"
      ]
     },
     "execution_count": 26,
     "metadata": {},
     "output_type": "execute_result"
    }
   ],
   "source": [
    "a = np.arange(5)\n",
    "np.sqrt(a)"
   ]
  },
  {
   "cell_type": "markdown",
   "metadata": {},
   "source": [
    "You can also pass the output of an operator directly as an argument to another operator:"
   ]
  },
  {
   "cell_type": "code",
   "execution_count": 27,
   "metadata": {},
   "outputs": [
    {
     "data": {
      "text/plain": [
       "array([0.        , 1.        , 1.41421356, 1.73205081, 2.        ])"
      ]
     },
     "execution_count": 27,
     "metadata": {},
     "output_type": "execute_result"
    }
   ],
   "source": [
    "np.sqrt(np.arange(5))"
   ]
  },
  {
   "cell_type": "markdown",
   "metadata": {},
   "source": [
    "### Data Types\n",
    "\n",
    "Most of the examples used so far have dealt with numbers. But computers work with other kinds of information as well: text, photographs, sounds, sets of data, and so on. The word *type* is used to refer to the kind of information. \n",
    "\n",
    "It’s important to know about the types of data because operators expect their input arguments to be of specific types. When you use the wrong type of input, the computer might not be able to process your command."
   ]
  },
  {
   "cell_type": "markdown",
   "metadata": {},
   "source": [
    "For our purposes, it’s important to distinguish among several basic types:\n",
    "\n",
    "+ Numeric (positive and negative) data: \n",
    "    + decimal and fractional numbers (**floats**), <code>a = 3.5</code>\n",
    "    + whole numbers (**integers**), <code> b = -12560</code>, and \n",
    "    + arbitrary length whole numbers (**longs**):  <code>c=1809109863596239561236235625629561L</code>\n",
    "+ **Strings** of textual data - you indicate string data to the computer by enclosing the text in quotation marks (e.g., <code>name = \"python\"</code>).\n",
    "+ **Boolean** data: <code>a = True</code> or <code>a = False</code>.\n",
    "+ **Complex** numbers: <code>a = 2+3j</code>\n",
    "+ Sequence types: **tuples, lists, sets, dictionaries** and **files**."
   ]
  },
  {
   "cell_type": "code",
   "execution_count": 28,
   "metadata": {},
   "outputs": [],
   "source": [
    "a = 10"
   ]
  },
  {
   "cell_type": "code",
   "execution_count": 29,
   "metadata": {},
   "outputs": [
    {
     "name": "stdout",
     "output_type": "stream",
     "text": [
      "a\n"
     ]
    }
   ],
   "source": [
    "a = 'a'\n",
    "print a"
   ]
  },
  {
   "cell_type": "markdown",
   "metadata": {},
   "source": [
    "### Operators\n",
    "\n",
    "+ Addition (also string, tuple and list concatenation) <code>a + b</code>\n",
    "+ Subtraction (also set difference): <code>a - b</code>\n",
    "+ Multiplication (also string, tuple and list replication): <code>a * b</code>\n",
    "+ Division: <code>a / b</code>\n",
    "+ Truncated integer division (rounded towards minus infinity): <code>a // b</code>\n",
    "+ Modulus or remainder: <code>a % b</code>\n",
    "+ Exponentiation: <code>a ** b</code>\n",
    "+ Assignment: <code>=</code>, <code>-=</code>, <code>+=</code>,<code>/=</code>,<code>*=</code>, <code>%=</code>, <code>//=</code>, <code>**=</code>\n",
    "+ Boolean comparisons: <code>==</code>, <code>!=</code>, <code><</code>,<code>></code>,<code><=</code>, <code>>=</code>\n",
    "+ Boolean operators: <code>and</code>, <code>or</code>, <code>not</code>\n",
    "+ Membership test operators: <code>in</code>, <code>not in</code>\n",
    "+ Object identity operators: <code>is</code>, <code>is not</code>\n",
    "+ Bitwise operators (or, xor, and, complement): <code>|</code>, <code>^</code>, <code>&</code>, <code>~</code>\n",
    "+ Left and right bit shift: <code><<</code>, <code>>></code>"
   ]
  },
  {
   "cell_type": "markdown",
   "metadata": {},
   "source": [
    "### Python as a calculator\n",
    "\n",
    "The Python language has a concise notation for arithmetic that looks very much like the traditional one."
   ]
  },
  {
   "cell_type": "code",
   "execution_count": 30,
   "metadata": {},
   "outputs": [
    {
     "name": "stdout",
     "output_type": "stream",
     "text": [
      "5 -28.0 1 1.66666666667\n"
     ]
    }
   ],
   "source": [
    "a = 3+2\n",
    "b= 3.5 * -8\n",
    "c = 10/6\n",
    "print a, b, c, 10./6."
   ]
  },
  {
   "cell_type": "markdown",
   "metadata": {},
   "source": [
    "Some math functions are not available in the basic Python module, and they need to be imported from a specific module:"
   ]
  },
  {
   "cell_type": "code",
   "execution_count": 31,
   "metadata": {},
   "outputs": [
    {
     "name": "stdout",
     "output_type": "stream",
     "text": [
      "5.63522701248\n"
     ]
    }
   ],
   "source": [
    "import math   # this instruction is not executed if the module has already been imported\n",
    "print math.pi + math.sin(100) + math.ceil(2.3)"
   ]
  },
  {
   "cell_type": "markdown",
   "metadata": {},
   "source": [
    "### A program in Python\n",
    "\n",
    "General Rules:\n",
    "\n",
    "+ All text from a <code>#</code> simbol to the end of a line are considered as comments.\n",
    "+ Code must be **indented** and sometimes delineated by colons. The Python standard for indentation is four spaces. Never use tabs: it can produce hard to find errors. Set you editor to convert tabs to spaces.\n",
    "+ Typically, a statement must be on a line. You can use a backslash <code>\\</code> at the end of a line to continue a statement on to the next line.\n"
   ]
  },
  {
   "cell_type": "code",
   "execution_count": 32,
   "metadata": {},
   "outputs": [
    {
     "name": "stdout",
     "output_type": "stream",
     "text": [
      "93326215443944152681699238856266700490715968264381621468592963895217599993229915608941463976156518286253697920827223758251185210916864000000000000000000000000\n"
     ]
    }
   ],
   "source": [
    "# This program computes the factorial of 100.\n",
    "\n",
    "fact = 1\n",
    "n= 100\n",
    "for factor in range(n,0,-1):\n",
    "    fact = fact * factor \n",
    "print fact    "
   ]
  },
  {
   "cell_type": "code",
   "execution_count": 33,
   "metadata": {},
   "outputs": [
    {
     "data": {
      "text/plain": [
       "[10, 9, 8, 7, 6, 5, 4, 3, 2, 1]"
      ]
     },
     "execution_count": 33,
     "metadata": {},
     "output_type": "execute_result"
    }
   ],
   "source": [
    "range(10,0,-1)"
   ]
  },
  {
   "cell_type": "markdown",
   "metadata": {},
   "source": [
    "> When we write a colon at the end of an iteration, all lines indented at the next level are considered *part* of the iteration. \n",
    "\n",
    "> When we write a line at the same indentation as the iteration, we are closing the iteration."
   ]
  },
  {
   "cell_type": "markdown",
   "metadata": {},
   "source": [
    "### A function in Python\n",
    "\n"
   ]
  },
  {
   "cell_type": "markdown",
   "metadata": {},
   "source": [
    "#### Factorial\n",
    "\n",
    "The factorial of a non-negative integer $n$, denoted by $n!$, is the product of all positive integers less than or equal to $n$.  "
   ]
  },
  {
   "cell_type": "code",
   "execution_count": 34,
   "metadata": {},
   "outputs": [],
   "source": [
    "def factorial(n):\n",
    "    fact = 1L\n",
    "    for factor in range(n,0,-1):\n",
    "        fact = fact * factor\n",
    "    return fact"
   ]
  },
  {
   "cell_type": "code",
   "execution_count": 35,
   "metadata": {},
   "outputs": [
    {
     "data": {
      "text/plain": [
       "93326215443944152681699238856266700490715968264381621468592963895217599993229915608941463976156518286253697920827223758251185210916864000000000000000000000000L"
      ]
     },
     "execution_count": 35,
     "metadata": {},
     "output_type": "execute_result"
    }
   ],
   "source": [
    "factorial(n)"
   ]
  },
  {
   "cell_type": "markdown",
   "metadata": {},
   "source": [
    "#### Fibonacci\n",
    "\n",
    "The Fibonacci Sequence is the series of numbers: 0, 1, 1, 2, 3, 5, 8, 13, 21, 34, ...\n",
    "\n",
    "The general rule to compute the sequence is very simple: The next number is found by adding up the two numbers before it."
   ]
  },
  {
   "cell_type": "code",
   "execution_count": 36,
   "metadata": {},
   "outputs": [
    {
     "data": {
      "text/plain": [
       "6765"
      ]
     },
     "execution_count": 36,
     "metadata": {},
     "output_type": "execute_result"
    }
   ],
   "source": [
    "def fib1(n):\n",
    "    if n==1:\n",
    "        return 1\n",
    "    if n==0:\n",
    "        return 0\n",
    "    return fib1(n-1) + fib1(n-2)\n",
    "\n",
    "fib1(20)\n",
    "\n",
    "# this function cannot compute fib(100)"
   ]
  },
  {
   "cell_type": "code",
   "execution_count": 37,
   "metadata": {},
   "outputs": [
    {
     "name": "stdout",
     "output_type": "stream",
     "text": [
      "43466557686937456435688527675040625802564660517371780402481729089536555417949051890403879840079255169295922593080322634775209689623239873322471161642996440906533187938298969649928516003704476137795166849228875\n"
     ]
    }
   ],
   "source": [
    "def fib2(n):\n",
    "    a, b = 0, 1\n",
    "    for i in range(1,n+1):\n",
    "        a, b = b, a + b\n",
    "    return a\n",
    "\n",
    "n = 1000\n",
    "if n<15:\n",
    "    print fib1(n)\n",
    "else: \n",
    "    print fib2(n)"
   ]
  },
  {
   "cell_type": "markdown",
   "metadata": {},
   "source": [
    "#### Greatest Common Divisor\n",
    "\n",
    "The greatest common divisor of two positive integers $a$ and $b$ is the largest divisor common to $a$ and $b$.  The Euclidean algorithm, or Euclid's algorithm, is an interative method for computing the greatest common divisor of two integers. \n",
    "\n",
    "+ If $a<b$, exchange $a$ and $b$.\n",
    "+ Divide $a$ by $b$ and get the remainder, $r$. If $r=0$, report $b$ as the GCD of $a$ and $b$.\n",
    "+ Replace $a$ by $b$ and replace $b$ by $r$. If $r \\neq 0$ iterate.\n",
    "\n"
   ]
  },
  {
   "cell_type": "code",
   "execution_count": 38,
   "metadata": {},
   "outputs": [
    {
     "data": {
      "text/plain": [
       "4"
      ]
     },
     "execution_count": 38,
     "metadata": {},
     "output_type": "execute_result"
    }
   ],
   "source": [
    "def gcd(a,b): # Euclides algorithm v1.0: pseudocode translation\n",
    "    r = 1\n",
    "    while r != 0:\n",
    "        if a<b:\n",
    "            c=a\n",
    "            a=b\n",
    "            b=c\n",
    "        r = a%b \n",
    "        if r == 0:\n",
    "            return b\n",
    "        else:\n",
    "            a = b\n",
    "            b = r\n",
    "\n",
    "gcd(100,16)"
   ]
  },
  {
   "cell_type": "code",
   "execution_count": 39,
   "metadata": {},
   "outputs": [
    {
     "data": {
      "text/plain": [
       "4"
      ]
     },
     "execution_count": 39,
     "metadata": {},
     "output_type": "execute_result"
    }
   ],
   "source": [
    "def gcd(a,b):   # Euclides algorithm v2.0: idiomatic Python\n",
    "    while a:\n",
    "        a, b = b%a, a\n",
    "    return b\n",
    "\n",
    "gcd(100,16)"
   ]
  },
  {
   "cell_type": "code",
   "execution_count": 40,
   "metadata": {},
   "outputs": [
    {
     "data": {
      "text/plain": [
       "False"
      ]
     },
     "execution_count": 40,
     "metadata": {},
     "output_type": "execute_result"
    }
   ],
   "source": [
    "a = 67\n",
    "a == False"
   ]
  },
  {
   "cell_type": "markdown",
   "metadata": {},
   "source": [
    "### EXERCISE\n",
    "\n",
    "Create a function that computes the least common multiple. **Tip**: Re-use the *gcd* function"
   ]
  },
  {
   "cell_type": "code",
   "execution_count": 41,
   "metadata": {},
   "outputs": [
    {
     "data": {
      "text/plain": [
       "-1876.0"
      ]
     },
     "execution_count": 41,
     "metadata": {},
     "output_type": "execute_result"
    }
   ],
   "source": [
    "def lcm(a, b):\n",
    "    return (a*b)/gcd(a,b)\n",
    "lcm(a,b)"
   ]
  },
  {
   "cell_type": "markdown",
   "metadata": {},
   "source": [
    "### String processing with Python\n",
    "\n",
    "Strings are list of characters:"
   ]
  },
  {
   "cell_type": "code",
   "execution_count": 42,
   "metadata": {},
   "outputs": [
    {
     "data": {
      "text/plain": [
       "str"
      ]
     },
     "execution_count": 42,
     "metadata": {},
     "output_type": "execute_result"
    }
   ],
   "source": [
    "a = \"python\"\n",
    "type(a)"
   ]
  },
  {
   "cell_type": "code",
   "execution_count": 43,
   "metadata": {},
   "outputs": [
    {
     "name": "stdout",
     "output_type": "stream",
     "text": [
      "Hello\n"
     ]
    }
   ],
   "source": [
    "print \"Hello\""
   ]
  },
  {
   "cell_type": "code",
   "execution_count": 44,
   "metadata": {},
   "outputs": [
    {
     "name": "stdout",
     "output_type": "stream",
     "text": [
      "This is 'an example' of the use of quotes and double quotes\n",
      "This is \"another example\" of the use of quotes and double quotes\n"
     ]
    }
   ],
   "source": [
    "print \"This is 'an example' of the use of quotes and double quotes\"\n",
    "print 'This is \"another example\" of the use of quotes and double quotes'"
   ]
  },
  {
   "cell_type": "markdown",
   "metadata": {},
   "source": [
    "We can use the operator ``+`` to concatenate strings:"
   ]
  },
  {
   "cell_type": "code",
   "execution_count": 45,
   "metadata": {},
   "outputs": [
    {
     "name": "stdout",
     "output_type": "stream",
     "text": [
      "Hello!\n"
     ]
    }
   ],
   "source": [
    "a = 'He'\n",
    "b = 'llo'\n",
    "c = a+b+'!'\n",
    "print c"
   ]
  },
  {
   "cell_type": "markdown",
   "metadata": {},
   "source": [
    "Substrings within a string can be accessed using **slicing**. Slicing uses ``[]`` to contain the indices of the characters in a string, where the first index is $0$, and the last is $n - 1$ (assuming the string has $n$ characters). "
   ]
  },
  {
   "cell_type": "code",
   "execution_count": 46,
   "metadata": {},
   "outputs": [
    {
     "name": "stdout",
     "output_type": "stream",
     "text": [
      "Python y thon Pyt th Pto yhn\n"
     ]
    }
   ],
   "source": [
    "a = 'Python'\n",
    "print a[:], a[1], a[2:], a[:3], a[2:4], a[::2], a[1::2]"
   ]
  },
  {
   "cell_type": "markdown",
   "metadata": {},
   "source": [
    "The most advanced string functiona are stored in an external module called ``string``"
   ]
  },
  {
   "cell_type": "code",
   "execution_count": 47,
   "metadata": {},
   "outputs": [
    {
     "name": "stdout",
     "output_type": "stream",
     "text": [
      "Help on module string:\n",
      "\n",
      "NAME\n",
      "    string - A collection of string operations (most are no longer used).\n",
      "\n",
      "FILE\n",
      "    /home/alourido/anaconda3/envs/py27/lib/python2.7/string.py\n",
      "\n",
      "MODULE DOCS\n",
      "    https://docs.python.org/library/string\n",
      "\n",
      "DESCRIPTION\n",
      "    Warning: most of the code you see here isn't normally used nowadays.\n",
      "    Beginning with Python 1.6, many of these functions are implemented as\n",
      "    methods on the standard string object. They used to be implemented by\n",
      "    a built-in module called strop, but strop is now obsolete itself.\n",
      "    \n",
      "    Public module variables:\n",
      "    \n",
      "    whitespace -- a string containing all characters considered whitespace\n",
      "    lowercase -- a string containing all characters considered lowercase letters\n",
      "    uppercase -- a string containing all characters considered uppercase letters\n",
      "    letters -- a string containing all characters considered letters\n",
      "    digits -- a string containing all characters considered decimal digits\n",
      "    hexdigits -- a string containing all characters considered hexadecimal digits\n",
      "    octdigits -- a string containing all characters considered octal digits\n",
      "    punctuation -- a string containing all characters considered punctuation\n",
      "    printable -- a string containing all characters considered printable\n",
      "\n",
      "CLASSES\n",
      "    __builtin__.object\n",
      "        Formatter\n",
      "        Template\n",
      "    \n",
      "    class Formatter(__builtin__.object)\n",
      "     |  Methods defined here:\n",
      "     |  \n",
      "     |  check_unused_args(self, used_args, args, kwargs)\n",
      "     |  \n",
      "     |  convert_field(self, value, conversion)\n",
      "     |  \n",
      "     |  format(*args, **kwargs)\n",
      "     |  \n",
      "     |  format_field(self, value, format_spec)\n",
      "     |  \n",
      "     |  get_field(self, field_name, args, kwargs)\n",
      "     |      # given a field_name, find the object it references.\n",
      "     |      #  field_name:   the field being looked up, e.g. \"0.name\"\n",
      "     |      #                 or \"lookup[3]\"\n",
      "     |      #  used_args:    a set of which args have been used\n",
      "     |      #  args, kwargs: as passed in to vformat\n",
      "     |  \n",
      "     |  get_value(self, key, args, kwargs)\n",
      "     |  \n",
      "     |  parse(self, format_string)\n",
      "     |      # returns an iterable that contains tuples of the form:\n",
      "     |      # (literal_text, field_name, format_spec, conversion)\n",
      "     |      # literal_text can be zero length\n",
      "     |      # field_name can be None, in which case there's no\n",
      "     |      #  object to format and output\n",
      "     |      # if field_name is not None, it is looked up, formatted\n",
      "     |      #  with format_spec and conversion and then used\n",
      "     |  \n",
      "     |  vformat(self, format_string, args, kwargs)\n",
      "     |  \n",
      "     |  ----------------------------------------------------------------------\n",
      "     |  Data descriptors defined here:\n",
      "     |  \n",
      "     |  __dict__\n",
      "     |      dictionary for instance variables (if defined)\n",
      "     |  \n",
      "     |  __weakref__\n",
      "     |      list of weak references to the object (if defined)\n",
      "    \n",
      "    class Template(__builtin__.object)\n",
      "     |  A string class for supporting $-substitutions.\n",
      "     |  \n",
      "     |  Methods defined here:\n",
      "     |  \n",
      "     |  __init__(self, template)\n",
      "     |  \n",
      "     |  safe_substitute(*args, **kws)\n",
      "     |  \n",
      "     |  substitute(*args, **kws)\n",
      "     |  \n",
      "     |  ----------------------------------------------------------------------\n",
      "     |  Data descriptors defined here:\n",
      "     |  \n",
      "     |  __dict__\n",
      "     |      dictionary for instance variables (if defined)\n",
      "     |  \n",
      "     |  __weakref__\n",
      "     |      list of weak references to the object (if defined)\n",
      "     |  \n",
      "     |  ----------------------------------------------------------------------\n",
      "     |  Data and other attributes defined here:\n",
      "     |  \n",
      "     |  __metaclass__ = <class 'string._TemplateMetaclass'>\n",
      "     |  \n",
      "     |  \n",
      "     |  delimiter = '$'\n",
      "     |  \n",
      "     |  idpattern = '[_a-z][_a-z0-9]*'\n",
      "     |  \n",
      "     |  pattern = <_sre.SRE_Pattern object>\n",
      "\n",
      "FUNCTIONS\n",
      "    atof(s)\n",
      "        atof(s) -> float\n",
      "        \n",
      "        Return the floating point number represented by the string s.\n",
      "    \n",
      "    atoi(s, base=10)\n",
      "        atoi(s [,base]) -> int\n",
      "        \n",
      "        Return the integer represented by the string s in the given\n",
      "        base, which defaults to 10.  The string s must consist of one\n",
      "        or more digits, possibly preceded by a sign.  If base is 0, it\n",
      "        is chosen from the leading characters of s, 0 for octal, 0x or\n",
      "        0X for hexadecimal.  If base is 16, a preceding 0x or 0X is\n",
      "        accepted.\n",
      "    \n",
      "    atol(s, base=10)\n",
      "        atol(s [,base]) -> long\n",
      "        \n",
      "        Return the long integer represented by the string s in the\n",
      "        given base, which defaults to 10.  The string s must consist\n",
      "        of one or more digits, possibly preceded by a sign.  If base\n",
      "        is 0, it is chosen from the leading characters of s, 0 for\n",
      "        octal, 0x or 0X for hexadecimal.  If base is 16, a preceding\n",
      "        0x or 0X is accepted.  A trailing L or l is not accepted,\n",
      "        unless base is 0.\n",
      "    \n",
      "    capitalize(s)\n",
      "        capitalize(s) -> string\n",
      "        \n",
      "        Return a copy of the string s with only its first character\n",
      "        capitalized.\n",
      "    \n",
      "    capwords(s, sep=None)\n",
      "        capwords(s [,sep]) -> string\n",
      "        \n",
      "        Split the argument into words using split, capitalize each\n",
      "        word using capitalize, and join the capitalized words using\n",
      "        join.  If the optional second argument sep is absent or None,\n",
      "        runs of whitespace characters are replaced by a single space\n",
      "        and leading and trailing whitespace are removed, otherwise\n",
      "        sep is used to split and join the words.\n",
      "    \n",
      "    center(s, width, *args)\n",
      "        center(s, width[, fillchar]) -> string\n",
      "        \n",
      "        Return a center version of s, in a field of the specified\n",
      "        width. padded with spaces as needed.  The string is never\n",
      "        truncated.  If specified the fillchar is used instead of spaces.\n",
      "    \n",
      "    count(s, *args)\n",
      "        count(s, sub[, start[,end]]) -> int\n",
      "        \n",
      "        Return the number of occurrences of substring sub in string\n",
      "        s[start:end].  Optional arguments start and end are\n",
      "        interpreted as in slice notation.\n",
      "    \n",
      "    expandtabs(s, tabsize=8)\n",
      "        expandtabs(s [,tabsize]) -> string\n",
      "        \n",
      "        Return a copy of the string s with all tab characters replaced\n",
      "        by the appropriate number of spaces, depending on the current\n",
      "        column, and the tabsize (default 8).\n",
      "    \n",
      "    find(s, *args)\n",
      "        find(s, sub [,start [,end]]) -> in\n",
      "        \n",
      "        Return the lowest index in s where substring sub is found,\n",
      "        such that sub is contained within s[start,end].  Optional\n",
      "        arguments start and end are interpreted as in slice notation.\n",
      "        \n",
      "        Return -1 on failure.\n",
      "    \n",
      "    index(s, *args)\n",
      "        index(s, sub [,start [,end]]) -> int\n",
      "        \n",
      "        Like find but raises ValueError when the substring is not found.\n",
      "    \n",
      "    join(words, sep=' ')\n",
      "        join(list [,sep]) -> string\n",
      "        \n",
      "        Return a string composed of the words in list, with\n",
      "        intervening occurrences of sep.  The default separator is a\n",
      "        single space.\n",
      "        \n",
      "        (joinfields and join are synonymous)\n",
      "    \n",
      "    joinfields = join(words, sep=' ')\n",
      "        join(list [,sep]) -> string\n",
      "        \n",
      "        Return a string composed of the words in list, with\n",
      "        intervening occurrences of sep.  The default separator is a\n",
      "        single space.\n",
      "        \n",
      "        (joinfields and join are synonymous)\n",
      "    \n",
      "    ljust(s, width, *args)\n",
      "        ljust(s, width[, fillchar]) -> string\n",
      "        \n",
      "        Return a left-justified version of s, in a field of the\n",
      "        specified width, padded with spaces as needed.  The string is\n",
      "        never truncated.  If specified the fillchar is used instead of spaces.\n",
      "    \n",
      "    lower(s)\n",
      "        lower(s) -> string\n",
      "        \n",
      "        Return a copy of the string s converted to lowercase.\n",
      "    \n",
      "    lstrip(s, chars=None)\n",
      "        lstrip(s [,chars]) -> string\n",
      "        \n",
      "        Return a copy of the string s with leading whitespace removed.\n",
      "        If chars is given and not None, remove characters in chars instead.\n",
      "    \n",
      "    maketrans(...)\n",
      "        maketrans(frm, to) -> string\n",
      "        \n",
      "        Return a translation table (a string of 256 bytes long)\n",
      "        suitable for use in string.translate.  The strings frm and to\n",
      "        must be of the same length.\n",
      "    \n",
      "    replace(s, old, new, maxreplace=-1)\n",
      "        replace (str, old, new[, maxreplace]) -> string\n",
      "        \n",
      "        Return a copy of string str with all occurrences of substring\n",
      "        old replaced by new. If the optional argument maxreplace is\n",
      "        given, only the first maxreplace occurrences are replaced.\n",
      "    \n",
      "    rfind(s, *args)\n",
      "        rfind(s, sub [,start [,end]]) -> int\n",
      "        \n",
      "        Return the highest index in s where substring sub is found,\n",
      "        such that sub is contained within s[start,end].  Optional\n",
      "        arguments start and end are interpreted as in slice notation.\n",
      "        \n",
      "        Return -1 on failure.\n",
      "    \n",
      "    rindex(s, *args)\n",
      "        rindex(s, sub [,start [,end]]) -> int\n",
      "        \n",
      "        Like rfind but raises ValueError when the substring is not found.\n",
      "    \n",
      "    rjust(s, width, *args)\n",
      "        rjust(s, width[, fillchar]) -> string\n",
      "        \n",
      "        Return a right-justified version of s, in a field of the\n",
      "        specified width, padded with spaces as needed.  The string is\n",
      "        never truncated.  If specified the fillchar is used instead of spaces.\n",
      "    \n",
      "    rsplit(s, sep=None, maxsplit=-1)\n",
      "        rsplit(s [,sep [,maxsplit]]) -> list of strings\n",
      "        \n",
      "        Return a list of the words in the string s, using sep as the\n",
      "        delimiter string, starting at the end of the string and working\n",
      "        to the front.  If maxsplit is given, at most maxsplit splits are\n",
      "        done. If sep is not specified or is None, any whitespace string\n",
      "        is a separator.\n",
      "    \n",
      "    rstrip(s, chars=None)\n",
      "        rstrip(s [,chars]) -> string\n",
      "        \n",
      "        Return a copy of the string s with trailing whitespace removed.\n",
      "        If chars is given and not None, remove characters in chars instead.\n",
      "    \n",
      "    split(s, sep=None, maxsplit=-1)\n",
      "        split(s [,sep [,maxsplit]]) -> list of strings\n",
      "        \n",
      "        Return a list of the words in the string s, using sep as the\n",
      "        delimiter string.  If maxsplit is given, splits at no more than\n",
      "        maxsplit places (resulting in at most maxsplit+1 words).  If sep\n",
      "        is not specified or is None, any whitespace string is a separator.\n",
      "        \n",
      "        (split and splitfields are synonymous)\n",
      "    \n",
      "    splitfields = split(s, sep=None, maxsplit=-1)\n",
      "        split(s [,sep [,maxsplit]]) -> list of strings\n",
      "        \n",
      "        Return a list of the words in the string s, using sep as the\n",
      "        delimiter string.  If maxsplit is given, splits at no more than\n",
      "        maxsplit places (resulting in at most maxsplit+1 words).  If sep\n",
      "        is not specified or is None, any whitespace string is a separator.\n",
      "        \n",
      "        (split and splitfields are synonymous)\n",
      "    \n",
      "    strip(s, chars=None)\n",
      "        strip(s [,chars]) -> string\n",
      "        \n",
      "        Return a copy of the string s with leading and trailing\n",
      "        whitespace removed.\n",
      "        If chars is given and not None, remove characters in chars instead.\n",
      "        If chars is unicode, S will be converted to unicode before stripping.\n",
      "    \n",
      "    swapcase(s)\n",
      "        swapcase(s) -> string\n",
      "        \n",
      "        Return a copy of the string s with upper case characters\n",
      "        converted to lowercase and vice versa.\n",
      "    \n",
      "    translate(s, table, deletions='')\n",
      "        translate(s,table [,deletions]) -> string\n",
      "        \n",
      "        Return a copy of the string s, where all characters occurring\n",
      "        in the optional argument deletions are removed, and the\n",
      "        remaining characters have been mapped through the given\n",
      "        translation table, which must be a string of length 256.  The\n",
      "        deletions argument is not allowed for Unicode strings.\n",
      "    \n",
      "    upper(s)\n",
      "        upper(s) -> string\n",
      "        \n",
      "        Return a copy of the string s converted to uppercase.\n",
      "    \n",
      "    zfill(x, width)\n",
      "        zfill(x, width) -> string\n",
      "        \n",
      "        Pad a numeric string x with zeros on the left, to fill a field\n",
      "        of the specified width.  The string x is never truncated.\n",
      "\n",
      "DATA\n",
      "    ascii_letters = 'abcdefghijklmnopqrstuvwxyzABCDEFGHIJKLMNOPQRSTUVWXYZ'\n",
      "    ascii_lowercase = 'abcdefghijklmnopqrstuvwxyz'\n",
      "    ascii_uppercase = 'ABCDEFGHIJKLMNOPQRSTUVWXYZ'\n",
      "    digits = '0123456789'\n",
      "    hexdigits = '0123456789abcdefABCDEF'\n",
      "    letters = 'ABCDEFGHIJKLMNOPQRSTUVWXYZabcdefghijklmnopqrstuvwxyz'\n",
      "    lowercase = 'abcdefghijklmnopqrstuvwxyz'\n",
      "    octdigits = '01234567'\n",
      "    printable = '0123456789abcdefghijklmnopqrstuvwxyzABCDEFGHIJKLMNOPQRSTU...\n",
      "    punctuation = '!\"#$%&\\'()*+,-./:;<=>?@[\\\\]^_`{|}~'\n",
      "    uppercase = 'ABCDEFGHIJKLMNOPQRSTUVWXYZ'\n",
      "    whitespace = '\\t\\n\\x0b\\x0c\\r '\n",
      "\n",
      "\n"
     ]
    }
   ],
   "source": [
    "import string as st\n",
    "help(st)"
   ]
  },
  {
   "cell_type": "code",
   "execution_count": 48,
   "metadata": {},
   "outputs": [
    {
     "data": {
      "text/plain": [
       "float"
      ]
     },
     "execution_count": 48,
     "metadata": {},
     "output_type": "execute_result"
    }
   ],
   "source": [
    "type(st.atof('10.3'))"
   ]
  },
  {
   "cell_type": "code",
   "execution_count": 49,
   "metadata": {},
   "outputs": [],
   "source": [
    "a = 'a'"
   ]
  },
  {
   "cell_type": "code",
   "execution_count": 50,
   "metadata": {},
   "outputs": [
    {
     "ename": "SyntaxError",
     "evalue": "invalid syntax (<ipython-input-50-745ade49529d>, line 2)",
     "output_type": "error",
     "traceback": [
      "\u001b[0;36m  File \u001b[0;32m\"<ipython-input-50-745ade49529d>\"\u001b[0;36m, line \u001b[0;32m2\u001b[0m\n\u001b[0;31m    a.\u001b[0m\n\u001b[0m      ^\u001b[0m\n\u001b[0;31mSyntaxError\u001b[0m\u001b[0;31m:\u001b[0m invalid syntax\n"
     ]
    }
   ],
   "source": [
    "# press tab\n",
    "a."
   ]
  },
  {
   "cell_type": "code",
   "execution_count": 51,
   "metadata": {},
   "outputs": [
    {
     "name": "stdout",
     "output_type": "stream",
     "text": [
      "hello\n"
     ]
    }
   ],
   "source": [
    "a='Hello'\n",
    "b = a.lower()\n",
    "print b"
   ]
  },
  {
   "cell_type": "code",
   "execution_count": 52,
   "metadata": {},
   "outputs": [
    {
     "name": "stdout",
     "output_type": "stream",
     "text": [
      "abcdefghijklmnopqrstuvwxyzABCDEFGHIJKLMNOPQRSTUVWXYZ\n"
     ]
    },
    {
     "data": {
      "text/plain": [
       "True"
      ]
     },
     "execution_count": 52,
     "metadata": {},
     "output_type": "execute_result"
    }
   ],
   "source": [
    "print st.ascii_letters\n",
    "'a' in st.ascii_letters"
   ]
  },
  {
   "cell_type": "markdown",
   "metadata": {},
   "source": [
    "### Lists\n",
    "\n",
    "Lists are a built-in data type which require other data types to be useful. A list is a collection of other objects – floats, integers, complex numbers, strings or even other lists.\n",
    "\n",
    "Lists also support slicing to retrieve one or more elements. Basic lists are constructed using square braces, ``[]``, and values are separated using\n",
    "commas."
   ]
  },
  {
   "cell_type": "code",
   "execution_count": 53,
   "metadata": {},
   "outputs": [
    {
     "data": {
      "text/plain": [
       "list"
      ]
     },
     "execution_count": 53,
     "metadata": {},
     "output_type": "execute_result"
    }
   ],
   "source": [
    "l=[]\n",
    "type(l)"
   ]
  },
  {
   "cell_type": "code",
   "execution_count": 54,
   "metadata": {},
   "outputs": [
    {
     "name": "stdout",
     "output_type": "stream",
     "text": [
      "[[1, 2, 3, 4], 'jordi'] 1 jordi\n"
     ]
    }
   ],
   "source": [
    "x=[1,2,3,4,[1,2,3,4],'jordi']\n",
    "print x[4:], x[0], x[5]"
   ]
  },
  {
   "cell_type": "code",
   "execution_count": 55,
   "metadata": {},
   "outputs": [
    {
     "data": {
      "text/plain": [
       "[[1, 2, 3, 4], 'jordi']"
      ]
     },
     "execution_count": 55,
     "metadata": {},
     "output_type": "execute_result"
    }
   ],
   "source": [
    "x[-2:]  # The stride can also be negative which can be used to select the\n",
    "        # elements of a list in reverse order."
   ]
  },
  {
   "cell_type": "markdown",
   "metadata": {},
   "source": [
    "Lists can be multidimensional and slicing can be done directly in higher dimensions:"
   ]
  },
  {
   "cell_type": "code",
   "execution_count": 56,
   "metadata": {},
   "outputs": [
    {
     "name": "stdout",
     "output_type": "stream",
     "text": [
      "[1, 2, 3, 4] 1\n"
     ]
    }
   ],
   "source": [
    "x = [[1,2,3,4], [5,6,7,8]]\n",
    "print x[0], x[0][0]"
   ]
  },
  {
   "cell_type": "markdown",
   "metadata": {},
   "source": [
    "### Help: Python Tutorial"
   ]
  },
  {
   "cell_type": "code",
   "execution_count": 57,
   "metadata": {},
   "outputs": [
    {
     "data": {
      "text/html": [
       "<iframe src=http://docs.python.org/3/tutorial/index.html?useformat=mobile width=780 height=350></iframe>"
      ],
      "text/plain": [
       "<IPython.core.display.HTML object>"
      ]
     },
     "execution_count": 57,
     "metadata": {},
     "output_type": "execute_result"
    }
   ],
   "source": [
    "from IPython.display import HTML\n",
    "HTML('<iframe src=http://docs.python.org/3/tutorial/index.html?useformat=mobile width=780 height=350></iframe>')"
   ]
  },
  {
   "cell_type": "markdown",
   "metadata": {},
   "source": [
    "### Conditionals\n",
    "\n",
    "The conditional structure in Python is <code>if</code>. It is usally combined with \n",
    "relational operators: <code> <, <=, ==, >=, >, != </code>."
   ]
  },
  {
   "cell_type": "code",
   "execution_count": 58,
   "metadata": {},
   "outputs": [
    {
     "name": "stdout",
     "output_type": "stream",
     "text": [
      "The temperature in Fahrenheit is 95.0\n",
      "It's really hot out there.\n"
     ]
    }
   ],
   "source": [
    "def main(celsius):\n",
    "    fahrenheit = 9.0 /5.0 * celsius + 32\n",
    "    print \"The temperature in Fahrenheit is\", fahrenheit\n",
    "    if fahrenheit > 90:\n",
    "        print \"It's really hot out there.\"\n",
    "    elif fahrenheit < 30:\n",
    "        print \"It's really cold out there.\"\n",
    "    else: pass\n",
    "        \n",
    "main(35)"
   ]
  },
  {
   "cell_type": "markdown",
   "metadata": {},
   "source": [
    "``If`` statesments can be combined with loops (``for``, ``while``):"
   ]
  },
  {
   "cell_type": "code",
   "execution_count": 59,
   "metadata": {},
   "outputs": [
    {
     "name": "stdout",
     "output_type": "stream",
     "text": [
      "20\n"
     ]
    }
   ],
   "source": [
    "numbers = [-5, 3,2,-1,9,6]\n",
    "total = 0\n",
    "for n in numbers:\n",
    "    if n >= 0:\n",
    "        total += n\n",
    "print total"
   ]
  },
  {
   "cell_type": "code",
   "execution_count": 60,
   "metadata": {},
   "outputs": [
    {
     "data": {
      "text/plain": [
       "2.5"
      ]
     },
     "execution_count": 60,
     "metadata": {},
     "output_type": "execute_result"
    }
   ],
   "source": [
    "def average(a):\n",
    "    sum = 0.0\n",
    "    for i in a:\n",
    "        sum = sum + i\n",
    "    return sum/len(a)\n",
    "\n",
    "average([1,2,3,4])"
   ]
  },
  {
   "cell_type": "code",
   "execution_count": 61,
   "metadata": {},
   "outputs": [
    {
     "name": "stdout",
     "output_type": "stream",
     "text": [
      "4 0\n"
     ]
    }
   ],
   "source": [
    "def sumdif(x,y):\n",
    "    sum, dif = x+y, x-y\n",
    "    return sum, dif\n",
    "\n",
    "a, b = sumdif(2,2)\n",
    "print a, b"
   ]
  },
  {
   "cell_type": "code",
   "execution_count": 62,
   "metadata": {},
   "outputs": [
    {
     "data": {
      "text/plain": [
       "3"
      ]
     },
     "execution_count": 62,
     "metadata": {},
     "output_type": "execute_result"
    }
   ],
   "source": [
    "def main(n):\n",
    "    cont = 0\n",
    "    while (int(n) > 0):\n",
    "        cont += 1\n",
    "        n = n/2\n",
    "#        print n\n",
    "    return cont-1\n",
    "\n",
    "main(10)\n",
    "# main(10.3)"
   ]
  },
  {
   "cell_type": "markdown",
   "metadata": {},
   "source": [
    "### EXERCISE\n",
    "\n",
    "Analogous function to the previous one, but for product and division"
   ]
  },
  {
   "cell_type": "code",
   "execution_count": 69,
   "metadata": {},
   "outputs": [
    {
     "name": "stdout",
     "output_type": "stream",
     "text": [
      "('Product:', 12)\n",
      "('Division:', 3)\n",
      "('Product:', 0)\n",
      "('Division:', 'Undefined (division by zero)')\n"
     ]
    }
   ],
   "source": [
    "def productdiv(x, y):\n",
    "    product = x * y\n",
    "    if y != 0:\n",
    "        division = x / y\n",
    "    else:\n",
    "        division = \"Undefined (division by zero)\"\n",
    "    return product, division\n",
    "\n",
    "a, b = productdiv(6, 2)\n",
    "print(\"Product:\", a)\n",
    "print(\"Division:\", b)\n",
    "\n",
    "c, d = productdiv(8, 0)\n",
    "print(\"Product:\", c)\n",
    "print(\"Division:\", d)"
   ]
  },
  {
   "cell_type": "markdown",
   "metadata": {},
   "source": [
    "### Boolean operators."
   ]
  },
  {
   "cell_type": "code",
   "execution_count": 70,
   "metadata": {},
   "outputs": [
    {
     "data": {
      "text/plain": [
       "True"
      ]
     },
     "execution_count": 70,
     "metadata": {},
     "output_type": "execute_result"
    }
   ],
   "source": [
    "a = 4\n",
    "b = 40\n",
    "(a>2) and (b>30)"
   ]
  },
  {
   "cell_type": "code",
   "execution_count": 71,
   "metadata": {},
   "outputs": [
    {
     "data": {
      "text/plain": [
       "True"
      ]
     },
     "execution_count": 71,
     "metadata": {},
     "output_type": "execute_result"
    }
   ],
   "source": [
    "(a>2) or (b>100)"
   ]
  },
  {
   "cell_type": "code",
   "execution_count": 72,
   "metadata": {},
   "outputs": [
    {
     "data": {
      "text/plain": [
       "False"
      ]
     },
     "execution_count": 72,
     "metadata": {},
     "output_type": "execute_result"
    }
   ],
   "source": [
    "not(a>2)"
   ]
  },
  {
   "cell_type": "markdown",
   "metadata": {},
   "source": [
    "### Data Collections\n",
    "\n",
    "We need to represent data collections: words in a text, students in a course, experimental data, etc., or to store intermediate results. The most simple data collection is the <code>list</code> (an ordered sequence of objects):"
   ]
  },
  {
   "cell_type": "code",
   "execution_count": 73,
   "metadata": {},
   "outputs": [
    {
     "data": {
      "text/plain": [
       "[0, 1, 2, 3, 4, 5, 6, 7, 8, 9]"
      ]
     },
     "execution_count": 73,
     "metadata": {},
     "output_type": "execute_result"
    }
   ],
   "source": [
    "range(10)"
   ]
  },
  {
   "cell_type": "code",
   "execution_count": 74,
   "metadata": {},
   "outputs": [
    {
     "name": "stdout",
     "output_type": "stream",
     "text": [
      "['This', 'is', 'an', 'example']\n"
     ]
    }
   ],
   "source": [
    "import string\n",
    "b = string.split(\"This is an example\")\n",
    "print b"
   ]
  },
  {
   "cell_type": "markdown",
   "metadata": {},
   "source": [
    "Lists are *mutable, dynamic and non-homogeneous* objects:"
   ]
  },
  {
   "cell_type": "code",
   "execution_count": 75,
   "metadata": {},
   "outputs": [
    {
     "name": "stdout",
     "output_type": "stream",
     "text": [
      "[1, 1, 3, 4]\n"
     ]
    }
   ],
   "source": [
    "a = [1,2,3,4]\n",
    "a[1] = 1\n",
    "print a"
   ]
  },
  {
   "cell_type": "code",
   "execution_count": 76,
   "metadata": {},
   "outputs": [
    {
     "name": "stdout",
     "output_type": "stream",
     "text": [
      "[1, 1, 3, 4, 'This', 'is', 'an', 'example']\n"
     ]
    }
   ],
   "source": [
    "c = a + b\n",
    "print c"
   ]
  },
  {
   "cell_type": "code",
   "execution_count": 77,
   "metadata": {},
   "outputs": [
    {
     "name": "stdout",
     "output_type": "stream",
     "text": [
      "[0, 0, 0, 0, 0]\n"
     ]
    }
   ],
   "source": [
    "zeroes = [0] * 10\n",
    "del zeroes[5:]\n",
    "print zeroes"
   ]
  },
  {
   "cell_type": "code",
   "execution_count": 78,
   "metadata": {},
   "outputs": [
    {
     "name": "stdout",
     "output_type": "stream",
     "text": [
      "[0, 0, 0, 0, 0, 1]\n"
     ]
    }
   ],
   "source": [
    "zeroes.append(1)\n",
    "print zeroes"
   ]
  },
  {
   "cell_type": "code",
   "execution_count": 79,
   "metadata": {},
   "outputs": [
    {
     "name": "stdout",
     "output_type": "stream",
     "text": [
      "[0, 0, 0, 0, 0]\n"
     ]
    }
   ],
   "source": [
    "zeroes.remove(1)\n",
    "print zeroes"
   ]
  },
  {
   "cell_type": "code",
   "execution_count": 80,
   "metadata": {},
   "outputs": [
    {
     "name": "stdout",
     "output_type": "stream",
     "text": [
      "True\n"
     ]
    }
   ],
   "source": [
    "if 1 in zeroes:\n",
    "    print False\n",
    "else: \n",
    "    print True"
   ]
  },
  {
   "cell_type": "markdown",
   "metadata": {},
   "source": [
    "#### References\n",
    "\n",
    "We can inspect the reference of an object:"
   ]
  },
  {
   "cell_type": "code",
   "execution_count": 81,
   "metadata": {},
   "outputs": [
    {
     "name": "stdout",
     "output_type": "stream",
     "text": [
      "140604032457872\n"
     ]
    }
   ],
   "source": [
    "a ='hello'\n",
    "print id(a)"
   ]
  },
  {
   "cell_type": "markdown",
   "metadata": {},
   "source": [
    "Two different objects:"
   ]
  },
  {
   "cell_type": "code",
   "execution_count": 82,
   "metadata": {},
   "outputs": [
    {
     "name": "stdout",
     "output_type": "stream",
     "text": [
      "140604041710720 140604032174272\n"
     ]
    }
   ],
   "source": [
    "a = [1,2,3]\n",
    "b = [1,2,3]\n",
    "print id(a), id(b)"
   ]
  },
  {
   "cell_type": "markdown",
   "metadata": {},
   "source": [
    "Object alias:"
   ]
  },
  {
   "cell_type": "code",
   "execution_count": 83,
   "metadata": {},
   "outputs": [
    {
     "name": "stdout",
     "output_type": "stream",
     "text": [
      "140604041734416 140604041734416\n"
     ]
    }
   ],
   "source": [
    "a = [1,2,3]\n",
    "b = a                     # alias\n",
    "print id(a), id(b)"
   ]
  },
  {
   "cell_type": "markdown",
   "metadata": {},
   "source": [
    "Cloning:"
   ]
  },
  {
   "cell_type": "code",
   "execution_count": 84,
   "metadata": {},
   "outputs": [
    {
     "name": "stdout",
     "output_type": "stream",
     "text": [
      "[1, 2, 3] [1, 2, 3] [2, 3] 140604032282448 140604032174272 140604041735136\n"
     ]
    }
   ],
   "source": [
    "a = [1,2,3]\n",
    "b = a[:]                  # cloning with :\n",
    "\n",
    "print a, b, b[1:], id(a), id(b), id(b[1:])"
   ]
  },
  {
   "cell_type": "markdown",
   "metadata": {},
   "source": [
    "When a list is an argument of a function, we are sending the *reference*, not a *copy*"
   ]
  },
  {
   "cell_type": "code",
   "execution_count": 85,
   "metadata": {},
   "outputs": [
    {
     "name": "stdout",
     "output_type": "stream",
     "text": [
      "1 [1, 2, 3, 4]\n"
     ]
    }
   ],
   "source": [
    "def head(list):\n",
    "    return list[0]\n",
    "\n",
    "numbers=[1,2,3,4]\n",
    "print head(numbers), numbers"
   ]
  },
  {
   "cell_type": "code",
   "execution_count": 86,
   "metadata": {},
   "outputs": [
    {
     "name": "stdout",
     "output_type": "stream",
     "text": [
      "[0, 2, 3, 4]\n"
     ]
    }
   ],
   "source": [
    "def change_first_element(list):\n",
    "    list[0]=0\n",
    "    \n",
    "numbers=[1,2,3,4]\n",
    "change_first_element(numbers)\n",
    "print numbers"
   ]
  },
  {
   "cell_type": "markdown",
   "metadata": {},
   "source": [
    "If we return a list we are returning a reference:"
   ]
  },
  {
   "cell_type": "code",
   "execution_count": 87,
   "metadata": {},
   "outputs": [
    {
     "name": "stdout",
     "output_type": "stream",
     "text": [
      "[2, 3, 4] [1, 2, 3, 4]\n",
      "140604029699888 140604041657472\n"
     ]
    }
   ],
   "source": [
    "def tail(list):\n",
    "    return list[1:]     # we are creating a new list\n",
    "\n",
    "numbers=[1,2,3,4]\n",
    "rest = tail(numbers)\n",
    "print rest, numbers\n",
    "print id(rest), id(numbers)"
   ]
  },
  {
   "cell_type": "code",
   "execution_count": 88,
   "metadata": {},
   "outputs": [
    {
     "ename": "SyntaxError",
     "evalue": "invalid syntax (<ipython-input-88-cfb12d0780d8>, line 2)",
     "output_type": "error",
     "traceback": [
      "\u001b[0;36m  File \u001b[0;32m\"<ipython-input-88-cfb12d0780d8>\"\u001b[0;36m, line \u001b[0;32m2\u001b[0m\n\u001b[0;31m    numbers.\u001b[0m\n\u001b[0m            ^\u001b[0m\n\u001b[0;31mSyntaxError\u001b[0m\u001b[0;31m:\u001b[0m invalid syntax\n"
     ]
    }
   ],
   "source": [
    "# Press tab\n",
    "numbers."
   ]
  },
  {
   "cell_type": "markdown",
   "metadata": {},
   "source": [
    "Sometimes it is important to perform a *sanity check* about what is doing a pre-defined function:"
   ]
  },
  {
   "cell_type": "code",
   "execution_count": 89,
   "metadata": {},
   "outputs": [
    {
     "name": "stdout",
     "output_type": "stream",
     "text": [
      "[4, 3, 2, 1] None [1, 2, 3, 4]\n"
     ]
    }
   ],
   "source": [
    "numbers=[1,2,3,4]\n",
    "def test(l):\n",
    "    return l.reverse()\n",
    "\n",
    "test(numbers)\n",
    "print numbers, numbers.reverse(), numbers"
   ]
  },
  {
   "cell_type": "markdown",
   "metadata": {},
   "source": [
    "### Dictionaries\n",
    "\n",
    "A dictionary is a collection that allows the access of an *element* by using a *key*:"
   ]
  },
  {
   "cell_type": "code",
   "execution_count": 90,
   "metadata": {},
   "outputs": [
    {
     "data": {
      "text/plain": [
       "'D'"
      ]
     },
     "execution_count": 90,
     "metadata": {},
     "output_type": "execute_result"
    }
   ],
   "source": [
    "dict = {\"d\": \"D\", \"b\":\"B\", \"c\":\"C\"}\n",
    "dict[\"d\"]"
   ]
  },
  {
   "cell_type": "markdown",
   "metadata": {},
   "source": [
    "Dictionaries are **mutable** and **unordered**:"
   ]
  },
  {
   "cell_type": "code",
   "execution_count": 91,
   "metadata": {},
   "outputs": [
    {
     "data": {
      "text/plain": [
       "{'a': 'A', 'b': 'B', 'c': 'C', 'd': 'D'}"
      ]
     },
     "execution_count": 91,
     "metadata": {},
     "output_type": "execute_result"
    }
   ],
   "source": [
    "dict[\"a\"]=\"A\"\n",
    "dict"
   ]
  },
  {
   "cell_type": "code",
   "execution_count": 92,
   "metadata": {},
   "outputs": [
    {
     "data": {
      "text/plain": [
       "True"
      ]
     },
     "execution_count": 92,
     "metadata": {},
     "output_type": "execute_result"
    }
   ],
   "source": [
    "dict.has_key(\"a\")"
   ]
  },
  {
   "cell_type": "code",
   "execution_count": 93,
   "metadata": {},
   "outputs": [
    {
     "name": "stdout",
     "output_type": "stream",
     "text": [
      "{'c': 'C', 'b': 'B', 'd': 'D'}\n"
     ]
    }
   ],
   "source": [
    "del dict[\"a\"]\n",
    "print dict"
   ]
  },
  {
   "cell_type": "code",
   "execution_count": 94,
   "metadata": {},
   "outputs": [
    {
     "data": {
      "text/plain": [
       "[('c', 'C'), ('b', 'B'), ('d', 'D')]"
      ]
     },
     "execution_count": 94,
     "metadata": {},
     "output_type": "execute_result"
    }
   ],
   "source": [
    "dict = {\"d\": \"D\", \"b\":\"B\", \"c\":\"C\"}\n",
    "dict.items()"
   ]
  },
  {
   "cell_type": "markdown",
   "metadata": {},
   "source": [
    "### Tuples\n",
    "\n",
    "Tuples are **non-mutable** lists:"
   ]
  },
  {
   "cell_type": "code",
   "execution_count": 95,
   "metadata": {},
   "outputs": [
    {
     "name": "stdout",
     "output_type": "stream",
     "text": [
      "<type 'tuple'> ('b', 'c')\n"
     ]
    }
   ],
   "source": [
    "tup = ('a', 'b', 'c')\n",
    "print type(tup), tup[1:3]"
   ]
  },
  {
   "cell_type": "code",
   "execution_count": 96,
   "metadata": {},
   "outputs": [
    {
     "ename": "TypeError",
     "evalue": "'tuple' object does not support item assignment",
     "output_type": "error",
     "traceback": [
      "\u001b[0;31m---------------------------------------------------------------------------\u001b[0m",
      "\u001b[0;31mTypeError\u001b[0m                                 Traceback (most recent call last)",
      "\u001b[0;32m<ipython-input-96-e43c22bd0fba>\u001b[0m in \u001b[0;36m<module>\u001b[0;34m()\u001b[0m\n\u001b[0;32m----> 1\u001b[0;31m \u001b[0mtup\u001b[0m\u001b[0;34m[\u001b[0m\u001b[0;36m0\u001b[0m\u001b[0;34m]\u001b[0m\u001b[0;34m=\u001b[0m\u001b[0;34m'd'\u001b[0m\u001b[0;34m\u001b[0m\u001b[0m\n\u001b[0m",
      "\u001b[0;31mTypeError\u001b[0m: 'tuple' object does not support item assignment"
     ]
    }
   ],
   "source": [
    "tup[0]='d'"
   ]
  },
  {
   "cell_type": "markdown",
   "metadata": {},
   "source": [
    "**Example**: How to compute the statistics of words in a document."
   ]
  },
  {
   "cell_type": "code",
   "execution_count": 97,
   "metadata": {},
   "outputs": [
    {
     "name": "stdout",
     "output_type": "stream",
     "text": [
      "BORGES....... El último poema\r\n",
      "\r\n",
      "Si pudiera vivir nuevamente mi vida,\n",
      "en la próxima trataría de cometer más errores.\n",
      "No intentaría ser tan perfecto, me relajaría más.\n",
      "Sería más tonto de lo que he sido, de hecho\n",
      "tomaría muy pocas cosas con seriedad.\n",
      "Sería menos higiénico.\n",
      "Correría más riesgos, haría más viajes,\n",
      "contemplaría más atardeceres, subiría más montañas, nadaría más ríos.\n",
      "Iría a más lugares adonde nunca he ido,\n",
      "Comería más helados y menos habas,\n",
      "tendría más problemas reales\n",
      "y menos imaginarios\n",
      "\n",
      "Yo fui una de esas personas que vivió sensata y prolíficamente cada minuto de su vida;\n",
      "claro que tuve momentos de alegría.\n",
      "Pero si pudiera volver atrás trataría de tener\n",
      "solamente buenos momentos.\n",
      "\n",
      "Por si no lo saben, de eso está hecha la vida, sólo de momentos;\n",
      "no te pierdas el ahora.\n",
      "Yo era uno de esos que nunca iba a ninguna parte sin un termómetro, una bolsa de agua caliente, un paraguas y un paracaídas;\n",
      "Si pudiera volver a vivir comenzaría a andar descalzo a principios de la primavera\n",
      "y seguiría así hasta concluir el otoño.\n",
      "Y jugaría con más niños, si tuviera otra vez la vida por delante.\n",
      "pero ya ven, tengo 85 años y sé que me estoy muriendo\n",
      "\n",
      "Jorge Luis Borge\n"
     ]
    }
   ],
   "source": [
    "# We can read a file in a list of line strings or as a string\n",
    "# -*- coding: latin-1 -*-\n",
    "\n",
    "text = open(\"files/text.txt\",'r').readlines()\n",
    "for l in text:\n",
    "    print l[:-1]  # The last character is a 'new line'"
   ]
  },
  {
   "cell_type": "code",
   "execution_count": 98,
   "metadata": {},
   "outputs": [
    {
     "name": "stdout",
     "output_type": "stream",
     "text": [
      "termómetro  1 | tener  1 | comería  1 | uno  1 | estoy  1 | sé  1 | relajaría  1 | otra  1 | personas  1 | ven  1 | te  1 | atardeceres  1 | sensata  1 | buenos  1 | ya  1 | agua  1 | helados  1 | perfecto  1 | contemplaría  1 | bolsa  1 | cosas  1 | ninguna  1 | sido  1 | en  1 | ser  1 | cometer  1 | pocas  1 | atrás  1 | está  1 | prolíficamente  1 | último  1 | 85  1 | nuevamente  1 | muy  1 | errores  1 | así  1 | riesgos  1 | eso  1 | higiénico  1 | poema  1 | descalzo  1 | subiría  1 | problemas  1 | luis  1 | pierdas  1 | vivió  1 | años  1 | ahora  1 | otoño  1 | concluir  1 | comenzaría  1 | claro  1 | paracaídas  1 | vez  1 | nadaría  1 | andar  1 | cada  1 | tonto  1 | principios  1 | seguiría  1 | viajes  1 | esos  1 | esas  1 | solamente  1 | lugares  1 | reales  1 | seriedad  1 | saben  1 | intentaría  1 | primavera  1 | iba  1 | mi  1 | tengo  1 | era  1 | habas  1 | tuviera  1 | ríos  1 | fui  1 | tendría  1 | iría  1 | adonde  1 | paraguas  1 | tan  1 | muriendo  1 | alegría  1 | parte  1 | jugaría  1 | hecho  1 | hecha  1 | sin  1 | tuve  1 | correría  1 | imaginarios  1 | jorge  1 | delante  1 | niños  1 | próxima  1 | haría  1 | sólo  1 | su  1 | hasta  1 | caliente  1 | tomaría  1 | minuto  1 | ido  1 | montañas  1 | borges  2 | lo  2 | yo  2 | volver  2 | trataría  2 | nunca  2 | sería  2 | una  2 | con  2 | por  2 | pero  2 | vivir  2 | he  2 | me  2 | menos  3 | el  3 | momentos  3 | pudiera  3 | un  3 | no  3 | la  4 | vida  4 | que  5 | si  5 | a   5 | y   7 | de 12 | más 12 |\n"
     ]
    }
   ],
   "source": [
    "import string\n",
    "\n",
    "def compare((w1,c1),(w2,c2)):\n",
    "# A sorting funtion returns negative if x<y, zero if x==y, positive if x>y.\n",
    "    if c1 < c2:\n",
    "        return -1\n",
    "    elif c1 == c2:\n",
    "        return 0\n",
    "    else:\n",
    "        return 1\n",
    "    \n",
    "def main():\n",
    "    \n",
    "# We read the file in a string\n",
    "    text = open(\"files/text.txt\",'r').read()\n",
    "    text = string.lower(text)\n",
    "    for ch in '!\"#$%&/()=?¿^*`+¨[]{}-:;,.':\n",
    "        text = string.replace(text, ch, ' ')\n",
    "# We build a list with all words (blank separation)\n",
    "    words = string.split(text)\n",
    "\n",
    "# We use a dictionary for counting words\n",
    "    counts = {}\n",
    "    for w in words:\n",
    "        try:\n",
    "            counts[w] = counts[w] + 1\n",
    "        except KeyError:\n",
    "            counts[w] = 1\n",
    "            \n",
    "# We create a sorted list\n",
    "    items = counts.items()\n",
    "    items.sort(compare)\n",
    "    \n",
    "# We print the list\n",
    "    for i in range(len(items)):\n",
    "        print \"%-2s%3d\" % items[i],'|' ,\n",
    "\n",
    "main()    "
   ]
  },
  {
   "cell_type": "markdown",
   "metadata": {},
   "source": [
    "### Lists (and dictionary) comprehensions\n",
    "\n",
    "Lists comprehensions are a way to fit a ``for`` loop, an ``if`` statement, and an assignment all in one line.\n",
    "\n",
    "A list comprehension consists of the following parts:\n",
    "\n",
    "+ An input sequence.\n",
    "+ A variable representing members of the input sequence.\n",
    "+ An optional expression.\n",
    "+ An output expression producing elements of the output list from members of the input sequence that satisfy the predicate."
   ]
  },
  {
   "cell_type": "code",
   "execution_count": 99,
   "metadata": {},
   "outputs": [
    {
     "name": "stdout",
     "output_type": "stream",
     "text": [
      "<type 'list'> [1, 16, 100, 4, 9]\n"
     ]
    }
   ],
   "source": [
    "num = [1, 4, -5, 10, -7, 2, 3, -1]\n",
    "squared = [ x**2 for x in num if x > 0]\n",
    "print type(squared), squared"
   ]
  },
  {
   "cell_type": "markdown",
   "metadata": {},
   "source": [
    "> There is a downside to list comprehensions: the entire list has to be stored in memory at once. This isn’t a problem for small lists like the ones in the above examples, or even of lists several orders of magnitude larger. But we can use **<font color=\"red\">generators</font>** to solve this problem."
   ]
  },
  {
   "cell_type": "markdown",
   "metadata": {},
   "source": [
    "Generator expressions do not load the whole list into memory at once, but instead create a *generator object* so only one list element has to be loaded at any time.\n",
    "\n",
    "Generator expressions have the same syntax as list comprehensions, but with parentheses around the outside instead of brackets:"
   ]
  },
  {
   "cell_type": "code",
   "execution_count": 100,
   "metadata": {},
   "outputs": [
    {
     "name": "stdout",
     "output_type": "stream",
     "text": [
      "<type 'generator'> <generator object <genexpr> at 0x7fe0ed3f3f50>\n"
     ]
    }
   ],
   "source": [
    "num = [1, 4, -5, 10, -7, 2, 3, -1]\n",
    "squared = ( x**2 for x in num if x > 0 )\n",
    "print type(squared), squared"
   ]
  },
  {
   "cell_type": "markdown",
   "metadata": {},
   "source": [
    "The elements of the generator must be accessed by an iterator because they are generated when needed:"
   ]
  },
  {
   "cell_type": "code",
   "execution_count": 101,
   "metadata": {},
   "outputs": [
    {
     "name": "stdout",
     "output_type": "stream",
     "text": [
      "[1, 16, 100, 4, 9]\n"
     ]
    }
   ],
   "source": [
    "lis = []\n",
    "for item in squared:\n",
    "    lis = lis + [item]\n",
    "print lis"
   ]
  },
  {
   "cell_type": "markdown",
   "metadata": {},
   "source": [
    "We can define our own generators with the ``yield`` statesment. For example, let's build a generator for the binary representation of a number between 0 and 1 with arbitrary precision."
   ]
  },
  {
   "cell_type": "code",
   "execution_count": 102,
   "metadata": {},
   "outputs": [
    {
     "name": "stdout",
     "output_type": "stream",
     "text": [
      ".0101010101\n"
     ]
    }
   ],
   "source": [
    "# binary representation of a number between 0 and 1 (b bits precision).\n",
    "\n",
    "def res(n,b):\n",
    "    bin_a = '.'\n",
    "    for i in range(b):\n",
    "        n *= 2\n",
    "        bin_a +=  str(int(n))\n",
    "        n = n % 1\n",
    "    return bin_a\n",
    "\n",
    "print res(1/3.0,10)"
   ]
  },
  {
   "cell_type": "code",
   "execution_count": 103,
   "metadata": {},
   "outputs": [
    {
     "name": "stdout",
     "output_type": "stream",
     "text": [
      ".01010101010101010101010101010101010101010101010101\n"
     ]
    }
   ],
   "source": [
    "# binary representation of a number between 0 and 1 (precision as needed).\n",
    "\n",
    "def binRep(n):\n",
    "    while True:\n",
    "        n *= 2\n",
    "        yield int(n)\n",
    "        n = n % 1\n",
    "\n",
    "a = binRep(1/3.) \n",
    "a_bin = '.'\n",
    "for i in range(50):\n",
    "    a_bin +=  str(a.next())\n",
    "    \n",
    "print a_bin"
   ]
  },
  {
   "cell_type": "markdown",
   "metadata": {},
   "source": [
    "### Objects\n",
    "\n",
    "You can define your own classes and objects."
   ]
  },
  {
   "cell_type": "code",
   "execution_count": 104,
   "metadata": {},
   "outputs": [],
   "source": [
    "#creating a class\n",
    "\n",
    "class Rectangle:\n",
    "    def __init__(self,x,y):\n",
    "        self.x = x\n",
    "        self.y = y\n",
    "    description = \"This shape has not been described yet\"\n",
    "    author = \"Nobody has claimed to make this shape yet\"\n",
    "    def area(self):\n",
    "        return self.x * self.y\n",
    "    def perimeter(self):\n",
    "        return 2 * self.x + 2 * self.y\n",
    "    def describe(self,text):\n",
    "        self.description = text\n",
    "    def authorName(self,text):\n",
    "        self.author = text\n",
    "    def scaleSize(self,scale):\n",
    "        self.x = self.x * scale\n",
    "        self.y = self.y * scale\n",
    "\n",
    "#creating objects\n",
    "a = Rectangle(100, 45)\n",
    "b = Rectangle(10,230)\n",
    "\n",
    "#describing the rectangles\n",
    "a.describe(\"A fat rectangle\")\n",
    "b.describe(\"A thin rectangle\")"
   ]
  },
  {
   "cell_type": "code",
   "execution_count": 105,
   "metadata": {},
   "outputs": [
    {
     "name": "stdout",
     "output_type": "stream",
     "text": [
      "4500\n",
      "290\n",
      "A fat rectangle\n",
      "Nobody has claimed to make this shape yet\n"
     ]
    }
   ],
   "source": [
    "#finding the area of your rectangle:\n",
    "print a.area()\n",
    " \n",
    "#finding the perimeter of your rectangle:\n",
    "print a.perimeter()\n",
    "\n",
    "#getting the description\n",
    "print a.description\n",
    "print a.author"
   ]
  },
  {
   "cell_type": "code",
   "execution_count": 106,
   "metadata": {},
   "outputs": [
    {
     "name": "stdout",
     "output_type": "stream",
     "text": [
      "2300\n",
      "A thin rectangle\n",
      "575.0\n",
      "A small thin rectangle\n"
     ]
    }
   ],
   "source": [
    "#finding the area of your rectangle:\n",
    "print b.area()\n",
    "print b.description\n",
    "\n",
    "#making the rectangle 50% smaller\n",
    "b.scaleSize(0.5)\n",
    "b.describe(\"A small thin rectangle\")\n",
    " \n",
    "#re-printing the new area of the rectangle\n",
    "print b.area()\n",
    "print b.description"
   ]
  },
  {
   "cell_type": "markdown",
   "metadata": {},
   "source": [
    "## Advanced programming for data analysis: NumPy.\n"
   ]
  },
  {
   "cell_type": "markdown",
   "metadata": {},
   "source": [
    "> **NumPy** is an open-source add-on module to Python that provide common mathematical and numerical routines in pre-compiled, fast functions."
   ]
  },
  {
   "cell_type": "markdown",
   "metadata": {},
   "source": [
    "There are several ways to import NumPy. The standard approach is: "
   ]
  },
  {
   "cell_type": "code",
   "execution_count": 107,
   "metadata": {},
   "outputs": [],
   "source": [
    "import numpy as np"
   ]
  },
  {
   "cell_type": "markdown",
   "metadata": {},
   "source": [
    "The central feature of NumPy is the **array** object class. Arrays are similar to lists in Python, except that every element of an array must be of the same type, typically a numeric type like float or int. \n",
    "\n",
    "Arrays make operations with large amounts of numeric data very fast and are generally much more efficient than lists. "
   ]
  },
  {
   "cell_type": "markdown",
   "metadata": {},
   "source": [
    "### Array creation\n",
    "\n",
    "There are several ways for creating an array:\n",
    "    \n",
    "+ Explicitly from a list of values.\n",
    "+ As a range of values.\n",
    "+ As a random array.\n",
    "+ By specifying the number of elements.\n",
    "+ By creating an unitializated, a zero-initializated or one-initializated array.\n",
    "+ By creating a constant diagonal value array.\n",
    "+ Etc.\n",
    "\n"
   ]
  },
  {
   "cell_type": "code",
   "execution_count": 108,
   "metadata": {},
   "outputs": [
    {
     "name": "stdout",
     "output_type": "stream",
     "text": [
      "[1. 2.] 5\n"
     ]
    }
   ],
   "source": [
    "a = np.array([1, 2, 4, 8, 16], float) \n",
    "print a[:2], len(a) "
   ]
  },
  {
   "cell_type": "code",
   "execution_count": 109,
   "metadata": {},
   "outputs": [
    {
     "name": "stdout",
     "output_type": "stream",
     "text": [
      "[0. 1. 2. 3. 4.]\n",
      "[[1. 1. 1.]\n",
      " [1. 1. 1.]]\n",
      "[0 0 0 0 0 0 0]\n",
      "[[0. 0. 0.]\n",
      " [0. 0. 0.]]\n",
      "[['1' '' '' '']\n",
      " ['' '1' '' '']\n",
      " ['' '' '1' '']\n",
      " ['' '' '' '1']]\n"
     ]
    }
   ],
   "source": [
    "print np.arange(5, dtype=float)  \n",
    "print np.ones((2,3), dtype=float)  \n",
    "print np.zeros(7, dtype=int)\n",
    "a= np.array([[1, 2, 3], [4, 5, 6]], float) \n",
    "print np.zeros_like(a) \n",
    "print np.identity(4, dtype=str) "
   ]
  },
  {
   "cell_type": "code",
   "execution_count": 110,
   "metadata": {},
   "outputs": [
    {
     "name": "stdout",
     "output_type": "stream",
     "text": [
      "[  0.          11.11111111  22.22222222  33.33333333  44.44444444\n",
      "  55.55555556  66.66666667  77.77777778  88.88888889 100.        ]\n"
     ]
    }
   ],
   "source": [
    "a = np.linspace(0,100,10) # Return evenly spaced numbers over a specified interval\n",
    "print a"
   ]
  },
  {
   "cell_type": "code",
   "execution_count": 111,
   "metadata": {},
   "outputs": [
    {
     "name": "stdout",
     "output_type": "stream",
     "text": [
      "[ 10.  20.  30.  40.  50.  60.  70.  80.  90. 100.]\n"
     ]
    }
   ],
   "source": [
    "a = np.linspace(10,100,10)\n",
    "print a"
   ]
  },
  {
   "cell_type": "code",
   "execution_count": 112,
   "metadata": {},
   "outputs": [
    {
     "data": {
      "text/plain": [
       "array([[0.21557862, 0.61262031, 0.60238274],\n",
       "       [0.64997523, 0.36573084, 0.15754381]])"
      ]
     },
     "execution_count": 112,
     "metadata": {},
     "output_type": "execute_result"
    }
   ],
   "source": [
    "np.random.rand(2,3) "
   ]
  },
  {
   "cell_type": "code",
   "execution_count": 113,
   "metadata": {},
   "outputs": [
    {
     "name": "stdout",
     "output_type": "stream",
     "text": [
      "[-1.38437439  0.10187906  0.39927713  0.30528785 -2.00432995]\n",
      "[3.97960585 4.19382889 5.03082807 5.22159763 5.1477999 ]\n"
     ]
    }
   ],
   "source": [
    "a = np.random.normal(size=5) \n",
    "b = np.random.normal(5, size=5)         # mean = 5\n",
    "print a\n",
    "print b"
   ]
  },
  {
   "cell_type": "code",
   "execution_count": 114,
   "metadata": {},
   "outputs": [],
   "source": [
    "np.random.normal?"
   ]
  },
  {
   "cell_type": "markdown",
   "metadata": {},
   "source": [
    "Arrays can be multidimensional. **Unlike lists**, different axes are accessed using commas inside \n",
    "bracket notation."
   ]
  },
  {
   "cell_type": "code",
   "execution_count": 115,
   "metadata": {},
   "outputs": [
    {
     "name": "stdout",
     "output_type": "stream",
     "text": [
      "1\n",
      "[[5 6]]\n"
     ]
    }
   ],
   "source": [
    "a = np.array([[1, 2, 3], [4, 5, 6]], int)\n",
    "print a[0,0]                # different axes are accessed using commas inside bracket notation\n",
    "print a[-1:,-2:]"
   ]
  },
  {
   "cell_type": "markdown",
   "metadata": {},
   "source": [
    "Object arrays have several properties:"
   ]
  },
  {
   "cell_type": "code",
   "execution_count": 116,
   "metadata": {},
   "outputs": [
    {
     "name": "stdout",
     "output_type": "stream",
     "text": [
      "(2, 3) int64\n"
     ]
    }
   ],
   "source": [
    "print a.shape, a.dtype"
   ]
  },
  {
   "cell_type": "markdown",
   "metadata": {},
   "source": [
    "The ``in`` statement can be used to test if values are present in an array: \n"
   ]
  },
  {
   "cell_type": "code",
   "execution_count": 117,
   "metadata": {},
   "outputs": [
    {
     "data": {
      "text/plain": [
       "True"
      ]
     },
     "execution_count": 117,
     "metadata": {},
     "output_type": "execute_result"
    }
   ],
   "source": [
    "2 in a "
   ]
  },
  {
   "cell_type": "markdown",
   "metadata": {},
   "source": [
    "Arrays can be reshaped using tuples that specify new dimensions. "
   ]
  },
  {
   "cell_type": "code",
   "execution_count": 118,
   "metadata": {},
   "outputs": [
    {
     "name": "stdout",
     "output_type": "stream",
     "text": [
      "[[1 2]\n",
      " [3 4]\n",
      " [5 6]]\n"
     ]
    }
   ],
   "source": [
    "a = a.reshape((3, 2))    # this function creates a new array!\n",
    "print a"
   ]
  },
  {
   "cell_type": "markdown",
   "metadata": {},
   "source": [
    "### EXERCISE\n",
    "\n",
    "Add a cell and create a new array with a random normal distribution and shape(2,1), and reshape it to (1,2)"
   ]
  },
  {
   "cell_type": "code",
   "execution_count": 119,
   "metadata": {},
   "outputs": [
    {
     "name": "stdout",
     "output_type": "stream",
     "text": [
      "[[-0.21761801  1.306639  ]]\n"
     ]
    }
   ],
   "source": [
    "a = np.random.normal(size=(2,1))\n",
    "print a.reshape((1,2)) "
   ]
  },
  {
   "cell_type": "markdown",
   "metadata": {},
   "source": [
    "Lists can also be created from arrays: "
   ]
  },
  {
   "cell_type": "code",
   "execution_count": 120,
   "metadata": {},
   "outputs": [
    {
     "data": {
      "text/plain": [
       "list"
      ]
     },
     "execution_count": 120,
     "metadata": {},
     "output_type": "execute_result"
    }
   ],
   "source": [
    "a = np.array([1, 2, 3], float) \n",
    "type(a.tolist())"
   ]
  },
  {
   "cell_type": "markdown",
   "metadata": {},
   "source": [
    "Other functions and properties:"
   ]
  },
  {
   "cell_type": "code",
   "execution_count": 121,
   "metadata": {},
   "outputs": [
    {
     "data": {
      "text/plain": [
       "array([[0., 3.],\n",
       "       [1., 4.],\n",
       "       [2., 5.]])"
      ]
     },
     "execution_count": 121,
     "metadata": {},
     "output_type": "execute_result"
    }
   ],
   "source": [
    "a = np.array(range(6), float).reshape((2, 3)) \n",
    "a.transpose()   # Transposed versions of arrays"
   ]
  },
  {
   "cell_type": "code",
   "execution_count": 122,
   "metadata": {},
   "outputs": [
    {
     "data": {
      "text/plain": [
       "array([0., 1., 2., 3., 4., 5.])"
      ]
     },
     "execution_count": 122,
     "metadata": {},
     "output_type": "execute_result"
    }
   ],
   "source": [
    "a.flatten()    # One-dimensional versions of multi-dimensional arrays"
   ]
  },
  {
   "cell_type": "code",
   "execution_count": 123,
   "metadata": {},
   "outputs": [
    {
     "data": {
      "text/plain": [
       "array([1., 2., 3., 4., 5., 6., 7., 8., 9.])"
      ]
     },
     "execution_count": 123,
     "metadata": {},
     "output_type": "execute_result"
    }
   ],
   "source": [
    "a = np.array([1,2], float) \n",
    "b = np.array([3,4,5,6], float) \n",
    "c = np.array([7,8,9], float) \n",
    "np.concatenate((a, b, c))          # Concatenation"
   ]
  },
  {
   "cell_type": "code",
   "execution_count": 124,
   "metadata": {},
   "outputs": [
    {
     "data": {
      "text/plain": [
       "array([[1., 2.],\n",
       "       [3., 4.],\n",
       "       [5., 6.],\n",
       "       [7., 8.]])"
      ]
     },
     "execution_count": 124,
     "metadata": {},
     "output_type": "execute_result"
    }
   ],
   "source": [
    "a = np.array([[1, 2], [3, 4]], float) \n",
    "b = np.array([[5, 6], [7,8]], float) \n",
    "np.concatenate((a,b), axis=0)      # it is possible to specify the axis for concatenation"
   ]
  },
  {
   "cell_type": "code",
   "execution_count": 125,
   "metadata": {},
   "outputs": [
    {
     "data": {
      "text/plain": [
       "array([[1., 2., 5., 6.],\n",
       "       [3., 4., 7., 8.]])"
      ]
     },
     "execution_count": 125,
     "metadata": {},
     "output_type": "execute_result"
    }
   ],
   "source": [
    "np.concatenate((a,b), axis=1)"
   ]
  },
  {
   "cell_type": "code",
   "execution_count": 126,
   "metadata": {},
   "outputs": [
    {
     "name": "stdout",
     "output_type": "stream",
     "text": [
      "9.0 24.0 3.0 0.6666666666666666 0.816496580927726 2.0 4.0\n",
      "0 1\n"
     ]
    }
   ],
   "source": [
    "a = np.array([2, 4, 3], float) \n",
    "print a.sum(), a.prod(), a.mean(), a.var(), a.std(), a.min(), a.max()\n",
    "print a.argmin(), a.argmax()     # these functions return the array indices "
   ]
  },
  {
   "cell_type": "markdown",
   "metadata": {},
   "source": [
    "One dimensional arrays have a 1-tuple for their shape: <code> (size,)</code>.\n",
    "\n",
    "N-dimensional arrays have a N-tuple for their shape: <code> (size1, ..., sizeN)</code>.\n",
    "\n",
    "For multidimensional arrays, each of the functions thus far described can take an optional \n",
    "argument ``axis`` that will perform an operation along only the specified axis, placing the results in a return array. "
   ]
  },
  {
   "cell_type": "code",
   "execution_count": 127,
   "metadata": {},
   "outputs": [
    {
     "name": "stdout",
     "output_type": "stream",
     "text": [
      "[[ 0.  2.]\n",
      " [ 3. -1.]\n",
      " [ 3.  5.]]\n",
      "[2. 2.] [1. 1. 4.] [ 0. -1.  3.] [3. 5.]\n"
     ]
    }
   ],
   "source": [
    "a = np.array([[0, 2], [3, -1], [3, 5]], float) \n",
    "print a\n",
    "print a.mean(axis=0), a.mean(axis=1), a.min(axis=1), a.max(axis=0) "
   ]
  },
  {
   "cell_type": "markdown",
   "metadata": {},
   "source": [
    "<div class=\"alert alert-info\">`ipythonblocks` is a teaching tool that allows students to experiment with Python flow control concepts and immediately see the effects of their code represented in a colorful, attractive way. BlockGrid objects can be **indexed and sliced like 2D NumPy arrays** making them good practice for learning how to access arrays. </div>\n"
   ]
  },
  {
   "cell_type": "code",
   "execution_count": 128,
   "metadata": {},
   "outputs": [
    {
     "data": {
      "text/plain": [
       "'/home/alourido/Escritorio/Master_de_big_data_USC/Unstructured_information_management_technologies/practices/1_python_introduction'"
      ]
     },
     "execution_count": 128,
     "metadata": {},
     "output_type": "execute_result"
    }
   ],
   "source": [
    "import os\n",
    "os.chdir('./modules/')\n",
    "from ipythonblocks import BlockGrid\n",
    "os.chdir('..')\n",
    "os.getcwd()"
   ]
  },
  {
   "cell_type": "code",
   "execution_count": 129,
   "metadata": {},
   "outputs": [
    {
     "data": {
      "text/html": [
       "<style type=\"text/css\">table.blockgrid {border: none;} .blockgrid tr {border: none;} .blockgrid td {padding: 0px;} #blocksc0fd12c5-0175-4337-b4da-3b7e2b402be5 td {border: 1px solid white;}</style><table id=\"blocksc0fd12c5-0175-4337-b4da-3b7e2b402be5\" class=\"blockgrid\"><tbody><tr><td title=\"Index: [0, 0]&#10;Color: (123, 234, 123)\" style=\"width: 20px; height: 20px;background-color: rgb(123, 234, 123);\"></td><td title=\"Index: [0, 1]&#10;Color: (123, 234, 123)\" style=\"width: 20px; height: 20px;background-color: rgb(123, 234, 123);\"></td><td title=\"Index: [0, 2]&#10;Color: (123, 234, 123)\" style=\"width: 20px; height: 20px;background-color: rgb(123, 234, 123);\"></td><td title=\"Index: [0, 3]&#10;Color: (123, 234, 123)\" style=\"width: 20px; height: 20px;background-color: rgb(123, 234, 123);\"></td><td title=\"Index: [0, 4]&#10;Color: (123, 234, 123)\" style=\"width: 20px; height: 20px;background-color: rgb(123, 234, 123);\"></td><td title=\"Index: [0, 5]&#10;Color: (123, 234, 123)\" style=\"width: 20px; height: 20px;background-color: rgb(123, 234, 123);\"></td><td title=\"Index: [0, 6]&#10;Color: (123, 234, 123)\" style=\"width: 20px; height: 20px;background-color: rgb(123, 234, 123);\"></td><td title=\"Index: [0, 7]&#10;Color: (123, 234, 123)\" style=\"width: 20px; height: 20px;background-color: rgb(123, 234, 123);\"></td></tr><tr><td title=\"Index: [1, 0]&#10;Color: (123, 234, 123)\" style=\"width: 20px; height: 20px;background-color: rgb(123, 234, 123);\"></td><td title=\"Index: [1, 1]&#10;Color: (123, 234, 123)\" style=\"width: 20px; height: 20px;background-color: rgb(123, 234, 123);\"></td><td title=\"Index: [1, 2]&#10;Color: (123, 234, 123)\" style=\"width: 20px; height: 20px;background-color: rgb(123, 234, 123);\"></td><td title=\"Index: [1, 3]&#10;Color: (123, 234, 123)\" style=\"width: 20px; height: 20px;background-color: rgb(123, 234, 123);\"></td><td title=\"Index: [1, 4]&#10;Color: (123, 234, 123)\" style=\"width: 20px; height: 20px;background-color: rgb(123, 234, 123);\"></td><td title=\"Index: [1, 5]&#10;Color: (123, 234, 123)\" style=\"width: 20px; height: 20px;background-color: rgb(123, 234, 123);\"></td><td title=\"Index: [1, 6]&#10;Color: (123, 234, 123)\" style=\"width: 20px; height: 20px;background-color: rgb(123, 234, 123);\"></td><td title=\"Index: [1, 7]&#10;Color: (123, 234, 123)\" style=\"width: 20px; height: 20px;background-color: rgb(123, 234, 123);\"></td></tr><tr><td title=\"Index: [2, 0]&#10;Color: (123, 234, 123)\" style=\"width: 20px; height: 20px;background-color: rgb(123, 234, 123);\"></td><td title=\"Index: [2, 1]&#10;Color: (123, 234, 123)\" style=\"width: 20px; height: 20px;background-color: rgb(123, 234, 123);\"></td><td title=\"Index: [2, 2]&#10;Color: (123, 234, 123)\" style=\"width: 20px; height: 20px;background-color: rgb(123, 234, 123);\"></td><td title=\"Index: [2, 3]&#10;Color: (123, 234, 123)\" style=\"width: 20px; height: 20px;background-color: rgb(123, 234, 123);\"></td><td title=\"Index: [2, 4]&#10;Color: (123, 234, 123)\" style=\"width: 20px; height: 20px;background-color: rgb(123, 234, 123);\"></td><td title=\"Index: [2, 5]&#10;Color: (123, 234, 123)\" style=\"width: 20px; height: 20px;background-color: rgb(123, 234, 123);\"></td><td title=\"Index: [2, 6]&#10;Color: (123, 234, 123)\" style=\"width: 20px; height: 20px;background-color: rgb(123, 234, 123);\"></td><td title=\"Index: [2, 7]&#10;Color: (123, 234, 123)\" style=\"width: 20px; height: 20px;background-color: rgb(123, 234, 123);\"></td></tr><tr><td title=\"Index: [3, 0]&#10;Color: (123, 234, 123)\" style=\"width: 20px; height: 20px;background-color: rgb(123, 234, 123);\"></td><td title=\"Index: [3, 1]&#10;Color: (123, 234, 123)\" style=\"width: 20px; height: 20px;background-color: rgb(123, 234, 123);\"></td><td title=\"Index: [3, 2]&#10;Color: (123, 234, 123)\" style=\"width: 20px; height: 20px;background-color: rgb(123, 234, 123);\"></td><td title=\"Index: [3, 3]&#10;Color: (123, 234, 123)\" style=\"width: 20px; height: 20px;background-color: rgb(123, 234, 123);\"></td><td title=\"Index: [3, 4]&#10;Color: (123, 234, 123)\" style=\"width: 20px; height: 20px;background-color: rgb(123, 234, 123);\"></td><td title=\"Index: [3, 5]&#10;Color: (123, 234, 123)\" style=\"width: 20px; height: 20px;background-color: rgb(123, 234, 123);\"></td><td title=\"Index: [3, 6]&#10;Color: (123, 234, 123)\" style=\"width: 20px; height: 20px;background-color: rgb(123, 234, 123);\"></td><td title=\"Index: [3, 7]&#10;Color: (123, 234, 123)\" style=\"width: 20px; height: 20px;background-color: rgb(123, 234, 123);\"></td></tr><tr><td title=\"Index: [4, 0]&#10;Color: (123, 234, 123)\" style=\"width: 20px; height: 20px;background-color: rgb(123, 234, 123);\"></td><td title=\"Index: [4, 1]&#10;Color: (123, 234, 123)\" style=\"width: 20px; height: 20px;background-color: rgb(123, 234, 123);\"></td><td title=\"Index: [4, 2]&#10;Color: (123, 234, 123)\" style=\"width: 20px; height: 20px;background-color: rgb(123, 234, 123);\"></td><td title=\"Index: [4, 3]&#10;Color: (123, 234, 123)\" style=\"width: 20px; height: 20px;background-color: rgb(123, 234, 123);\"></td><td title=\"Index: [4, 4]&#10;Color: (123, 234, 123)\" style=\"width: 20px; height: 20px;background-color: rgb(123, 234, 123);\"></td><td title=\"Index: [4, 5]&#10;Color: (123, 234, 123)\" style=\"width: 20px; height: 20px;background-color: rgb(123, 234, 123);\"></td><td title=\"Index: [4, 6]&#10;Color: (123, 234, 123)\" style=\"width: 20px; height: 20px;background-color: rgb(123, 234, 123);\"></td><td title=\"Index: [4, 7]&#10;Color: (123, 234, 123)\" style=\"width: 20px; height: 20px;background-color: rgb(123, 234, 123);\"></td></tr><tr><td title=\"Index: [5, 0]&#10;Color: (123, 234, 123)\" style=\"width: 20px; height: 20px;background-color: rgb(123, 234, 123);\"></td><td title=\"Index: [5, 1]&#10;Color: (123, 234, 123)\" style=\"width: 20px; height: 20px;background-color: rgb(123, 234, 123);\"></td><td title=\"Index: [5, 2]&#10;Color: (123, 234, 123)\" style=\"width: 20px; height: 20px;background-color: rgb(123, 234, 123);\"></td><td title=\"Index: [5, 3]&#10;Color: (123, 234, 123)\" style=\"width: 20px; height: 20px;background-color: rgb(123, 234, 123);\"></td><td title=\"Index: [5, 4]&#10;Color: (123, 234, 123)\" style=\"width: 20px; height: 20px;background-color: rgb(123, 234, 123);\"></td><td title=\"Index: [5, 5]&#10;Color: (123, 234, 123)\" style=\"width: 20px; height: 20px;background-color: rgb(123, 234, 123);\"></td><td title=\"Index: [5, 6]&#10;Color: (123, 234, 123)\" style=\"width: 20px; height: 20px;background-color: rgb(123, 234, 123);\"></td><td title=\"Index: [5, 7]&#10;Color: (123, 234, 123)\" style=\"width: 20px; height: 20px;background-color: rgb(123, 234, 123);\"></td></tr><tr><td title=\"Index: [6, 0]&#10;Color: (123, 234, 123)\" style=\"width: 20px; height: 20px;background-color: rgb(123, 234, 123);\"></td><td title=\"Index: [6, 1]&#10;Color: (123, 234, 123)\" style=\"width: 20px; height: 20px;background-color: rgb(123, 234, 123);\"></td><td title=\"Index: [6, 2]&#10;Color: (123, 234, 123)\" style=\"width: 20px; height: 20px;background-color: rgb(123, 234, 123);\"></td><td title=\"Index: [6, 3]&#10;Color: (123, 234, 123)\" style=\"width: 20px; height: 20px;background-color: rgb(123, 234, 123);\"></td><td title=\"Index: [6, 4]&#10;Color: (123, 234, 123)\" style=\"width: 20px; height: 20px;background-color: rgb(123, 234, 123);\"></td><td title=\"Index: [6, 5]&#10;Color: (123, 234, 123)\" style=\"width: 20px; height: 20px;background-color: rgb(123, 234, 123);\"></td><td title=\"Index: [6, 6]&#10;Color: (123, 234, 123)\" style=\"width: 20px; height: 20px;background-color: rgb(123, 234, 123);\"></td><td title=\"Index: [6, 7]&#10;Color: (123, 234, 123)\" style=\"width: 20px; height: 20px;background-color: rgb(123, 234, 123);\"></td></tr><tr><td title=\"Index: [7, 0]&#10;Color: (123, 234, 123)\" style=\"width: 20px; height: 20px;background-color: rgb(123, 234, 123);\"></td><td title=\"Index: [7, 1]&#10;Color: (123, 234, 123)\" style=\"width: 20px; height: 20px;background-color: rgb(123, 234, 123);\"></td><td title=\"Index: [7, 2]&#10;Color: (123, 234, 123)\" style=\"width: 20px; height: 20px;background-color: rgb(123, 234, 123);\"></td><td title=\"Index: [7, 3]&#10;Color: (123, 234, 123)\" style=\"width: 20px; height: 20px;background-color: rgb(123, 234, 123);\"></td><td title=\"Index: [7, 4]&#10;Color: (123, 234, 123)\" style=\"width: 20px; height: 20px;background-color: rgb(123, 234, 123);\"></td><td title=\"Index: [7, 5]&#10;Color: (123, 234, 123)\" style=\"width: 20px; height: 20px;background-color: rgb(123, 234, 123);\"></td><td title=\"Index: [7, 6]&#10;Color: (123, 234, 123)\" style=\"width: 20px; height: 20px;background-color: rgb(123, 234, 123);\"></td><td title=\"Index: [7, 7]&#10;Color: (123, 234, 123)\" style=\"width: 20px; height: 20px;background-color: rgb(123, 234, 123);\"></td></tr></tbody></table>"
      ],
      "text/plain": [
       "<ipythonblocks.BlockGrid at 0x7fe0ed3e72d0>"
      ]
     },
     "execution_count": 129,
     "metadata": {},
     "output_type": "execute_result"
    }
   ],
   "source": [
    "grid = BlockGrid(8, 8, fill=(123, 234, 123))\n",
    "grid"
   ]
  },
  {
   "cell_type": "code",
   "execution_count": 130,
   "metadata": {},
   "outputs": [
    {
     "data": {
      "text/html": [
       "<style type=\"text/css\">table.blockgrid {border: none;} .blockgrid tr {border: none;} .blockgrid td {padding: 0px;} #blocksa4227edc-56bd-4002-851c-13bb82c58055 td {border: 1px solid white;}</style><table id=\"blocksa4227edc-56bd-4002-851c-13bb82c58055\" class=\"blockgrid\"><tbody><tr><td title=\"Index: [0, 0]&#10;Color: (0, 0, 0)\" style=\"width: 20px; height: 20px;background-color: rgb(0, 0, 0);\"></td><td title=\"Index: [0, 1]&#10;Color: (123, 234, 123)\" style=\"width: 20px; height: 20px;background-color: rgb(123, 234, 123);\"></td><td title=\"Index: [0, 2]&#10;Color: (255, 0, 0)\" style=\"width: 20px; height: 20px;background-color: rgb(255, 0, 0);\"></td><td title=\"Index: [0, 3]&#10;Color: (123, 234, 123)\" style=\"width: 20px; height: 20px;background-color: rgb(123, 234, 123);\"></td><td title=\"Index: [0, 4]&#10;Color: (255, 255, 255)\" style=\"width: 20px; height: 20px;background-color: rgb(255, 255, 255);\"></td><td title=\"Index: [0, 5]&#10;Color: (123, 234, 123)\" style=\"width: 20px; height: 20px;background-color: rgb(123, 234, 123);\"></td><td title=\"Index: [0, 6]&#10;Color: (0, 150, 150)\" style=\"width: 20px; height: 20px;background-color: rgb(0, 150, 150);\"></td><td title=\"Index: [0, 7]&#10;Color: (123, 234, 123)\" style=\"width: 20px; height: 20px;background-color: rgb(123, 234, 123);\"></td></tr><tr><td title=\"Index: [1, 0]&#10;Color: (123, 234, 123)\" style=\"width: 20px; height: 20px;background-color: rgb(123, 234, 123);\"></td><td title=\"Index: [1, 1]&#10;Color: (123, 234, 123)\" style=\"width: 20px; height: 20px;background-color: rgb(123, 234, 123);\"></td><td title=\"Index: [1, 2]&#10;Color: (123, 234, 123)\" style=\"width: 20px; height: 20px;background-color: rgb(123, 234, 123);\"></td><td title=\"Index: [1, 3]&#10;Color: (123, 234, 123)\" style=\"width: 20px; height: 20px;background-color: rgb(123, 234, 123);\"></td><td title=\"Index: [1, 4]&#10;Color: (123, 234, 123)\" style=\"width: 20px; height: 20px;background-color: rgb(123, 234, 123);\"></td><td title=\"Index: [1, 5]&#10;Color: (123, 234, 123)\" style=\"width: 20px; height: 20px;background-color: rgb(123, 234, 123);\"></td><td title=\"Index: [1, 6]&#10;Color: (123, 234, 123)\" style=\"width: 20px; height: 20px;background-color: rgb(123, 234, 123);\"></td><td title=\"Index: [1, 7]&#10;Color: (123, 234, 123)\" style=\"width: 20px; height: 20px;background-color: rgb(123, 234, 123);\"></td></tr><tr><td title=\"Index: [2, 0]&#10;Color: (123, 234, 123)\" style=\"width: 20px; height: 20px;background-color: rgb(123, 234, 123);\"></td><td title=\"Index: [2, 1]&#10;Color: (123, 234, 123)\" style=\"width: 20px; height: 20px;background-color: rgb(123, 234, 123);\"></td><td title=\"Index: [2, 2]&#10;Color: (123, 234, 123)\" style=\"width: 20px; height: 20px;background-color: rgb(123, 234, 123);\"></td><td title=\"Index: [2, 3]&#10;Color: (123, 234, 123)\" style=\"width: 20px; height: 20px;background-color: rgb(123, 234, 123);\"></td><td title=\"Index: [2, 4]&#10;Color: (123, 234, 123)\" style=\"width: 20px; height: 20px;background-color: rgb(123, 234, 123);\"></td><td title=\"Index: [2, 5]&#10;Color: (123, 234, 123)\" style=\"width: 20px; height: 20px;background-color: rgb(123, 234, 123);\"></td><td title=\"Index: [2, 6]&#10;Color: (123, 234, 123)\" style=\"width: 20px; height: 20px;background-color: rgb(123, 234, 123);\"></td><td title=\"Index: [2, 7]&#10;Color: (123, 234, 123)\" style=\"width: 20px; height: 20px;background-color: rgb(123, 234, 123);\"></td></tr><tr><td title=\"Index: [3, 0]&#10;Color: (123, 234, 123)\" style=\"width: 20px; height: 20px;background-color: rgb(123, 234, 123);\"></td><td title=\"Index: [3, 1]&#10;Color: (123, 234, 123)\" style=\"width: 20px; height: 20px;background-color: rgb(123, 234, 123);\"></td><td title=\"Index: [3, 2]&#10;Color: (123, 234, 123)\" style=\"width: 20px; height: 20px;background-color: rgb(123, 234, 123);\"></td><td title=\"Index: [3, 3]&#10;Color: (123, 234, 123)\" style=\"width: 20px; height: 20px;background-color: rgb(123, 234, 123);\"></td><td title=\"Index: [3, 4]&#10;Color: (123, 234, 123)\" style=\"width: 20px; height: 20px;background-color: rgb(123, 234, 123);\"></td><td title=\"Index: [3, 5]&#10;Color: (123, 234, 123)\" style=\"width: 20px; height: 20px;background-color: rgb(123, 234, 123);\"></td><td title=\"Index: [3, 6]&#10;Color: (123, 234, 123)\" style=\"width: 20px; height: 20px;background-color: rgb(123, 234, 123);\"></td><td title=\"Index: [3, 7]&#10;Color: (123, 234, 123)\" style=\"width: 20px; height: 20px;background-color: rgb(123, 234, 123);\"></td></tr><tr><td title=\"Index: [4, 0]&#10;Color: (123, 234, 123)\" style=\"width: 20px; height: 20px;background-color: rgb(123, 234, 123);\"></td><td title=\"Index: [4, 1]&#10;Color: (123, 234, 123)\" style=\"width: 20px; height: 20px;background-color: rgb(123, 234, 123);\"></td><td title=\"Index: [4, 2]&#10;Color: (123, 234, 123)\" style=\"width: 20px; height: 20px;background-color: rgb(123, 234, 123);\"></td><td title=\"Index: [4, 3]&#10;Color: (123, 234, 123)\" style=\"width: 20px; height: 20px;background-color: rgb(123, 234, 123);\"></td><td title=\"Index: [4, 4]&#10;Color: (123, 234, 123)\" style=\"width: 20px; height: 20px;background-color: rgb(123, 234, 123);\"></td><td title=\"Index: [4, 5]&#10;Color: (123, 234, 123)\" style=\"width: 20px; height: 20px;background-color: rgb(123, 234, 123);\"></td><td title=\"Index: [4, 6]&#10;Color: (123, 234, 123)\" style=\"width: 20px; height: 20px;background-color: rgb(123, 234, 123);\"></td><td title=\"Index: [4, 7]&#10;Color: (123, 234, 123)\" style=\"width: 20px; height: 20px;background-color: rgb(123, 234, 123);\"></td></tr><tr><td title=\"Index: [5, 0]&#10;Color: (123, 234, 123)\" style=\"width: 20px; height: 20px;background-color: rgb(123, 234, 123);\"></td><td title=\"Index: [5, 1]&#10;Color: (123, 234, 123)\" style=\"width: 20px; height: 20px;background-color: rgb(123, 234, 123);\"></td><td title=\"Index: [5, 2]&#10;Color: (123, 234, 123)\" style=\"width: 20px; height: 20px;background-color: rgb(123, 234, 123);\"></td><td title=\"Index: [5, 3]&#10;Color: (123, 234, 123)\" style=\"width: 20px; height: 20px;background-color: rgb(123, 234, 123);\"></td><td title=\"Index: [5, 4]&#10;Color: (123, 234, 123)\" style=\"width: 20px; height: 20px;background-color: rgb(123, 234, 123);\"></td><td title=\"Index: [5, 5]&#10;Color: (123, 234, 123)\" style=\"width: 20px; height: 20px;background-color: rgb(123, 234, 123);\"></td><td title=\"Index: [5, 6]&#10;Color: (123, 234, 123)\" style=\"width: 20px; height: 20px;background-color: rgb(123, 234, 123);\"></td><td title=\"Index: [5, 7]&#10;Color: (123, 234, 123)\" style=\"width: 20px; height: 20px;background-color: rgb(123, 234, 123);\"></td></tr><tr><td title=\"Index: [6, 0]&#10;Color: (123, 234, 123)\" style=\"width: 20px; height: 20px;background-color: rgb(123, 234, 123);\"></td><td title=\"Index: [6, 1]&#10;Color: (123, 234, 123)\" style=\"width: 20px; height: 20px;background-color: rgb(123, 234, 123);\"></td><td title=\"Index: [6, 2]&#10;Color: (123, 234, 123)\" style=\"width: 20px; height: 20px;background-color: rgb(123, 234, 123);\"></td><td title=\"Index: [6, 3]&#10;Color: (123, 234, 123)\" style=\"width: 20px; height: 20px;background-color: rgb(123, 234, 123);\"></td><td title=\"Index: [6, 4]&#10;Color: (123, 234, 123)\" style=\"width: 20px; height: 20px;background-color: rgb(123, 234, 123);\"></td><td title=\"Index: [6, 5]&#10;Color: (123, 234, 123)\" style=\"width: 20px; height: 20px;background-color: rgb(123, 234, 123);\"></td><td title=\"Index: [6, 6]&#10;Color: (123, 234, 123)\" style=\"width: 20px; height: 20px;background-color: rgb(123, 234, 123);\"></td><td title=\"Index: [6, 7]&#10;Color: (123, 234, 123)\" style=\"width: 20px; height: 20px;background-color: rgb(123, 234, 123);\"></td></tr><tr><td title=\"Index: [7, 0]&#10;Color: (123, 234, 123)\" style=\"width: 20px; height: 20px;background-color: rgb(123, 234, 123);\"></td><td title=\"Index: [7, 1]&#10;Color: (123, 234, 123)\" style=\"width: 20px; height: 20px;background-color: rgb(123, 234, 123);\"></td><td title=\"Index: [7, 2]&#10;Color: (123, 234, 123)\" style=\"width: 20px; height: 20px;background-color: rgb(123, 234, 123);\"></td><td title=\"Index: [7, 3]&#10;Color: (123, 234, 123)\" style=\"width: 20px; height: 20px;background-color: rgb(123, 234, 123);\"></td><td title=\"Index: [7, 4]&#10;Color: (123, 234, 123)\" style=\"width: 20px; height: 20px;background-color: rgb(123, 234, 123);\"></td><td title=\"Index: [7, 5]&#10;Color: (123, 234, 123)\" style=\"width: 20px; height: 20px;background-color: rgb(123, 234, 123);\"></td><td title=\"Index: [7, 6]&#10;Color: (123, 234, 123)\" style=\"width: 20px; height: 20px;background-color: rgb(123, 234, 123);\"></td><td title=\"Index: [7, 7]&#10;Color: (123, 234, 123)\" style=\"width: 20px; height: 20px;background-color: rgb(123, 234, 123);\"></td></tr></tbody></table>"
      ],
      "text/plain": [
       "<IPython.core.display.HTML object>"
      ]
     },
     "metadata": {},
     "output_type": "display_data"
    }
   ],
   "source": [
    "grid[0, 0] = (0, 0, 0)\n",
    "grid[0, 2] = (255, 0, 0)\n",
    "grid[0, 4] = (255, 255, 255)\n",
    "grid[0, 6] = (0, 150, 150)\n",
    "grid.show()"
   ]
  },
  {
   "cell_type": "code",
   "execution_count": 131,
   "metadata": {},
   "outputs": [
    {
     "data": {
      "text/html": [
       "<style type=\"text/css\">table.blockgrid {border: none;} .blockgrid tr {border: none;} .blockgrid td {padding: 0px;} #blocks5fc05572-1562-49d2-9788-f7b16235e534 td {border: 1px solid white;}</style><table id=\"blocks5fc05572-1562-49d2-9788-f7b16235e534\" class=\"blockgrid\"><tbody><tr><td title=\"Index: [0, 0]&#10;Color: (0, 0, 0)\" style=\"width: 20px; height: 20px;background-color: rgb(0, 0, 0);\"></td><td title=\"Index: [0, 1]&#10;Color: (123, 234, 123)\" style=\"width: 20px; height: 20px;background-color: rgb(123, 234, 123);\"></td><td title=\"Index: [0, 2]&#10;Color: (255, 0, 0)\" style=\"width: 20px; height: 20px;background-color: rgb(255, 0, 0);\"></td><td title=\"Index: [0, 3]&#10;Color: (123, 234, 123)\" style=\"width: 20px; height: 20px;background-color: rgb(123, 234, 123);\"></td><td title=\"Index: [0, 4]&#10;Color: (255, 255, 255)\" style=\"width: 20px; height: 20px;background-color: rgb(255, 255, 255);\"></td><td title=\"Index: [0, 5]&#10;Color: (123, 234, 123)\" style=\"width: 20px; height: 20px;background-color: rgb(123, 234, 123);\"></td><td title=\"Index: [0, 6]&#10;Color: (0, 150, 150)\" style=\"width: 20px; height: 20px;background-color: rgb(0, 150, 150);\"></td><td title=\"Index: [0, 7]&#10;Color: (123, 234, 123)\" style=\"width: 20px; height: 20px;background-color: rgb(123, 234, 123);\"></td></tr><tr><td title=\"Index: [1, 0]&#10;Color: (123, 234, 123)\" style=\"width: 20px; height: 20px;background-color: rgb(123, 234, 123);\"></td><td title=\"Index: [1, 1]&#10;Color: (0, 128, 128)\" style=\"width: 20px; height: 20px;background-color: rgb(0, 128, 128);\"></td><td title=\"Index: [1, 2]&#10;Color: (216, 191, 216)\" style=\"width: 20px; height: 20px;background-color: rgb(216, 191, 216);\"></td><td title=\"Index: [1, 3]&#10;Color: (205, 133, 63)\" style=\"width: 20px; height: 20px;background-color: rgb(205, 133, 63);\"></td><td title=\"Index: [1, 4]&#10;Color: (123, 234, 123)\" style=\"width: 20px; height: 20px;background-color: rgb(123, 234, 123);\"></td><td title=\"Index: [1, 5]&#10;Color: (123, 234, 123)\" style=\"width: 20px; height: 20px;background-color: rgb(123, 234, 123);\"></td><td title=\"Index: [1, 6]&#10;Color: (123, 234, 123)\" style=\"width: 20px; height: 20px;background-color: rgb(123, 234, 123);\"></td><td title=\"Index: [1, 7]&#10;Color: (123, 234, 123)\" style=\"width: 20px; height: 20px;background-color: rgb(123, 234, 123);\"></td></tr><tr><td title=\"Index: [2, 0]&#10;Color: (123, 234, 123)\" style=\"width: 20px; height: 20px;background-color: rgb(123, 234, 123);\"></td><td title=\"Index: [2, 1]&#10;Color: (123, 234, 123)\" style=\"width: 20px; height: 20px;background-color: rgb(123, 234, 123);\"></td><td title=\"Index: [2, 2]&#10;Color: (123, 234, 123)\" style=\"width: 20px; height: 20px;background-color: rgb(123, 234, 123);\"></td><td title=\"Index: [2, 3]&#10;Color: (123, 234, 123)\" style=\"width: 20px; height: 20px;background-color: rgb(123, 234, 123);\"></td><td title=\"Index: [2, 4]&#10;Color: (123, 234, 123)\" style=\"width: 20px; height: 20px;background-color: rgb(123, 234, 123);\"></td><td title=\"Index: [2, 5]&#10;Color: (123, 234, 123)\" style=\"width: 20px; height: 20px;background-color: rgb(123, 234, 123);\"></td><td title=\"Index: [2, 6]&#10;Color: (123, 234, 123)\" style=\"width: 20px; height: 20px;background-color: rgb(123, 234, 123);\"></td><td title=\"Index: [2, 7]&#10;Color: (123, 234, 123)\" style=\"width: 20px; height: 20px;background-color: rgb(123, 234, 123);\"></td></tr><tr><td title=\"Index: [3, 0]&#10;Color: (123, 234, 123)\" style=\"width: 20px; height: 20px;background-color: rgb(123, 234, 123);\"></td><td title=\"Index: [3, 1]&#10;Color: (123, 234, 123)\" style=\"width: 20px; height: 20px;background-color: rgb(123, 234, 123);\"></td><td title=\"Index: [3, 2]&#10;Color: (123, 234, 123)\" style=\"width: 20px; height: 20px;background-color: rgb(123, 234, 123);\"></td><td title=\"Index: [3, 3]&#10;Color: (123, 234, 123)\" style=\"width: 20px; height: 20px;background-color: rgb(123, 234, 123);\"></td><td title=\"Index: [3, 4]&#10;Color: (123, 234, 123)\" style=\"width: 20px; height: 20px;background-color: rgb(123, 234, 123);\"></td><td title=\"Index: [3, 5]&#10;Color: (123, 234, 123)\" style=\"width: 20px; height: 20px;background-color: rgb(123, 234, 123);\"></td><td title=\"Index: [3, 6]&#10;Color: (123, 234, 123)\" style=\"width: 20px; height: 20px;background-color: rgb(123, 234, 123);\"></td><td title=\"Index: [3, 7]&#10;Color: (123, 234, 123)\" style=\"width: 20px; height: 20px;background-color: rgb(123, 234, 123);\"></td></tr><tr><td title=\"Index: [4, 0]&#10;Color: (123, 234, 123)\" style=\"width: 20px; height: 20px;background-color: rgb(123, 234, 123);\"></td><td title=\"Index: [4, 1]&#10;Color: (123, 234, 123)\" style=\"width: 20px; height: 20px;background-color: rgb(123, 234, 123);\"></td><td title=\"Index: [4, 2]&#10;Color: (123, 234, 123)\" style=\"width: 20px; height: 20px;background-color: rgb(123, 234, 123);\"></td><td title=\"Index: [4, 3]&#10;Color: (123, 234, 123)\" style=\"width: 20px; height: 20px;background-color: rgb(123, 234, 123);\"></td><td title=\"Index: [4, 4]&#10;Color: (123, 234, 123)\" style=\"width: 20px; height: 20px;background-color: rgb(123, 234, 123);\"></td><td title=\"Index: [4, 5]&#10;Color: (123, 234, 123)\" style=\"width: 20px; height: 20px;background-color: rgb(123, 234, 123);\"></td><td title=\"Index: [4, 6]&#10;Color: (123, 234, 123)\" style=\"width: 20px; height: 20px;background-color: rgb(123, 234, 123);\"></td><td title=\"Index: [4, 7]&#10;Color: (123, 234, 123)\" style=\"width: 20px; height: 20px;background-color: rgb(123, 234, 123);\"></td></tr><tr><td title=\"Index: [5, 0]&#10;Color: (123, 234, 123)\" style=\"width: 20px; height: 20px;background-color: rgb(123, 234, 123);\"></td><td title=\"Index: [5, 1]&#10;Color: (123, 234, 123)\" style=\"width: 20px; height: 20px;background-color: rgb(123, 234, 123);\"></td><td title=\"Index: [5, 2]&#10;Color: (123, 234, 123)\" style=\"width: 20px; height: 20px;background-color: rgb(123, 234, 123);\"></td><td title=\"Index: [5, 3]&#10;Color: (123, 234, 123)\" style=\"width: 20px; height: 20px;background-color: rgb(123, 234, 123);\"></td><td title=\"Index: [5, 4]&#10;Color: (123, 234, 123)\" style=\"width: 20px; height: 20px;background-color: rgb(123, 234, 123);\"></td><td title=\"Index: [5, 5]&#10;Color: (123, 234, 123)\" style=\"width: 20px; height: 20px;background-color: rgb(123, 234, 123);\"></td><td title=\"Index: [5, 6]&#10;Color: (123, 234, 123)\" style=\"width: 20px; height: 20px;background-color: rgb(123, 234, 123);\"></td><td title=\"Index: [5, 7]&#10;Color: (123, 234, 123)\" style=\"width: 20px; height: 20px;background-color: rgb(123, 234, 123);\"></td></tr><tr><td title=\"Index: [6, 0]&#10;Color: (123, 234, 123)\" style=\"width: 20px; height: 20px;background-color: rgb(123, 234, 123);\"></td><td title=\"Index: [6, 1]&#10;Color: (123, 234, 123)\" style=\"width: 20px; height: 20px;background-color: rgb(123, 234, 123);\"></td><td title=\"Index: [6, 2]&#10;Color: (123, 234, 123)\" style=\"width: 20px; height: 20px;background-color: rgb(123, 234, 123);\"></td><td title=\"Index: [6, 3]&#10;Color: (123, 234, 123)\" style=\"width: 20px; height: 20px;background-color: rgb(123, 234, 123);\"></td><td title=\"Index: [6, 4]&#10;Color: (123, 234, 123)\" style=\"width: 20px; height: 20px;background-color: rgb(123, 234, 123);\"></td><td title=\"Index: [6, 5]&#10;Color: (123, 234, 123)\" style=\"width: 20px; height: 20px;background-color: rgb(123, 234, 123);\"></td><td title=\"Index: [6, 6]&#10;Color: (123, 234, 123)\" style=\"width: 20px; height: 20px;background-color: rgb(123, 234, 123);\"></td><td title=\"Index: [6, 7]&#10;Color: (123, 234, 123)\" style=\"width: 20px; height: 20px;background-color: rgb(123, 234, 123);\"></td></tr><tr><td title=\"Index: [7, 0]&#10;Color: (123, 234, 123)\" style=\"width: 20px; height: 20px;background-color: rgb(123, 234, 123);\"></td><td title=\"Index: [7, 1]&#10;Color: (123, 234, 123)\" style=\"width: 20px; height: 20px;background-color: rgb(123, 234, 123);\"></td><td title=\"Index: [7, 2]&#10;Color: (123, 234, 123)\" style=\"width: 20px; height: 20px;background-color: rgb(123, 234, 123);\"></td><td title=\"Index: [7, 3]&#10;Color: (123, 234, 123)\" style=\"width: 20px; height: 20px;background-color: rgb(123, 234, 123);\"></td><td title=\"Index: [7, 4]&#10;Color: (123, 234, 123)\" style=\"width: 20px; height: 20px;background-color: rgb(123, 234, 123);\"></td><td title=\"Index: [7, 5]&#10;Color: (123, 234, 123)\" style=\"width: 20px; height: 20px;background-color: rgb(123, 234, 123);\"></td><td title=\"Index: [7, 6]&#10;Color: (123, 234, 123)\" style=\"width: 20px; height: 20px;background-color: rgb(123, 234, 123);\"></td><td title=\"Index: [7, 7]&#10;Color: (123, 234, 123)\" style=\"width: 20px; height: 20px;background-color: rgb(123, 234, 123);\"></td></tr></tbody></table>"
      ],
      "text/plain": [
       "<IPython.core.display.HTML object>"
      ]
     },
     "metadata": {},
     "output_type": "display_data"
    }
   ],
   "source": [
    "from ipythonblocks import colors\n",
    "grid[1, 1] = colors['Teal']\n",
    "grid[1, 2] = colors['Thistle']\n",
    "grid[1, 3] = colors['Peru']\n",
    "grid.show()"
   ]
  },
  {
   "cell_type": "code",
   "execution_count": 132,
   "metadata": {},
   "outputs": [
    {
     "data": {
      "text/html": [
       "<style type=\"text/css\">table.blockgrid {border: none;} .blockgrid tr {border: none;} .blockgrid td {padding: 0px;} #blocksf95a250f-4dca-431e-a115-714a600e2aef td {border: 0px solid white;}</style><table id=\"blocksf95a250f-4dca-431e-a115-714a600e2aef\" class=\"blockgrid\"><tbody><tr><td title=\"Index: [0, 0]&#10;Color: (0, 0, 0)\" style=\"width: 20px; height: 20px;background-color: rgb(0, 0, 0);\"></td></tr></tbody></table>"
      ],
      "text/plain": [
       "Block(0, 0, 0, size=20)"
      ]
     },
     "execution_count": 132,
     "metadata": {},
     "output_type": "execute_result"
    }
   ],
   "source": [
    "a = grid[0, 0]\n",
    "a"
   ]
  },
  {
   "cell_type": "code",
   "execution_count": 133,
   "metadata": {},
   "outputs": [
    {
     "name": "stdout",
     "output_type": "stream",
     "text": [
      "Block [0, 0]\n",
      "Color: (0, 0, 0)\n"
     ]
    }
   ],
   "source": [
    "print a"
   ]
  },
  {
   "cell_type": "code",
   "execution_count": 134,
   "metadata": {},
   "outputs": [
    {
     "name": "stdout",
     "output_type": "stream",
     "text": [
      "False\n",
      "True\n"
     ]
    }
   ],
   "source": [
    "print grid[0,0] == grid[0,1]    \n",
    "print grid[0,1] == grid[0,3]"
   ]
  },
  {
   "cell_type": "markdown",
   "metadata": {},
   "source": [
    "### Indexing and Slicing\n",
    "\n",
    "Array views contain a pointer to the original data, but may have different\n",
    "shape or stride values."
   ]
  },
  {
   "cell_type": "markdown",
   "metadata": {},
   "source": [
    "\n",
    "> **Simple assigments do not make copies of arrays. Slicing operations do not make copies either; they return views on the original array**."
   ]
  },
  {
   "cell_type": "code",
   "execution_count": 135,
   "metadata": {},
   "outputs": [
    {
     "name": "stdout",
     "output_type": "stream",
     "text": [
      "[[ 0  1  2  3  4  5  6  7]\n",
      " [ 8  9 10 11 12 13 14 15]\n",
      " [16 17 18 19 20 21 22 23]\n",
      " [24 25 26 27 28 29 30 31]\n",
      " [32 33 34 35 36 37 38 39]\n",
      " [40 41 42 43 44 45 46 47]\n",
      " [48 49 50 51 52 53 54 55]\n",
      " [56 57 58 59 60 61 62 63]]\n"
     ]
    }
   ],
   "source": [
    "a = np.array(range(64)).reshape((8,8))\n",
    "print a"
   ]
  },
  {
   "cell_type": "code",
   "execution_count": 136,
   "metadata": {},
   "outputs": [
    {
     "name": "stdout",
     "output_type": "stream",
     "text": [
      "[[ 0  1  2  3  4  5  6  7]\n",
      " [ 8  9 10 11 12 13 14 15]]\n"
     ]
    }
   ],
   "source": [
    "print a[0:2,:] "
   ]
  },
  {
   "cell_type": "code",
   "execution_count": 137,
   "metadata": {},
   "outputs": [
    {
     "data": {
      "text/html": [
       "<style type=\"text/css\">table.blockgrid {border: none;} .blockgrid tr {border: none;} .blockgrid td {padding: 0px;} #blocks371ec2a2-1e34-429c-95bb-d00a19a279bb td {border: 1px solid white;}</style><table id=\"blocks371ec2a2-1e34-429c-95bb-d00a19a279bb\" class=\"blockgrid\"><tbody><tr><td title=\"Index: [0, 0]&#10;Color: (0, 128, 128)\" style=\"width: 20px; height: 20px;background-color: rgb(0, 128, 128);\"></td><td title=\"Index: [0, 1]&#10;Color: (0, 128, 128)\" style=\"width: 20px; height: 20px;background-color: rgb(0, 128, 128);\"></td><td title=\"Index: [0, 2]&#10;Color: (0, 128, 128)\" style=\"width: 20px; height: 20px;background-color: rgb(0, 128, 128);\"></td><td title=\"Index: [0, 3]&#10;Color: (0, 128, 128)\" style=\"width: 20px; height: 20px;background-color: rgb(0, 128, 128);\"></td><td title=\"Index: [0, 4]&#10;Color: (0, 128, 128)\" style=\"width: 20px; height: 20px;background-color: rgb(0, 128, 128);\"></td><td title=\"Index: [0, 5]&#10;Color: (0, 128, 128)\" style=\"width: 20px; height: 20px;background-color: rgb(0, 128, 128);\"></td><td title=\"Index: [0, 6]&#10;Color: (0, 128, 128)\" style=\"width: 20px; height: 20px;background-color: rgb(0, 128, 128);\"></td><td title=\"Index: [0, 7]&#10;Color: (0, 128, 128)\" style=\"width: 20px; height: 20px;background-color: rgb(0, 128, 128);\"></td></tr><tr><td title=\"Index: [1, 0]&#10;Color: (0, 128, 128)\" style=\"width: 20px; height: 20px;background-color: rgb(0, 128, 128);\"></td><td title=\"Index: [1, 1]&#10;Color: (0, 128, 128)\" style=\"width: 20px; height: 20px;background-color: rgb(0, 128, 128);\"></td><td title=\"Index: [1, 2]&#10;Color: (0, 128, 128)\" style=\"width: 20px; height: 20px;background-color: rgb(0, 128, 128);\"></td><td title=\"Index: [1, 3]&#10;Color: (0, 128, 128)\" style=\"width: 20px; height: 20px;background-color: rgb(0, 128, 128);\"></td><td title=\"Index: [1, 4]&#10;Color: (0, 128, 128)\" style=\"width: 20px; height: 20px;background-color: rgb(0, 128, 128);\"></td><td title=\"Index: [1, 5]&#10;Color: (0, 128, 128)\" style=\"width: 20px; height: 20px;background-color: rgb(0, 128, 128);\"></td><td title=\"Index: [1, 6]&#10;Color: (0, 128, 128)\" style=\"width: 20px; height: 20px;background-color: rgb(0, 128, 128);\"></td><td title=\"Index: [1, 7]&#10;Color: (0, 128, 128)\" style=\"width: 20px; height: 20px;background-color: rgb(0, 128, 128);\"></td></tr><tr><td title=\"Index: [2, 0]&#10;Color: (123, 234, 123)\" style=\"width: 20px; height: 20px;background-color: rgb(123, 234, 123);\"></td><td title=\"Index: [2, 1]&#10;Color: (123, 234, 123)\" style=\"width: 20px; height: 20px;background-color: rgb(123, 234, 123);\"></td><td title=\"Index: [2, 2]&#10;Color: (123, 234, 123)\" style=\"width: 20px; height: 20px;background-color: rgb(123, 234, 123);\"></td><td title=\"Index: [2, 3]&#10;Color: (123, 234, 123)\" style=\"width: 20px; height: 20px;background-color: rgb(123, 234, 123);\"></td><td title=\"Index: [2, 4]&#10;Color: (123, 234, 123)\" style=\"width: 20px; height: 20px;background-color: rgb(123, 234, 123);\"></td><td title=\"Index: [2, 5]&#10;Color: (123, 234, 123)\" style=\"width: 20px; height: 20px;background-color: rgb(123, 234, 123);\"></td><td title=\"Index: [2, 6]&#10;Color: (123, 234, 123)\" style=\"width: 20px; height: 20px;background-color: rgb(123, 234, 123);\"></td><td title=\"Index: [2, 7]&#10;Color: (123, 234, 123)\" style=\"width: 20px; height: 20px;background-color: rgb(123, 234, 123);\"></td></tr><tr><td title=\"Index: [3, 0]&#10;Color: (123, 234, 123)\" style=\"width: 20px; height: 20px;background-color: rgb(123, 234, 123);\"></td><td title=\"Index: [3, 1]&#10;Color: (123, 234, 123)\" style=\"width: 20px; height: 20px;background-color: rgb(123, 234, 123);\"></td><td title=\"Index: [3, 2]&#10;Color: (123, 234, 123)\" style=\"width: 20px; height: 20px;background-color: rgb(123, 234, 123);\"></td><td title=\"Index: [3, 3]&#10;Color: (123, 234, 123)\" style=\"width: 20px; height: 20px;background-color: rgb(123, 234, 123);\"></td><td title=\"Index: [3, 4]&#10;Color: (123, 234, 123)\" style=\"width: 20px; height: 20px;background-color: rgb(123, 234, 123);\"></td><td title=\"Index: [3, 5]&#10;Color: (123, 234, 123)\" style=\"width: 20px; height: 20px;background-color: rgb(123, 234, 123);\"></td><td title=\"Index: [3, 6]&#10;Color: (123, 234, 123)\" style=\"width: 20px; height: 20px;background-color: rgb(123, 234, 123);\"></td><td title=\"Index: [3, 7]&#10;Color: (123, 234, 123)\" style=\"width: 20px; height: 20px;background-color: rgb(123, 234, 123);\"></td></tr><tr><td title=\"Index: [4, 0]&#10;Color: (123, 234, 123)\" style=\"width: 20px; height: 20px;background-color: rgb(123, 234, 123);\"></td><td title=\"Index: [4, 1]&#10;Color: (123, 234, 123)\" style=\"width: 20px; height: 20px;background-color: rgb(123, 234, 123);\"></td><td title=\"Index: [4, 2]&#10;Color: (123, 234, 123)\" style=\"width: 20px; height: 20px;background-color: rgb(123, 234, 123);\"></td><td title=\"Index: [4, 3]&#10;Color: (123, 234, 123)\" style=\"width: 20px; height: 20px;background-color: rgb(123, 234, 123);\"></td><td title=\"Index: [4, 4]&#10;Color: (123, 234, 123)\" style=\"width: 20px; height: 20px;background-color: rgb(123, 234, 123);\"></td><td title=\"Index: [4, 5]&#10;Color: (123, 234, 123)\" style=\"width: 20px; height: 20px;background-color: rgb(123, 234, 123);\"></td><td title=\"Index: [4, 6]&#10;Color: (123, 234, 123)\" style=\"width: 20px; height: 20px;background-color: rgb(123, 234, 123);\"></td><td title=\"Index: [4, 7]&#10;Color: (123, 234, 123)\" style=\"width: 20px; height: 20px;background-color: rgb(123, 234, 123);\"></td></tr><tr><td title=\"Index: [5, 0]&#10;Color: (123, 234, 123)\" style=\"width: 20px; height: 20px;background-color: rgb(123, 234, 123);\"></td><td title=\"Index: [5, 1]&#10;Color: (123, 234, 123)\" style=\"width: 20px; height: 20px;background-color: rgb(123, 234, 123);\"></td><td title=\"Index: [5, 2]&#10;Color: (123, 234, 123)\" style=\"width: 20px; height: 20px;background-color: rgb(123, 234, 123);\"></td><td title=\"Index: [5, 3]&#10;Color: (123, 234, 123)\" style=\"width: 20px; height: 20px;background-color: rgb(123, 234, 123);\"></td><td title=\"Index: [5, 4]&#10;Color: (123, 234, 123)\" style=\"width: 20px; height: 20px;background-color: rgb(123, 234, 123);\"></td><td title=\"Index: [5, 5]&#10;Color: (123, 234, 123)\" style=\"width: 20px; height: 20px;background-color: rgb(123, 234, 123);\"></td><td title=\"Index: [5, 6]&#10;Color: (123, 234, 123)\" style=\"width: 20px; height: 20px;background-color: rgb(123, 234, 123);\"></td><td title=\"Index: [5, 7]&#10;Color: (123, 234, 123)\" style=\"width: 20px; height: 20px;background-color: rgb(123, 234, 123);\"></td></tr><tr><td title=\"Index: [6, 0]&#10;Color: (123, 234, 123)\" style=\"width: 20px; height: 20px;background-color: rgb(123, 234, 123);\"></td><td title=\"Index: [6, 1]&#10;Color: (123, 234, 123)\" style=\"width: 20px; height: 20px;background-color: rgb(123, 234, 123);\"></td><td title=\"Index: [6, 2]&#10;Color: (123, 234, 123)\" style=\"width: 20px; height: 20px;background-color: rgb(123, 234, 123);\"></td><td title=\"Index: [6, 3]&#10;Color: (123, 234, 123)\" style=\"width: 20px; height: 20px;background-color: rgb(123, 234, 123);\"></td><td title=\"Index: [6, 4]&#10;Color: (123, 234, 123)\" style=\"width: 20px; height: 20px;background-color: rgb(123, 234, 123);\"></td><td title=\"Index: [6, 5]&#10;Color: (123, 234, 123)\" style=\"width: 20px; height: 20px;background-color: rgb(123, 234, 123);\"></td><td title=\"Index: [6, 6]&#10;Color: (123, 234, 123)\" style=\"width: 20px; height: 20px;background-color: rgb(123, 234, 123);\"></td><td title=\"Index: [6, 7]&#10;Color: (123, 234, 123)\" style=\"width: 20px; height: 20px;background-color: rgb(123, 234, 123);\"></td></tr><tr><td title=\"Index: [7, 0]&#10;Color: (123, 234, 123)\" style=\"width: 20px; height: 20px;background-color: rgb(123, 234, 123);\"></td><td title=\"Index: [7, 1]&#10;Color: (123, 234, 123)\" style=\"width: 20px; height: 20px;background-color: rgb(123, 234, 123);\"></td><td title=\"Index: [7, 2]&#10;Color: (123, 234, 123)\" style=\"width: 20px; height: 20px;background-color: rgb(123, 234, 123);\"></td><td title=\"Index: [7, 3]&#10;Color: (123, 234, 123)\" style=\"width: 20px; height: 20px;background-color: rgb(123, 234, 123);\"></td><td title=\"Index: [7, 4]&#10;Color: (123, 234, 123)\" style=\"width: 20px; height: 20px;background-color: rgb(123, 234, 123);\"></td><td title=\"Index: [7, 5]&#10;Color: (123, 234, 123)\" style=\"width: 20px; height: 20px;background-color: rgb(123, 234, 123);\"></td><td title=\"Index: [7, 6]&#10;Color: (123, 234, 123)\" style=\"width: 20px; height: 20px;background-color: rgb(123, 234, 123);\"></td><td title=\"Index: [7, 7]&#10;Color: (123, 234, 123)\" style=\"width: 20px; height: 20px;background-color: rgb(123, 234, 123);\"></td></tr></tbody></table>"
      ],
      "text/plain": [
       "<IPython.core.display.HTML object>"
      ]
     },
     "metadata": {},
     "output_type": "display_data"
    }
   ],
   "source": [
    "grid = BlockGrid(8, 8, fill=(123, 234, 123))\n",
    "grid[0:2,:] = colors['Teal']\n",
    "grid.show()"
   ]
  },
  {
   "cell_type": "code",
   "execution_count": 138,
   "metadata": {},
   "outputs": [
    {
     "name": "stdout",
     "output_type": "stream",
     "text": [
      "[17 18 19 20 21 22 23]\n"
     ]
    }
   ],
   "source": [
    "print a[2,1:]  # This is an element!"
   ]
  },
  {
   "cell_type": "code",
   "execution_count": 139,
   "metadata": {},
   "outputs": [
    {
     "data": {
      "text/html": [
       "<style type=\"text/css\">table.blockgrid {border: none;} .blockgrid tr {border: none;} .blockgrid td {padding: 0px;} #blockscd8ed065-9a3a-4dfe-bed4-cb96c2bd6834 td {border: 1px solid white;}</style><table id=\"blockscd8ed065-9a3a-4dfe-bed4-cb96c2bd6834\" class=\"blockgrid\"><tbody><tr><td title=\"Index: [0, 0]&#10;Color: (0, 128, 128)\" style=\"width: 20px; height: 20px;background-color: rgb(0, 128, 128);\"></td><td title=\"Index: [0, 1]&#10;Color: (0, 128, 128)\" style=\"width: 20px; height: 20px;background-color: rgb(0, 128, 128);\"></td><td title=\"Index: [0, 2]&#10;Color: (0, 128, 128)\" style=\"width: 20px; height: 20px;background-color: rgb(0, 128, 128);\"></td><td title=\"Index: [0, 3]&#10;Color: (0, 128, 128)\" style=\"width: 20px; height: 20px;background-color: rgb(0, 128, 128);\"></td><td title=\"Index: [0, 4]&#10;Color: (0, 128, 128)\" style=\"width: 20px; height: 20px;background-color: rgb(0, 128, 128);\"></td><td title=\"Index: [0, 5]&#10;Color: (0, 128, 128)\" style=\"width: 20px; height: 20px;background-color: rgb(0, 128, 128);\"></td><td title=\"Index: [0, 6]&#10;Color: (0, 128, 128)\" style=\"width: 20px; height: 20px;background-color: rgb(0, 128, 128);\"></td><td title=\"Index: [0, 7]&#10;Color: (0, 128, 128)\" style=\"width: 20px; height: 20px;background-color: rgb(0, 128, 128);\"></td></tr><tr><td title=\"Index: [1, 0]&#10;Color: (0, 128, 128)\" style=\"width: 20px; height: 20px;background-color: rgb(0, 128, 128);\"></td><td title=\"Index: [1, 1]&#10;Color: (0, 128, 128)\" style=\"width: 20px; height: 20px;background-color: rgb(0, 128, 128);\"></td><td title=\"Index: [1, 2]&#10;Color: (0, 128, 128)\" style=\"width: 20px; height: 20px;background-color: rgb(0, 128, 128);\"></td><td title=\"Index: [1, 3]&#10;Color: (0, 128, 128)\" style=\"width: 20px; height: 20px;background-color: rgb(0, 128, 128);\"></td><td title=\"Index: [1, 4]&#10;Color: (0, 128, 128)\" style=\"width: 20px; height: 20px;background-color: rgb(0, 128, 128);\"></td><td title=\"Index: [1, 5]&#10;Color: (0, 128, 128)\" style=\"width: 20px; height: 20px;background-color: rgb(0, 128, 128);\"></td><td title=\"Index: [1, 6]&#10;Color: (0, 128, 128)\" style=\"width: 20px; height: 20px;background-color: rgb(0, 128, 128);\"></td><td title=\"Index: [1, 7]&#10;Color: (0, 128, 128)\" style=\"width: 20px; height: 20px;background-color: rgb(0, 128, 128);\"></td></tr><tr><td title=\"Index: [2, 0]&#10;Color: (123, 234, 123)\" style=\"width: 20px; height: 20px;background-color: rgb(123, 234, 123);\"></td><td title=\"Index: [2, 1]&#10;Color: (0, 128, 128)\" style=\"width: 20px; height: 20px;background-color: rgb(0, 128, 128);\"></td><td title=\"Index: [2, 2]&#10;Color: (0, 128, 128)\" style=\"width: 20px; height: 20px;background-color: rgb(0, 128, 128);\"></td><td title=\"Index: [2, 3]&#10;Color: (0, 128, 128)\" style=\"width: 20px; height: 20px;background-color: rgb(0, 128, 128);\"></td><td title=\"Index: [2, 4]&#10;Color: (0, 128, 128)\" style=\"width: 20px; height: 20px;background-color: rgb(0, 128, 128);\"></td><td title=\"Index: [2, 5]&#10;Color: (0, 128, 128)\" style=\"width: 20px; height: 20px;background-color: rgb(0, 128, 128);\"></td><td title=\"Index: [2, 6]&#10;Color: (0, 128, 128)\" style=\"width: 20px; height: 20px;background-color: rgb(0, 128, 128);\"></td><td title=\"Index: [2, 7]&#10;Color: (0, 128, 128)\" style=\"width: 20px; height: 20px;background-color: rgb(0, 128, 128);\"></td></tr><tr><td title=\"Index: [3, 0]&#10;Color: (123, 234, 123)\" style=\"width: 20px; height: 20px;background-color: rgb(123, 234, 123);\"></td><td title=\"Index: [3, 1]&#10;Color: (123, 234, 123)\" style=\"width: 20px; height: 20px;background-color: rgb(123, 234, 123);\"></td><td title=\"Index: [3, 2]&#10;Color: (123, 234, 123)\" style=\"width: 20px; height: 20px;background-color: rgb(123, 234, 123);\"></td><td title=\"Index: [3, 3]&#10;Color: (123, 234, 123)\" style=\"width: 20px; height: 20px;background-color: rgb(123, 234, 123);\"></td><td title=\"Index: [3, 4]&#10;Color: (123, 234, 123)\" style=\"width: 20px; height: 20px;background-color: rgb(123, 234, 123);\"></td><td title=\"Index: [3, 5]&#10;Color: (123, 234, 123)\" style=\"width: 20px; height: 20px;background-color: rgb(123, 234, 123);\"></td><td title=\"Index: [3, 6]&#10;Color: (123, 234, 123)\" style=\"width: 20px; height: 20px;background-color: rgb(123, 234, 123);\"></td><td title=\"Index: [3, 7]&#10;Color: (123, 234, 123)\" style=\"width: 20px; height: 20px;background-color: rgb(123, 234, 123);\"></td></tr><tr><td title=\"Index: [4, 0]&#10;Color: (123, 234, 123)\" style=\"width: 20px; height: 20px;background-color: rgb(123, 234, 123);\"></td><td title=\"Index: [4, 1]&#10;Color: (123, 234, 123)\" style=\"width: 20px; height: 20px;background-color: rgb(123, 234, 123);\"></td><td title=\"Index: [4, 2]&#10;Color: (123, 234, 123)\" style=\"width: 20px; height: 20px;background-color: rgb(123, 234, 123);\"></td><td title=\"Index: [4, 3]&#10;Color: (123, 234, 123)\" style=\"width: 20px; height: 20px;background-color: rgb(123, 234, 123);\"></td><td title=\"Index: [4, 4]&#10;Color: (123, 234, 123)\" style=\"width: 20px; height: 20px;background-color: rgb(123, 234, 123);\"></td><td title=\"Index: [4, 5]&#10;Color: (123, 234, 123)\" style=\"width: 20px; height: 20px;background-color: rgb(123, 234, 123);\"></td><td title=\"Index: [4, 6]&#10;Color: (123, 234, 123)\" style=\"width: 20px; height: 20px;background-color: rgb(123, 234, 123);\"></td><td title=\"Index: [4, 7]&#10;Color: (123, 234, 123)\" style=\"width: 20px; height: 20px;background-color: rgb(123, 234, 123);\"></td></tr><tr><td title=\"Index: [5, 0]&#10;Color: (123, 234, 123)\" style=\"width: 20px; height: 20px;background-color: rgb(123, 234, 123);\"></td><td title=\"Index: [5, 1]&#10;Color: (123, 234, 123)\" style=\"width: 20px; height: 20px;background-color: rgb(123, 234, 123);\"></td><td title=\"Index: [5, 2]&#10;Color: (123, 234, 123)\" style=\"width: 20px; height: 20px;background-color: rgb(123, 234, 123);\"></td><td title=\"Index: [5, 3]&#10;Color: (123, 234, 123)\" style=\"width: 20px; height: 20px;background-color: rgb(123, 234, 123);\"></td><td title=\"Index: [5, 4]&#10;Color: (123, 234, 123)\" style=\"width: 20px; height: 20px;background-color: rgb(123, 234, 123);\"></td><td title=\"Index: [5, 5]&#10;Color: (123, 234, 123)\" style=\"width: 20px; height: 20px;background-color: rgb(123, 234, 123);\"></td><td title=\"Index: [5, 6]&#10;Color: (123, 234, 123)\" style=\"width: 20px; height: 20px;background-color: rgb(123, 234, 123);\"></td><td title=\"Index: [5, 7]&#10;Color: (123, 234, 123)\" style=\"width: 20px; height: 20px;background-color: rgb(123, 234, 123);\"></td></tr><tr><td title=\"Index: [6, 0]&#10;Color: (123, 234, 123)\" style=\"width: 20px; height: 20px;background-color: rgb(123, 234, 123);\"></td><td title=\"Index: [6, 1]&#10;Color: (123, 234, 123)\" style=\"width: 20px; height: 20px;background-color: rgb(123, 234, 123);\"></td><td title=\"Index: [6, 2]&#10;Color: (123, 234, 123)\" style=\"width: 20px; height: 20px;background-color: rgb(123, 234, 123);\"></td><td title=\"Index: [6, 3]&#10;Color: (123, 234, 123)\" style=\"width: 20px; height: 20px;background-color: rgb(123, 234, 123);\"></td><td title=\"Index: [6, 4]&#10;Color: (123, 234, 123)\" style=\"width: 20px; height: 20px;background-color: rgb(123, 234, 123);\"></td><td title=\"Index: [6, 5]&#10;Color: (123, 234, 123)\" style=\"width: 20px; height: 20px;background-color: rgb(123, 234, 123);\"></td><td title=\"Index: [6, 6]&#10;Color: (123, 234, 123)\" style=\"width: 20px; height: 20px;background-color: rgb(123, 234, 123);\"></td><td title=\"Index: [6, 7]&#10;Color: (123, 234, 123)\" style=\"width: 20px; height: 20px;background-color: rgb(123, 234, 123);\"></td></tr><tr><td title=\"Index: [7, 0]&#10;Color: (123, 234, 123)\" style=\"width: 20px; height: 20px;background-color: rgb(123, 234, 123);\"></td><td title=\"Index: [7, 1]&#10;Color: (123, 234, 123)\" style=\"width: 20px; height: 20px;background-color: rgb(123, 234, 123);\"></td><td title=\"Index: [7, 2]&#10;Color: (123, 234, 123)\" style=\"width: 20px; height: 20px;background-color: rgb(123, 234, 123);\"></td><td title=\"Index: [7, 3]&#10;Color: (123, 234, 123)\" style=\"width: 20px; height: 20px;background-color: rgb(123, 234, 123);\"></td><td title=\"Index: [7, 4]&#10;Color: (123, 234, 123)\" style=\"width: 20px; height: 20px;background-color: rgb(123, 234, 123);\"></td><td title=\"Index: [7, 5]&#10;Color: (123, 234, 123)\" style=\"width: 20px; height: 20px;background-color: rgb(123, 234, 123);\"></td><td title=\"Index: [7, 6]&#10;Color: (123, 234, 123)\" style=\"width: 20px; height: 20px;background-color: rgb(123, 234, 123);\"></td><td title=\"Index: [7, 7]&#10;Color: (123, 234, 123)\" style=\"width: 20px; height: 20px;background-color: rgb(123, 234, 123);\"></td></tr></tbody></table>"
      ],
      "text/plain": [
       "<IPython.core.display.HTML object>"
      ]
     },
     "metadata": {},
     "output_type": "display_data"
    }
   ],
   "source": [
    "grid[2,1:] = colors['Teal']\n",
    "grid.show()"
   ]
  },
  {
   "cell_type": "code",
   "execution_count": 140,
   "metadata": {},
   "outputs": [
    {
     "data": {
      "text/html": [
       "<style type=\"text/css\">table.blockgrid {border: none;} .blockgrid tr {border: none;} .blockgrid td {padding: 0px;} #blocksa5753360-9595-4742-b3a2-d8bc47483848 td {border: 1px solid white;}</style><table id=\"blocksa5753360-9595-4742-b3a2-d8bc47483848\" class=\"blockgrid\"><tbody><tr><td title=\"Index: [0, 0]&#10;Color: (0, 0, 0)\" style=\"width: 10px; height: 10px;background-color: rgb(0, 0, 0);\"></td><td title=\"Index: [0, 1]&#10;Color: (0, 0, 0)\" style=\"width: 10px; height: 10px;background-color: rgb(0, 0, 0);\"></td><td title=\"Index: [0, 2]&#10;Color: (0, 0, 0)\" style=\"width: 10px; height: 10px;background-color: rgb(0, 0, 0);\"></td><td title=\"Index: [0, 3]&#10;Color: (0, 0, 0)\" style=\"width: 10px; height: 10px;background-color: rgb(0, 0, 0);\"></td><td title=\"Index: [0, 4]&#10;Color: (123, 234, 123)\" style=\"width: 10px; height: 10px;background-color: rgb(123, 234, 123);\"></td><td title=\"Index: [0, 5]&#10;Color: (0, 0, 0)\" style=\"width: 10px; height: 10px;background-color: rgb(0, 0, 0);\"></td><td title=\"Index: [0, 6]&#10;Color: (123, 234, 123)\" style=\"width: 10px; height: 10px;background-color: rgb(123, 234, 123);\"></td><td title=\"Index: [0, 7]&#10;Color: (0, 0, 0)\" style=\"width: 10px; height: 10px;background-color: rgb(0, 0, 0);\"></td><td title=\"Index: [0, 8]&#10;Color: (123, 234, 123)\" style=\"width: 10px; height: 10px;background-color: rgb(123, 234, 123);\"></td><td title=\"Index: [0, 9]&#10;Color: (123, 234, 123)\" style=\"width: 10px; height: 10px;background-color: rgb(123, 234, 123);\"></td><td title=\"Index: [0, 10]&#10;Color: (123, 234, 123)\" style=\"width: 10px; height: 10px;background-color: rgb(123, 234, 123);\"></td><td title=\"Index: [0, 11]&#10;Color: (0, 0, 0)\" style=\"width: 10px; height: 10px;background-color: rgb(0, 0, 0);\"></td><td title=\"Index: [0, 12]&#10;Color: (123, 234, 123)\" style=\"width: 10px; height: 10px;background-color: rgb(123, 234, 123);\"></td><td title=\"Index: [0, 13]&#10;Color: (0, 0, 0)\" style=\"width: 10px; height: 10px;background-color: rgb(0, 0, 0);\"></td><td title=\"Index: [0, 14]&#10;Color: (123, 234, 123)\" style=\"width: 10px; height: 10px;background-color: rgb(123, 234, 123);\"></td><td title=\"Index: [0, 15]&#10;Color: (123, 234, 123)\" style=\"width: 10px; height: 10px;background-color: rgb(123, 234, 123);\"></td><td title=\"Index: [0, 16]&#10;Color: (123, 234, 123)\" style=\"width: 10px; height: 10px;background-color: rgb(123, 234, 123);\"></td><td title=\"Index: [0, 17]&#10;Color: (0, 0, 0)\" style=\"width: 10px; height: 10px;background-color: rgb(0, 0, 0);\"></td><td title=\"Index: [0, 18]&#10;Color: (123, 234, 123)\" style=\"width: 10px; height: 10px;background-color: rgb(123, 234, 123);\"></td><td title=\"Index: [0, 19]&#10;Color: (0, 0, 0)\" style=\"width: 10px; height: 10px;background-color: rgb(0, 0, 0);\"></td><td title=\"Index: [0, 20]&#10;Color: (123, 234, 123)\" style=\"width: 10px; height: 10px;background-color: rgb(123, 234, 123);\"></td><td title=\"Index: [0, 21]&#10;Color: (123, 234, 123)\" style=\"width: 10px; height: 10px;background-color: rgb(123, 234, 123);\"></td><td title=\"Index: [0, 22]&#10;Color: (123, 234, 123)\" style=\"width: 10px; height: 10px;background-color: rgb(123, 234, 123);\"></td><td title=\"Index: [0, 23]&#10;Color: (0, 0, 0)\" style=\"width: 10px; height: 10px;background-color: rgb(0, 0, 0);\"></td><td title=\"Index: [0, 24]&#10;Color: (123, 234, 123)\" style=\"width: 10px; height: 10px;background-color: rgb(123, 234, 123);\"></td><td title=\"Index: [0, 25]&#10;Color: (123, 234, 123)\" style=\"width: 10px; height: 10px;background-color: rgb(123, 234, 123);\"></td><td title=\"Index: [0, 26]&#10;Color: (123, 234, 123)\" style=\"width: 10px; height: 10px;background-color: rgb(123, 234, 123);\"></td><td title=\"Index: [0, 27]&#10;Color: (123, 234, 123)\" style=\"width: 10px; height: 10px;background-color: rgb(123, 234, 123);\"></td><td title=\"Index: [0, 28]&#10;Color: (123, 234, 123)\" style=\"width: 10px; height: 10px;background-color: rgb(123, 234, 123);\"></td><td title=\"Index: [0, 29]&#10;Color: (0, 0, 0)\" style=\"width: 10px; height: 10px;background-color: rgb(0, 0, 0);\"></td><td title=\"Index: [0, 30]&#10;Color: (123, 234, 123)\" style=\"width: 10px; height: 10px;background-color: rgb(123, 234, 123);\"></td><td title=\"Index: [0, 31]&#10;Color: (0, 0, 0)\" style=\"width: 10px; height: 10px;background-color: rgb(0, 0, 0);\"></td><td title=\"Index: [0, 32]&#10;Color: (123, 234, 123)\" style=\"width: 10px; height: 10px;background-color: rgb(123, 234, 123);\"></td><td title=\"Index: [0, 33]&#10;Color: (123, 234, 123)\" style=\"width: 10px; height: 10px;background-color: rgb(123, 234, 123);\"></td><td title=\"Index: [0, 34]&#10;Color: (123, 234, 123)\" style=\"width: 10px; height: 10px;background-color: rgb(123, 234, 123);\"></td><td title=\"Index: [0, 35]&#10;Color: (123, 234, 123)\" style=\"width: 10px; height: 10px;background-color: rgb(123, 234, 123);\"></td><td title=\"Index: [0, 36]&#10;Color: (123, 234, 123)\" style=\"width: 10px; height: 10px;background-color: rgb(123, 234, 123);\"></td><td title=\"Index: [0, 37]&#10;Color: (0, 0, 0)\" style=\"width: 10px; height: 10px;background-color: rgb(0, 0, 0);\"></td><td title=\"Index: [0, 38]&#10;Color: (123, 234, 123)\" style=\"width: 10px; height: 10px;background-color: rgb(123, 234, 123);\"></td><td title=\"Index: [0, 39]&#10;Color: (123, 234, 123)\" style=\"width: 10px; height: 10px;background-color: rgb(123, 234, 123);\"></td><td title=\"Index: [0, 40]&#10;Color: (123, 234, 123)\" style=\"width: 10px; height: 10px;background-color: rgb(123, 234, 123);\"></td><td title=\"Index: [0, 41]&#10;Color: (0, 0, 0)\" style=\"width: 10px; height: 10px;background-color: rgb(0, 0, 0);\"></td><td title=\"Index: [0, 42]&#10;Color: (123, 234, 123)\" style=\"width: 10px; height: 10px;background-color: rgb(123, 234, 123);\"></td><td title=\"Index: [0, 43]&#10;Color: (0, 0, 0)\" style=\"width: 10px; height: 10px;background-color: rgb(0, 0, 0);\"></td><td title=\"Index: [0, 44]&#10;Color: (123, 234, 123)\" style=\"width: 10px; height: 10px;background-color: rgb(123, 234, 123);\"></td><td title=\"Index: [0, 45]&#10;Color: (123, 234, 123)\" style=\"width: 10px; height: 10px;background-color: rgb(123, 234, 123);\"></td><td title=\"Index: [0, 46]&#10;Color: (123, 234, 123)\" style=\"width: 10px; height: 10px;background-color: rgb(123, 234, 123);\"></td><td title=\"Index: [0, 47]&#10;Color: (0, 0, 0)\" style=\"width: 10px; height: 10px;background-color: rgb(0, 0, 0);\"></td><td title=\"Index: [0, 48]&#10;Color: (123, 234, 123)\" style=\"width: 10px; height: 10px;background-color: rgb(123, 234, 123);\"></td><td title=\"Index: [0, 49]&#10;Color: (123, 234, 123)\" style=\"width: 10px; height: 10px;background-color: rgb(123, 234, 123);\"></td></tr><tr><td title=\"Index: [1, 0]&#10;Color: (123, 234, 123)\" style=\"width: 10px; height: 10px;background-color: rgb(123, 234, 123);\"></td><td title=\"Index: [1, 1]&#10;Color: (123, 234, 123)\" style=\"width: 10px; height: 10px;background-color: rgb(123, 234, 123);\"></td><td title=\"Index: [1, 2]&#10;Color: (123, 234, 123)\" style=\"width: 10px; height: 10px;background-color: rgb(123, 234, 123);\"></td><td title=\"Index: [1, 3]&#10;Color: (0, 0, 0)\" style=\"width: 10px; height: 10px;background-color: rgb(0, 0, 0);\"></td><td title=\"Index: [1, 4]&#10;Color: (123, 234, 123)\" style=\"width: 10px; height: 10px;background-color: rgb(123, 234, 123);\"></td><td title=\"Index: [1, 5]&#10;Color: (123, 234, 123)\" style=\"width: 10px; height: 10px;background-color: rgb(123, 234, 123);\"></td><td title=\"Index: [1, 6]&#10;Color: (123, 234, 123)\" style=\"width: 10px; height: 10px;background-color: rgb(123, 234, 123);\"></td><td title=\"Index: [1, 7]&#10;Color: (123, 234, 123)\" style=\"width: 10px; height: 10px;background-color: rgb(123, 234, 123);\"></td><td title=\"Index: [1, 8]&#10;Color: (123, 234, 123)\" style=\"width: 10px; height: 10px;background-color: rgb(123, 234, 123);\"></td><td title=\"Index: [1, 9]&#10;Color: (0, 0, 0)\" style=\"width: 10px; height: 10px;background-color: rgb(0, 0, 0);\"></td><td title=\"Index: [1, 10]&#10;Color: (123, 234, 123)\" style=\"width: 10px; height: 10px;background-color: rgb(123, 234, 123);\"></td><td title=\"Index: [1, 11]&#10;Color: (0, 0, 0)\" style=\"width: 10px; height: 10px;background-color: rgb(0, 0, 0);\"></td><td title=\"Index: [1, 12]&#10;Color: (123, 234, 123)\" style=\"width: 10px; height: 10px;background-color: rgb(123, 234, 123);\"></td><td title=\"Index: [1, 13]&#10;Color: (123, 234, 123)\" style=\"width: 10px; height: 10px;background-color: rgb(123, 234, 123);\"></td><td title=\"Index: [1, 14]&#10;Color: (123, 234, 123)\" style=\"width: 10px; height: 10px;background-color: rgb(123, 234, 123);\"></td><td title=\"Index: [1, 15]&#10;Color: (123, 234, 123)\" style=\"width: 10px; height: 10px;background-color: rgb(123, 234, 123);\"></td><td title=\"Index: [1, 16]&#10;Color: (123, 234, 123)\" style=\"width: 10px; height: 10px;background-color: rgb(123, 234, 123);\"></td><td title=\"Index: [1, 17]&#10;Color: (0, 0, 0)\" style=\"width: 10px; height: 10px;background-color: rgb(0, 0, 0);\"></td><td title=\"Index: [1, 18]&#10;Color: (123, 234, 123)\" style=\"width: 10px; height: 10px;background-color: rgb(123, 234, 123);\"></td><td title=\"Index: [1, 19]&#10;Color: (123, 234, 123)\" style=\"width: 10px; height: 10px;background-color: rgb(123, 234, 123);\"></td><td title=\"Index: [1, 20]&#10;Color: (123, 234, 123)\" style=\"width: 10px; height: 10px;background-color: rgb(123, 234, 123);\"></td><td title=\"Index: [1, 21]&#10;Color: (0, 0, 0)\" style=\"width: 10px; height: 10px;background-color: rgb(0, 0, 0);\"></td><td title=\"Index: [1, 22]&#10;Color: (123, 234, 123)\" style=\"width: 10px; height: 10px;background-color: rgb(123, 234, 123);\"></td><td title=\"Index: [1, 23]&#10;Color: (0, 0, 0)\" style=\"width: 10px; height: 10px;background-color: rgb(0, 0, 0);\"></td><td title=\"Index: [1, 24]&#10;Color: (123, 234, 123)\" style=\"width: 10px; height: 10px;background-color: rgb(123, 234, 123);\"></td><td title=\"Index: [1, 25]&#10;Color: (123, 234, 123)\" style=\"width: 10px; height: 10px;background-color: rgb(123, 234, 123);\"></td><td title=\"Index: [1, 26]&#10;Color: (123, 234, 123)\" style=\"width: 10px; height: 10px;background-color: rgb(123, 234, 123);\"></td><td title=\"Index: [1, 27]&#10;Color: (123, 234, 123)\" style=\"width: 10px; height: 10px;background-color: rgb(123, 234, 123);\"></td><td title=\"Index: [1, 28]&#10;Color: (123, 234, 123)\" style=\"width: 10px; height: 10px;background-color: rgb(123, 234, 123);\"></td><td title=\"Index: [1, 29]&#10;Color: (0, 0, 0)\" style=\"width: 10px; height: 10px;background-color: rgb(0, 0, 0);\"></td><td title=\"Index: [1, 30]&#10;Color: (123, 234, 123)\" style=\"width: 10px; height: 10px;background-color: rgb(123, 234, 123);\"></td><td title=\"Index: [1, 31]&#10;Color: (123, 234, 123)\" style=\"width: 10px; height: 10px;background-color: rgb(123, 234, 123);\"></td><td title=\"Index: [1, 32]&#10;Color: (123, 234, 123)\" style=\"width: 10px; height: 10px;background-color: rgb(123, 234, 123);\"></td><td title=\"Index: [1, 33]&#10;Color: (0, 0, 0)\" style=\"width: 10px; height: 10px;background-color: rgb(0, 0, 0);\"></td><td title=\"Index: [1, 34]&#10;Color: (123, 234, 123)\" style=\"width: 10px; height: 10px;background-color: rgb(123, 234, 123);\"></td><td title=\"Index: [1, 35]&#10;Color: (123, 234, 123)\" style=\"width: 10px; height: 10px;background-color: rgb(123, 234, 123);\"></td><td title=\"Index: [1, 36]&#10;Color: (123, 234, 123)\" style=\"width: 10px; height: 10px;background-color: rgb(123, 234, 123);\"></td><td title=\"Index: [1, 37]&#10;Color: (123, 234, 123)\" style=\"width: 10px; height: 10px;background-color: rgb(123, 234, 123);\"></td><td title=\"Index: [1, 38]&#10;Color: (123, 234, 123)\" style=\"width: 10px; height: 10px;background-color: rgb(123, 234, 123);\"></td><td title=\"Index: [1, 39]&#10;Color: (0, 0, 0)\" style=\"width: 10px; height: 10px;background-color: rgb(0, 0, 0);\"></td><td title=\"Index: [1, 40]&#10;Color: (123, 234, 123)\" style=\"width: 10px; height: 10px;background-color: rgb(123, 234, 123);\"></td><td title=\"Index: [1, 41]&#10;Color: (123, 234, 123)\" style=\"width: 10px; height: 10px;background-color: rgb(123, 234, 123);\"></td><td title=\"Index: [1, 42]&#10;Color: (123, 234, 123)\" style=\"width: 10px; height: 10px;background-color: rgb(123, 234, 123);\"></td><td title=\"Index: [1, 43]&#10;Color: (123, 234, 123)\" style=\"width: 10px; height: 10px;background-color: rgb(123, 234, 123);\"></td><td title=\"Index: [1, 44]&#10;Color: (123, 234, 123)\" style=\"width: 10px; height: 10px;background-color: rgb(123, 234, 123);\"></td><td title=\"Index: [1, 45]&#10;Color: (123, 234, 123)\" style=\"width: 10px; height: 10px;background-color: rgb(123, 234, 123);\"></td><td title=\"Index: [1, 46]&#10;Color: (123, 234, 123)\" style=\"width: 10px; height: 10px;background-color: rgb(123, 234, 123);\"></td><td title=\"Index: [1, 47]&#10;Color: (0, 0, 0)\" style=\"width: 10px; height: 10px;background-color: rgb(0, 0, 0);\"></td><td title=\"Index: [1, 48]&#10;Color: (123, 234, 123)\" style=\"width: 10px; height: 10px;background-color: rgb(123, 234, 123);\"></td><td title=\"Index: [1, 49]&#10;Color: (123, 234, 123)\" style=\"width: 10px; height: 10px;background-color: rgb(123, 234, 123);\"></td></tr><tr><td title=\"Index: [2, 0]&#10;Color: (123, 234, 123)\" style=\"width: 10px; height: 10px;background-color: rgb(123, 234, 123);\"></td><td title=\"Index: [2, 1]&#10;Color: (0, 0, 0)\" style=\"width: 10px; height: 10px;background-color: rgb(0, 0, 0);\"></td><td title=\"Index: [2, 2]&#10;Color: (123, 234, 123)\" style=\"width: 10px; height: 10px;background-color: rgb(123, 234, 123);\"></td><td title=\"Index: [2, 3]&#10;Color: (0, 0, 0)\" style=\"width: 10px; height: 10px;background-color: rgb(0, 0, 0);\"></td><td title=\"Index: [2, 4]&#10;Color: (123, 234, 123)\" style=\"width: 10px; height: 10px;background-color: rgb(123, 234, 123);\"></td><td title=\"Index: [2, 5]&#10;Color: (123, 234, 123)\" style=\"width: 10px; height: 10px;background-color: rgb(123, 234, 123);\"></td><td title=\"Index: [2, 6]&#10;Color: (123, 234, 123)\" style=\"width: 10px; height: 10px;background-color: rgb(123, 234, 123);\"></td><td title=\"Index: [2, 7]&#10;Color: (0, 0, 0)\" style=\"width: 10px; height: 10px;background-color: rgb(0, 0, 0);\"></td><td title=\"Index: [2, 8]&#10;Color: (123, 234, 123)\" style=\"width: 10px; height: 10px;background-color: rgb(123, 234, 123);\"></td><td title=\"Index: [2, 9]&#10;Color: (0, 0, 0)\" style=\"width: 10px; height: 10px;background-color: rgb(0, 0, 0);\"></td><td title=\"Index: [2, 10]&#10;Color: (123, 234, 123)\" style=\"width: 10px; height: 10px;background-color: rgb(123, 234, 123);\"></td><td title=\"Index: [2, 11]&#10;Color: (123, 234, 123)\" style=\"width: 10px; height: 10px;background-color: rgb(123, 234, 123);\"></td><td title=\"Index: [2, 12]&#10;Color: (123, 234, 123)\" style=\"width: 10px; height: 10px;background-color: rgb(123, 234, 123);\"></td><td title=\"Index: [2, 13]&#10;Color: (0, 0, 0)\" style=\"width: 10px; height: 10px;background-color: rgb(0, 0, 0);\"></td><td title=\"Index: [2, 14]&#10;Color: (123, 234, 123)\" style=\"width: 10px; height: 10px;background-color: rgb(123, 234, 123);\"></td><td title=\"Index: [2, 15]&#10;Color: (123, 234, 123)\" style=\"width: 10px; height: 10px;background-color: rgb(123, 234, 123);\"></td><td title=\"Index: [2, 16]&#10;Color: (123, 234, 123)\" style=\"width: 10px; height: 10px;background-color: rgb(123, 234, 123);\"></td><td title=\"Index: [2, 17]&#10;Color: (123, 234, 123)\" style=\"width: 10px; height: 10px;background-color: rgb(123, 234, 123);\"></td><td title=\"Index: [2, 18]&#10;Color: (123, 234, 123)\" style=\"width: 10px; height: 10px;background-color: rgb(123, 234, 123);\"></td><td title=\"Index: [2, 19]&#10;Color: (123, 234, 123)\" style=\"width: 10px; height: 10px;background-color: rgb(123, 234, 123);\"></td><td title=\"Index: [2, 20]&#10;Color: (123, 234, 123)\" style=\"width: 10px; height: 10px;background-color: rgb(123, 234, 123);\"></td><td title=\"Index: [2, 21]&#10;Color: (123, 234, 123)\" style=\"width: 10px; height: 10px;background-color: rgb(123, 234, 123);\"></td><td title=\"Index: [2, 22]&#10;Color: (123, 234, 123)\" style=\"width: 10px; height: 10px;background-color: rgb(123, 234, 123);\"></td><td title=\"Index: [2, 23]&#10;Color: (123, 234, 123)\" style=\"width: 10px; height: 10px;background-color: rgb(123, 234, 123);\"></td><td title=\"Index: [2, 24]&#10;Color: (123, 234, 123)\" style=\"width: 10px; height: 10px;background-color: rgb(123, 234, 123);\"></td><td title=\"Index: [2, 25]&#10;Color: (123, 234, 123)\" style=\"width: 10px; height: 10px;background-color: rgb(123, 234, 123);\"></td><td title=\"Index: [2, 26]&#10;Color: (123, 234, 123)\" style=\"width: 10px; height: 10px;background-color: rgb(123, 234, 123);\"></td><td title=\"Index: [2, 27]&#10;Color: (0, 0, 0)\" style=\"width: 10px; height: 10px;background-color: rgb(0, 0, 0);\"></td><td title=\"Index: [2, 28]&#10;Color: (123, 234, 123)\" style=\"width: 10px; height: 10px;background-color: rgb(123, 234, 123);\"></td><td title=\"Index: [2, 29]&#10;Color: (123, 234, 123)\" style=\"width: 10px; height: 10px;background-color: rgb(123, 234, 123);\"></td><td title=\"Index: [2, 30]&#10;Color: (123, 234, 123)\" style=\"width: 10px; height: 10px;background-color: rgb(123, 234, 123);\"></td><td title=\"Index: [2, 31]&#10;Color: (0, 0, 0)\" style=\"width: 10px; height: 10px;background-color: rgb(0, 0, 0);\"></td><td title=\"Index: [2, 32]&#10;Color: (123, 234, 123)\" style=\"width: 10px; height: 10px;background-color: rgb(123, 234, 123);\"></td><td title=\"Index: [2, 33]&#10;Color: (123, 234, 123)\" style=\"width: 10px; height: 10px;background-color: rgb(123, 234, 123);\"></td><td title=\"Index: [2, 34]&#10;Color: (123, 234, 123)\" style=\"width: 10px; height: 10px;background-color: rgb(123, 234, 123);\"></td><td title=\"Index: [2, 35]&#10;Color: (123, 234, 123)\" style=\"width: 10px; height: 10px;background-color: rgb(123, 234, 123);\"></td><td title=\"Index: [2, 36]&#10;Color: (123, 234, 123)\" style=\"width: 10px; height: 10px;background-color: rgb(123, 234, 123);\"></td><td title=\"Index: [2, 37]&#10;Color: (0, 0, 0)\" style=\"width: 10px; height: 10px;background-color: rgb(0, 0, 0);\"></td><td title=\"Index: [2, 38]&#10;Color: (123, 234, 123)\" style=\"width: 10px; height: 10px;background-color: rgb(123, 234, 123);\"></td><td title=\"Index: [2, 39]&#10;Color: (0, 0, 0)\" style=\"width: 10px; height: 10px;background-color: rgb(0, 0, 0);\"></td><td title=\"Index: [2, 40]&#10;Color: (123, 234, 123)\" style=\"width: 10px; height: 10px;background-color: rgb(123, 234, 123);\"></td><td title=\"Index: [2, 41]&#10;Color: (123, 234, 123)\" style=\"width: 10px; height: 10px;background-color: rgb(123, 234, 123);\"></td><td title=\"Index: [2, 42]&#10;Color: (123, 234, 123)\" style=\"width: 10px; height: 10px;background-color: rgb(123, 234, 123);\"></td><td title=\"Index: [2, 43]&#10;Color: (123, 234, 123)\" style=\"width: 10px; height: 10px;background-color: rgb(123, 234, 123);\"></td><td title=\"Index: [2, 44]&#10;Color: (123, 234, 123)\" style=\"width: 10px; height: 10px;background-color: rgb(123, 234, 123);\"></td><td title=\"Index: [2, 45]&#10;Color: (123, 234, 123)\" style=\"width: 10px; height: 10px;background-color: rgb(123, 234, 123);\"></td><td title=\"Index: [2, 46]&#10;Color: (123, 234, 123)\" style=\"width: 10px; height: 10px;background-color: rgb(123, 234, 123);\"></td><td title=\"Index: [2, 47]&#10;Color: (123, 234, 123)\" style=\"width: 10px; height: 10px;background-color: rgb(123, 234, 123);\"></td><td title=\"Index: [2, 48]&#10;Color: (123, 234, 123)\" style=\"width: 10px; height: 10px;background-color: rgb(123, 234, 123);\"></td><td title=\"Index: [2, 49]&#10;Color: (0, 0, 0)\" style=\"width: 10px; height: 10px;background-color: rgb(0, 0, 0);\"></td></tr><tr><td title=\"Index: [3, 0]&#10;Color: (123, 234, 123)\" style=\"width: 10px; height: 10px;background-color: rgb(123, 234, 123);\"></td><td title=\"Index: [3, 1]&#10;Color: (0, 0, 0)\" style=\"width: 10px; height: 10px;background-color: rgb(0, 0, 0);\"></td><td title=\"Index: [3, 2]&#10;Color: (123, 234, 123)\" style=\"width: 10px; height: 10px;background-color: rgb(123, 234, 123);\"></td><td title=\"Index: [3, 3]&#10;Color: (123, 234, 123)\" style=\"width: 10px; height: 10px;background-color: rgb(123, 234, 123);\"></td><td title=\"Index: [3, 4]&#10;Color: (123, 234, 123)\" style=\"width: 10px; height: 10px;background-color: rgb(123, 234, 123);\"></td><td title=\"Index: [3, 5]&#10;Color: (123, 234, 123)\" style=\"width: 10px; height: 10px;background-color: rgb(123, 234, 123);\"></td><td title=\"Index: [3, 6]&#10;Color: (123, 234, 123)\" style=\"width: 10px; height: 10px;background-color: rgb(123, 234, 123);\"></td><td title=\"Index: [3, 7]&#10;Color: (0, 0, 0)\" style=\"width: 10px; height: 10px;background-color: rgb(0, 0, 0);\"></td><td title=\"Index: [3, 8]&#10;Color: (123, 234, 123)\" style=\"width: 10px; height: 10px;background-color: rgb(123, 234, 123);\"></td><td title=\"Index: [3, 9]&#10;Color: (123, 234, 123)\" style=\"width: 10px; height: 10px;background-color: rgb(123, 234, 123);\"></td><td title=\"Index: [3, 10]&#10;Color: (123, 234, 123)\" style=\"width: 10px; height: 10px;background-color: rgb(123, 234, 123);\"></td><td title=\"Index: [3, 11]&#10;Color: (123, 234, 123)\" style=\"width: 10px; height: 10px;background-color: rgb(123, 234, 123);\"></td><td title=\"Index: [3, 12]&#10;Color: (123, 234, 123)\" style=\"width: 10px; height: 10px;background-color: rgb(123, 234, 123);\"></td><td title=\"Index: [3, 13]&#10;Color: (0, 0, 0)\" style=\"width: 10px; height: 10px;background-color: rgb(0, 0, 0);\"></td><td title=\"Index: [3, 14]&#10;Color: (123, 234, 123)\" style=\"width: 10px; height: 10px;background-color: rgb(123, 234, 123);\"></td><td title=\"Index: [3, 15]&#10;Color: (123, 234, 123)\" style=\"width: 10px; height: 10px;background-color: rgb(123, 234, 123);\"></td><td title=\"Index: [3, 16]&#10;Color: (123, 234, 123)\" style=\"width: 10px; height: 10px;background-color: rgb(123, 234, 123);\"></td><td title=\"Index: [3, 17]&#10;Color: (0, 0, 0)\" style=\"width: 10px; height: 10px;background-color: rgb(0, 0, 0);\"></td><td title=\"Index: [3, 18]&#10;Color: (123, 234, 123)\" style=\"width: 10px; height: 10px;background-color: rgb(123, 234, 123);\"></td><td title=\"Index: [3, 19]&#10;Color: (123, 234, 123)\" style=\"width: 10px; height: 10px;background-color: rgb(123, 234, 123);\"></td><td title=\"Index: [3, 20]&#10;Color: (123, 234, 123)\" style=\"width: 10px; height: 10px;background-color: rgb(123, 234, 123);\"></td><td title=\"Index: [3, 21]&#10;Color: (123, 234, 123)\" style=\"width: 10px; height: 10px;background-color: rgb(123, 234, 123);\"></td><td title=\"Index: [3, 22]&#10;Color: (123, 234, 123)\" style=\"width: 10px; height: 10px;background-color: rgb(123, 234, 123);\"></td><td title=\"Index: [3, 23]&#10;Color: (0, 0, 0)\" style=\"width: 10px; height: 10px;background-color: rgb(0, 0, 0);\"></td><td title=\"Index: [3, 24]&#10;Color: (123, 234, 123)\" style=\"width: 10px; height: 10px;background-color: rgb(123, 234, 123);\"></td><td title=\"Index: [3, 25]&#10;Color: (123, 234, 123)\" style=\"width: 10px; height: 10px;background-color: rgb(123, 234, 123);\"></td><td title=\"Index: [3, 26]&#10;Color: (123, 234, 123)\" style=\"width: 10px; height: 10px;background-color: rgb(123, 234, 123);\"></td><td title=\"Index: [3, 27]&#10;Color: (123, 234, 123)\" style=\"width: 10px; height: 10px;background-color: rgb(123, 234, 123);\"></td><td title=\"Index: [3, 28]&#10;Color: (123, 234, 123)\" style=\"width: 10px; height: 10px;background-color: rgb(123, 234, 123);\"></td><td title=\"Index: [3, 29]&#10;Color: (0, 0, 0)\" style=\"width: 10px; height: 10px;background-color: rgb(0, 0, 0);\"></td><td title=\"Index: [3, 30]&#10;Color: (123, 234, 123)\" style=\"width: 10px; height: 10px;background-color: rgb(123, 234, 123);\"></td><td title=\"Index: [3, 31]&#10;Color: (0, 0, 0)\" style=\"width: 10px; height: 10px;background-color: rgb(0, 0, 0);\"></td><td title=\"Index: [3, 32]&#10;Color: (123, 234, 123)\" style=\"width: 10px; height: 10px;background-color: rgb(123, 234, 123);\"></td><td title=\"Index: [3, 33]&#10;Color: (123, 234, 123)\" style=\"width: 10px; height: 10px;background-color: rgb(123, 234, 123);\"></td><td title=\"Index: [3, 34]&#10;Color: (123, 234, 123)\" style=\"width: 10px; height: 10px;background-color: rgb(123, 234, 123);\"></td><td title=\"Index: [3, 35]&#10;Color: (123, 234, 123)\" style=\"width: 10px; height: 10px;background-color: rgb(123, 234, 123);\"></td><td title=\"Index: [3, 36]&#10;Color: (123, 234, 123)\" style=\"width: 10px; height: 10px;background-color: rgb(123, 234, 123);\"></td><td title=\"Index: [3, 37]&#10;Color: (123, 234, 123)\" style=\"width: 10px; height: 10px;background-color: rgb(123, 234, 123);\"></td><td title=\"Index: [3, 38]&#10;Color: (123, 234, 123)\" style=\"width: 10px; height: 10px;background-color: rgb(123, 234, 123);\"></td><td title=\"Index: [3, 39]&#10;Color: (123, 234, 123)\" style=\"width: 10px; height: 10px;background-color: rgb(123, 234, 123);\"></td><td title=\"Index: [3, 40]&#10;Color: (123, 234, 123)\" style=\"width: 10px; height: 10px;background-color: rgb(123, 234, 123);\"></td><td title=\"Index: [3, 41]&#10;Color: (0, 0, 0)\" style=\"width: 10px; height: 10px;background-color: rgb(0, 0, 0);\"></td><td title=\"Index: [3, 42]&#10;Color: (123, 234, 123)\" style=\"width: 10px; height: 10px;background-color: rgb(123, 234, 123);\"></td><td title=\"Index: [3, 43]&#10;Color: (0, 0, 0)\" style=\"width: 10px; height: 10px;background-color: rgb(0, 0, 0);\"></td><td title=\"Index: [3, 44]&#10;Color: (123, 234, 123)\" style=\"width: 10px; height: 10px;background-color: rgb(123, 234, 123);\"></td><td title=\"Index: [3, 45]&#10;Color: (123, 234, 123)\" style=\"width: 10px; height: 10px;background-color: rgb(123, 234, 123);\"></td><td title=\"Index: [3, 46]&#10;Color: (123, 234, 123)\" style=\"width: 10px; height: 10px;background-color: rgb(123, 234, 123);\"></td><td title=\"Index: [3, 47]&#10;Color: (0, 0, 0)\" style=\"width: 10px; height: 10px;background-color: rgb(0, 0, 0);\"></td><td title=\"Index: [3, 48]&#10;Color: (123, 234, 123)\" style=\"width: 10px; height: 10px;background-color: rgb(123, 234, 123);\"></td><td title=\"Index: [3, 49]&#10;Color: (0, 0, 0)\" style=\"width: 10px; height: 10px;background-color: rgb(0, 0, 0);\"></td></tr><tr><td title=\"Index: [4, 0]&#10;Color: (123, 234, 123)\" style=\"width: 10px; height: 10px;background-color: rgb(123, 234, 123);\"></td><td title=\"Index: [4, 1]&#10;Color: (123, 234, 123)\" style=\"width: 10px; height: 10px;background-color: rgb(123, 234, 123);\"></td><td title=\"Index: [4, 2]&#10;Color: (123, 234, 123)\" style=\"width: 10px; height: 10px;background-color: rgb(123, 234, 123);\"></td><td title=\"Index: [4, 3]&#10;Color: (123, 234, 123)\" style=\"width: 10px; height: 10px;background-color: rgb(123, 234, 123);\"></td><td title=\"Index: [4, 4]&#10;Color: (123, 234, 123)\" style=\"width: 10px; height: 10px;background-color: rgb(123, 234, 123);\"></td><td title=\"Index: [4, 5]&#10;Color: (123, 234, 123)\" style=\"width: 10px; height: 10px;background-color: rgb(123, 234, 123);\"></td><td title=\"Index: [4, 6]&#10;Color: (123, 234, 123)\" style=\"width: 10px; height: 10px;background-color: rgb(123, 234, 123);\"></td><td title=\"Index: [4, 7]&#10;Color: (123, 234, 123)\" style=\"width: 10px; height: 10px;background-color: rgb(123, 234, 123);\"></td><td title=\"Index: [4, 8]&#10;Color: (123, 234, 123)\" style=\"width: 10px; height: 10px;background-color: rgb(123, 234, 123);\"></td><td title=\"Index: [4, 9]&#10;Color: (123, 234, 123)\" style=\"width: 10px; height: 10px;background-color: rgb(123, 234, 123);\"></td><td title=\"Index: [4, 10]&#10;Color: (123, 234, 123)\" style=\"width: 10px; height: 10px;background-color: rgb(123, 234, 123);\"></td><td title=\"Index: [4, 11]&#10;Color: (0, 0, 0)\" style=\"width: 10px; height: 10px;background-color: rgb(0, 0, 0);\"></td><td title=\"Index: [4, 12]&#10;Color: (123, 234, 123)\" style=\"width: 10px; height: 10px;background-color: rgb(123, 234, 123);\"></td><td title=\"Index: [4, 13]&#10;Color: (123, 234, 123)\" style=\"width: 10px; height: 10px;background-color: rgb(123, 234, 123);\"></td><td title=\"Index: [4, 14]&#10;Color: (123, 234, 123)\" style=\"width: 10px; height: 10px;background-color: rgb(123, 234, 123);\"></td><td title=\"Index: [4, 15]&#10;Color: (123, 234, 123)\" style=\"width: 10px; height: 10px;background-color: rgb(123, 234, 123);\"></td><td title=\"Index: [4, 16]&#10;Color: (123, 234, 123)\" style=\"width: 10px; height: 10px;background-color: rgb(123, 234, 123);\"></td><td title=\"Index: [4, 17]&#10;Color: (123, 234, 123)\" style=\"width: 10px; height: 10px;background-color: rgb(123, 234, 123);\"></td><td title=\"Index: [4, 18]&#10;Color: (123, 234, 123)\" style=\"width: 10px; height: 10px;background-color: rgb(123, 234, 123);\"></td><td title=\"Index: [4, 19]&#10;Color: (123, 234, 123)\" style=\"width: 10px; height: 10px;background-color: rgb(123, 234, 123);\"></td><td title=\"Index: [4, 20]&#10;Color: (123, 234, 123)\" style=\"width: 10px; height: 10px;background-color: rgb(123, 234, 123);\"></td><td title=\"Index: [4, 21]&#10;Color: (123, 234, 123)\" style=\"width: 10px; height: 10px;background-color: rgb(123, 234, 123);\"></td><td title=\"Index: [4, 22]&#10;Color: (123, 234, 123)\" style=\"width: 10px; height: 10px;background-color: rgb(123, 234, 123);\"></td><td title=\"Index: [4, 23]&#10;Color: (0, 0, 0)\" style=\"width: 10px; height: 10px;background-color: rgb(0, 0, 0);\"></td><td title=\"Index: [4, 24]&#10;Color: (123, 234, 123)\" style=\"width: 10px; height: 10px;background-color: rgb(123, 234, 123);\"></td><td title=\"Index: [4, 25]&#10;Color: (123, 234, 123)\" style=\"width: 10px; height: 10px;background-color: rgb(123, 234, 123);\"></td><td title=\"Index: [4, 26]&#10;Color: (123, 234, 123)\" style=\"width: 10px; height: 10px;background-color: rgb(123, 234, 123);\"></td><td title=\"Index: [4, 27]&#10;Color: (0, 0, 0)\" style=\"width: 10px; height: 10px;background-color: rgb(0, 0, 0);\"></td><td title=\"Index: [4, 28]&#10;Color: (123, 234, 123)\" style=\"width: 10px; height: 10px;background-color: rgb(123, 234, 123);\"></td><td title=\"Index: [4, 29]&#10;Color: (0, 0, 0)\" style=\"width: 10px; height: 10px;background-color: rgb(0, 0, 0);\"></td><td title=\"Index: [4, 30]&#10;Color: (123, 234, 123)\" style=\"width: 10px; height: 10px;background-color: rgb(123, 234, 123);\"></td><td title=\"Index: [4, 31]&#10;Color: (123, 234, 123)\" style=\"width: 10px; height: 10px;background-color: rgb(123, 234, 123);\"></td><td title=\"Index: [4, 32]&#10;Color: (123, 234, 123)\" style=\"width: 10px; height: 10px;background-color: rgb(123, 234, 123);\"></td><td title=\"Index: [4, 33]&#10;Color: (0, 0, 0)\" style=\"width: 10px; height: 10px;background-color: rgb(0, 0, 0);\"></td><td title=\"Index: [4, 34]&#10;Color: (123, 234, 123)\" style=\"width: 10px; height: 10px;background-color: rgb(123, 234, 123);\"></td><td title=\"Index: [4, 35]&#10;Color: (123, 234, 123)\" style=\"width: 10px; height: 10px;background-color: rgb(123, 234, 123);\"></td><td title=\"Index: [4, 36]&#10;Color: (123, 234, 123)\" style=\"width: 10px; height: 10px;background-color: rgb(123, 234, 123);\"></td><td title=\"Index: [4, 37]&#10;Color: (123, 234, 123)\" style=\"width: 10px; height: 10px;background-color: rgb(123, 234, 123);\"></td><td title=\"Index: [4, 38]&#10;Color: (123, 234, 123)\" style=\"width: 10px; height: 10px;background-color: rgb(123, 234, 123);\"></td><td title=\"Index: [4, 39]&#10;Color: (0, 0, 0)\" style=\"width: 10px; height: 10px;background-color: rgb(0, 0, 0);\"></td><td title=\"Index: [4, 40]&#10;Color: (123, 234, 123)\" style=\"width: 10px; height: 10px;background-color: rgb(123, 234, 123);\"></td><td title=\"Index: [4, 41]&#10;Color: (0, 0, 0)\" style=\"width: 10px; height: 10px;background-color: rgb(0, 0, 0);\"></td><td title=\"Index: [4, 42]&#10;Color: (123, 234, 123)\" style=\"width: 10px; height: 10px;background-color: rgb(123, 234, 123);\"></td><td title=\"Index: [4, 43]&#10;Color: (123, 234, 123)\" style=\"width: 10px; height: 10px;background-color: rgb(123, 234, 123);\"></td><td title=\"Index: [4, 44]&#10;Color: (123, 234, 123)\" style=\"width: 10px; height: 10px;background-color: rgb(123, 234, 123);\"></td><td title=\"Index: [4, 45]&#10;Color: (123, 234, 123)\" style=\"width: 10px; height: 10px;background-color: rgb(123, 234, 123);\"></td><td title=\"Index: [4, 46]&#10;Color: (123, 234, 123)\" style=\"width: 10px; height: 10px;background-color: rgb(123, 234, 123);\"></td><td title=\"Index: [4, 47]&#10;Color: (123, 234, 123)\" style=\"width: 10px; height: 10px;background-color: rgb(123, 234, 123);\"></td><td title=\"Index: [4, 48]&#10;Color: (123, 234, 123)\" style=\"width: 10px; height: 10px;background-color: rgb(123, 234, 123);\"></td><td title=\"Index: [4, 49]&#10;Color: (123, 234, 123)\" style=\"width: 10px; height: 10px;background-color: rgb(123, 234, 123);\"></td></tr><tr><td title=\"Index: [5, 0]&#10;Color: (123, 234, 123)\" style=\"width: 10px; height: 10px;background-color: rgb(123, 234, 123);\"></td><td title=\"Index: [5, 1]&#10;Color: (0, 0, 0)\" style=\"width: 10px; height: 10px;background-color: rgb(0, 0, 0);\"></td><td title=\"Index: [5, 2]&#10;Color: (123, 234, 123)\" style=\"width: 10px; height: 10px;background-color: rgb(123, 234, 123);\"></td><td title=\"Index: [5, 3]&#10;Color: (123, 234, 123)\" style=\"width: 10px; height: 10px;background-color: rgb(123, 234, 123);\"></td><td title=\"Index: [5, 4]&#10;Color: (123, 234, 123)\" style=\"width: 10px; height: 10px;background-color: rgb(123, 234, 123);\"></td><td title=\"Index: [5, 5]&#10;Color: (123, 234, 123)\" style=\"width: 10px; height: 10px;background-color: rgb(123, 234, 123);\"></td><td title=\"Index: [5, 6]&#10;Color: (123, 234, 123)\" style=\"width: 10px; height: 10px;background-color: rgb(123, 234, 123);\"></td><td title=\"Index: [5, 7]&#10;Color: (0, 0, 0)\" style=\"width: 10px; height: 10px;background-color: rgb(0, 0, 0);\"></td><td title=\"Index: [5, 8]&#10;Color: (123, 234, 123)\" style=\"width: 10px; height: 10px;background-color: rgb(123, 234, 123);\"></td><td title=\"Index: [5, 9]&#10;Color: (123, 234, 123)\" style=\"width: 10px; height: 10px;background-color: rgb(123, 234, 123);\"></td><td title=\"Index: [5, 10]&#10;Color: (123, 234, 123)\" style=\"width: 10px; height: 10px;background-color: rgb(123, 234, 123);\"></td><td title=\"Index: [5, 11]&#10;Color: (123, 234, 123)\" style=\"width: 10px; height: 10px;background-color: rgb(123, 234, 123);\"></td><td title=\"Index: [5, 12]&#10;Color: (123, 234, 123)\" style=\"width: 10px; height: 10px;background-color: rgb(123, 234, 123);\"></td><td title=\"Index: [5, 13]&#10;Color: (0, 0, 0)\" style=\"width: 10px; height: 10px;background-color: rgb(0, 0, 0);\"></td><td title=\"Index: [5, 14]&#10;Color: (123, 234, 123)\" style=\"width: 10px; height: 10px;background-color: rgb(123, 234, 123);\"></td><td title=\"Index: [5, 15]&#10;Color: (123, 234, 123)\" style=\"width: 10px; height: 10px;background-color: rgb(123, 234, 123);\"></td><td title=\"Index: [5, 16]&#10;Color: (123, 234, 123)\" style=\"width: 10px; height: 10px;background-color: rgb(123, 234, 123);\"></td><td title=\"Index: [5, 17]&#10;Color: (123, 234, 123)\" style=\"width: 10px; height: 10px;background-color: rgb(123, 234, 123);\"></td><td title=\"Index: [5, 18]&#10;Color: (123, 234, 123)\" style=\"width: 10px; height: 10px;background-color: rgb(123, 234, 123);\"></td><td title=\"Index: [5, 19]&#10;Color: (0, 0, 0)\" style=\"width: 10px; height: 10px;background-color: rgb(0, 0, 0);\"></td><td title=\"Index: [5, 20]&#10;Color: (123, 234, 123)\" style=\"width: 10px; height: 10px;background-color: rgb(123, 234, 123);\"></td><td title=\"Index: [5, 21]&#10;Color: (0, 0, 0)\" style=\"width: 10px; height: 10px;background-color: rgb(0, 0, 0);\"></td><td title=\"Index: [5, 22]&#10;Color: (123, 234, 123)\" style=\"width: 10px; height: 10px;background-color: rgb(123, 234, 123);\"></td><td title=\"Index: [5, 23]&#10;Color: (123, 234, 123)\" style=\"width: 10px; height: 10px;background-color: rgb(123, 234, 123);\"></td><td title=\"Index: [5, 24]&#10;Color: (123, 234, 123)\" style=\"width: 10px; height: 10px;background-color: rgb(123, 234, 123);\"></td><td title=\"Index: [5, 25]&#10;Color: (123, 234, 123)\" style=\"width: 10px; height: 10px;background-color: rgb(123, 234, 123);\"></td><td title=\"Index: [5, 26]&#10;Color: (123, 234, 123)\" style=\"width: 10px; height: 10px;background-color: rgb(123, 234, 123);\"></td><td title=\"Index: [5, 27]&#10;Color: (0, 0, 0)\" style=\"width: 10px; height: 10px;background-color: rgb(0, 0, 0);\"></td><td title=\"Index: [5, 28]&#10;Color: (123, 234, 123)\" style=\"width: 10px; height: 10px;background-color: rgb(123, 234, 123);\"></td><td title=\"Index: [5, 29]&#10;Color: (123, 234, 123)\" style=\"width: 10px; height: 10px;background-color: rgb(123, 234, 123);\"></td><td title=\"Index: [5, 30]&#10;Color: (123, 234, 123)\" style=\"width: 10px; height: 10px;background-color: rgb(123, 234, 123);\"></td><td title=\"Index: [5, 31]&#10;Color: (0, 0, 0)\" style=\"width: 10px; height: 10px;background-color: rgb(0, 0, 0);\"></td><td title=\"Index: [5, 32]&#10;Color: (123, 234, 123)\" style=\"width: 10px; height: 10px;background-color: rgb(123, 234, 123);\"></td><td title=\"Index: [5, 33]&#10;Color: (0, 0, 0)\" style=\"width: 10px; height: 10px;background-color: rgb(0, 0, 0);\"></td><td title=\"Index: [5, 34]&#10;Color: (123, 234, 123)\" style=\"width: 10px; height: 10px;background-color: rgb(123, 234, 123);\"></td><td title=\"Index: [5, 35]&#10;Color: (123, 234, 123)\" style=\"width: 10px; height: 10px;background-color: rgb(123, 234, 123);\"></td><td title=\"Index: [5, 36]&#10;Color: (123, 234, 123)\" style=\"width: 10px; height: 10px;background-color: rgb(123, 234, 123);\"></td><td title=\"Index: [5, 37]&#10;Color: (123, 234, 123)\" style=\"width: 10px; height: 10px;background-color: rgb(123, 234, 123);\"></td><td title=\"Index: [5, 38]&#10;Color: (123, 234, 123)\" style=\"width: 10px; height: 10px;background-color: rgb(123, 234, 123);\"></td><td title=\"Index: [5, 39]&#10;Color: (123, 234, 123)\" style=\"width: 10px; height: 10px;background-color: rgb(123, 234, 123);\"></td><td title=\"Index: [5, 40]&#10;Color: (123, 234, 123)\" style=\"width: 10px; height: 10px;background-color: rgb(123, 234, 123);\"></td><td title=\"Index: [5, 41]&#10;Color: (123, 234, 123)\" style=\"width: 10px; height: 10px;background-color: rgb(123, 234, 123);\"></td><td title=\"Index: [5, 42]&#10;Color: (123, 234, 123)\" style=\"width: 10px; height: 10px;background-color: rgb(123, 234, 123);\"></td><td title=\"Index: [5, 43]&#10;Color: (0, 0, 0)\" style=\"width: 10px; height: 10px;background-color: rgb(0, 0, 0);\"></td><td title=\"Index: [5, 44]&#10;Color: (123, 234, 123)\" style=\"width: 10px; height: 10px;background-color: rgb(123, 234, 123);\"></td><td title=\"Index: [5, 45]&#10;Color: (123, 234, 123)\" style=\"width: 10px; height: 10px;background-color: rgb(123, 234, 123);\"></td><td title=\"Index: [5, 46]&#10;Color: (123, 234, 123)\" style=\"width: 10px; height: 10px;background-color: rgb(123, 234, 123);\"></td><td title=\"Index: [5, 47]&#10;Color: (123, 234, 123)\" style=\"width: 10px; height: 10px;background-color: rgb(123, 234, 123);\"></td><td title=\"Index: [5, 48]&#10;Color: (123, 234, 123)\" style=\"width: 10px; height: 10px;background-color: rgb(123, 234, 123);\"></td><td title=\"Index: [5, 49]&#10;Color: (123, 234, 123)\" style=\"width: 10px; height: 10px;background-color: rgb(123, 234, 123);\"></td></tr><tr><td title=\"Index: [6, 0]&#10;Color: (123, 234, 123)\" style=\"width: 10px; height: 10px;background-color: rgb(123, 234, 123);\"></td><td title=\"Index: [6, 1]&#10;Color: (123, 234, 123)\" style=\"width: 10px; height: 10px;background-color: rgb(123, 234, 123);\"></td><td title=\"Index: [6, 2]&#10;Color: (123, 234, 123)\" style=\"width: 10px; height: 10px;background-color: rgb(123, 234, 123);\"></td><td title=\"Index: [6, 3]&#10;Color: (123, 234, 123)\" style=\"width: 10px; height: 10px;background-color: rgb(123, 234, 123);\"></td><td title=\"Index: [6, 4]&#10;Color: (123, 234, 123)\" style=\"width: 10px; height: 10px;background-color: rgb(123, 234, 123);\"></td><td title=\"Index: [6, 5]&#10;Color: (123, 234, 123)\" style=\"width: 10px; height: 10px;background-color: rgb(123, 234, 123);\"></td><td title=\"Index: [6, 6]&#10;Color: (123, 234, 123)\" style=\"width: 10px; height: 10px;background-color: rgb(123, 234, 123);\"></td><td title=\"Index: [6, 7]&#10;Color: (0, 0, 0)\" style=\"width: 10px; height: 10px;background-color: rgb(0, 0, 0);\"></td><td title=\"Index: [6, 8]&#10;Color: (123, 234, 123)\" style=\"width: 10px; height: 10px;background-color: rgb(123, 234, 123);\"></td><td title=\"Index: [6, 9]&#10;Color: (123, 234, 123)\" style=\"width: 10px; height: 10px;background-color: rgb(123, 234, 123);\"></td><td title=\"Index: [6, 10]&#10;Color: (123, 234, 123)\" style=\"width: 10px; height: 10px;background-color: rgb(123, 234, 123);\"></td><td title=\"Index: [6, 11]&#10;Color: (0, 0, 0)\" style=\"width: 10px; height: 10px;background-color: rgb(0, 0, 0);\"></td><td title=\"Index: [6, 12]&#10;Color: (123, 234, 123)\" style=\"width: 10px; height: 10px;background-color: rgb(123, 234, 123);\"></td><td title=\"Index: [6, 13]&#10;Color: (0, 0, 0)\" style=\"width: 10px; height: 10px;background-color: rgb(0, 0, 0);\"></td><td title=\"Index: [6, 14]&#10;Color: (123, 234, 123)\" style=\"width: 10px; height: 10px;background-color: rgb(123, 234, 123);\"></td><td title=\"Index: [6, 15]&#10;Color: (123, 234, 123)\" style=\"width: 10px; height: 10px;background-color: rgb(123, 234, 123);\"></td><td title=\"Index: [6, 16]&#10;Color: (123, 234, 123)\" style=\"width: 10px; height: 10px;background-color: rgb(123, 234, 123);\"></td><td title=\"Index: [6, 17]&#10;Color: (0, 0, 0)\" style=\"width: 10px; height: 10px;background-color: rgb(0, 0, 0);\"></td><td title=\"Index: [6, 18]&#10;Color: (123, 234, 123)\" style=\"width: 10px; height: 10px;background-color: rgb(123, 234, 123);\"></td><td title=\"Index: [6, 19]&#10;Color: (123, 234, 123)\" style=\"width: 10px; height: 10px;background-color: rgb(123, 234, 123);\"></td><td title=\"Index: [6, 20]&#10;Color: (123, 234, 123)\" style=\"width: 10px; height: 10px;background-color: rgb(123, 234, 123);\"></td><td title=\"Index: [6, 21]&#10;Color: (123, 234, 123)\" style=\"width: 10px; height: 10px;background-color: rgb(123, 234, 123);\"></td><td title=\"Index: [6, 22]&#10;Color: (123, 234, 123)\" style=\"width: 10px; height: 10px;background-color: rgb(123, 234, 123);\"></td><td title=\"Index: [6, 23]&#10;Color: (123, 234, 123)\" style=\"width: 10px; height: 10px;background-color: rgb(123, 234, 123);\"></td><td title=\"Index: [6, 24]&#10;Color: (123, 234, 123)\" style=\"width: 10px; height: 10px;background-color: rgb(123, 234, 123);\"></td><td title=\"Index: [6, 25]&#10;Color: (123, 234, 123)\" style=\"width: 10px; height: 10px;background-color: rgb(123, 234, 123);\"></td><td title=\"Index: [6, 26]&#10;Color: (123, 234, 123)\" style=\"width: 10px; height: 10px;background-color: rgb(123, 234, 123);\"></td><td title=\"Index: [6, 27]&#10;Color: (123, 234, 123)\" style=\"width: 10px; height: 10px;background-color: rgb(123, 234, 123);\"></td><td title=\"Index: [6, 28]&#10;Color: (123, 234, 123)\" style=\"width: 10px; height: 10px;background-color: rgb(123, 234, 123);\"></td><td title=\"Index: [6, 29]&#10;Color: (123, 234, 123)\" style=\"width: 10px; height: 10px;background-color: rgb(123, 234, 123);\"></td><td title=\"Index: [6, 30]&#10;Color: (123, 234, 123)\" style=\"width: 10px; height: 10px;background-color: rgb(123, 234, 123);\"></td><td title=\"Index: [6, 31]&#10;Color: (0, 0, 0)\" style=\"width: 10px; height: 10px;background-color: rgb(0, 0, 0);\"></td><td title=\"Index: [6, 32]&#10;Color: (123, 234, 123)\" style=\"width: 10px; height: 10px;background-color: rgb(123, 234, 123);\"></td><td title=\"Index: [6, 33]&#10;Color: (123, 234, 123)\" style=\"width: 10px; height: 10px;background-color: rgb(123, 234, 123);\"></td><td title=\"Index: [6, 34]&#10;Color: (123, 234, 123)\" style=\"width: 10px; height: 10px;background-color: rgb(123, 234, 123);\"></td><td title=\"Index: [6, 35]&#10;Color: (123, 234, 123)\" style=\"width: 10px; height: 10px;background-color: rgb(123, 234, 123);\"></td><td title=\"Index: [6, 36]&#10;Color: (123, 234, 123)\" style=\"width: 10px; height: 10px;background-color: rgb(123, 234, 123);\"></td><td title=\"Index: [6, 37]&#10;Color: (0, 0, 0)\" style=\"width: 10px; height: 10px;background-color: rgb(0, 0, 0);\"></td><td title=\"Index: [6, 38]&#10;Color: (123, 234, 123)\" style=\"width: 10px; height: 10px;background-color: rgb(123, 234, 123);\"></td><td title=\"Index: [6, 39]&#10;Color: (123, 234, 123)\" style=\"width: 10px; height: 10px;background-color: rgb(123, 234, 123);\"></td><td title=\"Index: [6, 40]&#10;Color: (123, 234, 123)\" style=\"width: 10px; height: 10px;background-color: rgb(123, 234, 123);\"></td><td title=\"Index: [6, 41]&#10;Color: (123, 234, 123)\" style=\"width: 10px; height: 10px;background-color: rgb(123, 234, 123);\"></td><td title=\"Index: [6, 42]&#10;Color: (123, 234, 123)\" style=\"width: 10px; height: 10px;background-color: rgb(123, 234, 123);\"></td><td title=\"Index: [6, 43]&#10;Color: (123, 234, 123)\" style=\"width: 10px; height: 10px;background-color: rgb(123, 234, 123);\"></td><td title=\"Index: [6, 44]&#10;Color: (123, 234, 123)\" style=\"width: 10px; height: 10px;background-color: rgb(123, 234, 123);\"></td><td title=\"Index: [6, 45]&#10;Color: (123, 234, 123)\" style=\"width: 10px; height: 10px;background-color: rgb(123, 234, 123);\"></td><td title=\"Index: [6, 46]&#10;Color: (123, 234, 123)\" style=\"width: 10px; height: 10px;background-color: rgb(123, 234, 123);\"></td><td title=\"Index: [6, 47]&#10;Color: (0, 0, 0)\" style=\"width: 10px; height: 10px;background-color: rgb(0, 0, 0);\"></td><td title=\"Index: [6, 48]&#10;Color: (123, 234, 123)\" style=\"width: 10px; height: 10px;background-color: rgb(123, 234, 123);\"></td><td title=\"Index: [6, 49]&#10;Color: (0, 0, 0)\" style=\"width: 10px; height: 10px;background-color: rgb(0, 0, 0);\"></td></tr><tr><td title=\"Index: [7, 0]&#10;Color: (123, 234, 123)\" style=\"width: 10px; height: 10px;background-color: rgb(123, 234, 123);\"></td><td title=\"Index: [7, 1]&#10;Color: (123, 234, 123)\" style=\"width: 10px; height: 10px;background-color: rgb(123, 234, 123);\"></td><td title=\"Index: [7, 2]&#10;Color: (123, 234, 123)\" style=\"width: 10px; height: 10px;background-color: rgb(123, 234, 123);\"></td><td title=\"Index: [7, 3]&#10;Color: (0, 0, 0)\" style=\"width: 10px; height: 10px;background-color: rgb(0, 0, 0);\"></td><td title=\"Index: [7, 4]&#10;Color: (123, 234, 123)\" style=\"width: 10px; height: 10px;background-color: rgb(123, 234, 123);\"></td><td title=\"Index: [7, 5]&#10;Color: (123, 234, 123)\" style=\"width: 10px; height: 10px;background-color: rgb(123, 234, 123);\"></td><td title=\"Index: [7, 6]&#10;Color: (123, 234, 123)\" style=\"width: 10px; height: 10px;background-color: rgb(123, 234, 123);\"></td><td title=\"Index: [7, 7]&#10;Color: (123, 234, 123)\" style=\"width: 10px; height: 10px;background-color: rgb(123, 234, 123);\"></td><td title=\"Index: [7, 8]&#10;Color: (123, 234, 123)\" style=\"width: 10px; height: 10px;background-color: rgb(123, 234, 123);\"></td><td title=\"Index: [7, 9]&#10;Color: (0, 0, 0)\" style=\"width: 10px; height: 10px;background-color: rgb(0, 0, 0);\"></td><td title=\"Index: [7, 10]&#10;Color: (123, 234, 123)\" style=\"width: 10px; height: 10px;background-color: rgb(123, 234, 123);\"></td><td title=\"Index: [7, 11]&#10;Color: (123, 234, 123)\" style=\"width: 10px; height: 10px;background-color: rgb(123, 234, 123);\"></td><td title=\"Index: [7, 12]&#10;Color: (123, 234, 123)\" style=\"width: 10px; height: 10px;background-color: rgb(123, 234, 123);\"></td><td title=\"Index: [7, 13]&#10;Color: (123, 234, 123)\" style=\"width: 10px; height: 10px;background-color: rgb(123, 234, 123);\"></td><td title=\"Index: [7, 14]&#10;Color: (123, 234, 123)\" style=\"width: 10px; height: 10px;background-color: rgb(123, 234, 123);\"></td><td title=\"Index: [7, 15]&#10;Color: (123, 234, 123)\" style=\"width: 10px; height: 10px;background-color: rgb(123, 234, 123);\"></td><td title=\"Index: [7, 16]&#10;Color: (123, 234, 123)\" style=\"width: 10px; height: 10px;background-color: rgb(123, 234, 123);\"></td><td title=\"Index: [7, 17]&#10;Color: (0, 0, 0)\" style=\"width: 10px; height: 10px;background-color: rgb(0, 0, 0);\"></td><td title=\"Index: [7, 18]&#10;Color: (123, 234, 123)\" style=\"width: 10px; height: 10px;background-color: rgb(123, 234, 123);\"></td><td title=\"Index: [7, 19]&#10;Color: (123, 234, 123)\" style=\"width: 10px; height: 10px;background-color: rgb(123, 234, 123);\"></td><td title=\"Index: [7, 20]&#10;Color: (123, 234, 123)\" style=\"width: 10px; height: 10px;background-color: rgb(123, 234, 123);\"></td><td title=\"Index: [7, 21]&#10;Color: (123, 234, 123)\" style=\"width: 10px; height: 10px;background-color: rgb(123, 234, 123);\"></td><td title=\"Index: [7, 22]&#10;Color: (123, 234, 123)\" style=\"width: 10px; height: 10px;background-color: rgb(123, 234, 123);\"></td><td title=\"Index: [7, 23]&#10;Color: (0, 0, 0)\" style=\"width: 10px; height: 10px;background-color: rgb(0, 0, 0);\"></td><td title=\"Index: [7, 24]&#10;Color: (123, 234, 123)\" style=\"width: 10px; height: 10px;background-color: rgb(123, 234, 123);\"></td><td title=\"Index: [7, 25]&#10;Color: (123, 234, 123)\" style=\"width: 10px; height: 10px;background-color: rgb(123, 234, 123);\"></td><td title=\"Index: [7, 26]&#10;Color: (123, 234, 123)\" style=\"width: 10px; height: 10px;background-color: rgb(123, 234, 123);\"></td><td title=\"Index: [7, 27]&#10;Color: (123, 234, 123)\" style=\"width: 10px; height: 10px;background-color: rgb(123, 234, 123);\"></td><td title=\"Index: [7, 28]&#10;Color: (123, 234, 123)\" style=\"width: 10px; height: 10px;background-color: rgb(123, 234, 123);\"></td><td title=\"Index: [7, 29]&#10;Color: (0, 0, 0)\" style=\"width: 10px; height: 10px;background-color: rgb(0, 0, 0);\"></td><td title=\"Index: [7, 30]&#10;Color: (123, 234, 123)\" style=\"width: 10px; height: 10px;background-color: rgb(123, 234, 123);\"></td><td title=\"Index: [7, 31]&#10;Color: (123, 234, 123)\" style=\"width: 10px; height: 10px;background-color: rgb(123, 234, 123);\"></td><td title=\"Index: [7, 32]&#10;Color: (123, 234, 123)\" style=\"width: 10px; height: 10px;background-color: rgb(123, 234, 123);\"></td><td title=\"Index: [7, 33]&#10;Color: (0, 0, 0)\" style=\"width: 10px; height: 10px;background-color: rgb(0, 0, 0);\"></td><td title=\"Index: [7, 34]&#10;Color: (123, 234, 123)\" style=\"width: 10px; height: 10px;background-color: rgb(123, 234, 123);\"></td><td title=\"Index: [7, 35]&#10;Color: (123, 234, 123)\" style=\"width: 10px; height: 10px;background-color: rgb(123, 234, 123);\"></td><td title=\"Index: [7, 36]&#10;Color: (123, 234, 123)\" style=\"width: 10px; height: 10px;background-color: rgb(123, 234, 123);\"></td><td title=\"Index: [7, 37]&#10;Color: (123, 234, 123)\" style=\"width: 10px; height: 10px;background-color: rgb(123, 234, 123);\"></td><td title=\"Index: [7, 38]&#10;Color: (123, 234, 123)\" style=\"width: 10px; height: 10px;background-color: rgb(123, 234, 123);\"></td><td title=\"Index: [7, 39]&#10;Color: (0, 0, 0)\" style=\"width: 10px; height: 10px;background-color: rgb(0, 0, 0);\"></td><td title=\"Index: [7, 40]&#10;Color: (123, 234, 123)\" style=\"width: 10px; height: 10px;background-color: rgb(123, 234, 123);\"></td><td title=\"Index: [7, 41]&#10;Color: (123, 234, 123)\" style=\"width: 10px; height: 10px;background-color: rgb(123, 234, 123);\"></td><td title=\"Index: [7, 42]&#10;Color: (123, 234, 123)\" style=\"width: 10px; height: 10px;background-color: rgb(123, 234, 123);\"></td><td title=\"Index: [7, 43]&#10;Color: (123, 234, 123)\" style=\"width: 10px; height: 10px;background-color: rgb(123, 234, 123);\"></td><td title=\"Index: [7, 44]&#10;Color: (123, 234, 123)\" style=\"width: 10px; height: 10px;background-color: rgb(123, 234, 123);\"></td><td title=\"Index: [7, 45]&#10;Color: (123, 234, 123)\" style=\"width: 10px; height: 10px;background-color: rgb(123, 234, 123);\"></td><td title=\"Index: [7, 46]&#10;Color: (123, 234, 123)\" style=\"width: 10px; height: 10px;background-color: rgb(123, 234, 123);\"></td><td title=\"Index: [7, 47]&#10;Color: (0, 0, 0)\" style=\"width: 10px; height: 10px;background-color: rgb(0, 0, 0);\"></td><td title=\"Index: [7, 48]&#10;Color: (123, 234, 123)\" style=\"width: 10px; height: 10px;background-color: rgb(123, 234, 123);\"></td><td title=\"Index: [7, 49]&#10;Color: (123, 234, 123)\" style=\"width: 10px; height: 10px;background-color: rgb(123, 234, 123);\"></td></tr><tr><td title=\"Index: [8, 0]&#10;Color: (123, 234, 123)\" style=\"width: 10px; height: 10px;background-color: rgb(123, 234, 123);\"></td><td title=\"Index: [8, 1]&#10;Color: (0, 0, 0)\" style=\"width: 10px; height: 10px;background-color: rgb(0, 0, 0);\"></td><td title=\"Index: [8, 2]&#10;Color: (123, 234, 123)\" style=\"width: 10px; height: 10px;background-color: rgb(123, 234, 123);\"></td><td title=\"Index: [8, 3]&#10;Color: (123, 234, 123)\" style=\"width: 10px; height: 10px;background-color: rgb(123, 234, 123);\"></td><td title=\"Index: [8, 4]&#10;Color: (123, 234, 123)\" style=\"width: 10px; height: 10px;background-color: rgb(123, 234, 123);\"></td><td title=\"Index: [8, 5]&#10;Color: (123, 234, 123)\" style=\"width: 10px; height: 10px;background-color: rgb(123, 234, 123);\"></td><td title=\"Index: [8, 6]&#10;Color: (123, 234, 123)\" style=\"width: 10px; height: 10px;background-color: rgb(123, 234, 123);\"></td><td title=\"Index: [8, 7]&#10;Color: (123, 234, 123)\" style=\"width: 10px; height: 10px;background-color: rgb(123, 234, 123);\"></td><td title=\"Index: [8, 8]&#10;Color: (123, 234, 123)\" style=\"width: 10px; height: 10px;background-color: rgb(123, 234, 123);\"></td><td title=\"Index: [8, 9]&#10;Color: (0, 0, 0)\" style=\"width: 10px; height: 10px;background-color: rgb(0, 0, 0);\"></td><td title=\"Index: [8, 10]&#10;Color: (123, 234, 123)\" style=\"width: 10px; height: 10px;background-color: rgb(123, 234, 123);\"></td><td title=\"Index: [8, 11]&#10;Color: (123, 234, 123)\" style=\"width: 10px; height: 10px;background-color: rgb(123, 234, 123);\"></td><td title=\"Index: [8, 12]&#10;Color: (123, 234, 123)\" style=\"width: 10px; height: 10px;background-color: rgb(123, 234, 123);\"></td><td title=\"Index: [8, 13]&#10;Color: (123, 234, 123)\" style=\"width: 10px; height: 10px;background-color: rgb(123, 234, 123);\"></td><td title=\"Index: [8, 14]&#10;Color: (123, 234, 123)\" style=\"width: 10px; height: 10px;background-color: rgb(123, 234, 123);\"></td><td title=\"Index: [8, 15]&#10;Color: (123, 234, 123)\" style=\"width: 10px; height: 10px;background-color: rgb(123, 234, 123);\"></td><td title=\"Index: [8, 16]&#10;Color: (123, 234, 123)\" style=\"width: 10px; height: 10px;background-color: rgb(123, 234, 123);\"></td><td title=\"Index: [8, 17]&#10;Color: (123, 234, 123)\" style=\"width: 10px; height: 10px;background-color: rgb(123, 234, 123);\"></td><td title=\"Index: [8, 18]&#10;Color: (123, 234, 123)\" style=\"width: 10px; height: 10px;background-color: rgb(123, 234, 123);\"></td><td title=\"Index: [8, 19]&#10;Color: (0, 0, 0)\" style=\"width: 10px; height: 10px;background-color: rgb(0, 0, 0);\"></td><td title=\"Index: [8, 20]&#10;Color: (123, 234, 123)\" style=\"width: 10px; height: 10px;background-color: rgb(123, 234, 123);\"></td><td title=\"Index: [8, 21]&#10;Color: (0, 0, 0)\" style=\"width: 10px; height: 10px;background-color: rgb(0, 0, 0);\"></td><td title=\"Index: [8, 22]&#10;Color: (123, 234, 123)\" style=\"width: 10px; height: 10px;background-color: rgb(123, 234, 123);\"></td><td title=\"Index: [8, 23]&#10;Color: (123, 234, 123)\" style=\"width: 10px; height: 10px;background-color: rgb(123, 234, 123);\"></td><td title=\"Index: [8, 24]&#10;Color: (123, 234, 123)\" style=\"width: 10px; height: 10px;background-color: rgb(123, 234, 123);\"></td><td title=\"Index: [8, 25]&#10;Color: (123, 234, 123)\" style=\"width: 10px; height: 10px;background-color: rgb(123, 234, 123);\"></td><td title=\"Index: [8, 26]&#10;Color: (123, 234, 123)\" style=\"width: 10px; height: 10px;background-color: rgb(123, 234, 123);\"></td><td title=\"Index: [8, 27]&#10;Color: (123, 234, 123)\" style=\"width: 10px; height: 10px;background-color: rgb(123, 234, 123);\"></td><td title=\"Index: [8, 28]&#10;Color: (123, 234, 123)\" style=\"width: 10px; height: 10px;background-color: rgb(123, 234, 123);\"></td><td title=\"Index: [8, 29]&#10;Color: (123, 234, 123)\" style=\"width: 10px; height: 10px;background-color: rgb(123, 234, 123);\"></td><td title=\"Index: [8, 30]&#10;Color: (123, 234, 123)\" style=\"width: 10px; height: 10px;background-color: rgb(123, 234, 123);\"></td><td title=\"Index: [8, 31]&#10;Color: (0, 0, 0)\" style=\"width: 10px; height: 10px;background-color: rgb(0, 0, 0);\"></td><td title=\"Index: [8, 32]&#10;Color: (123, 234, 123)\" style=\"width: 10px; height: 10px;background-color: rgb(123, 234, 123);\"></td><td title=\"Index: [8, 33]&#10;Color: (0, 0, 0)\" style=\"width: 10px; height: 10px;background-color: rgb(0, 0, 0);\"></td><td title=\"Index: [8, 34]&#10;Color: (123, 234, 123)\" style=\"width: 10px; height: 10px;background-color: rgb(123, 234, 123);\"></td><td title=\"Index: [8, 35]&#10;Color: (123, 234, 123)\" style=\"width: 10px; height: 10px;background-color: rgb(123, 234, 123);\"></td><td title=\"Index: [8, 36]&#10;Color: (123, 234, 123)\" style=\"width: 10px; height: 10px;background-color: rgb(123, 234, 123);\"></td><td title=\"Index: [8, 37]&#10;Color: (123, 234, 123)\" style=\"width: 10px; height: 10px;background-color: rgb(123, 234, 123);\"></td><td title=\"Index: [8, 38]&#10;Color: (123, 234, 123)\" style=\"width: 10px; height: 10px;background-color: rgb(123, 234, 123);\"></td><td title=\"Index: [8, 39]&#10;Color: (0, 0, 0)\" style=\"width: 10px; height: 10px;background-color: rgb(0, 0, 0);\"></td><td title=\"Index: [8, 40]&#10;Color: (123, 234, 123)\" style=\"width: 10px; height: 10px;background-color: rgb(123, 234, 123);\"></td><td title=\"Index: [8, 41]&#10;Color: (123, 234, 123)\" style=\"width: 10px; height: 10px;background-color: rgb(123, 234, 123);\"></td><td title=\"Index: [8, 42]&#10;Color: (123, 234, 123)\" style=\"width: 10px; height: 10px;background-color: rgb(123, 234, 123);\"></td><td title=\"Index: [8, 43]&#10;Color: (0, 0, 0)\" style=\"width: 10px; height: 10px;background-color: rgb(0, 0, 0);\"></td><td title=\"Index: [8, 44]&#10;Color: (123, 234, 123)\" style=\"width: 10px; height: 10px;background-color: rgb(123, 234, 123);\"></td><td title=\"Index: [8, 45]&#10;Color: (123, 234, 123)\" style=\"width: 10px; height: 10px;background-color: rgb(123, 234, 123);\"></td><td title=\"Index: [8, 46]&#10;Color: (123, 234, 123)\" style=\"width: 10px; height: 10px;background-color: rgb(123, 234, 123);\"></td><td title=\"Index: [8, 47]&#10;Color: (123, 234, 123)\" style=\"width: 10px; height: 10px;background-color: rgb(123, 234, 123);\"></td><td title=\"Index: [8, 48]&#10;Color: (123, 234, 123)\" style=\"width: 10px; height: 10px;background-color: rgb(123, 234, 123);\"></td><td title=\"Index: [8, 49]&#10;Color: (0, 0, 0)\" style=\"width: 10px; height: 10px;background-color: rgb(0, 0, 0);\"></td></tr><tr><td title=\"Index: [9, 0]&#10;Color: (123, 234, 123)\" style=\"width: 10px; height: 10px;background-color: rgb(123, 234, 123);\"></td><td title=\"Index: [9, 1]&#10;Color: (123, 234, 123)\" style=\"width: 10px; height: 10px;background-color: rgb(123, 234, 123);\"></td><td title=\"Index: [9, 2]&#10;Color: (123, 234, 123)\" style=\"width: 10px; height: 10px;background-color: rgb(123, 234, 123);\"></td><td title=\"Index: [9, 3]&#10;Color: (123, 234, 123)\" style=\"width: 10px; height: 10px;background-color: rgb(123, 234, 123);\"></td><td title=\"Index: [9, 4]&#10;Color: (123, 234, 123)\" style=\"width: 10px; height: 10px;background-color: rgb(123, 234, 123);\"></td><td title=\"Index: [9, 5]&#10;Color: (123, 234, 123)\" style=\"width: 10px; height: 10px;background-color: rgb(123, 234, 123);\"></td><td title=\"Index: [9, 6]&#10;Color: (123, 234, 123)\" style=\"width: 10px; height: 10px;background-color: rgb(123, 234, 123);\"></td><td title=\"Index: [9, 7]&#10;Color: (0, 0, 0)\" style=\"width: 10px; height: 10px;background-color: rgb(0, 0, 0);\"></td><td title=\"Index: [9, 8]&#10;Color: (123, 234, 123)\" style=\"width: 10px; height: 10px;background-color: rgb(123, 234, 123);\"></td><td title=\"Index: [9, 9]&#10;Color: (123, 234, 123)\" style=\"width: 10px; height: 10px;background-color: rgb(123, 234, 123);\"></td><td title=\"Index: [9, 10]&#10;Color: (123, 234, 123)\" style=\"width: 10px; height: 10px;background-color: rgb(123, 234, 123);\"></td><td title=\"Index: [9, 11]&#10;Color: (0, 0, 0)\" style=\"width: 10px; height: 10px;background-color: rgb(0, 0, 0);\"></td><td title=\"Index: [9, 12]&#10;Color: (123, 234, 123)\" style=\"width: 10px; height: 10px;background-color: rgb(123, 234, 123);\"></td><td title=\"Index: [9, 13]&#10;Color: (0, 0, 0)\" style=\"width: 10px; height: 10px;background-color: rgb(0, 0, 0);\"></td><td title=\"Index: [9, 14]&#10;Color: (123, 234, 123)\" style=\"width: 10px; height: 10px;background-color: rgb(123, 234, 123);\"></td><td title=\"Index: [9, 15]&#10;Color: (123, 234, 123)\" style=\"width: 10px; height: 10px;background-color: rgb(123, 234, 123);\"></td><td title=\"Index: [9, 16]&#10;Color: (123, 234, 123)\" style=\"width: 10px; height: 10px;background-color: rgb(123, 234, 123);\"></td><td title=\"Index: [9, 17]&#10;Color: (0, 0, 0)\" style=\"width: 10px; height: 10px;background-color: rgb(0, 0, 0);\"></td><td title=\"Index: [9, 18]&#10;Color: (123, 234, 123)\" style=\"width: 10px; height: 10px;background-color: rgb(123, 234, 123);\"></td><td title=\"Index: [9, 19]&#10;Color: (123, 234, 123)\" style=\"width: 10px; height: 10px;background-color: rgb(123, 234, 123);\"></td><td title=\"Index: [9, 20]&#10;Color: (123, 234, 123)\" style=\"width: 10px; height: 10px;background-color: rgb(123, 234, 123);\"></td><td title=\"Index: [9, 21]&#10;Color: (123, 234, 123)\" style=\"width: 10px; height: 10px;background-color: rgb(123, 234, 123);\"></td><td title=\"Index: [9, 22]&#10;Color: (123, 234, 123)\" style=\"width: 10px; height: 10px;background-color: rgb(123, 234, 123);\"></td><td title=\"Index: [9, 23]&#10;Color: (123, 234, 123)\" style=\"width: 10px; height: 10px;background-color: rgb(123, 234, 123);\"></td><td title=\"Index: [9, 24]&#10;Color: (123, 234, 123)\" style=\"width: 10px; height: 10px;background-color: rgb(123, 234, 123);\"></td><td title=\"Index: [9, 25]&#10;Color: (123, 234, 123)\" style=\"width: 10px; height: 10px;background-color: rgb(123, 234, 123);\"></td><td title=\"Index: [9, 26]&#10;Color: (123, 234, 123)\" style=\"width: 10px; height: 10px;background-color: rgb(123, 234, 123);\"></td><td title=\"Index: [9, 27]&#10;Color: (123, 234, 123)\" style=\"width: 10px; height: 10px;background-color: rgb(123, 234, 123);\"></td><td title=\"Index: [9, 28]&#10;Color: (123, 234, 123)\" style=\"width: 10px; height: 10px;background-color: rgb(123, 234, 123);\"></td><td title=\"Index: [9, 29]&#10;Color: (0, 0, 0)\" style=\"width: 10px; height: 10px;background-color: rgb(0, 0, 0);\"></td><td title=\"Index: [9, 30]&#10;Color: (123, 234, 123)\" style=\"width: 10px; height: 10px;background-color: rgb(123, 234, 123);\"></td><td title=\"Index: [9, 31]&#10;Color: (123, 234, 123)\" style=\"width: 10px; height: 10px;background-color: rgb(123, 234, 123);\"></td><td title=\"Index: [9, 32]&#10;Color: (123, 234, 123)\" style=\"width: 10px; height: 10px;background-color: rgb(123, 234, 123);\"></td><td title=\"Index: [9, 33]&#10;Color: (123, 234, 123)\" style=\"width: 10px; height: 10px;background-color: rgb(123, 234, 123);\"></td><td title=\"Index: [9, 34]&#10;Color: (123, 234, 123)\" style=\"width: 10px; height: 10px;background-color: rgb(123, 234, 123);\"></td><td title=\"Index: [9, 35]&#10;Color: (123, 234, 123)\" style=\"width: 10px; height: 10px;background-color: rgb(123, 234, 123);\"></td><td title=\"Index: [9, 36]&#10;Color: (123, 234, 123)\" style=\"width: 10px; height: 10px;background-color: rgb(123, 234, 123);\"></td><td title=\"Index: [9, 37]&#10;Color: (0, 0, 0)\" style=\"width: 10px; height: 10px;background-color: rgb(0, 0, 0);\"></td><td title=\"Index: [9, 38]&#10;Color: (123, 234, 123)\" style=\"width: 10px; height: 10px;background-color: rgb(123, 234, 123);\"></td><td title=\"Index: [9, 39]&#10;Color: (123, 234, 123)\" style=\"width: 10px; height: 10px;background-color: rgb(123, 234, 123);\"></td><td title=\"Index: [9, 40]&#10;Color: (123, 234, 123)\" style=\"width: 10px; height: 10px;background-color: rgb(123, 234, 123);\"></td><td title=\"Index: [9, 41]&#10;Color: (0, 0, 0)\" style=\"width: 10px; height: 10px;background-color: rgb(0, 0, 0);\"></td><td title=\"Index: [9, 42]&#10;Color: (123, 234, 123)\" style=\"width: 10px; height: 10px;background-color: rgb(123, 234, 123);\"></td><td title=\"Index: [9, 43]&#10;Color: (123, 234, 123)\" style=\"width: 10px; height: 10px;background-color: rgb(123, 234, 123);\"></td><td title=\"Index: [9, 44]&#10;Color: (123, 234, 123)\" style=\"width: 10px; height: 10px;background-color: rgb(123, 234, 123);\"></td><td title=\"Index: [9, 45]&#10;Color: (123, 234, 123)\" style=\"width: 10px; height: 10px;background-color: rgb(123, 234, 123);\"></td><td title=\"Index: [9, 46]&#10;Color: (123, 234, 123)\" style=\"width: 10px; height: 10px;background-color: rgb(123, 234, 123);\"></td><td title=\"Index: [9, 47]&#10;Color: (123, 234, 123)\" style=\"width: 10px; height: 10px;background-color: rgb(123, 234, 123);\"></td><td title=\"Index: [9, 48]&#10;Color: (123, 234, 123)\" style=\"width: 10px; height: 10px;background-color: rgb(123, 234, 123);\"></td><td title=\"Index: [9, 49]&#10;Color: (0, 0, 0)\" style=\"width: 10px; height: 10px;background-color: rgb(0, 0, 0);\"></td></tr><tr><td title=\"Index: [10, 0]&#10;Color: (123, 234, 123)\" style=\"width: 10px; height: 10px;background-color: rgb(123, 234, 123);\"></td><td title=\"Index: [10, 1]&#10;Color: (123, 234, 123)\" style=\"width: 10px; height: 10px;background-color: rgb(123, 234, 123);\"></td><td title=\"Index: [10, 2]&#10;Color: (123, 234, 123)\" style=\"width: 10px; height: 10px;background-color: rgb(123, 234, 123);\"></td><td title=\"Index: [10, 3]&#10;Color: (0, 0, 0)\" style=\"width: 10px; height: 10px;background-color: rgb(0, 0, 0);\"></td><td title=\"Index: [10, 4]&#10;Color: (123, 234, 123)\" style=\"width: 10px; height: 10px;background-color: rgb(123, 234, 123);\"></td><td title=\"Index: [10, 5]&#10;Color: (123, 234, 123)\" style=\"width: 10px; height: 10px;background-color: rgb(123, 234, 123);\"></td><td title=\"Index: [10, 6]&#10;Color: (123, 234, 123)\" style=\"width: 10px; height: 10px;background-color: rgb(123, 234, 123);\"></td><td title=\"Index: [10, 7]&#10;Color: (123, 234, 123)\" style=\"width: 10px; height: 10px;background-color: rgb(123, 234, 123);\"></td><td title=\"Index: [10, 8]&#10;Color: (123, 234, 123)\" style=\"width: 10px; height: 10px;background-color: rgb(123, 234, 123);\"></td><td title=\"Index: [10, 9]&#10;Color: (0, 0, 0)\" style=\"width: 10px; height: 10px;background-color: rgb(0, 0, 0);\"></td><td title=\"Index: [10, 10]&#10;Color: (123, 234, 123)\" style=\"width: 10px; height: 10px;background-color: rgb(123, 234, 123);\"></td><td title=\"Index: [10, 11]&#10;Color: (123, 234, 123)\" style=\"width: 10px; height: 10px;background-color: rgb(123, 234, 123);\"></td><td title=\"Index: [10, 12]&#10;Color: (123, 234, 123)\" style=\"width: 10px; height: 10px;background-color: rgb(123, 234, 123);\"></td><td title=\"Index: [10, 13]&#10;Color: (123, 234, 123)\" style=\"width: 10px; height: 10px;background-color: rgb(123, 234, 123);\"></td><td title=\"Index: [10, 14]&#10;Color: (123, 234, 123)\" style=\"width: 10px; height: 10px;background-color: rgb(123, 234, 123);\"></td><td title=\"Index: [10, 15]&#10;Color: (123, 234, 123)\" style=\"width: 10px; height: 10px;background-color: rgb(123, 234, 123);\"></td><td title=\"Index: [10, 16]&#10;Color: (123, 234, 123)\" style=\"width: 10px; height: 10px;background-color: rgb(123, 234, 123);\"></td><td title=\"Index: [10, 17]&#10;Color: (123, 234, 123)\" style=\"width: 10px; height: 10px;background-color: rgb(123, 234, 123);\"></td><td title=\"Index: [10, 18]&#10;Color: (123, 234, 123)\" style=\"width: 10px; height: 10px;background-color: rgb(123, 234, 123);\"></td><td title=\"Index: [10, 19]&#10;Color: (123, 234, 123)\" style=\"width: 10px; height: 10px;background-color: rgb(123, 234, 123);\"></td><td title=\"Index: [10, 20]&#10;Color: (123, 234, 123)\" style=\"width: 10px; height: 10px;background-color: rgb(123, 234, 123);\"></td><td title=\"Index: [10, 21]&#10;Color: (0, 0, 0)\" style=\"width: 10px; height: 10px;background-color: rgb(0, 0, 0);\"></td><td title=\"Index: [10, 22]&#10;Color: (123, 234, 123)\" style=\"width: 10px; height: 10px;background-color: rgb(123, 234, 123);\"></td><td title=\"Index: [10, 23]&#10;Color: (0, 0, 0)\" style=\"width: 10px; height: 10px;background-color: rgb(0, 0, 0);\"></td><td title=\"Index: [10, 24]&#10;Color: (123, 234, 123)\" style=\"width: 10px; height: 10px;background-color: rgb(123, 234, 123);\"></td><td title=\"Index: [10, 25]&#10;Color: (123, 234, 123)\" style=\"width: 10px; height: 10px;background-color: rgb(123, 234, 123);\"></td><td title=\"Index: [10, 26]&#10;Color: (123, 234, 123)\" style=\"width: 10px; height: 10px;background-color: rgb(123, 234, 123);\"></td><td title=\"Index: [10, 27]&#10;Color: (123, 234, 123)\" style=\"width: 10px; height: 10px;background-color: rgb(123, 234, 123);\"></td><td title=\"Index: [10, 28]&#10;Color: (123, 234, 123)\" style=\"width: 10px; height: 10px;background-color: rgb(123, 234, 123);\"></td><td title=\"Index: [10, 29]&#10;Color: (123, 234, 123)\" style=\"width: 10px; height: 10px;background-color: rgb(123, 234, 123);\"></td><td title=\"Index: [10, 30]&#10;Color: (123, 234, 123)\" style=\"width: 10px; height: 10px;background-color: rgb(123, 234, 123);\"></td><td title=\"Index: [10, 31]&#10;Color: (123, 234, 123)\" style=\"width: 10px; height: 10px;background-color: rgb(123, 234, 123);\"></td><td title=\"Index: [10, 32]&#10;Color: (123, 234, 123)\" style=\"width: 10px; height: 10px;background-color: rgb(123, 234, 123);\"></td><td title=\"Index: [10, 33]&#10;Color: (123, 234, 123)\" style=\"width: 10px; height: 10px;background-color: rgb(123, 234, 123);\"></td><td title=\"Index: [10, 34]&#10;Color: (123, 234, 123)\" style=\"width: 10px; height: 10px;background-color: rgb(123, 234, 123);\"></td><td title=\"Index: [10, 35]&#10;Color: (123, 234, 123)\" style=\"width: 10px; height: 10px;background-color: rgb(123, 234, 123);\"></td><td title=\"Index: [10, 36]&#10;Color: (123, 234, 123)\" style=\"width: 10px; height: 10px;background-color: rgb(123, 234, 123);\"></td><td title=\"Index: [10, 37]&#10;Color: (123, 234, 123)\" style=\"width: 10px; height: 10px;background-color: rgb(123, 234, 123);\"></td><td title=\"Index: [10, 38]&#10;Color: (123, 234, 123)\" style=\"width: 10px; height: 10px;background-color: rgb(123, 234, 123);\"></td><td title=\"Index: [10, 39]&#10;Color: (123, 234, 123)\" style=\"width: 10px; height: 10px;background-color: rgb(123, 234, 123);\"></td><td title=\"Index: [10, 40]&#10;Color: (123, 234, 123)\" style=\"width: 10px; height: 10px;background-color: rgb(123, 234, 123);\"></td><td title=\"Index: [10, 41]&#10;Color: (0, 0, 0)\" style=\"width: 10px; height: 10px;background-color: rgb(0, 0, 0);\"></td><td title=\"Index: [10, 42]&#10;Color: (123, 234, 123)\" style=\"width: 10px; height: 10px;background-color: rgb(123, 234, 123);\"></td><td title=\"Index: [10, 43]&#10;Color: (123, 234, 123)\" style=\"width: 10px; height: 10px;background-color: rgb(123, 234, 123);\"></td><td title=\"Index: [10, 44]&#10;Color: (123, 234, 123)\" style=\"width: 10px; height: 10px;background-color: rgb(123, 234, 123);\"></td><td title=\"Index: [10, 45]&#10;Color: (123, 234, 123)\" style=\"width: 10px; height: 10px;background-color: rgb(123, 234, 123);\"></td><td title=\"Index: [10, 46]&#10;Color: (123, 234, 123)\" style=\"width: 10px; height: 10px;background-color: rgb(123, 234, 123);\"></td><td title=\"Index: [10, 47]&#10;Color: (0, 0, 0)\" style=\"width: 10px; height: 10px;background-color: rgb(0, 0, 0);\"></td><td title=\"Index: [10, 48]&#10;Color: (123, 234, 123)\" style=\"width: 10px; height: 10px;background-color: rgb(123, 234, 123);\"></td><td title=\"Index: [10, 49]&#10;Color: (123, 234, 123)\" style=\"width: 10px; height: 10px;background-color: rgb(123, 234, 123);\"></td></tr><tr><td title=\"Index: [11, 0]&#10;Color: (123, 234, 123)\" style=\"width: 10px; height: 10px;background-color: rgb(123, 234, 123);\"></td><td title=\"Index: [11, 1]&#10;Color: (123, 234, 123)\" style=\"width: 10px; height: 10px;background-color: rgb(123, 234, 123);\"></td><td title=\"Index: [11, 2]&#10;Color: (123, 234, 123)\" style=\"width: 10px; height: 10px;background-color: rgb(123, 234, 123);\"></td><td title=\"Index: [11, 3]&#10;Color: (123, 234, 123)\" style=\"width: 10px; height: 10px;background-color: rgb(123, 234, 123);\"></td><td title=\"Index: [11, 4]&#10;Color: (123, 234, 123)\" style=\"width: 10px; height: 10px;background-color: rgb(123, 234, 123);\"></td><td title=\"Index: [11, 5]&#10;Color: (123, 234, 123)\" style=\"width: 10px; height: 10px;background-color: rgb(123, 234, 123);\"></td><td title=\"Index: [11, 6]&#10;Color: (123, 234, 123)\" style=\"width: 10px; height: 10px;background-color: rgb(123, 234, 123);\"></td><td title=\"Index: [11, 7]&#10;Color: (0, 0, 0)\" style=\"width: 10px; height: 10px;background-color: rgb(0, 0, 0);\"></td><td title=\"Index: [11, 8]&#10;Color: (123, 234, 123)\" style=\"width: 10px; height: 10px;background-color: rgb(123, 234, 123);\"></td><td title=\"Index: [11, 9]&#10;Color: (123, 234, 123)\" style=\"width: 10px; height: 10px;background-color: rgb(123, 234, 123);\"></td><td title=\"Index: [11, 10]&#10;Color: (123, 234, 123)\" style=\"width: 10px; height: 10px;background-color: rgb(123, 234, 123);\"></td><td title=\"Index: [11, 11]&#10;Color: (123, 234, 123)\" style=\"width: 10px; height: 10px;background-color: rgb(123, 234, 123);\"></td><td title=\"Index: [11, 12]&#10;Color: (123, 234, 123)\" style=\"width: 10px; height: 10px;background-color: rgb(123, 234, 123);\"></td><td title=\"Index: [11, 13]&#10;Color: (0, 0, 0)\" style=\"width: 10px; height: 10px;background-color: rgb(0, 0, 0);\"></td><td title=\"Index: [11, 14]&#10;Color: (123, 234, 123)\" style=\"width: 10px; height: 10px;background-color: rgb(123, 234, 123);\"></td><td title=\"Index: [11, 15]&#10;Color: (123, 234, 123)\" style=\"width: 10px; height: 10px;background-color: rgb(123, 234, 123);\"></td><td title=\"Index: [11, 16]&#10;Color: (123, 234, 123)\" style=\"width: 10px; height: 10px;background-color: rgb(123, 234, 123);\"></td><td title=\"Index: [11, 17]&#10;Color: (123, 234, 123)\" style=\"width: 10px; height: 10px;background-color: rgb(123, 234, 123);\"></td><td title=\"Index: [11, 18]&#10;Color: (123, 234, 123)\" style=\"width: 10px; height: 10px;background-color: rgb(123, 234, 123);\"></td><td title=\"Index: [11, 19]&#10;Color: (0, 0, 0)\" style=\"width: 10px; height: 10px;background-color: rgb(0, 0, 0);\"></td><td title=\"Index: [11, 20]&#10;Color: (123, 234, 123)\" style=\"width: 10px; height: 10px;background-color: rgb(123, 234, 123);\"></td><td title=\"Index: [11, 21]&#10;Color: (0, 0, 0)\" style=\"width: 10px; height: 10px;background-color: rgb(0, 0, 0);\"></td><td title=\"Index: [11, 22]&#10;Color: (123, 234, 123)\" style=\"width: 10px; height: 10px;background-color: rgb(123, 234, 123);\"></td><td title=\"Index: [11, 23]&#10;Color: (123, 234, 123)\" style=\"width: 10px; height: 10px;background-color: rgb(123, 234, 123);\"></td><td title=\"Index: [11, 24]&#10;Color: (123, 234, 123)\" style=\"width: 10px; height: 10px;background-color: rgb(123, 234, 123);\"></td><td title=\"Index: [11, 25]&#10;Color: (123, 234, 123)\" style=\"width: 10px; height: 10px;background-color: rgb(123, 234, 123);\"></td><td title=\"Index: [11, 26]&#10;Color: (123, 234, 123)\" style=\"width: 10px; height: 10px;background-color: rgb(123, 234, 123);\"></td><td title=\"Index: [11, 27]&#10;Color: (0, 0, 0)\" style=\"width: 10px; height: 10px;background-color: rgb(0, 0, 0);\"></td><td title=\"Index: [11, 28]&#10;Color: (123, 234, 123)\" style=\"width: 10px; height: 10px;background-color: rgb(123, 234, 123);\"></td><td title=\"Index: [11, 29]&#10;Color: (123, 234, 123)\" style=\"width: 10px; height: 10px;background-color: rgb(123, 234, 123);\"></td><td title=\"Index: [11, 30]&#10;Color: (123, 234, 123)\" style=\"width: 10px; height: 10px;background-color: rgb(123, 234, 123);\"></td><td title=\"Index: [11, 31]&#10;Color: (123, 234, 123)\" style=\"width: 10px; height: 10px;background-color: rgb(123, 234, 123);\"></td><td title=\"Index: [11, 32]&#10;Color: (123, 234, 123)\" style=\"width: 10px; height: 10px;background-color: rgb(123, 234, 123);\"></td><td title=\"Index: [11, 33]&#10;Color: (123, 234, 123)\" style=\"width: 10px; height: 10px;background-color: rgb(123, 234, 123);\"></td><td title=\"Index: [11, 34]&#10;Color: (123, 234, 123)\" style=\"width: 10px; height: 10px;background-color: rgb(123, 234, 123);\"></td><td title=\"Index: [11, 35]&#10;Color: (123, 234, 123)\" style=\"width: 10px; height: 10px;background-color: rgb(123, 234, 123);\"></td><td title=\"Index: [11, 36]&#10;Color: (123, 234, 123)\" style=\"width: 10px; height: 10px;background-color: rgb(123, 234, 123);\"></td><td title=\"Index: [11, 37]&#10;Color: (0, 0, 0)\" style=\"width: 10px; height: 10px;background-color: rgb(0, 0, 0);\"></td><td title=\"Index: [11, 38]&#10;Color: (123, 234, 123)\" style=\"width: 10px; height: 10px;background-color: rgb(123, 234, 123);\"></td><td title=\"Index: [11, 39]&#10;Color: (123, 234, 123)\" style=\"width: 10px; height: 10px;background-color: rgb(123, 234, 123);\"></td><td title=\"Index: [11, 40]&#10;Color: (123, 234, 123)\" style=\"width: 10px; height: 10px;background-color: rgb(123, 234, 123);\"></td><td title=\"Index: [11, 41]&#10;Color: (123, 234, 123)\" style=\"width: 10px; height: 10px;background-color: rgb(123, 234, 123);\"></td><td title=\"Index: [11, 42]&#10;Color: (123, 234, 123)\" style=\"width: 10px; height: 10px;background-color: rgb(123, 234, 123);\"></td><td title=\"Index: [11, 43]&#10;Color: (0, 0, 0)\" style=\"width: 10px; height: 10px;background-color: rgb(0, 0, 0);\"></td><td title=\"Index: [11, 44]&#10;Color: (123, 234, 123)\" style=\"width: 10px; height: 10px;background-color: rgb(123, 234, 123);\"></td><td title=\"Index: [11, 45]&#10;Color: (123, 234, 123)\" style=\"width: 10px; height: 10px;background-color: rgb(123, 234, 123);\"></td><td title=\"Index: [11, 46]&#10;Color: (123, 234, 123)\" style=\"width: 10px; height: 10px;background-color: rgb(123, 234, 123);\"></td><td title=\"Index: [11, 47]&#10;Color: (123, 234, 123)\" style=\"width: 10px; height: 10px;background-color: rgb(123, 234, 123);\"></td><td title=\"Index: [11, 48]&#10;Color: (123, 234, 123)\" style=\"width: 10px; height: 10px;background-color: rgb(123, 234, 123);\"></td><td title=\"Index: [11, 49]&#10;Color: (0, 0, 0)\" style=\"width: 10px; height: 10px;background-color: rgb(0, 0, 0);\"></td></tr><tr><td title=\"Index: [12, 0]&#10;Color: (123, 234, 123)\" style=\"width: 10px; height: 10px;background-color: rgb(123, 234, 123);\"></td><td title=\"Index: [12, 1]&#10;Color: (0, 0, 0)\" style=\"width: 10px; height: 10px;background-color: rgb(0, 0, 0);\"></td><td title=\"Index: [12, 2]&#10;Color: (123, 234, 123)\" style=\"width: 10px; height: 10px;background-color: rgb(123, 234, 123);\"></td><td title=\"Index: [12, 3]&#10;Color: (123, 234, 123)\" style=\"width: 10px; height: 10px;background-color: rgb(123, 234, 123);\"></td><td title=\"Index: [12, 4]&#10;Color: (123, 234, 123)\" style=\"width: 10px; height: 10px;background-color: rgb(123, 234, 123);\"></td><td title=\"Index: [12, 5]&#10;Color: (123, 234, 123)\" style=\"width: 10px; height: 10px;background-color: rgb(123, 234, 123);\"></td><td title=\"Index: [12, 6]&#10;Color: (123, 234, 123)\" style=\"width: 10px; height: 10px;background-color: rgb(123, 234, 123);\"></td><td title=\"Index: [12, 7]&#10;Color: (0, 0, 0)\" style=\"width: 10px; height: 10px;background-color: rgb(0, 0, 0);\"></td><td title=\"Index: [12, 8]&#10;Color: (123, 234, 123)\" style=\"width: 10px; height: 10px;background-color: rgb(123, 234, 123);\"></td><td title=\"Index: [12, 9]&#10;Color: (123, 234, 123)\" style=\"width: 10px; height: 10px;background-color: rgb(123, 234, 123);\"></td><td title=\"Index: [12, 10]&#10;Color: (123, 234, 123)\" style=\"width: 10px; height: 10px;background-color: rgb(123, 234, 123);\"></td><td title=\"Index: [12, 11]&#10;Color: (123, 234, 123)\" style=\"width: 10px; height: 10px;background-color: rgb(123, 234, 123);\"></td><td title=\"Index: [12, 12]&#10;Color: (123, 234, 123)\" style=\"width: 10px; height: 10px;background-color: rgb(123, 234, 123);\"></td><td title=\"Index: [12, 13]&#10;Color: (0, 0, 0)\" style=\"width: 10px; height: 10px;background-color: rgb(0, 0, 0);\"></td><td title=\"Index: [12, 14]&#10;Color: (123, 234, 123)\" style=\"width: 10px; height: 10px;background-color: rgb(123, 234, 123);\"></td><td title=\"Index: [12, 15]&#10;Color: (123, 234, 123)\" style=\"width: 10px; height: 10px;background-color: rgb(123, 234, 123);\"></td><td title=\"Index: [12, 16]&#10;Color: (123, 234, 123)\" style=\"width: 10px; height: 10px;background-color: rgb(123, 234, 123);\"></td><td title=\"Index: [12, 17]&#10;Color: (0, 0, 0)\" style=\"width: 10px; height: 10px;background-color: rgb(0, 0, 0);\"></td><td title=\"Index: [12, 18]&#10;Color: (123, 234, 123)\" style=\"width: 10px; height: 10px;background-color: rgb(123, 234, 123);\"></td><td title=\"Index: [12, 19]&#10;Color: (0, 0, 0)\" style=\"width: 10px; height: 10px;background-color: rgb(0, 0, 0);\"></td><td title=\"Index: [12, 20]&#10;Color: (123, 234, 123)\" style=\"width: 10px; height: 10px;background-color: rgb(123, 234, 123);\"></td><td title=\"Index: [12, 21]&#10;Color: (123, 234, 123)\" style=\"width: 10px; height: 10px;background-color: rgb(123, 234, 123);\"></td><td title=\"Index: [12, 22]&#10;Color: (123, 234, 123)\" style=\"width: 10px; height: 10px;background-color: rgb(123, 234, 123);\"></td><td title=\"Index: [12, 23]&#10;Color: (123, 234, 123)\" style=\"width: 10px; height: 10px;background-color: rgb(123, 234, 123);\"></td><td title=\"Index: [12, 24]&#10;Color: (123, 234, 123)\" style=\"width: 10px; height: 10px;background-color: rgb(123, 234, 123);\"></td><td title=\"Index: [12, 25]&#10;Color: (123, 234, 123)\" style=\"width: 10px; height: 10px;background-color: rgb(123, 234, 123);\"></td><td title=\"Index: [12, 26]&#10;Color: (123, 234, 123)\" style=\"width: 10px; height: 10px;background-color: rgb(123, 234, 123);\"></td><td title=\"Index: [12, 27]&#10;Color: (123, 234, 123)\" style=\"width: 10px; height: 10px;background-color: rgb(123, 234, 123);\"></td><td title=\"Index: [12, 28]&#10;Color: (123, 234, 123)\" style=\"width: 10px; height: 10px;background-color: rgb(123, 234, 123);\"></td><td title=\"Index: [12, 29]&#10;Color: (123, 234, 123)\" style=\"width: 10px; height: 10px;background-color: rgb(123, 234, 123);\"></td><td title=\"Index: [12, 30]&#10;Color: (123, 234, 123)\" style=\"width: 10px; height: 10px;background-color: rgb(123, 234, 123);\"></td><td title=\"Index: [12, 31]&#10;Color: (0, 0, 0)\" style=\"width: 10px; height: 10px;background-color: rgb(0, 0, 0);\"></td><td title=\"Index: [12, 32]&#10;Color: (123, 234, 123)\" style=\"width: 10px; height: 10px;background-color: rgb(123, 234, 123);\"></td><td title=\"Index: [12, 33]&#10;Color: (123, 234, 123)\" style=\"width: 10px; height: 10px;background-color: rgb(123, 234, 123);\"></td><td title=\"Index: [12, 34]&#10;Color: (123, 234, 123)\" style=\"width: 10px; height: 10px;background-color: rgb(123, 234, 123);\"></td><td title=\"Index: [12, 35]&#10;Color: (123, 234, 123)\" style=\"width: 10px; height: 10px;background-color: rgb(123, 234, 123);\"></td><td title=\"Index: [12, 36]&#10;Color: (123, 234, 123)\" style=\"width: 10px; height: 10px;background-color: rgb(123, 234, 123);\"></td><td title=\"Index: [12, 37]&#10;Color: (123, 234, 123)\" style=\"width: 10px; height: 10px;background-color: rgb(123, 234, 123);\"></td><td title=\"Index: [12, 38]&#10;Color: (123, 234, 123)\" style=\"width: 10px; height: 10px;background-color: rgb(123, 234, 123);\"></td><td title=\"Index: [12, 39]&#10;Color: (123, 234, 123)\" style=\"width: 10px; height: 10px;background-color: rgb(123, 234, 123);\"></td><td title=\"Index: [12, 40]&#10;Color: (123, 234, 123)\" style=\"width: 10px; height: 10px;background-color: rgb(123, 234, 123);\"></td><td title=\"Index: [12, 41]&#10;Color: (0, 0, 0)\" style=\"width: 10px; height: 10px;background-color: rgb(0, 0, 0);\"></td><td title=\"Index: [12, 42]&#10;Color: (123, 234, 123)\" style=\"width: 10px; height: 10px;background-color: rgb(123, 234, 123);\"></td><td title=\"Index: [12, 43]&#10;Color: (0, 0, 0)\" style=\"width: 10px; height: 10px;background-color: rgb(0, 0, 0);\"></td><td title=\"Index: [12, 44]&#10;Color: (123, 234, 123)\" style=\"width: 10px; height: 10px;background-color: rgb(123, 234, 123);\"></td><td title=\"Index: [12, 45]&#10;Color: (123, 234, 123)\" style=\"width: 10px; height: 10px;background-color: rgb(123, 234, 123);\"></td><td title=\"Index: [12, 46]&#10;Color: (123, 234, 123)\" style=\"width: 10px; height: 10px;background-color: rgb(123, 234, 123);\"></td><td title=\"Index: [12, 47]&#10;Color: (0, 0, 0)\" style=\"width: 10px; height: 10px;background-color: rgb(0, 0, 0);\"></td><td title=\"Index: [12, 48]&#10;Color: (123, 234, 123)\" style=\"width: 10px; height: 10px;background-color: rgb(123, 234, 123);\"></td><td title=\"Index: [12, 49]&#10;Color: (123, 234, 123)\" style=\"width: 10px; height: 10px;background-color: rgb(123, 234, 123);\"></td></tr><tr><td title=\"Index: [13, 0]&#10;Color: (123, 234, 123)\" style=\"width: 10px; height: 10px;background-color: rgb(123, 234, 123);\"></td><td title=\"Index: [13, 1]&#10;Color: (123, 234, 123)\" style=\"width: 10px; height: 10px;background-color: rgb(123, 234, 123);\"></td><td title=\"Index: [13, 2]&#10;Color: (123, 234, 123)\" style=\"width: 10px; height: 10px;background-color: rgb(123, 234, 123);\"></td><td title=\"Index: [13, 3]&#10;Color: (0, 0, 0)\" style=\"width: 10px; height: 10px;background-color: rgb(0, 0, 0);\"></td><td title=\"Index: [13, 4]&#10;Color: (123, 234, 123)\" style=\"width: 10px; height: 10px;background-color: rgb(123, 234, 123);\"></td><td title=\"Index: [13, 5]&#10;Color: (123, 234, 123)\" style=\"width: 10px; height: 10px;background-color: rgb(123, 234, 123);\"></td><td title=\"Index: [13, 6]&#10;Color: (123, 234, 123)\" style=\"width: 10px; height: 10px;background-color: rgb(123, 234, 123);\"></td><td title=\"Index: [13, 7]&#10;Color: (123, 234, 123)\" style=\"width: 10px; height: 10px;background-color: rgb(123, 234, 123);\"></td><td title=\"Index: [13, 8]&#10;Color: (123, 234, 123)\" style=\"width: 10px; height: 10px;background-color: rgb(123, 234, 123);\"></td><td title=\"Index: [13, 9]&#10;Color: (0, 0, 0)\" style=\"width: 10px; height: 10px;background-color: rgb(0, 0, 0);\"></td><td title=\"Index: [13, 10]&#10;Color: (123, 234, 123)\" style=\"width: 10px; height: 10px;background-color: rgb(123, 234, 123);\"></td><td title=\"Index: [13, 11]&#10;Color: (0, 0, 0)\" style=\"width: 10px; height: 10px;background-color: rgb(0, 0, 0);\"></td><td title=\"Index: [13, 12]&#10;Color: (123, 234, 123)\" style=\"width: 10px; height: 10px;background-color: rgb(123, 234, 123);\"></td><td title=\"Index: [13, 13]&#10;Color: (123, 234, 123)\" style=\"width: 10px; height: 10px;background-color: rgb(123, 234, 123);\"></td><td title=\"Index: [13, 14]&#10;Color: (123, 234, 123)\" style=\"width: 10px; height: 10px;background-color: rgb(123, 234, 123);\"></td><td title=\"Index: [13, 15]&#10;Color: (123, 234, 123)\" style=\"width: 10px; height: 10px;background-color: rgb(123, 234, 123);\"></td><td title=\"Index: [13, 16]&#10;Color: (123, 234, 123)\" style=\"width: 10px; height: 10px;background-color: rgb(123, 234, 123);\"></td><td title=\"Index: [13, 17]&#10;Color: (123, 234, 123)\" style=\"width: 10px; height: 10px;background-color: rgb(123, 234, 123);\"></td><td title=\"Index: [13, 18]&#10;Color: (123, 234, 123)\" style=\"width: 10px; height: 10px;background-color: rgb(123, 234, 123);\"></td><td title=\"Index: [13, 19]&#10;Color: (123, 234, 123)\" style=\"width: 10px; height: 10px;background-color: rgb(123, 234, 123);\"></td><td title=\"Index: [13, 20]&#10;Color: (123, 234, 123)\" style=\"width: 10px; height: 10px;background-color: rgb(123, 234, 123);\"></td><td title=\"Index: [13, 21]&#10;Color: (123, 234, 123)\" style=\"width: 10px; height: 10px;background-color: rgb(123, 234, 123);\"></td><td title=\"Index: [13, 22]&#10;Color: (123, 234, 123)\" style=\"width: 10px; height: 10px;background-color: rgb(123, 234, 123);\"></td><td title=\"Index: [13, 23]&#10;Color: (0, 0, 0)\" style=\"width: 10px; height: 10px;background-color: rgb(0, 0, 0);\"></td><td title=\"Index: [13, 24]&#10;Color: (123, 234, 123)\" style=\"width: 10px; height: 10px;background-color: rgb(123, 234, 123);\"></td><td title=\"Index: [13, 25]&#10;Color: (123, 234, 123)\" style=\"width: 10px; height: 10px;background-color: rgb(123, 234, 123);\"></td><td title=\"Index: [13, 26]&#10;Color: (123, 234, 123)\" style=\"width: 10px; height: 10px;background-color: rgb(123, 234, 123);\"></td><td title=\"Index: [13, 27]&#10;Color: (0, 0, 0)\" style=\"width: 10px; height: 10px;background-color: rgb(0, 0, 0);\"></td><td title=\"Index: [13, 28]&#10;Color: (123, 234, 123)\" style=\"width: 10px; height: 10px;background-color: rgb(123, 234, 123);\"></td><td title=\"Index: [13, 29]&#10;Color: (123, 234, 123)\" style=\"width: 10px; height: 10px;background-color: rgb(123, 234, 123);\"></td><td title=\"Index: [13, 30]&#10;Color: (123, 234, 123)\" style=\"width: 10px; height: 10px;background-color: rgb(123, 234, 123);\"></td><td title=\"Index: [13, 31]&#10;Color: (123, 234, 123)\" style=\"width: 10px; height: 10px;background-color: rgb(123, 234, 123);\"></td><td title=\"Index: [13, 32]&#10;Color: (123, 234, 123)\" style=\"width: 10px; height: 10px;background-color: rgb(123, 234, 123);\"></td><td title=\"Index: [13, 33]&#10;Color: (0, 0, 0)\" style=\"width: 10px; height: 10px;background-color: rgb(0, 0, 0);\"></td><td title=\"Index: [13, 34]&#10;Color: (123, 234, 123)\" style=\"width: 10px; height: 10px;background-color: rgb(123, 234, 123);\"></td><td title=\"Index: [13, 35]&#10;Color: (123, 234, 123)\" style=\"width: 10px; height: 10px;background-color: rgb(123, 234, 123);\"></td><td title=\"Index: [13, 36]&#10;Color: (123, 234, 123)\" style=\"width: 10px; height: 10px;background-color: rgb(123, 234, 123);\"></td><td title=\"Index: [13, 37]&#10;Color: (123, 234, 123)\" style=\"width: 10px; height: 10px;background-color: rgb(123, 234, 123);\"></td><td title=\"Index: [13, 38]&#10;Color: (123, 234, 123)\" style=\"width: 10px; height: 10px;background-color: rgb(123, 234, 123);\"></td><td title=\"Index: [13, 39]&#10;Color: (123, 234, 123)\" style=\"width: 10px; height: 10px;background-color: rgb(123, 234, 123);\"></td><td title=\"Index: [13, 40]&#10;Color: (123, 234, 123)\" style=\"width: 10px; height: 10px;background-color: rgb(123, 234, 123);\"></td><td title=\"Index: [13, 41]&#10;Color: (0, 0, 0)\" style=\"width: 10px; height: 10px;background-color: rgb(0, 0, 0);\"></td><td title=\"Index: [13, 42]&#10;Color: (123, 234, 123)\" style=\"width: 10px; height: 10px;background-color: rgb(123, 234, 123);\"></td><td title=\"Index: [13, 43]&#10;Color: (123, 234, 123)\" style=\"width: 10px; height: 10px;background-color: rgb(123, 234, 123);\"></td><td title=\"Index: [13, 44]&#10;Color: (123, 234, 123)\" style=\"width: 10px; height: 10px;background-color: rgb(123, 234, 123);\"></td><td title=\"Index: [13, 45]&#10;Color: (123, 234, 123)\" style=\"width: 10px; height: 10px;background-color: rgb(123, 234, 123);\"></td><td title=\"Index: [13, 46]&#10;Color: (123, 234, 123)\" style=\"width: 10px; height: 10px;background-color: rgb(123, 234, 123);\"></td><td title=\"Index: [13, 47]&#10;Color: (123, 234, 123)\" style=\"width: 10px; height: 10px;background-color: rgb(123, 234, 123);\"></td><td title=\"Index: [13, 48]&#10;Color: (123, 234, 123)\" style=\"width: 10px; height: 10px;background-color: rgb(123, 234, 123);\"></td><td title=\"Index: [13, 49]&#10;Color: (123, 234, 123)\" style=\"width: 10px; height: 10px;background-color: rgb(123, 234, 123);\"></td></tr><tr><td title=\"Index: [14, 0]&#10;Color: (123, 234, 123)\" style=\"width: 10px; height: 10px;background-color: rgb(123, 234, 123);\"></td><td title=\"Index: [14, 1]&#10;Color: (0, 0, 0)\" style=\"width: 10px; height: 10px;background-color: rgb(0, 0, 0);\"></td><td title=\"Index: [14, 2]&#10;Color: (123, 234, 123)\" style=\"width: 10px; height: 10px;background-color: rgb(123, 234, 123);\"></td><td title=\"Index: [14, 3]&#10;Color: (123, 234, 123)\" style=\"width: 10px; height: 10px;background-color: rgb(123, 234, 123);\"></td><td title=\"Index: [14, 4]&#10;Color: (123, 234, 123)\" style=\"width: 10px; height: 10px;background-color: rgb(123, 234, 123);\"></td><td title=\"Index: [14, 5]&#10;Color: (123, 234, 123)\" style=\"width: 10px; height: 10px;background-color: rgb(123, 234, 123);\"></td><td title=\"Index: [14, 6]&#10;Color: (123, 234, 123)\" style=\"width: 10px; height: 10px;background-color: rgb(123, 234, 123);\"></td><td title=\"Index: [14, 7]&#10;Color: (123, 234, 123)\" style=\"width: 10px; height: 10px;background-color: rgb(123, 234, 123);\"></td><td title=\"Index: [14, 8]&#10;Color: (123, 234, 123)\" style=\"width: 10px; height: 10px;background-color: rgb(123, 234, 123);\"></td><td title=\"Index: [14, 9]&#10;Color: (0, 0, 0)\" style=\"width: 10px; height: 10px;background-color: rgb(0, 0, 0);\"></td><td title=\"Index: [14, 10]&#10;Color: (123, 234, 123)\" style=\"width: 10px; height: 10px;background-color: rgb(123, 234, 123);\"></td><td title=\"Index: [14, 11]&#10;Color: (123, 234, 123)\" style=\"width: 10px; height: 10px;background-color: rgb(123, 234, 123);\"></td><td title=\"Index: [14, 12]&#10;Color: (123, 234, 123)\" style=\"width: 10px; height: 10px;background-color: rgb(123, 234, 123);\"></td><td title=\"Index: [14, 13]&#10;Color: (123, 234, 123)\" style=\"width: 10px; height: 10px;background-color: rgb(123, 234, 123);\"></td><td title=\"Index: [14, 14]&#10;Color: (123, 234, 123)\" style=\"width: 10px; height: 10px;background-color: rgb(123, 234, 123);\"></td><td title=\"Index: [14, 15]&#10;Color: (123, 234, 123)\" style=\"width: 10px; height: 10px;background-color: rgb(123, 234, 123);\"></td><td title=\"Index: [14, 16]&#10;Color: (123, 234, 123)\" style=\"width: 10px; height: 10px;background-color: rgb(123, 234, 123);\"></td><td title=\"Index: [14, 17]&#10;Color: (123, 234, 123)\" style=\"width: 10px; height: 10px;background-color: rgb(123, 234, 123);\"></td><td title=\"Index: [14, 18]&#10;Color: (123, 234, 123)\" style=\"width: 10px; height: 10px;background-color: rgb(123, 234, 123);\"></td><td title=\"Index: [14, 19]&#10;Color: (0, 0, 0)\" style=\"width: 10px; height: 10px;background-color: rgb(0, 0, 0);\"></td><td title=\"Index: [14, 20]&#10;Color: (123, 234, 123)\" style=\"width: 10px; height: 10px;background-color: rgb(123, 234, 123);\"></td><td title=\"Index: [14, 21]&#10;Color: (123, 234, 123)\" style=\"width: 10px; height: 10px;background-color: rgb(123, 234, 123);\"></td><td title=\"Index: [14, 22]&#10;Color: (123, 234, 123)\" style=\"width: 10px; height: 10px;background-color: rgb(123, 234, 123);\"></td><td title=\"Index: [14, 23]&#10;Color: (123, 234, 123)\" style=\"width: 10px; height: 10px;background-color: rgb(123, 234, 123);\"></td><td title=\"Index: [14, 24]&#10;Color: (123, 234, 123)\" style=\"width: 10px; height: 10px;background-color: rgb(123, 234, 123);\"></td><td title=\"Index: [14, 25]&#10;Color: (123, 234, 123)\" style=\"width: 10px; height: 10px;background-color: rgb(123, 234, 123);\"></td><td title=\"Index: [14, 26]&#10;Color: (123, 234, 123)\" style=\"width: 10px; height: 10px;background-color: rgb(123, 234, 123);\"></td><td title=\"Index: [14, 27]&#10;Color: (0, 0, 0)\" style=\"width: 10px; height: 10px;background-color: rgb(0, 0, 0);\"></td><td title=\"Index: [14, 28]&#10;Color: (123, 234, 123)\" style=\"width: 10px; height: 10px;background-color: rgb(123, 234, 123);\"></td><td title=\"Index: [14, 29]&#10;Color: (123, 234, 123)\" style=\"width: 10px; height: 10px;background-color: rgb(123, 234, 123);\"></td><td title=\"Index: [14, 30]&#10;Color: (123, 234, 123)\" style=\"width: 10px; height: 10px;background-color: rgb(123, 234, 123);\"></td><td title=\"Index: [14, 31]&#10;Color: (123, 234, 123)\" style=\"width: 10px; height: 10px;background-color: rgb(123, 234, 123);\"></td><td title=\"Index: [14, 32]&#10;Color: (123, 234, 123)\" style=\"width: 10px; height: 10px;background-color: rgb(123, 234, 123);\"></td><td title=\"Index: [14, 33]&#10;Color: (0, 0, 0)\" style=\"width: 10px; height: 10px;background-color: rgb(0, 0, 0);\"></td><td title=\"Index: [14, 34]&#10;Color: (123, 234, 123)\" style=\"width: 10px; height: 10px;background-color: rgb(123, 234, 123);\"></td><td title=\"Index: [14, 35]&#10;Color: (123, 234, 123)\" style=\"width: 10px; height: 10px;background-color: rgb(123, 234, 123);\"></td><td title=\"Index: [14, 36]&#10;Color: (123, 234, 123)\" style=\"width: 10px; height: 10px;background-color: rgb(123, 234, 123);\"></td><td title=\"Index: [14, 37]&#10;Color: (123, 234, 123)\" style=\"width: 10px; height: 10px;background-color: rgb(123, 234, 123);\"></td><td title=\"Index: [14, 38]&#10;Color: (123, 234, 123)\" style=\"width: 10px; height: 10px;background-color: rgb(123, 234, 123);\"></td><td title=\"Index: [14, 39]&#10;Color: (0, 0, 0)\" style=\"width: 10px; height: 10px;background-color: rgb(0, 0, 0);\"></td><td title=\"Index: [14, 40]&#10;Color: (123, 234, 123)\" style=\"width: 10px; height: 10px;background-color: rgb(123, 234, 123);\"></td><td title=\"Index: [14, 41]&#10;Color: (123, 234, 123)\" style=\"width: 10px; height: 10px;background-color: rgb(123, 234, 123);\"></td><td title=\"Index: [14, 42]&#10;Color: (123, 234, 123)\" style=\"width: 10px; height: 10px;background-color: rgb(123, 234, 123);\"></td><td title=\"Index: [14, 43]&#10;Color: (0, 0, 0)\" style=\"width: 10px; height: 10px;background-color: rgb(0, 0, 0);\"></td><td title=\"Index: [14, 44]&#10;Color: (123, 234, 123)\" style=\"width: 10px; height: 10px;background-color: rgb(123, 234, 123);\"></td><td title=\"Index: [14, 45]&#10;Color: (123, 234, 123)\" style=\"width: 10px; height: 10px;background-color: rgb(123, 234, 123);\"></td><td title=\"Index: [14, 46]&#10;Color: (123, 234, 123)\" style=\"width: 10px; height: 10px;background-color: rgb(123, 234, 123);\"></td><td title=\"Index: [14, 47]&#10;Color: (123, 234, 123)\" style=\"width: 10px; height: 10px;background-color: rgb(123, 234, 123);\"></td><td title=\"Index: [14, 48]&#10;Color: (123, 234, 123)\" style=\"width: 10px; height: 10px;background-color: rgb(123, 234, 123);\"></td><td title=\"Index: [14, 49]&#10;Color: (123, 234, 123)\" style=\"width: 10px; height: 10px;background-color: rgb(123, 234, 123);\"></td></tr><tr><td title=\"Index: [15, 0]&#10;Color: (123, 234, 123)\" style=\"width: 10px; height: 10px;background-color: rgb(123, 234, 123);\"></td><td title=\"Index: [15, 1]&#10;Color: (0, 0, 0)\" style=\"width: 10px; height: 10px;background-color: rgb(0, 0, 0);\"></td><td title=\"Index: [15, 2]&#10;Color: (123, 234, 123)\" style=\"width: 10px; height: 10px;background-color: rgb(123, 234, 123);\"></td><td title=\"Index: [15, 3]&#10;Color: (123, 234, 123)\" style=\"width: 10px; height: 10px;background-color: rgb(123, 234, 123);\"></td><td title=\"Index: [15, 4]&#10;Color: (123, 234, 123)\" style=\"width: 10px; height: 10px;background-color: rgb(123, 234, 123);\"></td><td title=\"Index: [15, 5]&#10;Color: (123, 234, 123)\" style=\"width: 10px; height: 10px;background-color: rgb(123, 234, 123);\"></td><td title=\"Index: [15, 6]&#10;Color: (123, 234, 123)\" style=\"width: 10px; height: 10px;background-color: rgb(123, 234, 123);\"></td><td title=\"Index: [15, 7]&#10;Color: (0, 0, 0)\" style=\"width: 10px; height: 10px;background-color: rgb(0, 0, 0);\"></td><td title=\"Index: [15, 8]&#10;Color: (123, 234, 123)\" style=\"width: 10px; height: 10px;background-color: rgb(123, 234, 123);\"></td><td title=\"Index: [15, 9]&#10;Color: (123, 234, 123)\" style=\"width: 10px; height: 10px;background-color: rgb(123, 234, 123);\"></td><td title=\"Index: [15, 10]&#10;Color: (123, 234, 123)\" style=\"width: 10px; height: 10px;background-color: rgb(123, 234, 123);\"></td><td title=\"Index: [15, 11]&#10;Color: (0, 0, 0)\" style=\"width: 10px; height: 10px;background-color: rgb(0, 0, 0);\"></td><td title=\"Index: [15, 12]&#10;Color: (123, 234, 123)\" style=\"width: 10px; height: 10px;background-color: rgb(123, 234, 123);\"></td><td title=\"Index: [15, 13]&#10;Color: (123, 234, 123)\" style=\"width: 10px; height: 10px;background-color: rgb(123, 234, 123);\"></td><td title=\"Index: [15, 14]&#10;Color: (123, 234, 123)\" style=\"width: 10px; height: 10px;background-color: rgb(123, 234, 123);\"></td><td title=\"Index: [15, 15]&#10;Color: (123, 234, 123)\" style=\"width: 10px; height: 10px;background-color: rgb(123, 234, 123);\"></td><td title=\"Index: [15, 16]&#10;Color: (123, 234, 123)\" style=\"width: 10px; height: 10px;background-color: rgb(123, 234, 123);\"></td><td title=\"Index: [15, 17]&#10;Color: (123, 234, 123)\" style=\"width: 10px; height: 10px;background-color: rgb(123, 234, 123);\"></td><td title=\"Index: [15, 18]&#10;Color: (123, 234, 123)\" style=\"width: 10px; height: 10px;background-color: rgb(123, 234, 123);\"></td><td title=\"Index: [15, 19]&#10;Color: (0, 0, 0)\" style=\"width: 10px; height: 10px;background-color: rgb(0, 0, 0);\"></td><td title=\"Index: [15, 20]&#10;Color: (123, 234, 123)\" style=\"width: 10px; height: 10px;background-color: rgb(123, 234, 123);\"></td><td title=\"Index: [15, 21]&#10;Color: (123, 234, 123)\" style=\"width: 10px; height: 10px;background-color: rgb(123, 234, 123);\"></td><td title=\"Index: [15, 22]&#10;Color: (123, 234, 123)\" style=\"width: 10px; height: 10px;background-color: rgb(123, 234, 123);\"></td><td title=\"Index: [15, 23]&#10;Color: (0, 0, 0)\" style=\"width: 10px; height: 10px;background-color: rgb(0, 0, 0);\"></td><td title=\"Index: [15, 24]&#10;Color: (123, 234, 123)\" style=\"width: 10px; height: 10px;background-color: rgb(123, 234, 123);\"></td><td title=\"Index: [15, 25]&#10;Color: (123, 234, 123)\" style=\"width: 10px; height: 10px;background-color: rgb(123, 234, 123);\"></td><td title=\"Index: [15, 26]&#10;Color: (123, 234, 123)\" style=\"width: 10px; height: 10px;background-color: rgb(123, 234, 123);\"></td><td title=\"Index: [15, 27]&#10;Color: (123, 234, 123)\" style=\"width: 10px; height: 10px;background-color: rgb(123, 234, 123);\"></td><td title=\"Index: [15, 28]&#10;Color: (123, 234, 123)\" style=\"width: 10px; height: 10px;background-color: rgb(123, 234, 123);\"></td><td title=\"Index: [15, 29]&#10;Color: (123, 234, 123)\" style=\"width: 10px; height: 10px;background-color: rgb(123, 234, 123);\"></td><td title=\"Index: [15, 30]&#10;Color: (123, 234, 123)\" style=\"width: 10px; height: 10px;background-color: rgb(123, 234, 123);\"></td><td title=\"Index: [15, 31]&#10;Color: (123, 234, 123)\" style=\"width: 10px; height: 10px;background-color: rgb(123, 234, 123);\"></td><td title=\"Index: [15, 32]&#10;Color: (123, 234, 123)\" style=\"width: 10px; height: 10px;background-color: rgb(123, 234, 123);\"></td><td title=\"Index: [15, 33]&#10;Color: (123, 234, 123)\" style=\"width: 10px; height: 10px;background-color: rgb(123, 234, 123);\"></td><td title=\"Index: [15, 34]&#10;Color: (123, 234, 123)\" style=\"width: 10px; height: 10px;background-color: rgb(123, 234, 123);\"></td><td title=\"Index: [15, 35]&#10;Color: (123, 234, 123)\" style=\"width: 10px; height: 10px;background-color: rgb(123, 234, 123);\"></td><td title=\"Index: [15, 36]&#10;Color: (123, 234, 123)\" style=\"width: 10px; height: 10px;background-color: rgb(123, 234, 123);\"></td><td title=\"Index: [15, 37]&#10;Color: (0, 0, 0)\" style=\"width: 10px; height: 10px;background-color: rgb(0, 0, 0);\"></td><td title=\"Index: [15, 38]&#10;Color: (123, 234, 123)\" style=\"width: 10px; height: 10px;background-color: rgb(123, 234, 123);\"></td><td title=\"Index: [15, 39]&#10;Color: (123, 234, 123)\" style=\"width: 10px; height: 10px;background-color: rgb(123, 234, 123);\"></td><td title=\"Index: [15, 40]&#10;Color: (123, 234, 123)\" style=\"width: 10px; height: 10px;background-color: rgb(123, 234, 123);\"></td><td title=\"Index: [15, 41]&#10;Color: (123, 234, 123)\" style=\"width: 10px; height: 10px;background-color: rgb(123, 234, 123);\"></td><td title=\"Index: [15, 42]&#10;Color: (123, 234, 123)\" style=\"width: 10px; height: 10px;background-color: rgb(123, 234, 123);\"></td><td title=\"Index: [15, 43]&#10;Color: (123, 234, 123)\" style=\"width: 10px; height: 10px;background-color: rgb(123, 234, 123);\"></td><td title=\"Index: [15, 44]&#10;Color: (123, 234, 123)\" style=\"width: 10px; height: 10px;background-color: rgb(123, 234, 123);\"></td><td title=\"Index: [15, 45]&#10;Color: (123, 234, 123)\" style=\"width: 10px; height: 10px;background-color: rgb(123, 234, 123);\"></td><td title=\"Index: [15, 46]&#10;Color: (123, 234, 123)\" style=\"width: 10px; height: 10px;background-color: rgb(123, 234, 123);\"></td><td title=\"Index: [15, 47]&#10;Color: (0, 0, 0)\" style=\"width: 10px; height: 10px;background-color: rgb(0, 0, 0);\"></td><td title=\"Index: [15, 48]&#10;Color: (123, 234, 123)\" style=\"width: 10px; height: 10px;background-color: rgb(123, 234, 123);\"></td><td title=\"Index: [15, 49]&#10;Color: (123, 234, 123)\" style=\"width: 10px; height: 10px;background-color: rgb(123, 234, 123);\"></td></tr><tr><td title=\"Index: [16, 0]&#10;Color: (123, 234, 123)\" style=\"width: 10px; height: 10px;background-color: rgb(123, 234, 123);\"></td><td title=\"Index: [16, 1]&#10;Color: (123, 234, 123)\" style=\"width: 10px; height: 10px;background-color: rgb(123, 234, 123);\"></td><td title=\"Index: [16, 2]&#10;Color: (123, 234, 123)\" style=\"width: 10px; height: 10px;background-color: rgb(123, 234, 123);\"></td><td title=\"Index: [16, 3]&#10;Color: (123, 234, 123)\" style=\"width: 10px; height: 10px;background-color: rgb(123, 234, 123);\"></td><td title=\"Index: [16, 4]&#10;Color: (123, 234, 123)\" style=\"width: 10px; height: 10px;background-color: rgb(123, 234, 123);\"></td><td title=\"Index: [16, 5]&#10;Color: (123, 234, 123)\" style=\"width: 10px; height: 10px;background-color: rgb(123, 234, 123);\"></td><td title=\"Index: [16, 6]&#10;Color: (123, 234, 123)\" style=\"width: 10px; height: 10px;background-color: rgb(123, 234, 123);\"></td><td title=\"Index: [16, 7]&#10;Color: (123, 234, 123)\" style=\"width: 10px; height: 10px;background-color: rgb(123, 234, 123);\"></td><td title=\"Index: [16, 8]&#10;Color: (123, 234, 123)\" style=\"width: 10px; height: 10px;background-color: rgb(123, 234, 123);\"></td><td title=\"Index: [16, 9]&#10;Color: (0, 0, 0)\" style=\"width: 10px; height: 10px;background-color: rgb(0, 0, 0);\"></td><td title=\"Index: [16, 10]&#10;Color: (123, 234, 123)\" style=\"width: 10px; height: 10px;background-color: rgb(123, 234, 123);\"></td><td title=\"Index: [16, 11]&#10;Color: (0, 0, 0)\" style=\"width: 10px; height: 10px;background-color: rgb(0, 0, 0);\"></td><td title=\"Index: [16, 12]&#10;Color: (123, 234, 123)\" style=\"width: 10px; height: 10px;background-color: rgb(123, 234, 123);\"></td><td title=\"Index: [16, 13]&#10;Color: (123, 234, 123)\" style=\"width: 10px; height: 10px;background-color: rgb(123, 234, 123);\"></td><td title=\"Index: [16, 14]&#10;Color: (123, 234, 123)\" style=\"width: 10px; height: 10px;background-color: rgb(123, 234, 123);\"></td><td title=\"Index: [16, 15]&#10;Color: (123, 234, 123)\" style=\"width: 10px; height: 10px;background-color: rgb(123, 234, 123);\"></td><td title=\"Index: [16, 16]&#10;Color: (123, 234, 123)\" style=\"width: 10px; height: 10px;background-color: rgb(123, 234, 123);\"></td><td title=\"Index: [16, 17]&#10;Color: (123, 234, 123)\" style=\"width: 10px; height: 10px;background-color: rgb(123, 234, 123);\"></td><td title=\"Index: [16, 18]&#10;Color: (123, 234, 123)\" style=\"width: 10px; height: 10px;background-color: rgb(123, 234, 123);\"></td><td title=\"Index: [16, 19]&#10;Color: (123, 234, 123)\" style=\"width: 10px; height: 10px;background-color: rgb(123, 234, 123);\"></td><td title=\"Index: [16, 20]&#10;Color: (123, 234, 123)\" style=\"width: 10px; height: 10px;background-color: rgb(123, 234, 123);\"></td><td title=\"Index: [16, 21]&#10;Color: (0, 0, 0)\" style=\"width: 10px; height: 10px;background-color: rgb(0, 0, 0);\"></td><td title=\"Index: [16, 22]&#10;Color: (123, 234, 123)\" style=\"width: 10px; height: 10px;background-color: rgb(123, 234, 123);\"></td><td title=\"Index: [16, 23]&#10;Color: (0, 0, 0)\" style=\"width: 10px; height: 10px;background-color: rgb(0, 0, 0);\"></td><td title=\"Index: [16, 24]&#10;Color: (123, 234, 123)\" style=\"width: 10px; height: 10px;background-color: rgb(123, 234, 123);\"></td><td title=\"Index: [16, 25]&#10;Color: (123, 234, 123)\" style=\"width: 10px; height: 10px;background-color: rgb(123, 234, 123);\"></td><td title=\"Index: [16, 26]&#10;Color: (123, 234, 123)\" style=\"width: 10px; height: 10px;background-color: rgb(123, 234, 123);\"></td><td title=\"Index: [16, 27]&#10;Color: (0, 0, 0)\" style=\"width: 10px; height: 10px;background-color: rgb(0, 0, 0);\"></td><td title=\"Index: [16, 28]&#10;Color: (123, 234, 123)\" style=\"width: 10px; height: 10px;background-color: rgb(123, 234, 123);\"></td><td title=\"Index: [16, 29]&#10;Color: (0, 0, 0)\" style=\"width: 10px; height: 10px;background-color: rgb(0, 0, 0);\"></td><td title=\"Index: [16, 30]&#10;Color: (123, 234, 123)\" style=\"width: 10px; height: 10px;background-color: rgb(123, 234, 123);\"></td><td title=\"Index: [16, 31]&#10;Color: (123, 234, 123)\" style=\"width: 10px; height: 10px;background-color: rgb(123, 234, 123);\"></td><td title=\"Index: [16, 32]&#10;Color: (123, 234, 123)\" style=\"width: 10px; height: 10px;background-color: rgb(123, 234, 123);\"></td><td title=\"Index: [16, 33]&#10;Color: (123, 234, 123)\" style=\"width: 10px; height: 10px;background-color: rgb(123, 234, 123);\"></td><td title=\"Index: [16, 34]&#10;Color: (123, 234, 123)\" style=\"width: 10px; height: 10px;background-color: rgb(123, 234, 123);\"></td><td title=\"Index: [16, 35]&#10;Color: (123, 234, 123)\" style=\"width: 10px; height: 10px;background-color: rgb(123, 234, 123);\"></td><td title=\"Index: [16, 36]&#10;Color: (123, 234, 123)\" style=\"width: 10px; height: 10px;background-color: rgb(123, 234, 123);\"></td><td title=\"Index: [16, 37]&#10;Color: (123, 234, 123)\" style=\"width: 10px; height: 10px;background-color: rgb(123, 234, 123);\"></td><td title=\"Index: [16, 38]&#10;Color: (123, 234, 123)\" style=\"width: 10px; height: 10px;background-color: rgb(123, 234, 123);\"></td><td title=\"Index: [16, 39]&#10;Color: (0, 0, 0)\" style=\"width: 10px; height: 10px;background-color: rgb(0, 0, 0);\"></td><td title=\"Index: [16, 40]&#10;Color: (123, 234, 123)\" style=\"width: 10px; height: 10px;background-color: rgb(123, 234, 123);\"></td><td title=\"Index: [16, 41]&#10;Color: (123, 234, 123)\" style=\"width: 10px; height: 10px;background-color: rgb(123, 234, 123);\"></td><td title=\"Index: [16, 42]&#10;Color: (123, 234, 123)\" style=\"width: 10px; height: 10px;background-color: rgb(123, 234, 123);\"></td><td title=\"Index: [16, 43]&#10;Color: (123, 234, 123)\" style=\"width: 10px; height: 10px;background-color: rgb(123, 234, 123);\"></td><td title=\"Index: [16, 44]&#10;Color: (123, 234, 123)\" style=\"width: 10px; height: 10px;background-color: rgb(123, 234, 123);\"></td><td title=\"Index: [16, 45]&#10;Color: (123, 234, 123)\" style=\"width: 10px; height: 10px;background-color: rgb(123, 234, 123);\"></td><td title=\"Index: [16, 46]&#10;Color: (123, 234, 123)\" style=\"width: 10px; height: 10px;background-color: rgb(123, 234, 123);\"></td><td title=\"Index: [16, 47]&#10;Color: (123, 234, 123)\" style=\"width: 10px; height: 10px;background-color: rgb(123, 234, 123);\"></td><td title=\"Index: [16, 48]&#10;Color: (123, 234, 123)\" style=\"width: 10px; height: 10px;background-color: rgb(123, 234, 123);\"></td><td title=\"Index: [16, 49]&#10;Color: (123, 234, 123)\" style=\"width: 10px; height: 10px;background-color: rgb(123, 234, 123);\"></td></tr><tr><td title=\"Index: [17, 0]&#10;Color: (123, 234, 123)\" style=\"width: 10px; height: 10px;background-color: rgb(123, 234, 123);\"></td><td title=\"Index: [17, 1]&#10;Color: (123, 234, 123)\" style=\"width: 10px; height: 10px;background-color: rgb(123, 234, 123);\"></td><td title=\"Index: [17, 2]&#10;Color: (123, 234, 123)\" style=\"width: 10px; height: 10px;background-color: rgb(123, 234, 123);\"></td><td title=\"Index: [17, 3]&#10;Color: (0, 0, 0)\" style=\"width: 10px; height: 10px;background-color: rgb(0, 0, 0);\"></td><td title=\"Index: [17, 4]&#10;Color: (123, 234, 123)\" style=\"width: 10px; height: 10px;background-color: rgb(123, 234, 123);\"></td><td title=\"Index: [17, 5]&#10;Color: (123, 234, 123)\" style=\"width: 10px; height: 10px;background-color: rgb(123, 234, 123);\"></td><td title=\"Index: [17, 6]&#10;Color: (123, 234, 123)\" style=\"width: 10px; height: 10px;background-color: rgb(123, 234, 123);\"></td><td title=\"Index: [17, 7]&#10;Color: (0, 0, 0)\" style=\"width: 10px; height: 10px;background-color: rgb(0, 0, 0);\"></td><td title=\"Index: [17, 8]&#10;Color: (123, 234, 123)\" style=\"width: 10px; height: 10px;background-color: rgb(123, 234, 123);\"></td><td title=\"Index: [17, 9]&#10;Color: (0, 0, 0)\" style=\"width: 10px; height: 10px;background-color: rgb(0, 0, 0);\"></td><td title=\"Index: [17, 10]&#10;Color: (123, 234, 123)\" style=\"width: 10px; height: 10px;background-color: rgb(123, 234, 123);\"></td><td title=\"Index: [17, 11]&#10;Color: (123, 234, 123)\" style=\"width: 10px; height: 10px;background-color: rgb(123, 234, 123);\"></td><td title=\"Index: [17, 12]&#10;Color: (123, 234, 123)\" style=\"width: 10px; height: 10px;background-color: rgb(123, 234, 123);\"></td><td title=\"Index: [17, 13]&#10;Color: (0, 0, 0)\" style=\"width: 10px; height: 10px;background-color: rgb(0, 0, 0);\"></td><td title=\"Index: [17, 14]&#10;Color: (123, 234, 123)\" style=\"width: 10px; height: 10px;background-color: rgb(123, 234, 123);\"></td><td title=\"Index: [17, 15]&#10;Color: (123, 234, 123)\" style=\"width: 10px; height: 10px;background-color: rgb(123, 234, 123);\"></td><td title=\"Index: [17, 16]&#10;Color: (123, 234, 123)\" style=\"width: 10px; height: 10px;background-color: rgb(123, 234, 123);\"></td><td title=\"Index: [17, 17]&#10;Color: (123, 234, 123)\" style=\"width: 10px; height: 10px;background-color: rgb(123, 234, 123);\"></td><td title=\"Index: [17, 18]&#10;Color: (123, 234, 123)\" style=\"width: 10px; height: 10px;background-color: rgb(123, 234, 123);\"></td><td title=\"Index: [17, 19]&#10;Color: (123, 234, 123)\" style=\"width: 10px; height: 10px;background-color: rgb(123, 234, 123);\"></td><td title=\"Index: [17, 20]&#10;Color: (123, 234, 123)\" style=\"width: 10px; height: 10px;background-color: rgb(123, 234, 123);\"></td><td title=\"Index: [17, 21]&#10;Color: (123, 234, 123)\" style=\"width: 10px; height: 10px;background-color: rgb(123, 234, 123);\"></td><td title=\"Index: [17, 22]&#10;Color: (123, 234, 123)\" style=\"width: 10px; height: 10px;background-color: rgb(123, 234, 123);\"></td><td title=\"Index: [17, 23]&#10;Color: (123, 234, 123)\" style=\"width: 10px; height: 10px;background-color: rgb(123, 234, 123);\"></td><td title=\"Index: [17, 24]&#10;Color: (123, 234, 123)\" style=\"width: 10px; height: 10px;background-color: rgb(123, 234, 123);\"></td><td title=\"Index: [17, 25]&#10;Color: (123, 234, 123)\" style=\"width: 10px; height: 10px;background-color: rgb(123, 234, 123);\"></td><td title=\"Index: [17, 26]&#10;Color: (123, 234, 123)\" style=\"width: 10px; height: 10px;background-color: rgb(123, 234, 123);\"></td><td title=\"Index: [17, 27]&#10;Color: (0, 0, 0)\" style=\"width: 10px; height: 10px;background-color: rgb(0, 0, 0);\"></td><td title=\"Index: [17, 28]&#10;Color: (123, 234, 123)\" style=\"width: 10px; height: 10px;background-color: rgb(123, 234, 123);\"></td><td title=\"Index: [17, 29]&#10;Color: (123, 234, 123)\" style=\"width: 10px; height: 10px;background-color: rgb(123, 234, 123);\"></td><td title=\"Index: [17, 30]&#10;Color: (123, 234, 123)\" style=\"width: 10px; height: 10px;background-color: rgb(123, 234, 123);\"></td><td title=\"Index: [17, 31]&#10;Color: (0, 0, 0)\" style=\"width: 10px; height: 10px;background-color: rgb(0, 0, 0);\"></td><td title=\"Index: [17, 32]&#10;Color: (123, 234, 123)\" style=\"width: 10px; height: 10px;background-color: rgb(123, 234, 123);\"></td><td title=\"Index: [17, 33]&#10;Color: (0, 0, 0)\" style=\"width: 10px; height: 10px;background-color: rgb(0, 0, 0);\"></td><td title=\"Index: [17, 34]&#10;Color: (123, 234, 123)\" style=\"width: 10px; height: 10px;background-color: rgb(123, 234, 123);\"></td><td title=\"Index: [17, 35]&#10;Color: (123, 234, 123)\" style=\"width: 10px; height: 10px;background-color: rgb(123, 234, 123);\"></td><td title=\"Index: [17, 36]&#10;Color: (123, 234, 123)\" style=\"width: 10px; height: 10px;background-color: rgb(123, 234, 123);\"></td><td title=\"Index: [17, 37]&#10;Color: (0, 0, 0)\" style=\"width: 10px; height: 10px;background-color: rgb(0, 0, 0);\"></td><td title=\"Index: [17, 38]&#10;Color: (123, 234, 123)\" style=\"width: 10px; height: 10px;background-color: rgb(123, 234, 123);\"></td><td title=\"Index: [17, 39]&#10;Color: (123, 234, 123)\" style=\"width: 10px; height: 10px;background-color: rgb(123, 234, 123);\"></td><td title=\"Index: [17, 40]&#10;Color: (123, 234, 123)\" style=\"width: 10px; height: 10px;background-color: rgb(123, 234, 123);\"></td><td title=\"Index: [17, 41]&#10;Color: (123, 234, 123)\" style=\"width: 10px; height: 10px;background-color: rgb(123, 234, 123);\"></td><td title=\"Index: [17, 42]&#10;Color: (123, 234, 123)\" style=\"width: 10px; height: 10px;background-color: rgb(123, 234, 123);\"></td><td title=\"Index: [17, 43]&#10;Color: (123, 234, 123)\" style=\"width: 10px; height: 10px;background-color: rgb(123, 234, 123);\"></td><td title=\"Index: [17, 44]&#10;Color: (123, 234, 123)\" style=\"width: 10px; height: 10px;background-color: rgb(123, 234, 123);\"></td><td title=\"Index: [17, 45]&#10;Color: (123, 234, 123)\" style=\"width: 10px; height: 10px;background-color: rgb(123, 234, 123);\"></td><td title=\"Index: [17, 46]&#10;Color: (123, 234, 123)\" style=\"width: 10px; height: 10px;background-color: rgb(123, 234, 123);\"></td><td title=\"Index: [17, 47]&#10;Color: (123, 234, 123)\" style=\"width: 10px; height: 10px;background-color: rgb(123, 234, 123);\"></td><td title=\"Index: [17, 48]&#10;Color: (123, 234, 123)\" style=\"width: 10px; height: 10px;background-color: rgb(123, 234, 123);\"></td><td title=\"Index: [17, 49]&#10;Color: (123, 234, 123)\" style=\"width: 10px; height: 10px;background-color: rgb(123, 234, 123);\"></td></tr><tr><td title=\"Index: [18, 0]&#10;Color: (123, 234, 123)\" style=\"width: 10px; height: 10px;background-color: rgb(123, 234, 123);\"></td><td title=\"Index: [18, 1]&#10;Color: (123, 234, 123)\" style=\"width: 10px; height: 10px;background-color: rgb(123, 234, 123);\"></td><td title=\"Index: [18, 2]&#10;Color: (123, 234, 123)\" style=\"width: 10px; height: 10px;background-color: rgb(123, 234, 123);\"></td><td title=\"Index: [18, 3]&#10;Color: (123, 234, 123)\" style=\"width: 10px; height: 10px;background-color: rgb(123, 234, 123);\"></td><td title=\"Index: [18, 4]&#10;Color: (123, 234, 123)\" style=\"width: 10px; height: 10px;background-color: rgb(123, 234, 123);\"></td><td title=\"Index: [18, 5]&#10;Color: (123, 234, 123)\" style=\"width: 10px; height: 10px;background-color: rgb(123, 234, 123);\"></td><td title=\"Index: [18, 6]&#10;Color: (123, 234, 123)\" style=\"width: 10px; height: 10px;background-color: rgb(123, 234, 123);\"></td><td title=\"Index: [18, 7]&#10;Color: (0, 0, 0)\" style=\"width: 10px; height: 10px;background-color: rgb(0, 0, 0);\"></td><td title=\"Index: [18, 8]&#10;Color: (123, 234, 123)\" style=\"width: 10px; height: 10px;background-color: rgb(123, 234, 123);\"></td><td title=\"Index: [18, 9]&#10;Color: (123, 234, 123)\" style=\"width: 10px; height: 10px;background-color: rgb(123, 234, 123);\"></td><td title=\"Index: [18, 10]&#10;Color: (123, 234, 123)\" style=\"width: 10px; height: 10px;background-color: rgb(123, 234, 123);\"></td><td title=\"Index: [18, 11]&#10;Color: (0, 0, 0)\" style=\"width: 10px; height: 10px;background-color: rgb(0, 0, 0);\"></td><td title=\"Index: [18, 12]&#10;Color: (123, 234, 123)\" style=\"width: 10px; height: 10px;background-color: rgb(123, 234, 123);\"></td><td title=\"Index: [18, 13]&#10;Color: (123, 234, 123)\" style=\"width: 10px; height: 10px;background-color: rgb(123, 234, 123);\"></td><td title=\"Index: [18, 14]&#10;Color: (123, 234, 123)\" style=\"width: 10px; height: 10px;background-color: rgb(123, 234, 123);\"></td><td title=\"Index: [18, 15]&#10;Color: (123, 234, 123)\" style=\"width: 10px; height: 10px;background-color: rgb(123, 234, 123);\"></td><td title=\"Index: [18, 16]&#10;Color: (123, 234, 123)\" style=\"width: 10px; height: 10px;background-color: rgb(123, 234, 123);\"></td><td title=\"Index: [18, 17]&#10;Color: (123, 234, 123)\" style=\"width: 10px; height: 10px;background-color: rgb(123, 234, 123);\"></td><td title=\"Index: [18, 18]&#10;Color: (123, 234, 123)\" style=\"width: 10px; height: 10px;background-color: rgb(123, 234, 123);\"></td><td title=\"Index: [18, 19]&#10;Color: (0, 0, 0)\" style=\"width: 10px; height: 10px;background-color: rgb(0, 0, 0);\"></td><td title=\"Index: [18, 20]&#10;Color: (123, 234, 123)\" style=\"width: 10px; height: 10px;background-color: rgb(123, 234, 123);\"></td><td title=\"Index: [18, 21]&#10;Color: (123, 234, 123)\" style=\"width: 10px; height: 10px;background-color: rgb(123, 234, 123);\"></td><td title=\"Index: [18, 22]&#10;Color: (123, 234, 123)\" style=\"width: 10px; height: 10px;background-color: rgb(123, 234, 123);\"></td><td title=\"Index: [18, 23]&#10;Color: (123, 234, 123)\" style=\"width: 10px; height: 10px;background-color: rgb(123, 234, 123);\"></td><td title=\"Index: [18, 24]&#10;Color: (123, 234, 123)\" style=\"width: 10px; height: 10px;background-color: rgb(123, 234, 123);\"></td><td title=\"Index: [18, 25]&#10;Color: (123, 234, 123)\" style=\"width: 10px; height: 10px;background-color: rgb(123, 234, 123);\"></td><td title=\"Index: [18, 26]&#10;Color: (123, 234, 123)\" style=\"width: 10px; height: 10px;background-color: rgb(123, 234, 123);\"></td><td title=\"Index: [18, 27]&#10;Color: (123, 234, 123)\" style=\"width: 10px; height: 10px;background-color: rgb(123, 234, 123);\"></td><td title=\"Index: [18, 28]&#10;Color: (123, 234, 123)\" style=\"width: 10px; height: 10px;background-color: rgb(123, 234, 123);\"></td><td title=\"Index: [18, 29]&#10;Color: (0, 0, 0)\" style=\"width: 10px; height: 10px;background-color: rgb(0, 0, 0);\"></td><td title=\"Index: [18, 30]&#10;Color: (123, 234, 123)\" style=\"width: 10px; height: 10px;background-color: rgb(123, 234, 123);\"></td><td title=\"Index: [18, 31]&#10;Color: (123, 234, 123)\" style=\"width: 10px; height: 10px;background-color: rgb(123, 234, 123);\"></td><td title=\"Index: [18, 32]&#10;Color: (123, 234, 123)\" style=\"width: 10px; height: 10px;background-color: rgb(123, 234, 123);\"></td><td title=\"Index: [18, 33]&#10;Color: (123, 234, 123)\" style=\"width: 10px; height: 10px;background-color: rgb(123, 234, 123);\"></td><td title=\"Index: [18, 34]&#10;Color: (123, 234, 123)\" style=\"width: 10px; height: 10px;background-color: rgb(123, 234, 123);\"></td><td title=\"Index: [18, 35]&#10;Color: (123, 234, 123)\" style=\"width: 10px; height: 10px;background-color: rgb(123, 234, 123);\"></td><td title=\"Index: [18, 36]&#10;Color: (123, 234, 123)\" style=\"width: 10px; height: 10px;background-color: rgb(123, 234, 123);\"></td><td title=\"Index: [18, 37]&#10;Color: (0, 0, 0)\" style=\"width: 10px; height: 10px;background-color: rgb(0, 0, 0);\"></td><td title=\"Index: [18, 38]&#10;Color: (123, 234, 123)\" style=\"width: 10px; height: 10px;background-color: rgb(123, 234, 123);\"></td><td title=\"Index: [18, 39]&#10;Color: (123, 234, 123)\" style=\"width: 10px; height: 10px;background-color: rgb(123, 234, 123);\"></td><td title=\"Index: [18, 40]&#10;Color: (123, 234, 123)\" style=\"width: 10px; height: 10px;background-color: rgb(123, 234, 123);\"></td><td title=\"Index: [18, 41]&#10;Color: (0, 0, 0)\" style=\"width: 10px; height: 10px;background-color: rgb(0, 0, 0);\"></td><td title=\"Index: [18, 42]&#10;Color: (123, 234, 123)\" style=\"width: 10px; height: 10px;background-color: rgb(123, 234, 123);\"></td><td title=\"Index: [18, 43]&#10;Color: (123, 234, 123)\" style=\"width: 10px; height: 10px;background-color: rgb(123, 234, 123);\"></td><td title=\"Index: [18, 44]&#10;Color: (123, 234, 123)\" style=\"width: 10px; height: 10px;background-color: rgb(123, 234, 123);\"></td><td title=\"Index: [18, 45]&#10;Color: (123, 234, 123)\" style=\"width: 10px; height: 10px;background-color: rgb(123, 234, 123);\"></td><td title=\"Index: [18, 46]&#10;Color: (123, 234, 123)\" style=\"width: 10px; height: 10px;background-color: rgb(123, 234, 123);\"></td><td title=\"Index: [18, 47]&#10;Color: (0, 0, 0)\" style=\"width: 10px; height: 10px;background-color: rgb(0, 0, 0);\"></td><td title=\"Index: [18, 48]&#10;Color: (123, 234, 123)\" style=\"width: 10px; height: 10px;background-color: rgb(123, 234, 123);\"></td><td title=\"Index: [18, 49]&#10;Color: (123, 234, 123)\" style=\"width: 10px; height: 10px;background-color: rgb(123, 234, 123);\"></td></tr><tr><td title=\"Index: [19, 0]&#10;Color: (123, 234, 123)\" style=\"width: 10px; height: 10px;background-color: rgb(123, 234, 123);\"></td><td title=\"Index: [19, 1]&#10;Color: (123, 234, 123)\" style=\"width: 10px; height: 10px;background-color: rgb(123, 234, 123);\"></td><td title=\"Index: [19, 2]&#10;Color: (123, 234, 123)\" style=\"width: 10px; height: 10px;background-color: rgb(123, 234, 123);\"></td><td title=\"Index: [19, 3]&#10;Color: (0, 0, 0)\" style=\"width: 10px; height: 10px;background-color: rgb(0, 0, 0);\"></td><td title=\"Index: [19, 4]&#10;Color: (123, 234, 123)\" style=\"width: 10px; height: 10px;background-color: rgb(123, 234, 123);\"></td><td title=\"Index: [19, 5]&#10;Color: (123, 234, 123)\" style=\"width: 10px; height: 10px;background-color: rgb(123, 234, 123);\"></td><td title=\"Index: [19, 6]&#10;Color: (123, 234, 123)\" style=\"width: 10px; height: 10px;background-color: rgb(123, 234, 123);\"></td><td title=\"Index: [19, 7]&#10;Color: (123, 234, 123)\" style=\"width: 10px; height: 10px;background-color: rgb(123, 234, 123);\"></td><td title=\"Index: [19, 8]&#10;Color: (123, 234, 123)\" style=\"width: 10px; height: 10px;background-color: rgb(123, 234, 123);\"></td><td title=\"Index: [19, 9]&#10;Color: (123, 234, 123)\" style=\"width: 10px; height: 10px;background-color: rgb(123, 234, 123);\"></td><td title=\"Index: [19, 10]&#10;Color: (123, 234, 123)\" style=\"width: 10px; height: 10px;background-color: rgb(123, 234, 123);\"></td><td title=\"Index: [19, 11]&#10;Color: (123, 234, 123)\" style=\"width: 10px; height: 10px;background-color: rgb(123, 234, 123);\"></td><td title=\"Index: [19, 12]&#10;Color: (123, 234, 123)\" style=\"width: 10px; height: 10px;background-color: rgb(123, 234, 123);\"></td><td title=\"Index: [19, 13]&#10;Color: (123, 234, 123)\" style=\"width: 10px; height: 10px;background-color: rgb(123, 234, 123);\"></td><td title=\"Index: [19, 14]&#10;Color: (123, 234, 123)\" style=\"width: 10px; height: 10px;background-color: rgb(123, 234, 123);\"></td><td title=\"Index: [19, 15]&#10;Color: (123, 234, 123)\" style=\"width: 10px; height: 10px;background-color: rgb(123, 234, 123);\"></td><td title=\"Index: [19, 16]&#10;Color: (123, 234, 123)\" style=\"width: 10px; height: 10px;background-color: rgb(123, 234, 123);\"></td><td title=\"Index: [19, 17]&#10;Color: (0, 0, 0)\" style=\"width: 10px; height: 10px;background-color: rgb(0, 0, 0);\"></td><td title=\"Index: [19, 18]&#10;Color: (123, 234, 123)\" style=\"width: 10px; height: 10px;background-color: rgb(123, 234, 123);\"></td><td title=\"Index: [19, 19]&#10;Color: (123, 234, 123)\" style=\"width: 10px; height: 10px;background-color: rgb(123, 234, 123);\"></td><td title=\"Index: [19, 20]&#10;Color: (123, 234, 123)\" style=\"width: 10px; height: 10px;background-color: rgb(123, 234, 123);\"></td><td title=\"Index: [19, 21]&#10;Color: (0, 0, 0)\" style=\"width: 10px; height: 10px;background-color: rgb(0, 0, 0);\"></td><td title=\"Index: [19, 22]&#10;Color: (123, 234, 123)\" style=\"width: 10px; height: 10px;background-color: rgb(123, 234, 123);\"></td><td title=\"Index: [19, 23]&#10;Color: (123, 234, 123)\" style=\"width: 10px; height: 10px;background-color: rgb(123, 234, 123);\"></td><td title=\"Index: [19, 24]&#10;Color: (123, 234, 123)\" style=\"width: 10px; height: 10px;background-color: rgb(123, 234, 123);\"></td><td title=\"Index: [19, 25]&#10;Color: (123, 234, 123)\" style=\"width: 10px; height: 10px;background-color: rgb(123, 234, 123);\"></td><td title=\"Index: [19, 26]&#10;Color: (123, 234, 123)\" style=\"width: 10px; height: 10px;background-color: rgb(123, 234, 123);\"></td><td title=\"Index: [19, 27]&#10;Color: (0, 0, 0)\" style=\"width: 10px; height: 10px;background-color: rgb(0, 0, 0);\"></td><td title=\"Index: [19, 28]&#10;Color: (123, 234, 123)\" style=\"width: 10px; height: 10px;background-color: rgb(123, 234, 123);\"></td><td title=\"Index: [19, 29]&#10;Color: (123, 234, 123)\" style=\"width: 10px; height: 10px;background-color: rgb(123, 234, 123);\"></td><td title=\"Index: [19, 30]&#10;Color: (123, 234, 123)\" style=\"width: 10px; height: 10px;background-color: rgb(123, 234, 123);\"></td><td title=\"Index: [19, 31]&#10;Color: (123, 234, 123)\" style=\"width: 10px; height: 10px;background-color: rgb(123, 234, 123);\"></td><td title=\"Index: [19, 32]&#10;Color: (123, 234, 123)\" style=\"width: 10px; height: 10px;background-color: rgb(123, 234, 123);\"></td><td title=\"Index: [19, 33]&#10;Color: (0, 0, 0)\" style=\"width: 10px; height: 10px;background-color: rgb(0, 0, 0);\"></td><td title=\"Index: [19, 34]&#10;Color: (123, 234, 123)\" style=\"width: 10px; height: 10px;background-color: rgb(123, 234, 123);\"></td><td title=\"Index: [19, 35]&#10;Color: (123, 234, 123)\" style=\"width: 10px; height: 10px;background-color: rgb(123, 234, 123);\"></td><td title=\"Index: [19, 36]&#10;Color: (123, 234, 123)\" style=\"width: 10px; height: 10px;background-color: rgb(123, 234, 123);\"></td><td title=\"Index: [19, 37]&#10;Color: (123, 234, 123)\" style=\"width: 10px; height: 10px;background-color: rgb(123, 234, 123);\"></td><td title=\"Index: [19, 38]&#10;Color: (123, 234, 123)\" style=\"width: 10px; height: 10px;background-color: rgb(123, 234, 123);\"></td><td title=\"Index: [19, 39]&#10;Color: (123, 234, 123)\" style=\"width: 10px; height: 10px;background-color: rgb(123, 234, 123);\"></td><td title=\"Index: [19, 40]&#10;Color: (123, 234, 123)\" style=\"width: 10px; height: 10px;background-color: rgb(123, 234, 123);\"></td><td title=\"Index: [19, 41]&#10;Color: (0, 0, 0)\" style=\"width: 10px; height: 10px;background-color: rgb(0, 0, 0);\"></td><td title=\"Index: [19, 42]&#10;Color: (123, 234, 123)\" style=\"width: 10px; height: 10px;background-color: rgb(123, 234, 123);\"></td><td title=\"Index: [19, 43]&#10;Color: (123, 234, 123)\" style=\"width: 10px; height: 10px;background-color: rgb(123, 234, 123);\"></td><td title=\"Index: [19, 44]&#10;Color: (123, 234, 123)\" style=\"width: 10px; height: 10px;background-color: rgb(123, 234, 123);\"></td><td title=\"Index: [19, 45]&#10;Color: (123, 234, 123)\" style=\"width: 10px; height: 10px;background-color: rgb(123, 234, 123);\"></td><td title=\"Index: [19, 46]&#10;Color: (123, 234, 123)\" style=\"width: 10px; height: 10px;background-color: rgb(123, 234, 123);\"></td><td title=\"Index: [19, 47]&#10;Color: (0, 0, 0)\" style=\"width: 10px; height: 10px;background-color: rgb(0, 0, 0);\"></td><td title=\"Index: [19, 48]&#10;Color: (123, 234, 123)\" style=\"width: 10px; height: 10px;background-color: rgb(123, 234, 123);\"></td><td title=\"Index: [19, 49]&#10;Color: (123, 234, 123)\" style=\"width: 10px; height: 10px;background-color: rgb(123, 234, 123);\"></td></tr><tr><td title=\"Index: [20, 0]&#10;Color: (123, 234, 123)\" style=\"width: 10px; height: 10px;background-color: rgb(123, 234, 123);\"></td><td title=\"Index: [20, 1]&#10;Color: (123, 234, 123)\" style=\"width: 10px; height: 10px;background-color: rgb(123, 234, 123);\"></td><td title=\"Index: [20, 2]&#10;Color: (123, 234, 123)\" style=\"width: 10px; height: 10px;background-color: rgb(123, 234, 123);\"></td><td title=\"Index: [20, 3]&#10;Color: (123, 234, 123)\" style=\"width: 10px; height: 10px;background-color: rgb(123, 234, 123);\"></td><td title=\"Index: [20, 4]&#10;Color: (123, 234, 123)\" style=\"width: 10px; height: 10px;background-color: rgb(123, 234, 123);\"></td><td title=\"Index: [20, 5]&#10;Color: (123, 234, 123)\" style=\"width: 10px; height: 10px;background-color: rgb(123, 234, 123);\"></td><td title=\"Index: [20, 6]&#10;Color: (123, 234, 123)\" style=\"width: 10px; height: 10px;background-color: rgb(123, 234, 123);\"></td><td title=\"Index: [20, 7]&#10;Color: (123, 234, 123)\" style=\"width: 10px; height: 10px;background-color: rgb(123, 234, 123);\"></td><td title=\"Index: [20, 8]&#10;Color: (123, 234, 123)\" style=\"width: 10px; height: 10px;background-color: rgb(123, 234, 123);\"></td><td title=\"Index: [20, 9]&#10;Color: (0, 0, 0)\" style=\"width: 10px; height: 10px;background-color: rgb(0, 0, 0);\"></td><td title=\"Index: [20, 10]&#10;Color: (123, 234, 123)\" style=\"width: 10px; height: 10px;background-color: rgb(123, 234, 123);\"></td><td title=\"Index: [20, 11]&#10;Color: (123, 234, 123)\" style=\"width: 10px; height: 10px;background-color: rgb(123, 234, 123);\"></td><td title=\"Index: [20, 12]&#10;Color: (123, 234, 123)\" style=\"width: 10px; height: 10px;background-color: rgb(123, 234, 123);\"></td><td title=\"Index: [20, 13]&#10;Color: (0, 0, 0)\" style=\"width: 10px; height: 10px;background-color: rgb(0, 0, 0);\"></td><td title=\"Index: [20, 14]&#10;Color: (123, 234, 123)\" style=\"width: 10px; height: 10px;background-color: rgb(123, 234, 123);\"></td><td title=\"Index: [20, 15]&#10;Color: (123, 234, 123)\" style=\"width: 10px; height: 10px;background-color: rgb(123, 234, 123);\"></td><td title=\"Index: [20, 16]&#10;Color: (123, 234, 123)\" style=\"width: 10px; height: 10px;background-color: rgb(123, 234, 123);\"></td><td title=\"Index: [20, 17]&#10;Color: (123, 234, 123)\" style=\"width: 10px; height: 10px;background-color: rgb(123, 234, 123);\"></td><td title=\"Index: [20, 18]&#10;Color: (123, 234, 123)\" style=\"width: 10px; height: 10px;background-color: rgb(123, 234, 123);\"></td><td title=\"Index: [20, 19]&#10;Color: (0, 0, 0)\" style=\"width: 10px; height: 10px;background-color: rgb(0, 0, 0);\"></td><td title=\"Index: [20, 20]&#10;Color: (123, 234, 123)\" style=\"width: 10px; height: 10px;background-color: rgb(123, 234, 123);\"></td><td title=\"Index: [20, 21]&#10;Color: (0, 0, 0)\" style=\"width: 10px; height: 10px;background-color: rgb(0, 0, 0);\"></td><td title=\"Index: [20, 22]&#10;Color: (123, 234, 123)\" style=\"width: 10px; height: 10px;background-color: rgb(123, 234, 123);\"></td><td title=\"Index: [20, 23]&#10;Color: (123, 234, 123)\" style=\"width: 10px; height: 10px;background-color: rgb(123, 234, 123);\"></td><td title=\"Index: [20, 24]&#10;Color: (123, 234, 123)\" style=\"width: 10px; height: 10px;background-color: rgb(123, 234, 123);\"></td><td title=\"Index: [20, 25]&#10;Color: (123, 234, 123)\" style=\"width: 10px; height: 10px;background-color: rgb(123, 234, 123);\"></td><td title=\"Index: [20, 26]&#10;Color: (123, 234, 123)\" style=\"width: 10px; height: 10px;background-color: rgb(123, 234, 123);\"></td><td title=\"Index: [20, 27]&#10;Color: (123, 234, 123)\" style=\"width: 10px; height: 10px;background-color: rgb(123, 234, 123);\"></td><td title=\"Index: [20, 28]&#10;Color: (123, 234, 123)\" style=\"width: 10px; height: 10px;background-color: rgb(123, 234, 123);\"></td><td title=\"Index: [20, 29]&#10;Color: (123, 234, 123)\" style=\"width: 10px; height: 10px;background-color: rgb(123, 234, 123);\"></td><td title=\"Index: [20, 30]&#10;Color: (123, 234, 123)\" style=\"width: 10px; height: 10px;background-color: rgb(123, 234, 123);\"></td><td title=\"Index: [20, 31]&#10;Color: (0, 0, 0)\" style=\"width: 10px; height: 10px;background-color: rgb(0, 0, 0);\"></td><td title=\"Index: [20, 32]&#10;Color: (123, 234, 123)\" style=\"width: 10px; height: 10px;background-color: rgb(123, 234, 123);\"></td><td title=\"Index: [20, 33]&#10;Color: (0, 0, 0)\" style=\"width: 10px; height: 10px;background-color: rgb(0, 0, 0);\"></td><td title=\"Index: [20, 34]&#10;Color: (123, 234, 123)\" style=\"width: 10px; height: 10px;background-color: rgb(123, 234, 123);\"></td><td title=\"Index: [20, 35]&#10;Color: (123, 234, 123)\" style=\"width: 10px; height: 10px;background-color: rgb(123, 234, 123);\"></td><td title=\"Index: [20, 36]&#10;Color: (123, 234, 123)\" style=\"width: 10px; height: 10px;background-color: rgb(123, 234, 123);\"></td><td title=\"Index: [20, 37]&#10;Color: (123, 234, 123)\" style=\"width: 10px; height: 10px;background-color: rgb(123, 234, 123);\"></td><td title=\"Index: [20, 38]&#10;Color: (123, 234, 123)\" style=\"width: 10px; height: 10px;background-color: rgb(123, 234, 123);\"></td><td title=\"Index: [20, 39]&#10;Color: (0, 0, 0)\" style=\"width: 10px; height: 10px;background-color: rgb(0, 0, 0);\"></td><td title=\"Index: [20, 40]&#10;Color: (123, 234, 123)\" style=\"width: 10px; height: 10px;background-color: rgb(123, 234, 123);\"></td><td title=\"Index: [20, 41]&#10;Color: (123, 234, 123)\" style=\"width: 10px; height: 10px;background-color: rgb(123, 234, 123);\"></td><td title=\"Index: [20, 42]&#10;Color: (123, 234, 123)\" style=\"width: 10px; height: 10px;background-color: rgb(123, 234, 123);\"></td><td title=\"Index: [20, 43]&#10;Color: (123, 234, 123)\" style=\"width: 10px; height: 10px;background-color: rgb(123, 234, 123);\"></td><td title=\"Index: [20, 44]&#10;Color: (123, 234, 123)\" style=\"width: 10px; height: 10px;background-color: rgb(123, 234, 123);\"></td><td title=\"Index: [20, 45]&#10;Color: (123, 234, 123)\" style=\"width: 10px; height: 10px;background-color: rgb(123, 234, 123);\"></td><td title=\"Index: [20, 46]&#10;Color: (123, 234, 123)\" style=\"width: 10px; height: 10px;background-color: rgb(123, 234, 123);\"></td><td title=\"Index: [20, 47]&#10;Color: (123, 234, 123)\" style=\"width: 10px; height: 10px;background-color: rgb(123, 234, 123);\"></td><td title=\"Index: [20, 48]&#10;Color: (123, 234, 123)\" style=\"width: 10px; height: 10px;background-color: rgb(123, 234, 123);\"></td><td title=\"Index: [20, 49]&#10;Color: (0, 0, 0)\" style=\"width: 10px; height: 10px;background-color: rgb(0, 0, 0);\"></td></tr><tr><td title=\"Index: [21, 0]&#10;Color: (123, 234, 123)\" style=\"width: 10px; height: 10px;background-color: rgb(123, 234, 123);\"></td><td title=\"Index: [21, 1]&#10;Color: (0, 0, 0)\" style=\"width: 10px; height: 10px;background-color: rgb(0, 0, 0);\"></td><td title=\"Index: [21, 2]&#10;Color: (123, 234, 123)\" style=\"width: 10px; height: 10px;background-color: rgb(123, 234, 123);\"></td><td title=\"Index: [21, 3]&#10;Color: (123, 234, 123)\" style=\"width: 10px; height: 10px;background-color: rgb(123, 234, 123);\"></td><td title=\"Index: [21, 4]&#10;Color: (123, 234, 123)\" style=\"width: 10px; height: 10px;background-color: rgb(123, 234, 123);\"></td><td title=\"Index: [21, 5]&#10;Color: (123, 234, 123)\" style=\"width: 10px; height: 10px;background-color: rgb(123, 234, 123);\"></td><td title=\"Index: [21, 6]&#10;Color: (123, 234, 123)\" style=\"width: 10px; height: 10px;background-color: rgb(123, 234, 123);\"></td><td title=\"Index: [21, 7]&#10;Color: (123, 234, 123)\" style=\"width: 10px; height: 10px;background-color: rgb(123, 234, 123);\"></td><td title=\"Index: [21, 8]&#10;Color: (123, 234, 123)\" style=\"width: 10px; height: 10px;background-color: rgb(123, 234, 123);\"></td><td title=\"Index: [21, 9]&#10;Color: (123, 234, 123)\" style=\"width: 10px; height: 10px;background-color: rgb(123, 234, 123);\"></td><td title=\"Index: [21, 10]&#10;Color: (123, 234, 123)\" style=\"width: 10px; height: 10px;background-color: rgb(123, 234, 123);\"></td><td title=\"Index: [21, 11]&#10;Color: (0, 0, 0)\" style=\"width: 10px; height: 10px;background-color: rgb(0, 0, 0);\"></td><td title=\"Index: [21, 12]&#10;Color: (123, 234, 123)\" style=\"width: 10px; height: 10px;background-color: rgb(123, 234, 123);\"></td><td title=\"Index: [21, 13]&#10;Color: (0, 0, 0)\" style=\"width: 10px; height: 10px;background-color: rgb(0, 0, 0);\"></td><td title=\"Index: [21, 14]&#10;Color: (123, 234, 123)\" style=\"width: 10px; height: 10px;background-color: rgb(123, 234, 123);\"></td><td title=\"Index: [21, 15]&#10;Color: (123, 234, 123)\" style=\"width: 10px; height: 10px;background-color: rgb(123, 234, 123);\"></td><td title=\"Index: [21, 16]&#10;Color: (123, 234, 123)\" style=\"width: 10px; height: 10px;background-color: rgb(123, 234, 123);\"></td><td title=\"Index: [21, 17]&#10;Color: (123, 234, 123)\" style=\"width: 10px; height: 10px;background-color: rgb(123, 234, 123);\"></td><td title=\"Index: [21, 18]&#10;Color: (123, 234, 123)\" style=\"width: 10px; height: 10px;background-color: rgb(123, 234, 123);\"></td><td title=\"Index: [21, 19]&#10;Color: (0, 0, 0)\" style=\"width: 10px; height: 10px;background-color: rgb(0, 0, 0);\"></td><td title=\"Index: [21, 20]&#10;Color: (123, 234, 123)\" style=\"width: 10px; height: 10px;background-color: rgb(123, 234, 123);\"></td><td title=\"Index: [21, 21]&#10;Color: (123, 234, 123)\" style=\"width: 10px; height: 10px;background-color: rgb(123, 234, 123);\"></td><td title=\"Index: [21, 22]&#10;Color: (123, 234, 123)\" style=\"width: 10px; height: 10px;background-color: rgb(123, 234, 123);\"></td><td title=\"Index: [21, 23]&#10;Color: (123, 234, 123)\" style=\"width: 10px; height: 10px;background-color: rgb(123, 234, 123);\"></td><td title=\"Index: [21, 24]&#10;Color: (123, 234, 123)\" style=\"width: 10px; height: 10px;background-color: rgb(123, 234, 123);\"></td><td title=\"Index: [21, 25]&#10;Color: (123, 234, 123)\" style=\"width: 10px; height: 10px;background-color: rgb(123, 234, 123);\"></td><td title=\"Index: [21, 26]&#10;Color: (123, 234, 123)\" style=\"width: 10px; height: 10px;background-color: rgb(123, 234, 123);\"></td><td title=\"Index: [21, 27]&#10;Color: (123, 234, 123)\" style=\"width: 10px; height: 10px;background-color: rgb(123, 234, 123);\"></td><td title=\"Index: [21, 28]&#10;Color: (123, 234, 123)\" style=\"width: 10px; height: 10px;background-color: rgb(123, 234, 123);\"></td><td title=\"Index: [21, 29]&#10;Color: (123, 234, 123)\" style=\"width: 10px; height: 10px;background-color: rgb(123, 234, 123);\"></td><td title=\"Index: [21, 30]&#10;Color: (123, 234, 123)\" style=\"width: 10px; height: 10px;background-color: rgb(123, 234, 123);\"></td><td title=\"Index: [21, 31]&#10;Color: (123, 234, 123)\" style=\"width: 10px; height: 10px;background-color: rgb(123, 234, 123);\"></td><td title=\"Index: [21, 32]&#10;Color: (123, 234, 123)\" style=\"width: 10px; height: 10px;background-color: rgb(123, 234, 123);\"></td><td title=\"Index: [21, 33]&#10;Color: (123, 234, 123)\" style=\"width: 10px; height: 10px;background-color: rgb(123, 234, 123);\"></td><td title=\"Index: [21, 34]&#10;Color: (123, 234, 123)\" style=\"width: 10px; height: 10px;background-color: rgb(123, 234, 123);\"></td><td title=\"Index: [21, 35]&#10;Color: (123, 234, 123)\" style=\"width: 10px; height: 10px;background-color: rgb(123, 234, 123);\"></td><td title=\"Index: [21, 36]&#10;Color: (123, 234, 123)\" style=\"width: 10px; height: 10px;background-color: rgb(123, 234, 123);\"></td><td title=\"Index: [21, 37]&#10;Color: (0, 0, 0)\" style=\"width: 10px; height: 10px;background-color: rgb(0, 0, 0);\"></td><td title=\"Index: [21, 38]&#10;Color: (123, 234, 123)\" style=\"width: 10px; height: 10px;background-color: rgb(123, 234, 123);\"></td><td title=\"Index: [21, 39]&#10;Color: (123, 234, 123)\" style=\"width: 10px; height: 10px;background-color: rgb(123, 234, 123);\"></td><td title=\"Index: [21, 40]&#10;Color: (123, 234, 123)\" style=\"width: 10px; height: 10px;background-color: rgb(123, 234, 123);\"></td><td title=\"Index: [21, 41]&#10;Color: (0, 0, 0)\" style=\"width: 10px; height: 10px;background-color: rgb(0, 0, 0);\"></td><td title=\"Index: [21, 42]&#10;Color: (123, 234, 123)\" style=\"width: 10px; height: 10px;background-color: rgb(123, 234, 123);\"></td><td title=\"Index: [21, 43]&#10;Color: (0, 0, 0)\" style=\"width: 10px; height: 10px;background-color: rgb(0, 0, 0);\"></td><td title=\"Index: [21, 44]&#10;Color: (123, 234, 123)\" style=\"width: 10px; height: 10px;background-color: rgb(123, 234, 123);\"></td><td title=\"Index: [21, 45]&#10;Color: (123, 234, 123)\" style=\"width: 10px; height: 10px;background-color: rgb(123, 234, 123);\"></td><td title=\"Index: [21, 46]&#10;Color: (123, 234, 123)\" style=\"width: 10px; height: 10px;background-color: rgb(123, 234, 123);\"></td><td title=\"Index: [21, 47]&#10;Color: (0, 0, 0)\" style=\"width: 10px; height: 10px;background-color: rgb(0, 0, 0);\"></td><td title=\"Index: [21, 48]&#10;Color: (123, 234, 123)\" style=\"width: 10px; height: 10px;background-color: rgb(123, 234, 123);\"></td><td title=\"Index: [21, 49]&#10;Color: (123, 234, 123)\" style=\"width: 10px; height: 10px;background-color: rgb(123, 234, 123);\"></td></tr><tr><td title=\"Index: [22, 0]&#10;Color: (123, 234, 123)\" style=\"width: 10px; height: 10px;background-color: rgb(123, 234, 123);\"></td><td title=\"Index: [22, 1]&#10;Color: (123, 234, 123)\" style=\"width: 10px; height: 10px;background-color: rgb(123, 234, 123);\"></td><td title=\"Index: [22, 2]&#10;Color: (123, 234, 123)\" style=\"width: 10px; height: 10px;background-color: rgb(123, 234, 123);\"></td><td title=\"Index: [22, 3]&#10;Color: (0, 0, 0)\" style=\"width: 10px; height: 10px;background-color: rgb(0, 0, 0);\"></td><td title=\"Index: [22, 4]&#10;Color: (123, 234, 123)\" style=\"width: 10px; height: 10px;background-color: rgb(123, 234, 123);\"></td><td title=\"Index: [22, 5]&#10;Color: (123, 234, 123)\" style=\"width: 10px; height: 10px;background-color: rgb(123, 234, 123);\"></td><td title=\"Index: [22, 6]&#10;Color: (123, 234, 123)\" style=\"width: 10px; height: 10px;background-color: rgb(123, 234, 123);\"></td><td title=\"Index: [22, 7]&#10;Color: (123, 234, 123)\" style=\"width: 10px; height: 10px;background-color: rgb(123, 234, 123);\"></td><td title=\"Index: [22, 8]&#10;Color: (123, 234, 123)\" style=\"width: 10px; height: 10px;background-color: rgb(123, 234, 123);\"></td><td title=\"Index: [22, 9]&#10;Color: (0, 0, 0)\" style=\"width: 10px; height: 10px;background-color: rgb(0, 0, 0);\"></td><td title=\"Index: [22, 10]&#10;Color: (123, 234, 123)\" style=\"width: 10px; height: 10px;background-color: rgb(123, 234, 123);\"></td><td title=\"Index: [22, 11]&#10;Color: (123, 234, 123)\" style=\"width: 10px; height: 10px;background-color: rgb(123, 234, 123);\"></td><td title=\"Index: [22, 12]&#10;Color: (123, 234, 123)\" style=\"width: 10px; height: 10px;background-color: rgb(123, 234, 123);\"></td><td title=\"Index: [22, 13]&#10;Color: (123, 234, 123)\" style=\"width: 10px; height: 10px;background-color: rgb(123, 234, 123);\"></td><td title=\"Index: [22, 14]&#10;Color: (123, 234, 123)\" style=\"width: 10px; height: 10px;background-color: rgb(123, 234, 123);\"></td><td title=\"Index: [22, 15]&#10;Color: (123, 234, 123)\" style=\"width: 10px; height: 10px;background-color: rgb(123, 234, 123);\"></td><td title=\"Index: [22, 16]&#10;Color: (123, 234, 123)\" style=\"width: 10px; height: 10px;background-color: rgb(123, 234, 123);\"></td><td title=\"Index: [22, 17]&#10;Color: (0, 0, 0)\" style=\"width: 10px; height: 10px;background-color: rgb(0, 0, 0);\"></td><td title=\"Index: [22, 18]&#10;Color: (123, 234, 123)\" style=\"width: 10px; height: 10px;background-color: rgb(123, 234, 123);\"></td><td title=\"Index: [22, 19]&#10;Color: (123, 234, 123)\" style=\"width: 10px; height: 10px;background-color: rgb(123, 234, 123);\"></td><td title=\"Index: [22, 20]&#10;Color: (123, 234, 123)\" style=\"width: 10px; height: 10px;background-color: rgb(123, 234, 123);\"></td><td title=\"Index: [22, 21]&#10;Color: (123, 234, 123)\" style=\"width: 10px; height: 10px;background-color: rgb(123, 234, 123);\"></td><td title=\"Index: [22, 22]&#10;Color: (123, 234, 123)\" style=\"width: 10px; height: 10px;background-color: rgb(123, 234, 123);\"></td><td title=\"Index: [22, 23]&#10;Color: (0, 0, 0)\" style=\"width: 10px; height: 10px;background-color: rgb(0, 0, 0);\"></td><td title=\"Index: [22, 24]&#10;Color: (123, 234, 123)\" style=\"width: 10px; height: 10px;background-color: rgb(123, 234, 123);\"></td><td title=\"Index: [22, 25]&#10;Color: (123, 234, 123)\" style=\"width: 10px; height: 10px;background-color: rgb(123, 234, 123);\"></td><td title=\"Index: [22, 26]&#10;Color: (123, 234, 123)\" style=\"width: 10px; height: 10px;background-color: rgb(123, 234, 123);\"></td><td title=\"Index: [22, 27]&#10;Color: (123, 234, 123)\" style=\"width: 10px; height: 10px;background-color: rgb(123, 234, 123);\"></td><td title=\"Index: [22, 28]&#10;Color: (123, 234, 123)\" style=\"width: 10px; height: 10px;background-color: rgb(123, 234, 123);\"></td><td title=\"Index: [22, 29]&#10;Color: (0, 0, 0)\" style=\"width: 10px; height: 10px;background-color: rgb(0, 0, 0);\"></td><td title=\"Index: [22, 30]&#10;Color: (123, 234, 123)\" style=\"width: 10px; height: 10px;background-color: rgb(123, 234, 123);\"></td><td title=\"Index: [22, 31]&#10;Color: (123, 234, 123)\" style=\"width: 10px; height: 10px;background-color: rgb(123, 234, 123);\"></td><td title=\"Index: [22, 32]&#10;Color: (123, 234, 123)\" style=\"width: 10px; height: 10px;background-color: rgb(123, 234, 123);\"></td><td title=\"Index: [22, 33]&#10;Color: (123, 234, 123)\" style=\"width: 10px; height: 10px;background-color: rgb(123, 234, 123);\"></td><td title=\"Index: [22, 34]&#10;Color: (123, 234, 123)\" style=\"width: 10px; height: 10px;background-color: rgb(123, 234, 123);\"></td><td title=\"Index: [22, 35]&#10;Color: (123, 234, 123)\" style=\"width: 10px; height: 10px;background-color: rgb(123, 234, 123);\"></td><td title=\"Index: [22, 36]&#10;Color: (123, 234, 123)\" style=\"width: 10px; height: 10px;background-color: rgb(123, 234, 123);\"></td><td title=\"Index: [22, 37]&#10;Color: (123, 234, 123)\" style=\"width: 10px; height: 10px;background-color: rgb(123, 234, 123);\"></td><td title=\"Index: [22, 38]&#10;Color: (123, 234, 123)\" style=\"width: 10px; height: 10px;background-color: rgb(123, 234, 123);\"></td><td title=\"Index: [22, 39]&#10;Color: (123, 234, 123)\" style=\"width: 10px; height: 10px;background-color: rgb(123, 234, 123);\"></td><td title=\"Index: [22, 40]&#10;Color: (123, 234, 123)\" style=\"width: 10px; height: 10px;background-color: rgb(123, 234, 123);\"></td><td title=\"Index: [22, 41]&#10;Color: (123, 234, 123)\" style=\"width: 10px; height: 10px;background-color: rgb(123, 234, 123);\"></td><td title=\"Index: [22, 42]&#10;Color: (123, 234, 123)\" style=\"width: 10px; height: 10px;background-color: rgb(123, 234, 123);\"></td><td title=\"Index: [22, 43]&#10;Color: (123, 234, 123)\" style=\"width: 10px; height: 10px;background-color: rgb(123, 234, 123);\"></td><td title=\"Index: [22, 44]&#10;Color: (123, 234, 123)\" style=\"width: 10px; height: 10px;background-color: rgb(123, 234, 123);\"></td><td title=\"Index: [22, 45]&#10;Color: (123, 234, 123)\" style=\"width: 10px; height: 10px;background-color: rgb(123, 234, 123);\"></td><td title=\"Index: [22, 46]&#10;Color: (123, 234, 123)\" style=\"width: 10px; height: 10px;background-color: rgb(123, 234, 123);\"></td><td title=\"Index: [22, 47]&#10;Color: (123, 234, 123)\" style=\"width: 10px; height: 10px;background-color: rgb(123, 234, 123);\"></td><td title=\"Index: [22, 48]&#10;Color: (123, 234, 123)\" style=\"width: 10px; height: 10px;background-color: rgb(123, 234, 123);\"></td><td title=\"Index: [22, 49]&#10;Color: (123, 234, 123)\" style=\"width: 10px; height: 10px;background-color: rgb(123, 234, 123);\"></td></tr><tr><td title=\"Index: [23, 0]&#10;Color: (123, 234, 123)\" style=\"width: 10px; height: 10px;background-color: rgb(123, 234, 123);\"></td><td title=\"Index: [23, 1]&#10;Color: (0, 0, 0)\" style=\"width: 10px; height: 10px;background-color: rgb(0, 0, 0);\"></td><td title=\"Index: [23, 2]&#10;Color: (123, 234, 123)\" style=\"width: 10px; height: 10px;background-color: rgb(123, 234, 123);\"></td><td title=\"Index: [23, 3]&#10;Color: (0, 0, 0)\" style=\"width: 10px; height: 10px;background-color: rgb(0, 0, 0);\"></td><td title=\"Index: [23, 4]&#10;Color: (123, 234, 123)\" style=\"width: 10px; height: 10px;background-color: rgb(123, 234, 123);\"></td><td title=\"Index: [23, 5]&#10;Color: (123, 234, 123)\" style=\"width: 10px; height: 10px;background-color: rgb(123, 234, 123);\"></td><td title=\"Index: [23, 6]&#10;Color: (123, 234, 123)\" style=\"width: 10px; height: 10px;background-color: rgb(123, 234, 123);\"></td><td title=\"Index: [23, 7]&#10;Color: (123, 234, 123)\" style=\"width: 10px; height: 10px;background-color: rgb(123, 234, 123);\"></td><td title=\"Index: [23, 8]&#10;Color: (123, 234, 123)\" style=\"width: 10px; height: 10px;background-color: rgb(123, 234, 123);\"></td><td title=\"Index: [23, 9]&#10;Color: (123, 234, 123)\" style=\"width: 10px; height: 10px;background-color: rgb(123, 234, 123);\"></td><td title=\"Index: [23, 10]&#10;Color: (123, 234, 123)\" style=\"width: 10px; height: 10px;background-color: rgb(123, 234, 123);\"></td><td title=\"Index: [23, 11]&#10;Color: (123, 234, 123)\" style=\"width: 10px; height: 10px;background-color: rgb(123, 234, 123);\"></td><td title=\"Index: [23, 12]&#10;Color: (123, 234, 123)\" style=\"width: 10px; height: 10px;background-color: rgb(123, 234, 123);\"></td><td title=\"Index: [23, 13]&#10;Color: (0, 0, 0)\" style=\"width: 10px; height: 10px;background-color: rgb(0, 0, 0);\"></td><td title=\"Index: [23, 14]&#10;Color: (123, 234, 123)\" style=\"width: 10px; height: 10px;background-color: rgb(123, 234, 123);\"></td><td title=\"Index: [23, 15]&#10;Color: (123, 234, 123)\" style=\"width: 10px; height: 10px;background-color: rgb(123, 234, 123);\"></td><td title=\"Index: [23, 16]&#10;Color: (123, 234, 123)\" style=\"width: 10px; height: 10px;background-color: rgb(123, 234, 123);\"></td><td title=\"Index: [23, 17]&#10;Color: (123, 234, 123)\" style=\"width: 10px; height: 10px;background-color: rgb(123, 234, 123);\"></td><td title=\"Index: [23, 18]&#10;Color: (123, 234, 123)\" style=\"width: 10px; height: 10px;background-color: rgb(123, 234, 123);\"></td><td title=\"Index: [23, 19]&#10;Color: (123, 234, 123)\" style=\"width: 10px; height: 10px;background-color: rgb(123, 234, 123);\"></td><td title=\"Index: [23, 20]&#10;Color: (123, 234, 123)\" style=\"width: 10px; height: 10px;background-color: rgb(123, 234, 123);\"></td><td title=\"Index: [23, 21]&#10;Color: (0, 0, 0)\" style=\"width: 10px; height: 10px;background-color: rgb(0, 0, 0);\"></td><td title=\"Index: [23, 22]&#10;Color: (123, 234, 123)\" style=\"width: 10px; height: 10px;background-color: rgb(123, 234, 123);\"></td><td title=\"Index: [23, 23]&#10;Color: (123, 234, 123)\" style=\"width: 10px; height: 10px;background-color: rgb(123, 234, 123);\"></td><td title=\"Index: [23, 24]&#10;Color: (123, 234, 123)\" style=\"width: 10px; height: 10px;background-color: rgb(123, 234, 123);\"></td><td title=\"Index: [23, 25]&#10;Color: (123, 234, 123)\" style=\"width: 10px; height: 10px;background-color: rgb(123, 234, 123);\"></td><td title=\"Index: [23, 26]&#10;Color: (123, 234, 123)\" style=\"width: 10px; height: 10px;background-color: rgb(123, 234, 123);\"></td><td title=\"Index: [23, 27]&#10;Color: (123, 234, 123)\" style=\"width: 10px; height: 10px;background-color: rgb(123, 234, 123);\"></td><td title=\"Index: [23, 28]&#10;Color: (123, 234, 123)\" style=\"width: 10px; height: 10px;background-color: rgb(123, 234, 123);\"></td><td title=\"Index: [23, 29]&#10;Color: (123, 234, 123)\" style=\"width: 10px; height: 10px;background-color: rgb(123, 234, 123);\"></td><td title=\"Index: [23, 30]&#10;Color: (123, 234, 123)\" style=\"width: 10px; height: 10px;background-color: rgb(123, 234, 123);\"></td><td title=\"Index: [23, 31]&#10;Color: (0, 0, 0)\" style=\"width: 10px; height: 10px;background-color: rgb(0, 0, 0);\"></td><td title=\"Index: [23, 32]&#10;Color: (123, 234, 123)\" style=\"width: 10px; height: 10px;background-color: rgb(123, 234, 123);\"></td><td title=\"Index: [23, 33]&#10;Color: (123, 234, 123)\" style=\"width: 10px; height: 10px;background-color: rgb(123, 234, 123);\"></td><td title=\"Index: [23, 34]&#10;Color: (123, 234, 123)\" style=\"width: 10px; height: 10px;background-color: rgb(123, 234, 123);\"></td><td title=\"Index: [23, 35]&#10;Color: (123, 234, 123)\" style=\"width: 10px; height: 10px;background-color: rgb(123, 234, 123);\"></td><td title=\"Index: [23, 36]&#10;Color: (123, 234, 123)\" style=\"width: 10px; height: 10px;background-color: rgb(123, 234, 123);\"></td><td title=\"Index: [23, 37]&#10;Color: (0, 0, 0)\" style=\"width: 10px; height: 10px;background-color: rgb(0, 0, 0);\"></td><td title=\"Index: [23, 38]&#10;Color: (123, 234, 123)\" style=\"width: 10px; height: 10px;background-color: rgb(123, 234, 123);\"></td><td title=\"Index: [23, 39]&#10;Color: (123, 234, 123)\" style=\"width: 10px; height: 10px;background-color: rgb(123, 234, 123);\"></td><td title=\"Index: [23, 40]&#10;Color: (123, 234, 123)\" style=\"width: 10px; height: 10px;background-color: rgb(123, 234, 123);\"></td><td title=\"Index: [23, 41]&#10;Color: (123, 234, 123)\" style=\"width: 10px; height: 10px;background-color: rgb(123, 234, 123);\"></td><td title=\"Index: [23, 42]&#10;Color: (123, 234, 123)\" style=\"width: 10px; height: 10px;background-color: rgb(123, 234, 123);\"></td><td title=\"Index: [23, 43]&#10;Color: (0, 0, 0)\" style=\"width: 10px; height: 10px;background-color: rgb(0, 0, 0);\"></td><td title=\"Index: [23, 44]&#10;Color: (123, 234, 123)\" style=\"width: 10px; height: 10px;background-color: rgb(123, 234, 123);\"></td><td title=\"Index: [23, 45]&#10;Color: (123, 234, 123)\" style=\"width: 10px; height: 10px;background-color: rgb(123, 234, 123);\"></td><td title=\"Index: [23, 46]&#10;Color: (123, 234, 123)\" style=\"width: 10px; height: 10px;background-color: rgb(123, 234, 123);\"></td><td title=\"Index: [23, 47]&#10;Color: (123, 234, 123)\" style=\"width: 10px; height: 10px;background-color: rgb(123, 234, 123);\"></td><td title=\"Index: [23, 48]&#10;Color: (123, 234, 123)\" style=\"width: 10px; height: 10px;background-color: rgb(123, 234, 123);\"></td><td title=\"Index: [23, 49]&#10;Color: (123, 234, 123)\" style=\"width: 10px; height: 10px;background-color: rgb(123, 234, 123);\"></td></tr><tr><td title=\"Index: [24, 0]&#10;Color: (123, 234, 123)\" style=\"width: 10px; height: 10px;background-color: rgb(123, 234, 123);\"></td><td title=\"Index: [24, 1]&#10;Color: (0, 0, 0)\" style=\"width: 10px; height: 10px;background-color: rgb(0, 0, 0);\"></td><td title=\"Index: [24, 2]&#10;Color: (123, 234, 123)\" style=\"width: 10px; height: 10px;background-color: rgb(123, 234, 123);\"></td><td title=\"Index: [24, 3]&#10;Color: (123, 234, 123)\" style=\"width: 10px; height: 10px;background-color: rgb(123, 234, 123);\"></td><td title=\"Index: [24, 4]&#10;Color: (123, 234, 123)\" style=\"width: 10px; height: 10px;background-color: rgb(123, 234, 123);\"></td><td title=\"Index: [24, 5]&#10;Color: (123, 234, 123)\" style=\"width: 10px; height: 10px;background-color: rgb(123, 234, 123);\"></td><td title=\"Index: [24, 6]&#10;Color: (123, 234, 123)\" style=\"width: 10px; height: 10px;background-color: rgb(123, 234, 123);\"></td><td title=\"Index: [24, 7]&#10;Color: (123, 234, 123)\" style=\"width: 10px; height: 10px;background-color: rgb(123, 234, 123);\"></td><td title=\"Index: [24, 8]&#10;Color: (123, 234, 123)\" style=\"width: 10px; height: 10px;background-color: rgb(123, 234, 123);\"></td><td title=\"Index: [24, 9]&#10;Color: (123, 234, 123)\" style=\"width: 10px; height: 10px;background-color: rgb(123, 234, 123);\"></td><td title=\"Index: [24, 10]&#10;Color: (123, 234, 123)\" style=\"width: 10px; height: 10px;background-color: rgb(123, 234, 123);\"></td><td title=\"Index: [24, 11]&#10;Color: (123, 234, 123)\" style=\"width: 10px; height: 10px;background-color: rgb(123, 234, 123);\"></td><td title=\"Index: [24, 12]&#10;Color: (123, 234, 123)\" style=\"width: 10px; height: 10px;background-color: rgb(123, 234, 123);\"></td><td title=\"Index: [24, 13]&#10;Color: (0, 0, 0)\" style=\"width: 10px; height: 10px;background-color: rgb(0, 0, 0);\"></td><td title=\"Index: [24, 14]&#10;Color: (123, 234, 123)\" style=\"width: 10px; height: 10px;background-color: rgb(123, 234, 123);\"></td><td title=\"Index: [24, 15]&#10;Color: (123, 234, 123)\" style=\"width: 10px; height: 10px;background-color: rgb(123, 234, 123);\"></td><td title=\"Index: [24, 16]&#10;Color: (123, 234, 123)\" style=\"width: 10px; height: 10px;background-color: rgb(123, 234, 123);\"></td><td title=\"Index: [24, 17]&#10;Color: (0, 0, 0)\" style=\"width: 10px; height: 10px;background-color: rgb(0, 0, 0);\"></td><td title=\"Index: [24, 18]&#10;Color: (123, 234, 123)\" style=\"width: 10px; height: 10px;background-color: rgb(123, 234, 123);\"></td><td title=\"Index: [24, 19]&#10;Color: (123, 234, 123)\" style=\"width: 10px; height: 10px;background-color: rgb(123, 234, 123);\"></td><td title=\"Index: [24, 20]&#10;Color: (123, 234, 123)\" style=\"width: 10px; height: 10px;background-color: rgb(123, 234, 123);\"></td><td title=\"Index: [24, 21]&#10;Color: (123, 234, 123)\" style=\"width: 10px; height: 10px;background-color: rgb(123, 234, 123);\"></td><td title=\"Index: [24, 22]&#10;Color: (123, 234, 123)\" style=\"width: 10px; height: 10px;background-color: rgb(123, 234, 123);\"></td><td title=\"Index: [24, 23]&#10;Color: (0, 0, 0)\" style=\"width: 10px; height: 10px;background-color: rgb(0, 0, 0);\"></td><td title=\"Index: [24, 24]&#10;Color: (123, 234, 123)\" style=\"width: 10px; height: 10px;background-color: rgb(123, 234, 123);\"></td><td title=\"Index: [24, 25]&#10;Color: (123, 234, 123)\" style=\"width: 10px; height: 10px;background-color: rgb(123, 234, 123);\"></td><td title=\"Index: [24, 26]&#10;Color: (123, 234, 123)\" style=\"width: 10px; height: 10px;background-color: rgb(123, 234, 123);\"></td><td title=\"Index: [24, 27]&#10;Color: (123, 234, 123)\" style=\"width: 10px; height: 10px;background-color: rgb(123, 234, 123);\"></td><td title=\"Index: [24, 28]&#10;Color: (123, 234, 123)\" style=\"width: 10px; height: 10px;background-color: rgb(123, 234, 123);\"></td><td title=\"Index: [24, 29]&#10;Color: (0, 0, 0)\" style=\"width: 10px; height: 10px;background-color: rgb(0, 0, 0);\"></td><td title=\"Index: [24, 30]&#10;Color: (123, 234, 123)\" style=\"width: 10px; height: 10px;background-color: rgb(123, 234, 123);\"></td><td title=\"Index: [24, 31]&#10;Color: (0, 0, 0)\" style=\"width: 10px; height: 10px;background-color: rgb(0, 0, 0);\"></td><td title=\"Index: [24, 32]&#10;Color: (123, 234, 123)\" style=\"width: 10px; height: 10px;background-color: rgb(123, 234, 123);\"></td><td title=\"Index: [24, 33]&#10;Color: (123, 234, 123)\" style=\"width: 10px; height: 10px;background-color: rgb(123, 234, 123);\"></td><td title=\"Index: [24, 34]&#10;Color: (123, 234, 123)\" style=\"width: 10px; height: 10px;background-color: rgb(123, 234, 123);\"></td><td title=\"Index: [24, 35]&#10;Color: (123, 234, 123)\" style=\"width: 10px; height: 10px;background-color: rgb(123, 234, 123);\"></td><td title=\"Index: [24, 36]&#10;Color: (123, 234, 123)\" style=\"width: 10px; height: 10px;background-color: rgb(123, 234, 123);\"></td><td title=\"Index: [24, 37]&#10;Color: (0, 0, 0)\" style=\"width: 10px; height: 10px;background-color: rgb(0, 0, 0);\"></td><td title=\"Index: [24, 38]&#10;Color: (123, 234, 123)\" style=\"width: 10px; height: 10px;background-color: rgb(123, 234, 123);\"></td><td title=\"Index: [24, 39]&#10;Color: (123, 234, 123)\" style=\"width: 10px; height: 10px;background-color: rgb(123, 234, 123);\"></td><td title=\"Index: [24, 40]&#10;Color: (123, 234, 123)\" style=\"width: 10px; height: 10px;background-color: rgb(123, 234, 123);\"></td><td title=\"Index: [24, 41]&#10;Color: (123, 234, 123)\" style=\"width: 10px; height: 10px;background-color: rgb(123, 234, 123);\"></td><td title=\"Index: [24, 42]&#10;Color: (123, 234, 123)\" style=\"width: 10px; height: 10px;background-color: rgb(123, 234, 123);\"></td><td title=\"Index: [24, 43]&#10;Color: (123, 234, 123)\" style=\"width: 10px; height: 10px;background-color: rgb(123, 234, 123);\"></td><td title=\"Index: [24, 44]&#10;Color: (123, 234, 123)\" style=\"width: 10px; height: 10px;background-color: rgb(123, 234, 123);\"></td><td title=\"Index: [24, 45]&#10;Color: (123, 234, 123)\" style=\"width: 10px; height: 10px;background-color: rgb(123, 234, 123);\"></td><td title=\"Index: [24, 46]&#10;Color: (123, 234, 123)\" style=\"width: 10px; height: 10px;background-color: rgb(123, 234, 123);\"></td><td title=\"Index: [24, 47]&#10;Color: (123, 234, 123)\" style=\"width: 10px; height: 10px;background-color: rgb(123, 234, 123);\"></td><td title=\"Index: [24, 48]&#10;Color: (123, 234, 123)\" style=\"width: 10px; height: 10px;background-color: rgb(123, 234, 123);\"></td><td title=\"Index: [24, 49]&#10;Color: (0, 0, 0)\" style=\"width: 10px; height: 10px;background-color: rgb(0, 0, 0);\"></td></tr><tr><td title=\"Index: [25, 0]&#10;Color: (123, 234, 123)\" style=\"width: 10px; height: 10px;background-color: rgb(123, 234, 123);\"></td><td title=\"Index: [25, 1]&#10;Color: (123, 234, 123)\" style=\"width: 10px; height: 10px;background-color: rgb(123, 234, 123);\"></td><td title=\"Index: [25, 2]&#10;Color: (123, 234, 123)\" style=\"width: 10px; height: 10px;background-color: rgb(123, 234, 123);\"></td><td title=\"Index: [25, 3]&#10;Color: (123, 234, 123)\" style=\"width: 10px; height: 10px;background-color: rgb(123, 234, 123);\"></td><td title=\"Index: [25, 4]&#10;Color: (123, 234, 123)\" style=\"width: 10px; height: 10px;background-color: rgb(123, 234, 123);\"></td><td title=\"Index: [25, 5]&#10;Color: (123, 234, 123)\" style=\"width: 10px; height: 10px;background-color: rgb(123, 234, 123);\"></td><td title=\"Index: [25, 6]&#10;Color: (123, 234, 123)\" style=\"width: 10px; height: 10px;background-color: rgb(123, 234, 123);\"></td><td title=\"Index: [25, 7]&#10;Color: (123, 234, 123)\" style=\"width: 10px; height: 10px;background-color: rgb(123, 234, 123);\"></td><td title=\"Index: [25, 8]&#10;Color: (123, 234, 123)\" style=\"width: 10px; height: 10px;background-color: rgb(123, 234, 123);\"></td><td title=\"Index: [25, 9]&#10;Color: (0, 0, 0)\" style=\"width: 10px; height: 10px;background-color: rgb(0, 0, 0);\"></td><td title=\"Index: [25, 10]&#10;Color: (123, 234, 123)\" style=\"width: 10px; height: 10px;background-color: rgb(123, 234, 123);\"></td><td title=\"Index: [25, 11]&#10;Color: (123, 234, 123)\" style=\"width: 10px; height: 10px;background-color: rgb(123, 234, 123);\"></td><td title=\"Index: [25, 12]&#10;Color: (123, 234, 123)\" style=\"width: 10px; height: 10px;background-color: rgb(123, 234, 123);\"></td><td title=\"Index: [25, 13]&#10;Color: (123, 234, 123)\" style=\"width: 10px; height: 10px;background-color: rgb(123, 234, 123);\"></td><td title=\"Index: [25, 14]&#10;Color: (123, 234, 123)\" style=\"width: 10px; height: 10px;background-color: rgb(123, 234, 123);\"></td><td title=\"Index: [25, 15]&#10;Color: (123, 234, 123)\" style=\"width: 10px; height: 10px;background-color: rgb(123, 234, 123);\"></td><td title=\"Index: [25, 16]&#10;Color: (123, 234, 123)\" style=\"width: 10px; height: 10px;background-color: rgb(123, 234, 123);\"></td><td title=\"Index: [25, 17]&#10;Color: (123, 234, 123)\" style=\"width: 10px; height: 10px;background-color: rgb(123, 234, 123);\"></td><td title=\"Index: [25, 18]&#10;Color: (123, 234, 123)\" style=\"width: 10px; height: 10px;background-color: rgb(123, 234, 123);\"></td><td title=\"Index: [25, 19]&#10;Color: (123, 234, 123)\" style=\"width: 10px; height: 10px;background-color: rgb(123, 234, 123);\"></td><td title=\"Index: [25, 20]&#10;Color: (123, 234, 123)\" style=\"width: 10px; height: 10px;background-color: rgb(123, 234, 123);\"></td><td title=\"Index: [25, 21]&#10;Color: (123, 234, 123)\" style=\"width: 10px; height: 10px;background-color: rgb(123, 234, 123);\"></td><td title=\"Index: [25, 22]&#10;Color: (123, 234, 123)\" style=\"width: 10px; height: 10px;background-color: rgb(123, 234, 123);\"></td><td title=\"Index: [25, 23]&#10;Color: (123, 234, 123)\" style=\"width: 10px; height: 10px;background-color: rgb(123, 234, 123);\"></td><td title=\"Index: [25, 24]&#10;Color: (123, 234, 123)\" style=\"width: 10px; height: 10px;background-color: rgb(123, 234, 123);\"></td><td title=\"Index: [25, 25]&#10;Color: (123, 234, 123)\" style=\"width: 10px; height: 10px;background-color: rgb(123, 234, 123);\"></td><td title=\"Index: [25, 26]&#10;Color: (123, 234, 123)\" style=\"width: 10px; height: 10px;background-color: rgb(123, 234, 123);\"></td><td title=\"Index: [25, 27]&#10;Color: (0, 0, 0)\" style=\"width: 10px; height: 10px;background-color: rgb(0, 0, 0);\"></td><td title=\"Index: [25, 28]&#10;Color: (123, 234, 123)\" style=\"width: 10px; height: 10px;background-color: rgb(123, 234, 123);\"></td><td title=\"Index: [25, 29]&#10;Color: (0, 0, 0)\" style=\"width: 10px; height: 10px;background-color: rgb(0, 0, 0);\"></td><td title=\"Index: [25, 30]&#10;Color: (123, 234, 123)\" style=\"width: 10px; height: 10px;background-color: rgb(123, 234, 123);\"></td><td title=\"Index: [25, 31]&#10;Color: (123, 234, 123)\" style=\"width: 10px; height: 10px;background-color: rgb(123, 234, 123);\"></td><td title=\"Index: [25, 32]&#10;Color: (123, 234, 123)\" style=\"width: 10px; height: 10px;background-color: rgb(123, 234, 123);\"></td><td title=\"Index: [25, 33]&#10;Color: (0, 0, 0)\" style=\"width: 10px; height: 10px;background-color: rgb(0, 0, 0);\"></td><td title=\"Index: [25, 34]&#10;Color: (123, 234, 123)\" style=\"width: 10px; height: 10px;background-color: rgb(123, 234, 123);\"></td><td title=\"Index: [25, 35]&#10;Color: (123, 234, 123)\" style=\"width: 10px; height: 10px;background-color: rgb(123, 234, 123);\"></td><td title=\"Index: [25, 36]&#10;Color: (123, 234, 123)\" style=\"width: 10px; height: 10px;background-color: rgb(123, 234, 123);\"></td><td title=\"Index: [25, 37]&#10;Color: (123, 234, 123)\" style=\"width: 10px; height: 10px;background-color: rgb(123, 234, 123);\"></td><td title=\"Index: [25, 38]&#10;Color: (123, 234, 123)\" style=\"width: 10px; height: 10px;background-color: rgb(123, 234, 123);\"></td><td title=\"Index: [25, 39]&#10;Color: (0, 0, 0)\" style=\"width: 10px; height: 10px;background-color: rgb(0, 0, 0);\"></td><td title=\"Index: [25, 40]&#10;Color: (123, 234, 123)\" style=\"width: 10px; height: 10px;background-color: rgb(123, 234, 123);\"></td><td title=\"Index: [25, 41]&#10;Color: (0, 0, 0)\" style=\"width: 10px; height: 10px;background-color: rgb(0, 0, 0);\"></td><td title=\"Index: [25, 42]&#10;Color: (123, 234, 123)\" style=\"width: 10px; height: 10px;background-color: rgb(123, 234, 123);\"></td><td title=\"Index: [25, 43]&#10;Color: (123, 234, 123)\" style=\"width: 10px; height: 10px;background-color: rgb(123, 234, 123);\"></td><td title=\"Index: [25, 44]&#10;Color: (123, 234, 123)\" style=\"width: 10px; height: 10px;background-color: rgb(123, 234, 123);\"></td><td title=\"Index: [25, 45]&#10;Color: (123, 234, 123)\" style=\"width: 10px; height: 10px;background-color: rgb(123, 234, 123);\"></td><td title=\"Index: [25, 46]&#10;Color: (123, 234, 123)\" style=\"width: 10px; height: 10px;background-color: rgb(123, 234, 123);\"></td><td title=\"Index: [25, 47]&#10;Color: (0, 0, 0)\" style=\"width: 10px; height: 10px;background-color: rgb(0, 0, 0);\"></td><td title=\"Index: [25, 48]&#10;Color: (123, 234, 123)\" style=\"width: 10px; height: 10px;background-color: rgb(123, 234, 123);\"></td><td title=\"Index: [25, 49]&#10;Color: (123, 234, 123)\" style=\"width: 10px; height: 10px;background-color: rgb(123, 234, 123);\"></td></tr><tr><td title=\"Index: [26, 0]&#10;Color: (123, 234, 123)\" style=\"width: 10px; height: 10px;background-color: rgb(123, 234, 123);\"></td><td title=\"Index: [26, 1]&#10;Color: (0, 0, 0)\" style=\"width: 10px; height: 10px;background-color: rgb(0, 0, 0);\"></td><td title=\"Index: [26, 2]&#10;Color: (123, 234, 123)\" style=\"width: 10px; height: 10px;background-color: rgb(123, 234, 123);\"></td><td title=\"Index: [26, 3]&#10;Color: (0, 0, 0)\" style=\"width: 10px; height: 10px;background-color: rgb(0, 0, 0);\"></td><td title=\"Index: [26, 4]&#10;Color: (123, 234, 123)\" style=\"width: 10px; height: 10px;background-color: rgb(123, 234, 123);\"></td><td title=\"Index: [26, 5]&#10;Color: (123, 234, 123)\" style=\"width: 10px; height: 10px;background-color: rgb(123, 234, 123);\"></td><td title=\"Index: [26, 6]&#10;Color: (123, 234, 123)\" style=\"width: 10px; height: 10px;background-color: rgb(123, 234, 123);\"></td><td title=\"Index: [26, 7]&#10;Color: (0, 0, 0)\" style=\"width: 10px; height: 10px;background-color: rgb(0, 0, 0);\"></td><td title=\"Index: [26, 8]&#10;Color: (123, 234, 123)\" style=\"width: 10px; height: 10px;background-color: rgb(123, 234, 123);\"></td><td title=\"Index: [26, 9]&#10;Color: (123, 234, 123)\" style=\"width: 10px; height: 10px;background-color: rgb(123, 234, 123);\"></td><td title=\"Index: [26, 10]&#10;Color: (123, 234, 123)\" style=\"width: 10px; height: 10px;background-color: rgb(123, 234, 123);\"></td><td title=\"Index: [26, 11]&#10;Color: (123, 234, 123)\" style=\"width: 10px; height: 10px;background-color: rgb(123, 234, 123);\"></td><td title=\"Index: [26, 12]&#10;Color: (123, 234, 123)\" style=\"width: 10px; height: 10px;background-color: rgb(123, 234, 123);\"></td><td title=\"Index: [26, 13]&#10;Color: (123, 234, 123)\" style=\"width: 10px; height: 10px;background-color: rgb(123, 234, 123);\"></td><td title=\"Index: [26, 14]&#10;Color: (123, 234, 123)\" style=\"width: 10px; height: 10px;background-color: rgb(123, 234, 123);\"></td><td title=\"Index: [26, 15]&#10;Color: (123, 234, 123)\" style=\"width: 10px; height: 10px;background-color: rgb(123, 234, 123);\"></td><td title=\"Index: [26, 16]&#10;Color: (123, 234, 123)\" style=\"width: 10px; height: 10px;background-color: rgb(123, 234, 123);\"></td><td title=\"Index: [26, 17]&#10;Color: (123, 234, 123)\" style=\"width: 10px; height: 10px;background-color: rgb(123, 234, 123);\"></td><td title=\"Index: [26, 18]&#10;Color: (123, 234, 123)\" style=\"width: 10px; height: 10px;background-color: rgb(123, 234, 123);\"></td><td title=\"Index: [26, 19]&#10;Color: (0, 0, 0)\" style=\"width: 10px; height: 10px;background-color: rgb(0, 0, 0);\"></td><td title=\"Index: [26, 20]&#10;Color: (123, 234, 123)\" style=\"width: 10px; height: 10px;background-color: rgb(123, 234, 123);\"></td><td title=\"Index: [26, 21]&#10;Color: (0, 0, 0)\" style=\"width: 10px; height: 10px;background-color: rgb(0, 0, 0);\"></td><td title=\"Index: [26, 22]&#10;Color: (123, 234, 123)\" style=\"width: 10px; height: 10px;background-color: rgb(123, 234, 123);\"></td><td title=\"Index: [26, 23]&#10;Color: (123, 234, 123)\" style=\"width: 10px; height: 10px;background-color: rgb(123, 234, 123);\"></td><td title=\"Index: [26, 24]&#10;Color: (123, 234, 123)\" style=\"width: 10px; height: 10px;background-color: rgb(123, 234, 123);\"></td><td title=\"Index: [26, 25]&#10;Color: (123, 234, 123)\" style=\"width: 10px; height: 10px;background-color: rgb(123, 234, 123);\"></td><td title=\"Index: [26, 26]&#10;Color: (123, 234, 123)\" style=\"width: 10px; height: 10px;background-color: rgb(123, 234, 123);\"></td><td title=\"Index: [26, 27]&#10;Color: (0, 0, 0)\" style=\"width: 10px; height: 10px;background-color: rgb(0, 0, 0);\"></td><td title=\"Index: [26, 28]&#10;Color: (123, 234, 123)\" style=\"width: 10px; height: 10px;background-color: rgb(123, 234, 123);\"></td><td title=\"Index: [26, 29]&#10;Color: (123, 234, 123)\" style=\"width: 10px; height: 10px;background-color: rgb(123, 234, 123);\"></td><td title=\"Index: [26, 30]&#10;Color: (123, 234, 123)\" style=\"width: 10px; height: 10px;background-color: rgb(123, 234, 123);\"></td><td title=\"Index: [26, 31]&#10;Color: (123, 234, 123)\" style=\"width: 10px; height: 10px;background-color: rgb(123, 234, 123);\"></td><td title=\"Index: [26, 32]&#10;Color: (123, 234, 123)\" style=\"width: 10px; height: 10px;background-color: rgb(123, 234, 123);\"></td><td title=\"Index: [26, 33]&#10;Color: (123, 234, 123)\" style=\"width: 10px; height: 10px;background-color: rgb(123, 234, 123);\"></td><td title=\"Index: [26, 34]&#10;Color: (123, 234, 123)\" style=\"width: 10px; height: 10px;background-color: rgb(123, 234, 123);\"></td><td title=\"Index: [26, 35]&#10;Color: (123, 234, 123)\" style=\"width: 10px; height: 10px;background-color: rgb(123, 234, 123);\"></td><td title=\"Index: [26, 36]&#10;Color: (123, 234, 123)\" style=\"width: 10px; height: 10px;background-color: rgb(123, 234, 123);\"></td><td title=\"Index: [26, 37]&#10;Color: (123, 234, 123)\" style=\"width: 10px; height: 10px;background-color: rgb(123, 234, 123);\"></td><td title=\"Index: [26, 38]&#10;Color: (123, 234, 123)\" style=\"width: 10px; height: 10px;background-color: rgb(123, 234, 123);\"></td><td title=\"Index: [26, 39]&#10;Color: (123, 234, 123)\" style=\"width: 10px; height: 10px;background-color: rgb(123, 234, 123);\"></td><td title=\"Index: [26, 40]&#10;Color: (123, 234, 123)\" style=\"width: 10px; height: 10px;background-color: rgb(123, 234, 123);\"></td><td title=\"Index: [26, 41]&#10;Color: (123, 234, 123)\" style=\"width: 10px; height: 10px;background-color: rgb(123, 234, 123);\"></td><td title=\"Index: [26, 42]&#10;Color: (123, 234, 123)\" style=\"width: 10px; height: 10px;background-color: rgb(123, 234, 123);\"></td><td title=\"Index: [26, 43]&#10;Color: (123, 234, 123)\" style=\"width: 10px; height: 10px;background-color: rgb(123, 234, 123);\"></td><td title=\"Index: [26, 44]&#10;Color: (123, 234, 123)\" style=\"width: 10px; height: 10px;background-color: rgb(123, 234, 123);\"></td><td title=\"Index: [26, 45]&#10;Color: (123, 234, 123)\" style=\"width: 10px; height: 10px;background-color: rgb(123, 234, 123);\"></td><td title=\"Index: [26, 46]&#10;Color: (123, 234, 123)\" style=\"width: 10px; height: 10px;background-color: rgb(123, 234, 123);\"></td><td title=\"Index: [26, 47]&#10;Color: (123, 234, 123)\" style=\"width: 10px; height: 10px;background-color: rgb(123, 234, 123);\"></td><td title=\"Index: [26, 48]&#10;Color: (123, 234, 123)\" style=\"width: 10px; height: 10px;background-color: rgb(123, 234, 123);\"></td><td title=\"Index: [26, 49]&#10;Color: (123, 234, 123)\" style=\"width: 10px; height: 10px;background-color: rgb(123, 234, 123);\"></td></tr><tr><td title=\"Index: [27, 0]&#10;Color: (123, 234, 123)\" style=\"width: 10px; height: 10px;background-color: rgb(123, 234, 123);\"></td><td title=\"Index: [27, 1]&#10;Color: (123, 234, 123)\" style=\"width: 10px; height: 10px;background-color: rgb(123, 234, 123);\"></td><td title=\"Index: [27, 2]&#10;Color: (123, 234, 123)\" style=\"width: 10px; height: 10px;background-color: rgb(123, 234, 123);\"></td><td title=\"Index: [27, 3]&#10;Color: (123, 234, 123)\" style=\"width: 10px; height: 10px;background-color: rgb(123, 234, 123);\"></td><td title=\"Index: [27, 4]&#10;Color: (123, 234, 123)\" style=\"width: 10px; height: 10px;background-color: rgb(123, 234, 123);\"></td><td title=\"Index: [27, 5]&#10;Color: (123, 234, 123)\" style=\"width: 10px; height: 10px;background-color: rgb(123, 234, 123);\"></td><td title=\"Index: [27, 6]&#10;Color: (123, 234, 123)\" style=\"width: 10px; height: 10px;background-color: rgb(123, 234, 123);\"></td><td title=\"Index: [27, 7]&#10;Color: (123, 234, 123)\" style=\"width: 10px; height: 10px;background-color: rgb(123, 234, 123);\"></td><td title=\"Index: [27, 8]&#10;Color: (123, 234, 123)\" style=\"width: 10px; height: 10px;background-color: rgb(123, 234, 123);\"></td><td title=\"Index: [27, 9]&#10;Color: (123, 234, 123)\" style=\"width: 10px; height: 10px;background-color: rgb(123, 234, 123);\"></td><td title=\"Index: [27, 10]&#10;Color: (123, 234, 123)\" style=\"width: 10px; height: 10px;background-color: rgb(123, 234, 123);\"></td><td title=\"Index: [27, 11]&#10;Color: (0, 0, 0)\" style=\"width: 10px; height: 10px;background-color: rgb(0, 0, 0);\"></td><td title=\"Index: [27, 12]&#10;Color: (123, 234, 123)\" style=\"width: 10px; height: 10px;background-color: rgb(123, 234, 123);\"></td><td title=\"Index: [27, 13]&#10;Color: (123, 234, 123)\" style=\"width: 10px; height: 10px;background-color: rgb(123, 234, 123);\"></td><td title=\"Index: [27, 14]&#10;Color: (123, 234, 123)\" style=\"width: 10px; height: 10px;background-color: rgb(123, 234, 123);\"></td><td title=\"Index: [27, 15]&#10;Color: (123, 234, 123)\" style=\"width: 10px; height: 10px;background-color: rgb(123, 234, 123);\"></td><td title=\"Index: [27, 16]&#10;Color: (123, 234, 123)\" style=\"width: 10px; height: 10px;background-color: rgb(123, 234, 123);\"></td><td title=\"Index: [27, 17]&#10;Color: (0, 0, 0)\" style=\"width: 10px; height: 10px;background-color: rgb(0, 0, 0);\"></td><td title=\"Index: [27, 18]&#10;Color: (123, 234, 123)\" style=\"width: 10px; height: 10px;background-color: rgb(123, 234, 123);\"></td><td title=\"Index: [27, 19]&#10;Color: (123, 234, 123)\" style=\"width: 10px; height: 10px;background-color: rgb(123, 234, 123);\"></td><td title=\"Index: [27, 20]&#10;Color: (123, 234, 123)\" style=\"width: 10px; height: 10px;background-color: rgb(123, 234, 123);\"></td><td title=\"Index: [27, 21]&#10;Color: (123, 234, 123)\" style=\"width: 10px; height: 10px;background-color: rgb(123, 234, 123);\"></td><td title=\"Index: [27, 22]&#10;Color: (123, 234, 123)\" style=\"width: 10px; height: 10px;background-color: rgb(123, 234, 123);\"></td><td title=\"Index: [27, 23]&#10;Color: (0, 0, 0)\" style=\"width: 10px; height: 10px;background-color: rgb(0, 0, 0);\"></td><td title=\"Index: [27, 24]&#10;Color: (123, 234, 123)\" style=\"width: 10px; height: 10px;background-color: rgb(123, 234, 123);\"></td><td title=\"Index: [27, 25]&#10;Color: (123, 234, 123)\" style=\"width: 10px; height: 10px;background-color: rgb(123, 234, 123);\"></td><td title=\"Index: [27, 26]&#10;Color: (123, 234, 123)\" style=\"width: 10px; height: 10px;background-color: rgb(123, 234, 123);\"></td><td title=\"Index: [27, 27]&#10;Color: (123, 234, 123)\" style=\"width: 10px; height: 10px;background-color: rgb(123, 234, 123);\"></td><td title=\"Index: [27, 28]&#10;Color: (123, 234, 123)\" style=\"width: 10px; height: 10px;background-color: rgb(123, 234, 123);\"></td><td title=\"Index: [27, 29]&#10;Color: (123, 234, 123)\" style=\"width: 10px; height: 10px;background-color: rgb(123, 234, 123);\"></td><td title=\"Index: [27, 30]&#10;Color: (123, 234, 123)\" style=\"width: 10px; height: 10px;background-color: rgb(123, 234, 123);\"></td><td title=\"Index: [27, 31]&#10;Color: (0, 0, 0)\" style=\"width: 10px; height: 10px;background-color: rgb(0, 0, 0);\"></td><td title=\"Index: [27, 32]&#10;Color: (123, 234, 123)\" style=\"width: 10px; height: 10px;background-color: rgb(123, 234, 123);\"></td><td title=\"Index: [27, 33]&#10;Color: (123, 234, 123)\" style=\"width: 10px; height: 10px;background-color: rgb(123, 234, 123);\"></td><td title=\"Index: [27, 34]&#10;Color: (123, 234, 123)\" style=\"width: 10px; height: 10px;background-color: rgb(123, 234, 123);\"></td><td title=\"Index: [27, 35]&#10;Color: (123, 234, 123)\" style=\"width: 10px; height: 10px;background-color: rgb(123, 234, 123);\"></td><td title=\"Index: [27, 36]&#10;Color: (123, 234, 123)\" style=\"width: 10px; height: 10px;background-color: rgb(123, 234, 123);\"></td><td title=\"Index: [27, 37]&#10;Color: (123, 234, 123)\" style=\"width: 10px; height: 10px;background-color: rgb(123, 234, 123);\"></td><td title=\"Index: [27, 38]&#10;Color: (123, 234, 123)\" style=\"width: 10px; height: 10px;background-color: rgb(123, 234, 123);\"></td><td title=\"Index: [27, 39]&#10;Color: (123, 234, 123)\" style=\"width: 10px; height: 10px;background-color: rgb(123, 234, 123);\"></td><td title=\"Index: [27, 40]&#10;Color: (123, 234, 123)\" style=\"width: 10px; height: 10px;background-color: rgb(123, 234, 123);\"></td><td title=\"Index: [27, 41]&#10;Color: (123, 234, 123)\" style=\"width: 10px; height: 10px;background-color: rgb(123, 234, 123);\"></td><td title=\"Index: [27, 42]&#10;Color: (123, 234, 123)\" style=\"width: 10px; height: 10px;background-color: rgb(123, 234, 123);\"></td><td title=\"Index: [27, 43]&#10;Color: (123, 234, 123)\" style=\"width: 10px; height: 10px;background-color: rgb(123, 234, 123);\"></td><td title=\"Index: [27, 44]&#10;Color: (123, 234, 123)\" style=\"width: 10px; height: 10px;background-color: rgb(123, 234, 123);\"></td><td title=\"Index: [27, 45]&#10;Color: (123, 234, 123)\" style=\"width: 10px; height: 10px;background-color: rgb(123, 234, 123);\"></td><td title=\"Index: [27, 46]&#10;Color: (123, 234, 123)\" style=\"width: 10px; height: 10px;background-color: rgb(123, 234, 123);\"></td><td title=\"Index: [27, 47]&#10;Color: (123, 234, 123)\" style=\"width: 10px; height: 10px;background-color: rgb(123, 234, 123);\"></td><td title=\"Index: [27, 48]&#10;Color: (123, 234, 123)\" style=\"width: 10px; height: 10px;background-color: rgb(123, 234, 123);\"></td><td title=\"Index: [27, 49]&#10;Color: (0, 0, 0)\" style=\"width: 10px; height: 10px;background-color: rgb(0, 0, 0);\"></td></tr><tr><td title=\"Index: [28, 0]&#10;Color: (123, 234, 123)\" style=\"width: 10px; height: 10px;background-color: rgb(123, 234, 123);\"></td><td title=\"Index: [28, 1]&#10;Color: (123, 234, 123)\" style=\"width: 10px; height: 10px;background-color: rgb(123, 234, 123);\"></td><td title=\"Index: [28, 2]&#10;Color: (123, 234, 123)\" style=\"width: 10px; height: 10px;background-color: rgb(123, 234, 123);\"></td><td title=\"Index: [28, 3]&#10;Color: (123, 234, 123)\" style=\"width: 10px; height: 10px;background-color: rgb(123, 234, 123);\"></td><td title=\"Index: [28, 4]&#10;Color: (123, 234, 123)\" style=\"width: 10px; height: 10px;background-color: rgb(123, 234, 123);\"></td><td title=\"Index: [28, 5]&#10;Color: (123, 234, 123)\" style=\"width: 10px; height: 10px;background-color: rgb(123, 234, 123);\"></td><td title=\"Index: [28, 6]&#10;Color: (123, 234, 123)\" style=\"width: 10px; height: 10px;background-color: rgb(123, 234, 123);\"></td><td title=\"Index: [28, 7]&#10;Color: (123, 234, 123)\" style=\"width: 10px; height: 10px;background-color: rgb(123, 234, 123);\"></td><td title=\"Index: [28, 8]&#10;Color: (123, 234, 123)\" style=\"width: 10px; height: 10px;background-color: rgb(123, 234, 123);\"></td><td title=\"Index: [28, 9]&#10;Color: (0, 0, 0)\" style=\"width: 10px; height: 10px;background-color: rgb(0, 0, 0);\"></td><td title=\"Index: [28, 10]&#10;Color: (123, 234, 123)\" style=\"width: 10px; height: 10px;background-color: rgb(123, 234, 123);\"></td><td title=\"Index: [28, 11]&#10;Color: (123, 234, 123)\" style=\"width: 10px; height: 10px;background-color: rgb(123, 234, 123);\"></td><td title=\"Index: [28, 12]&#10;Color: (123, 234, 123)\" style=\"width: 10px; height: 10px;background-color: rgb(123, 234, 123);\"></td><td title=\"Index: [28, 13]&#10;Color: (123, 234, 123)\" style=\"width: 10px; height: 10px;background-color: rgb(123, 234, 123);\"></td><td title=\"Index: [28, 14]&#10;Color: (123, 234, 123)\" style=\"width: 10px; height: 10px;background-color: rgb(123, 234, 123);\"></td><td title=\"Index: [28, 15]&#10;Color: (123, 234, 123)\" style=\"width: 10px; height: 10px;background-color: rgb(123, 234, 123);\"></td><td title=\"Index: [28, 16]&#10;Color: (123, 234, 123)\" style=\"width: 10px; height: 10px;background-color: rgb(123, 234, 123);\"></td><td title=\"Index: [28, 17]&#10;Color: (123, 234, 123)\" style=\"width: 10px; height: 10px;background-color: rgb(123, 234, 123);\"></td><td title=\"Index: [28, 18]&#10;Color: (123, 234, 123)\" style=\"width: 10px; height: 10px;background-color: rgb(123, 234, 123);\"></td><td title=\"Index: [28, 19]&#10;Color: (123, 234, 123)\" style=\"width: 10px; height: 10px;background-color: rgb(123, 234, 123);\"></td><td title=\"Index: [28, 20]&#10;Color: (123, 234, 123)\" style=\"width: 10px; height: 10px;background-color: rgb(123, 234, 123);\"></td><td title=\"Index: [28, 21]&#10;Color: (123, 234, 123)\" style=\"width: 10px; height: 10px;background-color: rgb(123, 234, 123);\"></td><td title=\"Index: [28, 22]&#10;Color: (123, 234, 123)\" style=\"width: 10px; height: 10px;background-color: rgb(123, 234, 123);\"></td><td title=\"Index: [28, 23]&#10;Color: (0, 0, 0)\" style=\"width: 10px; height: 10px;background-color: rgb(0, 0, 0);\"></td><td title=\"Index: [28, 24]&#10;Color: (123, 234, 123)\" style=\"width: 10px; height: 10px;background-color: rgb(123, 234, 123);\"></td><td title=\"Index: [28, 25]&#10;Color: (123, 234, 123)\" style=\"width: 10px; height: 10px;background-color: rgb(123, 234, 123);\"></td><td title=\"Index: [28, 26]&#10;Color: (123, 234, 123)\" style=\"width: 10px; height: 10px;background-color: rgb(123, 234, 123);\"></td><td title=\"Index: [28, 27]&#10;Color: (0, 0, 0)\" style=\"width: 10px; height: 10px;background-color: rgb(0, 0, 0);\"></td><td title=\"Index: [28, 28]&#10;Color: (123, 234, 123)\" style=\"width: 10px; height: 10px;background-color: rgb(123, 234, 123);\"></td><td title=\"Index: [28, 29]&#10;Color: (0, 0, 0)\" style=\"width: 10px; height: 10px;background-color: rgb(0, 0, 0);\"></td><td title=\"Index: [28, 30]&#10;Color: (123, 234, 123)\" style=\"width: 10px; height: 10px;background-color: rgb(123, 234, 123);\"></td><td title=\"Index: [28, 31]&#10;Color: (123, 234, 123)\" style=\"width: 10px; height: 10px;background-color: rgb(123, 234, 123);\"></td><td title=\"Index: [28, 32]&#10;Color: (123, 234, 123)\" style=\"width: 10px; height: 10px;background-color: rgb(123, 234, 123);\"></td><td title=\"Index: [28, 33]&#10;Color: (0, 0, 0)\" style=\"width: 10px; height: 10px;background-color: rgb(0, 0, 0);\"></td><td title=\"Index: [28, 34]&#10;Color: (123, 234, 123)\" style=\"width: 10px; height: 10px;background-color: rgb(123, 234, 123);\"></td><td title=\"Index: [28, 35]&#10;Color: (123, 234, 123)\" style=\"width: 10px; height: 10px;background-color: rgb(123, 234, 123);\"></td><td title=\"Index: [28, 36]&#10;Color: (123, 234, 123)\" style=\"width: 10px; height: 10px;background-color: rgb(123, 234, 123);\"></td><td title=\"Index: [28, 37]&#10;Color: (123, 234, 123)\" style=\"width: 10px; height: 10px;background-color: rgb(123, 234, 123);\"></td><td title=\"Index: [28, 38]&#10;Color: (123, 234, 123)\" style=\"width: 10px; height: 10px;background-color: rgb(123, 234, 123);\"></td><td title=\"Index: [28, 39]&#10;Color: (0, 0, 0)\" style=\"width: 10px; height: 10px;background-color: rgb(0, 0, 0);\"></td><td title=\"Index: [28, 40]&#10;Color: (123, 234, 123)\" style=\"width: 10px; height: 10px;background-color: rgb(123, 234, 123);\"></td><td title=\"Index: [28, 41]&#10;Color: (123, 234, 123)\" style=\"width: 10px; height: 10px;background-color: rgb(123, 234, 123);\"></td><td title=\"Index: [28, 42]&#10;Color: (123, 234, 123)\" style=\"width: 10px; height: 10px;background-color: rgb(123, 234, 123);\"></td><td title=\"Index: [28, 43]&#10;Color: (123, 234, 123)\" style=\"width: 10px; height: 10px;background-color: rgb(123, 234, 123);\"></td><td title=\"Index: [28, 44]&#10;Color: (123, 234, 123)\" style=\"width: 10px; height: 10px;background-color: rgb(123, 234, 123);\"></td><td title=\"Index: [28, 45]&#10;Color: (123, 234, 123)\" style=\"width: 10px; height: 10px;background-color: rgb(123, 234, 123);\"></td><td title=\"Index: [28, 46]&#10;Color: (123, 234, 123)\" style=\"width: 10px; height: 10px;background-color: rgb(123, 234, 123);\"></td><td title=\"Index: [28, 47]&#10;Color: (0, 0, 0)\" style=\"width: 10px; height: 10px;background-color: rgb(0, 0, 0);\"></td><td title=\"Index: [28, 48]&#10;Color: (123, 234, 123)\" style=\"width: 10px; height: 10px;background-color: rgb(123, 234, 123);\"></td><td title=\"Index: [28, 49]&#10;Color: (123, 234, 123)\" style=\"width: 10px; height: 10px;background-color: rgb(123, 234, 123);\"></td></tr><tr><td title=\"Index: [29, 0]&#10;Color: (123, 234, 123)\" style=\"width: 10px; height: 10px;background-color: rgb(123, 234, 123);\"></td><td title=\"Index: [29, 1]&#10;Color: (0, 0, 0)\" style=\"width: 10px; height: 10px;background-color: rgb(0, 0, 0);\"></td><td title=\"Index: [29, 2]&#10;Color: (123, 234, 123)\" style=\"width: 10px; height: 10px;background-color: rgb(123, 234, 123);\"></td><td title=\"Index: [29, 3]&#10;Color: (0, 0, 0)\" style=\"width: 10px; height: 10px;background-color: rgb(0, 0, 0);\"></td><td title=\"Index: [29, 4]&#10;Color: (123, 234, 123)\" style=\"width: 10px; height: 10px;background-color: rgb(123, 234, 123);\"></td><td title=\"Index: [29, 5]&#10;Color: (123, 234, 123)\" style=\"width: 10px; height: 10px;background-color: rgb(123, 234, 123);\"></td><td title=\"Index: [29, 6]&#10;Color: (123, 234, 123)\" style=\"width: 10px; height: 10px;background-color: rgb(123, 234, 123);\"></td><td title=\"Index: [29, 7]&#10;Color: (123, 234, 123)\" style=\"width: 10px; height: 10px;background-color: rgb(123, 234, 123);\"></td><td title=\"Index: [29, 8]&#10;Color: (123, 234, 123)\" style=\"width: 10px; height: 10px;background-color: rgb(123, 234, 123);\"></td><td title=\"Index: [29, 9]&#10;Color: (0, 0, 0)\" style=\"width: 10px; height: 10px;background-color: rgb(0, 0, 0);\"></td><td title=\"Index: [29, 10]&#10;Color: (123, 234, 123)\" style=\"width: 10px; height: 10px;background-color: rgb(123, 234, 123);\"></td><td title=\"Index: [29, 11]&#10;Color: (123, 234, 123)\" style=\"width: 10px; height: 10px;background-color: rgb(123, 234, 123);\"></td><td title=\"Index: [29, 12]&#10;Color: (123, 234, 123)\" style=\"width: 10px; height: 10px;background-color: rgb(123, 234, 123);\"></td><td title=\"Index: [29, 13]&#10;Color: (123, 234, 123)\" style=\"width: 10px; height: 10px;background-color: rgb(123, 234, 123);\"></td><td title=\"Index: [29, 14]&#10;Color: (123, 234, 123)\" style=\"width: 10px; height: 10px;background-color: rgb(123, 234, 123);\"></td><td title=\"Index: [29, 15]&#10;Color: (123, 234, 123)\" style=\"width: 10px; height: 10px;background-color: rgb(123, 234, 123);\"></td><td title=\"Index: [29, 16]&#10;Color: (123, 234, 123)\" style=\"width: 10px; height: 10px;background-color: rgb(123, 234, 123);\"></td><td title=\"Index: [29, 17]&#10;Color: (123, 234, 123)\" style=\"width: 10px; height: 10px;background-color: rgb(123, 234, 123);\"></td><td title=\"Index: [29, 18]&#10;Color: (123, 234, 123)\" style=\"width: 10px; height: 10px;background-color: rgb(123, 234, 123);\"></td><td title=\"Index: [29, 19]&#10;Color: (123, 234, 123)\" style=\"width: 10px; height: 10px;background-color: rgb(123, 234, 123);\"></td><td title=\"Index: [29, 20]&#10;Color: (123, 234, 123)\" style=\"width: 10px; height: 10px;background-color: rgb(123, 234, 123);\"></td><td title=\"Index: [29, 21]&#10;Color: (0, 0, 0)\" style=\"width: 10px; height: 10px;background-color: rgb(0, 0, 0);\"></td><td title=\"Index: [29, 22]&#10;Color: (123, 234, 123)\" style=\"width: 10px; height: 10px;background-color: rgb(123, 234, 123);\"></td><td title=\"Index: [29, 23]&#10;Color: (123, 234, 123)\" style=\"width: 10px; height: 10px;background-color: rgb(123, 234, 123);\"></td><td title=\"Index: [29, 24]&#10;Color: (123, 234, 123)\" style=\"width: 10px; height: 10px;background-color: rgb(123, 234, 123);\"></td><td title=\"Index: [29, 25]&#10;Color: (123, 234, 123)\" style=\"width: 10px; height: 10px;background-color: rgb(123, 234, 123);\"></td><td title=\"Index: [29, 26]&#10;Color: (123, 234, 123)\" style=\"width: 10px; height: 10px;background-color: rgb(123, 234, 123);\"></td><td title=\"Index: [29, 27]&#10;Color: (123, 234, 123)\" style=\"width: 10px; height: 10px;background-color: rgb(123, 234, 123);\"></td><td title=\"Index: [29, 28]&#10;Color: (123, 234, 123)\" style=\"width: 10px; height: 10px;background-color: rgb(123, 234, 123);\"></td><td title=\"Index: [29, 29]&#10;Color: (123, 234, 123)\" style=\"width: 10px; height: 10px;background-color: rgb(123, 234, 123);\"></td><td title=\"Index: [29, 30]&#10;Color: (123, 234, 123)\" style=\"width: 10px; height: 10px;background-color: rgb(123, 234, 123);\"></td><td title=\"Index: [29, 31]&#10;Color: (0, 0, 0)\" style=\"width: 10px; height: 10px;background-color: rgb(0, 0, 0);\"></td><td title=\"Index: [29, 32]&#10;Color: (123, 234, 123)\" style=\"width: 10px; height: 10px;background-color: rgb(123, 234, 123);\"></td><td title=\"Index: [29, 33]&#10;Color: (0, 0, 0)\" style=\"width: 10px; height: 10px;background-color: rgb(0, 0, 0);\"></td><td title=\"Index: [29, 34]&#10;Color: (123, 234, 123)\" style=\"width: 10px; height: 10px;background-color: rgb(123, 234, 123);\"></td><td title=\"Index: [29, 35]&#10;Color: (123, 234, 123)\" style=\"width: 10px; height: 10px;background-color: rgb(123, 234, 123);\"></td><td title=\"Index: [29, 36]&#10;Color: (123, 234, 123)\" style=\"width: 10px; height: 10px;background-color: rgb(123, 234, 123);\"></td><td title=\"Index: [29, 37]&#10;Color: (0, 0, 0)\" style=\"width: 10px; height: 10px;background-color: rgb(0, 0, 0);\"></td><td title=\"Index: [29, 38]&#10;Color: (123, 234, 123)\" style=\"width: 10px; height: 10px;background-color: rgb(123, 234, 123);\"></td><td title=\"Index: [29, 39]&#10;Color: (0, 0, 0)\" style=\"width: 10px; height: 10px;background-color: rgb(0, 0, 0);\"></td><td title=\"Index: [29, 40]&#10;Color: (123, 234, 123)\" style=\"width: 10px; height: 10px;background-color: rgb(123, 234, 123);\"></td><td title=\"Index: [29, 41]&#10;Color: (123, 234, 123)\" style=\"width: 10px; height: 10px;background-color: rgb(123, 234, 123);\"></td><td title=\"Index: [29, 42]&#10;Color: (123, 234, 123)\" style=\"width: 10px; height: 10px;background-color: rgb(123, 234, 123);\"></td><td title=\"Index: [29, 43]&#10;Color: (0, 0, 0)\" style=\"width: 10px; height: 10px;background-color: rgb(0, 0, 0);\"></td><td title=\"Index: [29, 44]&#10;Color: (123, 234, 123)\" style=\"width: 10px; height: 10px;background-color: rgb(123, 234, 123);\"></td><td title=\"Index: [29, 45]&#10;Color: (123, 234, 123)\" style=\"width: 10px; height: 10px;background-color: rgb(123, 234, 123);\"></td><td title=\"Index: [29, 46]&#10;Color: (123, 234, 123)\" style=\"width: 10px; height: 10px;background-color: rgb(123, 234, 123);\"></td><td title=\"Index: [29, 47]&#10;Color: (123, 234, 123)\" style=\"width: 10px; height: 10px;background-color: rgb(123, 234, 123);\"></td><td title=\"Index: [29, 48]&#10;Color: (123, 234, 123)\" style=\"width: 10px; height: 10px;background-color: rgb(123, 234, 123);\"></td><td title=\"Index: [29, 49]&#10;Color: (0, 0, 0)\" style=\"width: 10px; height: 10px;background-color: rgb(0, 0, 0);\"></td></tr><tr><td title=\"Index: [30, 0]&#10;Color: (123, 234, 123)\" style=\"width: 10px; height: 10px;background-color: rgb(123, 234, 123);\"></td><td title=\"Index: [30, 1]&#10;Color: (123, 234, 123)\" style=\"width: 10px; height: 10px;background-color: rgb(123, 234, 123);\"></td><td title=\"Index: [30, 2]&#10;Color: (123, 234, 123)\" style=\"width: 10px; height: 10px;background-color: rgb(123, 234, 123);\"></td><td title=\"Index: [30, 3]&#10;Color: (123, 234, 123)\" style=\"width: 10px; height: 10px;background-color: rgb(123, 234, 123);\"></td><td title=\"Index: [30, 4]&#10;Color: (123, 234, 123)\" style=\"width: 10px; height: 10px;background-color: rgb(123, 234, 123);\"></td><td title=\"Index: [30, 5]&#10;Color: (123, 234, 123)\" style=\"width: 10px; height: 10px;background-color: rgb(123, 234, 123);\"></td><td title=\"Index: [30, 6]&#10;Color: (123, 234, 123)\" style=\"width: 10px; height: 10px;background-color: rgb(123, 234, 123);\"></td><td title=\"Index: [30, 7]&#10;Color: (123, 234, 123)\" style=\"width: 10px; height: 10px;background-color: rgb(123, 234, 123);\"></td><td title=\"Index: [30, 8]&#10;Color: (123, 234, 123)\" style=\"width: 10px; height: 10px;background-color: rgb(123, 234, 123);\"></td><td title=\"Index: [30, 9]&#10;Color: (123, 234, 123)\" style=\"width: 10px; height: 10px;background-color: rgb(123, 234, 123);\"></td><td title=\"Index: [30, 10]&#10;Color: (123, 234, 123)\" style=\"width: 10px; height: 10px;background-color: rgb(123, 234, 123);\"></td><td title=\"Index: [30, 11]&#10;Color: (0, 0, 0)\" style=\"width: 10px; height: 10px;background-color: rgb(0, 0, 0);\"></td><td title=\"Index: [30, 12]&#10;Color: (123, 234, 123)\" style=\"width: 10px; height: 10px;background-color: rgb(123, 234, 123);\"></td><td title=\"Index: [30, 13]&#10;Color: (123, 234, 123)\" style=\"width: 10px; height: 10px;background-color: rgb(123, 234, 123);\"></td><td title=\"Index: [30, 14]&#10;Color: (123, 234, 123)\" style=\"width: 10px; height: 10px;background-color: rgb(123, 234, 123);\"></td><td title=\"Index: [30, 15]&#10;Color: (123, 234, 123)\" style=\"width: 10px; height: 10px;background-color: rgb(123, 234, 123);\"></td><td title=\"Index: [30, 16]&#10;Color: (123, 234, 123)\" style=\"width: 10px; height: 10px;background-color: rgb(123, 234, 123);\"></td><td title=\"Index: [30, 17]&#10;Color: (123, 234, 123)\" style=\"width: 10px; height: 10px;background-color: rgb(123, 234, 123);\"></td><td title=\"Index: [30, 18]&#10;Color: (123, 234, 123)\" style=\"width: 10px; height: 10px;background-color: rgb(123, 234, 123);\"></td><td title=\"Index: [30, 19]&#10;Color: (123, 234, 123)\" style=\"width: 10px; height: 10px;background-color: rgb(123, 234, 123);\"></td><td title=\"Index: [30, 20]&#10;Color: (123, 234, 123)\" style=\"width: 10px; height: 10px;background-color: rgb(123, 234, 123);\"></td><td title=\"Index: [30, 21]&#10;Color: (123, 234, 123)\" style=\"width: 10px; height: 10px;background-color: rgb(123, 234, 123);\"></td><td title=\"Index: [30, 22]&#10;Color: (123, 234, 123)\" style=\"width: 10px; height: 10px;background-color: rgb(123, 234, 123);\"></td><td title=\"Index: [30, 23]&#10;Color: (0, 0, 0)\" style=\"width: 10px; height: 10px;background-color: rgb(0, 0, 0);\"></td><td title=\"Index: [30, 24]&#10;Color: (123, 234, 123)\" style=\"width: 10px; height: 10px;background-color: rgb(123, 234, 123);\"></td><td title=\"Index: [30, 25]&#10;Color: (123, 234, 123)\" style=\"width: 10px; height: 10px;background-color: rgb(123, 234, 123);\"></td><td title=\"Index: [30, 26]&#10;Color: (123, 234, 123)\" style=\"width: 10px; height: 10px;background-color: rgb(123, 234, 123);\"></td><td title=\"Index: [30, 27]&#10;Color: (123, 234, 123)\" style=\"width: 10px; height: 10px;background-color: rgb(123, 234, 123);\"></td><td title=\"Index: [30, 28]&#10;Color: (123, 234, 123)\" style=\"width: 10px; height: 10px;background-color: rgb(123, 234, 123);\"></td><td title=\"Index: [30, 29]&#10;Color: (123, 234, 123)\" style=\"width: 10px; height: 10px;background-color: rgb(123, 234, 123);\"></td><td title=\"Index: [30, 30]&#10;Color: (123, 234, 123)\" style=\"width: 10px; height: 10px;background-color: rgb(123, 234, 123);\"></td><td title=\"Index: [30, 31]&#10;Color: (0, 0, 0)\" style=\"width: 10px; height: 10px;background-color: rgb(0, 0, 0);\"></td><td title=\"Index: [30, 32]&#10;Color: (123, 234, 123)\" style=\"width: 10px; height: 10px;background-color: rgb(123, 234, 123);\"></td><td title=\"Index: [30, 33]&#10;Color: (123, 234, 123)\" style=\"width: 10px; height: 10px;background-color: rgb(123, 234, 123);\"></td><td title=\"Index: [30, 34]&#10;Color: (123, 234, 123)\" style=\"width: 10px; height: 10px;background-color: rgb(123, 234, 123);\"></td><td title=\"Index: [30, 35]&#10;Color: (123, 234, 123)\" style=\"width: 10px; height: 10px;background-color: rgb(123, 234, 123);\"></td><td title=\"Index: [30, 36]&#10;Color: (123, 234, 123)\" style=\"width: 10px; height: 10px;background-color: rgb(123, 234, 123);\"></td><td title=\"Index: [30, 37]&#10;Color: (123, 234, 123)\" style=\"width: 10px; height: 10px;background-color: rgb(123, 234, 123);\"></td><td title=\"Index: [30, 38]&#10;Color: (123, 234, 123)\" style=\"width: 10px; height: 10px;background-color: rgb(123, 234, 123);\"></td><td title=\"Index: [30, 39]&#10;Color: (123, 234, 123)\" style=\"width: 10px; height: 10px;background-color: rgb(123, 234, 123);\"></td><td title=\"Index: [30, 40]&#10;Color: (123, 234, 123)\" style=\"width: 10px; height: 10px;background-color: rgb(123, 234, 123);\"></td><td title=\"Index: [30, 41]&#10;Color: (123, 234, 123)\" style=\"width: 10px; height: 10px;background-color: rgb(123, 234, 123);\"></td><td title=\"Index: [30, 42]&#10;Color: (123, 234, 123)\" style=\"width: 10px; height: 10px;background-color: rgb(123, 234, 123);\"></td><td title=\"Index: [30, 43]&#10;Color: (0, 0, 0)\" style=\"width: 10px; height: 10px;background-color: rgb(0, 0, 0);\"></td><td title=\"Index: [30, 44]&#10;Color: (123, 234, 123)\" style=\"width: 10px; height: 10px;background-color: rgb(123, 234, 123);\"></td><td title=\"Index: [30, 45]&#10;Color: (123, 234, 123)\" style=\"width: 10px; height: 10px;background-color: rgb(123, 234, 123);\"></td><td title=\"Index: [30, 46]&#10;Color: (123, 234, 123)\" style=\"width: 10px; height: 10px;background-color: rgb(123, 234, 123);\"></td><td title=\"Index: [30, 47]&#10;Color: (123, 234, 123)\" style=\"width: 10px; height: 10px;background-color: rgb(123, 234, 123);\"></td><td title=\"Index: [30, 48]&#10;Color: (123, 234, 123)\" style=\"width: 10px; height: 10px;background-color: rgb(123, 234, 123);\"></td><td title=\"Index: [30, 49]&#10;Color: (0, 0, 0)\" style=\"width: 10px; height: 10px;background-color: rgb(0, 0, 0);\"></td></tr><tr><td title=\"Index: [31, 0]&#10;Color: (123, 234, 123)\" style=\"width: 10px; height: 10px;background-color: rgb(123, 234, 123);\"></td><td title=\"Index: [31, 1]&#10;Color: (123, 234, 123)\" style=\"width: 10px; height: 10px;background-color: rgb(123, 234, 123);\"></td><td title=\"Index: [31, 2]&#10;Color: (123, 234, 123)\" style=\"width: 10px; height: 10px;background-color: rgb(123, 234, 123);\"></td><td title=\"Index: [31, 3]&#10;Color: (0, 0, 0)\" style=\"width: 10px; height: 10px;background-color: rgb(0, 0, 0);\"></td><td title=\"Index: [31, 4]&#10;Color: (123, 234, 123)\" style=\"width: 10px; height: 10px;background-color: rgb(123, 234, 123);\"></td><td title=\"Index: [31, 5]&#10;Color: (123, 234, 123)\" style=\"width: 10px; height: 10px;background-color: rgb(123, 234, 123);\"></td><td title=\"Index: [31, 6]&#10;Color: (123, 234, 123)\" style=\"width: 10px; height: 10px;background-color: rgb(123, 234, 123);\"></td><td title=\"Index: [31, 7]&#10;Color: (123, 234, 123)\" style=\"width: 10px; height: 10px;background-color: rgb(123, 234, 123);\"></td><td title=\"Index: [31, 8]&#10;Color: (123, 234, 123)\" style=\"width: 10px; height: 10px;background-color: rgb(123, 234, 123);\"></td><td title=\"Index: [31, 9]&#10;Color: (0, 0, 0)\" style=\"width: 10px; height: 10px;background-color: rgb(0, 0, 0);\"></td><td title=\"Index: [31, 10]&#10;Color: (123, 234, 123)\" style=\"width: 10px; height: 10px;background-color: rgb(123, 234, 123);\"></td><td title=\"Index: [31, 11]&#10;Color: (123, 234, 123)\" style=\"width: 10px; height: 10px;background-color: rgb(123, 234, 123);\"></td><td title=\"Index: [31, 12]&#10;Color: (123, 234, 123)\" style=\"width: 10px; height: 10px;background-color: rgb(123, 234, 123);\"></td><td title=\"Index: [31, 13]&#10;Color: (123, 234, 123)\" style=\"width: 10px; height: 10px;background-color: rgb(123, 234, 123);\"></td><td title=\"Index: [31, 14]&#10;Color: (123, 234, 123)\" style=\"width: 10px; height: 10px;background-color: rgb(123, 234, 123);\"></td><td title=\"Index: [31, 15]&#10;Color: (123, 234, 123)\" style=\"width: 10px; height: 10px;background-color: rgb(123, 234, 123);\"></td><td title=\"Index: [31, 16]&#10;Color: (123, 234, 123)\" style=\"width: 10px; height: 10px;background-color: rgb(123, 234, 123);\"></td><td title=\"Index: [31, 17]&#10;Color: (0, 0, 0)\" style=\"width: 10px; height: 10px;background-color: rgb(0, 0, 0);\"></td><td title=\"Index: [31, 18]&#10;Color: (123, 234, 123)\" style=\"width: 10px; height: 10px;background-color: rgb(123, 234, 123);\"></td><td title=\"Index: [31, 19]&#10;Color: (123, 234, 123)\" style=\"width: 10px; height: 10px;background-color: rgb(123, 234, 123);\"></td><td title=\"Index: [31, 20]&#10;Color: (123, 234, 123)\" style=\"width: 10px; height: 10px;background-color: rgb(123, 234, 123);\"></td><td title=\"Index: [31, 21]&#10;Color: (0, 0, 0)\" style=\"width: 10px; height: 10px;background-color: rgb(0, 0, 0);\"></td><td title=\"Index: [31, 22]&#10;Color: (123, 234, 123)\" style=\"width: 10px; height: 10px;background-color: rgb(123, 234, 123);\"></td><td title=\"Index: [31, 23]&#10;Color: (123, 234, 123)\" style=\"width: 10px; height: 10px;background-color: rgb(123, 234, 123);\"></td><td title=\"Index: [31, 24]&#10;Color: (123, 234, 123)\" style=\"width: 10px; height: 10px;background-color: rgb(123, 234, 123);\"></td><td title=\"Index: [31, 25]&#10;Color: (123, 234, 123)\" style=\"width: 10px; height: 10px;background-color: rgb(123, 234, 123);\"></td><td title=\"Index: [31, 26]&#10;Color: (123, 234, 123)\" style=\"width: 10px; height: 10px;background-color: rgb(123, 234, 123);\"></td><td title=\"Index: [31, 27]&#10;Color: (123, 234, 123)\" style=\"width: 10px; height: 10px;background-color: rgb(123, 234, 123);\"></td><td title=\"Index: [31, 28]&#10;Color: (123, 234, 123)\" style=\"width: 10px; height: 10px;background-color: rgb(123, 234, 123);\"></td><td title=\"Index: [31, 29]&#10;Color: (0, 0, 0)\" style=\"width: 10px; height: 10px;background-color: rgb(0, 0, 0);\"></td><td title=\"Index: [31, 30]&#10;Color: (123, 234, 123)\" style=\"width: 10px; height: 10px;background-color: rgb(123, 234, 123);\"></td><td title=\"Index: [31, 31]&#10;Color: (123, 234, 123)\" style=\"width: 10px; height: 10px;background-color: rgb(123, 234, 123);\"></td><td title=\"Index: [31, 32]&#10;Color: (123, 234, 123)\" style=\"width: 10px; height: 10px;background-color: rgb(123, 234, 123);\"></td><td title=\"Index: [31, 33]&#10;Color: (0, 0, 0)\" style=\"width: 10px; height: 10px;background-color: rgb(0, 0, 0);\"></td><td title=\"Index: [31, 34]&#10;Color: (123, 234, 123)\" style=\"width: 10px; height: 10px;background-color: rgb(123, 234, 123);\"></td><td title=\"Index: [31, 35]&#10;Color: (123, 234, 123)\" style=\"width: 10px; height: 10px;background-color: rgb(123, 234, 123);\"></td><td title=\"Index: [31, 36]&#10;Color: (123, 234, 123)\" style=\"width: 10px; height: 10px;background-color: rgb(123, 234, 123);\"></td><td title=\"Index: [31, 37]&#10;Color: (123, 234, 123)\" style=\"width: 10px; height: 10px;background-color: rgb(123, 234, 123);\"></td><td title=\"Index: [31, 38]&#10;Color: (123, 234, 123)\" style=\"width: 10px; height: 10px;background-color: rgb(123, 234, 123);\"></td><td title=\"Index: [31, 39]&#10;Color: (123, 234, 123)\" style=\"width: 10px; height: 10px;background-color: rgb(123, 234, 123);\"></td><td title=\"Index: [31, 40]&#10;Color: (123, 234, 123)\" style=\"width: 10px; height: 10px;background-color: rgb(123, 234, 123);\"></td><td title=\"Index: [31, 41]&#10;Color: (123, 234, 123)\" style=\"width: 10px; height: 10px;background-color: rgb(123, 234, 123);\"></td><td title=\"Index: [31, 42]&#10;Color: (123, 234, 123)\" style=\"width: 10px; height: 10px;background-color: rgb(123, 234, 123);\"></td><td title=\"Index: [31, 43]&#10;Color: (123, 234, 123)\" style=\"width: 10px; height: 10px;background-color: rgb(123, 234, 123);\"></td><td title=\"Index: [31, 44]&#10;Color: (123, 234, 123)\" style=\"width: 10px; height: 10px;background-color: rgb(123, 234, 123);\"></td><td title=\"Index: [31, 45]&#10;Color: (123, 234, 123)\" style=\"width: 10px; height: 10px;background-color: rgb(123, 234, 123);\"></td><td title=\"Index: [31, 46]&#10;Color: (123, 234, 123)\" style=\"width: 10px; height: 10px;background-color: rgb(123, 234, 123);\"></td><td title=\"Index: [31, 47]&#10;Color: (0, 0, 0)\" style=\"width: 10px; height: 10px;background-color: rgb(0, 0, 0);\"></td><td title=\"Index: [31, 48]&#10;Color: (123, 234, 123)\" style=\"width: 10px; height: 10px;background-color: rgb(123, 234, 123);\"></td><td title=\"Index: [31, 49]&#10;Color: (123, 234, 123)\" style=\"width: 10px; height: 10px;background-color: rgb(123, 234, 123);\"></td></tr><tr><td title=\"Index: [32, 0]&#10;Color: (123, 234, 123)\" style=\"width: 10px; height: 10px;background-color: rgb(123, 234, 123);\"></td><td title=\"Index: [32, 1]&#10;Color: (0, 0, 0)\" style=\"width: 10px; height: 10px;background-color: rgb(0, 0, 0);\"></td><td title=\"Index: [32, 2]&#10;Color: (123, 234, 123)\" style=\"width: 10px; height: 10px;background-color: rgb(123, 234, 123);\"></td><td title=\"Index: [32, 3]&#10;Color: (123, 234, 123)\" style=\"width: 10px; height: 10px;background-color: rgb(123, 234, 123);\"></td><td title=\"Index: [32, 4]&#10;Color: (123, 234, 123)\" style=\"width: 10px; height: 10px;background-color: rgb(123, 234, 123);\"></td><td title=\"Index: [32, 5]&#10;Color: (123, 234, 123)\" style=\"width: 10px; height: 10px;background-color: rgb(123, 234, 123);\"></td><td title=\"Index: [32, 6]&#10;Color: (123, 234, 123)\" style=\"width: 10px; height: 10px;background-color: rgb(123, 234, 123);\"></td><td title=\"Index: [32, 7]&#10;Color: (0, 0, 0)\" style=\"width: 10px; height: 10px;background-color: rgb(0, 0, 0);\"></td><td title=\"Index: [32, 8]&#10;Color: (123, 234, 123)\" style=\"width: 10px; height: 10px;background-color: rgb(123, 234, 123);\"></td><td title=\"Index: [32, 9]&#10;Color: (0, 0, 0)\" style=\"width: 10px; height: 10px;background-color: rgb(0, 0, 0);\"></td><td title=\"Index: [32, 10]&#10;Color: (123, 234, 123)\" style=\"width: 10px; height: 10px;background-color: rgb(123, 234, 123);\"></td><td title=\"Index: [32, 11]&#10;Color: (123, 234, 123)\" style=\"width: 10px; height: 10px;background-color: rgb(123, 234, 123);\"></td><td title=\"Index: [32, 12]&#10;Color: (123, 234, 123)\" style=\"width: 10px; height: 10px;background-color: rgb(123, 234, 123);\"></td><td title=\"Index: [32, 13]&#10;Color: (0, 0, 0)\" style=\"width: 10px; height: 10px;background-color: rgb(0, 0, 0);\"></td><td title=\"Index: [32, 14]&#10;Color: (123, 234, 123)\" style=\"width: 10px; height: 10px;background-color: rgb(123, 234, 123);\"></td><td title=\"Index: [32, 15]&#10;Color: (123, 234, 123)\" style=\"width: 10px; height: 10px;background-color: rgb(123, 234, 123);\"></td><td title=\"Index: [32, 16]&#10;Color: (123, 234, 123)\" style=\"width: 10px; height: 10px;background-color: rgb(123, 234, 123);\"></td><td title=\"Index: [32, 17]&#10;Color: (123, 234, 123)\" style=\"width: 10px; height: 10px;background-color: rgb(123, 234, 123);\"></td><td title=\"Index: [32, 18]&#10;Color: (123, 234, 123)\" style=\"width: 10px; height: 10px;background-color: rgb(123, 234, 123);\"></td><td title=\"Index: [32, 19]&#10;Color: (0, 0, 0)\" style=\"width: 10px; height: 10px;background-color: rgb(0, 0, 0);\"></td><td title=\"Index: [32, 20]&#10;Color: (123, 234, 123)\" style=\"width: 10px; height: 10px;background-color: rgb(123, 234, 123);\"></td><td title=\"Index: [32, 21]&#10;Color: (0, 0, 0)\" style=\"width: 10px; height: 10px;background-color: rgb(0, 0, 0);\"></td><td title=\"Index: [32, 22]&#10;Color: (123, 234, 123)\" style=\"width: 10px; height: 10px;background-color: rgb(123, 234, 123);\"></td><td title=\"Index: [32, 23]&#10;Color: (123, 234, 123)\" style=\"width: 10px; height: 10px;background-color: rgb(123, 234, 123);\"></td><td title=\"Index: [32, 24]&#10;Color: (123, 234, 123)\" style=\"width: 10px; height: 10px;background-color: rgb(123, 234, 123);\"></td><td title=\"Index: [32, 25]&#10;Color: (123, 234, 123)\" style=\"width: 10px; height: 10px;background-color: rgb(123, 234, 123);\"></td><td title=\"Index: [32, 26]&#10;Color: (123, 234, 123)\" style=\"width: 10px; height: 10px;background-color: rgb(123, 234, 123);\"></td><td title=\"Index: [32, 27]&#10;Color: (0, 0, 0)\" style=\"width: 10px; height: 10px;background-color: rgb(0, 0, 0);\"></td><td title=\"Index: [32, 28]&#10;Color: (123, 234, 123)\" style=\"width: 10px; height: 10px;background-color: rgb(123, 234, 123);\"></td><td title=\"Index: [32, 29]&#10;Color: (123, 234, 123)\" style=\"width: 10px; height: 10px;background-color: rgb(123, 234, 123);\"></td><td title=\"Index: [32, 30]&#10;Color: (123, 234, 123)\" style=\"width: 10px; height: 10px;background-color: rgb(123, 234, 123);\"></td><td title=\"Index: [32, 31]&#10;Color: (123, 234, 123)\" style=\"width: 10px; height: 10px;background-color: rgb(123, 234, 123);\"></td><td title=\"Index: [32, 32]&#10;Color: (123, 234, 123)\" style=\"width: 10px; height: 10px;background-color: rgb(123, 234, 123);\"></td><td title=\"Index: [32, 33]&#10;Color: (123, 234, 123)\" style=\"width: 10px; height: 10px;background-color: rgb(123, 234, 123);\"></td><td title=\"Index: [32, 34]&#10;Color: (123, 234, 123)\" style=\"width: 10px; height: 10px;background-color: rgb(123, 234, 123);\"></td><td title=\"Index: [32, 35]&#10;Color: (123, 234, 123)\" style=\"width: 10px; height: 10px;background-color: rgb(123, 234, 123);\"></td><td title=\"Index: [32, 36]&#10;Color: (123, 234, 123)\" style=\"width: 10px; height: 10px;background-color: rgb(123, 234, 123);\"></td><td title=\"Index: [32, 37]&#10;Color: (0, 0, 0)\" style=\"width: 10px; height: 10px;background-color: rgb(0, 0, 0);\"></td><td title=\"Index: [32, 38]&#10;Color: (123, 234, 123)\" style=\"width: 10px; height: 10px;background-color: rgb(123, 234, 123);\"></td><td title=\"Index: [32, 39]&#10;Color: (123, 234, 123)\" style=\"width: 10px; height: 10px;background-color: rgb(123, 234, 123);\"></td><td title=\"Index: [32, 40]&#10;Color: (123, 234, 123)\" style=\"width: 10px; height: 10px;background-color: rgb(123, 234, 123);\"></td><td title=\"Index: [32, 41]&#10;Color: (123, 234, 123)\" style=\"width: 10px; height: 10px;background-color: rgb(123, 234, 123);\"></td><td title=\"Index: [32, 42]&#10;Color: (123, 234, 123)\" style=\"width: 10px; height: 10px;background-color: rgb(123, 234, 123);\"></td><td title=\"Index: [32, 43]&#10;Color: (123, 234, 123)\" style=\"width: 10px; height: 10px;background-color: rgb(123, 234, 123);\"></td><td title=\"Index: [32, 44]&#10;Color: (123, 234, 123)\" style=\"width: 10px; height: 10px;background-color: rgb(123, 234, 123);\"></td><td title=\"Index: [32, 45]&#10;Color: (123, 234, 123)\" style=\"width: 10px; height: 10px;background-color: rgb(123, 234, 123);\"></td><td title=\"Index: [32, 46]&#10;Color: (123, 234, 123)\" style=\"width: 10px; height: 10px;background-color: rgb(123, 234, 123);\"></td><td title=\"Index: [32, 47]&#10;Color: (123, 234, 123)\" style=\"width: 10px; height: 10px;background-color: rgb(123, 234, 123);\"></td><td title=\"Index: [32, 48]&#10;Color: (123, 234, 123)\" style=\"width: 10px; height: 10px;background-color: rgb(123, 234, 123);\"></td><td title=\"Index: [32, 49]&#10;Color: (123, 234, 123)\" style=\"width: 10px; height: 10px;background-color: rgb(123, 234, 123);\"></td></tr><tr><td title=\"Index: [33, 0]&#10;Color: (123, 234, 123)\" style=\"width: 10px; height: 10px;background-color: rgb(123, 234, 123);\"></td><td title=\"Index: [33, 1]&#10;Color: (123, 234, 123)\" style=\"width: 10px; height: 10px;background-color: rgb(123, 234, 123);\"></td><td title=\"Index: [33, 2]&#10;Color: (123, 234, 123)\" style=\"width: 10px; height: 10px;background-color: rgb(123, 234, 123);\"></td><td title=\"Index: [33, 3]&#10;Color: (123, 234, 123)\" style=\"width: 10px; height: 10px;background-color: rgb(123, 234, 123);\"></td><td title=\"Index: [33, 4]&#10;Color: (123, 234, 123)\" style=\"width: 10px; height: 10px;background-color: rgb(123, 234, 123);\"></td><td title=\"Index: [33, 5]&#10;Color: (123, 234, 123)\" style=\"width: 10px; height: 10px;background-color: rgb(123, 234, 123);\"></td><td title=\"Index: [33, 6]&#10;Color: (123, 234, 123)\" style=\"width: 10px; height: 10px;background-color: rgb(123, 234, 123);\"></td><td title=\"Index: [33, 7]&#10;Color: (0, 0, 0)\" style=\"width: 10px; height: 10px;background-color: rgb(0, 0, 0);\"></td><td title=\"Index: [33, 8]&#10;Color: (123, 234, 123)\" style=\"width: 10px; height: 10px;background-color: rgb(123, 234, 123);\"></td><td title=\"Index: [33, 9]&#10;Color: (123, 234, 123)\" style=\"width: 10px; height: 10px;background-color: rgb(123, 234, 123);\"></td><td title=\"Index: [33, 10]&#10;Color: (123, 234, 123)\" style=\"width: 10px; height: 10px;background-color: rgb(123, 234, 123);\"></td><td title=\"Index: [33, 11]&#10;Color: (123, 234, 123)\" style=\"width: 10px; height: 10px;background-color: rgb(123, 234, 123);\"></td><td title=\"Index: [33, 12]&#10;Color: (123, 234, 123)\" style=\"width: 10px; height: 10px;background-color: rgb(123, 234, 123);\"></td><td title=\"Index: [33, 13]&#10;Color: (0, 0, 0)\" style=\"width: 10px; height: 10px;background-color: rgb(0, 0, 0);\"></td><td title=\"Index: [33, 14]&#10;Color: (123, 234, 123)\" style=\"width: 10px; height: 10px;background-color: rgb(123, 234, 123);\"></td><td title=\"Index: [33, 15]&#10;Color: (123, 234, 123)\" style=\"width: 10px; height: 10px;background-color: rgb(123, 234, 123);\"></td><td title=\"Index: [33, 16]&#10;Color: (123, 234, 123)\" style=\"width: 10px; height: 10px;background-color: rgb(123, 234, 123);\"></td><td title=\"Index: [33, 17]&#10;Color: (0, 0, 0)\" style=\"width: 10px; height: 10px;background-color: rgb(0, 0, 0);\"></td><td title=\"Index: [33, 18]&#10;Color: (123, 234, 123)\" style=\"width: 10px; height: 10px;background-color: rgb(123, 234, 123);\"></td><td title=\"Index: [33, 19]&#10;Color: (0, 0, 0)\" style=\"width: 10px; height: 10px;background-color: rgb(0, 0, 0);\"></td><td title=\"Index: [33, 20]&#10;Color: (123, 234, 123)\" style=\"width: 10px; height: 10px;background-color: rgb(123, 234, 123);\"></td><td title=\"Index: [33, 21]&#10;Color: (123, 234, 123)\" style=\"width: 10px; height: 10px;background-color: rgb(123, 234, 123);\"></td><td title=\"Index: [33, 22]&#10;Color: (123, 234, 123)\" style=\"width: 10px; height: 10px;background-color: rgb(123, 234, 123);\"></td><td title=\"Index: [33, 23]&#10;Color: (123, 234, 123)\" style=\"width: 10px; height: 10px;background-color: rgb(123, 234, 123);\"></td><td title=\"Index: [33, 24]&#10;Color: (123, 234, 123)\" style=\"width: 10px; height: 10px;background-color: rgb(123, 234, 123);\"></td><td title=\"Index: [33, 25]&#10;Color: (123, 234, 123)\" style=\"width: 10px; height: 10px;background-color: rgb(123, 234, 123);\"></td><td title=\"Index: [33, 26]&#10;Color: (123, 234, 123)\" style=\"width: 10px; height: 10px;background-color: rgb(123, 234, 123);\"></td><td title=\"Index: [33, 27]&#10;Color: (123, 234, 123)\" style=\"width: 10px; height: 10px;background-color: rgb(123, 234, 123);\"></td><td title=\"Index: [33, 28]&#10;Color: (123, 234, 123)\" style=\"width: 10px; height: 10px;background-color: rgb(123, 234, 123);\"></td><td title=\"Index: [33, 29]&#10;Color: (123, 234, 123)\" style=\"width: 10px; height: 10px;background-color: rgb(123, 234, 123);\"></td><td title=\"Index: [33, 30]&#10;Color: (123, 234, 123)\" style=\"width: 10px; height: 10px;background-color: rgb(123, 234, 123);\"></td><td title=\"Index: [33, 31]&#10;Color: (123, 234, 123)\" style=\"width: 10px; height: 10px;background-color: rgb(123, 234, 123);\"></td><td title=\"Index: [33, 32]&#10;Color: (123, 234, 123)\" style=\"width: 10px; height: 10px;background-color: rgb(123, 234, 123);\"></td><td title=\"Index: [33, 33]&#10;Color: (123, 234, 123)\" style=\"width: 10px; height: 10px;background-color: rgb(123, 234, 123);\"></td><td title=\"Index: [33, 34]&#10;Color: (123, 234, 123)\" style=\"width: 10px; height: 10px;background-color: rgb(123, 234, 123);\"></td><td title=\"Index: [33, 35]&#10;Color: (123, 234, 123)\" style=\"width: 10px; height: 10px;background-color: rgb(123, 234, 123);\"></td><td title=\"Index: [33, 36]&#10;Color: (123, 234, 123)\" style=\"width: 10px; height: 10px;background-color: rgb(123, 234, 123);\"></td><td title=\"Index: [33, 37]&#10;Color: (123, 234, 123)\" style=\"width: 10px; height: 10px;background-color: rgb(123, 234, 123);\"></td><td title=\"Index: [33, 38]&#10;Color: (123, 234, 123)\" style=\"width: 10px; height: 10px;background-color: rgb(123, 234, 123);\"></td><td title=\"Index: [33, 39]&#10;Color: (123, 234, 123)\" style=\"width: 10px; height: 10px;background-color: rgb(123, 234, 123);\"></td><td title=\"Index: [33, 40]&#10;Color: (123, 234, 123)\" style=\"width: 10px; height: 10px;background-color: rgb(123, 234, 123);\"></td><td title=\"Index: [33, 41]&#10;Color: (123, 234, 123)\" style=\"width: 10px; height: 10px;background-color: rgb(123, 234, 123);\"></td><td title=\"Index: [33, 42]&#10;Color: (123, 234, 123)\" style=\"width: 10px; height: 10px;background-color: rgb(123, 234, 123);\"></td><td title=\"Index: [33, 43]&#10;Color: (0, 0, 0)\" style=\"width: 10px; height: 10px;background-color: rgb(0, 0, 0);\"></td><td title=\"Index: [33, 44]&#10;Color: (123, 234, 123)\" style=\"width: 10px; height: 10px;background-color: rgb(123, 234, 123);\"></td><td title=\"Index: [33, 45]&#10;Color: (123, 234, 123)\" style=\"width: 10px; height: 10px;background-color: rgb(123, 234, 123);\"></td><td title=\"Index: [33, 46]&#10;Color: (123, 234, 123)\" style=\"width: 10px; height: 10px;background-color: rgb(123, 234, 123);\"></td><td title=\"Index: [33, 47]&#10;Color: (0, 0, 0)\" style=\"width: 10px; height: 10px;background-color: rgb(0, 0, 0);\"></td><td title=\"Index: [33, 48]&#10;Color: (123, 234, 123)\" style=\"width: 10px; height: 10px;background-color: rgb(123, 234, 123);\"></td><td title=\"Index: [33, 49]&#10;Color: (0, 0, 0)\" style=\"width: 10px; height: 10px;background-color: rgb(0, 0, 0);\"></td></tr><tr><td title=\"Index: [34, 0]&#10;Color: (123, 234, 123)\" style=\"width: 10px; height: 10px;background-color: rgb(123, 234, 123);\"></td><td title=\"Index: [34, 1]&#10;Color: (123, 234, 123)\" style=\"width: 10px; height: 10px;background-color: rgb(123, 234, 123);\"></td><td title=\"Index: [34, 2]&#10;Color: (123, 234, 123)\" style=\"width: 10px; height: 10px;background-color: rgb(123, 234, 123);\"></td><td title=\"Index: [34, 3]&#10;Color: (123, 234, 123)\" style=\"width: 10px; height: 10px;background-color: rgb(123, 234, 123);\"></td><td title=\"Index: [34, 4]&#10;Color: (123, 234, 123)\" style=\"width: 10px; height: 10px;background-color: rgb(123, 234, 123);\"></td><td title=\"Index: [34, 5]&#10;Color: (123, 234, 123)\" style=\"width: 10px; height: 10px;background-color: rgb(123, 234, 123);\"></td><td title=\"Index: [34, 6]&#10;Color: (123, 234, 123)\" style=\"width: 10px; height: 10px;background-color: rgb(123, 234, 123);\"></td><td title=\"Index: [34, 7]&#10;Color: (123, 234, 123)\" style=\"width: 10px; height: 10px;background-color: rgb(123, 234, 123);\"></td><td title=\"Index: [34, 8]&#10;Color: (123, 234, 123)\" style=\"width: 10px; height: 10px;background-color: rgb(123, 234, 123);\"></td><td title=\"Index: [34, 9]&#10;Color: (0, 0, 0)\" style=\"width: 10px; height: 10px;background-color: rgb(0, 0, 0);\"></td><td title=\"Index: [34, 10]&#10;Color: (123, 234, 123)\" style=\"width: 10px; height: 10px;background-color: rgb(123, 234, 123);\"></td><td title=\"Index: [34, 11]&#10;Color: (123, 234, 123)\" style=\"width: 10px; height: 10px;background-color: rgb(123, 234, 123);\"></td><td title=\"Index: [34, 12]&#10;Color: (123, 234, 123)\" style=\"width: 10px; height: 10px;background-color: rgb(123, 234, 123);\"></td><td title=\"Index: [34, 13]&#10;Color: (123, 234, 123)\" style=\"width: 10px; height: 10px;background-color: rgb(123, 234, 123);\"></td><td title=\"Index: [34, 14]&#10;Color: (123, 234, 123)\" style=\"width: 10px; height: 10px;background-color: rgb(123, 234, 123);\"></td><td title=\"Index: [34, 15]&#10;Color: (123, 234, 123)\" style=\"width: 10px; height: 10px;background-color: rgb(123, 234, 123);\"></td><td title=\"Index: [34, 16]&#10;Color: (123, 234, 123)\" style=\"width: 10px; height: 10px;background-color: rgb(123, 234, 123);\"></td><td title=\"Index: [34, 17]&#10;Color: (123, 234, 123)\" style=\"width: 10px; height: 10px;background-color: rgb(123, 234, 123);\"></td><td title=\"Index: [34, 18]&#10;Color: (123, 234, 123)\" style=\"width: 10px; height: 10px;background-color: rgb(123, 234, 123);\"></td><td title=\"Index: [34, 19]&#10;Color: (123, 234, 123)\" style=\"width: 10px; height: 10px;background-color: rgb(123, 234, 123);\"></td><td title=\"Index: [34, 20]&#10;Color: (123, 234, 123)\" style=\"width: 10px; height: 10px;background-color: rgb(123, 234, 123);\"></td><td title=\"Index: [34, 21]&#10;Color: (0, 0, 0)\" style=\"width: 10px; height: 10px;background-color: rgb(0, 0, 0);\"></td><td title=\"Index: [34, 22]&#10;Color: (123, 234, 123)\" style=\"width: 10px; height: 10px;background-color: rgb(123, 234, 123);\"></td><td title=\"Index: [34, 23]&#10;Color: (0, 0, 0)\" style=\"width: 10px; height: 10px;background-color: rgb(0, 0, 0);\"></td><td title=\"Index: [34, 24]&#10;Color: (123, 234, 123)\" style=\"width: 10px; height: 10px;background-color: rgb(123, 234, 123);\"></td><td title=\"Index: [34, 25]&#10;Color: (123, 234, 123)\" style=\"width: 10px; height: 10px;background-color: rgb(123, 234, 123);\"></td><td title=\"Index: [34, 26]&#10;Color: (123, 234, 123)\" style=\"width: 10px; height: 10px;background-color: rgb(123, 234, 123);\"></td><td title=\"Index: [34, 27]&#10;Color: (123, 234, 123)\" style=\"width: 10px; height: 10px;background-color: rgb(123, 234, 123);\"></td><td title=\"Index: [34, 28]&#10;Color: (123, 234, 123)\" style=\"width: 10px; height: 10px;background-color: rgb(123, 234, 123);\"></td><td title=\"Index: [34, 29]&#10;Color: (123, 234, 123)\" style=\"width: 10px; height: 10px;background-color: rgb(123, 234, 123);\"></td><td title=\"Index: [34, 30]&#10;Color: (123, 234, 123)\" style=\"width: 10px; height: 10px;background-color: rgb(123, 234, 123);\"></td><td title=\"Index: [34, 31]&#10;Color: (123, 234, 123)\" style=\"width: 10px; height: 10px;background-color: rgb(123, 234, 123);\"></td><td title=\"Index: [34, 32]&#10;Color: (123, 234, 123)\" style=\"width: 10px; height: 10px;background-color: rgb(123, 234, 123);\"></td><td title=\"Index: [34, 33]&#10;Color: (0, 0, 0)\" style=\"width: 10px; height: 10px;background-color: rgb(0, 0, 0);\"></td><td title=\"Index: [34, 34]&#10;Color: (123, 234, 123)\" style=\"width: 10px; height: 10px;background-color: rgb(123, 234, 123);\"></td><td title=\"Index: [34, 35]&#10;Color: (123, 234, 123)\" style=\"width: 10px; height: 10px;background-color: rgb(123, 234, 123);\"></td><td title=\"Index: [34, 36]&#10;Color: (123, 234, 123)\" style=\"width: 10px; height: 10px;background-color: rgb(123, 234, 123);\"></td><td title=\"Index: [34, 37]&#10;Color: (123, 234, 123)\" style=\"width: 10px; height: 10px;background-color: rgb(123, 234, 123);\"></td><td title=\"Index: [34, 38]&#10;Color: (123, 234, 123)\" style=\"width: 10px; height: 10px;background-color: rgb(123, 234, 123);\"></td><td title=\"Index: [34, 39]&#10;Color: (123, 234, 123)\" style=\"width: 10px; height: 10px;background-color: rgb(123, 234, 123);\"></td><td title=\"Index: [34, 40]&#10;Color: (123, 234, 123)\" style=\"width: 10px; height: 10px;background-color: rgb(123, 234, 123);\"></td><td title=\"Index: [34, 41]&#10;Color: (0, 0, 0)\" style=\"width: 10px; height: 10px;background-color: rgb(0, 0, 0);\"></td><td title=\"Index: [34, 42]&#10;Color: (123, 234, 123)\" style=\"width: 10px; height: 10px;background-color: rgb(123, 234, 123);\"></td><td title=\"Index: [34, 43]&#10;Color: (123, 234, 123)\" style=\"width: 10px; height: 10px;background-color: rgb(123, 234, 123);\"></td><td title=\"Index: [34, 44]&#10;Color: (123, 234, 123)\" style=\"width: 10px; height: 10px;background-color: rgb(123, 234, 123);\"></td><td title=\"Index: [34, 45]&#10;Color: (123, 234, 123)\" style=\"width: 10px; height: 10px;background-color: rgb(123, 234, 123);\"></td><td title=\"Index: [34, 46]&#10;Color: (123, 234, 123)\" style=\"width: 10px; height: 10px;background-color: rgb(123, 234, 123);\"></td><td title=\"Index: [34, 47]&#10;Color: (0, 0, 0)\" style=\"width: 10px; height: 10px;background-color: rgb(0, 0, 0);\"></td><td title=\"Index: [34, 48]&#10;Color: (123, 234, 123)\" style=\"width: 10px; height: 10px;background-color: rgb(123, 234, 123);\"></td><td title=\"Index: [34, 49]&#10;Color: (123, 234, 123)\" style=\"width: 10px; height: 10px;background-color: rgb(123, 234, 123);\"></td></tr><tr><td title=\"Index: [35, 0]&#10;Color: (123, 234, 123)\" style=\"width: 10px; height: 10px;background-color: rgb(123, 234, 123);\"></td><td title=\"Index: [35, 1]&#10;Color: (123, 234, 123)\" style=\"width: 10px; height: 10px;background-color: rgb(123, 234, 123);\"></td><td title=\"Index: [35, 2]&#10;Color: (123, 234, 123)\" style=\"width: 10px; height: 10px;background-color: rgb(123, 234, 123);\"></td><td title=\"Index: [35, 3]&#10;Color: (0, 0, 0)\" style=\"width: 10px; height: 10px;background-color: rgb(0, 0, 0);\"></td><td title=\"Index: [35, 4]&#10;Color: (123, 234, 123)\" style=\"width: 10px; height: 10px;background-color: rgb(123, 234, 123);\"></td><td title=\"Index: [35, 5]&#10;Color: (123, 234, 123)\" style=\"width: 10px; height: 10px;background-color: rgb(123, 234, 123);\"></td><td title=\"Index: [35, 6]&#10;Color: (123, 234, 123)\" style=\"width: 10px; height: 10px;background-color: rgb(123, 234, 123);\"></td><td title=\"Index: [35, 7]&#10;Color: (123, 234, 123)\" style=\"width: 10px; height: 10px;background-color: rgb(123, 234, 123);\"></td><td title=\"Index: [35, 8]&#10;Color: (123, 234, 123)\" style=\"width: 10px; height: 10px;background-color: rgb(123, 234, 123);\"></td><td title=\"Index: [35, 9]&#10;Color: (0, 0, 0)\" style=\"width: 10px; height: 10px;background-color: rgb(0, 0, 0);\"></td><td title=\"Index: [35, 10]&#10;Color: (123, 234, 123)\" style=\"width: 10px; height: 10px;background-color: rgb(123, 234, 123);\"></td><td title=\"Index: [35, 11]&#10;Color: (123, 234, 123)\" style=\"width: 10px; height: 10px;background-color: rgb(123, 234, 123);\"></td><td title=\"Index: [35, 12]&#10;Color: (123, 234, 123)\" style=\"width: 10px; height: 10px;background-color: rgb(123, 234, 123);\"></td><td title=\"Index: [35, 13]&#10;Color: (123, 234, 123)\" style=\"width: 10px; height: 10px;background-color: rgb(123, 234, 123);\"></td><td title=\"Index: [35, 14]&#10;Color: (123, 234, 123)\" style=\"width: 10px; height: 10px;background-color: rgb(123, 234, 123);\"></td><td title=\"Index: [35, 15]&#10;Color: (123, 234, 123)\" style=\"width: 10px; height: 10px;background-color: rgb(123, 234, 123);\"></td><td title=\"Index: [35, 16]&#10;Color: (123, 234, 123)\" style=\"width: 10px; height: 10px;background-color: rgb(123, 234, 123);\"></td><td title=\"Index: [35, 17]&#10;Color: (123, 234, 123)\" style=\"width: 10px; height: 10px;background-color: rgb(123, 234, 123);\"></td><td title=\"Index: [35, 18]&#10;Color: (123, 234, 123)\" style=\"width: 10px; height: 10px;background-color: rgb(123, 234, 123);\"></td><td title=\"Index: [35, 19]&#10;Color: (123, 234, 123)\" style=\"width: 10px; height: 10px;background-color: rgb(123, 234, 123);\"></td><td title=\"Index: [35, 20]&#10;Color: (123, 234, 123)\" style=\"width: 10px; height: 10px;background-color: rgb(123, 234, 123);\"></td><td title=\"Index: [35, 21]&#10;Color: (123, 234, 123)\" style=\"width: 10px; height: 10px;background-color: rgb(123, 234, 123);\"></td><td title=\"Index: [35, 22]&#10;Color: (123, 234, 123)\" style=\"width: 10px; height: 10px;background-color: rgb(123, 234, 123);\"></td><td title=\"Index: [35, 23]&#10;Color: (123, 234, 123)\" style=\"width: 10px; height: 10px;background-color: rgb(123, 234, 123);\"></td><td title=\"Index: [35, 24]&#10;Color: (123, 234, 123)\" style=\"width: 10px; height: 10px;background-color: rgb(123, 234, 123);\"></td><td title=\"Index: [35, 25]&#10;Color: (123, 234, 123)\" style=\"width: 10px; height: 10px;background-color: rgb(123, 234, 123);\"></td><td title=\"Index: [35, 26]&#10;Color: (123, 234, 123)\" style=\"width: 10px; height: 10px;background-color: rgb(123, 234, 123);\"></td><td title=\"Index: [35, 27]&#10;Color: (0, 0, 0)\" style=\"width: 10px; height: 10px;background-color: rgb(0, 0, 0);\"></td><td title=\"Index: [35, 28]&#10;Color: (123, 234, 123)\" style=\"width: 10px; height: 10px;background-color: rgb(123, 234, 123);\"></td><td title=\"Index: [35, 29]&#10;Color: (123, 234, 123)\" style=\"width: 10px; height: 10px;background-color: rgb(123, 234, 123);\"></td><td title=\"Index: [35, 30]&#10;Color: (123, 234, 123)\" style=\"width: 10px; height: 10px;background-color: rgb(123, 234, 123);\"></td><td title=\"Index: [35, 31]&#10;Color: (123, 234, 123)\" style=\"width: 10px; height: 10px;background-color: rgb(123, 234, 123);\"></td><td title=\"Index: [35, 32]&#10;Color: (123, 234, 123)\" style=\"width: 10px; height: 10px;background-color: rgb(123, 234, 123);\"></td><td title=\"Index: [35, 33]&#10;Color: (0, 0, 0)\" style=\"width: 10px; height: 10px;background-color: rgb(0, 0, 0);\"></td><td title=\"Index: [35, 34]&#10;Color: (123, 234, 123)\" style=\"width: 10px; height: 10px;background-color: rgb(123, 234, 123);\"></td><td title=\"Index: [35, 35]&#10;Color: (123, 234, 123)\" style=\"width: 10px; height: 10px;background-color: rgb(123, 234, 123);\"></td><td title=\"Index: [35, 36]&#10;Color: (123, 234, 123)\" style=\"width: 10px; height: 10px;background-color: rgb(123, 234, 123);\"></td><td title=\"Index: [35, 37]&#10;Color: (0, 0, 0)\" style=\"width: 10px; height: 10px;background-color: rgb(0, 0, 0);\"></td><td title=\"Index: [35, 38]&#10;Color: (123, 234, 123)\" style=\"width: 10px; height: 10px;background-color: rgb(123, 234, 123);\"></td><td title=\"Index: [35, 39]&#10;Color: (0, 0, 0)\" style=\"width: 10px; height: 10px;background-color: rgb(0, 0, 0);\"></td><td title=\"Index: [35, 40]&#10;Color: (123, 234, 123)\" style=\"width: 10px; height: 10px;background-color: rgb(123, 234, 123);\"></td><td title=\"Index: [35, 41]&#10;Color: (123, 234, 123)\" style=\"width: 10px; height: 10px;background-color: rgb(123, 234, 123);\"></td><td title=\"Index: [35, 42]&#10;Color: (123, 234, 123)\" style=\"width: 10px; height: 10px;background-color: rgb(123, 234, 123);\"></td><td title=\"Index: [35, 43]&#10;Color: (123, 234, 123)\" style=\"width: 10px; height: 10px;background-color: rgb(123, 234, 123);\"></td><td title=\"Index: [35, 44]&#10;Color: (123, 234, 123)\" style=\"width: 10px; height: 10px;background-color: rgb(123, 234, 123);\"></td><td title=\"Index: [35, 45]&#10;Color: (123, 234, 123)\" style=\"width: 10px; height: 10px;background-color: rgb(123, 234, 123);\"></td><td title=\"Index: [35, 46]&#10;Color: (123, 234, 123)\" style=\"width: 10px; height: 10px;background-color: rgb(123, 234, 123);\"></td><td title=\"Index: [35, 47]&#10;Color: (123, 234, 123)\" style=\"width: 10px; height: 10px;background-color: rgb(123, 234, 123);\"></td><td title=\"Index: [35, 48]&#10;Color: (123, 234, 123)\" style=\"width: 10px; height: 10px;background-color: rgb(123, 234, 123);\"></td><td title=\"Index: [35, 49]&#10;Color: (123, 234, 123)\" style=\"width: 10px; height: 10px;background-color: rgb(123, 234, 123);\"></td></tr><tr><td title=\"Index: [36, 0]&#10;Color: (123, 234, 123)\" style=\"width: 10px; height: 10px;background-color: rgb(123, 234, 123);\"></td><td title=\"Index: [36, 1]&#10;Color: (0, 0, 0)\" style=\"width: 10px; height: 10px;background-color: rgb(0, 0, 0);\"></td><td title=\"Index: [36, 2]&#10;Color: (123, 234, 123)\" style=\"width: 10px; height: 10px;background-color: rgb(123, 234, 123);\"></td><td title=\"Index: [36, 3]&#10;Color: (123, 234, 123)\" style=\"width: 10px; height: 10px;background-color: rgb(123, 234, 123);\"></td><td title=\"Index: [36, 4]&#10;Color: (123, 234, 123)\" style=\"width: 10px; height: 10px;background-color: rgb(123, 234, 123);\"></td><td title=\"Index: [36, 5]&#10;Color: (123, 234, 123)\" style=\"width: 10px; height: 10px;background-color: rgb(123, 234, 123);\"></td><td title=\"Index: [36, 6]&#10;Color: (123, 234, 123)\" style=\"width: 10px; height: 10px;background-color: rgb(123, 234, 123);\"></td><td title=\"Index: [36, 7]&#10;Color: (123, 234, 123)\" style=\"width: 10px; height: 10px;background-color: rgb(123, 234, 123);\"></td><td title=\"Index: [36, 8]&#10;Color: (123, 234, 123)\" style=\"width: 10px; height: 10px;background-color: rgb(123, 234, 123);\"></td><td title=\"Index: [36, 9]&#10;Color: (123, 234, 123)\" style=\"width: 10px; height: 10px;background-color: rgb(123, 234, 123);\"></td><td title=\"Index: [36, 10]&#10;Color: (123, 234, 123)\" style=\"width: 10px; height: 10px;background-color: rgb(123, 234, 123);\"></td><td title=\"Index: [36, 11]&#10;Color: (0, 0, 0)\" style=\"width: 10px; height: 10px;background-color: rgb(0, 0, 0);\"></td><td title=\"Index: [36, 12]&#10;Color: (123, 234, 123)\" style=\"width: 10px; height: 10px;background-color: rgb(123, 234, 123);\"></td><td title=\"Index: [36, 13]&#10;Color: (123, 234, 123)\" style=\"width: 10px; height: 10px;background-color: rgb(123, 234, 123);\"></td><td title=\"Index: [36, 14]&#10;Color: (123, 234, 123)\" style=\"width: 10px; height: 10px;background-color: rgb(123, 234, 123);\"></td><td title=\"Index: [36, 15]&#10;Color: (123, 234, 123)\" style=\"width: 10px; height: 10px;background-color: rgb(123, 234, 123);\"></td><td title=\"Index: [36, 16]&#10;Color: (123, 234, 123)\" style=\"width: 10px; height: 10px;background-color: rgb(123, 234, 123);\"></td><td title=\"Index: [36, 17]&#10;Color: (123, 234, 123)\" style=\"width: 10px; height: 10px;background-color: rgb(123, 234, 123);\"></td><td title=\"Index: [36, 18]&#10;Color: (123, 234, 123)\" style=\"width: 10px; height: 10px;background-color: rgb(123, 234, 123);\"></td><td title=\"Index: [36, 19]&#10;Color: (123, 234, 123)\" style=\"width: 10px; height: 10px;background-color: rgb(123, 234, 123);\"></td><td title=\"Index: [36, 20]&#10;Color: (123, 234, 123)\" style=\"width: 10px; height: 10px;background-color: rgb(123, 234, 123);\"></td><td title=\"Index: [36, 21]&#10;Color: (123, 234, 123)\" style=\"width: 10px; height: 10px;background-color: rgb(123, 234, 123);\"></td><td title=\"Index: [36, 22]&#10;Color: (123, 234, 123)\" style=\"width: 10px; height: 10px;background-color: rgb(123, 234, 123);\"></td><td title=\"Index: [36, 23]&#10;Color: (0, 0, 0)\" style=\"width: 10px; height: 10px;background-color: rgb(0, 0, 0);\"></td><td title=\"Index: [36, 24]&#10;Color: (123, 234, 123)\" style=\"width: 10px; height: 10px;background-color: rgb(123, 234, 123);\"></td><td title=\"Index: [36, 25]&#10;Color: (123, 234, 123)\" style=\"width: 10px; height: 10px;background-color: rgb(123, 234, 123);\"></td><td title=\"Index: [36, 26]&#10;Color: (123, 234, 123)\" style=\"width: 10px; height: 10px;background-color: rgb(123, 234, 123);\"></td><td title=\"Index: [36, 27]&#10;Color: (123, 234, 123)\" style=\"width: 10px; height: 10px;background-color: rgb(123, 234, 123);\"></td><td title=\"Index: [36, 28]&#10;Color: (123, 234, 123)\" style=\"width: 10px; height: 10px;background-color: rgb(123, 234, 123);\"></td><td title=\"Index: [36, 29]&#10;Color: (123, 234, 123)\" style=\"width: 10px; height: 10px;background-color: rgb(123, 234, 123);\"></td><td title=\"Index: [36, 30]&#10;Color: (123, 234, 123)\" style=\"width: 10px; height: 10px;background-color: rgb(123, 234, 123);\"></td><td title=\"Index: [36, 31]&#10;Color: (0, 0, 0)\" style=\"width: 10px; height: 10px;background-color: rgb(0, 0, 0);\"></td><td title=\"Index: [36, 32]&#10;Color: (123, 234, 123)\" style=\"width: 10px; height: 10px;background-color: rgb(123, 234, 123);\"></td><td title=\"Index: [36, 33]&#10;Color: (123, 234, 123)\" style=\"width: 10px; height: 10px;background-color: rgb(123, 234, 123);\"></td><td title=\"Index: [36, 34]&#10;Color: (123, 234, 123)\" style=\"width: 10px; height: 10px;background-color: rgb(123, 234, 123);\"></td><td title=\"Index: [36, 35]&#10;Color: (123, 234, 123)\" style=\"width: 10px; height: 10px;background-color: rgb(123, 234, 123);\"></td><td title=\"Index: [36, 36]&#10;Color: (123, 234, 123)\" style=\"width: 10px; height: 10px;background-color: rgb(123, 234, 123);\"></td><td title=\"Index: [36, 37]&#10;Color: (123, 234, 123)\" style=\"width: 10px; height: 10px;background-color: rgb(123, 234, 123);\"></td><td title=\"Index: [36, 38]&#10;Color: (123, 234, 123)\" style=\"width: 10px; height: 10px;background-color: rgb(123, 234, 123);\"></td><td title=\"Index: [36, 39]&#10;Color: (123, 234, 123)\" style=\"width: 10px; height: 10px;background-color: rgb(123, 234, 123);\"></td><td title=\"Index: [36, 40]&#10;Color: (123, 234, 123)\" style=\"width: 10px; height: 10px;background-color: rgb(123, 234, 123);\"></td><td title=\"Index: [36, 41]&#10;Color: (123, 234, 123)\" style=\"width: 10px; height: 10px;background-color: rgb(123, 234, 123);\"></td><td title=\"Index: [36, 42]&#10;Color: (123, 234, 123)\" style=\"width: 10px; height: 10px;background-color: rgb(123, 234, 123);\"></td><td title=\"Index: [36, 43]&#10;Color: (123, 234, 123)\" style=\"width: 10px; height: 10px;background-color: rgb(123, 234, 123);\"></td><td title=\"Index: [36, 44]&#10;Color: (123, 234, 123)\" style=\"width: 10px; height: 10px;background-color: rgb(123, 234, 123);\"></td><td title=\"Index: [36, 45]&#10;Color: (123, 234, 123)\" style=\"width: 10px; height: 10px;background-color: rgb(123, 234, 123);\"></td><td title=\"Index: [36, 46]&#10;Color: (123, 234, 123)\" style=\"width: 10px; height: 10px;background-color: rgb(123, 234, 123);\"></td><td title=\"Index: [36, 47]&#10;Color: (0, 0, 0)\" style=\"width: 10px; height: 10px;background-color: rgb(0, 0, 0);\"></td><td title=\"Index: [36, 48]&#10;Color: (123, 234, 123)\" style=\"width: 10px; height: 10px;background-color: rgb(123, 234, 123);\"></td><td title=\"Index: [36, 49]&#10;Color: (123, 234, 123)\" style=\"width: 10px; height: 10px;background-color: rgb(123, 234, 123);\"></td></tr><tr><td title=\"Index: [37, 0]&#10;Color: (123, 234, 123)\" style=\"width: 10px; height: 10px;background-color: rgb(123, 234, 123);\"></td><td title=\"Index: [37, 1]&#10;Color: (123, 234, 123)\" style=\"width: 10px; height: 10px;background-color: rgb(123, 234, 123);\"></td><td title=\"Index: [37, 2]&#10;Color: (123, 234, 123)\" style=\"width: 10px; height: 10px;background-color: rgb(123, 234, 123);\"></td><td title=\"Index: [37, 3]&#10;Color: (123, 234, 123)\" style=\"width: 10px; height: 10px;background-color: rgb(123, 234, 123);\"></td><td title=\"Index: [37, 4]&#10;Color: (123, 234, 123)\" style=\"width: 10px; height: 10px;background-color: rgb(123, 234, 123);\"></td><td title=\"Index: [37, 5]&#10;Color: (123, 234, 123)\" style=\"width: 10px; height: 10px;background-color: rgb(123, 234, 123);\"></td><td title=\"Index: [37, 6]&#10;Color: (123, 234, 123)\" style=\"width: 10px; height: 10px;background-color: rgb(123, 234, 123);\"></td><td title=\"Index: [37, 7]&#10;Color: (123, 234, 123)\" style=\"width: 10px; height: 10px;background-color: rgb(123, 234, 123);\"></td><td title=\"Index: [37, 8]&#10;Color: (123, 234, 123)\" style=\"width: 10px; height: 10px;background-color: rgb(123, 234, 123);\"></td><td title=\"Index: [37, 9]&#10;Color: (123, 234, 123)\" style=\"width: 10px; height: 10px;background-color: rgb(123, 234, 123);\"></td><td title=\"Index: [37, 10]&#10;Color: (123, 234, 123)\" style=\"width: 10px; height: 10px;background-color: rgb(123, 234, 123);\"></td><td title=\"Index: [37, 11]&#10;Color: (0, 0, 0)\" style=\"width: 10px; height: 10px;background-color: rgb(0, 0, 0);\"></td><td title=\"Index: [37, 12]&#10;Color: (123, 234, 123)\" style=\"width: 10px; height: 10px;background-color: rgb(123, 234, 123);\"></td><td title=\"Index: [37, 13]&#10;Color: (123, 234, 123)\" style=\"width: 10px; height: 10px;background-color: rgb(123, 234, 123);\"></td><td title=\"Index: [37, 14]&#10;Color: (123, 234, 123)\" style=\"width: 10px; height: 10px;background-color: rgb(123, 234, 123);\"></td><td title=\"Index: [37, 15]&#10;Color: (123, 234, 123)\" style=\"width: 10px; height: 10px;background-color: rgb(123, 234, 123);\"></td><td title=\"Index: [37, 16]&#10;Color: (123, 234, 123)\" style=\"width: 10px; height: 10px;background-color: rgb(123, 234, 123);\"></td><td title=\"Index: [37, 17]&#10;Color: (0, 0, 0)\" style=\"width: 10px; height: 10px;background-color: rgb(0, 0, 0);\"></td><td title=\"Index: [37, 18]&#10;Color: (123, 234, 123)\" style=\"width: 10px; height: 10px;background-color: rgb(123, 234, 123);\"></td><td title=\"Index: [37, 19]&#10;Color: (123, 234, 123)\" style=\"width: 10px; height: 10px;background-color: rgb(123, 234, 123);\"></td><td title=\"Index: [37, 20]&#10;Color: (123, 234, 123)\" style=\"width: 10px; height: 10px;background-color: rgb(123, 234, 123);\"></td><td title=\"Index: [37, 21]&#10;Color: (0, 0, 0)\" style=\"width: 10px; height: 10px;background-color: rgb(0, 0, 0);\"></td><td title=\"Index: [37, 22]&#10;Color: (123, 234, 123)\" style=\"width: 10px; height: 10px;background-color: rgb(123, 234, 123);\"></td><td title=\"Index: [37, 23]&#10;Color: (0, 0, 0)\" style=\"width: 10px; height: 10px;background-color: rgb(0, 0, 0);\"></td><td title=\"Index: [37, 24]&#10;Color: (123, 234, 123)\" style=\"width: 10px; height: 10px;background-color: rgb(123, 234, 123);\"></td><td title=\"Index: [37, 25]&#10;Color: (123, 234, 123)\" style=\"width: 10px; height: 10px;background-color: rgb(123, 234, 123);\"></td><td title=\"Index: [37, 26]&#10;Color: (123, 234, 123)\" style=\"width: 10px; height: 10px;background-color: rgb(123, 234, 123);\"></td><td title=\"Index: [37, 27]&#10;Color: (0, 0, 0)\" style=\"width: 10px; height: 10px;background-color: rgb(0, 0, 0);\"></td><td title=\"Index: [37, 28]&#10;Color: (123, 234, 123)\" style=\"width: 10px; height: 10px;background-color: rgb(123, 234, 123);\"></td><td title=\"Index: [37, 29]&#10;Color: (0, 0, 0)\" style=\"width: 10px; height: 10px;background-color: rgb(0, 0, 0);\"></td><td title=\"Index: [37, 30]&#10;Color: (123, 234, 123)\" style=\"width: 10px; height: 10px;background-color: rgb(123, 234, 123);\"></td><td title=\"Index: [37, 31]&#10;Color: (123, 234, 123)\" style=\"width: 10px; height: 10px;background-color: rgb(123, 234, 123);\"></td><td title=\"Index: [37, 32]&#10;Color: (123, 234, 123)\" style=\"width: 10px; height: 10px;background-color: rgb(123, 234, 123);\"></td><td title=\"Index: [37, 33]&#10;Color: (123, 234, 123)\" style=\"width: 10px; height: 10px;background-color: rgb(123, 234, 123);\"></td><td title=\"Index: [37, 34]&#10;Color: (123, 234, 123)\" style=\"width: 10px; height: 10px;background-color: rgb(123, 234, 123);\"></td><td title=\"Index: [37, 35]&#10;Color: (123, 234, 123)\" style=\"width: 10px; height: 10px;background-color: rgb(123, 234, 123);\"></td><td title=\"Index: [37, 36]&#10;Color: (123, 234, 123)\" style=\"width: 10px; height: 10px;background-color: rgb(123, 234, 123);\"></td><td title=\"Index: [37, 37]&#10;Color: (123, 234, 123)\" style=\"width: 10px; height: 10px;background-color: rgb(123, 234, 123);\"></td><td title=\"Index: [37, 38]&#10;Color: (123, 234, 123)\" style=\"width: 10px; height: 10px;background-color: rgb(123, 234, 123);\"></td><td title=\"Index: [37, 39]&#10;Color: (0, 0, 0)\" style=\"width: 10px; height: 10px;background-color: rgb(0, 0, 0);\"></td><td title=\"Index: [37, 40]&#10;Color: (123, 234, 123)\" style=\"width: 10px; height: 10px;background-color: rgb(123, 234, 123);\"></td><td title=\"Index: [37, 41]&#10;Color: (123, 234, 123)\" style=\"width: 10px; height: 10px;background-color: rgb(123, 234, 123);\"></td><td title=\"Index: [37, 42]&#10;Color: (123, 234, 123)\" style=\"width: 10px; height: 10px;background-color: rgb(123, 234, 123);\"></td><td title=\"Index: [37, 43]&#10;Color: (123, 234, 123)\" style=\"width: 10px; height: 10px;background-color: rgb(123, 234, 123);\"></td><td title=\"Index: [37, 44]&#10;Color: (123, 234, 123)\" style=\"width: 10px; height: 10px;background-color: rgb(123, 234, 123);\"></td><td title=\"Index: [37, 45]&#10;Color: (123, 234, 123)\" style=\"width: 10px; height: 10px;background-color: rgb(123, 234, 123);\"></td><td title=\"Index: [37, 46]&#10;Color: (123, 234, 123)\" style=\"width: 10px; height: 10px;background-color: rgb(123, 234, 123);\"></td><td title=\"Index: [37, 47]&#10;Color: (123, 234, 123)\" style=\"width: 10px; height: 10px;background-color: rgb(123, 234, 123);\"></td><td title=\"Index: [37, 48]&#10;Color: (123, 234, 123)\" style=\"width: 10px; height: 10px;background-color: rgb(123, 234, 123);\"></td><td title=\"Index: [37, 49]&#10;Color: (123, 234, 123)\" style=\"width: 10px; height: 10px;background-color: rgb(123, 234, 123);\"></td></tr><tr><td title=\"Index: [38, 0]&#10;Color: (123, 234, 123)\" style=\"width: 10px; height: 10px;background-color: rgb(123, 234, 123);\"></td><td title=\"Index: [38, 1]&#10;Color: (0, 0, 0)\" style=\"width: 10px; height: 10px;background-color: rgb(0, 0, 0);\"></td><td title=\"Index: [38, 2]&#10;Color: (123, 234, 123)\" style=\"width: 10px; height: 10px;background-color: rgb(123, 234, 123);\"></td><td title=\"Index: [38, 3]&#10;Color: (123, 234, 123)\" style=\"width: 10px; height: 10px;background-color: rgb(123, 234, 123);\"></td><td title=\"Index: [38, 4]&#10;Color: (123, 234, 123)\" style=\"width: 10px; height: 10px;background-color: rgb(123, 234, 123);\"></td><td title=\"Index: [38, 5]&#10;Color: (123, 234, 123)\" style=\"width: 10px; height: 10px;background-color: rgb(123, 234, 123);\"></td><td title=\"Index: [38, 6]&#10;Color: (123, 234, 123)\" style=\"width: 10px; height: 10px;background-color: rgb(123, 234, 123);\"></td><td title=\"Index: [38, 7]&#10;Color: (0, 0, 0)\" style=\"width: 10px; height: 10px;background-color: rgb(0, 0, 0);\"></td><td title=\"Index: [38, 8]&#10;Color: (123, 234, 123)\" style=\"width: 10px; height: 10px;background-color: rgb(123, 234, 123);\"></td><td title=\"Index: [38, 9]&#10;Color: (123, 234, 123)\" style=\"width: 10px; height: 10px;background-color: rgb(123, 234, 123);\"></td><td title=\"Index: [38, 10]&#10;Color: (123, 234, 123)\" style=\"width: 10px; height: 10px;background-color: rgb(123, 234, 123);\"></td><td title=\"Index: [38, 11]&#10;Color: (123, 234, 123)\" style=\"width: 10px; height: 10px;background-color: rgb(123, 234, 123);\"></td><td title=\"Index: [38, 12]&#10;Color: (123, 234, 123)\" style=\"width: 10px; height: 10px;background-color: rgb(123, 234, 123);\"></td><td title=\"Index: [38, 13]&#10;Color: (0, 0, 0)\" style=\"width: 10px; height: 10px;background-color: rgb(0, 0, 0);\"></td><td title=\"Index: [38, 14]&#10;Color: (123, 234, 123)\" style=\"width: 10px; height: 10px;background-color: rgb(123, 234, 123);\"></td><td title=\"Index: [38, 15]&#10;Color: (123, 234, 123)\" style=\"width: 10px; height: 10px;background-color: rgb(123, 234, 123);\"></td><td title=\"Index: [38, 16]&#10;Color: (123, 234, 123)\" style=\"width: 10px; height: 10px;background-color: rgb(123, 234, 123);\"></td><td title=\"Index: [38, 17]&#10;Color: (123, 234, 123)\" style=\"width: 10px; height: 10px;background-color: rgb(123, 234, 123);\"></td><td title=\"Index: [38, 18]&#10;Color: (123, 234, 123)\" style=\"width: 10px; height: 10px;background-color: rgb(123, 234, 123);\"></td><td title=\"Index: [38, 19]&#10;Color: (123, 234, 123)\" style=\"width: 10px; height: 10px;background-color: rgb(123, 234, 123);\"></td><td title=\"Index: [38, 20]&#10;Color: (123, 234, 123)\" style=\"width: 10px; height: 10px;background-color: rgb(123, 234, 123);\"></td><td title=\"Index: [38, 21]&#10;Color: (123, 234, 123)\" style=\"width: 10px; height: 10px;background-color: rgb(123, 234, 123);\"></td><td title=\"Index: [38, 22]&#10;Color: (123, 234, 123)\" style=\"width: 10px; height: 10px;background-color: rgb(123, 234, 123);\"></td><td title=\"Index: [38, 23]&#10;Color: (123, 234, 123)\" style=\"width: 10px; height: 10px;background-color: rgb(123, 234, 123);\"></td><td title=\"Index: [38, 24]&#10;Color: (123, 234, 123)\" style=\"width: 10px; height: 10px;background-color: rgb(123, 234, 123);\"></td><td title=\"Index: [38, 25]&#10;Color: (123, 234, 123)\" style=\"width: 10px; height: 10px;background-color: rgb(123, 234, 123);\"></td><td title=\"Index: [38, 26]&#10;Color: (123, 234, 123)\" style=\"width: 10px; height: 10px;background-color: rgb(123, 234, 123);\"></td><td title=\"Index: [38, 27]&#10;Color: (123, 234, 123)\" style=\"width: 10px; height: 10px;background-color: rgb(123, 234, 123);\"></td><td title=\"Index: [38, 28]&#10;Color: (123, 234, 123)\" style=\"width: 10px; height: 10px;background-color: rgb(123, 234, 123);\"></td><td title=\"Index: [38, 29]&#10;Color: (123, 234, 123)\" style=\"width: 10px; height: 10px;background-color: rgb(123, 234, 123);\"></td><td title=\"Index: [38, 30]&#10;Color: (123, 234, 123)\" style=\"width: 10px; height: 10px;background-color: rgb(123, 234, 123);\"></td><td title=\"Index: [38, 31]&#10;Color: (0, 0, 0)\" style=\"width: 10px; height: 10px;background-color: rgb(0, 0, 0);\"></td><td title=\"Index: [38, 32]&#10;Color: (123, 234, 123)\" style=\"width: 10px; height: 10px;background-color: rgb(123, 234, 123);\"></td><td title=\"Index: [38, 33]&#10;Color: (0, 0, 0)\" style=\"width: 10px; height: 10px;background-color: rgb(0, 0, 0);\"></td><td title=\"Index: [38, 34]&#10;Color: (123, 234, 123)\" style=\"width: 10px; height: 10px;background-color: rgb(123, 234, 123);\"></td><td title=\"Index: [38, 35]&#10;Color: (123, 234, 123)\" style=\"width: 10px; height: 10px;background-color: rgb(123, 234, 123);\"></td><td title=\"Index: [38, 36]&#10;Color: (123, 234, 123)\" style=\"width: 10px; height: 10px;background-color: rgb(123, 234, 123);\"></td><td title=\"Index: [38, 37]&#10;Color: (123, 234, 123)\" style=\"width: 10px; height: 10px;background-color: rgb(123, 234, 123);\"></td><td title=\"Index: [38, 38]&#10;Color: (123, 234, 123)\" style=\"width: 10px; height: 10px;background-color: rgb(123, 234, 123);\"></td><td title=\"Index: [38, 39]&#10;Color: (123, 234, 123)\" style=\"width: 10px; height: 10px;background-color: rgb(123, 234, 123);\"></td><td title=\"Index: [38, 40]&#10;Color: (123, 234, 123)\" style=\"width: 10px; height: 10px;background-color: rgb(123, 234, 123);\"></td><td title=\"Index: [38, 41]&#10;Color: (123, 234, 123)\" style=\"width: 10px; height: 10px;background-color: rgb(123, 234, 123);\"></td><td title=\"Index: [38, 42]&#10;Color: (123, 234, 123)\" style=\"width: 10px; height: 10px;background-color: rgb(123, 234, 123);\"></td><td title=\"Index: [38, 43]&#10;Color: (123, 234, 123)\" style=\"width: 10px; height: 10px;background-color: rgb(123, 234, 123);\"></td><td title=\"Index: [38, 44]&#10;Color: (123, 234, 123)\" style=\"width: 10px; height: 10px;background-color: rgb(123, 234, 123);\"></td><td title=\"Index: [38, 45]&#10;Color: (123, 234, 123)\" style=\"width: 10px; height: 10px;background-color: rgb(123, 234, 123);\"></td><td title=\"Index: [38, 46]&#10;Color: (123, 234, 123)\" style=\"width: 10px; height: 10px;background-color: rgb(123, 234, 123);\"></td><td title=\"Index: [38, 47]&#10;Color: (123, 234, 123)\" style=\"width: 10px; height: 10px;background-color: rgb(123, 234, 123);\"></td><td title=\"Index: [38, 48]&#10;Color: (123, 234, 123)\" style=\"width: 10px; height: 10px;background-color: rgb(123, 234, 123);\"></td><td title=\"Index: [38, 49]&#10;Color: (0, 0, 0)\" style=\"width: 10px; height: 10px;background-color: rgb(0, 0, 0);\"></td></tr><tr><td title=\"Index: [39, 0]&#10;Color: (123, 234, 123)\" style=\"width: 10px; height: 10px;background-color: rgb(123, 234, 123);\"></td><td title=\"Index: [39, 1]&#10;Color: (0, 0, 0)\" style=\"width: 10px; height: 10px;background-color: rgb(0, 0, 0);\"></td><td title=\"Index: [39, 2]&#10;Color: (123, 234, 123)\" style=\"width: 10px; height: 10px;background-color: rgb(123, 234, 123);\"></td><td title=\"Index: [39, 3]&#10;Color: (123, 234, 123)\" style=\"width: 10px; height: 10px;background-color: rgb(123, 234, 123);\"></td><td title=\"Index: [39, 4]&#10;Color: (123, 234, 123)\" style=\"width: 10px; height: 10px;background-color: rgb(123, 234, 123);\"></td><td title=\"Index: [39, 5]&#10;Color: (123, 234, 123)\" style=\"width: 10px; height: 10px;background-color: rgb(123, 234, 123);\"></td><td title=\"Index: [39, 6]&#10;Color: (123, 234, 123)\" style=\"width: 10px; height: 10px;background-color: rgb(123, 234, 123);\"></td><td title=\"Index: [39, 7]&#10;Color: (123, 234, 123)\" style=\"width: 10px; height: 10px;background-color: rgb(123, 234, 123);\"></td><td title=\"Index: [39, 8]&#10;Color: (123, 234, 123)\" style=\"width: 10px; height: 10px;background-color: rgb(123, 234, 123);\"></td><td title=\"Index: [39, 9]&#10;Color: (123, 234, 123)\" style=\"width: 10px; height: 10px;background-color: rgb(123, 234, 123);\"></td><td title=\"Index: [39, 10]&#10;Color: (123, 234, 123)\" style=\"width: 10px; height: 10px;background-color: rgb(123, 234, 123);\"></td><td title=\"Index: [39, 11]&#10;Color: (123, 234, 123)\" style=\"width: 10px; height: 10px;background-color: rgb(123, 234, 123);\"></td><td title=\"Index: [39, 12]&#10;Color: (123, 234, 123)\" style=\"width: 10px; height: 10px;background-color: rgb(123, 234, 123);\"></td><td title=\"Index: [39, 13]&#10;Color: (123, 234, 123)\" style=\"width: 10px; height: 10px;background-color: rgb(123, 234, 123);\"></td><td title=\"Index: [39, 14]&#10;Color: (123, 234, 123)\" style=\"width: 10px; height: 10px;background-color: rgb(123, 234, 123);\"></td><td title=\"Index: [39, 15]&#10;Color: (123, 234, 123)\" style=\"width: 10px; height: 10px;background-color: rgb(123, 234, 123);\"></td><td title=\"Index: [39, 16]&#10;Color: (123, 234, 123)\" style=\"width: 10px; height: 10px;background-color: rgb(123, 234, 123);\"></td><td title=\"Index: [39, 17]&#10;Color: (123, 234, 123)\" style=\"width: 10px; height: 10px;background-color: rgb(123, 234, 123);\"></td><td title=\"Index: [39, 18]&#10;Color: (123, 234, 123)\" style=\"width: 10px; height: 10px;background-color: rgb(123, 234, 123);\"></td><td title=\"Index: [39, 19]&#10;Color: (123, 234, 123)\" style=\"width: 10px; height: 10px;background-color: rgb(123, 234, 123);\"></td><td title=\"Index: [39, 20]&#10;Color: (123, 234, 123)\" style=\"width: 10px; height: 10px;background-color: rgb(123, 234, 123);\"></td><td title=\"Index: [39, 21]&#10;Color: (123, 234, 123)\" style=\"width: 10px; height: 10px;background-color: rgb(123, 234, 123);\"></td><td title=\"Index: [39, 22]&#10;Color: (123, 234, 123)\" style=\"width: 10px; height: 10px;background-color: rgb(123, 234, 123);\"></td><td title=\"Index: [39, 23]&#10;Color: (0, 0, 0)\" style=\"width: 10px; height: 10px;background-color: rgb(0, 0, 0);\"></td><td title=\"Index: [39, 24]&#10;Color: (123, 234, 123)\" style=\"width: 10px; height: 10px;background-color: rgb(123, 234, 123);\"></td><td title=\"Index: [39, 25]&#10;Color: (123, 234, 123)\" style=\"width: 10px; height: 10px;background-color: rgb(123, 234, 123);\"></td><td title=\"Index: [39, 26]&#10;Color: (123, 234, 123)\" style=\"width: 10px; height: 10px;background-color: rgb(123, 234, 123);\"></td><td title=\"Index: [39, 27]&#10;Color: (123, 234, 123)\" style=\"width: 10px; height: 10px;background-color: rgb(123, 234, 123);\"></td><td title=\"Index: [39, 28]&#10;Color: (123, 234, 123)\" style=\"width: 10px; height: 10px;background-color: rgb(123, 234, 123);\"></td><td title=\"Index: [39, 29]&#10;Color: (0, 0, 0)\" style=\"width: 10px; height: 10px;background-color: rgb(0, 0, 0);\"></td><td title=\"Index: [39, 30]&#10;Color: (123, 234, 123)\" style=\"width: 10px; height: 10px;background-color: rgb(123, 234, 123);\"></td><td title=\"Index: [39, 31]&#10;Color: (123, 234, 123)\" style=\"width: 10px; height: 10px;background-color: rgb(123, 234, 123);\"></td><td title=\"Index: [39, 32]&#10;Color: (123, 234, 123)\" style=\"width: 10px; height: 10px;background-color: rgb(123, 234, 123);\"></td><td title=\"Index: [39, 33]&#10;Color: (123, 234, 123)\" style=\"width: 10px; height: 10px;background-color: rgb(123, 234, 123);\"></td><td title=\"Index: [39, 34]&#10;Color: (123, 234, 123)\" style=\"width: 10px; height: 10px;background-color: rgb(123, 234, 123);\"></td><td title=\"Index: [39, 35]&#10;Color: (123, 234, 123)\" style=\"width: 10px; height: 10px;background-color: rgb(123, 234, 123);\"></td><td title=\"Index: [39, 36]&#10;Color: (123, 234, 123)\" style=\"width: 10px; height: 10px;background-color: rgb(123, 234, 123);\"></td><td title=\"Index: [39, 37]&#10;Color: (0, 0, 0)\" style=\"width: 10px; height: 10px;background-color: rgb(0, 0, 0);\"></td><td title=\"Index: [39, 38]&#10;Color: (123, 234, 123)\" style=\"width: 10px; height: 10px;background-color: rgb(123, 234, 123);\"></td><td title=\"Index: [39, 39]&#10;Color: (123, 234, 123)\" style=\"width: 10px; height: 10px;background-color: rgb(123, 234, 123);\"></td><td title=\"Index: [39, 40]&#10;Color: (123, 234, 123)\" style=\"width: 10px; height: 10px;background-color: rgb(123, 234, 123);\"></td><td title=\"Index: [39, 41]&#10;Color: (123, 234, 123)\" style=\"width: 10px; height: 10px;background-color: rgb(123, 234, 123);\"></td><td title=\"Index: [39, 42]&#10;Color: (123, 234, 123)\" style=\"width: 10px; height: 10px;background-color: rgb(123, 234, 123);\"></td><td title=\"Index: [39, 43]&#10;Color: (0, 0, 0)\" style=\"width: 10px; height: 10px;background-color: rgb(0, 0, 0);\"></td><td title=\"Index: [39, 44]&#10;Color: (123, 234, 123)\" style=\"width: 10px; height: 10px;background-color: rgb(123, 234, 123);\"></td><td title=\"Index: [39, 45]&#10;Color: (123, 234, 123)\" style=\"width: 10px; height: 10px;background-color: rgb(123, 234, 123);\"></td><td title=\"Index: [39, 46]&#10;Color: (123, 234, 123)\" style=\"width: 10px; height: 10px;background-color: rgb(123, 234, 123);\"></td><td title=\"Index: [39, 47]&#10;Color: (0, 0, 0)\" style=\"width: 10px; height: 10px;background-color: rgb(0, 0, 0);\"></td><td title=\"Index: [39, 48]&#10;Color: (123, 234, 123)\" style=\"width: 10px; height: 10px;background-color: rgb(123, 234, 123);\"></td><td title=\"Index: [39, 49]&#10;Color: (0, 0, 0)\" style=\"width: 10px; height: 10px;background-color: rgb(0, 0, 0);\"></td></tr><tr><td title=\"Index: [40, 0]&#10;Color: (123, 234, 123)\" style=\"width: 10px; height: 10px;background-color: rgb(123, 234, 123);\"></td><td title=\"Index: [40, 1]&#10;Color: (123, 234, 123)\" style=\"width: 10px; height: 10px;background-color: rgb(123, 234, 123);\"></td><td title=\"Index: [40, 2]&#10;Color: (123, 234, 123)\" style=\"width: 10px; height: 10px;background-color: rgb(123, 234, 123);\"></td><td title=\"Index: [40, 3]&#10;Color: (0, 0, 0)\" style=\"width: 10px; height: 10px;background-color: rgb(0, 0, 0);\"></td><td title=\"Index: [40, 4]&#10;Color: (123, 234, 123)\" style=\"width: 10px; height: 10px;background-color: rgb(123, 234, 123);\"></td><td title=\"Index: [40, 5]&#10;Color: (123, 234, 123)\" style=\"width: 10px; height: 10px;background-color: rgb(123, 234, 123);\"></td><td title=\"Index: [40, 6]&#10;Color: (123, 234, 123)\" style=\"width: 10px; height: 10px;background-color: rgb(123, 234, 123);\"></td><td title=\"Index: [40, 7]&#10;Color: (123, 234, 123)\" style=\"width: 10px; height: 10px;background-color: rgb(123, 234, 123);\"></td><td title=\"Index: [40, 8]&#10;Color: (123, 234, 123)\" style=\"width: 10px; height: 10px;background-color: rgb(123, 234, 123);\"></td><td title=\"Index: [40, 9]&#10;Color: (123, 234, 123)\" style=\"width: 10px; height: 10px;background-color: rgb(123, 234, 123);\"></td><td title=\"Index: [40, 10]&#10;Color: (123, 234, 123)\" style=\"width: 10px; height: 10px;background-color: rgb(123, 234, 123);\"></td><td title=\"Index: [40, 11]&#10;Color: (0, 0, 0)\" style=\"width: 10px; height: 10px;background-color: rgb(0, 0, 0);\"></td><td title=\"Index: [40, 12]&#10;Color: (123, 234, 123)\" style=\"width: 10px; height: 10px;background-color: rgb(123, 234, 123);\"></td><td title=\"Index: [40, 13]&#10;Color: (123, 234, 123)\" style=\"width: 10px; height: 10px;background-color: rgb(123, 234, 123);\"></td><td title=\"Index: [40, 14]&#10;Color: (123, 234, 123)\" style=\"width: 10px; height: 10px;background-color: rgb(123, 234, 123);\"></td><td title=\"Index: [40, 15]&#10;Color: (123, 234, 123)\" style=\"width: 10px; height: 10px;background-color: rgb(123, 234, 123);\"></td><td title=\"Index: [40, 16]&#10;Color: (123, 234, 123)\" style=\"width: 10px; height: 10px;background-color: rgb(123, 234, 123);\"></td><td title=\"Index: [40, 17]&#10;Color: (0, 0, 0)\" style=\"width: 10px; height: 10px;background-color: rgb(0, 0, 0);\"></td><td title=\"Index: [40, 18]&#10;Color: (123, 234, 123)\" style=\"width: 10px; height: 10px;background-color: rgb(123, 234, 123);\"></td><td title=\"Index: [40, 19]&#10;Color: (123, 234, 123)\" style=\"width: 10px; height: 10px;background-color: rgb(123, 234, 123);\"></td><td title=\"Index: [40, 20]&#10;Color: (123, 234, 123)\" style=\"width: 10px; height: 10px;background-color: rgb(123, 234, 123);\"></td><td title=\"Index: [40, 21]&#10;Color: (123, 234, 123)\" style=\"width: 10px; height: 10px;background-color: rgb(123, 234, 123);\"></td><td title=\"Index: [40, 22]&#10;Color: (123, 234, 123)\" style=\"width: 10px; height: 10px;background-color: rgb(123, 234, 123);\"></td><td title=\"Index: [40, 23]&#10;Color: (123, 234, 123)\" style=\"width: 10px; height: 10px;background-color: rgb(123, 234, 123);\"></td><td title=\"Index: [40, 24]&#10;Color: (123, 234, 123)\" style=\"width: 10px; height: 10px;background-color: rgb(123, 234, 123);\"></td><td title=\"Index: [40, 25]&#10;Color: (123, 234, 123)\" style=\"width: 10px; height: 10px;background-color: rgb(123, 234, 123);\"></td><td title=\"Index: [40, 26]&#10;Color: (123, 234, 123)\" style=\"width: 10px; height: 10px;background-color: rgb(123, 234, 123);\"></td><td title=\"Index: [40, 27]&#10;Color: (0, 0, 0)\" style=\"width: 10px; height: 10px;background-color: rgb(0, 0, 0);\"></td><td title=\"Index: [40, 28]&#10;Color: (123, 234, 123)\" style=\"width: 10px; height: 10px;background-color: rgb(123, 234, 123);\"></td><td title=\"Index: [40, 29]&#10;Color: (0, 0, 0)\" style=\"width: 10px; height: 10px;background-color: rgb(0, 0, 0);\"></td><td title=\"Index: [40, 30]&#10;Color: (123, 234, 123)\" style=\"width: 10px; height: 10px;background-color: rgb(123, 234, 123);\"></td><td title=\"Index: [40, 31]&#10;Color: (123, 234, 123)\" style=\"width: 10px; height: 10px;background-color: rgb(123, 234, 123);\"></td><td title=\"Index: [40, 32]&#10;Color: (123, 234, 123)\" style=\"width: 10px; height: 10px;background-color: rgb(123, 234, 123);\"></td><td title=\"Index: [40, 33]&#10;Color: (123, 234, 123)\" style=\"width: 10px; height: 10px;background-color: rgb(123, 234, 123);\"></td><td title=\"Index: [40, 34]&#10;Color: (123, 234, 123)\" style=\"width: 10px; height: 10px;background-color: rgb(123, 234, 123);\"></td><td title=\"Index: [40, 35]&#10;Color: (123, 234, 123)\" style=\"width: 10px; height: 10px;background-color: rgb(123, 234, 123);\"></td><td title=\"Index: [40, 36]&#10;Color: (123, 234, 123)\" style=\"width: 10px; height: 10px;background-color: rgb(123, 234, 123);\"></td><td title=\"Index: [40, 37]&#10;Color: (123, 234, 123)\" style=\"width: 10px; height: 10px;background-color: rgb(123, 234, 123);\"></td><td title=\"Index: [40, 38]&#10;Color: (123, 234, 123)\" style=\"width: 10px; height: 10px;background-color: rgb(123, 234, 123);\"></td><td title=\"Index: [40, 39]&#10;Color: (0, 0, 0)\" style=\"width: 10px; height: 10px;background-color: rgb(0, 0, 0);\"></td><td title=\"Index: [40, 40]&#10;Color: (123, 234, 123)\" style=\"width: 10px; height: 10px;background-color: rgb(123, 234, 123);\"></td><td title=\"Index: [40, 41]&#10;Color: (123, 234, 123)\" style=\"width: 10px; height: 10px;background-color: rgb(123, 234, 123);\"></td><td title=\"Index: [40, 42]&#10;Color: (123, 234, 123)\" style=\"width: 10px; height: 10px;background-color: rgb(123, 234, 123);\"></td><td title=\"Index: [40, 43]&#10;Color: (123, 234, 123)\" style=\"width: 10px; height: 10px;background-color: rgb(123, 234, 123);\"></td><td title=\"Index: [40, 44]&#10;Color: (123, 234, 123)\" style=\"width: 10px; height: 10px;background-color: rgb(123, 234, 123);\"></td><td title=\"Index: [40, 45]&#10;Color: (123, 234, 123)\" style=\"width: 10px; height: 10px;background-color: rgb(123, 234, 123);\"></td><td title=\"Index: [40, 46]&#10;Color: (123, 234, 123)\" style=\"width: 10px; height: 10px;background-color: rgb(123, 234, 123);\"></td><td title=\"Index: [40, 47]&#10;Color: (123, 234, 123)\" style=\"width: 10px; height: 10px;background-color: rgb(123, 234, 123);\"></td><td title=\"Index: [40, 48]&#10;Color: (123, 234, 123)\" style=\"width: 10px; height: 10px;background-color: rgb(123, 234, 123);\"></td><td title=\"Index: [40, 49]&#10;Color: (123, 234, 123)\" style=\"width: 10px; height: 10px;background-color: rgb(123, 234, 123);\"></td></tr><tr><td title=\"Index: [41, 0]&#10;Color: (123, 234, 123)\" style=\"width: 10px; height: 10px;background-color: rgb(123, 234, 123);\"></td><td title=\"Index: [41, 1]&#10;Color: (123, 234, 123)\" style=\"width: 10px; height: 10px;background-color: rgb(123, 234, 123);\"></td><td title=\"Index: [41, 2]&#10;Color: (123, 234, 123)\" style=\"width: 10px; height: 10px;background-color: rgb(123, 234, 123);\"></td><td title=\"Index: [41, 3]&#10;Color: (0, 0, 0)\" style=\"width: 10px; height: 10px;background-color: rgb(0, 0, 0);\"></td><td title=\"Index: [41, 4]&#10;Color: (123, 234, 123)\" style=\"width: 10px; height: 10px;background-color: rgb(123, 234, 123);\"></td><td title=\"Index: [41, 5]&#10;Color: (123, 234, 123)\" style=\"width: 10px; height: 10px;background-color: rgb(123, 234, 123);\"></td><td title=\"Index: [41, 6]&#10;Color: (123, 234, 123)\" style=\"width: 10px; height: 10px;background-color: rgb(123, 234, 123);\"></td><td title=\"Index: [41, 7]&#10;Color: (123, 234, 123)\" style=\"width: 10px; height: 10px;background-color: rgb(123, 234, 123);\"></td><td title=\"Index: [41, 8]&#10;Color: (123, 234, 123)\" style=\"width: 10px; height: 10px;background-color: rgb(123, 234, 123);\"></td><td title=\"Index: [41, 9]&#10;Color: (123, 234, 123)\" style=\"width: 10px; height: 10px;background-color: rgb(123, 234, 123);\"></td><td title=\"Index: [41, 10]&#10;Color: (123, 234, 123)\" style=\"width: 10px; height: 10px;background-color: rgb(123, 234, 123);\"></td><td title=\"Index: [41, 11]&#10;Color: (123, 234, 123)\" style=\"width: 10px; height: 10px;background-color: rgb(123, 234, 123);\"></td><td title=\"Index: [41, 12]&#10;Color: (123, 234, 123)\" style=\"width: 10px; height: 10px;background-color: rgb(123, 234, 123);\"></td><td title=\"Index: [41, 13]&#10;Color: (0, 0, 0)\" style=\"width: 10px; height: 10px;background-color: rgb(0, 0, 0);\"></td><td title=\"Index: [41, 14]&#10;Color: (123, 234, 123)\" style=\"width: 10px; height: 10px;background-color: rgb(123, 234, 123);\"></td><td title=\"Index: [41, 15]&#10;Color: (123, 234, 123)\" style=\"width: 10px; height: 10px;background-color: rgb(123, 234, 123);\"></td><td title=\"Index: [41, 16]&#10;Color: (123, 234, 123)\" style=\"width: 10px; height: 10px;background-color: rgb(123, 234, 123);\"></td><td title=\"Index: [41, 17]&#10;Color: (123, 234, 123)\" style=\"width: 10px; height: 10px;background-color: rgb(123, 234, 123);\"></td><td title=\"Index: [41, 18]&#10;Color: (123, 234, 123)\" style=\"width: 10px; height: 10px;background-color: rgb(123, 234, 123);\"></td><td title=\"Index: [41, 19]&#10;Color: (0, 0, 0)\" style=\"width: 10px; height: 10px;background-color: rgb(0, 0, 0);\"></td><td title=\"Index: [41, 20]&#10;Color: (123, 234, 123)\" style=\"width: 10px; height: 10px;background-color: rgb(123, 234, 123);\"></td><td title=\"Index: [41, 21]&#10;Color: (123, 234, 123)\" style=\"width: 10px; height: 10px;background-color: rgb(123, 234, 123);\"></td><td title=\"Index: [41, 22]&#10;Color: (123, 234, 123)\" style=\"width: 10px; height: 10px;background-color: rgb(123, 234, 123);\"></td><td title=\"Index: [41, 23]&#10;Color: (123, 234, 123)\" style=\"width: 10px; height: 10px;background-color: rgb(123, 234, 123);\"></td><td title=\"Index: [41, 24]&#10;Color: (123, 234, 123)\" style=\"width: 10px; height: 10px;background-color: rgb(123, 234, 123);\"></td><td title=\"Index: [41, 25]&#10;Color: (123, 234, 123)\" style=\"width: 10px; height: 10px;background-color: rgb(123, 234, 123);\"></td><td title=\"Index: [41, 26]&#10;Color: (123, 234, 123)\" style=\"width: 10px; height: 10px;background-color: rgb(123, 234, 123);\"></td><td title=\"Index: [41, 27]&#10;Color: (123, 234, 123)\" style=\"width: 10px; height: 10px;background-color: rgb(123, 234, 123);\"></td><td title=\"Index: [41, 28]&#10;Color: (123, 234, 123)\" style=\"width: 10px; height: 10px;background-color: rgb(123, 234, 123);\"></td><td title=\"Index: [41, 29]&#10;Color: (123, 234, 123)\" style=\"width: 10px; height: 10px;background-color: rgb(123, 234, 123);\"></td><td title=\"Index: [41, 30]&#10;Color: (123, 234, 123)\" style=\"width: 10px; height: 10px;background-color: rgb(123, 234, 123);\"></td><td title=\"Index: [41, 31]&#10;Color: (0, 0, 0)\" style=\"width: 10px; height: 10px;background-color: rgb(0, 0, 0);\"></td><td title=\"Index: [41, 32]&#10;Color: (123, 234, 123)\" style=\"width: 10px; height: 10px;background-color: rgb(123, 234, 123);\"></td><td title=\"Index: [41, 33]&#10;Color: (0, 0, 0)\" style=\"width: 10px; height: 10px;background-color: rgb(0, 0, 0);\"></td><td title=\"Index: [41, 34]&#10;Color: (123, 234, 123)\" style=\"width: 10px; height: 10px;background-color: rgb(123, 234, 123);\"></td><td title=\"Index: [41, 35]&#10;Color: (123, 234, 123)\" style=\"width: 10px; height: 10px;background-color: rgb(123, 234, 123);\"></td><td title=\"Index: [41, 36]&#10;Color: (123, 234, 123)\" style=\"width: 10px; height: 10px;background-color: rgb(123, 234, 123);\"></td><td title=\"Index: [41, 37]&#10;Color: (0, 0, 0)\" style=\"width: 10px; height: 10px;background-color: rgb(0, 0, 0);\"></td><td title=\"Index: [41, 38]&#10;Color: (123, 234, 123)\" style=\"width: 10px; height: 10px;background-color: rgb(123, 234, 123);\"></td><td title=\"Index: [41, 39]&#10;Color: (0, 0, 0)\" style=\"width: 10px; height: 10px;background-color: rgb(0, 0, 0);\"></td><td title=\"Index: [41, 40]&#10;Color: (123, 234, 123)\" style=\"width: 10px; height: 10px;background-color: rgb(123, 234, 123);\"></td><td title=\"Index: [41, 41]&#10;Color: (123, 234, 123)\" style=\"width: 10px; height: 10px;background-color: rgb(123, 234, 123);\"></td><td title=\"Index: [41, 42]&#10;Color: (123, 234, 123)\" style=\"width: 10px; height: 10px;background-color: rgb(123, 234, 123);\"></td><td title=\"Index: [41, 43]&#10;Color: (123, 234, 123)\" style=\"width: 10px; height: 10px;background-color: rgb(123, 234, 123);\"></td><td title=\"Index: [41, 44]&#10;Color: (123, 234, 123)\" style=\"width: 10px; height: 10px;background-color: rgb(123, 234, 123);\"></td><td title=\"Index: [41, 45]&#10;Color: (123, 234, 123)\" style=\"width: 10px; height: 10px;background-color: rgb(123, 234, 123);\"></td><td title=\"Index: [41, 46]&#10;Color: (123, 234, 123)\" style=\"width: 10px; height: 10px;background-color: rgb(123, 234, 123);\"></td><td title=\"Index: [41, 47]&#10;Color: (123, 234, 123)\" style=\"width: 10px; height: 10px;background-color: rgb(123, 234, 123);\"></td><td title=\"Index: [41, 48]&#10;Color: (123, 234, 123)\" style=\"width: 10px; height: 10px;background-color: rgb(123, 234, 123);\"></td><td title=\"Index: [41, 49]&#10;Color: (0, 0, 0)\" style=\"width: 10px; height: 10px;background-color: rgb(0, 0, 0);\"></td></tr><tr><td title=\"Index: [42, 0]&#10;Color: (123, 234, 123)\" style=\"width: 10px; height: 10px;background-color: rgb(123, 234, 123);\"></td><td title=\"Index: [42, 1]&#10;Color: (123, 234, 123)\" style=\"width: 10px; height: 10px;background-color: rgb(123, 234, 123);\"></td><td title=\"Index: [42, 2]&#10;Color: (123, 234, 123)\" style=\"width: 10px; height: 10px;background-color: rgb(123, 234, 123);\"></td><td title=\"Index: [42, 3]&#10;Color: (123, 234, 123)\" style=\"width: 10px; height: 10px;background-color: rgb(123, 234, 123);\"></td><td title=\"Index: [42, 4]&#10;Color: (123, 234, 123)\" style=\"width: 10px; height: 10px;background-color: rgb(123, 234, 123);\"></td><td title=\"Index: [42, 5]&#10;Color: (123, 234, 123)\" style=\"width: 10px; height: 10px;background-color: rgb(123, 234, 123);\"></td><td title=\"Index: [42, 6]&#10;Color: (123, 234, 123)\" style=\"width: 10px; height: 10px;background-color: rgb(123, 234, 123);\"></td><td title=\"Index: [42, 7]&#10;Color: (123, 234, 123)\" style=\"width: 10px; height: 10px;background-color: rgb(123, 234, 123);\"></td><td title=\"Index: [42, 8]&#10;Color: (123, 234, 123)\" style=\"width: 10px; height: 10px;background-color: rgb(123, 234, 123);\"></td><td title=\"Index: [42, 9]&#10;Color: (123, 234, 123)\" style=\"width: 10px; height: 10px;background-color: rgb(123, 234, 123);\"></td><td title=\"Index: [42, 10]&#10;Color: (123, 234, 123)\" style=\"width: 10px; height: 10px;background-color: rgb(123, 234, 123);\"></td><td title=\"Index: [42, 11]&#10;Color: (0, 0, 0)\" style=\"width: 10px; height: 10px;background-color: rgb(0, 0, 0);\"></td><td title=\"Index: [42, 12]&#10;Color: (123, 234, 123)\" style=\"width: 10px; height: 10px;background-color: rgb(123, 234, 123);\"></td><td title=\"Index: [42, 13]&#10;Color: (0, 0, 0)\" style=\"width: 10px; height: 10px;background-color: rgb(0, 0, 0);\"></td><td title=\"Index: [42, 14]&#10;Color: (123, 234, 123)\" style=\"width: 10px; height: 10px;background-color: rgb(123, 234, 123);\"></td><td title=\"Index: [42, 15]&#10;Color: (123, 234, 123)\" style=\"width: 10px; height: 10px;background-color: rgb(123, 234, 123);\"></td><td title=\"Index: [42, 16]&#10;Color: (123, 234, 123)\" style=\"width: 10px; height: 10px;background-color: rgb(123, 234, 123);\"></td><td title=\"Index: [42, 17]&#10;Color: (123, 234, 123)\" style=\"width: 10px; height: 10px;background-color: rgb(123, 234, 123);\"></td><td title=\"Index: [42, 18]&#10;Color: (123, 234, 123)\" style=\"width: 10px; height: 10px;background-color: rgb(123, 234, 123);\"></td><td title=\"Index: [42, 19]&#10;Color: (123, 234, 123)\" style=\"width: 10px; height: 10px;background-color: rgb(123, 234, 123);\"></td><td title=\"Index: [42, 20]&#10;Color: (123, 234, 123)\" style=\"width: 10px; height: 10px;background-color: rgb(123, 234, 123);\"></td><td title=\"Index: [42, 21]&#10;Color: (123, 234, 123)\" style=\"width: 10px; height: 10px;background-color: rgb(123, 234, 123);\"></td><td title=\"Index: [42, 22]&#10;Color: (123, 234, 123)\" style=\"width: 10px; height: 10px;background-color: rgb(123, 234, 123);\"></td><td title=\"Index: [42, 23]&#10;Color: (123, 234, 123)\" style=\"width: 10px; height: 10px;background-color: rgb(123, 234, 123);\"></td><td title=\"Index: [42, 24]&#10;Color: (123, 234, 123)\" style=\"width: 10px; height: 10px;background-color: rgb(123, 234, 123);\"></td><td title=\"Index: [42, 25]&#10;Color: (123, 234, 123)\" style=\"width: 10px; height: 10px;background-color: rgb(123, 234, 123);\"></td><td title=\"Index: [42, 26]&#10;Color: (123, 234, 123)\" style=\"width: 10px; height: 10px;background-color: rgb(123, 234, 123);\"></td><td title=\"Index: [42, 27]&#10;Color: (123, 234, 123)\" style=\"width: 10px; height: 10px;background-color: rgb(123, 234, 123);\"></td><td title=\"Index: [42, 28]&#10;Color: (123, 234, 123)\" style=\"width: 10px; height: 10px;background-color: rgb(123, 234, 123);\"></td><td title=\"Index: [42, 29]&#10;Color: (0, 0, 0)\" style=\"width: 10px; height: 10px;background-color: rgb(0, 0, 0);\"></td><td title=\"Index: [42, 30]&#10;Color: (123, 234, 123)\" style=\"width: 10px; height: 10px;background-color: rgb(123, 234, 123);\"></td><td title=\"Index: [42, 31]&#10;Color: (0, 0, 0)\" style=\"width: 10px; height: 10px;background-color: rgb(0, 0, 0);\"></td><td title=\"Index: [42, 32]&#10;Color: (123, 234, 123)\" style=\"width: 10px; height: 10px;background-color: rgb(123, 234, 123);\"></td><td title=\"Index: [42, 33]&#10;Color: (123, 234, 123)\" style=\"width: 10px; height: 10px;background-color: rgb(123, 234, 123);\"></td><td title=\"Index: [42, 34]&#10;Color: (123, 234, 123)\" style=\"width: 10px; height: 10px;background-color: rgb(123, 234, 123);\"></td><td title=\"Index: [42, 35]&#10;Color: (123, 234, 123)\" style=\"width: 10px; height: 10px;background-color: rgb(123, 234, 123);\"></td><td title=\"Index: [42, 36]&#10;Color: (123, 234, 123)\" style=\"width: 10px; height: 10px;background-color: rgb(123, 234, 123);\"></td><td title=\"Index: [42, 37]&#10;Color: (0, 0, 0)\" style=\"width: 10px; height: 10px;background-color: rgb(0, 0, 0);\"></td><td title=\"Index: [42, 38]&#10;Color: (123, 234, 123)\" style=\"width: 10px; height: 10px;background-color: rgb(123, 234, 123);\"></td><td title=\"Index: [42, 39]&#10;Color: (123, 234, 123)\" style=\"width: 10px; height: 10px;background-color: rgb(123, 234, 123);\"></td><td title=\"Index: [42, 40]&#10;Color: (123, 234, 123)\" style=\"width: 10px; height: 10px;background-color: rgb(123, 234, 123);\"></td><td title=\"Index: [42, 41]&#10;Color: (0, 0, 0)\" style=\"width: 10px; height: 10px;background-color: rgb(0, 0, 0);\"></td><td title=\"Index: [42, 42]&#10;Color: (123, 234, 123)\" style=\"width: 10px; height: 10px;background-color: rgb(123, 234, 123);\"></td><td title=\"Index: [42, 43]&#10;Color: (0, 0, 0)\" style=\"width: 10px; height: 10px;background-color: rgb(0, 0, 0);\"></td><td title=\"Index: [42, 44]&#10;Color: (123, 234, 123)\" style=\"width: 10px; height: 10px;background-color: rgb(123, 234, 123);\"></td><td title=\"Index: [42, 45]&#10;Color: (123, 234, 123)\" style=\"width: 10px; height: 10px;background-color: rgb(123, 234, 123);\"></td><td title=\"Index: [42, 46]&#10;Color: (123, 234, 123)\" style=\"width: 10px; height: 10px;background-color: rgb(123, 234, 123);\"></td><td title=\"Index: [42, 47]&#10;Color: (123, 234, 123)\" style=\"width: 10px; height: 10px;background-color: rgb(123, 234, 123);\"></td><td title=\"Index: [42, 48]&#10;Color: (123, 234, 123)\" style=\"width: 10px; height: 10px;background-color: rgb(123, 234, 123);\"></td><td title=\"Index: [42, 49]&#10;Color: (123, 234, 123)\" style=\"width: 10px; height: 10px;background-color: rgb(123, 234, 123);\"></td></tr><tr><td title=\"Index: [43, 0]&#10;Color: (123, 234, 123)\" style=\"width: 10px; height: 10px;background-color: rgb(123, 234, 123);\"></td><td title=\"Index: [43, 1]&#10;Color: (123, 234, 123)\" style=\"width: 10px; height: 10px;background-color: rgb(123, 234, 123);\"></td><td title=\"Index: [43, 2]&#10;Color: (123, 234, 123)\" style=\"width: 10px; height: 10px;background-color: rgb(123, 234, 123);\"></td><td title=\"Index: [43, 3]&#10;Color: (0, 0, 0)\" style=\"width: 10px; height: 10px;background-color: rgb(0, 0, 0);\"></td><td title=\"Index: [43, 4]&#10;Color: (123, 234, 123)\" style=\"width: 10px; height: 10px;background-color: rgb(123, 234, 123);\"></td><td title=\"Index: [43, 5]&#10;Color: (123, 234, 123)\" style=\"width: 10px; height: 10px;background-color: rgb(123, 234, 123);\"></td><td title=\"Index: [43, 6]&#10;Color: (123, 234, 123)\" style=\"width: 10px; height: 10px;background-color: rgb(123, 234, 123);\"></td><td title=\"Index: [43, 7]&#10;Color: (123, 234, 123)\" style=\"width: 10px; height: 10px;background-color: rgb(123, 234, 123);\"></td><td title=\"Index: [43, 8]&#10;Color: (123, 234, 123)\" style=\"width: 10px; height: 10px;background-color: rgb(123, 234, 123);\"></td><td title=\"Index: [43, 9]&#10;Color: (123, 234, 123)\" style=\"width: 10px; height: 10px;background-color: rgb(123, 234, 123);\"></td><td title=\"Index: [43, 10]&#10;Color: (123, 234, 123)\" style=\"width: 10px; height: 10px;background-color: rgb(123, 234, 123);\"></td><td title=\"Index: [43, 11]&#10;Color: (0, 0, 0)\" style=\"width: 10px; height: 10px;background-color: rgb(0, 0, 0);\"></td><td title=\"Index: [43, 12]&#10;Color: (123, 234, 123)\" style=\"width: 10px; height: 10px;background-color: rgb(123, 234, 123);\"></td><td title=\"Index: [43, 13]&#10;Color: (123, 234, 123)\" style=\"width: 10px; height: 10px;background-color: rgb(123, 234, 123);\"></td><td title=\"Index: [43, 14]&#10;Color: (123, 234, 123)\" style=\"width: 10px; height: 10px;background-color: rgb(123, 234, 123);\"></td><td title=\"Index: [43, 15]&#10;Color: (123, 234, 123)\" style=\"width: 10px; height: 10px;background-color: rgb(123, 234, 123);\"></td><td title=\"Index: [43, 16]&#10;Color: (123, 234, 123)\" style=\"width: 10px; height: 10px;background-color: rgb(123, 234, 123);\"></td><td title=\"Index: [43, 17]&#10;Color: (123, 234, 123)\" style=\"width: 10px; height: 10px;background-color: rgb(123, 234, 123);\"></td><td title=\"Index: [43, 18]&#10;Color: (123, 234, 123)\" style=\"width: 10px; height: 10px;background-color: rgb(123, 234, 123);\"></td><td title=\"Index: [43, 19]&#10;Color: (123, 234, 123)\" style=\"width: 10px; height: 10px;background-color: rgb(123, 234, 123);\"></td><td title=\"Index: [43, 20]&#10;Color: (123, 234, 123)\" style=\"width: 10px; height: 10px;background-color: rgb(123, 234, 123);\"></td><td title=\"Index: [43, 21]&#10;Color: (123, 234, 123)\" style=\"width: 10px; height: 10px;background-color: rgb(123, 234, 123);\"></td><td title=\"Index: [43, 22]&#10;Color: (123, 234, 123)\" style=\"width: 10px; height: 10px;background-color: rgb(123, 234, 123);\"></td><td title=\"Index: [43, 23]&#10;Color: (123, 234, 123)\" style=\"width: 10px; height: 10px;background-color: rgb(123, 234, 123);\"></td><td title=\"Index: [43, 24]&#10;Color: (123, 234, 123)\" style=\"width: 10px; height: 10px;background-color: rgb(123, 234, 123);\"></td><td title=\"Index: [43, 25]&#10;Color: (123, 234, 123)\" style=\"width: 10px; height: 10px;background-color: rgb(123, 234, 123);\"></td><td title=\"Index: [43, 26]&#10;Color: (123, 234, 123)\" style=\"width: 10px; height: 10px;background-color: rgb(123, 234, 123);\"></td><td title=\"Index: [43, 27]&#10;Color: (123, 234, 123)\" style=\"width: 10px; height: 10px;background-color: rgb(123, 234, 123);\"></td><td title=\"Index: [43, 28]&#10;Color: (123, 234, 123)\" style=\"width: 10px; height: 10px;background-color: rgb(123, 234, 123);\"></td><td title=\"Index: [43, 29]&#10;Color: (0, 0, 0)\" style=\"width: 10px; height: 10px;background-color: rgb(0, 0, 0);\"></td><td title=\"Index: [43, 30]&#10;Color: (123, 234, 123)\" style=\"width: 10px; height: 10px;background-color: rgb(123, 234, 123);\"></td><td title=\"Index: [43, 31]&#10;Color: (123, 234, 123)\" style=\"width: 10px; height: 10px;background-color: rgb(123, 234, 123);\"></td><td title=\"Index: [43, 32]&#10;Color: (123, 234, 123)\" style=\"width: 10px; height: 10px;background-color: rgb(123, 234, 123);\"></td><td title=\"Index: [43, 33]&#10;Color: (123, 234, 123)\" style=\"width: 10px; height: 10px;background-color: rgb(123, 234, 123);\"></td><td title=\"Index: [43, 34]&#10;Color: (123, 234, 123)\" style=\"width: 10px; height: 10px;background-color: rgb(123, 234, 123);\"></td><td title=\"Index: [43, 35]&#10;Color: (123, 234, 123)\" style=\"width: 10px; height: 10px;background-color: rgb(123, 234, 123);\"></td><td title=\"Index: [43, 36]&#10;Color: (123, 234, 123)\" style=\"width: 10px; height: 10px;background-color: rgb(123, 234, 123);\"></td><td title=\"Index: [43, 37]&#10;Color: (123, 234, 123)\" style=\"width: 10px; height: 10px;background-color: rgb(123, 234, 123);\"></td><td title=\"Index: [43, 38]&#10;Color: (123, 234, 123)\" style=\"width: 10px; height: 10px;background-color: rgb(123, 234, 123);\"></td><td title=\"Index: [43, 39]&#10;Color: (123, 234, 123)\" style=\"width: 10px; height: 10px;background-color: rgb(123, 234, 123);\"></td><td title=\"Index: [43, 40]&#10;Color: (123, 234, 123)\" style=\"width: 10px; height: 10px;background-color: rgb(123, 234, 123);\"></td><td title=\"Index: [43, 41]&#10;Color: (123, 234, 123)\" style=\"width: 10px; height: 10px;background-color: rgb(123, 234, 123);\"></td><td title=\"Index: [43, 42]&#10;Color: (123, 234, 123)\" style=\"width: 10px; height: 10px;background-color: rgb(123, 234, 123);\"></td><td title=\"Index: [43, 43]&#10;Color: (123, 234, 123)\" style=\"width: 10px; height: 10px;background-color: rgb(123, 234, 123);\"></td><td title=\"Index: [43, 44]&#10;Color: (123, 234, 123)\" style=\"width: 10px; height: 10px;background-color: rgb(123, 234, 123);\"></td><td title=\"Index: [43, 45]&#10;Color: (123, 234, 123)\" style=\"width: 10px; height: 10px;background-color: rgb(123, 234, 123);\"></td><td title=\"Index: [43, 46]&#10;Color: (123, 234, 123)\" style=\"width: 10px; height: 10px;background-color: rgb(123, 234, 123);\"></td><td title=\"Index: [43, 47]&#10;Color: (123, 234, 123)\" style=\"width: 10px; height: 10px;background-color: rgb(123, 234, 123);\"></td><td title=\"Index: [43, 48]&#10;Color: (123, 234, 123)\" style=\"width: 10px; height: 10px;background-color: rgb(123, 234, 123);\"></td><td title=\"Index: [43, 49]&#10;Color: (123, 234, 123)\" style=\"width: 10px; height: 10px;background-color: rgb(123, 234, 123);\"></td></tr><tr><td title=\"Index: [44, 0]&#10;Color: (123, 234, 123)\" style=\"width: 10px; height: 10px;background-color: rgb(123, 234, 123);\"></td><td title=\"Index: [44, 1]&#10;Color: (123, 234, 123)\" style=\"width: 10px; height: 10px;background-color: rgb(123, 234, 123);\"></td><td title=\"Index: [44, 2]&#10;Color: (123, 234, 123)\" style=\"width: 10px; height: 10px;background-color: rgb(123, 234, 123);\"></td><td title=\"Index: [44, 3]&#10;Color: (0, 0, 0)\" style=\"width: 10px; height: 10px;background-color: rgb(0, 0, 0);\"></td><td title=\"Index: [44, 4]&#10;Color: (123, 234, 123)\" style=\"width: 10px; height: 10px;background-color: rgb(123, 234, 123);\"></td><td title=\"Index: [44, 5]&#10;Color: (123, 234, 123)\" style=\"width: 10px; height: 10px;background-color: rgb(123, 234, 123);\"></td><td title=\"Index: [44, 6]&#10;Color: (123, 234, 123)\" style=\"width: 10px; height: 10px;background-color: rgb(123, 234, 123);\"></td><td title=\"Index: [44, 7]&#10;Color: (0, 0, 0)\" style=\"width: 10px; height: 10px;background-color: rgb(0, 0, 0);\"></td><td title=\"Index: [44, 8]&#10;Color: (123, 234, 123)\" style=\"width: 10px; height: 10px;background-color: rgb(123, 234, 123);\"></td><td title=\"Index: [44, 9]&#10;Color: (123, 234, 123)\" style=\"width: 10px; height: 10px;background-color: rgb(123, 234, 123);\"></td><td title=\"Index: [44, 10]&#10;Color: (123, 234, 123)\" style=\"width: 10px; height: 10px;background-color: rgb(123, 234, 123);\"></td><td title=\"Index: [44, 11]&#10;Color: (123, 234, 123)\" style=\"width: 10px; height: 10px;background-color: rgb(123, 234, 123);\"></td><td title=\"Index: [44, 12]&#10;Color: (123, 234, 123)\" style=\"width: 10px; height: 10px;background-color: rgb(123, 234, 123);\"></td><td title=\"Index: [44, 13]&#10;Color: (0, 0, 0)\" style=\"width: 10px; height: 10px;background-color: rgb(0, 0, 0);\"></td><td title=\"Index: [44, 14]&#10;Color: (123, 234, 123)\" style=\"width: 10px; height: 10px;background-color: rgb(123, 234, 123);\"></td><td title=\"Index: [44, 15]&#10;Color: (123, 234, 123)\" style=\"width: 10px; height: 10px;background-color: rgb(123, 234, 123);\"></td><td title=\"Index: [44, 16]&#10;Color: (123, 234, 123)\" style=\"width: 10px; height: 10px;background-color: rgb(123, 234, 123);\"></td><td title=\"Index: [44, 17]&#10;Color: (123, 234, 123)\" style=\"width: 10px; height: 10px;background-color: rgb(123, 234, 123);\"></td><td title=\"Index: [44, 18]&#10;Color: (123, 234, 123)\" style=\"width: 10px; height: 10px;background-color: rgb(123, 234, 123);\"></td><td title=\"Index: [44, 19]&#10;Color: (123, 234, 123)\" style=\"width: 10px; height: 10px;background-color: rgb(123, 234, 123);\"></td><td title=\"Index: [44, 20]&#10;Color: (123, 234, 123)\" style=\"width: 10px; height: 10px;background-color: rgb(123, 234, 123);\"></td><td title=\"Index: [44, 21]&#10;Color: (0, 0, 0)\" style=\"width: 10px; height: 10px;background-color: rgb(0, 0, 0);\"></td><td title=\"Index: [44, 22]&#10;Color: (123, 234, 123)\" style=\"width: 10px; height: 10px;background-color: rgb(123, 234, 123);\"></td><td title=\"Index: [44, 23]&#10;Color: (123, 234, 123)\" style=\"width: 10px; height: 10px;background-color: rgb(123, 234, 123);\"></td><td title=\"Index: [44, 24]&#10;Color: (123, 234, 123)\" style=\"width: 10px; height: 10px;background-color: rgb(123, 234, 123);\"></td><td title=\"Index: [44, 25]&#10;Color: (123, 234, 123)\" style=\"width: 10px; height: 10px;background-color: rgb(123, 234, 123);\"></td><td title=\"Index: [44, 26]&#10;Color: (123, 234, 123)\" style=\"width: 10px; height: 10px;background-color: rgb(123, 234, 123);\"></td><td title=\"Index: [44, 27]&#10;Color: (123, 234, 123)\" style=\"width: 10px; height: 10px;background-color: rgb(123, 234, 123);\"></td><td title=\"Index: [44, 28]&#10;Color: (123, 234, 123)\" style=\"width: 10px; height: 10px;background-color: rgb(123, 234, 123);\"></td><td title=\"Index: [44, 29]&#10;Color: (123, 234, 123)\" style=\"width: 10px; height: 10px;background-color: rgb(123, 234, 123);\"></td><td title=\"Index: [44, 30]&#10;Color: (123, 234, 123)\" style=\"width: 10px; height: 10px;background-color: rgb(123, 234, 123);\"></td><td title=\"Index: [44, 31]&#10;Color: (123, 234, 123)\" style=\"width: 10px; height: 10px;background-color: rgb(123, 234, 123);\"></td><td title=\"Index: [44, 32]&#10;Color: (123, 234, 123)\" style=\"width: 10px; height: 10px;background-color: rgb(123, 234, 123);\"></td><td title=\"Index: [44, 33]&#10;Color: (123, 234, 123)\" style=\"width: 10px; height: 10px;background-color: rgb(123, 234, 123);\"></td><td title=\"Index: [44, 34]&#10;Color: (123, 234, 123)\" style=\"width: 10px; height: 10px;background-color: rgb(123, 234, 123);\"></td><td title=\"Index: [44, 35]&#10;Color: (123, 234, 123)\" style=\"width: 10px; height: 10px;background-color: rgb(123, 234, 123);\"></td><td title=\"Index: [44, 36]&#10;Color: (123, 234, 123)\" style=\"width: 10px; height: 10px;background-color: rgb(123, 234, 123);\"></td><td title=\"Index: [44, 37]&#10;Color: (0, 0, 0)\" style=\"width: 10px; height: 10px;background-color: rgb(0, 0, 0);\"></td><td title=\"Index: [44, 38]&#10;Color: (123, 234, 123)\" style=\"width: 10px; height: 10px;background-color: rgb(123, 234, 123);\"></td><td title=\"Index: [44, 39]&#10;Color: (0, 0, 0)\" style=\"width: 10px; height: 10px;background-color: rgb(0, 0, 0);\"></td><td title=\"Index: [44, 40]&#10;Color: (123, 234, 123)\" style=\"width: 10px; height: 10px;background-color: rgb(123, 234, 123);\"></td><td title=\"Index: [44, 41]&#10;Color: (123, 234, 123)\" style=\"width: 10px; height: 10px;background-color: rgb(123, 234, 123);\"></td><td title=\"Index: [44, 42]&#10;Color: (123, 234, 123)\" style=\"width: 10px; height: 10px;background-color: rgb(123, 234, 123);\"></td><td title=\"Index: [44, 43]&#10;Color: (0, 0, 0)\" style=\"width: 10px; height: 10px;background-color: rgb(0, 0, 0);\"></td><td title=\"Index: [44, 44]&#10;Color: (123, 234, 123)\" style=\"width: 10px; height: 10px;background-color: rgb(123, 234, 123);\"></td><td title=\"Index: [44, 45]&#10;Color: (123, 234, 123)\" style=\"width: 10px; height: 10px;background-color: rgb(123, 234, 123);\"></td><td title=\"Index: [44, 46]&#10;Color: (123, 234, 123)\" style=\"width: 10px; height: 10px;background-color: rgb(123, 234, 123);\"></td><td title=\"Index: [44, 47]&#10;Color: (123, 234, 123)\" style=\"width: 10px; height: 10px;background-color: rgb(123, 234, 123);\"></td><td title=\"Index: [44, 48]&#10;Color: (123, 234, 123)\" style=\"width: 10px; height: 10px;background-color: rgb(123, 234, 123);\"></td><td title=\"Index: [44, 49]&#10;Color: (123, 234, 123)\" style=\"width: 10px; height: 10px;background-color: rgb(123, 234, 123);\"></td></tr><tr><td title=\"Index: [45, 0]&#10;Color: (123, 234, 123)\" style=\"width: 10px; height: 10px;background-color: rgb(123, 234, 123);\"></td><td title=\"Index: [45, 1]&#10;Color: (0, 0, 0)\" style=\"width: 10px; height: 10px;background-color: rgb(0, 0, 0);\"></td><td title=\"Index: [45, 2]&#10;Color: (123, 234, 123)\" style=\"width: 10px; height: 10px;background-color: rgb(123, 234, 123);\"></td><td title=\"Index: [45, 3]&#10;Color: (123, 234, 123)\" style=\"width: 10px; height: 10px;background-color: rgb(123, 234, 123);\"></td><td title=\"Index: [45, 4]&#10;Color: (123, 234, 123)\" style=\"width: 10px; height: 10px;background-color: rgb(123, 234, 123);\"></td><td title=\"Index: [45, 5]&#10;Color: (123, 234, 123)\" style=\"width: 10px; height: 10px;background-color: rgb(123, 234, 123);\"></td><td title=\"Index: [45, 6]&#10;Color: (123, 234, 123)\" style=\"width: 10px; height: 10px;background-color: rgb(123, 234, 123);\"></td><td title=\"Index: [45, 7]&#10;Color: (123, 234, 123)\" style=\"width: 10px; height: 10px;background-color: rgb(123, 234, 123);\"></td><td title=\"Index: [45, 8]&#10;Color: (123, 234, 123)\" style=\"width: 10px; height: 10px;background-color: rgb(123, 234, 123);\"></td><td title=\"Index: [45, 9]&#10;Color: (123, 234, 123)\" style=\"width: 10px; height: 10px;background-color: rgb(123, 234, 123);\"></td><td title=\"Index: [45, 10]&#10;Color: (123, 234, 123)\" style=\"width: 10px; height: 10px;background-color: rgb(123, 234, 123);\"></td><td title=\"Index: [45, 11]&#10;Color: (123, 234, 123)\" style=\"width: 10px; height: 10px;background-color: rgb(123, 234, 123);\"></td><td title=\"Index: [45, 12]&#10;Color: (123, 234, 123)\" style=\"width: 10px; height: 10px;background-color: rgb(123, 234, 123);\"></td><td title=\"Index: [45, 13]&#10;Color: (123, 234, 123)\" style=\"width: 10px; height: 10px;background-color: rgb(123, 234, 123);\"></td><td title=\"Index: [45, 14]&#10;Color: (123, 234, 123)\" style=\"width: 10px; height: 10px;background-color: rgb(123, 234, 123);\"></td><td title=\"Index: [45, 15]&#10;Color: (123, 234, 123)\" style=\"width: 10px; height: 10px;background-color: rgb(123, 234, 123);\"></td><td title=\"Index: [45, 16]&#10;Color: (123, 234, 123)\" style=\"width: 10px; height: 10px;background-color: rgb(123, 234, 123);\"></td><td title=\"Index: [45, 17]&#10;Color: (0, 0, 0)\" style=\"width: 10px; height: 10px;background-color: rgb(0, 0, 0);\"></td><td title=\"Index: [45, 18]&#10;Color: (123, 234, 123)\" style=\"width: 10px; height: 10px;background-color: rgb(123, 234, 123);\"></td><td title=\"Index: [45, 19]&#10;Color: (0, 0, 0)\" style=\"width: 10px; height: 10px;background-color: rgb(0, 0, 0);\"></td><td title=\"Index: [45, 20]&#10;Color: (123, 234, 123)\" style=\"width: 10px; height: 10px;background-color: rgb(123, 234, 123);\"></td><td title=\"Index: [45, 21]&#10;Color: (123, 234, 123)\" style=\"width: 10px; height: 10px;background-color: rgb(123, 234, 123);\"></td><td title=\"Index: [45, 22]&#10;Color: (123, 234, 123)\" style=\"width: 10px; height: 10px;background-color: rgb(123, 234, 123);\"></td><td title=\"Index: [45, 23]&#10;Color: (0, 0, 0)\" style=\"width: 10px; height: 10px;background-color: rgb(0, 0, 0);\"></td><td title=\"Index: [45, 24]&#10;Color: (123, 234, 123)\" style=\"width: 10px; height: 10px;background-color: rgb(123, 234, 123);\"></td><td title=\"Index: [45, 25]&#10;Color: (123, 234, 123)\" style=\"width: 10px; height: 10px;background-color: rgb(123, 234, 123);\"></td><td title=\"Index: [45, 26]&#10;Color: (123, 234, 123)\" style=\"width: 10px; height: 10px;background-color: rgb(123, 234, 123);\"></td><td title=\"Index: [45, 27]&#10;Color: (123, 234, 123)\" style=\"width: 10px; height: 10px;background-color: rgb(123, 234, 123);\"></td><td title=\"Index: [45, 28]&#10;Color: (123, 234, 123)\" style=\"width: 10px; height: 10px;background-color: rgb(123, 234, 123);\"></td><td title=\"Index: [45, 29]&#10;Color: (123, 234, 123)\" style=\"width: 10px; height: 10px;background-color: rgb(123, 234, 123);\"></td><td title=\"Index: [45, 30]&#10;Color: (123, 234, 123)\" style=\"width: 10px; height: 10px;background-color: rgb(123, 234, 123);\"></td><td title=\"Index: [45, 31]&#10;Color: (0, 0, 0)\" style=\"width: 10px; height: 10px;background-color: rgb(0, 0, 0);\"></td><td title=\"Index: [45, 32]&#10;Color: (123, 234, 123)\" style=\"width: 10px; height: 10px;background-color: rgb(123, 234, 123);\"></td><td title=\"Index: [45, 33]&#10;Color: (123, 234, 123)\" style=\"width: 10px; height: 10px;background-color: rgb(123, 234, 123);\"></td><td title=\"Index: [45, 34]&#10;Color: (123, 234, 123)\" style=\"width: 10px; height: 10px;background-color: rgb(123, 234, 123);\"></td><td title=\"Index: [45, 35]&#10;Color: (123, 234, 123)\" style=\"width: 10px; height: 10px;background-color: rgb(123, 234, 123);\"></td><td title=\"Index: [45, 36]&#10;Color: (123, 234, 123)\" style=\"width: 10px; height: 10px;background-color: rgb(123, 234, 123);\"></td><td title=\"Index: [45, 37]&#10;Color: (0, 0, 0)\" style=\"width: 10px; height: 10px;background-color: rgb(0, 0, 0);\"></td><td title=\"Index: [45, 38]&#10;Color: (123, 234, 123)\" style=\"width: 10px; height: 10px;background-color: rgb(123, 234, 123);\"></td><td title=\"Index: [45, 39]&#10;Color: (123, 234, 123)\" style=\"width: 10px; height: 10px;background-color: rgb(123, 234, 123);\"></td><td title=\"Index: [45, 40]&#10;Color: (123, 234, 123)\" style=\"width: 10px; height: 10px;background-color: rgb(123, 234, 123);\"></td><td title=\"Index: [45, 41]&#10;Color: (123, 234, 123)\" style=\"width: 10px; height: 10px;background-color: rgb(123, 234, 123);\"></td><td title=\"Index: [45, 42]&#10;Color: (123, 234, 123)\" style=\"width: 10px; height: 10px;background-color: rgb(123, 234, 123);\"></td><td title=\"Index: [45, 43]&#10;Color: (0, 0, 0)\" style=\"width: 10px; height: 10px;background-color: rgb(0, 0, 0);\"></td><td title=\"Index: [45, 44]&#10;Color: (123, 234, 123)\" style=\"width: 10px; height: 10px;background-color: rgb(123, 234, 123);\"></td><td title=\"Index: [45, 45]&#10;Color: (123, 234, 123)\" style=\"width: 10px; height: 10px;background-color: rgb(123, 234, 123);\"></td><td title=\"Index: [45, 46]&#10;Color: (123, 234, 123)\" style=\"width: 10px; height: 10px;background-color: rgb(123, 234, 123);\"></td><td title=\"Index: [45, 47]&#10;Color: (0, 0, 0)\" style=\"width: 10px; height: 10px;background-color: rgb(0, 0, 0);\"></td><td title=\"Index: [45, 48]&#10;Color: (123, 234, 123)\" style=\"width: 10px; height: 10px;background-color: rgb(123, 234, 123);\"></td><td title=\"Index: [45, 49]&#10;Color: (123, 234, 123)\" style=\"width: 10px; height: 10px;background-color: rgb(123, 234, 123);\"></td></tr><tr><td title=\"Index: [46, 0]&#10;Color: (123, 234, 123)\" style=\"width: 10px; height: 10px;background-color: rgb(123, 234, 123);\"></td><td title=\"Index: [46, 1]&#10;Color: (123, 234, 123)\" style=\"width: 10px; height: 10px;background-color: rgb(123, 234, 123);\"></td><td title=\"Index: [46, 2]&#10;Color: (123, 234, 123)\" style=\"width: 10px; height: 10px;background-color: rgb(123, 234, 123);\"></td><td title=\"Index: [46, 3]&#10;Color: (123, 234, 123)\" style=\"width: 10px; height: 10px;background-color: rgb(123, 234, 123);\"></td><td title=\"Index: [46, 4]&#10;Color: (123, 234, 123)\" style=\"width: 10px; height: 10px;background-color: rgb(123, 234, 123);\"></td><td title=\"Index: [46, 5]&#10;Color: (123, 234, 123)\" style=\"width: 10px; height: 10px;background-color: rgb(123, 234, 123);\"></td><td title=\"Index: [46, 6]&#10;Color: (123, 234, 123)\" style=\"width: 10px; height: 10px;background-color: rgb(123, 234, 123);\"></td><td title=\"Index: [46, 7]&#10;Color: (123, 234, 123)\" style=\"width: 10px; height: 10px;background-color: rgb(123, 234, 123);\"></td><td title=\"Index: [46, 8]&#10;Color: (123, 234, 123)\" style=\"width: 10px; height: 10px;background-color: rgb(123, 234, 123);\"></td><td title=\"Index: [46, 9]&#10;Color: (0, 0, 0)\" style=\"width: 10px; height: 10px;background-color: rgb(0, 0, 0);\"></td><td title=\"Index: [46, 10]&#10;Color: (123, 234, 123)\" style=\"width: 10px; height: 10px;background-color: rgb(123, 234, 123);\"></td><td title=\"Index: [46, 11]&#10;Color: (0, 0, 0)\" style=\"width: 10px; height: 10px;background-color: rgb(0, 0, 0);\"></td><td title=\"Index: [46, 12]&#10;Color: (123, 234, 123)\" style=\"width: 10px; height: 10px;background-color: rgb(123, 234, 123);\"></td><td title=\"Index: [46, 13]&#10;Color: (123, 234, 123)\" style=\"width: 10px; height: 10px;background-color: rgb(123, 234, 123);\"></td><td title=\"Index: [46, 14]&#10;Color: (123, 234, 123)\" style=\"width: 10px; height: 10px;background-color: rgb(123, 234, 123);\"></td><td title=\"Index: [46, 15]&#10;Color: (123, 234, 123)\" style=\"width: 10px; height: 10px;background-color: rgb(123, 234, 123);\"></td><td title=\"Index: [46, 16]&#10;Color: (123, 234, 123)\" style=\"width: 10px; height: 10px;background-color: rgb(123, 234, 123);\"></td><td title=\"Index: [46, 17]&#10;Color: (123, 234, 123)\" style=\"width: 10px; height: 10px;background-color: rgb(123, 234, 123);\"></td><td title=\"Index: [46, 18]&#10;Color: (123, 234, 123)\" style=\"width: 10px; height: 10px;background-color: rgb(123, 234, 123);\"></td><td title=\"Index: [46, 19]&#10;Color: (123, 234, 123)\" style=\"width: 10px; height: 10px;background-color: rgb(123, 234, 123);\"></td><td title=\"Index: [46, 20]&#10;Color: (123, 234, 123)\" style=\"width: 10px; height: 10px;background-color: rgb(123, 234, 123);\"></td><td title=\"Index: [46, 21]&#10;Color: (123, 234, 123)\" style=\"width: 10px; height: 10px;background-color: rgb(123, 234, 123);\"></td><td title=\"Index: [46, 22]&#10;Color: (123, 234, 123)\" style=\"width: 10px; height: 10px;background-color: rgb(123, 234, 123);\"></td><td title=\"Index: [46, 23]&#10;Color: (123, 234, 123)\" style=\"width: 10px; height: 10px;background-color: rgb(123, 234, 123);\"></td><td title=\"Index: [46, 24]&#10;Color: (123, 234, 123)\" style=\"width: 10px; height: 10px;background-color: rgb(123, 234, 123);\"></td><td title=\"Index: [46, 25]&#10;Color: (123, 234, 123)\" style=\"width: 10px; height: 10px;background-color: rgb(123, 234, 123);\"></td><td title=\"Index: [46, 26]&#10;Color: (123, 234, 123)\" style=\"width: 10px; height: 10px;background-color: rgb(123, 234, 123);\"></td><td title=\"Index: [46, 27]&#10;Color: (123, 234, 123)\" style=\"width: 10px; height: 10px;background-color: rgb(123, 234, 123);\"></td><td title=\"Index: [46, 28]&#10;Color: (123, 234, 123)\" style=\"width: 10px; height: 10px;background-color: rgb(123, 234, 123);\"></td><td title=\"Index: [46, 29]&#10;Color: (123, 234, 123)\" style=\"width: 10px; height: 10px;background-color: rgb(123, 234, 123);\"></td><td title=\"Index: [46, 30]&#10;Color: (123, 234, 123)\" style=\"width: 10px; height: 10px;background-color: rgb(123, 234, 123);\"></td><td title=\"Index: [46, 31]&#10;Color: (123, 234, 123)\" style=\"width: 10px; height: 10px;background-color: rgb(123, 234, 123);\"></td><td title=\"Index: [46, 32]&#10;Color: (123, 234, 123)\" style=\"width: 10px; height: 10px;background-color: rgb(123, 234, 123);\"></td><td title=\"Index: [46, 33]&#10;Color: (0, 0, 0)\" style=\"width: 10px; height: 10px;background-color: rgb(0, 0, 0);\"></td><td title=\"Index: [46, 34]&#10;Color: (123, 234, 123)\" style=\"width: 10px; height: 10px;background-color: rgb(123, 234, 123);\"></td><td title=\"Index: [46, 35]&#10;Color: (123, 234, 123)\" style=\"width: 10px; height: 10px;background-color: rgb(123, 234, 123);\"></td><td title=\"Index: [46, 36]&#10;Color: (123, 234, 123)\" style=\"width: 10px; height: 10px;background-color: rgb(123, 234, 123);\"></td><td title=\"Index: [46, 37]&#10;Color: (123, 234, 123)\" style=\"width: 10px; height: 10px;background-color: rgb(123, 234, 123);\"></td><td title=\"Index: [46, 38]&#10;Color: (123, 234, 123)\" style=\"width: 10px; height: 10px;background-color: rgb(123, 234, 123);\"></td><td title=\"Index: [46, 39]&#10;Color: (0, 0, 0)\" style=\"width: 10px; height: 10px;background-color: rgb(0, 0, 0);\"></td><td title=\"Index: [46, 40]&#10;Color: (123, 234, 123)\" style=\"width: 10px; height: 10px;background-color: rgb(123, 234, 123);\"></td><td title=\"Index: [46, 41]&#10;Color: (0, 0, 0)\" style=\"width: 10px; height: 10px;background-color: rgb(0, 0, 0);\"></td><td title=\"Index: [46, 42]&#10;Color: (123, 234, 123)\" style=\"width: 10px; height: 10px;background-color: rgb(123, 234, 123);\"></td><td title=\"Index: [46, 43]&#10;Color: (123, 234, 123)\" style=\"width: 10px; height: 10px;background-color: rgb(123, 234, 123);\"></td><td title=\"Index: [46, 44]&#10;Color: (123, 234, 123)\" style=\"width: 10px; height: 10px;background-color: rgb(123, 234, 123);\"></td><td title=\"Index: [46, 45]&#10;Color: (123, 234, 123)\" style=\"width: 10px; height: 10px;background-color: rgb(123, 234, 123);\"></td><td title=\"Index: [46, 46]&#10;Color: (123, 234, 123)\" style=\"width: 10px; height: 10px;background-color: rgb(123, 234, 123);\"></td><td title=\"Index: [46, 47]&#10;Color: (0, 0, 0)\" style=\"width: 10px; height: 10px;background-color: rgb(0, 0, 0);\"></td><td title=\"Index: [46, 48]&#10;Color: (123, 234, 123)\" style=\"width: 10px; height: 10px;background-color: rgb(123, 234, 123);\"></td><td title=\"Index: [46, 49]&#10;Color: (123, 234, 123)\" style=\"width: 10px; height: 10px;background-color: rgb(123, 234, 123);\"></td></tr><tr><td title=\"Index: [47, 0]&#10;Color: (123, 234, 123)\" style=\"width: 10px; height: 10px;background-color: rgb(123, 234, 123);\"></td><td title=\"Index: [47, 1]&#10;Color: (0, 0, 0)\" style=\"width: 10px; height: 10px;background-color: rgb(0, 0, 0);\"></td><td title=\"Index: [47, 2]&#10;Color: (123, 234, 123)\" style=\"width: 10px; height: 10px;background-color: rgb(123, 234, 123);\"></td><td title=\"Index: [47, 3]&#10;Color: (123, 234, 123)\" style=\"width: 10px; height: 10px;background-color: rgb(123, 234, 123);\"></td><td title=\"Index: [47, 4]&#10;Color: (123, 234, 123)\" style=\"width: 10px; height: 10px;background-color: rgb(123, 234, 123);\"></td><td title=\"Index: [47, 5]&#10;Color: (123, 234, 123)\" style=\"width: 10px; height: 10px;background-color: rgb(123, 234, 123);\"></td><td title=\"Index: [47, 6]&#10;Color: (123, 234, 123)\" style=\"width: 10px; height: 10px;background-color: rgb(123, 234, 123);\"></td><td title=\"Index: [47, 7]&#10;Color: (0, 0, 0)\" style=\"width: 10px; height: 10px;background-color: rgb(0, 0, 0);\"></td><td title=\"Index: [47, 8]&#10;Color: (123, 234, 123)\" style=\"width: 10px; height: 10px;background-color: rgb(123, 234, 123);\"></td><td title=\"Index: [47, 9]&#10;Color: (123, 234, 123)\" style=\"width: 10px; height: 10px;background-color: rgb(123, 234, 123);\"></td><td title=\"Index: [47, 10]&#10;Color: (123, 234, 123)\" style=\"width: 10px; height: 10px;background-color: rgb(123, 234, 123);\"></td><td title=\"Index: [47, 11]&#10;Color: (123, 234, 123)\" style=\"width: 10px; height: 10px;background-color: rgb(123, 234, 123);\"></td><td title=\"Index: [47, 12]&#10;Color: (123, 234, 123)\" style=\"width: 10px; height: 10px;background-color: rgb(123, 234, 123);\"></td><td title=\"Index: [47, 13]&#10;Color: (123, 234, 123)\" style=\"width: 10px; height: 10px;background-color: rgb(123, 234, 123);\"></td><td title=\"Index: [47, 14]&#10;Color: (123, 234, 123)\" style=\"width: 10px; height: 10px;background-color: rgb(123, 234, 123);\"></td><td title=\"Index: [47, 15]&#10;Color: (123, 234, 123)\" style=\"width: 10px; height: 10px;background-color: rgb(123, 234, 123);\"></td><td title=\"Index: [47, 16]&#10;Color: (123, 234, 123)\" style=\"width: 10px; height: 10px;background-color: rgb(123, 234, 123);\"></td><td title=\"Index: [47, 17]&#10;Color: (123, 234, 123)\" style=\"width: 10px; height: 10px;background-color: rgb(123, 234, 123);\"></td><td title=\"Index: [47, 18]&#10;Color: (123, 234, 123)\" style=\"width: 10px; height: 10px;background-color: rgb(123, 234, 123);\"></td><td title=\"Index: [47, 19]&#10;Color: (123, 234, 123)\" style=\"width: 10px; height: 10px;background-color: rgb(123, 234, 123);\"></td><td title=\"Index: [47, 20]&#10;Color: (123, 234, 123)\" style=\"width: 10px; height: 10px;background-color: rgb(123, 234, 123);\"></td><td title=\"Index: [47, 21]&#10;Color: (0, 0, 0)\" style=\"width: 10px; height: 10px;background-color: rgb(0, 0, 0);\"></td><td title=\"Index: [47, 22]&#10;Color: (123, 234, 123)\" style=\"width: 10px; height: 10px;background-color: rgb(123, 234, 123);\"></td><td title=\"Index: [47, 23]&#10;Color: (123, 234, 123)\" style=\"width: 10px; height: 10px;background-color: rgb(123, 234, 123);\"></td><td title=\"Index: [47, 24]&#10;Color: (123, 234, 123)\" style=\"width: 10px; height: 10px;background-color: rgb(123, 234, 123);\"></td><td title=\"Index: [47, 25]&#10;Color: (123, 234, 123)\" style=\"width: 10px; height: 10px;background-color: rgb(123, 234, 123);\"></td><td title=\"Index: [47, 26]&#10;Color: (123, 234, 123)\" style=\"width: 10px; height: 10px;background-color: rgb(123, 234, 123);\"></td><td title=\"Index: [47, 27]&#10;Color: (0, 0, 0)\" style=\"width: 10px; height: 10px;background-color: rgb(0, 0, 0);\"></td><td title=\"Index: [47, 28]&#10;Color: (123, 234, 123)\" style=\"width: 10px; height: 10px;background-color: rgb(123, 234, 123);\"></td><td title=\"Index: [47, 29]&#10;Color: (123, 234, 123)\" style=\"width: 10px; height: 10px;background-color: rgb(123, 234, 123);\"></td><td title=\"Index: [47, 30]&#10;Color: (123, 234, 123)\" style=\"width: 10px; height: 10px;background-color: rgb(123, 234, 123);\"></td><td title=\"Index: [47, 31]&#10;Color: (0, 0, 0)\" style=\"width: 10px; height: 10px;background-color: rgb(0, 0, 0);\"></td><td title=\"Index: [47, 32]&#10;Color: (123, 234, 123)\" style=\"width: 10px; height: 10px;background-color: rgb(123, 234, 123);\"></td><td title=\"Index: [47, 33]&#10;Color: (0, 0, 0)\" style=\"width: 10px; height: 10px;background-color: rgb(0, 0, 0);\"></td><td title=\"Index: [47, 34]&#10;Color: (123, 234, 123)\" style=\"width: 10px; height: 10px;background-color: rgb(123, 234, 123);\"></td><td title=\"Index: [47, 35]&#10;Color: (123, 234, 123)\" style=\"width: 10px; height: 10px;background-color: rgb(123, 234, 123);\"></td><td title=\"Index: [47, 36]&#10;Color: (123, 234, 123)\" style=\"width: 10px; height: 10px;background-color: rgb(123, 234, 123);\"></td><td title=\"Index: [47, 37]&#10;Color: (123, 234, 123)\" style=\"width: 10px; height: 10px;background-color: rgb(123, 234, 123);\"></td><td title=\"Index: [47, 38]&#10;Color: (123, 234, 123)\" style=\"width: 10px; height: 10px;background-color: rgb(123, 234, 123);\"></td><td title=\"Index: [47, 39]&#10;Color: (0, 0, 0)\" style=\"width: 10px; height: 10px;background-color: rgb(0, 0, 0);\"></td><td title=\"Index: [47, 40]&#10;Color: (123, 234, 123)\" style=\"width: 10px; height: 10px;background-color: rgb(123, 234, 123);\"></td><td title=\"Index: [47, 41]&#10;Color: (123, 234, 123)\" style=\"width: 10px; height: 10px;background-color: rgb(123, 234, 123);\"></td><td title=\"Index: [47, 42]&#10;Color: (123, 234, 123)\" style=\"width: 10px; height: 10px;background-color: rgb(123, 234, 123);\"></td><td title=\"Index: [47, 43]&#10;Color: (0, 0, 0)\" style=\"width: 10px; height: 10px;background-color: rgb(0, 0, 0);\"></td><td title=\"Index: [47, 44]&#10;Color: (123, 234, 123)\" style=\"width: 10px; height: 10px;background-color: rgb(123, 234, 123);\"></td><td title=\"Index: [47, 45]&#10;Color: (123, 234, 123)\" style=\"width: 10px; height: 10px;background-color: rgb(123, 234, 123);\"></td><td title=\"Index: [47, 46]&#10;Color: (123, 234, 123)\" style=\"width: 10px; height: 10px;background-color: rgb(123, 234, 123);\"></td><td title=\"Index: [47, 47]&#10;Color: (123, 234, 123)\" style=\"width: 10px; height: 10px;background-color: rgb(123, 234, 123);\"></td><td title=\"Index: [47, 48]&#10;Color: (123, 234, 123)\" style=\"width: 10px; height: 10px;background-color: rgb(123, 234, 123);\"></td><td title=\"Index: [47, 49]&#10;Color: (0, 0, 0)\" style=\"width: 10px; height: 10px;background-color: rgb(0, 0, 0);\"></td></tr><tr><td title=\"Index: [48, 0]&#10;Color: (123, 234, 123)\" style=\"width: 10px; height: 10px;background-color: rgb(123, 234, 123);\"></td><td title=\"Index: [48, 1]&#10;Color: (123, 234, 123)\" style=\"width: 10px; height: 10px;background-color: rgb(123, 234, 123);\"></td><td title=\"Index: [48, 2]&#10;Color: (123, 234, 123)\" style=\"width: 10px; height: 10px;background-color: rgb(123, 234, 123);\"></td><td title=\"Index: [48, 3]&#10;Color: (123, 234, 123)\" style=\"width: 10px; height: 10px;background-color: rgb(123, 234, 123);\"></td><td title=\"Index: [48, 4]&#10;Color: (123, 234, 123)\" style=\"width: 10px; height: 10px;background-color: rgb(123, 234, 123);\"></td><td title=\"Index: [48, 5]&#10;Color: (123, 234, 123)\" style=\"width: 10px; height: 10px;background-color: rgb(123, 234, 123);\"></td><td title=\"Index: [48, 6]&#10;Color: (123, 234, 123)\" style=\"width: 10px; height: 10px;background-color: rgb(123, 234, 123);\"></td><td title=\"Index: [48, 7]&#10;Color: (123, 234, 123)\" style=\"width: 10px; height: 10px;background-color: rgb(123, 234, 123);\"></td><td title=\"Index: [48, 8]&#10;Color: (123, 234, 123)\" style=\"width: 10px; height: 10px;background-color: rgb(123, 234, 123);\"></td><td title=\"Index: [48, 9]&#10;Color: (123, 234, 123)\" style=\"width: 10px; height: 10px;background-color: rgb(123, 234, 123);\"></td><td title=\"Index: [48, 10]&#10;Color: (123, 234, 123)\" style=\"width: 10px; height: 10px;background-color: rgb(123, 234, 123);\"></td><td title=\"Index: [48, 11]&#10;Color: (0, 0, 0)\" style=\"width: 10px; height: 10px;background-color: rgb(0, 0, 0);\"></td><td title=\"Index: [48, 12]&#10;Color: (123, 234, 123)\" style=\"width: 10px; height: 10px;background-color: rgb(123, 234, 123);\"></td><td title=\"Index: [48, 13]&#10;Color: (123, 234, 123)\" style=\"width: 10px; height: 10px;background-color: rgb(123, 234, 123);\"></td><td title=\"Index: [48, 14]&#10;Color: (123, 234, 123)\" style=\"width: 10px; height: 10px;background-color: rgb(123, 234, 123);\"></td><td title=\"Index: [48, 15]&#10;Color: (123, 234, 123)\" style=\"width: 10px; height: 10px;background-color: rgb(123, 234, 123);\"></td><td title=\"Index: [48, 16]&#10;Color: (123, 234, 123)\" style=\"width: 10px; height: 10px;background-color: rgb(123, 234, 123);\"></td><td title=\"Index: [48, 17]&#10;Color: (0, 0, 0)\" style=\"width: 10px; height: 10px;background-color: rgb(0, 0, 0);\"></td><td title=\"Index: [48, 18]&#10;Color: (123, 234, 123)\" style=\"width: 10px; height: 10px;background-color: rgb(123, 234, 123);\"></td><td title=\"Index: [48, 19]&#10;Color: (123, 234, 123)\" style=\"width: 10px; height: 10px;background-color: rgb(123, 234, 123);\"></td><td title=\"Index: [48, 20]&#10;Color: (123, 234, 123)\" style=\"width: 10px; height: 10px;background-color: rgb(123, 234, 123);\"></td><td title=\"Index: [48, 21]&#10;Color: (123, 234, 123)\" style=\"width: 10px; height: 10px;background-color: rgb(123, 234, 123);\"></td><td title=\"Index: [48, 22]&#10;Color: (123, 234, 123)\" style=\"width: 10px; height: 10px;background-color: rgb(123, 234, 123);\"></td><td title=\"Index: [48, 23]&#10;Color: (0, 0, 0)\" style=\"width: 10px; height: 10px;background-color: rgb(0, 0, 0);\"></td><td title=\"Index: [48, 24]&#10;Color: (123, 234, 123)\" style=\"width: 10px; height: 10px;background-color: rgb(123, 234, 123);\"></td><td title=\"Index: [48, 25]&#10;Color: (123, 234, 123)\" style=\"width: 10px; height: 10px;background-color: rgb(123, 234, 123);\"></td><td title=\"Index: [48, 26]&#10;Color: (123, 234, 123)\" style=\"width: 10px; height: 10px;background-color: rgb(123, 234, 123);\"></td><td title=\"Index: [48, 27]&#10;Color: (123, 234, 123)\" style=\"width: 10px; height: 10px;background-color: rgb(123, 234, 123);\"></td><td title=\"Index: [48, 28]&#10;Color: (123, 234, 123)\" style=\"width: 10px; height: 10px;background-color: rgb(123, 234, 123);\"></td><td title=\"Index: [48, 29]&#10;Color: (123, 234, 123)\" style=\"width: 10px; height: 10px;background-color: rgb(123, 234, 123);\"></td><td title=\"Index: [48, 30]&#10;Color: (123, 234, 123)\" style=\"width: 10px; height: 10px;background-color: rgb(123, 234, 123);\"></td><td title=\"Index: [48, 31]&#10;Color: (123, 234, 123)\" style=\"width: 10px; height: 10px;background-color: rgb(123, 234, 123);\"></td><td title=\"Index: [48, 32]&#10;Color: (123, 234, 123)\" style=\"width: 10px; height: 10px;background-color: rgb(123, 234, 123);\"></td><td title=\"Index: [48, 33]&#10;Color: (123, 234, 123)\" style=\"width: 10px; height: 10px;background-color: rgb(123, 234, 123);\"></td><td title=\"Index: [48, 34]&#10;Color: (123, 234, 123)\" style=\"width: 10px; height: 10px;background-color: rgb(123, 234, 123);\"></td><td title=\"Index: [48, 35]&#10;Color: (123, 234, 123)\" style=\"width: 10px; height: 10px;background-color: rgb(123, 234, 123);\"></td><td title=\"Index: [48, 36]&#10;Color: (123, 234, 123)\" style=\"width: 10px; height: 10px;background-color: rgb(123, 234, 123);\"></td><td title=\"Index: [48, 37]&#10;Color: (0, 0, 0)\" style=\"width: 10px; height: 10px;background-color: rgb(0, 0, 0);\"></td><td title=\"Index: [48, 38]&#10;Color: (123, 234, 123)\" style=\"width: 10px; height: 10px;background-color: rgb(123, 234, 123);\"></td><td title=\"Index: [48, 39]&#10;Color: (123, 234, 123)\" style=\"width: 10px; height: 10px;background-color: rgb(123, 234, 123);\"></td><td title=\"Index: [48, 40]&#10;Color: (123, 234, 123)\" style=\"width: 10px; height: 10px;background-color: rgb(123, 234, 123);\"></td><td title=\"Index: [48, 41]&#10;Color: (0, 0, 0)\" style=\"width: 10px; height: 10px;background-color: rgb(0, 0, 0);\"></td><td title=\"Index: [48, 42]&#10;Color: (123, 234, 123)\" style=\"width: 10px; height: 10px;background-color: rgb(123, 234, 123);\"></td><td title=\"Index: [48, 43]&#10;Color: (123, 234, 123)\" style=\"width: 10px; height: 10px;background-color: rgb(123, 234, 123);\"></td><td title=\"Index: [48, 44]&#10;Color: (123, 234, 123)\" style=\"width: 10px; height: 10px;background-color: rgb(123, 234, 123);\"></td><td title=\"Index: [48, 45]&#10;Color: (123, 234, 123)\" style=\"width: 10px; height: 10px;background-color: rgb(123, 234, 123);\"></td><td title=\"Index: [48, 46]&#10;Color: (123, 234, 123)\" style=\"width: 10px; height: 10px;background-color: rgb(123, 234, 123);\"></td><td title=\"Index: [48, 47]&#10;Color: (0, 0, 0)\" style=\"width: 10px; height: 10px;background-color: rgb(0, 0, 0);\"></td><td title=\"Index: [48, 48]&#10;Color: (123, 234, 123)\" style=\"width: 10px; height: 10px;background-color: rgb(123, 234, 123);\"></td><td title=\"Index: [48, 49]&#10;Color: (123, 234, 123)\" style=\"width: 10px; height: 10px;background-color: rgb(123, 234, 123);\"></td></tr><tr><td title=\"Index: [49, 0]&#10;Color: (123, 234, 123)\" style=\"width: 10px; height: 10px;background-color: rgb(123, 234, 123);\"></td><td title=\"Index: [49, 1]&#10;Color: (123, 234, 123)\" style=\"width: 10px; height: 10px;background-color: rgb(123, 234, 123);\"></td><td title=\"Index: [49, 2]&#10;Color: (123, 234, 123)\" style=\"width: 10px; height: 10px;background-color: rgb(123, 234, 123);\"></td><td title=\"Index: [49, 3]&#10;Color: (123, 234, 123)\" style=\"width: 10px; height: 10px;background-color: rgb(123, 234, 123);\"></td><td title=\"Index: [49, 4]&#10;Color: (123, 234, 123)\" style=\"width: 10px; height: 10px;background-color: rgb(123, 234, 123);\"></td><td title=\"Index: [49, 5]&#10;Color: (123, 234, 123)\" style=\"width: 10px; height: 10px;background-color: rgb(123, 234, 123);\"></td><td title=\"Index: [49, 6]&#10;Color: (123, 234, 123)\" style=\"width: 10px; height: 10px;background-color: rgb(123, 234, 123);\"></td><td title=\"Index: [49, 7]&#10;Color: (123, 234, 123)\" style=\"width: 10px; height: 10px;background-color: rgb(123, 234, 123);\"></td><td title=\"Index: [49, 8]&#10;Color: (123, 234, 123)\" style=\"width: 10px; height: 10px;background-color: rgb(123, 234, 123);\"></td><td title=\"Index: [49, 9]&#10;Color: (0, 0, 0)\" style=\"width: 10px; height: 10px;background-color: rgb(0, 0, 0);\"></td><td title=\"Index: [49, 10]&#10;Color: (123, 234, 123)\" style=\"width: 10px; height: 10px;background-color: rgb(123, 234, 123);\"></td><td title=\"Index: [49, 11]&#10;Color: (123, 234, 123)\" style=\"width: 10px; height: 10px;background-color: rgb(123, 234, 123);\"></td><td title=\"Index: [49, 12]&#10;Color: (123, 234, 123)\" style=\"width: 10px; height: 10px;background-color: rgb(123, 234, 123);\"></td><td title=\"Index: [49, 13]&#10;Color: (123, 234, 123)\" style=\"width: 10px; height: 10px;background-color: rgb(123, 234, 123);\"></td><td title=\"Index: [49, 14]&#10;Color: (123, 234, 123)\" style=\"width: 10px; height: 10px;background-color: rgb(123, 234, 123);\"></td><td title=\"Index: [49, 15]&#10;Color: (123, 234, 123)\" style=\"width: 10px; height: 10px;background-color: rgb(123, 234, 123);\"></td><td title=\"Index: [49, 16]&#10;Color: (123, 234, 123)\" style=\"width: 10px; height: 10px;background-color: rgb(123, 234, 123);\"></td><td title=\"Index: [49, 17]&#10;Color: (0, 0, 0)\" style=\"width: 10px; height: 10px;background-color: rgb(0, 0, 0);\"></td><td title=\"Index: [49, 18]&#10;Color: (123, 234, 123)\" style=\"width: 10px; height: 10px;background-color: rgb(123, 234, 123);\"></td><td title=\"Index: [49, 19]&#10;Color: (123, 234, 123)\" style=\"width: 10px; height: 10px;background-color: rgb(123, 234, 123);\"></td><td title=\"Index: [49, 20]&#10;Color: (123, 234, 123)\" style=\"width: 10px; height: 10px;background-color: rgb(123, 234, 123);\"></td><td title=\"Index: [49, 21]&#10;Color: (123, 234, 123)\" style=\"width: 10px; height: 10px;background-color: rgb(123, 234, 123);\"></td><td title=\"Index: [49, 22]&#10;Color: (123, 234, 123)\" style=\"width: 10px; height: 10px;background-color: rgb(123, 234, 123);\"></td><td title=\"Index: [49, 23]&#10;Color: (0, 0, 0)\" style=\"width: 10px; height: 10px;background-color: rgb(0, 0, 0);\"></td><td title=\"Index: [49, 24]&#10;Color: (123, 234, 123)\" style=\"width: 10px; height: 10px;background-color: rgb(123, 234, 123);\"></td><td title=\"Index: [49, 25]&#10;Color: (123, 234, 123)\" style=\"width: 10px; height: 10px;background-color: rgb(123, 234, 123);\"></td><td title=\"Index: [49, 26]&#10;Color: (123, 234, 123)\" style=\"width: 10px; height: 10px;background-color: rgb(123, 234, 123);\"></td><td title=\"Index: [49, 27]&#10;Color: (0, 0, 0)\" style=\"width: 10px; height: 10px;background-color: rgb(0, 0, 0);\"></td><td title=\"Index: [49, 28]&#10;Color: (123, 234, 123)\" style=\"width: 10px; height: 10px;background-color: rgb(123, 234, 123);\"></td><td title=\"Index: [49, 29]&#10;Color: (123, 234, 123)\" style=\"width: 10px; height: 10px;background-color: rgb(123, 234, 123);\"></td><td title=\"Index: [49, 30]&#10;Color: (123, 234, 123)\" style=\"width: 10px; height: 10px;background-color: rgb(123, 234, 123);\"></td><td title=\"Index: [49, 31]&#10;Color: (123, 234, 123)\" style=\"width: 10px; height: 10px;background-color: rgb(123, 234, 123);\"></td><td title=\"Index: [49, 32]&#10;Color: (123, 234, 123)\" style=\"width: 10px; height: 10px;background-color: rgb(123, 234, 123);\"></td><td title=\"Index: [49, 33]&#10;Color: (123, 234, 123)\" style=\"width: 10px; height: 10px;background-color: rgb(123, 234, 123);\"></td><td title=\"Index: [49, 34]&#10;Color: (123, 234, 123)\" style=\"width: 10px; height: 10px;background-color: rgb(123, 234, 123);\"></td><td title=\"Index: [49, 35]&#10;Color: (123, 234, 123)\" style=\"width: 10px; height: 10px;background-color: rgb(123, 234, 123);\"></td><td title=\"Index: [49, 36]&#10;Color: (123, 234, 123)\" style=\"width: 10px; height: 10px;background-color: rgb(123, 234, 123);\"></td><td title=\"Index: [49, 37]&#10;Color: (123, 234, 123)\" style=\"width: 10px; height: 10px;background-color: rgb(123, 234, 123);\"></td><td title=\"Index: [49, 38]&#10;Color: (123, 234, 123)\" style=\"width: 10px; height: 10px;background-color: rgb(123, 234, 123);\"></td><td title=\"Index: [49, 39]&#10;Color: (123, 234, 123)\" style=\"width: 10px; height: 10px;background-color: rgb(123, 234, 123);\"></td><td title=\"Index: [49, 40]&#10;Color: (123, 234, 123)\" style=\"width: 10px; height: 10px;background-color: rgb(123, 234, 123);\"></td><td title=\"Index: [49, 41]&#10;Color: (123, 234, 123)\" style=\"width: 10px; height: 10px;background-color: rgb(123, 234, 123);\"></td><td title=\"Index: [49, 42]&#10;Color: (123, 234, 123)\" style=\"width: 10px; height: 10px;background-color: rgb(123, 234, 123);\"></td><td title=\"Index: [49, 43]&#10;Color: (123, 234, 123)\" style=\"width: 10px; height: 10px;background-color: rgb(123, 234, 123);\"></td><td title=\"Index: [49, 44]&#10;Color: (123, 234, 123)\" style=\"width: 10px; height: 10px;background-color: rgb(123, 234, 123);\"></td><td title=\"Index: [49, 45]&#10;Color: (123, 234, 123)\" style=\"width: 10px; height: 10px;background-color: rgb(123, 234, 123);\"></td><td title=\"Index: [49, 46]&#10;Color: (123, 234, 123)\" style=\"width: 10px; height: 10px;background-color: rgb(123, 234, 123);\"></td><td title=\"Index: [49, 47]&#10;Color: (123, 234, 123)\" style=\"width: 10px; height: 10px;background-color: rgb(123, 234, 123);\"></td><td title=\"Index: [49, 48]&#10;Color: (123, 234, 123)\" style=\"width: 10px; height: 10px;background-color: rgb(123, 234, 123);\"></td><td title=\"Index: [49, 49]&#10;Color: (123, 234, 123)\" style=\"width: 10px; height: 10px;background-color: rgb(123, 234, 123);\"></td></tr><tr><td title=\"Index: [50, 0]&#10;Color: (123, 234, 123)\" style=\"width: 10px; height: 10px;background-color: rgb(123, 234, 123);\"></td><td title=\"Index: [50, 1]&#10;Color: (123, 234, 123)\" style=\"width: 10px; height: 10px;background-color: rgb(123, 234, 123);\"></td><td title=\"Index: [50, 2]&#10;Color: (123, 234, 123)\" style=\"width: 10px; height: 10px;background-color: rgb(123, 234, 123);\"></td><td title=\"Index: [50, 3]&#10;Color: (0, 0, 0)\" style=\"width: 10px; height: 10px;background-color: rgb(0, 0, 0);\"></td><td title=\"Index: [50, 4]&#10;Color: (123, 234, 123)\" style=\"width: 10px; height: 10px;background-color: rgb(123, 234, 123);\"></td><td title=\"Index: [50, 5]&#10;Color: (123, 234, 123)\" style=\"width: 10px; height: 10px;background-color: rgb(123, 234, 123);\"></td><td title=\"Index: [50, 6]&#10;Color: (123, 234, 123)\" style=\"width: 10px; height: 10px;background-color: rgb(123, 234, 123);\"></td><td title=\"Index: [50, 7]&#10;Color: (123, 234, 123)\" style=\"width: 10px; height: 10px;background-color: rgb(123, 234, 123);\"></td><td title=\"Index: [50, 8]&#10;Color: (123, 234, 123)\" style=\"width: 10px; height: 10px;background-color: rgb(123, 234, 123);\"></td><td title=\"Index: [50, 9]&#10;Color: (123, 234, 123)\" style=\"width: 10px; height: 10px;background-color: rgb(123, 234, 123);\"></td><td title=\"Index: [50, 10]&#10;Color: (123, 234, 123)\" style=\"width: 10px; height: 10px;background-color: rgb(123, 234, 123);\"></td><td title=\"Index: [50, 11]&#10;Color: (123, 234, 123)\" style=\"width: 10px; height: 10px;background-color: rgb(123, 234, 123);\"></td><td title=\"Index: [50, 12]&#10;Color: (123, 234, 123)\" style=\"width: 10px; height: 10px;background-color: rgb(123, 234, 123);\"></td><td title=\"Index: [50, 13]&#10;Color: (123, 234, 123)\" style=\"width: 10px; height: 10px;background-color: rgb(123, 234, 123);\"></td><td title=\"Index: [50, 14]&#10;Color: (123, 234, 123)\" style=\"width: 10px; height: 10px;background-color: rgb(123, 234, 123);\"></td><td title=\"Index: [50, 15]&#10;Color: (123, 234, 123)\" style=\"width: 10px; height: 10px;background-color: rgb(123, 234, 123);\"></td><td title=\"Index: [50, 16]&#10;Color: (123, 234, 123)\" style=\"width: 10px; height: 10px;background-color: rgb(123, 234, 123);\"></td><td title=\"Index: [50, 17]&#10;Color: (123, 234, 123)\" style=\"width: 10px; height: 10px;background-color: rgb(123, 234, 123);\"></td><td title=\"Index: [50, 18]&#10;Color: (123, 234, 123)\" style=\"width: 10px; height: 10px;background-color: rgb(123, 234, 123);\"></td><td title=\"Index: [50, 19]&#10;Color: (123, 234, 123)\" style=\"width: 10px; height: 10px;background-color: rgb(123, 234, 123);\"></td><td title=\"Index: [50, 20]&#10;Color: (123, 234, 123)\" style=\"width: 10px; height: 10px;background-color: rgb(123, 234, 123);\"></td><td title=\"Index: [50, 21]&#10;Color: (0, 0, 0)\" style=\"width: 10px; height: 10px;background-color: rgb(0, 0, 0);\"></td><td title=\"Index: [50, 22]&#10;Color: (123, 234, 123)\" style=\"width: 10px; height: 10px;background-color: rgb(123, 234, 123);\"></td><td title=\"Index: [50, 23]&#10;Color: (123, 234, 123)\" style=\"width: 10px; height: 10px;background-color: rgb(123, 234, 123);\"></td><td title=\"Index: [50, 24]&#10;Color: (123, 234, 123)\" style=\"width: 10px; height: 10px;background-color: rgb(123, 234, 123);\"></td><td title=\"Index: [50, 25]&#10;Color: (123, 234, 123)\" style=\"width: 10px; height: 10px;background-color: rgb(123, 234, 123);\"></td><td title=\"Index: [50, 26]&#10;Color: (123, 234, 123)\" style=\"width: 10px; height: 10px;background-color: rgb(123, 234, 123);\"></td><td title=\"Index: [50, 27]&#10;Color: (123, 234, 123)\" style=\"width: 10px; height: 10px;background-color: rgb(123, 234, 123);\"></td><td title=\"Index: [50, 28]&#10;Color: (123, 234, 123)\" style=\"width: 10px; height: 10px;background-color: rgb(123, 234, 123);\"></td><td title=\"Index: [50, 29]&#10;Color: (123, 234, 123)\" style=\"width: 10px; height: 10px;background-color: rgb(123, 234, 123);\"></td><td title=\"Index: [50, 30]&#10;Color: (123, 234, 123)\" style=\"width: 10px; height: 10px;background-color: rgb(123, 234, 123);\"></td><td title=\"Index: [50, 31]&#10;Color: (0, 0, 0)\" style=\"width: 10px; height: 10px;background-color: rgb(0, 0, 0);\"></td><td title=\"Index: [50, 32]&#10;Color: (123, 234, 123)\" style=\"width: 10px; height: 10px;background-color: rgb(123, 234, 123);\"></td><td title=\"Index: [50, 33]&#10;Color: (123, 234, 123)\" style=\"width: 10px; height: 10px;background-color: rgb(123, 234, 123);\"></td><td title=\"Index: [50, 34]&#10;Color: (123, 234, 123)\" style=\"width: 10px; height: 10px;background-color: rgb(123, 234, 123);\"></td><td title=\"Index: [50, 35]&#10;Color: (123, 234, 123)\" style=\"width: 10px; height: 10px;background-color: rgb(123, 234, 123);\"></td><td title=\"Index: [50, 36]&#10;Color: (123, 234, 123)\" style=\"width: 10px; height: 10px;background-color: rgb(123, 234, 123);\"></td><td title=\"Index: [50, 37]&#10;Color: (123, 234, 123)\" style=\"width: 10px; height: 10px;background-color: rgb(123, 234, 123);\"></td><td title=\"Index: [50, 38]&#10;Color: (123, 234, 123)\" style=\"width: 10px; height: 10px;background-color: rgb(123, 234, 123);\"></td><td title=\"Index: [50, 39]&#10;Color: (0, 0, 0)\" style=\"width: 10px; height: 10px;background-color: rgb(0, 0, 0);\"></td><td title=\"Index: [50, 40]&#10;Color: (123, 234, 123)\" style=\"width: 10px; height: 10px;background-color: rgb(123, 234, 123);\"></td><td title=\"Index: [50, 41]&#10;Color: (123, 234, 123)\" style=\"width: 10px; height: 10px;background-color: rgb(123, 234, 123);\"></td><td title=\"Index: [50, 42]&#10;Color: (123, 234, 123)\" style=\"width: 10px; height: 10px;background-color: rgb(123, 234, 123);\"></td><td title=\"Index: [50, 43]&#10;Color: (0, 0, 0)\" style=\"width: 10px; height: 10px;background-color: rgb(0, 0, 0);\"></td><td title=\"Index: [50, 44]&#10;Color: (123, 234, 123)\" style=\"width: 10px; height: 10px;background-color: rgb(123, 234, 123);\"></td><td title=\"Index: [50, 45]&#10;Color: (123, 234, 123)\" style=\"width: 10px; height: 10px;background-color: rgb(123, 234, 123);\"></td><td title=\"Index: [50, 46]&#10;Color: (123, 234, 123)\" style=\"width: 10px; height: 10px;background-color: rgb(123, 234, 123);\"></td><td title=\"Index: [50, 47]&#10;Color: (123, 234, 123)\" style=\"width: 10px; height: 10px;background-color: rgb(123, 234, 123);\"></td><td title=\"Index: [50, 48]&#10;Color: (123, 234, 123)\" style=\"width: 10px; height: 10px;background-color: rgb(123, 234, 123);\"></td><td title=\"Index: [50, 49]&#10;Color: (0, 0, 0)\" style=\"width: 10px; height: 10px;background-color: rgb(0, 0, 0);\"></td></tr><tr><td title=\"Index: [51, 0]&#10;Color: (123, 234, 123)\" style=\"width: 10px; height: 10px;background-color: rgb(123, 234, 123);\"></td><td title=\"Index: [51, 1]&#10;Color: (0, 0, 0)\" style=\"width: 10px; height: 10px;background-color: rgb(0, 0, 0);\"></td><td title=\"Index: [51, 2]&#10;Color: (123, 234, 123)\" style=\"width: 10px; height: 10px;background-color: rgb(123, 234, 123);\"></td><td title=\"Index: [51, 3]&#10;Color: (123, 234, 123)\" style=\"width: 10px; height: 10px;background-color: rgb(123, 234, 123);\"></td><td title=\"Index: [51, 4]&#10;Color: (123, 234, 123)\" style=\"width: 10px; height: 10px;background-color: rgb(123, 234, 123);\"></td><td title=\"Index: [51, 5]&#10;Color: (123, 234, 123)\" style=\"width: 10px; height: 10px;background-color: rgb(123, 234, 123);\"></td><td title=\"Index: [51, 6]&#10;Color: (123, 234, 123)\" style=\"width: 10px; height: 10px;background-color: rgb(123, 234, 123);\"></td><td title=\"Index: [51, 7]&#10;Color: (0, 0, 0)\" style=\"width: 10px; height: 10px;background-color: rgb(0, 0, 0);\"></td><td title=\"Index: [51, 8]&#10;Color: (123, 234, 123)\" style=\"width: 10px; height: 10px;background-color: rgb(123, 234, 123);\"></td><td title=\"Index: [51, 9]&#10;Color: (123, 234, 123)\" style=\"width: 10px; height: 10px;background-color: rgb(123, 234, 123);\"></td><td title=\"Index: [51, 10]&#10;Color: (123, 234, 123)\" style=\"width: 10px; height: 10px;background-color: rgb(123, 234, 123);\"></td><td title=\"Index: [51, 11]&#10;Color: (123, 234, 123)\" style=\"width: 10px; height: 10px;background-color: rgb(123, 234, 123);\"></td><td title=\"Index: [51, 12]&#10;Color: (123, 234, 123)\" style=\"width: 10px; height: 10px;background-color: rgb(123, 234, 123);\"></td><td title=\"Index: [51, 13]&#10;Color: (123, 234, 123)\" style=\"width: 10px; height: 10px;background-color: rgb(123, 234, 123);\"></td><td title=\"Index: [51, 14]&#10;Color: (123, 234, 123)\" style=\"width: 10px; height: 10px;background-color: rgb(123, 234, 123);\"></td><td title=\"Index: [51, 15]&#10;Color: (123, 234, 123)\" style=\"width: 10px; height: 10px;background-color: rgb(123, 234, 123);\"></td><td title=\"Index: [51, 16]&#10;Color: (123, 234, 123)\" style=\"width: 10px; height: 10px;background-color: rgb(123, 234, 123);\"></td><td title=\"Index: [51, 17]&#10;Color: (123, 234, 123)\" style=\"width: 10px; height: 10px;background-color: rgb(123, 234, 123);\"></td><td title=\"Index: [51, 18]&#10;Color: (123, 234, 123)\" style=\"width: 10px; height: 10px;background-color: rgb(123, 234, 123);\"></td><td title=\"Index: [51, 19]&#10;Color: (123, 234, 123)\" style=\"width: 10px; height: 10px;background-color: rgb(123, 234, 123);\"></td><td title=\"Index: [51, 20]&#10;Color: (123, 234, 123)\" style=\"width: 10px; height: 10px;background-color: rgb(123, 234, 123);\"></td><td title=\"Index: [51, 21]&#10;Color: (123, 234, 123)\" style=\"width: 10px; height: 10px;background-color: rgb(123, 234, 123);\"></td><td title=\"Index: [51, 22]&#10;Color: (123, 234, 123)\" style=\"width: 10px; height: 10px;background-color: rgb(123, 234, 123);\"></td><td title=\"Index: [51, 23]&#10;Color: (123, 234, 123)\" style=\"width: 10px; height: 10px;background-color: rgb(123, 234, 123);\"></td><td title=\"Index: [51, 24]&#10;Color: (123, 234, 123)\" style=\"width: 10px; height: 10px;background-color: rgb(123, 234, 123);\"></td><td title=\"Index: [51, 25]&#10;Color: (123, 234, 123)\" style=\"width: 10px; height: 10px;background-color: rgb(123, 234, 123);\"></td><td title=\"Index: [51, 26]&#10;Color: (123, 234, 123)\" style=\"width: 10px; height: 10px;background-color: rgb(123, 234, 123);\"></td><td title=\"Index: [51, 27]&#10;Color: (123, 234, 123)\" style=\"width: 10px; height: 10px;background-color: rgb(123, 234, 123);\"></td><td title=\"Index: [51, 28]&#10;Color: (123, 234, 123)\" style=\"width: 10px; height: 10px;background-color: rgb(123, 234, 123);\"></td><td title=\"Index: [51, 29]&#10;Color: (0, 0, 0)\" style=\"width: 10px; height: 10px;background-color: rgb(0, 0, 0);\"></td><td title=\"Index: [51, 30]&#10;Color: (123, 234, 123)\" style=\"width: 10px; height: 10px;background-color: rgb(123, 234, 123);\"></td><td title=\"Index: [51, 31]&#10;Color: (123, 234, 123)\" style=\"width: 10px; height: 10px;background-color: rgb(123, 234, 123);\"></td><td title=\"Index: [51, 32]&#10;Color: (123, 234, 123)\" style=\"width: 10px; height: 10px;background-color: rgb(123, 234, 123);\"></td><td title=\"Index: [51, 33]&#10;Color: (123, 234, 123)\" style=\"width: 10px; height: 10px;background-color: rgb(123, 234, 123);\"></td><td title=\"Index: [51, 34]&#10;Color: (123, 234, 123)\" style=\"width: 10px; height: 10px;background-color: rgb(123, 234, 123);\"></td><td title=\"Index: [51, 35]&#10;Color: (123, 234, 123)\" style=\"width: 10px; height: 10px;background-color: rgb(123, 234, 123);\"></td><td title=\"Index: [51, 36]&#10;Color: (123, 234, 123)\" style=\"width: 10px; height: 10px;background-color: rgb(123, 234, 123);\"></td><td title=\"Index: [51, 37]&#10;Color: (123, 234, 123)\" style=\"width: 10px; height: 10px;background-color: rgb(123, 234, 123);\"></td><td title=\"Index: [51, 38]&#10;Color: (123, 234, 123)\" style=\"width: 10px; height: 10px;background-color: rgb(123, 234, 123);\"></td><td title=\"Index: [51, 39]&#10;Color: (123, 234, 123)\" style=\"width: 10px; height: 10px;background-color: rgb(123, 234, 123);\"></td><td title=\"Index: [51, 40]&#10;Color: (123, 234, 123)\" style=\"width: 10px; height: 10px;background-color: rgb(123, 234, 123);\"></td><td title=\"Index: [51, 41]&#10;Color: (0, 0, 0)\" style=\"width: 10px; height: 10px;background-color: rgb(0, 0, 0);\"></td><td title=\"Index: [51, 42]&#10;Color: (123, 234, 123)\" style=\"width: 10px; height: 10px;background-color: rgb(123, 234, 123);\"></td><td title=\"Index: [51, 43]&#10;Color: (0, 0, 0)\" style=\"width: 10px; height: 10px;background-color: rgb(0, 0, 0);\"></td><td title=\"Index: [51, 44]&#10;Color: (123, 234, 123)\" style=\"width: 10px; height: 10px;background-color: rgb(123, 234, 123);\"></td><td title=\"Index: [51, 45]&#10;Color: (123, 234, 123)\" style=\"width: 10px; height: 10px;background-color: rgb(123, 234, 123);\"></td><td title=\"Index: [51, 46]&#10;Color: (123, 234, 123)\" style=\"width: 10px; height: 10px;background-color: rgb(123, 234, 123);\"></td><td title=\"Index: [51, 47]&#10;Color: (123, 234, 123)\" style=\"width: 10px; height: 10px;background-color: rgb(123, 234, 123);\"></td><td title=\"Index: [51, 48]&#10;Color: (123, 234, 123)\" style=\"width: 10px; height: 10px;background-color: rgb(123, 234, 123);\"></td><td title=\"Index: [51, 49]&#10;Color: (123, 234, 123)\" style=\"width: 10px; height: 10px;background-color: rgb(123, 234, 123);\"></td></tr><tr><td title=\"Index: [52, 0]&#10;Color: (123, 234, 123)\" style=\"width: 10px; height: 10px;background-color: rgb(123, 234, 123);\"></td><td title=\"Index: [52, 1]&#10;Color: (123, 234, 123)\" style=\"width: 10px; height: 10px;background-color: rgb(123, 234, 123);\"></td><td title=\"Index: [52, 2]&#10;Color: (123, 234, 123)\" style=\"width: 10px; height: 10px;background-color: rgb(123, 234, 123);\"></td><td title=\"Index: [52, 3]&#10;Color: (123, 234, 123)\" style=\"width: 10px; height: 10px;background-color: rgb(123, 234, 123);\"></td><td title=\"Index: [52, 4]&#10;Color: (123, 234, 123)\" style=\"width: 10px; height: 10px;background-color: rgb(123, 234, 123);\"></td><td title=\"Index: [52, 5]&#10;Color: (123, 234, 123)\" style=\"width: 10px; height: 10px;background-color: rgb(123, 234, 123);\"></td><td title=\"Index: [52, 6]&#10;Color: (123, 234, 123)\" style=\"width: 10px; height: 10px;background-color: rgb(123, 234, 123);\"></td><td title=\"Index: [52, 7]&#10;Color: (123, 234, 123)\" style=\"width: 10px; height: 10px;background-color: rgb(123, 234, 123);\"></td><td title=\"Index: [52, 8]&#10;Color: (123, 234, 123)\" style=\"width: 10px; height: 10px;background-color: rgb(123, 234, 123);\"></td><td title=\"Index: [52, 9]&#10;Color: (0, 0, 0)\" style=\"width: 10px; height: 10px;background-color: rgb(0, 0, 0);\"></td><td title=\"Index: [52, 10]&#10;Color: (123, 234, 123)\" style=\"width: 10px; height: 10px;background-color: rgb(123, 234, 123);\"></td><td title=\"Index: [52, 11]&#10;Color: (123, 234, 123)\" style=\"width: 10px; height: 10px;background-color: rgb(123, 234, 123);\"></td><td title=\"Index: [52, 12]&#10;Color: (123, 234, 123)\" style=\"width: 10px; height: 10px;background-color: rgb(123, 234, 123);\"></td><td title=\"Index: [52, 13]&#10;Color: (123, 234, 123)\" style=\"width: 10px; height: 10px;background-color: rgb(123, 234, 123);\"></td><td title=\"Index: [52, 14]&#10;Color: (123, 234, 123)\" style=\"width: 10px; height: 10px;background-color: rgb(123, 234, 123);\"></td><td title=\"Index: [52, 15]&#10;Color: (123, 234, 123)\" style=\"width: 10px; height: 10px;background-color: rgb(123, 234, 123);\"></td><td title=\"Index: [52, 16]&#10;Color: (123, 234, 123)\" style=\"width: 10px; height: 10px;background-color: rgb(123, 234, 123);\"></td><td title=\"Index: [52, 17]&#10;Color: (0, 0, 0)\" style=\"width: 10px; height: 10px;background-color: rgb(0, 0, 0);\"></td><td title=\"Index: [52, 18]&#10;Color: (123, 234, 123)\" style=\"width: 10px; height: 10px;background-color: rgb(123, 234, 123);\"></td><td title=\"Index: [52, 19]&#10;Color: (123, 234, 123)\" style=\"width: 10px; height: 10px;background-color: rgb(123, 234, 123);\"></td><td title=\"Index: [52, 20]&#10;Color: (123, 234, 123)\" style=\"width: 10px; height: 10px;background-color: rgb(123, 234, 123);\"></td><td title=\"Index: [52, 21]&#10;Color: (0, 0, 0)\" style=\"width: 10px; height: 10px;background-color: rgb(0, 0, 0);\"></td><td title=\"Index: [52, 22]&#10;Color: (123, 234, 123)\" style=\"width: 10px; height: 10px;background-color: rgb(123, 234, 123);\"></td><td title=\"Index: [52, 23]&#10;Color: (123, 234, 123)\" style=\"width: 10px; height: 10px;background-color: rgb(123, 234, 123);\"></td><td title=\"Index: [52, 24]&#10;Color: (123, 234, 123)\" style=\"width: 10px; height: 10px;background-color: rgb(123, 234, 123);\"></td><td title=\"Index: [52, 25]&#10;Color: (123, 234, 123)\" style=\"width: 10px; height: 10px;background-color: rgb(123, 234, 123);\"></td><td title=\"Index: [52, 26]&#10;Color: (123, 234, 123)\" style=\"width: 10px; height: 10px;background-color: rgb(123, 234, 123);\"></td><td title=\"Index: [52, 27]&#10;Color: (123, 234, 123)\" style=\"width: 10px; height: 10px;background-color: rgb(123, 234, 123);\"></td><td title=\"Index: [52, 28]&#10;Color: (123, 234, 123)\" style=\"width: 10px; height: 10px;background-color: rgb(123, 234, 123);\"></td><td title=\"Index: [52, 29]&#10;Color: (123, 234, 123)\" style=\"width: 10px; height: 10px;background-color: rgb(123, 234, 123);\"></td><td title=\"Index: [52, 30]&#10;Color: (123, 234, 123)\" style=\"width: 10px; height: 10px;background-color: rgb(123, 234, 123);\"></td><td title=\"Index: [52, 31]&#10;Color: (123, 234, 123)\" style=\"width: 10px; height: 10px;background-color: rgb(123, 234, 123);\"></td><td title=\"Index: [52, 32]&#10;Color: (123, 234, 123)\" style=\"width: 10px; height: 10px;background-color: rgb(123, 234, 123);\"></td><td title=\"Index: [52, 33]&#10;Color: (0, 0, 0)\" style=\"width: 10px; height: 10px;background-color: rgb(0, 0, 0);\"></td><td title=\"Index: [52, 34]&#10;Color: (123, 234, 123)\" style=\"width: 10px; height: 10px;background-color: rgb(123, 234, 123);\"></td><td title=\"Index: [52, 35]&#10;Color: (123, 234, 123)\" style=\"width: 10px; height: 10px;background-color: rgb(123, 234, 123);\"></td><td title=\"Index: [52, 36]&#10;Color: (123, 234, 123)\" style=\"width: 10px; height: 10px;background-color: rgb(123, 234, 123);\"></td><td title=\"Index: [52, 37]&#10;Color: (123, 234, 123)\" style=\"width: 10px; height: 10px;background-color: rgb(123, 234, 123);\"></td><td title=\"Index: [52, 38]&#10;Color: (123, 234, 123)\" style=\"width: 10px; height: 10px;background-color: rgb(123, 234, 123);\"></td><td title=\"Index: [52, 39]&#10;Color: (123, 234, 123)\" style=\"width: 10px; height: 10px;background-color: rgb(123, 234, 123);\"></td><td title=\"Index: [52, 40]&#10;Color: (123, 234, 123)\" style=\"width: 10px; height: 10px;background-color: rgb(123, 234, 123);\"></td><td title=\"Index: [52, 41]&#10;Color: (123, 234, 123)\" style=\"width: 10px; height: 10px;background-color: rgb(123, 234, 123);\"></td><td title=\"Index: [52, 42]&#10;Color: (123, 234, 123)\" style=\"width: 10px; height: 10px;background-color: rgb(123, 234, 123);\"></td><td title=\"Index: [52, 43]&#10;Color: (123, 234, 123)\" style=\"width: 10px; height: 10px;background-color: rgb(123, 234, 123);\"></td><td title=\"Index: [52, 44]&#10;Color: (123, 234, 123)\" style=\"width: 10px; height: 10px;background-color: rgb(123, 234, 123);\"></td><td title=\"Index: [52, 45]&#10;Color: (123, 234, 123)\" style=\"width: 10px; height: 10px;background-color: rgb(123, 234, 123);\"></td><td title=\"Index: [52, 46]&#10;Color: (123, 234, 123)\" style=\"width: 10px; height: 10px;background-color: rgb(123, 234, 123);\"></td><td title=\"Index: [52, 47]&#10;Color: (0, 0, 0)\" style=\"width: 10px; height: 10px;background-color: rgb(0, 0, 0);\"></td><td title=\"Index: [52, 48]&#10;Color: (123, 234, 123)\" style=\"width: 10px; height: 10px;background-color: rgb(123, 234, 123);\"></td><td title=\"Index: [52, 49]&#10;Color: (123, 234, 123)\" style=\"width: 10px; height: 10px;background-color: rgb(123, 234, 123);\"></td></tr><tr><td title=\"Index: [53, 0]&#10;Color: (123, 234, 123)\" style=\"width: 10px; height: 10px;background-color: rgb(123, 234, 123);\"></td><td title=\"Index: [53, 1]&#10;Color: (123, 234, 123)\" style=\"width: 10px; height: 10px;background-color: rgb(123, 234, 123);\"></td><td title=\"Index: [53, 2]&#10;Color: (123, 234, 123)\" style=\"width: 10px; height: 10px;background-color: rgb(123, 234, 123);\"></td><td title=\"Index: [53, 3]&#10;Color: (123, 234, 123)\" style=\"width: 10px; height: 10px;background-color: rgb(123, 234, 123);\"></td><td title=\"Index: [53, 4]&#10;Color: (123, 234, 123)\" style=\"width: 10px; height: 10px;background-color: rgb(123, 234, 123);\"></td><td title=\"Index: [53, 5]&#10;Color: (123, 234, 123)\" style=\"width: 10px; height: 10px;background-color: rgb(123, 234, 123);\"></td><td title=\"Index: [53, 6]&#10;Color: (123, 234, 123)\" style=\"width: 10px; height: 10px;background-color: rgb(123, 234, 123);\"></td><td title=\"Index: [53, 7]&#10;Color: (0, 0, 0)\" style=\"width: 10px; height: 10px;background-color: rgb(0, 0, 0);\"></td><td title=\"Index: [53, 8]&#10;Color: (123, 234, 123)\" style=\"width: 10px; height: 10px;background-color: rgb(123, 234, 123);\"></td><td title=\"Index: [53, 9]&#10;Color: (0, 0, 0)\" style=\"width: 10px; height: 10px;background-color: rgb(0, 0, 0);\"></td><td title=\"Index: [53, 10]&#10;Color: (123, 234, 123)\" style=\"width: 10px; height: 10px;background-color: rgb(123, 234, 123);\"></td><td title=\"Index: [53, 11]&#10;Color: (123, 234, 123)\" style=\"width: 10px; height: 10px;background-color: rgb(123, 234, 123);\"></td><td title=\"Index: [53, 12]&#10;Color: (123, 234, 123)\" style=\"width: 10px; height: 10px;background-color: rgb(123, 234, 123);\"></td><td title=\"Index: [53, 13]&#10;Color: (0, 0, 0)\" style=\"width: 10px; height: 10px;background-color: rgb(0, 0, 0);\"></td><td title=\"Index: [53, 14]&#10;Color: (123, 234, 123)\" style=\"width: 10px; height: 10px;background-color: rgb(123, 234, 123);\"></td><td title=\"Index: [53, 15]&#10;Color: (123, 234, 123)\" style=\"width: 10px; height: 10px;background-color: rgb(123, 234, 123);\"></td><td title=\"Index: [53, 16]&#10;Color: (123, 234, 123)\" style=\"width: 10px; height: 10px;background-color: rgb(123, 234, 123);\"></td><td title=\"Index: [53, 17]&#10;Color: (123, 234, 123)\" style=\"width: 10px; height: 10px;background-color: rgb(123, 234, 123);\"></td><td title=\"Index: [53, 18]&#10;Color: (123, 234, 123)\" style=\"width: 10px; height: 10px;background-color: rgb(123, 234, 123);\"></td><td title=\"Index: [53, 19]&#10;Color: (123, 234, 123)\" style=\"width: 10px; height: 10px;background-color: rgb(123, 234, 123);\"></td><td title=\"Index: [53, 20]&#10;Color: (123, 234, 123)\" style=\"width: 10px; height: 10px;background-color: rgb(123, 234, 123);\"></td><td title=\"Index: [53, 21]&#10;Color: (0, 0, 0)\" style=\"width: 10px; height: 10px;background-color: rgb(0, 0, 0);\"></td><td title=\"Index: [53, 22]&#10;Color: (123, 234, 123)\" style=\"width: 10px; height: 10px;background-color: rgb(123, 234, 123);\"></td><td title=\"Index: [53, 23]&#10;Color: (123, 234, 123)\" style=\"width: 10px; height: 10px;background-color: rgb(123, 234, 123);\"></td><td title=\"Index: [53, 24]&#10;Color: (123, 234, 123)\" style=\"width: 10px; height: 10px;background-color: rgb(123, 234, 123);\"></td><td title=\"Index: [53, 25]&#10;Color: (123, 234, 123)\" style=\"width: 10px; height: 10px;background-color: rgb(123, 234, 123);\"></td><td title=\"Index: [53, 26]&#10;Color: (123, 234, 123)\" style=\"width: 10px; height: 10px;background-color: rgb(123, 234, 123);\"></td><td title=\"Index: [53, 27]&#10;Color: (0, 0, 0)\" style=\"width: 10px; height: 10px;background-color: rgb(0, 0, 0);\"></td><td title=\"Index: [53, 28]&#10;Color: (123, 234, 123)\" style=\"width: 10px; height: 10px;background-color: rgb(123, 234, 123);\"></td><td title=\"Index: [53, 29]&#10;Color: (123, 234, 123)\" style=\"width: 10px; height: 10px;background-color: rgb(123, 234, 123);\"></td><td title=\"Index: [53, 30]&#10;Color: (123, 234, 123)\" style=\"width: 10px; height: 10px;background-color: rgb(123, 234, 123);\"></td><td title=\"Index: [53, 31]&#10;Color: (123, 234, 123)\" style=\"width: 10px; height: 10px;background-color: rgb(123, 234, 123);\"></td><td title=\"Index: [53, 32]&#10;Color: (123, 234, 123)\" style=\"width: 10px; height: 10px;background-color: rgb(123, 234, 123);\"></td><td title=\"Index: [53, 33]&#10;Color: (0, 0, 0)\" style=\"width: 10px; height: 10px;background-color: rgb(0, 0, 0);\"></td><td title=\"Index: [53, 34]&#10;Color: (123, 234, 123)\" style=\"width: 10px; height: 10px;background-color: rgb(123, 234, 123);\"></td><td title=\"Index: [53, 35]&#10;Color: (123, 234, 123)\" style=\"width: 10px; height: 10px;background-color: rgb(123, 234, 123);\"></td><td title=\"Index: [53, 36]&#10;Color: (123, 234, 123)\" style=\"width: 10px; height: 10px;background-color: rgb(123, 234, 123);\"></td><td title=\"Index: [53, 37]&#10;Color: (0, 0, 0)\" style=\"width: 10px; height: 10px;background-color: rgb(0, 0, 0);\"></td><td title=\"Index: [53, 38]&#10;Color: (123, 234, 123)\" style=\"width: 10px; height: 10px;background-color: rgb(123, 234, 123);\"></td><td title=\"Index: [53, 39]&#10;Color: (0, 0, 0)\" style=\"width: 10px; height: 10px;background-color: rgb(0, 0, 0);\"></td><td title=\"Index: [53, 40]&#10;Color: (123, 234, 123)\" style=\"width: 10px; height: 10px;background-color: rgb(123, 234, 123);\"></td><td title=\"Index: [53, 41]&#10;Color: (123, 234, 123)\" style=\"width: 10px; height: 10px;background-color: rgb(123, 234, 123);\"></td><td title=\"Index: [53, 42]&#10;Color: (123, 234, 123)\" style=\"width: 10px; height: 10px;background-color: rgb(123, 234, 123);\"></td><td title=\"Index: [53, 43]&#10;Color: (0, 0, 0)\" style=\"width: 10px; height: 10px;background-color: rgb(0, 0, 0);\"></td><td title=\"Index: [53, 44]&#10;Color: (123, 234, 123)\" style=\"width: 10px; height: 10px;background-color: rgb(123, 234, 123);\"></td><td title=\"Index: [53, 45]&#10;Color: (123, 234, 123)\" style=\"width: 10px; height: 10px;background-color: rgb(123, 234, 123);\"></td><td title=\"Index: [53, 46]&#10;Color: (123, 234, 123)\" style=\"width: 10px; height: 10px;background-color: rgb(123, 234, 123);\"></td><td title=\"Index: [53, 47]&#10;Color: (123, 234, 123)\" style=\"width: 10px; height: 10px;background-color: rgb(123, 234, 123);\"></td><td title=\"Index: [53, 48]&#10;Color: (123, 234, 123)\" style=\"width: 10px; height: 10px;background-color: rgb(123, 234, 123);\"></td><td title=\"Index: [53, 49]&#10;Color: (0, 0, 0)\" style=\"width: 10px; height: 10px;background-color: rgb(0, 0, 0);\"></td></tr><tr><td title=\"Index: [54, 0]&#10;Color: (123, 234, 123)\" style=\"width: 10px; height: 10px;background-color: rgb(123, 234, 123);\"></td><td title=\"Index: [54, 1]&#10;Color: (123, 234, 123)\" style=\"width: 10px; height: 10px;background-color: rgb(123, 234, 123);\"></td><td title=\"Index: [54, 2]&#10;Color: (123, 234, 123)\" style=\"width: 10px; height: 10px;background-color: rgb(123, 234, 123);\"></td><td title=\"Index: [54, 3]&#10;Color: (123, 234, 123)\" style=\"width: 10px; height: 10px;background-color: rgb(123, 234, 123);\"></td><td title=\"Index: [54, 4]&#10;Color: (123, 234, 123)\" style=\"width: 10px; height: 10px;background-color: rgb(123, 234, 123);\"></td><td title=\"Index: [54, 5]&#10;Color: (123, 234, 123)\" style=\"width: 10px; height: 10px;background-color: rgb(123, 234, 123);\"></td><td title=\"Index: [54, 6]&#10;Color: (123, 234, 123)\" style=\"width: 10px; height: 10px;background-color: rgb(123, 234, 123);\"></td><td title=\"Index: [54, 7]&#10;Color: (0, 0, 0)\" style=\"width: 10px; height: 10px;background-color: rgb(0, 0, 0);\"></td><td title=\"Index: [54, 8]&#10;Color: (123, 234, 123)\" style=\"width: 10px; height: 10px;background-color: rgb(123, 234, 123);\"></td><td title=\"Index: [54, 9]&#10;Color: (123, 234, 123)\" style=\"width: 10px; height: 10px;background-color: rgb(123, 234, 123);\"></td><td title=\"Index: [54, 10]&#10;Color: (123, 234, 123)\" style=\"width: 10px; height: 10px;background-color: rgb(123, 234, 123);\"></td><td title=\"Index: [54, 11]&#10;Color: (0, 0, 0)\" style=\"width: 10px; height: 10px;background-color: rgb(0, 0, 0);\"></td><td title=\"Index: [54, 12]&#10;Color: (123, 234, 123)\" style=\"width: 10px; height: 10px;background-color: rgb(123, 234, 123);\"></td><td title=\"Index: [54, 13]&#10;Color: (0, 0, 0)\" style=\"width: 10px; height: 10px;background-color: rgb(0, 0, 0);\"></td><td title=\"Index: [54, 14]&#10;Color: (123, 234, 123)\" style=\"width: 10px; height: 10px;background-color: rgb(123, 234, 123);\"></td><td title=\"Index: [54, 15]&#10;Color: (123, 234, 123)\" style=\"width: 10px; height: 10px;background-color: rgb(123, 234, 123);\"></td><td title=\"Index: [54, 16]&#10;Color: (123, 234, 123)\" style=\"width: 10px; height: 10px;background-color: rgb(123, 234, 123);\"></td><td title=\"Index: [54, 17]&#10;Color: (123, 234, 123)\" style=\"width: 10px; height: 10px;background-color: rgb(123, 234, 123);\"></td><td title=\"Index: [54, 18]&#10;Color: (123, 234, 123)\" style=\"width: 10px; height: 10px;background-color: rgb(123, 234, 123);\"></td><td title=\"Index: [54, 19]&#10;Color: (0, 0, 0)\" style=\"width: 10px; height: 10px;background-color: rgb(0, 0, 0);\"></td><td title=\"Index: [54, 20]&#10;Color: (123, 234, 123)\" style=\"width: 10px; height: 10px;background-color: rgb(123, 234, 123);\"></td><td title=\"Index: [54, 21]&#10;Color: (123, 234, 123)\" style=\"width: 10px; height: 10px;background-color: rgb(123, 234, 123);\"></td><td title=\"Index: [54, 22]&#10;Color: (123, 234, 123)\" style=\"width: 10px; height: 10px;background-color: rgb(123, 234, 123);\"></td><td title=\"Index: [54, 23]&#10;Color: (123, 234, 123)\" style=\"width: 10px; height: 10px;background-color: rgb(123, 234, 123);\"></td><td title=\"Index: [54, 24]&#10;Color: (123, 234, 123)\" style=\"width: 10px; height: 10px;background-color: rgb(123, 234, 123);\"></td><td title=\"Index: [54, 25]&#10;Color: (123, 234, 123)\" style=\"width: 10px; height: 10px;background-color: rgb(123, 234, 123);\"></td><td title=\"Index: [54, 26]&#10;Color: (123, 234, 123)\" style=\"width: 10px; height: 10px;background-color: rgb(123, 234, 123);\"></td><td title=\"Index: [54, 27]&#10;Color: (123, 234, 123)\" style=\"width: 10px; height: 10px;background-color: rgb(123, 234, 123);\"></td><td title=\"Index: [54, 28]&#10;Color: (123, 234, 123)\" style=\"width: 10px; height: 10px;background-color: rgb(123, 234, 123);\"></td><td title=\"Index: [54, 29]&#10;Color: (0, 0, 0)\" style=\"width: 10px; height: 10px;background-color: rgb(0, 0, 0);\"></td><td title=\"Index: [54, 30]&#10;Color: (123, 234, 123)\" style=\"width: 10px; height: 10px;background-color: rgb(123, 234, 123);\"></td><td title=\"Index: [54, 31]&#10;Color: (0, 0, 0)\" style=\"width: 10px; height: 10px;background-color: rgb(0, 0, 0);\"></td><td title=\"Index: [54, 32]&#10;Color: (123, 234, 123)\" style=\"width: 10px; height: 10px;background-color: rgb(123, 234, 123);\"></td><td title=\"Index: [54, 33]&#10;Color: (123, 234, 123)\" style=\"width: 10px; height: 10px;background-color: rgb(123, 234, 123);\"></td><td title=\"Index: [54, 34]&#10;Color: (123, 234, 123)\" style=\"width: 10px; height: 10px;background-color: rgb(123, 234, 123);\"></td><td title=\"Index: [54, 35]&#10;Color: (123, 234, 123)\" style=\"width: 10px; height: 10px;background-color: rgb(123, 234, 123);\"></td><td title=\"Index: [54, 36]&#10;Color: (123, 234, 123)\" style=\"width: 10px; height: 10px;background-color: rgb(123, 234, 123);\"></td><td title=\"Index: [54, 37]&#10;Color: (123, 234, 123)\" style=\"width: 10px; height: 10px;background-color: rgb(123, 234, 123);\"></td><td title=\"Index: [54, 38]&#10;Color: (123, 234, 123)\" style=\"width: 10px; height: 10px;background-color: rgb(123, 234, 123);\"></td><td title=\"Index: [54, 39]&#10;Color: (123, 234, 123)\" style=\"width: 10px; height: 10px;background-color: rgb(123, 234, 123);\"></td><td title=\"Index: [54, 40]&#10;Color: (123, 234, 123)\" style=\"width: 10px; height: 10px;background-color: rgb(123, 234, 123);\"></td><td title=\"Index: [54, 41]&#10;Color: (0, 0, 0)\" style=\"width: 10px; height: 10px;background-color: rgb(0, 0, 0);\"></td><td title=\"Index: [54, 42]&#10;Color: (123, 234, 123)\" style=\"width: 10px; height: 10px;background-color: rgb(123, 234, 123);\"></td><td title=\"Index: [54, 43]&#10;Color: (123, 234, 123)\" style=\"width: 10px; height: 10px;background-color: rgb(123, 234, 123);\"></td><td title=\"Index: [54, 44]&#10;Color: (123, 234, 123)\" style=\"width: 10px; height: 10px;background-color: rgb(123, 234, 123);\"></td><td title=\"Index: [54, 45]&#10;Color: (123, 234, 123)\" style=\"width: 10px; height: 10px;background-color: rgb(123, 234, 123);\"></td><td title=\"Index: [54, 46]&#10;Color: (123, 234, 123)\" style=\"width: 10px; height: 10px;background-color: rgb(123, 234, 123);\"></td><td title=\"Index: [54, 47]&#10;Color: (123, 234, 123)\" style=\"width: 10px; height: 10px;background-color: rgb(123, 234, 123);\"></td><td title=\"Index: [54, 48]&#10;Color: (123, 234, 123)\" style=\"width: 10px; height: 10px;background-color: rgb(123, 234, 123);\"></td><td title=\"Index: [54, 49]&#10;Color: (0, 0, 0)\" style=\"width: 10px; height: 10px;background-color: rgb(0, 0, 0);\"></td></tr><tr><td title=\"Index: [55, 0]&#10;Color: (123, 234, 123)\" style=\"width: 10px; height: 10px;background-color: rgb(123, 234, 123);\"></td><td title=\"Index: [55, 1]&#10;Color: (123, 234, 123)\" style=\"width: 10px; height: 10px;background-color: rgb(123, 234, 123);\"></td><td title=\"Index: [55, 2]&#10;Color: (123, 234, 123)\" style=\"width: 10px; height: 10px;background-color: rgb(123, 234, 123);\"></td><td title=\"Index: [55, 3]&#10;Color: (0, 0, 0)\" style=\"width: 10px; height: 10px;background-color: rgb(0, 0, 0);\"></td><td title=\"Index: [55, 4]&#10;Color: (123, 234, 123)\" style=\"width: 10px; height: 10px;background-color: rgb(123, 234, 123);\"></td><td title=\"Index: [55, 5]&#10;Color: (123, 234, 123)\" style=\"width: 10px; height: 10px;background-color: rgb(123, 234, 123);\"></td><td title=\"Index: [55, 6]&#10;Color: (123, 234, 123)\" style=\"width: 10px; height: 10px;background-color: rgb(123, 234, 123);\"></td><td title=\"Index: [55, 7]&#10;Color: (123, 234, 123)\" style=\"width: 10px; height: 10px;background-color: rgb(123, 234, 123);\"></td><td title=\"Index: [55, 8]&#10;Color: (123, 234, 123)\" style=\"width: 10px; height: 10px;background-color: rgb(123, 234, 123);\"></td><td title=\"Index: [55, 9]&#10;Color: (123, 234, 123)\" style=\"width: 10px; height: 10px;background-color: rgb(123, 234, 123);\"></td><td title=\"Index: [55, 10]&#10;Color: (123, 234, 123)\" style=\"width: 10px; height: 10px;background-color: rgb(123, 234, 123);\"></td><td title=\"Index: [55, 11]&#10;Color: (123, 234, 123)\" style=\"width: 10px; height: 10px;background-color: rgb(123, 234, 123);\"></td><td title=\"Index: [55, 12]&#10;Color: (123, 234, 123)\" style=\"width: 10px; height: 10px;background-color: rgb(123, 234, 123);\"></td><td title=\"Index: [55, 13]&#10;Color: (123, 234, 123)\" style=\"width: 10px; height: 10px;background-color: rgb(123, 234, 123);\"></td><td title=\"Index: [55, 14]&#10;Color: (123, 234, 123)\" style=\"width: 10px; height: 10px;background-color: rgb(123, 234, 123);\"></td><td title=\"Index: [55, 15]&#10;Color: (123, 234, 123)\" style=\"width: 10px; height: 10px;background-color: rgb(123, 234, 123);\"></td><td title=\"Index: [55, 16]&#10;Color: (123, 234, 123)\" style=\"width: 10px; height: 10px;background-color: rgb(123, 234, 123);\"></td><td title=\"Index: [55, 17]&#10;Color: (0, 0, 0)\" style=\"width: 10px; height: 10px;background-color: rgb(0, 0, 0);\"></td><td title=\"Index: [55, 18]&#10;Color: (123, 234, 123)\" style=\"width: 10px; height: 10px;background-color: rgb(123, 234, 123);\"></td><td title=\"Index: [55, 19]&#10;Color: (123, 234, 123)\" style=\"width: 10px; height: 10px;background-color: rgb(123, 234, 123);\"></td><td title=\"Index: [55, 20]&#10;Color: (123, 234, 123)\" style=\"width: 10px; height: 10px;background-color: rgb(123, 234, 123);\"></td><td title=\"Index: [55, 21]&#10;Color: (123, 234, 123)\" style=\"width: 10px; height: 10px;background-color: rgb(123, 234, 123);\"></td><td title=\"Index: [55, 22]&#10;Color: (123, 234, 123)\" style=\"width: 10px; height: 10px;background-color: rgb(123, 234, 123);\"></td><td title=\"Index: [55, 23]&#10;Color: (123, 234, 123)\" style=\"width: 10px; height: 10px;background-color: rgb(123, 234, 123);\"></td><td title=\"Index: [55, 24]&#10;Color: (123, 234, 123)\" style=\"width: 10px; height: 10px;background-color: rgb(123, 234, 123);\"></td><td title=\"Index: [55, 25]&#10;Color: (123, 234, 123)\" style=\"width: 10px; height: 10px;background-color: rgb(123, 234, 123);\"></td><td title=\"Index: [55, 26]&#10;Color: (123, 234, 123)\" style=\"width: 10px; height: 10px;background-color: rgb(123, 234, 123);\"></td><td title=\"Index: [55, 27]&#10;Color: (0, 0, 0)\" style=\"width: 10px; height: 10px;background-color: rgb(0, 0, 0);\"></td><td title=\"Index: [55, 28]&#10;Color: (123, 234, 123)\" style=\"width: 10px; height: 10px;background-color: rgb(123, 234, 123);\"></td><td title=\"Index: [55, 29]&#10;Color: (123, 234, 123)\" style=\"width: 10px; height: 10px;background-color: rgb(123, 234, 123);\"></td><td title=\"Index: [55, 30]&#10;Color: (123, 234, 123)\" style=\"width: 10px; height: 10px;background-color: rgb(123, 234, 123);\"></td><td title=\"Index: [55, 31]&#10;Color: (123, 234, 123)\" style=\"width: 10px; height: 10px;background-color: rgb(123, 234, 123);\"></td><td title=\"Index: [55, 32]&#10;Color: (123, 234, 123)\" style=\"width: 10px; height: 10px;background-color: rgb(123, 234, 123);\"></td><td title=\"Index: [55, 33]&#10;Color: (123, 234, 123)\" style=\"width: 10px; height: 10px;background-color: rgb(123, 234, 123);\"></td><td title=\"Index: [55, 34]&#10;Color: (123, 234, 123)\" style=\"width: 10px; height: 10px;background-color: rgb(123, 234, 123);\"></td><td title=\"Index: [55, 35]&#10;Color: (123, 234, 123)\" style=\"width: 10px; height: 10px;background-color: rgb(123, 234, 123);\"></td><td title=\"Index: [55, 36]&#10;Color: (123, 234, 123)\" style=\"width: 10px; height: 10px;background-color: rgb(123, 234, 123);\"></td><td title=\"Index: [55, 37]&#10;Color: (123, 234, 123)\" style=\"width: 10px; height: 10px;background-color: rgb(123, 234, 123);\"></td><td title=\"Index: [55, 38]&#10;Color: (123, 234, 123)\" style=\"width: 10px; height: 10px;background-color: rgb(123, 234, 123);\"></td><td title=\"Index: [55, 39]&#10;Color: (0, 0, 0)\" style=\"width: 10px; height: 10px;background-color: rgb(0, 0, 0);\"></td><td title=\"Index: [55, 40]&#10;Color: (123, 234, 123)\" style=\"width: 10px; height: 10px;background-color: rgb(123, 234, 123);\"></td><td title=\"Index: [55, 41]&#10;Color: (0, 0, 0)\" style=\"width: 10px; height: 10px;background-color: rgb(0, 0, 0);\"></td><td title=\"Index: [55, 42]&#10;Color: (123, 234, 123)\" style=\"width: 10px; height: 10px;background-color: rgb(123, 234, 123);\"></td><td title=\"Index: [55, 43]&#10;Color: (123, 234, 123)\" style=\"width: 10px; height: 10px;background-color: rgb(123, 234, 123);\"></td><td title=\"Index: [55, 44]&#10;Color: (123, 234, 123)\" style=\"width: 10px; height: 10px;background-color: rgb(123, 234, 123);\"></td><td title=\"Index: [55, 45]&#10;Color: (123, 234, 123)\" style=\"width: 10px; height: 10px;background-color: rgb(123, 234, 123);\"></td><td title=\"Index: [55, 46]&#10;Color: (123, 234, 123)\" style=\"width: 10px; height: 10px;background-color: rgb(123, 234, 123);\"></td><td title=\"Index: [55, 47]&#10;Color: (0, 0, 0)\" style=\"width: 10px; height: 10px;background-color: rgb(0, 0, 0);\"></td><td title=\"Index: [55, 48]&#10;Color: (123, 234, 123)\" style=\"width: 10px; height: 10px;background-color: rgb(123, 234, 123);\"></td><td title=\"Index: [55, 49]&#10;Color: (123, 234, 123)\" style=\"width: 10px; height: 10px;background-color: rgb(123, 234, 123);\"></td></tr><tr><td title=\"Index: [56, 0]&#10;Color: (123, 234, 123)\" style=\"width: 10px; height: 10px;background-color: rgb(123, 234, 123);\"></td><td title=\"Index: [56, 1]&#10;Color: (0, 0, 0)\" style=\"width: 10px; height: 10px;background-color: rgb(0, 0, 0);\"></td><td title=\"Index: [56, 2]&#10;Color: (123, 234, 123)\" style=\"width: 10px; height: 10px;background-color: rgb(123, 234, 123);\"></td><td title=\"Index: [56, 3]&#10;Color: (0, 0, 0)\" style=\"width: 10px; height: 10px;background-color: rgb(0, 0, 0);\"></td><td title=\"Index: [56, 4]&#10;Color: (123, 234, 123)\" style=\"width: 10px; height: 10px;background-color: rgb(123, 234, 123);\"></td><td title=\"Index: [56, 5]&#10;Color: (123, 234, 123)\" style=\"width: 10px; height: 10px;background-color: rgb(123, 234, 123);\"></td><td title=\"Index: [56, 6]&#10;Color: (123, 234, 123)\" style=\"width: 10px; height: 10px;background-color: rgb(123, 234, 123);\"></td><td title=\"Index: [56, 7]&#10;Color: (123, 234, 123)\" style=\"width: 10px; height: 10px;background-color: rgb(123, 234, 123);\"></td><td title=\"Index: [56, 8]&#10;Color: (123, 234, 123)\" style=\"width: 10px; height: 10px;background-color: rgb(123, 234, 123);\"></td><td title=\"Index: [56, 9]&#10;Color: (123, 234, 123)\" style=\"width: 10px; height: 10px;background-color: rgb(123, 234, 123);\"></td><td title=\"Index: [56, 10]&#10;Color: (123, 234, 123)\" style=\"width: 10px; height: 10px;background-color: rgb(123, 234, 123);\"></td><td title=\"Index: [56, 11]&#10;Color: (123, 234, 123)\" style=\"width: 10px; height: 10px;background-color: rgb(123, 234, 123);\"></td><td title=\"Index: [56, 12]&#10;Color: (123, 234, 123)\" style=\"width: 10px; height: 10px;background-color: rgb(123, 234, 123);\"></td><td title=\"Index: [56, 13]&#10;Color: (123, 234, 123)\" style=\"width: 10px; height: 10px;background-color: rgb(123, 234, 123);\"></td><td title=\"Index: [56, 14]&#10;Color: (123, 234, 123)\" style=\"width: 10px; height: 10px;background-color: rgb(123, 234, 123);\"></td><td title=\"Index: [56, 15]&#10;Color: (123, 234, 123)\" style=\"width: 10px; height: 10px;background-color: rgb(123, 234, 123);\"></td><td title=\"Index: [56, 16]&#10;Color: (123, 234, 123)\" style=\"width: 10px; height: 10px;background-color: rgb(123, 234, 123);\"></td><td title=\"Index: [56, 17]&#10;Color: (123, 234, 123)\" style=\"width: 10px; height: 10px;background-color: rgb(123, 234, 123);\"></td><td title=\"Index: [56, 18]&#10;Color: (123, 234, 123)\" style=\"width: 10px; height: 10px;background-color: rgb(123, 234, 123);\"></td><td title=\"Index: [56, 19]&#10;Color: (0, 0, 0)\" style=\"width: 10px; height: 10px;background-color: rgb(0, 0, 0);\"></td><td title=\"Index: [56, 20]&#10;Color: (123, 234, 123)\" style=\"width: 10px; height: 10px;background-color: rgb(123, 234, 123);\"></td><td title=\"Index: [56, 21]&#10;Color: (123, 234, 123)\" style=\"width: 10px; height: 10px;background-color: rgb(123, 234, 123);\"></td><td title=\"Index: [56, 22]&#10;Color: (123, 234, 123)\" style=\"width: 10px; height: 10px;background-color: rgb(123, 234, 123);\"></td><td title=\"Index: [56, 23]&#10;Color: (123, 234, 123)\" style=\"width: 10px; height: 10px;background-color: rgb(123, 234, 123);\"></td><td title=\"Index: [56, 24]&#10;Color: (123, 234, 123)\" style=\"width: 10px; height: 10px;background-color: rgb(123, 234, 123);\"></td><td title=\"Index: [56, 25]&#10;Color: (123, 234, 123)\" style=\"width: 10px; height: 10px;background-color: rgb(123, 234, 123);\"></td><td title=\"Index: [56, 26]&#10;Color: (123, 234, 123)\" style=\"width: 10px; height: 10px;background-color: rgb(123, 234, 123);\"></td><td title=\"Index: [56, 27]&#10;Color: (123, 234, 123)\" style=\"width: 10px; height: 10px;background-color: rgb(123, 234, 123);\"></td><td title=\"Index: [56, 28]&#10;Color: (123, 234, 123)\" style=\"width: 10px; height: 10px;background-color: rgb(123, 234, 123);\"></td><td title=\"Index: [56, 29]&#10;Color: (123, 234, 123)\" style=\"width: 10px; height: 10px;background-color: rgb(123, 234, 123);\"></td><td title=\"Index: [56, 30]&#10;Color: (123, 234, 123)\" style=\"width: 10px; height: 10px;background-color: rgb(123, 234, 123);\"></td><td title=\"Index: [56, 31]&#10;Color: (123, 234, 123)\" style=\"width: 10px; height: 10px;background-color: rgb(123, 234, 123);\"></td><td title=\"Index: [56, 32]&#10;Color: (123, 234, 123)\" style=\"width: 10px; height: 10px;background-color: rgb(123, 234, 123);\"></td><td title=\"Index: [56, 33]&#10;Color: (0, 0, 0)\" style=\"width: 10px; height: 10px;background-color: rgb(0, 0, 0);\"></td><td title=\"Index: [56, 34]&#10;Color: (123, 234, 123)\" style=\"width: 10px; height: 10px;background-color: rgb(123, 234, 123);\"></td><td title=\"Index: [56, 35]&#10;Color: (123, 234, 123)\" style=\"width: 10px; height: 10px;background-color: rgb(123, 234, 123);\"></td><td title=\"Index: [56, 36]&#10;Color: (123, 234, 123)\" style=\"width: 10px; height: 10px;background-color: rgb(123, 234, 123);\"></td><td title=\"Index: [56, 37]&#10;Color: (0, 0, 0)\" style=\"width: 10px; height: 10px;background-color: rgb(0, 0, 0);\"></td><td title=\"Index: [56, 38]&#10;Color: (123, 234, 123)\" style=\"width: 10px; height: 10px;background-color: rgb(123, 234, 123);\"></td><td title=\"Index: [56, 39]&#10;Color: (123, 234, 123)\" style=\"width: 10px; height: 10px;background-color: rgb(123, 234, 123);\"></td><td title=\"Index: [56, 40]&#10;Color: (123, 234, 123)\" style=\"width: 10px; height: 10px;background-color: rgb(123, 234, 123);\"></td><td title=\"Index: [56, 41]&#10;Color: (123, 234, 123)\" style=\"width: 10px; height: 10px;background-color: rgb(123, 234, 123);\"></td><td title=\"Index: [56, 42]&#10;Color: (123, 234, 123)\" style=\"width: 10px; height: 10px;background-color: rgb(123, 234, 123);\"></td><td title=\"Index: [56, 43]&#10;Color: (0, 0, 0)\" style=\"width: 10px; height: 10px;background-color: rgb(0, 0, 0);\"></td><td title=\"Index: [56, 44]&#10;Color: (123, 234, 123)\" style=\"width: 10px; height: 10px;background-color: rgb(123, 234, 123);\"></td><td title=\"Index: [56, 45]&#10;Color: (123, 234, 123)\" style=\"width: 10px; height: 10px;background-color: rgb(123, 234, 123);\"></td><td title=\"Index: [56, 46]&#10;Color: (123, 234, 123)\" style=\"width: 10px; height: 10px;background-color: rgb(123, 234, 123);\"></td><td title=\"Index: [56, 47]&#10;Color: (123, 234, 123)\" style=\"width: 10px; height: 10px;background-color: rgb(123, 234, 123);\"></td><td title=\"Index: [56, 48]&#10;Color: (123, 234, 123)\" style=\"width: 10px; height: 10px;background-color: rgb(123, 234, 123);\"></td><td title=\"Index: [56, 49]&#10;Color: (123, 234, 123)\" style=\"width: 10px; height: 10px;background-color: rgb(123, 234, 123);\"></td></tr><tr><td title=\"Index: [57, 0]&#10;Color: (123, 234, 123)\" style=\"width: 10px; height: 10px;background-color: rgb(123, 234, 123);\"></td><td title=\"Index: [57, 1]&#10;Color: (0, 0, 0)\" style=\"width: 10px; height: 10px;background-color: rgb(0, 0, 0);\"></td><td title=\"Index: [57, 2]&#10;Color: (123, 234, 123)\" style=\"width: 10px; height: 10px;background-color: rgb(123, 234, 123);\"></td><td title=\"Index: [57, 3]&#10;Color: (123, 234, 123)\" style=\"width: 10px; height: 10px;background-color: rgb(123, 234, 123);\"></td><td title=\"Index: [57, 4]&#10;Color: (123, 234, 123)\" style=\"width: 10px; height: 10px;background-color: rgb(123, 234, 123);\"></td><td title=\"Index: [57, 5]&#10;Color: (123, 234, 123)\" style=\"width: 10px; height: 10px;background-color: rgb(123, 234, 123);\"></td><td title=\"Index: [57, 6]&#10;Color: (123, 234, 123)\" style=\"width: 10px; height: 10px;background-color: rgb(123, 234, 123);\"></td><td title=\"Index: [57, 7]&#10;Color: (0, 0, 0)\" style=\"width: 10px; height: 10px;background-color: rgb(0, 0, 0);\"></td><td title=\"Index: [57, 8]&#10;Color: (123, 234, 123)\" style=\"width: 10px; height: 10px;background-color: rgb(123, 234, 123);\"></td><td title=\"Index: [57, 9]&#10;Color: (123, 234, 123)\" style=\"width: 10px; height: 10px;background-color: rgb(123, 234, 123);\"></td><td title=\"Index: [57, 10]&#10;Color: (123, 234, 123)\" style=\"width: 10px; height: 10px;background-color: rgb(123, 234, 123);\"></td><td title=\"Index: [57, 11]&#10;Color: (0, 0, 0)\" style=\"width: 10px; height: 10px;background-color: rgb(0, 0, 0);\"></td><td title=\"Index: [57, 12]&#10;Color: (123, 234, 123)\" style=\"width: 10px; height: 10px;background-color: rgb(123, 234, 123);\"></td><td title=\"Index: [57, 13]&#10;Color: (123, 234, 123)\" style=\"width: 10px; height: 10px;background-color: rgb(123, 234, 123);\"></td><td title=\"Index: [57, 14]&#10;Color: (123, 234, 123)\" style=\"width: 10px; height: 10px;background-color: rgb(123, 234, 123);\"></td><td title=\"Index: [57, 15]&#10;Color: (123, 234, 123)\" style=\"width: 10px; height: 10px;background-color: rgb(123, 234, 123);\"></td><td title=\"Index: [57, 16]&#10;Color: (123, 234, 123)\" style=\"width: 10px; height: 10px;background-color: rgb(123, 234, 123);\"></td><td title=\"Index: [57, 17]&#10;Color: (123, 234, 123)\" style=\"width: 10px; height: 10px;background-color: rgb(123, 234, 123);\"></td><td title=\"Index: [57, 18]&#10;Color: (123, 234, 123)\" style=\"width: 10px; height: 10px;background-color: rgb(123, 234, 123);\"></td><td title=\"Index: [57, 19]&#10;Color: (123, 234, 123)\" style=\"width: 10px; height: 10px;background-color: rgb(123, 234, 123);\"></td><td title=\"Index: [57, 20]&#10;Color: (123, 234, 123)\" style=\"width: 10px; height: 10px;background-color: rgb(123, 234, 123);\"></td><td title=\"Index: [57, 21]&#10;Color: (123, 234, 123)\" style=\"width: 10px; height: 10px;background-color: rgb(123, 234, 123);\"></td><td title=\"Index: [57, 22]&#10;Color: (123, 234, 123)\" style=\"width: 10px; height: 10px;background-color: rgb(123, 234, 123);\"></td><td title=\"Index: [57, 23]&#10;Color: (123, 234, 123)\" style=\"width: 10px; height: 10px;background-color: rgb(123, 234, 123);\"></td><td title=\"Index: [57, 24]&#10;Color: (123, 234, 123)\" style=\"width: 10px; height: 10px;background-color: rgb(123, 234, 123);\"></td><td title=\"Index: [57, 25]&#10;Color: (123, 234, 123)\" style=\"width: 10px; height: 10px;background-color: rgb(123, 234, 123);\"></td><td title=\"Index: [57, 26]&#10;Color: (123, 234, 123)\" style=\"width: 10px; height: 10px;background-color: rgb(123, 234, 123);\"></td><td title=\"Index: [57, 27]&#10;Color: (123, 234, 123)\" style=\"width: 10px; height: 10px;background-color: rgb(123, 234, 123);\"></td><td title=\"Index: [57, 28]&#10;Color: (123, 234, 123)\" style=\"width: 10px; height: 10px;background-color: rgb(123, 234, 123);\"></td><td title=\"Index: [57, 29]&#10;Color: (0, 0, 0)\" style=\"width: 10px; height: 10px;background-color: rgb(0, 0, 0);\"></td><td title=\"Index: [57, 30]&#10;Color: (123, 234, 123)\" style=\"width: 10px; height: 10px;background-color: rgb(123, 234, 123);\"></td><td title=\"Index: [57, 31]&#10;Color: (123, 234, 123)\" style=\"width: 10px; height: 10px;background-color: rgb(123, 234, 123);\"></td><td title=\"Index: [57, 32]&#10;Color: (123, 234, 123)\" style=\"width: 10px; height: 10px;background-color: rgb(123, 234, 123);\"></td><td title=\"Index: [57, 33]&#10;Color: (123, 234, 123)\" style=\"width: 10px; height: 10px;background-color: rgb(123, 234, 123);\"></td><td title=\"Index: [57, 34]&#10;Color: (123, 234, 123)\" style=\"width: 10px; height: 10px;background-color: rgb(123, 234, 123);\"></td><td title=\"Index: [57, 35]&#10;Color: (123, 234, 123)\" style=\"width: 10px; height: 10px;background-color: rgb(123, 234, 123);\"></td><td title=\"Index: [57, 36]&#10;Color: (123, 234, 123)\" style=\"width: 10px; height: 10px;background-color: rgb(123, 234, 123);\"></td><td title=\"Index: [57, 37]&#10;Color: (0, 0, 0)\" style=\"width: 10px; height: 10px;background-color: rgb(0, 0, 0);\"></td><td title=\"Index: [57, 38]&#10;Color: (123, 234, 123)\" style=\"width: 10px; height: 10px;background-color: rgb(123, 234, 123);\"></td><td title=\"Index: [57, 39]&#10;Color: (123, 234, 123)\" style=\"width: 10px; height: 10px;background-color: rgb(123, 234, 123);\"></td><td title=\"Index: [57, 40]&#10;Color: (123, 234, 123)\" style=\"width: 10px; height: 10px;background-color: rgb(123, 234, 123);\"></td><td title=\"Index: [57, 41]&#10;Color: (123, 234, 123)\" style=\"width: 10px; height: 10px;background-color: rgb(123, 234, 123);\"></td><td title=\"Index: [57, 42]&#10;Color: (123, 234, 123)\" style=\"width: 10px; height: 10px;background-color: rgb(123, 234, 123);\"></td><td title=\"Index: [57, 43]&#10;Color: (123, 234, 123)\" style=\"width: 10px; height: 10px;background-color: rgb(123, 234, 123);\"></td><td title=\"Index: [57, 44]&#10;Color: (123, 234, 123)\" style=\"width: 10px; height: 10px;background-color: rgb(123, 234, 123);\"></td><td title=\"Index: [57, 45]&#10;Color: (123, 234, 123)\" style=\"width: 10px; height: 10px;background-color: rgb(123, 234, 123);\"></td><td title=\"Index: [57, 46]&#10;Color: (123, 234, 123)\" style=\"width: 10px; height: 10px;background-color: rgb(123, 234, 123);\"></td><td title=\"Index: [57, 47]&#10;Color: (0, 0, 0)\" style=\"width: 10px; height: 10px;background-color: rgb(0, 0, 0);\"></td><td title=\"Index: [57, 48]&#10;Color: (123, 234, 123)\" style=\"width: 10px; height: 10px;background-color: rgb(123, 234, 123);\"></td><td title=\"Index: [57, 49]&#10;Color: (123, 234, 123)\" style=\"width: 10px; height: 10px;background-color: rgb(123, 234, 123);\"></td></tr><tr><td title=\"Index: [58, 0]&#10;Color: (123, 234, 123)\" style=\"width: 10px; height: 10px;background-color: rgb(123, 234, 123);\"></td><td title=\"Index: [58, 1]&#10;Color: (123, 234, 123)\" style=\"width: 10px; height: 10px;background-color: rgb(123, 234, 123);\"></td><td title=\"Index: [58, 2]&#10;Color: (123, 234, 123)\" style=\"width: 10px; height: 10px;background-color: rgb(123, 234, 123);\"></td><td title=\"Index: [58, 3]&#10;Color: (0, 0, 0)\" style=\"width: 10px; height: 10px;background-color: rgb(0, 0, 0);\"></td><td title=\"Index: [58, 4]&#10;Color: (123, 234, 123)\" style=\"width: 10px; height: 10px;background-color: rgb(123, 234, 123);\"></td><td title=\"Index: [58, 5]&#10;Color: (123, 234, 123)\" style=\"width: 10px; height: 10px;background-color: rgb(123, 234, 123);\"></td><td title=\"Index: [58, 6]&#10;Color: (123, 234, 123)\" style=\"width: 10px; height: 10px;background-color: rgb(123, 234, 123);\"></td><td title=\"Index: [58, 7]&#10;Color: (123, 234, 123)\" style=\"width: 10px; height: 10px;background-color: rgb(123, 234, 123);\"></td><td title=\"Index: [58, 8]&#10;Color: (123, 234, 123)\" style=\"width: 10px; height: 10px;background-color: rgb(123, 234, 123);\"></td><td title=\"Index: [58, 9]&#10;Color: (0, 0, 0)\" style=\"width: 10px; height: 10px;background-color: rgb(0, 0, 0);\"></td><td title=\"Index: [58, 10]&#10;Color: (123, 234, 123)\" style=\"width: 10px; height: 10px;background-color: rgb(123, 234, 123);\"></td><td title=\"Index: [58, 11]&#10;Color: (123, 234, 123)\" style=\"width: 10px; height: 10px;background-color: rgb(123, 234, 123);\"></td><td title=\"Index: [58, 12]&#10;Color: (123, 234, 123)\" style=\"width: 10px; height: 10px;background-color: rgb(123, 234, 123);\"></td><td title=\"Index: [58, 13]&#10;Color: (123, 234, 123)\" style=\"width: 10px; height: 10px;background-color: rgb(123, 234, 123);\"></td><td title=\"Index: [58, 14]&#10;Color: (123, 234, 123)\" style=\"width: 10px; height: 10px;background-color: rgb(123, 234, 123);\"></td><td title=\"Index: [58, 15]&#10;Color: (123, 234, 123)\" style=\"width: 10px; height: 10px;background-color: rgb(123, 234, 123);\"></td><td title=\"Index: [58, 16]&#10;Color: (123, 234, 123)\" style=\"width: 10px; height: 10px;background-color: rgb(123, 234, 123);\"></td><td title=\"Index: [58, 17]&#10;Color: (0, 0, 0)\" style=\"width: 10px; height: 10px;background-color: rgb(0, 0, 0);\"></td><td title=\"Index: [58, 18]&#10;Color: (123, 234, 123)\" style=\"width: 10px; height: 10px;background-color: rgb(123, 234, 123);\"></td><td title=\"Index: [58, 19]&#10;Color: (123, 234, 123)\" style=\"width: 10px; height: 10px;background-color: rgb(123, 234, 123);\"></td><td title=\"Index: [58, 20]&#10;Color: (123, 234, 123)\" style=\"width: 10px; height: 10px;background-color: rgb(123, 234, 123);\"></td><td title=\"Index: [58, 21]&#10;Color: (123, 234, 123)\" style=\"width: 10px; height: 10px;background-color: rgb(123, 234, 123);\"></td><td title=\"Index: [58, 22]&#10;Color: (123, 234, 123)\" style=\"width: 10px; height: 10px;background-color: rgb(123, 234, 123);\"></td><td title=\"Index: [58, 23]&#10;Color: (123, 234, 123)\" style=\"width: 10px; height: 10px;background-color: rgb(123, 234, 123);\"></td><td title=\"Index: [58, 24]&#10;Color: (123, 234, 123)\" style=\"width: 10px; height: 10px;background-color: rgb(123, 234, 123);\"></td><td title=\"Index: [58, 25]&#10;Color: (123, 234, 123)\" style=\"width: 10px; height: 10px;background-color: rgb(123, 234, 123);\"></td><td title=\"Index: [58, 26]&#10;Color: (123, 234, 123)\" style=\"width: 10px; height: 10px;background-color: rgb(123, 234, 123);\"></td><td title=\"Index: [58, 27]&#10;Color: (0, 0, 0)\" style=\"width: 10px; height: 10px;background-color: rgb(0, 0, 0);\"></td><td title=\"Index: [58, 28]&#10;Color: (123, 234, 123)\" style=\"width: 10px; height: 10px;background-color: rgb(123, 234, 123);\"></td><td title=\"Index: [58, 29]&#10;Color: (123, 234, 123)\" style=\"width: 10px; height: 10px;background-color: rgb(123, 234, 123);\"></td><td title=\"Index: [58, 30]&#10;Color: (123, 234, 123)\" style=\"width: 10px; height: 10px;background-color: rgb(123, 234, 123);\"></td><td title=\"Index: [58, 31]&#10;Color: (123, 234, 123)\" style=\"width: 10px; height: 10px;background-color: rgb(123, 234, 123);\"></td><td title=\"Index: [58, 32]&#10;Color: (123, 234, 123)\" style=\"width: 10px; height: 10px;background-color: rgb(123, 234, 123);\"></td><td title=\"Index: [58, 33]&#10;Color: (123, 234, 123)\" style=\"width: 10px; height: 10px;background-color: rgb(123, 234, 123);\"></td><td title=\"Index: [58, 34]&#10;Color: (123, 234, 123)\" style=\"width: 10px; height: 10px;background-color: rgb(123, 234, 123);\"></td><td title=\"Index: [58, 35]&#10;Color: (123, 234, 123)\" style=\"width: 10px; height: 10px;background-color: rgb(123, 234, 123);\"></td><td title=\"Index: [58, 36]&#10;Color: (123, 234, 123)\" style=\"width: 10px; height: 10px;background-color: rgb(123, 234, 123);\"></td><td title=\"Index: [58, 37]&#10;Color: (123, 234, 123)\" style=\"width: 10px; height: 10px;background-color: rgb(123, 234, 123);\"></td><td title=\"Index: [58, 38]&#10;Color: (123, 234, 123)\" style=\"width: 10px; height: 10px;background-color: rgb(123, 234, 123);\"></td><td title=\"Index: [58, 39]&#10;Color: (0, 0, 0)\" style=\"width: 10px; height: 10px;background-color: rgb(0, 0, 0);\"></td><td title=\"Index: [58, 40]&#10;Color: (123, 234, 123)\" style=\"width: 10px; height: 10px;background-color: rgb(123, 234, 123);\"></td><td title=\"Index: [58, 41]&#10;Color: (123, 234, 123)\" style=\"width: 10px; height: 10px;background-color: rgb(123, 234, 123);\"></td><td title=\"Index: [58, 42]&#10;Color: (123, 234, 123)\" style=\"width: 10px; height: 10px;background-color: rgb(123, 234, 123);\"></td><td title=\"Index: [58, 43]&#10;Color: (123, 234, 123)\" style=\"width: 10px; height: 10px;background-color: rgb(123, 234, 123);\"></td><td title=\"Index: [58, 44]&#10;Color: (123, 234, 123)\" style=\"width: 10px; height: 10px;background-color: rgb(123, 234, 123);\"></td><td title=\"Index: [58, 45]&#10;Color: (123, 234, 123)\" style=\"width: 10px; height: 10px;background-color: rgb(123, 234, 123);\"></td><td title=\"Index: [58, 46]&#10;Color: (123, 234, 123)\" style=\"width: 10px; height: 10px;background-color: rgb(123, 234, 123);\"></td><td title=\"Index: [58, 47]&#10;Color: (123, 234, 123)\" style=\"width: 10px; height: 10px;background-color: rgb(123, 234, 123);\"></td><td title=\"Index: [58, 48]&#10;Color: (123, 234, 123)\" style=\"width: 10px; height: 10px;background-color: rgb(123, 234, 123);\"></td><td title=\"Index: [58, 49]&#10;Color: (123, 234, 123)\" style=\"width: 10px; height: 10px;background-color: rgb(123, 234, 123);\"></td></tr><tr><td title=\"Index: [59, 0]&#10;Color: (123, 234, 123)\" style=\"width: 10px; height: 10px;background-color: rgb(123, 234, 123);\"></td><td title=\"Index: [59, 1]&#10;Color: (123, 234, 123)\" style=\"width: 10px; height: 10px;background-color: rgb(123, 234, 123);\"></td><td title=\"Index: [59, 2]&#10;Color: (123, 234, 123)\" style=\"width: 10px; height: 10px;background-color: rgb(123, 234, 123);\"></td><td title=\"Index: [59, 3]&#10;Color: (0, 0, 0)\" style=\"width: 10px; height: 10px;background-color: rgb(0, 0, 0);\"></td><td title=\"Index: [59, 4]&#10;Color: (123, 234, 123)\" style=\"width: 10px; height: 10px;background-color: rgb(123, 234, 123);\"></td><td title=\"Index: [59, 5]&#10;Color: (123, 234, 123)\" style=\"width: 10px; height: 10px;background-color: rgb(123, 234, 123);\"></td><td title=\"Index: [59, 6]&#10;Color: (123, 234, 123)\" style=\"width: 10px; height: 10px;background-color: rgb(123, 234, 123);\"></td><td title=\"Index: [59, 7]&#10;Color: (0, 0, 0)\" style=\"width: 10px; height: 10px;background-color: rgb(0, 0, 0);\"></td><td title=\"Index: [59, 8]&#10;Color: (123, 234, 123)\" style=\"width: 10px; height: 10px;background-color: rgb(123, 234, 123);\"></td><td title=\"Index: [59, 9]&#10;Color: (123, 234, 123)\" style=\"width: 10px; height: 10px;background-color: rgb(123, 234, 123);\"></td><td title=\"Index: [59, 10]&#10;Color: (123, 234, 123)\" style=\"width: 10px; height: 10px;background-color: rgb(123, 234, 123);\"></td><td title=\"Index: [59, 11]&#10;Color: (123, 234, 123)\" style=\"width: 10px; height: 10px;background-color: rgb(123, 234, 123);\"></td><td title=\"Index: [59, 12]&#10;Color: (123, 234, 123)\" style=\"width: 10px; height: 10px;background-color: rgb(123, 234, 123);\"></td><td title=\"Index: [59, 13]&#10;Color: (0, 0, 0)\" style=\"width: 10px; height: 10px;background-color: rgb(0, 0, 0);\"></td><td title=\"Index: [59, 14]&#10;Color: (123, 234, 123)\" style=\"width: 10px; height: 10px;background-color: rgb(123, 234, 123);\"></td><td title=\"Index: [59, 15]&#10;Color: (123, 234, 123)\" style=\"width: 10px; height: 10px;background-color: rgb(123, 234, 123);\"></td><td title=\"Index: [59, 16]&#10;Color: (123, 234, 123)\" style=\"width: 10px; height: 10px;background-color: rgb(123, 234, 123);\"></td><td title=\"Index: [59, 17]&#10;Color: (123, 234, 123)\" style=\"width: 10px; height: 10px;background-color: rgb(123, 234, 123);\"></td><td title=\"Index: [59, 18]&#10;Color: (123, 234, 123)\" style=\"width: 10px; height: 10px;background-color: rgb(123, 234, 123);\"></td><td title=\"Index: [59, 19]&#10;Color: (0, 0, 0)\" style=\"width: 10px; height: 10px;background-color: rgb(0, 0, 0);\"></td><td title=\"Index: [59, 20]&#10;Color: (123, 234, 123)\" style=\"width: 10px; height: 10px;background-color: rgb(123, 234, 123);\"></td><td title=\"Index: [59, 21]&#10;Color: (0, 0, 0)\" style=\"width: 10px; height: 10px;background-color: rgb(0, 0, 0);\"></td><td title=\"Index: [59, 22]&#10;Color: (123, 234, 123)\" style=\"width: 10px; height: 10px;background-color: rgb(123, 234, 123);\"></td><td title=\"Index: [59, 23]&#10;Color: (123, 234, 123)\" style=\"width: 10px; height: 10px;background-color: rgb(123, 234, 123);\"></td><td title=\"Index: [59, 24]&#10;Color: (123, 234, 123)\" style=\"width: 10px; height: 10px;background-color: rgb(123, 234, 123);\"></td><td title=\"Index: [59, 25]&#10;Color: (123, 234, 123)\" style=\"width: 10px; height: 10px;background-color: rgb(123, 234, 123);\"></td><td title=\"Index: [59, 26]&#10;Color: (123, 234, 123)\" style=\"width: 10px; height: 10px;background-color: rgb(123, 234, 123);\"></td><td title=\"Index: [59, 27]&#10;Color: (123, 234, 123)\" style=\"width: 10px; height: 10px;background-color: rgb(123, 234, 123);\"></td><td title=\"Index: [59, 28]&#10;Color: (123, 234, 123)\" style=\"width: 10px; height: 10px;background-color: rgb(123, 234, 123);\"></td><td title=\"Index: [59, 29]&#10;Color: (123, 234, 123)\" style=\"width: 10px; height: 10px;background-color: rgb(123, 234, 123);\"></td><td title=\"Index: [59, 30]&#10;Color: (123, 234, 123)\" style=\"width: 10px; height: 10px;background-color: rgb(123, 234, 123);\"></td><td title=\"Index: [59, 31]&#10;Color: (123, 234, 123)\" style=\"width: 10px; height: 10px;background-color: rgb(123, 234, 123);\"></td><td title=\"Index: [59, 32]&#10;Color: (123, 234, 123)\" style=\"width: 10px; height: 10px;background-color: rgb(123, 234, 123);\"></td><td title=\"Index: [59, 33]&#10;Color: (123, 234, 123)\" style=\"width: 10px; height: 10px;background-color: rgb(123, 234, 123);\"></td><td title=\"Index: [59, 34]&#10;Color: (123, 234, 123)\" style=\"width: 10px; height: 10px;background-color: rgb(123, 234, 123);\"></td><td title=\"Index: [59, 35]&#10;Color: (123, 234, 123)\" style=\"width: 10px; height: 10px;background-color: rgb(123, 234, 123);\"></td><td title=\"Index: [59, 36]&#10;Color: (123, 234, 123)\" style=\"width: 10px; height: 10px;background-color: rgb(123, 234, 123);\"></td><td title=\"Index: [59, 37]&#10;Color: (123, 234, 123)\" style=\"width: 10px; height: 10px;background-color: rgb(123, 234, 123);\"></td><td title=\"Index: [59, 38]&#10;Color: (123, 234, 123)\" style=\"width: 10px; height: 10px;background-color: rgb(123, 234, 123);\"></td><td title=\"Index: [59, 39]&#10;Color: (123, 234, 123)\" style=\"width: 10px; height: 10px;background-color: rgb(123, 234, 123);\"></td><td title=\"Index: [59, 40]&#10;Color: (123, 234, 123)\" style=\"width: 10px; height: 10px;background-color: rgb(123, 234, 123);\"></td><td title=\"Index: [59, 41]&#10;Color: (123, 234, 123)\" style=\"width: 10px; height: 10px;background-color: rgb(123, 234, 123);\"></td><td title=\"Index: [59, 42]&#10;Color: (123, 234, 123)\" style=\"width: 10px; height: 10px;background-color: rgb(123, 234, 123);\"></td><td title=\"Index: [59, 43]&#10;Color: (123, 234, 123)\" style=\"width: 10px; height: 10px;background-color: rgb(123, 234, 123);\"></td><td title=\"Index: [59, 44]&#10;Color: (123, 234, 123)\" style=\"width: 10px; height: 10px;background-color: rgb(123, 234, 123);\"></td><td title=\"Index: [59, 45]&#10;Color: (123, 234, 123)\" style=\"width: 10px; height: 10px;background-color: rgb(123, 234, 123);\"></td><td title=\"Index: [59, 46]&#10;Color: (123, 234, 123)\" style=\"width: 10px; height: 10px;background-color: rgb(123, 234, 123);\"></td><td title=\"Index: [59, 47]&#10;Color: (123, 234, 123)\" style=\"width: 10px; height: 10px;background-color: rgb(123, 234, 123);\"></td><td title=\"Index: [59, 48]&#10;Color: (123, 234, 123)\" style=\"width: 10px; height: 10px;background-color: rgb(123, 234, 123);\"></td><td title=\"Index: [59, 49]&#10;Color: (0, 0, 0)\" style=\"width: 10px; height: 10px;background-color: rgb(0, 0, 0);\"></td></tr><tr><td title=\"Index: [60, 0]&#10;Color: (123, 234, 123)\" style=\"width: 10px; height: 10px;background-color: rgb(123, 234, 123);\"></td><td title=\"Index: [60, 1]&#10;Color: (0, 0, 0)\" style=\"width: 10px; height: 10px;background-color: rgb(0, 0, 0);\"></td><td title=\"Index: [60, 2]&#10;Color: (123, 234, 123)\" style=\"width: 10px; height: 10px;background-color: rgb(123, 234, 123);\"></td><td title=\"Index: [60, 3]&#10;Color: (123, 234, 123)\" style=\"width: 10px; height: 10px;background-color: rgb(123, 234, 123);\"></td><td title=\"Index: [60, 4]&#10;Color: (123, 234, 123)\" style=\"width: 10px; height: 10px;background-color: rgb(123, 234, 123);\"></td><td title=\"Index: [60, 5]&#10;Color: (123, 234, 123)\" style=\"width: 10px; height: 10px;background-color: rgb(123, 234, 123);\"></td><td title=\"Index: [60, 6]&#10;Color: (123, 234, 123)\" style=\"width: 10px; height: 10px;background-color: rgb(123, 234, 123);\"></td><td title=\"Index: [60, 7]&#10;Color: (123, 234, 123)\" style=\"width: 10px; height: 10px;background-color: rgb(123, 234, 123);\"></td><td title=\"Index: [60, 8]&#10;Color: (123, 234, 123)\" style=\"width: 10px; height: 10px;background-color: rgb(123, 234, 123);\"></td><td title=\"Index: [60, 9]&#10;Color: (123, 234, 123)\" style=\"width: 10px; height: 10px;background-color: rgb(123, 234, 123);\"></td><td title=\"Index: [60, 10]&#10;Color: (123, 234, 123)\" style=\"width: 10px; height: 10px;background-color: rgb(123, 234, 123);\"></td><td title=\"Index: [60, 11]&#10;Color: (0, 0, 0)\" style=\"width: 10px; height: 10px;background-color: rgb(0, 0, 0);\"></td><td title=\"Index: [60, 12]&#10;Color: (123, 234, 123)\" style=\"width: 10px; height: 10px;background-color: rgb(123, 234, 123);\"></td><td title=\"Index: [60, 13]&#10;Color: (123, 234, 123)\" style=\"width: 10px; height: 10px;background-color: rgb(123, 234, 123);\"></td><td title=\"Index: [60, 14]&#10;Color: (123, 234, 123)\" style=\"width: 10px; height: 10px;background-color: rgb(123, 234, 123);\"></td><td title=\"Index: [60, 15]&#10;Color: (123, 234, 123)\" style=\"width: 10px; height: 10px;background-color: rgb(123, 234, 123);\"></td><td title=\"Index: [60, 16]&#10;Color: (123, 234, 123)\" style=\"width: 10px; height: 10px;background-color: rgb(123, 234, 123);\"></td><td title=\"Index: [60, 17]&#10;Color: (123, 234, 123)\" style=\"width: 10px; height: 10px;background-color: rgb(123, 234, 123);\"></td><td title=\"Index: [60, 18]&#10;Color: (123, 234, 123)\" style=\"width: 10px; height: 10px;background-color: rgb(123, 234, 123);\"></td><td title=\"Index: [60, 19]&#10;Color: (0, 0, 0)\" style=\"width: 10px; height: 10px;background-color: rgb(0, 0, 0);\"></td><td title=\"Index: [60, 20]&#10;Color: (123, 234, 123)\" style=\"width: 10px; height: 10px;background-color: rgb(123, 234, 123);\"></td><td title=\"Index: [60, 21]&#10;Color: (123, 234, 123)\" style=\"width: 10px; height: 10px;background-color: rgb(123, 234, 123);\"></td><td title=\"Index: [60, 22]&#10;Color: (123, 234, 123)\" style=\"width: 10px; height: 10px;background-color: rgb(123, 234, 123);\"></td><td title=\"Index: [60, 23]&#10;Color: (0, 0, 0)\" style=\"width: 10px; height: 10px;background-color: rgb(0, 0, 0);\"></td><td title=\"Index: [60, 24]&#10;Color: (123, 234, 123)\" style=\"width: 10px; height: 10px;background-color: rgb(123, 234, 123);\"></td><td title=\"Index: [60, 25]&#10;Color: (123, 234, 123)\" style=\"width: 10px; height: 10px;background-color: rgb(123, 234, 123);\"></td><td title=\"Index: [60, 26]&#10;Color: (123, 234, 123)\" style=\"width: 10px; height: 10px;background-color: rgb(123, 234, 123);\"></td><td title=\"Index: [60, 27]&#10;Color: (123, 234, 123)\" style=\"width: 10px; height: 10px;background-color: rgb(123, 234, 123);\"></td><td title=\"Index: [60, 28]&#10;Color: (123, 234, 123)\" style=\"width: 10px; height: 10px;background-color: rgb(123, 234, 123);\"></td><td title=\"Index: [60, 29]&#10;Color: (123, 234, 123)\" style=\"width: 10px; height: 10px;background-color: rgb(123, 234, 123);\"></td><td title=\"Index: [60, 30]&#10;Color: (123, 234, 123)\" style=\"width: 10px; height: 10px;background-color: rgb(123, 234, 123);\"></td><td title=\"Index: [60, 31]&#10;Color: (123, 234, 123)\" style=\"width: 10px; height: 10px;background-color: rgb(123, 234, 123);\"></td><td title=\"Index: [60, 32]&#10;Color: (123, 234, 123)\" style=\"width: 10px; height: 10px;background-color: rgb(123, 234, 123);\"></td><td title=\"Index: [60, 33]&#10;Color: (123, 234, 123)\" style=\"width: 10px; height: 10px;background-color: rgb(123, 234, 123);\"></td><td title=\"Index: [60, 34]&#10;Color: (123, 234, 123)\" style=\"width: 10px; height: 10px;background-color: rgb(123, 234, 123);\"></td><td title=\"Index: [60, 35]&#10;Color: (123, 234, 123)\" style=\"width: 10px; height: 10px;background-color: rgb(123, 234, 123);\"></td><td title=\"Index: [60, 36]&#10;Color: (123, 234, 123)\" style=\"width: 10px; height: 10px;background-color: rgb(123, 234, 123);\"></td><td title=\"Index: [60, 37]&#10;Color: (0, 0, 0)\" style=\"width: 10px; height: 10px;background-color: rgb(0, 0, 0);\"></td><td title=\"Index: [60, 38]&#10;Color: (123, 234, 123)\" style=\"width: 10px; height: 10px;background-color: rgb(123, 234, 123);\"></td><td title=\"Index: [60, 39]&#10;Color: (123, 234, 123)\" style=\"width: 10px; height: 10px;background-color: rgb(123, 234, 123);\"></td><td title=\"Index: [60, 40]&#10;Color: (123, 234, 123)\" style=\"width: 10px; height: 10px;background-color: rgb(123, 234, 123);\"></td><td title=\"Index: [60, 41]&#10;Color: (0, 0, 0)\" style=\"width: 10px; height: 10px;background-color: rgb(0, 0, 0);\"></td><td title=\"Index: [60, 42]&#10;Color: (123, 234, 123)\" style=\"width: 10px; height: 10px;background-color: rgb(123, 234, 123);\"></td><td title=\"Index: [60, 43]&#10;Color: (123, 234, 123)\" style=\"width: 10px; height: 10px;background-color: rgb(123, 234, 123);\"></td><td title=\"Index: [60, 44]&#10;Color: (123, 234, 123)\" style=\"width: 10px; height: 10px;background-color: rgb(123, 234, 123);\"></td><td title=\"Index: [60, 45]&#10;Color: (123, 234, 123)\" style=\"width: 10px; height: 10px;background-color: rgb(123, 234, 123);\"></td><td title=\"Index: [60, 46]&#10;Color: (123, 234, 123)\" style=\"width: 10px; height: 10px;background-color: rgb(123, 234, 123);\"></td><td title=\"Index: [60, 47]&#10;Color: (123, 234, 123)\" style=\"width: 10px; height: 10px;background-color: rgb(123, 234, 123);\"></td><td title=\"Index: [60, 48]&#10;Color: (123, 234, 123)\" style=\"width: 10px; height: 10px;background-color: rgb(123, 234, 123);\"></td><td title=\"Index: [60, 49]&#10;Color: (0, 0, 0)\" style=\"width: 10px; height: 10px;background-color: rgb(0, 0, 0);\"></td></tr><tr><td title=\"Index: [61, 0]&#10;Color: (123, 234, 123)\" style=\"width: 10px; height: 10px;background-color: rgb(123, 234, 123);\"></td><td title=\"Index: [61, 1]&#10;Color: (123, 234, 123)\" style=\"width: 10px; height: 10px;background-color: rgb(123, 234, 123);\"></td><td title=\"Index: [61, 2]&#10;Color: (123, 234, 123)\" style=\"width: 10px; height: 10px;background-color: rgb(123, 234, 123);\"></td><td title=\"Index: [61, 3]&#10;Color: (123, 234, 123)\" style=\"width: 10px; height: 10px;background-color: rgb(123, 234, 123);\"></td><td title=\"Index: [61, 4]&#10;Color: (123, 234, 123)\" style=\"width: 10px; height: 10px;background-color: rgb(123, 234, 123);\"></td><td title=\"Index: [61, 5]&#10;Color: (123, 234, 123)\" style=\"width: 10px; height: 10px;background-color: rgb(123, 234, 123);\"></td><td title=\"Index: [61, 6]&#10;Color: (123, 234, 123)\" style=\"width: 10px; height: 10px;background-color: rgb(123, 234, 123);\"></td><td title=\"Index: [61, 7]&#10;Color: (123, 234, 123)\" style=\"width: 10px; height: 10px;background-color: rgb(123, 234, 123);\"></td><td title=\"Index: [61, 8]&#10;Color: (123, 234, 123)\" style=\"width: 10px; height: 10px;background-color: rgb(123, 234, 123);\"></td><td title=\"Index: [61, 9]&#10;Color: (123, 234, 123)\" style=\"width: 10px; height: 10px;background-color: rgb(123, 234, 123);\"></td><td title=\"Index: [61, 10]&#10;Color: (123, 234, 123)\" style=\"width: 10px; height: 10px;background-color: rgb(123, 234, 123);\"></td><td title=\"Index: [61, 11]&#10;Color: (0, 0, 0)\" style=\"width: 10px; height: 10px;background-color: rgb(0, 0, 0);\"></td><td title=\"Index: [61, 12]&#10;Color: (123, 234, 123)\" style=\"width: 10px; height: 10px;background-color: rgb(123, 234, 123);\"></td><td title=\"Index: [61, 13]&#10;Color: (123, 234, 123)\" style=\"width: 10px; height: 10px;background-color: rgb(123, 234, 123);\"></td><td title=\"Index: [61, 14]&#10;Color: (123, 234, 123)\" style=\"width: 10px; height: 10px;background-color: rgb(123, 234, 123);\"></td><td title=\"Index: [61, 15]&#10;Color: (123, 234, 123)\" style=\"width: 10px; height: 10px;background-color: rgb(123, 234, 123);\"></td><td title=\"Index: [61, 16]&#10;Color: (123, 234, 123)\" style=\"width: 10px; height: 10px;background-color: rgb(123, 234, 123);\"></td><td title=\"Index: [61, 17]&#10;Color: (0, 0, 0)\" style=\"width: 10px; height: 10px;background-color: rgb(0, 0, 0);\"></td><td title=\"Index: [61, 18]&#10;Color: (123, 234, 123)\" style=\"width: 10px; height: 10px;background-color: rgb(123, 234, 123);\"></td><td title=\"Index: [61, 19]&#10;Color: (123, 234, 123)\" style=\"width: 10px; height: 10px;background-color: rgb(123, 234, 123);\"></td><td title=\"Index: [61, 20]&#10;Color: (123, 234, 123)\" style=\"width: 10px; height: 10px;background-color: rgb(123, 234, 123);\"></td><td title=\"Index: [61, 21]&#10;Color: (123, 234, 123)\" style=\"width: 10px; height: 10px;background-color: rgb(123, 234, 123);\"></td><td title=\"Index: [61, 22]&#10;Color: (123, 234, 123)\" style=\"width: 10px; height: 10px;background-color: rgb(123, 234, 123);\"></td><td title=\"Index: [61, 23]&#10;Color: (123, 234, 123)\" style=\"width: 10px; height: 10px;background-color: rgb(123, 234, 123);\"></td><td title=\"Index: [61, 24]&#10;Color: (123, 234, 123)\" style=\"width: 10px; height: 10px;background-color: rgb(123, 234, 123);\"></td><td title=\"Index: [61, 25]&#10;Color: (123, 234, 123)\" style=\"width: 10px; height: 10px;background-color: rgb(123, 234, 123);\"></td><td title=\"Index: [61, 26]&#10;Color: (123, 234, 123)\" style=\"width: 10px; height: 10px;background-color: rgb(123, 234, 123);\"></td><td title=\"Index: [61, 27]&#10;Color: (123, 234, 123)\" style=\"width: 10px; height: 10px;background-color: rgb(123, 234, 123);\"></td><td title=\"Index: [61, 28]&#10;Color: (123, 234, 123)\" style=\"width: 10px; height: 10px;background-color: rgb(123, 234, 123);\"></td><td title=\"Index: [61, 29]&#10;Color: (0, 0, 0)\" style=\"width: 10px; height: 10px;background-color: rgb(0, 0, 0);\"></td><td title=\"Index: [61, 30]&#10;Color: (123, 234, 123)\" style=\"width: 10px; height: 10px;background-color: rgb(123, 234, 123);\"></td><td title=\"Index: [61, 31]&#10;Color: (123, 234, 123)\" style=\"width: 10px; height: 10px;background-color: rgb(123, 234, 123);\"></td><td title=\"Index: [61, 32]&#10;Color: (123, 234, 123)\" style=\"width: 10px; height: 10px;background-color: rgb(123, 234, 123);\"></td><td title=\"Index: [61, 33]&#10;Color: (0, 0, 0)\" style=\"width: 10px; height: 10px;background-color: rgb(0, 0, 0);\"></td><td title=\"Index: [61, 34]&#10;Color: (123, 234, 123)\" style=\"width: 10px; height: 10px;background-color: rgb(123, 234, 123);\"></td><td title=\"Index: [61, 35]&#10;Color: (123, 234, 123)\" style=\"width: 10px; height: 10px;background-color: rgb(123, 234, 123);\"></td><td title=\"Index: [61, 36]&#10;Color: (123, 234, 123)\" style=\"width: 10px; height: 10px;background-color: rgb(123, 234, 123);\"></td><td title=\"Index: [61, 37]&#10;Color: (123, 234, 123)\" style=\"width: 10px; height: 10px;background-color: rgb(123, 234, 123);\"></td><td title=\"Index: [61, 38]&#10;Color: (123, 234, 123)\" style=\"width: 10px; height: 10px;background-color: rgb(123, 234, 123);\"></td><td title=\"Index: [61, 39]&#10;Color: (0, 0, 0)\" style=\"width: 10px; height: 10px;background-color: rgb(0, 0, 0);\"></td><td title=\"Index: [61, 40]&#10;Color: (123, 234, 123)\" style=\"width: 10px; height: 10px;background-color: rgb(123, 234, 123);\"></td><td title=\"Index: [61, 41]&#10;Color: (123, 234, 123)\" style=\"width: 10px; height: 10px;background-color: rgb(123, 234, 123);\"></td><td title=\"Index: [61, 42]&#10;Color: (123, 234, 123)\" style=\"width: 10px; height: 10px;background-color: rgb(123, 234, 123);\"></td><td title=\"Index: [61, 43]&#10;Color: (123, 234, 123)\" style=\"width: 10px; height: 10px;background-color: rgb(123, 234, 123);\"></td><td title=\"Index: [61, 44]&#10;Color: (123, 234, 123)\" style=\"width: 10px; height: 10px;background-color: rgb(123, 234, 123);\"></td><td title=\"Index: [61, 45]&#10;Color: (123, 234, 123)\" style=\"width: 10px; height: 10px;background-color: rgb(123, 234, 123);\"></td><td title=\"Index: [61, 46]&#10;Color: (123, 234, 123)\" style=\"width: 10px; height: 10px;background-color: rgb(123, 234, 123);\"></td><td title=\"Index: [61, 47]&#10;Color: (123, 234, 123)\" style=\"width: 10px; height: 10px;background-color: rgb(123, 234, 123);\"></td><td title=\"Index: [61, 48]&#10;Color: (123, 234, 123)\" style=\"width: 10px; height: 10px;background-color: rgb(123, 234, 123);\"></td><td title=\"Index: [61, 49]&#10;Color: (123, 234, 123)\" style=\"width: 10px; height: 10px;background-color: rgb(123, 234, 123);\"></td></tr><tr><td title=\"Index: [62, 0]&#10;Color: (123, 234, 123)\" style=\"width: 10px; height: 10px;background-color: rgb(123, 234, 123);\"></td><td title=\"Index: [62, 1]&#10;Color: (123, 234, 123)\" style=\"width: 10px; height: 10px;background-color: rgb(123, 234, 123);\"></td><td title=\"Index: [62, 2]&#10;Color: (123, 234, 123)\" style=\"width: 10px; height: 10px;background-color: rgb(123, 234, 123);\"></td><td title=\"Index: [62, 3]&#10;Color: (123, 234, 123)\" style=\"width: 10px; height: 10px;background-color: rgb(123, 234, 123);\"></td><td title=\"Index: [62, 4]&#10;Color: (123, 234, 123)\" style=\"width: 10px; height: 10px;background-color: rgb(123, 234, 123);\"></td><td title=\"Index: [62, 5]&#10;Color: (123, 234, 123)\" style=\"width: 10px; height: 10px;background-color: rgb(123, 234, 123);\"></td><td title=\"Index: [62, 6]&#10;Color: (123, 234, 123)\" style=\"width: 10px; height: 10px;background-color: rgb(123, 234, 123);\"></td><td title=\"Index: [62, 7]&#10;Color: (123, 234, 123)\" style=\"width: 10px; height: 10px;background-color: rgb(123, 234, 123);\"></td><td title=\"Index: [62, 8]&#10;Color: (123, 234, 123)\" style=\"width: 10px; height: 10px;background-color: rgb(123, 234, 123);\"></td><td title=\"Index: [62, 9]&#10;Color: (0, 0, 0)\" style=\"width: 10px; height: 10px;background-color: rgb(0, 0, 0);\"></td><td title=\"Index: [62, 10]&#10;Color: (123, 234, 123)\" style=\"width: 10px; height: 10px;background-color: rgb(123, 234, 123);\"></td><td title=\"Index: [62, 11]&#10;Color: (123, 234, 123)\" style=\"width: 10px; height: 10px;background-color: rgb(123, 234, 123);\"></td><td title=\"Index: [62, 12]&#10;Color: (123, 234, 123)\" style=\"width: 10px; height: 10px;background-color: rgb(123, 234, 123);\"></td><td title=\"Index: [62, 13]&#10;Color: (123, 234, 123)\" style=\"width: 10px; height: 10px;background-color: rgb(123, 234, 123);\"></td><td title=\"Index: [62, 14]&#10;Color: (123, 234, 123)\" style=\"width: 10px; height: 10px;background-color: rgb(123, 234, 123);\"></td><td title=\"Index: [62, 15]&#10;Color: (123, 234, 123)\" style=\"width: 10px; height: 10px;background-color: rgb(123, 234, 123);\"></td><td title=\"Index: [62, 16]&#10;Color: (123, 234, 123)\" style=\"width: 10px; height: 10px;background-color: rgb(123, 234, 123);\"></td><td title=\"Index: [62, 17]&#10;Color: (123, 234, 123)\" style=\"width: 10px; height: 10px;background-color: rgb(123, 234, 123);\"></td><td title=\"Index: [62, 18]&#10;Color: (123, 234, 123)\" style=\"width: 10px; height: 10px;background-color: rgb(123, 234, 123);\"></td><td title=\"Index: [62, 19]&#10;Color: (0, 0, 0)\" style=\"width: 10px; height: 10px;background-color: rgb(0, 0, 0);\"></td><td title=\"Index: [62, 20]&#10;Color: (123, 234, 123)\" style=\"width: 10px; height: 10px;background-color: rgb(123, 234, 123);\"></td><td title=\"Index: [62, 21]&#10;Color: (0, 0, 0)\" style=\"width: 10px; height: 10px;background-color: rgb(0, 0, 0);\"></td><td title=\"Index: [62, 22]&#10;Color: (123, 234, 123)\" style=\"width: 10px; height: 10px;background-color: rgb(123, 234, 123);\"></td><td title=\"Index: [62, 23]&#10;Color: (123, 234, 123)\" style=\"width: 10px; height: 10px;background-color: rgb(123, 234, 123);\"></td><td title=\"Index: [62, 24]&#10;Color: (123, 234, 123)\" style=\"width: 10px; height: 10px;background-color: rgb(123, 234, 123);\"></td><td title=\"Index: [62, 25]&#10;Color: (123, 234, 123)\" style=\"width: 10px; height: 10px;background-color: rgb(123, 234, 123);\"></td><td title=\"Index: [62, 26]&#10;Color: (123, 234, 123)\" style=\"width: 10px; height: 10px;background-color: rgb(123, 234, 123);\"></td><td title=\"Index: [62, 27]&#10;Color: (123, 234, 123)\" style=\"width: 10px; height: 10px;background-color: rgb(123, 234, 123);\"></td><td title=\"Index: [62, 28]&#10;Color: (123, 234, 123)\" style=\"width: 10px; height: 10px;background-color: rgb(123, 234, 123);\"></td><td title=\"Index: [62, 29]&#10;Color: (123, 234, 123)\" style=\"width: 10px; height: 10px;background-color: rgb(123, 234, 123);\"></td><td title=\"Index: [62, 30]&#10;Color: (123, 234, 123)\" style=\"width: 10px; height: 10px;background-color: rgb(123, 234, 123);\"></td><td title=\"Index: [62, 31]&#10;Color: (123, 234, 123)\" style=\"width: 10px; height: 10px;background-color: rgb(123, 234, 123);\"></td><td title=\"Index: [62, 32]&#10;Color: (123, 234, 123)\" style=\"width: 10px; height: 10px;background-color: rgb(123, 234, 123);\"></td><td title=\"Index: [62, 33]&#10;Color: (123, 234, 123)\" style=\"width: 10px; height: 10px;background-color: rgb(123, 234, 123);\"></td><td title=\"Index: [62, 34]&#10;Color: (123, 234, 123)\" style=\"width: 10px; height: 10px;background-color: rgb(123, 234, 123);\"></td><td title=\"Index: [62, 35]&#10;Color: (123, 234, 123)\" style=\"width: 10px; height: 10px;background-color: rgb(123, 234, 123);\"></td><td title=\"Index: [62, 36]&#10;Color: (123, 234, 123)\" style=\"width: 10px; height: 10px;background-color: rgb(123, 234, 123);\"></td><td title=\"Index: [62, 37]&#10;Color: (0, 0, 0)\" style=\"width: 10px; height: 10px;background-color: rgb(0, 0, 0);\"></td><td title=\"Index: [62, 38]&#10;Color: (123, 234, 123)\" style=\"width: 10px; height: 10px;background-color: rgb(123, 234, 123);\"></td><td title=\"Index: [62, 39]&#10;Color: (123, 234, 123)\" style=\"width: 10px; height: 10px;background-color: rgb(123, 234, 123);\"></td><td title=\"Index: [62, 40]&#10;Color: (123, 234, 123)\" style=\"width: 10px; height: 10px;background-color: rgb(123, 234, 123);\"></td><td title=\"Index: [62, 41]&#10;Color: (123, 234, 123)\" style=\"width: 10px; height: 10px;background-color: rgb(123, 234, 123);\"></td><td title=\"Index: [62, 42]&#10;Color: (123, 234, 123)\" style=\"width: 10px; height: 10px;background-color: rgb(123, 234, 123);\"></td><td title=\"Index: [62, 43]&#10;Color: (123, 234, 123)\" style=\"width: 10px; height: 10px;background-color: rgb(123, 234, 123);\"></td><td title=\"Index: [62, 44]&#10;Color: (123, 234, 123)\" style=\"width: 10px; height: 10px;background-color: rgb(123, 234, 123);\"></td><td title=\"Index: [62, 45]&#10;Color: (123, 234, 123)\" style=\"width: 10px; height: 10px;background-color: rgb(123, 234, 123);\"></td><td title=\"Index: [62, 46]&#10;Color: (123, 234, 123)\" style=\"width: 10px; height: 10px;background-color: rgb(123, 234, 123);\"></td><td title=\"Index: [62, 47]&#10;Color: (123, 234, 123)\" style=\"width: 10px; height: 10px;background-color: rgb(123, 234, 123);\"></td><td title=\"Index: [62, 48]&#10;Color: (123, 234, 123)\" style=\"width: 10px; height: 10px;background-color: rgb(123, 234, 123);\"></td><td title=\"Index: [62, 49]&#10;Color: (123, 234, 123)\" style=\"width: 10px; height: 10px;background-color: rgb(123, 234, 123);\"></td></tr><tr><td title=\"Index: [63, 0]&#10;Color: (123, 234, 123)\" style=\"width: 10px; height: 10px;background-color: rgb(123, 234, 123);\"></td><td title=\"Index: [63, 1]&#10;Color: (123, 234, 123)\" style=\"width: 10px; height: 10px;background-color: rgb(123, 234, 123);\"></td><td title=\"Index: [63, 2]&#10;Color: (123, 234, 123)\" style=\"width: 10px; height: 10px;background-color: rgb(123, 234, 123);\"></td><td title=\"Index: [63, 3]&#10;Color: (123, 234, 123)\" style=\"width: 10px; height: 10px;background-color: rgb(123, 234, 123);\"></td><td title=\"Index: [63, 4]&#10;Color: (123, 234, 123)\" style=\"width: 10px; height: 10px;background-color: rgb(123, 234, 123);\"></td><td title=\"Index: [63, 5]&#10;Color: (123, 234, 123)\" style=\"width: 10px; height: 10px;background-color: rgb(123, 234, 123);\"></td><td title=\"Index: [63, 6]&#10;Color: (123, 234, 123)\" style=\"width: 10px; height: 10px;background-color: rgb(123, 234, 123);\"></td><td title=\"Index: [63, 7]&#10;Color: (123, 234, 123)\" style=\"width: 10px; height: 10px;background-color: rgb(123, 234, 123);\"></td><td title=\"Index: [63, 8]&#10;Color: (123, 234, 123)\" style=\"width: 10px; height: 10px;background-color: rgb(123, 234, 123);\"></td><td title=\"Index: [63, 9]&#10;Color: (123, 234, 123)\" style=\"width: 10px; height: 10px;background-color: rgb(123, 234, 123);\"></td><td title=\"Index: [63, 10]&#10;Color: (123, 234, 123)\" style=\"width: 10px; height: 10px;background-color: rgb(123, 234, 123);\"></td><td title=\"Index: [63, 11]&#10;Color: (123, 234, 123)\" style=\"width: 10px; height: 10px;background-color: rgb(123, 234, 123);\"></td><td title=\"Index: [63, 12]&#10;Color: (123, 234, 123)\" style=\"width: 10px; height: 10px;background-color: rgb(123, 234, 123);\"></td><td title=\"Index: [63, 13]&#10;Color: (0, 0, 0)\" style=\"width: 10px; height: 10px;background-color: rgb(0, 0, 0);\"></td><td title=\"Index: [63, 14]&#10;Color: (123, 234, 123)\" style=\"width: 10px; height: 10px;background-color: rgb(123, 234, 123);\"></td><td title=\"Index: [63, 15]&#10;Color: (123, 234, 123)\" style=\"width: 10px; height: 10px;background-color: rgb(123, 234, 123);\"></td><td title=\"Index: [63, 16]&#10;Color: (123, 234, 123)\" style=\"width: 10px; height: 10px;background-color: rgb(123, 234, 123);\"></td><td title=\"Index: [63, 17]&#10;Color: (0, 0, 0)\" style=\"width: 10px; height: 10px;background-color: rgb(0, 0, 0);\"></td><td title=\"Index: [63, 18]&#10;Color: (123, 234, 123)\" style=\"width: 10px; height: 10px;background-color: rgb(123, 234, 123);\"></td><td title=\"Index: [63, 19]&#10;Color: (0, 0, 0)\" style=\"width: 10px; height: 10px;background-color: rgb(0, 0, 0);\"></td><td title=\"Index: [63, 20]&#10;Color: (123, 234, 123)\" style=\"width: 10px; height: 10px;background-color: rgb(123, 234, 123);\"></td><td title=\"Index: [63, 21]&#10;Color: (123, 234, 123)\" style=\"width: 10px; height: 10px;background-color: rgb(123, 234, 123);\"></td><td title=\"Index: [63, 22]&#10;Color: (123, 234, 123)\" style=\"width: 10px; height: 10px;background-color: rgb(123, 234, 123);\"></td><td title=\"Index: [63, 23]&#10;Color: (123, 234, 123)\" style=\"width: 10px; height: 10px;background-color: rgb(123, 234, 123);\"></td><td title=\"Index: [63, 24]&#10;Color: (123, 234, 123)\" style=\"width: 10px; height: 10px;background-color: rgb(123, 234, 123);\"></td><td title=\"Index: [63, 25]&#10;Color: (123, 234, 123)\" style=\"width: 10px; height: 10px;background-color: rgb(123, 234, 123);\"></td><td title=\"Index: [63, 26]&#10;Color: (123, 234, 123)\" style=\"width: 10px; height: 10px;background-color: rgb(123, 234, 123);\"></td><td title=\"Index: [63, 27]&#10;Color: (123, 234, 123)\" style=\"width: 10px; height: 10px;background-color: rgb(123, 234, 123);\"></td><td title=\"Index: [63, 28]&#10;Color: (123, 234, 123)\" style=\"width: 10px; height: 10px;background-color: rgb(123, 234, 123);\"></td><td title=\"Index: [63, 29]&#10;Color: (123, 234, 123)\" style=\"width: 10px; height: 10px;background-color: rgb(123, 234, 123);\"></td><td title=\"Index: [63, 30]&#10;Color: (123, 234, 123)\" style=\"width: 10px; height: 10px;background-color: rgb(123, 234, 123);\"></td><td title=\"Index: [63, 31]&#10;Color: (0, 0, 0)\" style=\"width: 10px; height: 10px;background-color: rgb(0, 0, 0);\"></td><td title=\"Index: [63, 32]&#10;Color: (123, 234, 123)\" style=\"width: 10px; height: 10px;background-color: rgb(123, 234, 123);\"></td><td title=\"Index: [63, 33]&#10;Color: (123, 234, 123)\" style=\"width: 10px; height: 10px;background-color: rgb(123, 234, 123);\"></td><td title=\"Index: [63, 34]&#10;Color: (123, 234, 123)\" style=\"width: 10px; height: 10px;background-color: rgb(123, 234, 123);\"></td><td title=\"Index: [63, 35]&#10;Color: (123, 234, 123)\" style=\"width: 10px; height: 10px;background-color: rgb(123, 234, 123);\"></td><td title=\"Index: [63, 36]&#10;Color: (123, 234, 123)\" style=\"width: 10px; height: 10px;background-color: rgb(123, 234, 123);\"></td><td title=\"Index: [63, 37]&#10;Color: (0, 0, 0)\" style=\"width: 10px; height: 10px;background-color: rgb(0, 0, 0);\"></td><td title=\"Index: [63, 38]&#10;Color: (123, 234, 123)\" style=\"width: 10px; height: 10px;background-color: rgb(123, 234, 123);\"></td><td title=\"Index: [63, 39]&#10;Color: (123, 234, 123)\" style=\"width: 10px; height: 10px;background-color: rgb(123, 234, 123);\"></td><td title=\"Index: [63, 40]&#10;Color: (123, 234, 123)\" style=\"width: 10px; height: 10px;background-color: rgb(123, 234, 123);\"></td><td title=\"Index: [63, 41]&#10;Color: (0, 0, 0)\" style=\"width: 10px; height: 10px;background-color: rgb(0, 0, 0);\"></td><td title=\"Index: [63, 42]&#10;Color: (123, 234, 123)\" style=\"width: 10px; height: 10px;background-color: rgb(123, 234, 123);\"></td><td title=\"Index: [63, 43]&#10;Color: (123, 234, 123)\" style=\"width: 10px; height: 10px;background-color: rgb(123, 234, 123);\"></td><td title=\"Index: [63, 44]&#10;Color: (123, 234, 123)\" style=\"width: 10px; height: 10px;background-color: rgb(123, 234, 123);\"></td><td title=\"Index: [63, 45]&#10;Color: (123, 234, 123)\" style=\"width: 10px; height: 10px;background-color: rgb(123, 234, 123);\"></td><td title=\"Index: [63, 46]&#10;Color: (123, 234, 123)\" style=\"width: 10px; height: 10px;background-color: rgb(123, 234, 123);\"></td><td title=\"Index: [63, 47]&#10;Color: (123, 234, 123)\" style=\"width: 10px; height: 10px;background-color: rgb(123, 234, 123);\"></td><td title=\"Index: [63, 48]&#10;Color: (123, 234, 123)\" style=\"width: 10px; height: 10px;background-color: rgb(123, 234, 123);\"></td><td title=\"Index: [63, 49]&#10;Color: (123, 234, 123)\" style=\"width: 10px; height: 10px;background-color: rgb(123, 234, 123);\"></td></tr><tr><td title=\"Index: [64, 0]&#10;Color: (123, 234, 123)\" style=\"width: 10px; height: 10px;background-color: rgb(123, 234, 123);\"></td><td title=\"Index: [64, 1]&#10;Color: (123, 234, 123)\" style=\"width: 10px; height: 10px;background-color: rgb(123, 234, 123);\"></td><td title=\"Index: [64, 2]&#10;Color: (123, 234, 123)\" style=\"width: 10px; height: 10px;background-color: rgb(123, 234, 123);\"></td><td title=\"Index: [64, 3]&#10;Color: (0, 0, 0)\" style=\"width: 10px; height: 10px;background-color: rgb(0, 0, 0);\"></td><td title=\"Index: [64, 4]&#10;Color: (123, 234, 123)\" style=\"width: 10px; height: 10px;background-color: rgb(123, 234, 123);\"></td><td title=\"Index: [64, 5]&#10;Color: (123, 234, 123)\" style=\"width: 10px; height: 10px;background-color: rgb(123, 234, 123);\"></td><td title=\"Index: [64, 6]&#10;Color: (123, 234, 123)\" style=\"width: 10px; height: 10px;background-color: rgb(123, 234, 123);\"></td><td title=\"Index: [64, 7]&#10;Color: (123, 234, 123)\" style=\"width: 10px; height: 10px;background-color: rgb(123, 234, 123);\"></td><td title=\"Index: [64, 8]&#10;Color: (123, 234, 123)\" style=\"width: 10px; height: 10px;background-color: rgb(123, 234, 123);\"></td><td title=\"Index: [64, 9]&#10;Color: (0, 0, 0)\" style=\"width: 10px; height: 10px;background-color: rgb(0, 0, 0);\"></td><td title=\"Index: [64, 10]&#10;Color: (123, 234, 123)\" style=\"width: 10px; height: 10px;background-color: rgb(123, 234, 123);\"></td><td title=\"Index: [64, 11]&#10;Color: (123, 234, 123)\" style=\"width: 10px; height: 10px;background-color: rgb(123, 234, 123);\"></td><td title=\"Index: [64, 12]&#10;Color: (123, 234, 123)\" style=\"width: 10px; height: 10px;background-color: rgb(123, 234, 123);\"></td><td title=\"Index: [64, 13]&#10;Color: (123, 234, 123)\" style=\"width: 10px; height: 10px;background-color: rgb(123, 234, 123);\"></td><td title=\"Index: [64, 14]&#10;Color: (123, 234, 123)\" style=\"width: 10px; height: 10px;background-color: rgb(123, 234, 123);\"></td><td title=\"Index: [64, 15]&#10;Color: (123, 234, 123)\" style=\"width: 10px; height: 10px;background-color: rgb(123, 234, 123);\"></td><td title=\"Index: [64, 16]&#10;Color: (123, 234, 123)\" style=\"width: 10px; height: 10px;background-color: rgb(123, 234, 123);\"></td><td title=\"Index: [64, 17]&#10;Color: (0, 0, 0)\" style=\"width: 10px; height: 10px;background-color: rgb(0, 0, 0);\"></td><td title=\"Index: [64, 18]&#10;Color: (123, 234, 123)\" style=\"width: 10px; height: 10px;background-color: rgb(123, 234, 123);\"></td><td title=\"Index: [64, 19]&#10;Color: (123, 234, 123)\" style=\"width: 10px; height: 10px;background-color: rgb(123, 234, 123);\"></td><td title=\"Index: [64, 20]&#10;Color: (123, 234, 123)\" style=\"width: 10px; height: 10px;background-color: rgb(123, 234, 123);\"></td><td title=\"Index: [64, 21]&#10;Color: (0, 0, 0)\" style=\"width: 10px; height: 10px;background-color: rgb(0, 0, 0);\"></td><td title=\"Index: [64, 22]&#10;Color: (123, 234, 123)\" style=\"width: 10px; height: 10px;background-color: rgb(123, 234, 123);\"></td><td title=\"Index: [64, 23]&#10;Color: (123, 234, 123)\" style=\"width: 10px; height: 10px;background-color: rgb(123, 234, 123);\"></td><td title=\"Index: [64, 24]&#10;Color: (123, 234, 123)\" style=\"width: 10px; height: 10px;background-color: rgb(123, 234, 123);\"></td><td title=\"Index: [64, 25]&#10;Color: (123, 234, 123)\" style=\"width: 10px; height: 10px;background-color: rgb(123, 234, 123);\"></td><td title=\"Index: [64, 26]&#10;Color: (123, 234, 123)\" style=\"width: 10px; height: 10px;background-color: rgb(123, 234, 123);\"></td><td title=\"Index: [64, 27]&#10;Color: (123, 234, 123)\" style=\"width: 10px; height: 10px;background-color: rgb(123, 234, 123);\"></td><td title=\"Index: [64, 28]&#10;Color: (123, 234, 123)\" style=\"width: 10px; height: 10px;background-color: rgb(123, 234, 123);\"></td><td title=\"Index: [64, 29]&#10;Color: (0, 0, 0)\" style=\"width: 10px; height: 10px;background-color: rgb(0, 0, 0);\"></td><td title=\"Index: [64, 30]&#10;Color: (123, 234, 123)\" style=\"width: 10px; height: 10px;background-color: rgb(123, 234, 123);\"></td><td title=\"Index: [64, 31]&#10;Color: (123, 234, 123)\" style=\"width: 10px; height: 10px;background-color: rgb(123, 234, 123);\"></td><td title=\"Index: [64, 32]&#10;Color: (123, 234, 123)\" style=\"width: 10px; height: 10px;background-color: rgb(123, 234, 123);\"></td><td title=\"Index: [64, 33]&#10;Color: (123, 234, 123)\" style=\"width: 10px; height: 10px;background-color: rgb(123, 234, 123);\"></td><td title=\"Index: [64, 34]&#10;Color: (123, 234, 123)\" style=\"width: 10px; height: 10px;background-color: rgb(123, 234, 123);\"></td><td title=\"Index: [64, 35]&#10;Color: (123, 234, 123)\" style=\"width: 10px; height: 10px;background-color: rgb(123, 234, 123);\"></td><td title=\"Index: [64, 36]&#10;Color: (123, 234, 123)\" style=\"width: 10px; height: 10px;background-color: rgb(123, 234, 123);\"></td><td title=\"Index: [64, 37]&#10;Color: (123, 234, 123)\" style=\"width: 10px; height: 10px;background-color: rgb(123, 234, 123);\"></td><td title=\"Index: [64, 38]&#10;Color: (123, 234, 123)\" style=\"width: 10px; height: 10px;background-color: rgb(123, 234, 123);\"></td><td title=\"Index: [64, 39]&#10;Color: (123, 234, 123)\" style=\"width: 10px; height: 10px;background-color: rgb(123, 234, 123);\"></td><td title=\"Index: [64, 40]&#10;Color: (123, 234, 123)\" style=\"width: 10px; height: 10px;background-color: rgb(123, 234, 123);\"></td><td title=\"Index: [64, 41]&#10;Color: (123, 234, 123)\" style=\"width: 10px; height: 10px;background-color: rgb(123, 234, 123);\"></td><td title=\"Index: [64, 42]&#10;Color: (123, 234, 123)\" style=\"width: 10px; height: 10px;background-color: rgb(123, 234, 123);\"></td><td title=\"Index: [64, 43]&#10;Color: (123, 234, 123)\" style=\"width: 10px; height: 10px;background-color: rgb(123, 234, 123);\"></td><td title=\"Index: [64, 44]&#10;Color: (123, 234, 123)\" style=\"width: 10px; height: 10px;background-color: rgb(123, 234, 123);\"></td><td title=\"Index: [64, 45]&#10;Color: (123, 234, 123)\" style=\"width: 10px; height: 10px;background-color: rgb(123, 234, 123);\"></td><td title=\"Index: [64, 46]&#10;Color: (123, 234, 123)\" style=\"width: 10px; height: 10px;background-color: rgb(123, 234, 123);\"></td><td title=\"Index: [64, 47]&#10;Color: (123, 234, 123)\" style=\"width: 10px; height: 10px;background-color: rgb(123, 234, 123);\"></td><td title=\"Index: [64, 48]&#10;Color: (123, 234, 123)\" style=\"width: 10px; height: 10px;background-color: rgb(123, 234, 123);\"></td><td title=\"Index: [64, 49]&#10;Color: (123, 234, 123)\" style=\"width: 10px; height: 10px;background-color: rgb(123, 234, 123);\"></td></tr><tr><td title=\"Index: [65, 0]&#10;Color: (123, 234, 123)\" style=\"width: 10px; height: 10px;background-color: rgb(123, 234, 123);\"></td><td title=\"Index: [65, 1]&#10;Color: (0, 0, 0)\" style=\"width: 10px; height: 10px;background-color: rgb(0, 0, 0);\"></td><td title=\"Index: [65, 2]&#10;Color: (123, 234, 123)\" style=\"width: 10px; height: 10px;background-color: rgb(123, 234, 123);\"></td><td title=\"Index: [65, 3]&#10;Color: (0, 0, 0)\" style=\"width: 10px; height: 10px;background-color: rgb(0, 0, 0);\"></td><td title=\"Index: [65, 4]&#10;Color: (123, 234, 123)\" style=\"width: 10px; height: 10px;background-color: rgb(123, 234, 123);\"></td><td title=\"Index: [65, 5]&#10;Color: (123, 234, 123)\" style=\"width: 10px; height: 10px;background-color: rgb(123, 234, 123);\"></td><td title=\"Index: [65, 6]&#10;Color: (123, 234, 123)\" style=\"width: 10px; height: 10px;background-color: rgb(123, 234, 123);\"></td><td title=\"Index: [65, 7]&#10;Color: (0, 0, 0)\" style=\"width: 10px; height: 10px;background-color: rgb(0, 0, 0);\"></td><td title=\"Index: [65, 8]&#10;Color: (123, 234, 123)\" style=\"width: 10px; height: 10px;background-color: rgb(123, 234, 123);\"></td><td title=\"Index: [65, 9]&#10;Color: (0, 0, 0)\" style=\"width: 10px; height: 10px;background-color: rgb(0, 0, 0);\"></td><td title=\"Index: [65, 10]&#10;Color: (123, 234, 123)\" style=\"width: 10px; height: 10px;background-color: rgb(123, 234, 123);\"></td><td title=\"Index: [65, 11]&#10;Color: (123, 234, 123)\" style=\"width: 10px; height: 10px;background-color: rgb(123, 234, 123);\"></td><td title=\"Index: [65, 12]&#10;Color: (123, 234, 123)\" style=\"width: 10px; height: 10px;background-color: rgb(123, 234, 123);\"></td><td title=\"Index: [65, 13]&#10;Color: (123, 234, 123)\" style=\"width: 10px; height: 10px;background-color: rgb(123, 234, 123);\"></td><td title=\"Index: [65, 14]&#10;Color: (123, 234, 123)\" style=\"width: 10px; height: 10px;background-color: rgb(123, 234, 123);\"></td><td title=\"Index: [65, 15]&#10;Color: (123, 234, 123)\" style=\"width: 10px; height: 10px;background-color: rgb(123, 234, 123);\"></td><td title=\"Index: [65, 16]&#10;Color: (123, 234, 123)\" style=\"width: 10px; height: 10px;background-color: rgb(123, 234, 123);\"></td><td title=\"Index: [65, 17]&#10;Color: (123, 234, 123)\" style=\"width: 10px; height: 10px;background-color: rgb(123, 234, 123);\"></td><td title=\"Index: [65, 18]&#10;Color: (123, 234, 123)\" style=\"width: 10px; height: 10px;background-color: rgb(123, 234, 123);\"></td><td title=\"Index: [65, 19]&#10;Color: (123, 234, 123)\" style=\"width: 10px; height: 10px;background-color: rgb(123, 234, 123);\"></td><td title=\"Index: [65, 20]&#10;Color: (123, 234, 123)\" style=\"width: 10px; height: 10px;background-color: rgb(123, 234, 123);\"></td><td title=\"Index: [65, 21]&#10;Color: (0, 0, 0)\" style=\"width: 10px; height: 10px;background-color: rgb(0, 0, 0);\"></td><td title=\"Index: [65, 22]&#10;Color: (123, 234, 123)\" style=\"width: 10px; height: 10px;background-color: rgb(123, 234, 123);\"></td><td title=\"Index: [65, 23]&#10;Color: (123, 234, 123)\" style=\"width: 10px; height: 10px;background-color: rgb(123, 234, 123);\"></td><td title=\"Index: [65, 24]&#10;Color: (123, 234, 123)\" style=\"width: 10px; height: 10px;background-color: rgb(123, 234, 123);\"></td><td title=\"Index: [65, 25]&#10;Color: (123, 234, 123)\" style=\"width: 10px; height: 10px;background-color: rgb(123, 234, 123);\"></td><td title=\"Index: [65, 26]&#10;Color: (123, 234, 123)\" style=\"width: 10px; height: 10px;background-color: rgb(123, 234, 123);\"></td><td title=\"Index: [65, 27]&#10;Color: (123, 234, 123)\" style=\"width: 10px; height: 10px;background-color: rgb(123, 234, 123);\"></td><td title=\"Index: [65, 28]&#10;Color: (123, 234, 123)\" style=\"width: 10px; height: 10px;background-color: rgb(123, 234, 123);\"></td><td title=\"Index: [65, 29]&#10;Color: (123, 234, 123)\" style=\"width: 10px; height: 10px;background-color: rgb(123, 234, 123);\"></td><td title=\"Index: [65, 30]&#10;Color: (123, 234, 123)\" style=\"width: 10px; height: 10px;background-color: rgb(123, 234, 123);\"></td><td title=\"Index: [65, 31]&#10;Color: (123, 234, 123)\" style=\"width: 10px; height: 10px;background-color: rgb(123, 234, 123);\"></td><td title=\"Index: [65, 32]&#10;Color: (123, 234, 123)\" style=\"width: 10px; height: 10px;background-color: rgb(123, 234, 123);\"></td><td title=\"Index: [65, 33]&#10;Color: (123, 234, 123)\" style=\"width: 10px; height: 10px;background-color: rgb(123, 234, 123);\"></td><td title=\"Index: [65, 34]&#10;Color: (123, 234, 123)\" style=\"width: 10px; height: 10px;background-color: rgb(123, 234, 123);\"></td><td title=\"Index: [65, 35]&#10;Color: (123, 234, 123)\" style=\"width: 10px; height: 10px;background-color: rgb(123, 234, 123);\"></td><td title=\"Index: [65, 36]&#10;Color: (123, 234, 123)\" style=\"width: 10px; height: 10px;background-color: rgb(123, 234, 123);\"></td><td title=\"Index: [65, 37]&#10;Color: (123, 234, 123)\" style=\"width: 10px; height: 10px;background-color: rgb(123, 234, 123);\"></td><td title=\"Index: [65, 38]&#10;Color: (123, 234, 123)\" style=\"width: 10px; height: 10px;background-color: rgb(123, 234, 123);\"></td><td title=\"Index: [65, 39]&#10;Color: (123, 234, 123)\" style=\"width: 10px; height: 10px;background-color: rgb(123, 234, 123);\"></td><td title=\"Index: [65, 40]&#10;Color: (123, 234, 123)\" style=\"width: 10px; height: 10px;background-color: rgb(123, 234, 123);\"></td><td title=\"Index: [65, 41]&#10;Color: (123, 234, 123)\" style=\"width: 10px; height: 10px;background-color: rgb(123, 234, 123);\"></td><td title=\"Index: [65, 42]&#10;Color: (123, 234, 123)\" style=\"width: 10px; height: 10px;background-color: rgb(123, 234, 123);\"></td><td title=\"Index: [65, 43]&#10;Color: (123, 234, 123)\" style=\"width: 10px; height: 10px;background-color: rgb(123, 234, 123);\"></td><td title=\"Index: [65, 44]&#10;Color: (123, 234, 123)\" style=\"width: 10px; height: 10px;background-color: rgb(123, 234, 123);\"></td><td title=\"Index: [65, 45]&#10;Color: (123, 234, 123)\" style=\"width: 10px; height: 10px;background-color: rgb(123, 234, 123);\"></td><td title=\"Index: [65, 46]&#10;Color: (123, 234, 123)\" style=\"width: 10px; height: 10px;background-color: rgb(123, 234, 123);\"></td><td title=\"Index: [65, 47]&#10;Color: (123, 234, 123)\" style=\"width: 10px; height: 10px;background-color: rgb(123, 234, 123);\"></td><td title=\"Index: [65, 48]&#10;Color: (123, 234, 123)\" style=\"width: 10px; height: 10px;background-color: rgb(123, 234, 123);\"></td><td title=\"Index: [65, 49]&#10;Color: (0, 0, 0)\" style=\"width: 10px; height: 10px;background-color: rgb(0, 0, 0);\"></td></tr><tr><td title=\"Index: [66, 0]&#10;Color: (123, 234, 123)\" style=\"width: 10px; height: 10px;background-color: rgb(123, 234, 123);\"></td><td title=\"Index: [66, 1]&#10;Color: (0, 0, 0)\" style=\"width: 10px; height: 10px;background-color: rgb(0, 0, 0);\"></td><td title=\"Index: [66, 2]&#10;Color: (123, 234, 123)\" style=\"width: 10px; height: 10px;background-color: rgb(123, 234, 123);\"></td><td title=\"Index: [66, 3]&#10;Color: (123, 234, 123)\" style=\"width: 10px; height: 10px;background-color: rgb(123, 234, 123);\"></td><td title=\"Index: [66, 4]&#10;Color: (123, 234, 123)\" style=\"width: 10px; height: 10px;background-color: rgb(123, 234, 123);\"></td><td title=\"Index: [66, 5]&#10;Color: (123, 234, 123)\" style=\"width: 10px; height: 10px;background-color: rgb(123, 234, 123);\"></td><td title=\"Index: [66, 6]&#10;Color: (123, 234, 123)\" style=\"width: 10px; height: 10px;background-color: rgb(123, 234, 123);\"></td><td title=\"Index: [66, 7]&#10;Color: (0, 0, 0)\" style=\"width: 10px; height: 10px;background-color: rgb(0, 0, 0);\"></td><td title=\"Index: [66, 8]&#10;Color: (123, 234, 123)\" style=\"width: 10px; height: 10px;background-color: rgb(123, 234, 123);\"></td><td title=\"Index: [66, 9]&#10;Color: (123, 234, 123)\" style=\"width: 10px; height: 10px;background-color: rgb(123, 234, 123);\"></td><td title=\"Index: [66, 10]&#10;Color: (123, 234, 123)\" style=\"width: 10px; height: 10px;background-color: rgb(123, 234, 123);\"></td><td title=\"Index: [66, 11]&#10;Color: (123, 234, 123)\" style=\"width: 10px; height: 10px;background-color: rgb(123, 234, 123);\"></td><td title=\"Index: [66, 12]&#10;Color: (123, 234, 123)\" style=\"width: 10px; height: 10px;background-color: rgb(123, 234, 123);\"></td><td title=\"Index: [66, 13]&#10;Color: (0, 0, 0)\" style=\"width: 10px; height: 10px;background-color: rgb(0, 0, 0);\"></td><td title=\"Index: [66, 14]&#10;Color: (123, 234, 123)\" style=\"width: 10px; height: 10px;background-color: rgb(123, 234, 123);\"></td><td title=\"Index: [66, 15]&#10;Color: (123, 234, 123)\" style=\"width: 10px; height: 10px;background-color: rgb(123, 234, 123);\"></td><td title=\"Index: [66, 16]&#10;Color: (123, 234, 123)\" style=\"width: 10px; height: 10px;background-color: rgb(123, 234, 123);\"></td><td title=\"Index: [66, 17]&#10;Color: (123, 234, 123)\" style=\"width: 10px; height: 10px;background-color: rgb(123, 234, 123);\"></td><td title=\"Index: [66, 18]&#10;Color: (123, 234, 123)\" style=\"width: 10px; height: 10px;background-color: rgb(123, 234, 123);\"></td><td title=\"Index: [66, 19]&#10;Color: (0, 0, 0)\" style=\"width: 10px; height: 10px;background-color: rgb(0, 0, 0);\"></td><td title=\"Index: [66, 20]&#10;Color: (123, 234, 123)\" style=\"width: 10px; height: 10px;background-color: rgb(123, 234, 123);\"></td><td title=\"Index: [66, 21]&#10;Color: (123, 234, 123)\" style=\"width: 10px; height: 10px;background-color: rgb(123, 234, 123);\"></td><td title=\"Index: [66, 22]&#10;Color: (123, 234, 123)\" style=\"width: 10px; height: 10px;background-color: rgb(123, 234, 123);\"></td><td title=\"Index: [66, 23]&#10;Color: (0, 0, 0)\" style=\"width: 10px; height: 10px;background-color: rgb(0, 0, 0);\"></td><td title=\"Index: [66, 24]&#10;Color: (123, 234, 123)\" style=\"width: 10px; height: 10px;background-color: rgb(123, 234, 123);\"></td><td title=\"Index: [66, 25]&#10;Color: (123, 234, 123)\" style=\"width: 10px; height: 10px;background-color: rgb(123, 234, 123);\"></td><td title=\"Index: [66, 26]&#10;Color: (123, 234, 123)\" style=\"width: 10px; height: 10px;background-color: rgb(123, 234, 123);\"></td><td title=\"Index: [66, 27]&#10;Color: (123, 234, 123)\" style=\"width: 10px; height: 10px;background-color: rgb(123, 234, 123);\"></td><td title=\"Index: [66, 28]&#10;Color: (123, 234, 123)\" style=\"width: 10px; height: 10px;background-color: rgb(123, 234, 123);\"></td><td title=\"Index: [66, 29]&#10;Color: (0, 0, 0)\" style=\"width: 10px; height: 10px;background-color: rgb(0, 0, 0);\"></td><td title=\"Index: [66, 30]&#10;Color: (123, 234, 123)\" style=\"width: 10px; height: 10px;background-color: rgb(123, 234, 123);\"></td><td title=\"Index: [66, 31]&#10;Color: (0, 0, 0)\" style=\"width: 10px; height: 10px;background-color: rgb(0, 0, 0);\"></td><td title=\"Index: [66, 32]&#10;Color: (123, 234, 123)\" style=\"width: 10px; height: 10px;background-color: rgb(123, 234, 123);\"></td><td title=\"Index: [66, 33]&#10;Color: (123, 234, 123)\" style=\"width: 10px; height: 10px;background-color: rgb(123, 234, 123);\"></td><td title=\"Index: [66, 34]&#10;Color: (123, 234, 123)\" style=\"width: 10px; height: 10px;background-color: rgb(123, 234, 123);\"></td><td title=\"Index: [66, 35]&#10;Color: (123, 234, 123)\" style=\"width: 10px; height: 10px;background-color: rgb(123, 234, 123);\"></td><td title=\"Index: [66, 36]&#10;Color: (123, 234, 123)\" style=\"width: 10px; height: 10px;background-color: rgb(123, 234, 123);\"></td><td title=\"Index: [66, 37]&#10;Color: (123, 234, 123)\" style=\"width: 10px; height: 10px;background-color: rgb(123, 234, 123);\"></td><td title=\"Index: [66, 38]&#10;Color: (123, 234, 123)\" style=\"width: 10px; height: 10px;background-color: rgb(123, 234, 123);\"></td><td title=\"Index: [66, 39]&#10;Color: (123, 234, 123)\" style=\"width: 10px; height: 10px;background-color: rgb(123, 234, 123);\"></td><td title=\"Index: [66, 40]&#10;Color: (123, 234, 123)\" style=\"width: 10px; height: 10px;background-color: rgb(123, 234, 123);\"></td><td title=\"Index: [66, 41]&#10;Color: (123, 234, 123)\" style=\"width: 10px; height: 10px;background-color: rgb(123, 234, 123);\"></td><td title=\"Index: [66, 42]&#10;Color: (123, 234, 123)\" style=\"width: 10px; height: 10px;background-color: rgb(123, 234, 123);\"></td><td title=\"Index: [66, 43]&#10;Color: (0, 0, 0)\" style=\"width: 10px; height: 10px;background-color: rgb(0, 0, 0);\"></td><td title=\"Index: [66, 44]&#10;Color: (123, 234, 123)\" style=\"width: 10px; height: 10px;background-color: rgb(123, 234, 123);\"></td><td title=\"Index: [66, 45]&#10;Color: (123, 234, 123)\" style=\"width: 10px; height: 10px;background-color: rgb(123, 234, 123);\"></td><td title=\"Index: [66, 46]&#10;Color: (123, 234, 123)\" style=\"width: 10px; height: 10px;background-color: rgb(123, 234, 123);\"></td><td title=\"Index: [66, 47]&#10;Color: (0, 0, 0)\" style=\"width: 10px; height: 10px;background-color: rgb(0, 0, 0);\"></td><td title=\"Index: [66, 48]&#10;Color: (123, 234, 123)\" style=\"width: 10px; height: 10px;background-color: rgb(123, 234, 123);\"></td><td title=\"Index: [66, 49]&#10;Color: (123, 234, 123)\" style=\"width: 10px; height: 10px;background-color: rgb(123, 234, 123);\"></td></tr><tr><td title=\"Index: [67, 0]&#10;Color: (123, 234, 123)\" style=\"width: 10px; height: 10px;background-color: rgb(123, 234, 123);\"></td><td title=\"Index: [67, 1]&#10;Color: (123, 234, 123)\" style=\"width: 10px; height: 10px;background-color: rgb(123, 234, 123);\"></td><td title=\"Index: [67, 2]&#10;Color: (123, 234, 123)\" style=\"width: 10px; height: 10px;background-color: rgb(123, 234, 123);\"></td><td title=\"Index: [67, 3]&#10;Color: (123, 234, 123)\" style=\"width: 10px; height: 10px;background-color: rgb(123, 234, 123);\"></td><td title=\"Index: [67, 4]&#10;Color: (123, 234, 123)\" style=\"width: 10px; height: 10px;background-color: rgb(123, 234, 123);\"></td><td title=\"Index: [67, 5]&#10;Color: (123, 234, 123)\" style=\"width: 10px; height: 10px;background-color: rgb(123, 234, 123);\"></td><td title=\"Index: [67, 6]&#10;Color: (123, 234, 123)\" style=\"width: 10px; height: 10px;background-color: rgb(123, 234, 123);\"></td><td title=\"Index: [67, 7]&#10;Color: (123, 234, 123)\" style=\"width: 10px; height: 10px;background-color: rgb(123, 234, 123);\"></td><td title=\"Index: [67, 8]&#10;Color: (123, 234, 123)\" style=\"width: 10px; height: 10px;background-color: rgb(123, 234, 123);\"></td><td title=\"Index: [67, 9]&#10;Color: (0, 0, 0)\" style=\"width: 10px; height: 10px;background-color: rgb(0, 0, 0);\"></td><td title=\"Index: [67, 10]&#10;Color: (123, 234, 123)\" style=\"width: 10px; height: 10px;background-color: rgb(123, 234, 123);\"></td><td title=\"Index: [67, 11]&#10;Color: (0, 0, 0)\" style=\"width: 10px; height: 10px;background-color: rgb(0, 0, 0);\"></td><td title=\"Index: [67, 12]&#10;Color: (123, 234, 123)\" style=\"width: 10px; height: 10px;background-color: rgb(123, 234, 123);\"></td><td title=\"Index: [67, 13]&#10;Color: (123, 234, 123)\" style=\"width: 10px; height: 10px;background-color: rgb(123, 234, 123);\"></td><td title=\"Index: [67, 14]&#10;Color: (123, 234, 123)\" style=\"width: 10px; height: 10px;background-color: rgb(123, 234, 123);\"></td><td title=\"Index: [67, 15]&#10;Color: (123, 234, 123)\" style=\"width: 10px; height: 10px;background-color: rgb(123, 234, 123);\"></td><td title=\"Index: [67, 16]&#10;Color: (123, 234, 123)\" style=\"width: 10px; height: 10px;background-color: rgb(123, 234, 123);\"></td><td title=\"Index: [67, 17]&#10;Color: (123, 234, 123)\" style=\"width: 10px; height: 10px;background-color: rgb(123, 234, 123);\"></td><td title=\"Index: [67, 18]&#10;Color: (123, 234, 123)\" style=\"width: 10px; height: 10px;background-color: rgb(123, 234, 123);\"></td><td title=\"Index: [67, 19]&#10;Color: (123, 234, 123)\" style=\"width: 10px; height: 10px;background-color: rgb(123, 234, 123);\"></td><td title=\"Index: [67, 20]&#10;Color: (123, 234, 123)\" style=\"width: 10px; height: 10px;background-color: rgb(123, 234, 123);\"></td><td title=\"Index: [67, 21]&#10;Color: (0, 0, 0)\" style=\"width: 10px; height: 10px;background-color: rgb(0, 0, 0);\"></td><td title=\"Index: [67, 22]&#10;Color: (123, 234, 123)\" style=\"width: 10px; height: 10px;background-color: rgb(123, 234, 123);\"></td><td title=\"Index: [67, 23]&#10;Color: (0, 0, 0)\" style=\"width: 10px; height: 10px;background-color: rgb(0, 0, 0);\"></td><td title=\"Index: [67, 24]&#10;Color: (123, 234, 123)\" style=\"width: 10px; height: 10px;background-color: rgb(123, 234, 123);\"></td><td title=\"Index: [67, 25]&#10;Color: (123, 234, 123)\" style=\"width: 10px; height: 10px;background-color: rgb(123, 234, 123);\"></td><td title=\"Index: [67, 26]&#10;Color: (123, 234, 123)\" style=\"width: 10px; height: 10px;background-color: rgb(123, 234, 123);\"></td><td title=\"Index: [67, 27]&#10;Color: (123, 234, 123)\" style=\"width: 10px; height: 10px;background-color: rgb(123, 234, 123);\"></td><td title=\"Index: [67, 28]&#10;Color: (123, 234, 123)\" style=\"width: 10px; height: 10px;background-color: rgb(123, 234, 123);\"></td><td title=\"Index: [67, 29]&#10;Color: (123, 234, 123)\" style=\"width: 10px; height: 10px;background-color: rgb(123, 234, 123);\"></td><td title=\"Index: [67, 30]&#10;Color: (123, 234, 123)\" style=\"width: 10px; height: 10px;background-color: rgb(123, 234, 123);\"></td><td title=\"Index: [67, 31]&#10;Color: (123, 234, 123)\" style=\"width: 10px; height: 10px;background-color: rgb(123, 234, 123);\"></td><td title=\"Index: [67, 32]&#10;Color: (123, 234, 123)\" style=\"width: 10px; height: 10px;background-color: rgb(123, 234, 123);\"></td><td title=\"Index: [67, 33]&#10;Color: (123, 234, 123)\" style=\"width: 10px; height: 10px;background-color: rgb(123, 234, 123);\"></td><td title=\"Index: [67, 34]&#10;Color: (123, 234, 123)\" style=\"width: 10px; height: 10px;background-color: rgb(123, 234, 123);\"></td><td title=\"Index: [67, 35]&#10;Color: (123, 234, 123)\" style=\"width: 10px; height: 10px;background-color: rgb(123, 234, 123);\"></td><td title=\"Index: [67, 36]&#10;Color: (123, 234, 123)\" style=\"width: 10px; height: 10px;background-color: rgb(123, 234, 123);\"></td><td title=\"Index: [67, 37]&#10;Color: (123, 234, 123)\" style=\"width: 10px; height: 10px;background-color: rgb(123, 234, 123);\"></td><td title=\"Index: [67, 38]&#10;Color: (123, 234, 123)\" style=\"width: 10px; height: 10px;background-color: rgb(123, 234, 123);\"></td><td title=\"Index: [67, 39]&#10;Color: (0, 0, 0)\" style=\"width: 10px; height: 10px;background-color: rgb(0, 0, 0);\"></td><td title=\"Index: [67, 40]&#10;Color: (123, 234, 123)\" style=\"width: 10px; height: 10px;background-color: rgb(123, 234, 123);\"></td><td title=\"Index: [67, 41]&#10;Color: (0, 0, 0)\" style=\"width: 10px; height: 10px;background-color: rgb(0, 0, 0);\"></td><td title=\"Index: [67, 42]&#10;Color: (123, 234, 123)\" style=\"width: 10px; height: 10px;background-color: rgb(123, 234, 123);\"></td><td title=\"Index: [67, 43]&#10;Color: (123, 234, 123)\" style=\"width: 10px; height: 10px;background-color: rgb(123, 234, 123);\"></td><td title=\"Index: [67, 44]&#10;Color: (123, 234, 123)\" style=\"width: 10px; height: 10px;background-color: rgb(123, 234, 123);\"></td><td title=\"Index: [67, 45]&#10;Color: (123, 234, 123)\" style=\"width: 10px; height: 10px;background-color: rgb(123, 234, 123);\"></td><td title=\"Index: [67, 46]&#10;Color: (123, 234, 123)\" style=\"width: 10px; height: 10px;background-color: rgb(123, 234, 123);\"></td><td title=\"Index: [67, 47]&#10;Color: (123, 234, 123)\" style=\"width: 10px; height: 10px;background-color: rgb(123, 234, 123);\"></td><td title=\"Index: [67, 48]&#10;Color: (123, 234, 123)\" style=\"width: 10px; height: 10px;background-color: rgb(123, 234, 123);\"></td><td title=\"Index: [67, 49]&#10;Color: (123, 234, 123)\" style=\"width: 10px; height: 10px;background-color: rgb(123, 234, 123);\"></td></tr><tr><td title=\"Index: [68, 0]&#10;Color: (123, 234, 123)\" style=\"width: 10px; height: 10px;background-color: rgb(123, 234, 123);\"></td><td title=\"Index: [68, 1]&#10;Color: (123, 234, 123)\" style=\"width: 10px; height: 10px;background-color: rgb(123, 234, 123);\"></td><td title=\"Index: [68, 2]&#10;Color: (123, 234, 123)\" style=\"width: 10px; height: 10px;background-color: rgb(123, 234, 123);\"></td><td title=\"Index: [68, 3]&#10;Color: (123, 234, 123)\" style=\"width: 10px; height: 10px;background-color: rgb(123, 234, 123);\"></td><td title=\"Index: [68, 4]&#10;Color: (123, 234, 123)\" style=\"width: 10px; height: 10px;background-color: rgb(123, 234, 123);\"></td><td title=\"Index: [68, 5]&#10;Color: (123, 234, 123)\" style=\"width: 10px; height: 10px;background-color: rgb(123, 234, 123);\"></td><td title=\"Index: [68, 6]&#10;Color: (123, 234, 123)\" style=\"width: 10px; height: 10px;background-color: rgb(123, 234, 123);\"></td><td title=\"Index: [68, 7]&#10;Color: (0, 0, 0)\" style=\"width: 10px; height: 10px;background-color: rgb(0, 0, 0);\"></td><td title=\"Index: [68, 8]&#10;Color: (123, 234, 123)\" style=\"width: 10px; height: 10px;background-color: rgb(123, 234, 123);\"></td><td title=\"Index: [68, 9]&#10;Color: (123, 234, 123)\" style=\"width: 10px; height: 10px;background-color: rgb(123, 234, 123);\"></td><td title=\"Index: [68, 10]&#10;Color: (123, 234, 123)\" style=\"width: 10px; height: 10px;background-color: rgb(123, 234, 123);\"></td><td title=\"Index: [68, 11]&#10;Color: (123, 234, 123)\" style=\"width: 10px; height: 10px;background-color: rgb(123, 234, 123);\"></td><td title=\"Index: [68, 12]&#10;Color: (123, 234, 123)\" style=\"width: 10px; height: 10px;background-color: rgb(123, 234, 123);\"></td><td title=\"Index: [68, 13]&#10;Color: (0, 0, 0)\" style=\"width: 10px; height: 10px;background-color: rgb(0, 0, 0);\"></td><td title=\"Index: [68, 14]&#10;Color: (123, 234, 123)\" style=\"width: 10px; height: 10px;background-color: rgb(123, 234, 123);\"></td><td title=\"Index: [68, 15]&#10;Color: (123, 234, 123)\" style=\"width: 10px; height: 10px;background-color: rgb(123, 234, 123);\"></td><td title=\"Index: [68, 16]&#10;Color: (123, 234, 123)\" style=\"width: 10px; height: 10px;background-color: rgb(123, 234, 123);\"></td><td title=\"Index: [68, 17]&#10;Color: (123, 234, 123)\" style=\"width: 10px; height: 10px;background-color: rgb(123, 234, 123);\"></td><td title=\"Index: [68, 18]&#10;Color: (123, 234, 123)\" style=\"width: 10px; height: 10px;background-color: rgb(123, 234, 123);\"></td><td title=\"Index: [68, 19]&#10;Color: (123, 234, 123)\" style=\"width: 10px; height: 10px;background-color: rgb(123, 234, 123);\"></td><td title=\"Index: [68, 20]&#10;Color: (123, 234, 123)\" style=\"width: 10px; height: 10px;background-color: rgb(123, 234, 123);\"></td><td title=\"Index: [68, 21]&#10;Color: (123, 234, 123)\" style=\"width: 10px; height: 10px;background-color: rgb(123, 234, 123);\"></td><td title=\"Index: [68, 22]&#10;Color: (123, 234, 123)\" style=\"width: 10px; height: 10px;background-color: rgb(123, 234, 123);\"></td><td title=\"Index: [68, 23]&#10;Color: (123, 234, 123)\" style=\"width: 10px; height: 10px;background-color: rgb(123, 234, 123);\"></td><td title=\"Index: [68, 24]&#10;Color: (123, 234, 123)\" style=\"width: 10px; height: 10px;background-color: rgb(123, 234, 123);\"></td><td title=\"Index: [68, 25]&#10;Color: (123, 234, 123)\" style=\"width: 10px; height: 10px;background-color: rgb(123, 234, 123);\"></td><td title=\"Index: [68, 26]&#10;Color: (123, 234, 123)\" style=\"width: 10px; height: 10px;background-color: rgb(123, 234, 123);\"></td><td title=\"Index: [68, 27]&#10;Color: (123, 234, 123)\" style=\"width: 10px; height: 10px;background-color: rgb(123, 234, 123);\"></td><td title=\"Index: [68, 28]&#10;Color: (123, 234, 123)\" style=\"width: 10px; height: 10px;background-color: rgb(123, 234, 123);\"></td><td title=\"Index: [68, 29]&#10;Color: (123, 234, 123)\" style=\"width: 10px; height: 10px;background-color: rgb(123, 234, 123);\"></td><td title=\"Index: [68, 30]&#10;Color: (123, 234, 123)\" style=\"width: 10px; height: 10px;background-color: rgb(123, 234, 123);\"></td><td title=\"Index: [68, 31]&#10;Color: (123, 234, 123)\" style=\"width: 10px; height: 10px;background-color: rgb(123, 234, 123);\"></td><td title=\"Index: [68, 32]&#10;Color: (123, 234, 123)\" style=\"width: 10px; height: 10px;background-color: rgb(123, 234, 123);\"></td><td title=\"Index: [68, 33]&#10;Color: (0, 0, 0)\" style=\"width: 10px; height: 10px;background-color: rgb(0, 0, 0);\"></td><td title=\"Index: [68, 34]&#10;Color: (123, 234, 123)\" style=\"width: 10px; height: 10px;background-color: rgb(123, 234, 123);\"></td><td title=\"Index: [68, 35]&#10;Color: (123, 234, 123)\" style=\"width: 10px; height: 10px;background-color: rgb(123, 234, 123);\"></td><td title=\"Index: [68, 36]&#10;Color: (123, 234, 123)\" style=\"width: 10px; height: 10px;background-color: rgb(123, 234, 123);\"></td><td title=\"Index: [68, 37]&#10;Color: (123, 234, 123)\" style=\"width: 10px; height: 10px;background-color: rgb(123, 234, 123);\"></td><td title=\"Index: [68, 38]&#10;Color: (123, 234, 123)\" style=\"width: 10px; height: 10px;background-color: rgb(123, 234, 123);\"></td><td title=\"Index: [68, 39]&#10;Color: (123, 234, 123)\" style=\"width: 10px; height: 10px;background-color: rgb(123, 234, 123);\"></td><td title=\"Index: [68, 40]&#10;Color: (123, 234, 123)\" style=\"width: 10px; height: 10px;background-color: rgb(123, 234, 123);\"></td><td title=\"Index: [68, 41]&#10;Color: (123, 234, 123)\" style=\"width: 10px; height: 10px;background-color: rgb(123, 234, 123);\"></td><td title=\"Index: [68, 42]&#10;Color: (123, 234, 123)\" style=\"width: 10px; height: 10px;background-color: rgb(123, 234, 123);\"></td><td title=\"Index: [68, 43]&#10;Color: (123, 234, 123)\" style=\"width: 10px; height: 10px;background-color: rgb(123, 234, 123);\"></td><td title=\"Index: [68, 44]&#10;Color: (123, 234, 123)\" style=\"width: 10px; height: 10px;background-color: rgb(123, 234, 123);\"></td><td title=\"Index: [68, 45]&#10;Color: (123, 234, 123)\" style=\"width: 10px; height: 10px;background-color: rgb(123, 234, 123);\"></td><td title=\"Index: [68, 46]&#10;Color: (123, 234, 123)\" style=\"width: 10px; height: 10px;background-color: rgb(123, 234, 123);\"></td><td title=\"Index: [68, 47]&#10;Color: (123, 234, 123)\" style=\"width: 10px; height: 10px;background-color: rgb(123, 234, 123);\"></td><td title=\"Index: [68, 48]&#10;Color: (123, 234, 123)\" style=\"width: 10px; height: 10px;background-color: rgb(123, 234, 123);\"></td><td title=\"Index: [68, 49]&#10;Color: (0, 0, 0)\" style=\"width: 10px; height: 10px;background-color: rgb(0, 0, 0);\"></td></tr><tr><td title=\"Index: [69, 0]&#10;Color: (123, 234, 123)\" style=\"width: 10px; height: 10px;background-color: rgb(123, 234, 123);\"></td><td title=\"Index: [69, 1]&#10;Color: (123, 234, 123)\" style=\"width: 10px; height: 10px;background-color: rgb(123, 234, 123);\"></td><td title=\"Index: [69, 2]&#10;Color: (123, 234, 123)\" style=\"width: 10px; height: 10px;background-color: rgb(123, 234, 123);\"></td><td title=\"Index: [69, 3]&#10;Color: (123, 234, 123)\" style=\"width: 10px; height: 10px;background-color: rgb(123, 234, 123);\"></td><td title=\"Index: [69, 4]&#10;Color: (123, 234, 123)\" style=\"width: 10px; height: 10px;background-color: rgb(123, 234, 123);\"></td><td title=\"Index: [69, 5]&#10;Color: (123, 234, 123)\" style=\"width: 10px; height: 10px;background-color: rgb(123, 234, 123);\"></td><td title=\"Index: [69, 6]&#10;Color: (123, 234, 123)\" style=\"width: 10px; height: 10px;background-color: rgb(123, 234, 123);\"></td><td title=\"Index: [69, 7]&#10;Color: (0, 0, 0)\" style=\"width: 10px; height: 10px;background-color: rgb(0, 0, 0);\"></td><td title=\"Index: [69, 8]&#10;Color: (123, 234, 123)\" style=\"width: 10px; height: 10px;background-color: rgb(123, 234, 123);\"></td><td title=\"Index: [69, 9]&#10;Color: (123, 234, 123)\" style=\"width: 10px; height: 10px;background-color: rgb(123, 234, 123);\"></td><td title=\"Index: [69, 10]&#10;Color: (123, 234, 123)\" style=\"width: 10px; height: 10px;background-color: rgb(123, 234, 123);\"></td><td title=\"Index: [69, 11]&#10;Color: (0, 0, 0)\" style=\"width: 10px; height: 10px;background-color: rgb(0, 0, 0);\"></td><td title=\"Index: [69, 12]&#10;Color: (123, 234, 123)\" style=\"width: 10px; height: 10px;background-color: rgb(123, 234, 123);\"></td><td title=\"Index: [69, 13]&#10;Color: (0, 0, 0)\" style=\"width: 10px; height: 10px;background-color: rgb(0, 0, 0);\"></td><td title=\"Index: [69, 14]&#10;Color: (123, 234, 123)\" style=\"width: 10px; height: 10px;background-color: rgb(123, 234, 123);\"></td><td title=\"Index: [69, 15]&#10;Color: (123, 234, 123)\" style=\"width: 10px; height: 10px;background-color: rgb(123, 234, 123);\"></td><td title=\"Index: [69, 16]&#10;Color: (123, 234, 123)\" style=\"width: 10px; height: 10px;background-color: rgb(123, 234, 123);\"></td><td title=\"Index: [69, 17]&#10;Color: (0, 0, 0)\" style=\"width: 10px; height: 10px;background-color: rgb(0, 0, 0);\"></td><td title=\"Index: [69, 18]&#10;Color: (123, 234, 123)\" style=\"width: 10px; height: 10px;background-color: rgb(123, 234, 123);\"></td><td title=\"Index: [69, 19]&#10;Color: (0, 0, 0)\" style=\"width: 10px; height: 10px;background-color: rgb(0, 0, 0);\"></td><td title=\"Index: [69, 20]&#10;Color: (123, 234, 123)\" style=\"width: 10px; height: 10px;background-color: rgb(123, 234, 123);\"></td><td title=\"Index: [69, 21]&#10;Color: (123, 234, 123)\" style=\"width: 10px; height: 10px;background-color: rgb(123, 234, 123);\"></td><td title=\"Index: [69, 22]&#10;Color: (123, 234, 123)\" style=\"width: 10px; height: 10px;background-color: rgb(123, 234, 123);\"></td><td title=\"Index: [69, 23]&#10;Color: (123, 234, 123)\" style=\"width: 10px; height: 10px;background-color: rgb(123, 234, 123);\"></td><td title=\"Index: [69, 24]&#10;Color: (123, 234, 123)\" style=\"width: 10px; height: 10px;background-color: rgb(123, 234, 123);\"></td><td title=\"Index: [69, 25]&#10;Color: (123, 234, 123)\" style=\"width: 10px; height: 10px;background-color: rgb(123, 234, 123);\"></td><td title=\"Index: [69, 26]&#10;Color: (123, 234, 123)\" style=\"width: 10px; height: 10px;background-color: rgb(123, 234, 123);\"></td><td title=\"Index: [69, 27]&#10;Color: (123, 234, 123)\" style=\"width: 10px; height: 10px;background-color: rgb(123, 234, 123);\"></td><td title=\"Index: [69, 28]&#10;Color: (123, 234, 123)\" style=\"width: 10px; height: 10px;background-color: rgb(123, 234, 123);\"></td><td title=\"Index: [69, 29]&#10;Color: (123, 234, 123)\" style=\"width: 10px; height: 10px;background-color: rgb(123, 234, 123);\"></td><td title=\"Index: [69, 30]&#10;Color: (123, 234, 123)\" style=\"width: 10px; height: 10px;background-color: rgb(123, 234, 123);\"></td><td title=\"Index: [69, 31]&#10;Color: (123, 234, 123)\" style=\"width: 10px; height: 10px;background-color: rgb(123, 234, 123);\"></td><td title=\"Index: [69, 32]&#10;Color: (123, 234, 123)\" style=\"width: 10px; height: 10px;background-color: rgb(123, 234, 123);\"></td><td title=\"Index: [69, 33]&#10;Color: (123, 234, 123)\" style=\"width: 10px; height: 10px;background-color: rgb(123, 234, 123);\"></td><td title=\"Index: [69, 34]&#10;Color: (123, 234, 123)\" style=\"width: 10px; height: 10px;background-color: rgb(123, 234, 123);\"></td><td title=\"Index: [69, 35]&#10;Color: (123, 234, 123)\" style=\"width: 10px; height: 10px;background-color: rgb(123, 234, 123);\"></td><td title=\"Index: [69, 36]&#10;Color: (123, 234, 123)\" style=\"width: 10px; height: 10px;background-color: rgb(123, 234, 123);\"></td><td title=\"Index: [69, 37]&#10;Color: (123, 234, 123)\" style=\"width: 10px; height: 10px;background-color: rgb(123, 234, 123);\"></td><td title=\"Index: [69, 38]&#10;Color: (123, 234, 123)\" style=\"width: 10px; height: 10px;background-color: rgb(123, 234, 123);\"></td><td title=\"Index: [69, 39]&#10;Color: (123, 234, 123)\" style=\"width: 10px; height: 10px;background-color: rgb(123, 234, 123);\"></td><td title=\"Index: [69, 40]&#10;Color: (123, 234, 123)\" style=\"width: 10px; height: 10px;background-color: rgb(123, 234, 123);\"></td><td title=\"Index: [69, 41]&#10;Color: (0, 0, 0)\" style=\"width: 10px; height: 10px;background-color: rgb(0, 0, 0);\"></td><td title=\"Index: [69, 42]&#10;Color: (123, 234, 123)\" style=\"width: 10px; height: 10px;background-color: rgb(123, 234, 123);\"></td><td title=\"Index: [69, 43]&#10;Color: (123, 234, 123)\" style=\"width: 10px; height: 10px;background-color: rgb(123, 234, 123);\"></td><td title=\"Index: [69, 44]&#10;Color: (123, 234, 123)\" style=\"width: 10px; height: 10px;background-color: rgb(123, 234, 123);\"></td><td title=\"Index: [69, 45]&#10;Color: (123, 234, 123)\" style=\"width: 10px; height: 10px;background-color: rgb(123, 234, 123);\"></td><td title=\"Index: [69, 46]&#10;Color: (123, 234, 123)\" style=\"width: 10px; height: 10px;background-color: rgb(123, 234, 123);\"></td><td title=\"Index: [69, 47]&#10;Color: (123, 234, 123)\" style=\"width: 10px; height: 10px;background-color: rgb(123, 234, 123);\"></td><td title=\"Index: [69, 48]&#10;Color: (123, 234, 123)\" style=\"width: 10px; height: 10px;background-color: rgb(123, 234, 123);\"></td><td title=\"Index: [69, 49]&#10;Color: (0, 0, 0)\" style=\"width: 10px; height: 10px;background-color: rgb(0, 0, 0);\"></td></tr><tr><td title=\"Index: [70, 0]&#10;Color: (123, 234, 123)\" style=\"width: 10px; height: 10px;background-color: rgb(123, 234, 123);\"></td><td title=\"Index: [70, 1]&#10;Color: (123, 234, 123)\" style=\"width: 10px; height: 10px;background-color: rgb(123, 234, 123);\"></td><td title=\"Index: [70, 2]&#10;Color: (123, 234, 123)\" style=\"width: 10px; height: 10px;background-color: rgb(123, 234, 123);\"></td><td title=\"Index: [70, 3]&#10;Color: (123, 234, 123)\" style=\"width: 10px; height: 10px;background-color: rgb(123, 234, 123);\"></td><td title=\"Index: [70, 4]&#10;Color: (123, 234, 123)\" style=\"width: 10px; height: 10px;background-color: rgb(123, 234, 123);\"></td><td title=\"Index: [70, 5]&#10;Color: (123, 234, 123)\" style=\"width: 10px; height: 10px;background-color: rgb(123, 234, 123);\"></td><td title=\"Index: [70, 6]&#10;Color: (123, 234, 123)\" style=\"width: 10px; height: 10px;background-color: rgb(123, 234, 123);\"></td><td title=\"Index: [70, 7]&#10;Color: (123, 234, 123)\" style=\"width: 10px; height: 10px;background-color: rgb(123, 234, 123);\"></td><td title=\"Index: [70, 8]&#10;Color: (123, 234, 123)\" style=\"width: 10px; height: 10px;background-color: rgb(123, 234, 123);\"></td><td title=\"Index: [70, 9]&#10;Color: (123, 234, 123)\" style=\"width: 10px; height: 10px;background-color: rgb(123, 234, 123);\"></td><td title=\"Index: [70, 10]&#10;Color: (123, 234, 123)\" style=\"width: 10px; height: 10px;background-color: rgb(123, 234, 123);\"></td><td title=\"Index: [70, 11]&#10;Color: (0, 0, 0)\" style=\"width: 10px; height: 10px;background-color: rgb(0, 0, 0);\"></td><td title=\"Index: [70, 12]&#10;Color: (123, 234, 123)\" style=\"width: 10px; height: 10px;background-color: rgb(123, 234, 123);\"></td><td title=\"Index: [70, 13]&#10;Color: (123, 234, 123)\" style=\"width: 10px; height: 10px;background-color: rgb(123, 234, 123);\"></td><td title=\"Index: [70, 14]&#10;Color: (123, 234, 123)\" style=\"width: 10px; height: 10px;background-color: rgb(123, 234, 123);\"></td><td title=\"Index: [70, 15]&#10;Color: (123, 234, 123)\" style=\"width: 10px; height: 10px;background-color: rgb(123, 234, 123);\"></td><td title=\"Index: [70, 16]&#10;Color: (123, 234, 123)\" style=\"width: 10px; height: 10px;background-color: rgb(123, 234, 123);\"></td><td title=\"Index: [70, 17]&#10;Color: (0, 0, 0)\" style=\"width: 10px; height: 10px;background-color: rgb(0, 0, 0);\"></td><td title=\"Index: [70, 18]&#10;Color: (123, 234, 123)\" style=\"width: 10px; height: 10px;background-color: rgb(123, 234, 123);\"></td><td title=\"Index: [70, 19]&#10;Color: (123, 234, 123)\" style=\"width: 10px; height: 10px;background-color: rgb(123, 234, 123);\"></td><td title=\"Index: [70, 20]&#10;Color: (123, 234, 123)\" style=\"width: 10px; height: 10px;background-color: rgb(123, 234, 123);\"></td><td title=\"Index: [70, 21]&#10;Color: (123, 234, 123)\" style=\"width: 10px; height: 10px;background-color: rgb(123, 234, 123);\"></td><td title=\"Index: [70, 22]&#10;Color: (123, 234, 123)\" style=\"width: 10px; height: 10px;background-color: rgb(123, 234, 123);\"></td><td title=\"Index: [70, 23]&#10;Color: (123, 234, 123)\" style=\"width: 10px; height: 10px;background-color: rgb(123, 234, 123);\"></td><td title=\"Index: [70, 24]&#10;Color: (123, 234, 123)\" style=\"width: 10px; height: 10px;background-color: rgb(123, 234, 123);\"></td><td title=\"Index: [70, 25]&#10;Color: (123, 234, 123)\" style=\"width: 10px; height: 10px;background-color: rgb(123, 234, 123);\"></td><td title=\"Index: [70, 26]&#10;Color: (123, 234, 123)\" style=\"width: 10px; height: 10px;background-color: rgb(123, 234, 123);\"></td><td title=\"Index: [70, 27]&#10;Color: (0, 0, 0)\" style=\"width: 10px; height: 10px;background-color: rgb(0, 0, 0);\"></td><td title=\"Index: [70, 28]&#10;Color: (123, 234, 123)\" style=\"width: 10px; height: 10px;background-color: rgb(123, 234, 123);\"></td><td title=\"Index: [70, 29]&#10;Color: (0, 0, 0)\" style=\"width: 10px; height: 10px;background-color: rgb(0, 0, 0);\"></td><td title=\"Index: [70, 30]&#10;Color: (123, 234, 123)\" style=\"width: 10px; height: 10px;background-color: rgb(123, 234, 123);\"></td><td title=\"Index: [70, 31]&#10;Color: (123, 234, 123)\" style=\"width: 10px; height: 10px;background-color: rgb(123, 234, 123);\"></td><td title=\"Index: [70, 32]&#10;Color: (123, 234, 123)\" style=\"width: 10px; height: 10px;background-color: rgb(123, 234, 123);\"></td><td title=\"Index: [70, 33]&#10;Color: (0, 0, 0)\" style=\"width: 10px; height: 10px;background-color: rgb(0, 0, 0);\"></td><td title=\"Index: [70, 34]&#10;Color: (123, 234, 123)\" style=\"width: 10px; height: 10px;background-color: rgb(123, 234, 123);\"></td><td title=\"Index: [70, 35]&#10;Color: (123, 234, 123)\" style=\"width: 10px; height: 10px;background-color: rgb(123, 234, 123);\"></td><td title=\"Index: [70, 36]&#10;Color: (123, 234, 123)\" style=\"width: 10px; height: 10px;background-color: rgb(123, 234, 123);\"></td><td title=\"Index: [70, 37]&#10;Color: (123, 234, 123)\" style=\"width: 10px; height: 10px;background-color: rgb(123, 234, 123);\"></td><td title=\"Index: [70, 38]&#10;Color: (123, 234, 123)\" style=\"width: 10px; height: 10px;background-color: rgb(123, 234, 123);\"></td><td title=\"Index: [70, 39]&#10;Color: (0, 0, 0)\" style=\"width: 10px; height: 10px;background-color: rgb(0, 0, 0);\"></td><td title=\"Index: [70, 40]&#10;Color: (123, 234, 123)\" style=\"width: 10px; height: 10px;background-color: rgb(123, 234, 123);\"></td><td title=\"Index: [70, 41]&#10;Color: (0, 0, 0)\" style=\"width: 10px; height: 10px;background-color: rgb(0, 0, 0);\"></td><td title=\"Index: [70, 42]&#10;Color: (123, 234, 123)\" style=\"width: 10px; height: 10px;background-color: rgb(123, 234, 123);\"></td><td title=\"Index: [70, 43]&#10;Color: (123, 234, 123)\" style=\"width: 10px; height: 10px;background-color: rgb(123, 234, 123);\"></td><td title=\"Index: [70, 44]&#10;Color: (123, 234, 123)\" style=\"width: 10px; height: 10px;background-color: rgb(123, 234, 123);\"></td><td title=\"Index: [70, 45]&#10;Color: (123, 234, 123)\" style=\"width: 10px; height: 10px;background-color: rgb(123, 234, 123);\"></td><td title=\"Index: [70, 46]&#10;Color: (123, 234, 123)\" style=\"width: 10px; height: 10px;background-color: rgb(123, 234, 123);\"></td><td title=\"Index: [70, 47]&#10;Color: (0, 0, 0)\" style=\"width: 10px; height: 10px;background-color: rgb(0, 0, 0);\"></td><td title=\"Index: [70, 48]&#10;Color: (123, 234, 123)\" style=\"width: 10px; height: 10px;background-color: rgb(123, 234, 123);\"></td><td title=\"Index: [70, 49]&#10;Color: (123, 234, 123)\" style=\"width: 10px; height: 10px;background-color: rgb(123, 234, 123);\"></td></tr><tr><td title=\"Index: [71, 0]&#10;Color: (123, 234, 123)\" style=\"width: 10px; height: 10px;background-color: rgb(123, 234, 123);\"></td><td title=\"Index: [71, 1]&#10;Color: (123, 234, 123)\" style=\"width: 10px; height: 10px;background-color: rgb(123, 234, 123);\"></td><td title=\"Index: [71, 2]&#10;Color: (123, 234, 123)\" style=\"width: 10px; height: 10px;background-color: rgb(123, 234, 123);\"></td><td title=\"Index: [71, 3]&#10;Color: (123, 234, 123)\" style=\"width: 10px; height: 10px;background-color: rgb(123, 234, 123);\"></td><td title=\"Index: [71, 4]&#10;Color: (123, 234, 123)\" style=\"width: 10px; height: 10px;background-color: rgb(123, 234, 123);\"></td><td title=\"Index: [71, 5]&#10;Color: (123, 234, 123)\" style=\"width: 10px; height: 10px;background-color: rgb(123, 234, 123);\"></td><td title=\"Index: [71, 6]&#10;Color: (123, 234, 123)\" style=\"width: 10px; height: 10px;background-color: rgb(123, 234, 123);\"></td><td title=\"Index: [71, 7]&#10;Color: (0, 0, 0)\" style=\"width: 10px; height: 10px;background-color: rgb(0, 0, 0);\"></td><td title=\"Index: [71, 8]&#10;Color: (123, 234, 123)\" style=\"width: 10px; height: 10px;background-color: rgb(123, 234, 123);\"></td><td title=\"Index: [71, 9]&#10;Color: (0, 0, 0)\" style=\"width: 10px; height: 10px;background-color: rgb(0, 0, 0);\"></td><td title=\"Index: [71, 10]&#10;Color: (123, 234, 123)\" style=\"width: 10px; height: 10px;background-color: rgb(123, 234, 123);\"></td><td title=\"Index: [71, 11]&#10;Color: (123, 234, 123)\" style=\"width: 10px; height: 10px;background-color: rgb(123, 234, 123);\"></td><td title=\"Index: [71, 12]&#10;Color: (123, 234, 123)\" style=\"width: 10px; height: 10px;background-color: rgb(123, 234, 123);\"></td><td title=\"Index: [71, 13]&#10;Color: (123, 234, 123)\" style=\"width: 10px; height: 10px;background-color: rgb(123, 234, 123);\"></td><td title=\"Index: [71, 14]&#10;Color: (123, 234, 123)\" style=\"width: 10px; height: 10px;background-color: rgb(123, 234, 123);\"></td><td title=\"Index: [71, 15]&#10;Color: (123, 234, 123)\" style=\"width: 10px; height: 10px;background-color: rgb(123, 234, 123);\"></td><td title=\"Index: [71, 16]&#10;Color: (123, 234, 123)\" style=\"width: 10px; height: 10px;background-color: rgb(123, 234, 123);\"></td><td title=\"Index: [71, 17]&#10;Color: (123, 234, 123)\" style=\"width: 10px; height: 10px;background-color: rgb(123, 234, 123);\"></td><td title=\"Index: [71, 18]&#10;Color: (123, 234, 123)\" style=\"width: 10px; height: 10px;background-color: rgb(123, 234, 123);\"></td><td title=\"Index: [71, 19]&#10;Color: (123, 234, 123)\" style=\"width: 10px; height: 10px;background-color: rgb(123, 234, 123);\"></td><td title=\"Index: [71, 20]&#10;Color: (123, 234, 123)\" style=\"width: 10px; height: 10px;background-color: rgb(123, 234, 123);\"></td><td title=\"Index: [71, 21]&#10;Color: (0, 0, 0)\" style=\"width: 10px; height: 10px;background-color: rgb(0, 0, 0);\"></td><td title=\"Index: [71, 22]&#10;Color: (123, 234, 123)\" style=\"width: 10px; height: 10px;background-color: rgb(123, 234, 123);\"></td><td title=\"Index: [71, 23]&#10;Color: (123, 234, 123)\" style=\"width: 10px; height: 10px;background-color: rgb(123, 234, 123);\"></td><td title=\"Index: [71, 24]&#10;Color: (123, 234, 123)\" style=\"width: 10px; height: 10px;background-color: rgb(123, 234, 123);\"></td><td title=\"Index: [71, 25]&#10;Color: (123, 234, 123)\" style=\"width: 10px; height: 10px;background-color: rgb(123, 234, 123);\"></td><td title=\"Index: [71, 26]&#10;Color: (123, 234, 123)\" style=\"width: 10px; height: 10px;background-color: rgb(123, 234, 123);\"></td><td title=\"Index: [71, 27]&#10;Color: (123, 234, 123)\" style=\"width: 10px; height: 10px;background-color: rgb(123, 234, 123);\"></td><td title=\"Index: [71, 28]&#10;Color: (123, 234, 123)\" style=\"width: 10px; height: 10px;background-color: rgb(123, 234, 123);\"></td><td title=\"Index: [71, 29]&#10;Color: (123, 234, 123)\" style=\"width: 10px; height: 10px;background-color: rgb(123, 234, 123);\"></td><td title=\"Index: [71, 30]&#10;Color: (123, 234, 123)\" style=\"width: 10px; height: 10px;background-color: rgb(123, 234, 123);\"></td><td title=\"Index: [71, 31]&#10;Color: (0, 0, 0)\" style=\"width: 10px; height: 10px;background-color: rgb(0, 0, 0);\"></td><td title=\"Index: [71, 32]&#10;Color: (123, 234, 123)\" style=\"width: 10px; height: 10px;background-color: rgb(123, 234, 123);\"></td><td title=\"Index: [71, 33]&#10;Color: (0, 0, 0)\" style=\"width: 10px; height: 10px;background-color: rgb(0, 0, 0);\"></td><td title=\"Index: [71, 34]&#10;Color: (123, 234, 123)\" style=\"width: 10px; height: 10px;background-color: rgb(123, 234, 123);\"></td><td title=\"Index: [71, 35]&#10;Color: (123, 234, 123)\" style=\"width: 10px; height: 10px;background-color: rgb(123, 234, 123);\"></td><td title=\"Index: [71, 36]&#10;Color: (123, 234, 123)\" style=\"width: 10px; height: 10px;background-color: rgb(123, 234, 123);\"></td><td title=\"Index: [71, 37]&#10;Color: (123, 234, 123)\" style=\"width: 10px; height: 10px;background-color: rgb(123, 234, 123);\"></td><td title=\"Index: [71, 38]&#10;Color: (123, 234, 123)\" style=\"width: 10px; height: 10px;background-color: rgb(123, 234, 123);\"></td><td title=\"Index: [71, 39]&#10;Color: (123, 234, 123)\" style=\"width: 10px; height: 10px;background-color: rgb(123, 234, 123);\"></td><td title=\"Index: [71, 40]&#10;Color: (123, 234, 123)\" style=\"width: 10px; height: 10px;background-color: rgb(123, 234, 123);\"></td><td title=\"Index: [71, 41]&#10;Color: (123, 234, 123)\" style=\"width: 10px; height: 10px;background-color: rgb(123, 234, 123);\"></td><td title=\"Index: [71, 42]&#10;Color: (123, 234, 123)\" style=\"width: 10px; height: 10px;background-color: rgb(123, 234, 123);\"></td><td title=\"Index: [71, 43]&#10;Color: (0, 0, 0)\" style=\"width: 10px; height: 10px;background-color: rgb(0, 0, 0);\"></td><td title=\"Index: [71, 44]&#10;Color: (123, 234, 123)\" style=\"width: 10px; height: 10px;background-color: rgb(123, 234, 123);\"></td><td title=\"Index: [71, 45]&#10;Color: (123, 234, 123)\" style=\"width: 10px; height: 10px;background-color: rgb(123, 234, 123);\"></td><td title=\"Index: [71, 46]&#10;Color: (123, 234, 123)\" style=\"width: 10px; height: 10px;background-color: rgb(123, 234, 123);\"></td><td title=\"Index: [71, 47]&#10;Color: (123, 234, 123)\" style=\"width: 10px; height: 10px;background-color: rgb(123, 234, 123);\"></td><td title=\"Index: [71, 48]&#10;Color: (123, 234, 123)\" style=\"width: 10px; height: 10px;background-color: rgb(123, 234, 123);\"></td><td title=\"Index: [71, 49]&#10;Color: (123, 234, 123)\" style=\"width: 10px; height: 10px;background-color: rgb(123, 234, 123);\"></td></tr><tr><td title=\"Index: [72, 0]&#10;Color: (123, 234, 123)\" style=\"width: 10px; height: 10px;background-color: rgb(123, 234, 123);\"></td><td title=\"Index: [72, 1]&#10;Color: (123, 234, 123)\" style=\"width: 10px; height: 10px;background-color: rgb(123, 234, 123);\"></td><td title=\"Index: [72, 2]&#10;Color: (123, 234, 123)\" style=\"width: 10px; height: 10px;background-color: rgb(123, 234, 123);\"></td><td title=\"Index: [72, 3]&#10;Color: (123, 234, 123)\" style=\"width: 10px; height: 10px;background-color: rgb(123, 234, 123);\"></td><td title=\"Index: [72, 4]&#10;Color: (123, 234, 123)\" style=\"width: 10px; height: 10px;background-color: rgb(123, 234, 123);\"></td><td title=\"Index: [72, 5]&#10;Color: (123, 234, 123)\" style=\"width: 10px; height: 10px;background-color: rgb(123, 234, 123);\"></td><td title=\"Index: [72, 6]&#10;Color: (123, 234, 123)\" style=\"width: 10px; height: 10px;background-color: rgb(123, 234, 123);\"></td><td title=\"Index: [72, 7]&#10;Color: (0, 0, 0)\" style=\"width: 10px; height: 10px;background-color: rgb(0, 0, 0);\"></td><td title=\"Index: [72, 8]&#10;Color: (123, 234, 123)\" style=\"width: 10px; height: 10px;background-color: rgb(123, 234, 123);\"></td><td title=\"Index: [72, 9]&#10;Color: (123, 234, 123)\" style=\"width: 10px; height: 10px;background-color: rgb(123, 234, 123);\"></td><td title=\"Index: [72, 10]&#10;Color: (123, 234, 123)\" style=\"width: 10px; height: 10px;background-color: rgb(123, 234, 123);\"></td><td title=\"Index: [72, 11]&#10;Color: (123, 234, 123)\" style=\"width: 10px; height: 10px;background-color: rgb(123, 234, 123);\"></td><td title=\"Index: [72, 12]&#10;Color: (123, 234, 123)\" style=\"width: 10px; height: 10px;background-color: rgb(123, 234, 123);\"></td><td title=\"Index: [72, 13]&#10;Color: (0, 0, 0)\" style=\"width: 10px; height: 10px;background-color: rgb(0, 0, 0);\"></td><td title=\"Index: [72, 14]&#10;Color: (123, 234, 123)\" style=\"width: 10px; height: 10px;background-color: rgb(123, 234, 123);\"></td><td title=\"Index: [72, 15]&#10;Color: (123, 234, 123)\" style=\"width: 10px; height: 10px;background-color: rgb(123, 234, 123);\"></td><td title=\"Index: [72, 16]&#10;Color: (123, 234, 123)\" style=\"width: 10px; height: 10px;background-color: rgb(123, 234, 123);\"></td><td title=\"Index: [72, 17]&#10;Color: (0, 0, 0)\" style=\"width: 10px; height: 10px;background-color: rgb(0, 0, 0);\"></td><td title=\"Index: [72, 18]&#10;Color: (123, 234, 123)\" style=\"width: 10px; height: 10px;background-color: rgb(123, 234, 123);\"></td><td title=\"Index: [72, 19]&#10;Color: (123, 234, 123)\" style=\"width: 10px; height: 10px;background-color: rgb(123, 234, 123);\"></td><td title=\"Index: [72, 20]&#10;Color: (123, 234, 123)\" style=\"width: 10px; height: 10px;background-color: rgb(123, 234, 123);\"></td><td title=\"Index: [72, 21]&#10;Color: (123, 234, 123)\" style=\"width: 10px; height: 10px;background-color: rgb(123, 234, 123);\"></td><td title=\"Index: [72, 22]&#10;Color: (123, 234, 123)\" style=\"width: 10px; height: 10px;background-color: rgb(123, 234, 123);\"></td><td title=\"Index: [72, 23]&#10;Color: (0, 0, 0)\" style=\"width: 10px; height: 10px;background-color: rgb(0, 0, 0);\"></td><td title=\"Index: [72, 24]&#10;Color: (123, 234, 123)\" style=\"width: 10px; height: 10px;background-color: rgb(123, 234, 123);\"></td><td title=\"Index: [72, 25]&#10;Color: (123, 234, 123)\" style=\"width: 10px; height: 10px;background-color: rgb(123, 234, 123);\"></td><td title=\"Index: [72, 26]&#10;Color: (123, 234, 123)\" style=\"width: 10px; height: 10px;background-color: rgb(123, 234, 123);\"></td><td title=\"Index: [72, 27]&#10;Color: (123, 234, 123)\" style=\"width: 10px; height: 10px;background-color: rgb(123, 234, 123);\"></td><td title=\"Index: [72, 28]&#10;Color: (123, 234, 123)\" style=\"width: 10px; height: 10px;background-color: rgb(123, 234, 123);\"></td><td title=\"Index: [72, 29]&#10;Color: (123, 234, 123)\" style=\"width: 10px; height: 10px;background-color: rgb(123, 234, 123);\"></td><td title=\"Index: [72, 30]&#10;Color: (123, 234, 123)\" style=\"width: 10px; height: 10px;background-color: rgb(123, 234, 123);\"></td><td title=\"Index: [72, 31]&#10;Color: (0, 0, 0)\" style=\"width: 10px; height: 10px;background-color: rgb(0, 0, 0);\"></td><td title=\"Index: [72, 32]&#10;Color: (123, 234, 123)\" style=\"width: 10px; height: 10px;background-color: rgb(123, 234, 123);\"></td><td title=\"Index: [72, 33]&#10;Color: (123, 234, 123)\" style=\"width: 10px; height: 10px;background-color: rgb(123, 234, 123);\"></td><td title=\"Index: [72, 34]&#10;Color: (123, 234, 123)\" style=\"width: 10px; height: 10px;background-color: rgb(123, 234, 123);\"></td><td title=\"Index: [72, 35]&#10;Color: (123, 234, 123)\" style=\"width: 10px; height: 10px;background-color: rgb(123, 234, 123);\"></td><td title=\"Index: [72, 36]&#10;Color: (123, 234, 123)\" style=\"width: 10px; height: 10px;background-color: rgb(123, 234, 123);\"></td><td title=\"Index: [72, 37]&#10;Color: (0, 0, 0)\" style=\"width: 10px; height: 10px;background-color: rgb(0, 0, 0);\"></td><td title=\"Index: [72, 38]&#10;Color: (123, 234, 123)\" style=\"width: 10px; height: 10px;background-color: rgb(123, 234, 123);\"></td><td title=\"Index: [72, 39]&#10;Color: (123, 234, 123)\" style=\"width: 10px; height: 10px;background-color: rgb(123, 234, 123);\"></td><td title=\"Index: [72, 40]&#10;Color: (123, 234, 123)\" style=\"width: 10px; height: 10px;background-color: rgb(123, 234, 123);\"></td><td title=\"Index: [72, 41]&#10;Color: (123, 234, 123)\" style=\"width: 10px; height: 10px;background-color: rgb(123, 234, 123);\"></td><td title=\"Index: [72, 42]&#10;Color: (123, 234, 123)\" style=\"width: 10px; height: 10px;background-color: rgb(123, 234, 123);\"></td><td title=\"Index: [72, 43]&#10;Color: (0, 0, 0)\" style=\"width: 10px; height: 10px;background-color: rgb(0, 0, 0);\"></td><td title=\"Index: [72, 44]&#10;Color: (123, 234, 123)\" style=\"width: 10px; height: 10px;background-color: rgb(123, 234, 123);\"></td><td title=\"Index: [72, 45]&#10;Color: (123, 234, 123)\" style=\"width: 10px; height: 10px;background-color: rgb(123, 234, 123);\"></td><td title=\"Index: [72, 46]&#10;Color: (123, 234, 123)\" style=\"width: 10px; height: 10px;background-color: rgb(123, 234, 123);\"></td><td title=\"Index: [72, 47]&#10;Color: (123, 234, 123)\" style=\"width: 10px; height: 10px;background-color: rgb(123, 234, 123);\"></td><td title=\"Index: [72, 48]&#10;Color: (123, 234, 123)\" style=\"width: 10px; height: 10px;background-color: rgb(123, 234, 123);\"></td><td title=\"Index: [72, 49]&#10;Color: (123, 234, 123)\" style=\"width: 10px; height: 10px;background-color: rgb(123, 234, 123);\"></td></tr><tr><td title=\"Index: [73, 0]&#10;Color: (123, 234, 123)\" style=\"width: 10px; height: 10px;background-color: rgb(123, 234, 123);\"></td><td title=\"Index: [73, 1]&#10;Color: (123, 234, 123)\" style=\"width: 10px; height: 10px;background-color: rgb(123, 234, 123);\"></td><td title=\"Index: [73, 2]&#10;Color: (123, 234, 123)\" style=\"width: 10px; height: 10px;background-color: rgb(123, 234, 123);\"></td><td title=\"Index: [73, 3]&#10;Color: (123, 234, 123)\" style=\"width: 10px; height: 10px;background-color: rgb(123, 234, 123);\"></td><td title=\"Index: [73, 4]&#10;Color: (123, 234, 123)\" style=\"width: 10px; height: 10px;background-color: rgb(123, 234, 123);\"></td><td title=\"Index: [73, 5]&#10;Color: (123, 234, 123)\" style=\"width: 10px; height: 10px;background-color: rgb(123, 234, 123);\"></td><td title=\"Index: [73, 6]&#10;Color: (123, 234, 123)\" style=\"width: 10px; height: 10px;background-color: rgb(123, 234, 123);\"></td><td title=\"Index: [73, 7]&#10;Color: (123, 234, 123)\" style=\"width: 10px; height: 10px;background-color: rgb(123, 234, 123);\"></td><td title=\"Index: [73, 8]&#10;Color: (123, 234, 123)\" style=\"width: 10px; height: 10px;background-color: rgb(123, 234, 123);\"></td><td title=\"Index: [73, 9]&#10;Color: (0, 0, 0)\" style=\"width: 10px; height: 10px;background-color: rgb(0, 0, 0);\"></td><td title=\"Index: [73, 10]&#10;Color: (123, 234, 123)\" style=\"width: 10px; height: 10px;background-color: rgb(123, 234, 123);\"></td><td title=\"Index: [73, 11]&#10;Color: (123, 234, 123)\" style=\"width: 10px; height: 10px;background-color: rgb(123, 234, 123);\"></td><td title=\"Index: [73, 12]&#10;Color: (123, 234, 123)\" style=\"width: 10px; height: 10px;background-color: rgb(123, 234, 123);\"></td><td title=\"Index: [73, 13]&#10;Color: (123, 234, 123)\" style=\"width: 10px; height: 10px;background-color: rgb(123, 234, 123);\"></td><td title=\"Index: [73, 14]&#10;Color: (123, 234, 123)\" style=\"width: 10px; height: 10px;background-color: rgb(123, 234, 123);\"></td><td title=\"Index: [73, 15]&#10;Color: (123, 234, 123)\" style=\"width: 10px; height: 10px;background-color: rgb(123, 234, 123);\"></td><td title=\"Index: [73, 16]&#10;Color: (123, 234, 123)\" style=\"width: 10px; height: 10px;background-color: rgb(123, 234, 123);\"></td><td title=\"Index: [73, 17]&#10;Color: (123, 234, 123)\" style=\"width: 10px; height: 10px;background-color: rgb(123, 234, 123);\"></td><td title=\"Index: [73, 18]&#10;Color: (123, 234, 123)\" style=\"width: 10px; height: 10px;background-color: rgb(123, 234, 123);\"></td><td title=\"Index: [73, 19]&#10;Color: (123, 234, 123)\" style=\"width: 10px; height: 10px;background-color: rgb(123, 234, 123);\"></td><td title=\"Index: [73, 20]&#10;Color: (123, 234, 123)\" style=\"width: 10px; height: 10px;background-color: rgb(123, 234, 123);\"></td><td title=\"Index: [73, 21]&#10;Color: (0, 0, 0)\" style=\"width: 10px; height: 10px;background-color: rgb(0, 0, 0);\"></td><td title=\"Index: [73, 22]&#10;Color: (123, 234, 123)\" style=\"width: 10px; height: 10px;background-color: rgb(123, 234, 123);\"></td><td title=\"Index: [73, 23]&#10;Color: (0, 0, 0)\" style=\"width: 10px; height: 10px;background-color: rgb(0, 0, 0);\"></td><td title=\"Index: [73, 24]&#10;Color: (123, 234, 123)\" style=\"width: 10px; height: 10px;background-color: rgb(123, 234, 123);\"></td><td title=\"Index: [73, 25]&#10;Color: (123, 234, 123)\" style=\"width: 10px; height: 10px;background-color: rgb(123, 234, 123);\"></td><td title=\"Index: [73, 26]&#10;Color: (123, 234, 123)\" style=\"width: 10px; height: 10px;background-color: rgb(123, 234, 123);\"></td><td title=\"Index: [73, 27]&#10;Color: (0, 0, 0)\" style=\"width: 10px; height: 10px;background-color: rgb(0, 0, 0);\"></td><td title=\"Index: [73, 28]&#10;Color: (123, 234, 123)\" style=\"width: 10px; height: 10px;background-color: rgb(123, 234, 123);\"></td><td title=\"Index: [73, 29]&#10;Color: (123, 234, 123)\" style=\"width: 10px; height: 10px;background-color: rgb(123, 234, 123);\"></td><td title=\"Index: [73, 30]&#10;Color: (123, 234, 123)\" style=\"width: 10px; height: 10px;background-color: rgb(123, 234, 123);\"></td><td title=\"Index: [73, 31]&#10;Color: (123, 234, 123)\" style=\"width: 10px; height: 10px;background-color: rgb(123, 234, 123);\"></td><td title=\"Index: [73, 32]&#10;Color: (123, 234, 123)\" style=\"width: 10px; height: 10px;background-color: rgb(123, 234, 123);\"></td><td title=\"Index: [73, 33]&#10;Color: (123, 234, 123)\" style=\"width: 10px; height: 10px;background-color: rgb(123, 234, 123);\"></td><td title=\"Index: [73, 34]&#10;Color: (123, 234, 123)\" style=\"width: 10px; height: 10px;background-color: rgb(123, 234, 123);\"></td><td title=\"Index: [73, 35]&#10;Color: (123, 234, 123)\" style=\"width: 10px; height: 10px;background-color: rgb(123, 234, 123);\"></td><td title=\"Index: [73, 36]&#10;Color: (123, 234, 123)\" style=\"width: 10px; height: 10px;background-color: rgb(123, 234, 123);\"></td><td title=\"Index: [73, 37]&#10;Color: (123, 234, 123)\" style=\"width: 10px; height: 10px;background-color: rgb(123, 234, 123);\"></td><td title=\"Index: [73, 38]&#10;Color: (123, 234, 123)\" style=\"width: 10px; height: 10px;background-color: rgb(123, 234, 123);\"></td><td title=\"Index: [73, 39]&#10;Color: (123, 234, 123)\" style=\"width: 10px; height: 10px;background-color: rgb(123, 234, 123);\"></td><td title=\"Index: [73, 40]&#10;Color: (123, 234, 123)\" style=\"width: 10px; height: 10px;background-color: rgb(123, 234, 123);\"></td><td title=\"Index: [73, 41]&#10;Color: (0, 0, 0)\" style=\"width: 10px; height: 10px;background-color: rgb(0, 0, 0);\"></td><td title=\"Index: [73, 42]&#10;Color: (123, 234, 123)\" style=\"width: 10px; height: 10px;background-color: rgb(123, 234, 123);\"></td><td title=\"Index: [73, 43]&#10;Color: (123, 234, 123)\" style=\"width: 10px; height: 10px;background-color: rgb(123, 234, 123);\"></td><td title=\"Index: [73, 44]&#10;Color: (123, 234, 123)\" style=\"width: 10px; height: 10px;background-color: rgb(123, 234, 123);\"></td><td title=\"Index: [73, 45]&#10;Color: (123, 234, 123)\" style=\"width: 10px; height: 10px;background-color: rgb(123, 234, 123);\"></td><td title=\"Index: [73, 46]&#10;Color: (123, 234, 123)\" style=\"width: 10px; height: 10px;background-color: rgb(123, 234, 123);\"></td><td title=\"Index: [73, 47]&#10;Color: (0, 0, 0)\" style=\"width: 10px; height: 10px;background-color: rgb(0, 0, 0);\"></td><td title=\"Index: [73, 48]&#10;Color: (123, 234, 123)\" style=\"width: 10px; height: 10px;background-color: rgb(123, 234, 123);\"></td><td title=\"Index: [73, 49]&#10;Color: (123, 234, 123)\" style=\"width: 10px; height: 10px;background-color: rgb(123, 234, 123);\"></td></tr><tr><td title=\"Index: [74, 0]&#10;Color: (123, 234, 123)\" style=\"width: 10px; height: 10px;background-color: rgb(123, 234, 123);\"></td><td title=\"Index: [74, 1]&#10;Color: (0, 0, 0)\" style=\"width: 10px; height: 10px;background-color: rgb(0, 0, 0);\"></td><td title=\"Index: [74, 2]&#10;Color: (123, 234, 123)\" style=\"width: 10px; height: 10px;background-color: rgb(123, 234, 123);\"></td><td title=\"Index: [74, 3]&#10;Color: (123, 234, 123)\" style=\"width: 10px; height: 10px;background-color: rgb(123, 234, 123);\"></td><td title=\"Index: [74, 4]&#10;Color: (123, 234, 123)\" style=\"width: 10px; height: 10px;background-color: rgb(123, 234, 123);\"></td><td title=\"Index: [74, 5]&#10;Color: (123, 234, 123)\" style=\"width: 10px; height: 10px;background-color: rgb(123, 234, 123);\"></td><td title=\"Index: [74, 6]&#10;Color: (123, 234, 123)\" style=\"width: 10px; height: 10px;background-color: rgb(123, 234, 123);\"></td><td title=\"Index: [74, 7]&#10;Color: (123, 234, 123)\" style=\"width: 10px; height: 10px;background-color: rgb(123, 234, 123);\"></td><td title=\"Index: [74, 8]&#10;Color: (123, 234, 123)\" style=\"width: 10px; height: 10px;background-color: rgb(123, 234, 123);\"></td><td title=\"Index: [74, 9]&#10;Color: (0, 0, 0)\" style=\"width: 10px; height: 10px;background-color: rgb(0, 0, 0);\"></td><td title=\"Index: [74, 10]&#10;Color: (123, 234, 123)\" style=\"width: 10px; height: 10px;background-color: rgb(123, 234, 123);\"></td><td title=\"Index: [74, 11]&#10;Color: (123, 234, 123)\" style=\"width: 10px; height: 10px;background-color: rgb(123, 234, 123);\"></td><td title=\"Index: [74, 12]&#10;Color: (123, 234, 123)\" style=\"width: 10px; height: 10px;background-color: rgb(123, 234, 123);\"></td><td title=\"Index: [74, 13]&#10;Color: (123, 234, 123)\" style=\"width: 10px; height: 10px;background-color: rgb(123, 234, 123);\"></td><td title=\"Index: [74, 14]&#10;Color: (123, 234, 123)\" style=\"width: 10px; height: 10px;background-color: rgb(123, 234, 123);\"></td><td title=\"Index: [74, 15]&#10;Color: (123, 234, 123)\" style=\"width: 10px; height: 10px;background-color: rgb(123, 234, 123);\"></td><td title=\"Index: [74, 16]&#10;Color: (123, 234, 123)\" style=\"width: 10px; height: 10px;background-color: rgb(123, 234, 123);\"></td><td title=\"Index: [74, 17]&#10;Color: (123, 234, 123)\" style=\"width: 10px; height: 10px;background-color: rgb(123, 234, 123);\"></td><td title=\"Index: [74, 18]&#10;Color: (123, 234, 123)\" style=\"width: 10px; height: 10px;background-color: rgb(123, 234, 123);\"></td><td title=\"Index: [74, 19]&#10;Color: (0, 0, 0)\" style=\"width: 10px; height: 10px;background-color: rgb(0, 0, 0);\"></td><td title=\"Index: [74, 20]&#10;Color: (123, 234, 123)\" style=\"width: 10px; height: 10px;background-color: rgb(123, 234, 123);\"></td><td title=\"Index: [74, 21]&#10;Color: (123, 234, 123)\" style=\"width: 10px; height: 10px;background-color: rgb(123, 234, 123);\"></td><td title=\"Index: [74, 22]&#10;Color: (123, 234, 123)\" style=\"width: 10px; height: 10px;background-color: rgb(123, 234, 123);\"></td><td title=\"Index: [74, 23]&#10;Color: (123, 234, 123)\" style=\"width: 10px; height: 10px;background-color: rgb(123, 234, 123);\"></td><td title=\"Index: [74, 24]&#10;Color: (123, 234, 123)\" style=\"width: 10px; height: 10px;background-color: rgb(123, 234, 123);\"></td><td title=\"Index: [74, 25]&#10;Color: (123, 234, 123)\" style=\"width: 10px; height: 10px;background-color: rgb(123, 234, 123);\"></td><td title=\"Index: [74, 26]&#10;Color: (123, 234, 123)\" style=\"width: 10px; height: 10px;background-color: rgb(123, 234, 123);\"></td><td title=\"Index: [74, 27]&#10;Color: (0, 0, 0)\" style=\"width: 10px; height: 10px;background-color: rgb(0, 0, 0);\"></td><td title=\"Index: [74, 28]&#10;Color: (123, 234, 123)\" style=\"width: 10px; height: 10px;background-color: rgb(123, 234, 123);\"></td><td title=\"Index: [74, 29]&#10;Color: (123, 234, 123)\" style=\"width: 10px; height: 10px;background-color: rgb(123, 234, 123);\"></td><td title=\"Index: [74, 30]&#10;Color: (123, 234, 123)\" style=\"width: 10px; height: 10px;background-color: rgb(123, 234, 123);\"></td><td title=\"Index: [74, 31]&#10;Color: (123, 234, 123)\" style=\"width: 10px; height: 10px;background-color: rgb(123, 234, 123);\"></td><td title=\"Index: [74, 32]&#10;Color: (123, 234, 123)\" style=\"width: 10px; height: 10px;background-color: rgb(123, 234, 123);\"></td><td title=\"Index: [74, 33]&#10;Color: (0, 0, 0)\" style=\"width: 10px; height: 10px;background-color: rgb(0, 0, 0);\"></td><td title=\"Index: [74, 34]&#10;Color: (123, 234, 123)\" style=\"width: 10px; height: 10px;background-color: rgb(123, 234, 123);\"></td><td title=\"Index: [74, 35]&#10;Color: (123, 234, 123)\" style=\"width: 10px; height: 10px;background-color: rgb(123, 234, 123);\"></td><td title=\"Index: [74, 36]&#10;Color: (123, 234, 123)\" style=\"width: 10px; height: 10px;background-color: rgb(123, 234, 123);\"></td><td title=\"Index: [74, 37]&#10;Color: (123, 234, 123)\" style=\"width: 10px; height: 10px;background-color: rgb(123, 234, 123);\"></td><td title=\"Index: [74, 38]&#10;Color: (123, 234, 123)\" style=\"width: 10px; height: 10px;background-color: rgb(123, 234, 123);\"></td><td title=\"Index: [74, 39]&#10;Color: (0, 0, 0)\" style=\"width: 10px; height: 10px;background-color: rgb(0, 0, 0);\"></td><td title=\"Index: [74, 40]&#10;Color: (123, 234, 123)\" style=\"width: 10px; height: 10px;background-color: rgb(123, 234, 123);\"></td><td title=\"Index: [74, 41]&#10;Color: (123, 234, 123)\" style=\"width: 10px; height: 10px;background-color: rgb(123, 234, 123);\"></td><td title=\"Index: [74, 42]&#10;Color: (123, 234, 123)\" style=\"width: 10px; height: 10px;background-color: rgb(123, 234, 123);\"></td><td title=\"Index: [74, 43]&#10;Color: (123, 234, 123)\" style=\"width: 10px; height: 10px;background-color: rgb(123, 234, 123);\"></td><td title=\"Index: [74, 44]&#10;Color: (123, 234, 123)\" style=\"width: 10px; height: 10px;background-color: rgb(123, 234, 123);\"></td><td title=\"Index: [74, 45]&#10;Color: (123, 234, 123)\" style=\"width: 10px; height: 10px;background-color: rgb(123, 234, 123);\"></td><td title=\"Index: [74, 46]&#10;Color: (123, 234, 123)\" style=\"width: 10px; height: 10px;background-color: rgb(123, 234, 123);\"></td><td title=\"Index: [74, 47]&#10;Color: (123, 234, 123)\" style=\"width: 10px; height: 10px;background-color: rgb(123, 234, 123);\"></td><td title=\"Index: [74, 48]&#10;Color: (123, 234, 123)\" style=\"width: 10px; height: 10px;background-color: rgb(123, 234, 123);\"></td><td title=\"Index: [74, 49]&#10;Color: (123, 234, 123)\" style=\"width: 10px; height: 10px;background-color: rgb(123, 234, 123);\"></td></tr><tr><td title=\"Index: [75, 0]&#10;Color: (123, 234, 123)\" style=\"width: 10px; height: 10px;background-color: rgb(123, 234, 123);\"></td><td title=\"Index: [75, 1]&#10;Color: (123, 234, 123)\" style=\"width: 10px; height: 10px;background-color: rgb(123, 234, 123);\"></td><td title=\"Index: [75, 2]&#10;Color: (123, 234, 123)\" style=\"width: 10px; height: 10px;background-color: rgb(123, 234, 123);\"></td><td title=\"Index: [75, 3]&#10;Color: (123, 234, 123)\" style=\"width: 10px; height: 10px;background-color: rgb(123, 234, 123);\"></td><td title=\"Index: [75, 4]&#10;Color: (123, 234, 123)\" style=\"width: 10px; height: 10px;background-color: rgb(123, 234, 123);\"></td><td title=\"Index: [75, 5]&#10;Color: (123, 234, 123)\" style=\"width: 10px; height: 10px;background-color: rgb(123, 234, 123);\"></td><td title=\"Index: [75, 6]&#10;Color: (123, 234, 123)\" style=\"width: 10px; height: 10px;background-color: rgb(123, 234, 123);\"></td><td title=\"Index: [75, 7]&#10;Color: (123, 234, 123)\" style=\"width: 10px; height: 10px;background-color: rgb(123, 234, 123);\"></td><td title=\"Index: [75, 8]&#10;Color: (123, 234, 123)\" style=\"width: 10px; height: 10px;background-color: rgb(123, 234, 123);\"></td><td title=\"Index: [75, 9]&#10;Color: (123, 234, 123)\" style=\"width: 10px; height: 10px;background-color: rgb(123, 234, 123);\"></td><td title=\"Index: [75, 10]&#10;Color: (123, 234, 123)\" style=\"width: 10px; height: 10px;background-color: rgb(123, 234, 123);\"></td><td title=\"Index: [75, 11]&#10;Color: (0, 0, 0)\" style=\"width: 10px; height: 10px;background-color: rgb(0, 0, 0);\"></td><td title=\"Index: [75, 12]&#10;Color: (123, 234, 123)\" style=\"width: 10px; height: 10px;background-color: rgb(123, 234, 123);\"></td><td title=\"Index: [75, 13]&#10;Color: (123, 234, 123)\" style=\"width: 10px; height: 10px;background-color: rgb(123, 234, 123);\"></td><td title=\"Index: [75, 14]&#10;Color: (123, 234, 123)\" style=\"width: 10px; height: 10px;background-color: rgb(123, 234, 123);\"></td><td title=\"Index: [75, 15]&#10;Color: (123, 234, 123)\" style=\"width: 10px; height: 10px;background-color: rgb(123, 234, 123);\"></td><td title=\"Index: [75, 16]&#10;Color: (123, 234, 123)\" style=\"width: 10px; height: 10px;background-color: rgb(123, 234, 123);\"></td><td title=\"Index: [75, 17]&#10;Color: (0, 0, 0)\" style=\"width: 10px; height: 10px;background-color: rgb(0, 0, 0);\"></td><td title=\"Index: [75, 18]&#10;Color: (123, 234, 123)\" style=\"width: 10px; height: 10px;background-color: rgb(123, 234, 123);\"></td><td title=\"Index: [75, 19]&#10;Color: (0, 0, 0)\" style=\"width: 10px; height: 10px;background-color: rgb(0, 0, 0);\"></td><td title=\"Index: [75, 20]&#10;Color: (123, 234, 123)\" style=\"width: 10px; height: 10px;background-color: rgb(123, 234, 123);\"></td><td title=\"Index: [75, 21]&#10;Color: (123, 234, 123)\" style=\"width: 10px; height: 10px;background-color: rgb(123, 234, 123);\"></td><td title=\"Index: [75, 22]&#10;Color: (123, 234, 123)\" style=\"width: 10px; height: 10px;background-color: rgb(123, 234, 123);\"></td><td title=\"Index: [75, 23]&#10;Color: (123, 234, 123)\" style=\"width: 10px; height: 10px;background-color: rgb(123, 234, 123);\"></td><td title=\"Index: [75, 24]&#10;Color: (123, 234, 123)\" style=\"width: 10px; height: 10px;background-color: rgb(123, 234, 123);\"></td><td title=\"Index: [75, 25]&#10;Color: (123, 234, 123)\" style=\"width: 10px; height: 10px;background-color: rgb(123, 234, 123);\"></td><td title=\"Index: [75, 26]&#10;Color: (123, 234, 123)\" style=\"width: 10px; height: 10px;background-color: rgb(123, 234, 123);\"></td><td title=\"Index: [75, 27]&#10;Color: (123, 234, 123)\" style=\"width: 10px; height: 10px;background-color: rgb(123, 234, 123);\"></td><td title=\"Index: [75, 28]&#10;Color: (123, 234, 123)\" style=\"width: 10px; height: 10px;background-color: rgb(123, 234, 123);\"></td><td title=\"Index: [75, 29]&#10;Color: (0, 0, 0)\" style=\"width: 10px; height: 10px;background-color: rgb(0, 0, 0);\"></td><td title=\"Index: [75, 30]&#10;Color: (123, 234, 123)\" style=\"width: 10px; height: 10px;background-color: rgb(123, 234, 123);\"></td><td title=\"Index: [75, 31]&#10;Color: (123, 234, 123)\" style=\"width: 10px; height: 10px;background-color: rgb(123, 234, 123);\"></td><td title=\"Index: [75, 32]&#10;Color: (123, 234, 123)\" style=\"width: 10px; height: 10px;background-color: rgb(123, 234, 123);\"></td><td title=\"Index: [75, 33]&#10;Color: (123, 234, 123)\" style=\"width: 10px; height: 10px;background-color: rgb(123, 234, 123);\"></td><td title=\"Index: [75, 34]&#10;Color: (123, 234, 123)\" style=\"width: 10px; height: 10px;background-color: rgb(123, 234, 123);\"></td><td title=\"Index: [75, 35]&#10;Color: (123, 234, 123)\" style=\"width: 10px; height: 10px;background-color: rgb(123, 234, 123);\"></td><td title=\"Index: [75, 36]&#10;Color: (123, 234, 123)\" style=\"width: 10px; height: 10px;background-color: rgb(123, 234, 123);\"></td><td title=\"Index: [75, 37]&#10;Color: (123, 234, 123)\" style=\"width: 10px; height: 10px;background-color: rgb(123, 234, 123);\"></td><td title=\"Index: [75, 38]&#10;Color: (123, 234, 123)\" style=\"width: 10px; height: 10px;background-color: rgb(123, 234, 123);\"></td><td title=\"Index: [75, 39]&#10;Color: (123, 234, 123)\" style=\"width: 10px; height: 10px;background-color: rgb(123, 234, 123);\"></td><td title=\"Index: [75, 40]&#10;Color: (123, 234, 123)\" style=\"width: 10px; height: 10px;background-color: rgb(123, 234, 123);\"></td><td title=\"Index: [75, 41]&#10;Color: (123, 234, 123)\" style=\"width: 10px; height: 10px;background-color: rgb(123, 234, 123);\"></td><td title=\"Index: [75, 42]&#10;Color: (123, 234, 123)\" style=\"width: 10px; height: 10px;background-color: rgb(123, 234, 123);\"></td><td title=\"Index: [75, 43]&#10;Color: (0, 0, 0)\" style=\"width: 10px; height: 10px;background-color: rgb(0, 0, 0);\"></td><td title=\"Index: [75, 44]&#10;Color: (123, 234, 123)\" style=\"width: 10px; height: 10px;background-color: rgb(123, 234, 123);\"></td><td title=\"Index: [75, 45]&#10;Color: (123, 234, 123)\" style=\"width: 10px; height: 10px;background-color: rgb(123, 234, 123);\"></td><td title=\"Index: [75, 46]&#10;Color: (123, 234, 123)\" style=\"width: 10px; height: 10px;background-color: rgb(123, 234, 123);\"></td><td title=\"Index: [75, 47]&#10;Color: (0, 0, 0)\" style=\"width: 10px; height: 10px;background-color: rgb(0, 0, 0);\"></td><td title=\"Index: [75, 48]&#10;Color: (123, 234, 123)\" style=\"width: 10px; height: 10px;background-color: rgb(123, 234, 123);\"></td><td title=\"Index: [75, 49]&#10;Color: (123, 234, 123)\" style=\"width: 10px; height: 10px;background-color: rgb(123, 234, 123);\"></td></tr><tr><td title=\"Index: [76, 0]&#10;Color: (123, 234, 123)\" style=\"width: 10px; height: 10px;background-color: rgb(123, 234, 123);\"></td><td title=\"Index: [76, 1]&#10;Color: (123, 234, 123)\" style=\"width: 10px; height: 10px;background-color: rgb(123, 234, 123);\"></td><td title=\"Index: [76, 2]&#10;Color: (123, 234, 123)\" style=\"width: 10px; height: 10px;background-color: rgb(123, 234, 123);\"></td><td title=\"Index: [76, 3]&#10;Color: (0, 0, 0)\" style=\"width: 10px; height: 10px;background-color: rgb(0, 0, 0);\"></td><td title=\"Index: [76, 4]&#10;Color: (123, 234, 123)\" style=\"width: 10px; height: 10px;background-color: rgb(123, 234, 123);\"></td><td title=\"Index: [76, 5]&#10;Color: (123, 234, 123)\" style=\"width: 10px; height: 10px;background-color: rgb(123, 234, 123);\"></td><td title=\"Index: [76, 6]&#10;Color: (123, 234, 123)\" style=\"width: 10px; height: 10px;background-color: rgb(123, 234, 123);\"></td><td title=\"Index: [76, 7]&#10;Color: (123, 234, 123)\" style=\"width: 10px; height: 10px;background-color: rgb(123, 234, 123);\"></td><td title=\"Index: [76, 8]&#10;Color: (123, 234, 123)\" style=\"width: 10px; height: 10px;background-color: rgb(123, 234, 123);\"></td><td title=\"Index: [76, 9]&#10;Color: (123, 234, 123)\" style=\"width: 10px; height: 10px;background-color: rgb(123, 234, 123);\"></td><td title=\"Index: [76, 10]&#10;Color: (123, 234, 123)\" style=\"width: 10px; height: 10px;background-color: rgb(123, 234, 123);\"></td><td title=\"Index: [76, 11]&#10;Color: (123, 234, 123)\" style=\"width: 10px; height: 10px;background-color: rgb(123, 234, 123);\"></td><td title=\"Index: [76, 12]&#10;Color: (123, 234, 123)\" style=\"width: 10px; height: 10px;background-color: rgb(123, 234, 123);\"></td><td title=\"Index: [76, 13]&#10;Color: (123, 234, 123)\" style=\"width: 10px; height: 10px;background-color: rgb(123, 234, 123);\"></td><td title=\"Index: [76, 14]&#10;Color: (123, 234, 123)\" style=\"width: 10px; height: 10px;background-color: rgb(123, 234, 123);\"></td><td title=\"Index: [76, 15]&#10;Color: (123, 234, 123)\" style=\"width: 10px; height: 10px;background-color: rgb(123, 234, 123);\"></td><td title=\"Index: [76, 16]&#10;Color: (123, 234, 123)\" style=\"width: 10px; height: 10px;background-color: rgb(123, 234, 123);\"></td><td title=\"Index: [76, 17]&#10;Color: (123, 234, 123)\" style=\"width: 10px; height: 10px;background-color: rgb(123, 234, 123);\"></td><td title=\"Index: [76, 18]&#10;Color: (123, 234, 123)\" style=\"width: 10px; height: 10px;background-color: rgb(123, 234, 123);\"></td><td title=\"Index: [76, 19]&#10;Color: (123, 234, 123)\" style=\"width: 10px; height: 10px;background-color: rgb(123, 234, 123);\"></td><td title=\"Index: [76, 20]&#10;Color: (123, 234, 123)\" style=\"width: 10px; height: 10px;background-color: rgb(123, 234, 123);\"></td><td title=\"Index: [76, 21]&#10;Color: (0, 0, 0)\" style=\"width: 10px; height: 10px;background-color: rgb(0, 0, 0);\"></td><td title=\"Index: [76, 22]&#10;Color: (123, 234, 123)\" style=\"width: 10px; height: 10px;background-color: rgb(123, 234, 123);\"></td><td title=\"Index: [76, 23]&#10;Color: (0, 0, 0)\" style=\"width: 10px; height: 10px;background-color: rgb(0, 0, 0);\"></td><td title=\"Index: [76, 24]&#10;Color: (123, 234, 123)\" style=\"width: 10px; height: 10px;background-color: rgb(123, 234, 123);\"></td><td title=\"Index: [76, 25]&#10;Color: (123, 234, 123)\" style=\"width: 10px; height: 10px;background-color: rgb(123, 234, 123);\"></td><td title=\"Index: [76, 26]&#10;Color: (123, 234, 123)\" style=\"width: 10px; height: 10px;background-color: rgb(123, 234, 123);\"></td><td title=\"Index: [76, 27]&#10;Color: (123, 234, 123)\" style=\"width: 10px; height: 10px;background-color: rgb(123, 234, 123);\"></td><td title=\"Index: [76, 28]&#10;Color: (123, 234, 123)\" style=\"width: 10px; height: 10px;background-color: rgb(123, 234, 123);\"></td><td title=\"Index: [76, 29]&#10;Color: (123, 234, 123)\" style=\"width: 10px; height: 10px;background-color: rgb(123, 234, 123);\"></td><td title=\"Index: [76, 30]&#10;Color: (123, 234, 123)\" style=\"width: 10px; height: 10px;background-color: rgb(123, 234, 123);\"></td><td title=\"Index: [76, 31]&#10;Color: (123, 234, 123)\" style=\"width: 10px; height: 10px;background-color: rgb(123, 234, 123);\"></td><td title=\"Index: [76, 32]&#10;Color: (123, 234, 123)\" style=\"width: 10px; height: 10px;background-color: rgb(123, 234, 123);\"></td><td title=\"Index: [76, 33]&#10;Color: (0, 0, 0)\" style=\"width: 10px; height: 10px;background-color: rgb(0, 0, 0);\"></td><td title=\"Index: [76, 34]&#10;Color: (123, 234, 123)\" style=\"width: 10px; height: 10px;background-color: rgb(123, 234, 123);\"></td><td title=\"Index: [76, 35]&#10;Color: (123, 234, 123)\" style=\"width: 10px; height: 10px;background-color: rgb(123, 234, 123);\"></td><td title=\"Index: [76, 36]&#10;Color: (123, 234, 123)\" style=\"width: 10px; height: 10px;background-color: rgb(123, 234, 123);\"></td><td title=\"Index: [76, 37]&#10;Color: (123, 234, 123)\" style=\"width: 10px; height: 10px;background-color: rgb(123, 234, 123);\"></td><td title=\"Index: [76, 38]&#10;Color: (123, 234, 123)\" style=\"width: 10px; height: 10px;background-color: rgb(123, 234, 123);\"></td><td title=\"Index: [76, 39]&#10;Color: (123, 234, 123)\" style=\"width: 10px; height: 10px;background-color: rgb(123, 234, 123);\"></td><td title=\"Index: [76, 40]&#10;Color: (123, 234, 123)\" style=\"width: 10px; height: 10px;background-color: rgb(123, 234, 123);\"></td><td title=\"Index: [76, 41]&#10;Color: (123, 234, 123)\" style=\"width: 10px; height: 10px;background-color: rgb(123, 234, 123);\"></td><td title=\"Index: [76, 42]&#10;Color: (123, 234, 123)\" style=\"width: 10px; height: 10px;background-color: rgb(123, 234, 123);\"></td><td title=\"Index: [76, 43]&#10;Color: (123, 234, 123)\" style=\"width: 10px; height: 10px;background-color: rgb(123, 234, 123);\"></td><td title=\"Index: [76, 44]&#10;Color: (123, 234, 123)\" style=\"width: 10px; height: 10px;background-color: rgb(123, 234, 123);\"></td><td title=\"Index: [76, 45]&#10;Color: (123, 234, 123)\" style=\"width: 10px; height: 10px;background-color: rgb(123, 234, 123);\"></td><td title=\"Index: [76, 46]&#10;Color: (123, 234, 123)\" style=\"width: 10px; height: 10px;background-color: rgb(123, 234, 123);\"></td><td title=\"Index: [76, 47]&#10;Color: (0, 0, 0)\" style=\"width: 10px; height: 10px;background-color: rgb(0, 0, 0);\"></td><td title=\"Index: [76, 48]&#10;Color: (123, 234, 123)\" style=\"width: 10px; height: 10px;background-color: rgb(123, 234, 123);\"></td><td title=\"Index: [76, 49]&#10;Color: (123, 234, 123)\" style=\"width: 10px; height: 10px;background-color: rgb(123, 234, 123);\"></td></tr><tr><td title=\"Index: [77, 0]&#10;Color: (123, 234, 123)\" style=\"width: 10px; height: 10px;background-color: rgb(123, 234, 123);\"></td><td title=\"Index: [77, 1]&#10;Color: (0, 0, 0)\" style=\"width: 10px; height: 10px;background-color: rgb(0, 0, 0);\"></td><td title=\"Index: [77, 2]&#10;Color: (123, 234, 123)\" style=\"width: 10px; height: 10px;background-color: rgb(123, 234, 123);\"></td><td title=\"Index: [77, 3]&#10;Color: (0, 0, 0)\" style=\"width: 10px; height: 10px;background-color: rgb(0, 0, 0);\"></td><td title=\"Index: [77, 4]&#10;Color: (123, 234, 123)\" style=\"width: 10px; height: 10px;background-color: rgb(123, 234, 123);\"></td><td title=\"Index: [77, 5]&#10;Color: (123, 234, 123)\" style=\"width: 10px; height: 10px;background-color: rgb(123, 234, 123);\"></td><td title=\"Index: [77, 6]&#10;Color: (123, 234, 123)\" style=\"width: 10px; height: 10px;background-color: rgb(123, 234, 123);\"></td><td title=\"Index: [77, 7]&#10;Color: (123, 234, 123)\" style=\"width: 10px; height: 10px;background-color: rgb(123, 234, 123);\"></td><td title=\"Index: [77, 8]&#10;Color: (123, 234, 123)\" style=\"width: 10px; height: 10px;background-color: rgb(123, 234, 123);\"></td><td title=\"Index: [77, 9]&#10;Color: (123, 234, 123)\" style=\"width: 10px; height: 10px;background-color: rgb(123, 234, 123);\"></td><td title=\"Index: [77, 10]&#10;Color: (123, 234, 123)\" style=\"width: 10px; height: 10px;background-color: rgb(123, 234, 123);\"></td><td title=\"Index: [77, 11]&#10;Color: (123, 234, 123)\" style=\"width: 10px; height: 10px;background-color: rgb(123, 234, 123);\"></td><td title=\"Index: [77, 12]&#10;Color: (123, 234, 123)\" style=\"width: 10px; height: 10px;background-color: rgb(123, 234, 123);\"></td><td title=\"Index: [77, 13]&#10;Color: (0, 0, 0)\" style=\"width: 10px; height: 10px;background-color: rgb(0, 0, 0);\"></td><td title=\"Index: [77, 14]&#10;Color: (123, 234, 123)\" style=\"width: 10px; height: 10px;background-color: rgb(123, 234, 123);\"></td><td title=\"Index: [77, 15]&#10;Color: (123, 234, 123)\" style=\"width: 10px; height: 10px;background-color: rgb(123, 234, 123);\"></td><td title=\"Index: [77, 16]&#10;Color: (123, 234, 123)\" style=\"width: 10px; height: 10px;background-color: rgb(123, 234, 123);\"></td><td title=\"Index: [77, 17]&#10;Color: (123, 234, 123)\" style=\"width: 10px; height: 10px;background-color: rgb(123, 234, 123);\"></td><td title=\"Index: [77, 18]&#10;Color: (123, 234, 123)\" style=\"width: 10px; height: 10px;background-color: rgb(123, 234, 123);\"></td><td title=\"Index: [77, 19]&#10;Color: (123, 234, 123)\" style=\"width: 10px; height: 10px;background-color: rgb(123, 234, 123);\"></td><td title=\"Index: [77, 20]&#10;Color: (123, 234, 123)\" style=\"width: 10px; height: 10px;background-color: rgb(123, 234, 123);\"></td><td title=\"Index: [77, 21]&#10;Color: (123, 234, 123)\" style=\"width: 10px; height: 10px;background-color: rgb(123, 234, 123);\"></td><td title=\"Index: [77, 22]&#10;Color: (123, 234, 123)\" style=\"width: 10px; height: 10px;background-color: rgb(123, 234, 123);\"></td><td title=\"Index: [77, 23]&#10;Color: (123, 234, 123)\" style=\"width: 10px; height: 10px;background-color: rgb(123, 234, 123);\"></td><td title=\"Index: [77, 24]&#10;Color: (123, 234, 123)\" style=\"width: 10px; height: 10px;background-color: rgb(123, 234, 123);\"></td><td title=\"Index: [77, 25]&#10;Color: (123, 234, 123)\" style=\"width: 10px; height: 10px;background-color: rgb(123, 234, 123);\"></td><td title=\"Index: [77, 26]&#10;Color: (123, 234, 123)\" style=\"width: 10px; height: 10px;background-color: rgb(123, 234, 123);\"></td><td title=\"Index: [77, 27]&#10;Color: (0, 0, 0)\" style=\"width: 10px; height: 10px;background-color: rgb(0, 0, 0);\"></td><td title=\"Index: [77, 28]&#10;Color: (123, 234, 123)\" style=\"width: 10px; height: 10px;background-color: rgb(123, 234, 123);\"></td><td title=\"Index: [77, 29]&#10;Color: (123, 234, 123)\" style=\"width: 10px; height: 10px;background-color: rgb(123, 234, 123);\"></td><td title=\"Index: [77, 30]&#10;Color: (123, 234, 123)\" style=\"width: 10px; height: 10px;background-color: rgb(123, 234, 123);\"></td><td title=\"Index: [77, 31]&#10;Color: (0, 0, 0)\" style=\"width: 10px; height: 10px;background-color: rgb(0, 0, 0);\"></td><td title=\"Index: [77, 32]&#10;Color: (123, 234, 123)\" style=\"width: 10px; height: 10px;background-color: rgb(123, 234, 123);\"></td><td title=\"Index: [77, 33]&#10;Color: (123, 234, 123)\" style=\"width: 10px; height: 10px;background-color: rgb(123, 234, 123);\"></td><td title=\"Index: [77, 34]&#10;Color: (123, 234, 123)\" style=\"width: 10px; height: 10px;background-color: rgb(123, 234, 123);\"></td><td title=\"Index: [77, 35]&#10;Color: (123, 234, 123)\" style=\"width: 10px; height: 10px;background-color: rgb(123, 234, 123);\"></td><td title=\"Index: [77, 36]&#10;Color: (123, 234, 123)\" style=\"width: 10px; height: 10px;background-color: rgb(123, 234, 123);\"></td><td title=\"Index: [77, 37]&#10;Color: (123, 234, 123)\" style=\"width: 10px; height: 10px;background-color: rgb(123, 234, 123);\"></td><td title=\"Index: [77, 38]&#10;Color: (123, 234, 123)\" style=\"width: 10px; height: 10px;background-color: rgb(123, 234, 123);\"></td><td title=\"Index: [77, 39]&#10;Color: (0, 0, 0)\" style=\"width: 10px; height: 10px;background-color: rgb(0, 0, 0);\"></td><td title=\"Index: [77, 40]&#10;Color: (123, 234, 123)\" style=\"width: 10px; height: 10px;background-color: rgb(123, 234, 123);\"></td><td title=\"Index: [77, 41]&#10;Color: (123, 234, 123)\" style=\"width: 10px; height: 10px;background-color: rgb(123, 234, 123);\"></td><td title=\"Index: [77, 42]&#10;Color: (123, 234, 123)\" style=\"width: 10px; height: 10px;background-color: rgb(123, 234, 123);\"></td><td title=\"Index: [77, 43]&#10;Color: (123, 234, 123)\" style=\"width: 10px; height: 10px;background-color: rgb(123, 234, 123);\"></td><td title=\"Index: [77, 44]&#10;Color: (123, 234, 123)\" style=\"width: 10px; height: 10px;background-color: rgb(123, 234, 123);\"></td><td title=\"Index: [77, 45]&#10;Color: (123, 234, 123)\" style=\"width: 10px; height: 10px;background-color: rgb(123, 234, 123);\"></td><td title=\"Index: [77, 46]&#10;Color: (123, 234, 123)\" style=\"width: 10px; height: 10px;background-color: rgb(123, 234, 123);\"></td><td title=\"Index: [77, 47]&#10;Color: (123, 234, 123)\" style=\"width: 10px; height: 10px;background-color: rgb(123, 234, 123);\"></td><td title=\"Index: [77, 48]&#10;Color: (123, 234, 123)\" style=\"width: 10px; height: 10px;background-color: rgb(123, 234, 123);\"></td><td title=\"Index: [77, 49]&#10;Color: (123, 234, 123)\" style=\"width: 10px; height: 10px;background-color: rgb(123, 234, 123);\"></td></tr><tr><td title=\"Index: [78, 0]&#10;Color: (123, 234, 123)\" style=\"width: 10px; height: 10px;background-color: rgb(123, 234, 123);\"></td><td title=\"Index: [78, 1]&#10;Color: (123, 234, 123)\" style=\"width: 10px; height: 10px;background-color: rgb(123, 234, 123);\"></td><td title=\"Index: [78, 2]&#10;Color: (123, 234, 123)\" style=\"width: 10px; height: 10px;background-color: rgb(123, 234, 123);\"></td><td title=\"Index: [78, 3]&#10;Color: (123, 234, 123)\" style=\"width: 10px; height: 10px;background-color: rgb(123, 234, 123);\"></td><td title=\"Index: [78, 4]&#10;Color: (123, 234, 123)\" style=\"width: 10px; height: 10px;background-color: rgb(123, 234, 123);\"></td><td title=\"Index: [78, 5]&#10;Color: (123, 234, 123)\" style=\"width: 10px; height: 10px;background-color: rgb(123, 234, 123);\"></td><td title=\"Index: [78, 6]&#10;Color: (123, 234, 123)\" style=\"width: 10px; height: 10px;background-color: rgb(123, 234, 123);\"></td><td title=\"Index: [78, 7]&#10;Color: (0, 0, 0)\" style=\"width: 10px; height: 10px;background-color: rgb(0, 0, 0);\"></td><td title=\"Index: [78, 8]&#10;Color: (123, 234, 123)\" style=\"width: 10px; height: 10px;background-color: rgb(123, 234, 123);\"></td><td title=\"Index: [78, 9]&#10;Color: (123, 234, 123)\" style=\"width: 10px; height: 10px;background-color: rgb(123, 234, 123);\"></td><td title=\"Index: [78, 10]&#10;Color: (123, 234, 123)\" style=\"width: 10px; height: 10px;background-color: rgb(123, 234, 123);\"></td><td title=\"Index: [78, 11]&#10;Color: (0, 0, 0)\" style=\"width: 10px; height: 10px;background-color: rgb(0, 0, 0);\"></td><td title=\"Index: [78, 12]&#10;Color: (123, 234, 123)\" style=\"width: 10px; height: 10px;background-color: rgb(123, 234, 123);\"></td><td title=\"Index: [78, 13]&#10;Color: (123, 234, 123)\" style=\"width: 10px; height: 10px;background-color: rgb(123, 234, 123);\"></td><td title=\"Index: [78, 14]&#10;Color: (123, 234, 123)\" style=\"width: 10px; height: 10px;background-color: rgb(123, 234, 123);\"></td><td title=\"Index: [78, 15]&#10;Color: (123, 234, 123)\" style=\"width: 10px; height: 10px;background-color: rgb(123, 234, 123);\"></td><td title=\"Index: [78, 16]&#10;Color: (123, 234, 123)\" style=\"width: 10px; height: 10px;background-color: rgb(123, 234, 123);\"></td><td title=\"Index: [78, 17]&#10;Color: (0, 0, 0)\" style=\"width: 10px; height: 10px;background-color: rgb(0, 0, 0);\"></td><td title=\"Index: [78, 18]&#10;Color: (123, 234, 123)\" style=\"width: 10px; height: 10px;background-color: rgb(123, 234, 123);\"></td><td title=\"Index: [78, 19]&#10;Color: (0, 0, 0)\" style=\"width: 10px; height: 10px;background-color: rgb(0, 0, 0);\"></td><td title=\"Index: [78, 20]&#10;Color: (123, 234, 123)\" style=\"width: 10px; height: 10px;background-color: rgb(123, 234, 123);\"></td><td title=\"Index: [78, 21]&#10;Color: (123, 234, 123)\" style=\"width: 10px; height: 10px;background-color: rgb(123, 234, 123);\"></td><td title=\"Index: [78, 22]&#10;Color: (123, 234, 123)\" style=\"width: 10px; height: 10px;background-color: rgb(123, 234, 123);\"></td><td title=\"Index: [78, 23]&#10;Color: (0, 0, 0)\" style=\"width: 10px; height: 10px;background-color: rgb(0, 0, 0);\"></td><td title=\"Index: [78, 24]&#10;Color: (123, 234, 123)\" style=\"width: 10px; height: 10px;background-color: rgb(123, 234, 123);\"></td><td title=\"Index: [78, 25]&#10;Color: (123, 234, 123)\" style=\"width: 10px; height: 10px;background-color: rgb(123, 234, 123);\"></td><td title=\"Index: [78, 26]&#10;Color: (123, 234, 123)\" style=\"width: 10px; height: 10px;background-color: rgb(123, 234, 123);\"></td><td title=\"Index: [78, 27]&#10;Color: (123, 234, 123)\" style=\"width: 10px; height: 10px;background-color: rgb(123, 234, 123);\"></td><td title=\"Index: [78, 28]&#10;Color: (123, 234, 123)\" style=\"width: 10px; height: 10px;background-color: rgb(123, 234, 123);\"></td><td title=\"Index: [78, 29]&#10;Color: (0, 0, 0)\" style=\"width: 10px; height: 10px;background-color: rgb(0, 0, 0);\"></td><td title=\"Index: [78, 30]&#10;Color: (123, 234, 123)\" style=\"width: 10px; height: 10px;background-color: rgb(123, 234, 123);\"></td><td title=\"Index: [78, 31]&#10;Color: (0, 0, 0)\" style=\"width: 10px; height: 10px;background-color: rgb(0, 0, 0);\"></td><td title=\"Index: [78, 32]&#10;Color: (123, 234, 123)\" style=\"width: 10px; height: 10px;background-color: rgb(123, 234, 123);\"></td><td title=\"Index: [78, 33]&#10;Color: (123, 234, 123)\" style=\"width: 10px; height: 10px;background-color: rgb(123, 234, 123);\"></td><td title=\"Index: [78, 34]&#10;Color: (123, 234, 123)\" style=\"width: 10px; height: 10px;background-color: rgb(123, 234, 123);\"></td><td title=\"Index: [78, 35]&#10;Color: (123, 234, 123)\" style=\"width: 10px; height: 10px;background-color: rgb(123, 234, 123);\"></td><td title=\"Index: [78, 36]&#10;Color: (123, 234, 123)\" style=\"width: 10px; height: 10px;background-color: rgb(123, 234, 123);\"></td><td title=\"Index: [78, 37]&#10;Color: (123, 234, 123)\" style=\"width: 10px; height: 10px;background-color: rgb(123, 234, 123);\"></td><td title=\"Index: [78, 38]&#10;Color: (123, 234, 123)\" style=\"width: 10px; height: 10px;background-color: rgb(123, 234, 123);\"></td><td title=\"Index: [78, 39]&#10;Color: (123, 234, 123)\" style=\"width: 10px; height: 10px;background-color: rgb(123, 234, 123);\"></td><td title=\"Index: [78, 40]&#10;Color: (123, 234, 123)\" style=\"width: 10px; height: 10px;background-color: rgb(123, 234, 123);\"></td><td title=\"Index: [78, 41]&#10;Color: (123, 234, 123)\" style=\"width: 10px; height: 10px;background-color: rgb(123, 234, 123);\"></td><td title=\"Index: [78, 42]&#10;Color: (123, 234, 123)\" style=\"width: 10px; height: 10px;background-color: rgb(123, 234, 123);\"></td><td title=\"Index: [78, 43]&#10;Color: (0, 0, 0)\" style=\"width: 10px; height: 10px;background-color: rgb(0, 0, 0);\"></td><td title=\"Index: [78, 44]&#10;Color: (123, 234, 123)\" style=\"width: 10px; height: 10px;background-color: rgb(123, 234, 123);\"></td><td title=\"Index: [78, 45]&#10;Color: (123, 234, 123)\" style=\"width: 10px; height: 10px;background-color: rgb(123, 234, 123);\"></td><td title=\"Index: [78, 46]&#10;Color: (123, 234, 123)\" style=\"width: 10px; height: 10px;background-color: rgb(123, 234, 123);\"></td><td title=\"Index: [78, 47]&#10;Color: (0, 0, 0)\" style=\"width: 10px; height: 10px;background-color: rgb(0, 0, 0);\"></td><td title=\"Index: [78, 48]&#10;Color: (123, 234, 123)\" style=\"width: 10px; height: 10px;background-color: rgb(123, 234, 123);\"></td><td title=\"Index: [78, 49]&#10;Color: (123, 234, 123)\" style=\"width: 10px; height: 10px;background-color: rgb(123, 234, 123);\"></td></tr><tr><td title=\"Index: [79, 0]&#10;Color: (123, 234, 123)\" style=\"width: 10px; height: 10px;background-color: rgb(123, 234, 123);\"></td><td title=\"Index: [79, 1]&#10;Color: (123, 234, 123)\" style=\"width: 10px; height: 10px;background-color: rgb(123, 234, 123);\"></td><td title=\"Index: [79, 2]&#10;Color: (123, 234, 123)\" style=\"width: 10px; height: 10px;background-color: rgb(123, 234, 123);\"></td><td title=\"Index: [79, 3]&#10;Color: (123, 234, 123)\" style=\"width: 10px; height: 10px;background-color: rgb(123, 234, 123);\"></td><td title=\"Index: [79, 4]&#10;Color: (123, 234, 123)\" style=\"width: 10px; height: 10px;background-color: rgb(123, 234, 123);\"></td><td title=\"Index: [79, 5]&#10;Color: (123, 234, 123)\" style=\"width: 10px; height: 10px;background-color: rgb(123, 234, 123);\"></td><td title=\"Index: [79, 6]&#10;Color: (123, 234, 123)\" style=\"width: 10px; height: 10px;background-color: rgb(123, 234, 123);\"></td><td title=\"Index: [79, 7]&#10;Color: (123, 234, 123)\" style=\"width: 10px; height: 10px;background-color: rgb(123, 234, 123);\"></td><td title=\"Index: [79, 8]&#10;Color: (123, 234, 123)\" style=\"width: 10px; height: 10px;background-color: rgb(123, 234, 123);\"></td><td title=\"Index: [79, 9]&#10;Color: (123, 234, 123)\" style=\"width: 10px; height: 10px;background-color: rgb(123, 234, 123);\"></td><td title=\"Index: [79, 10]&#10;Color: (123, 234, 123)\" style=\"width: 10px; height: 10px;background-color: rgb(123, 234, 123);\"></td><td title=\"Index: [79, 11]&#10;Color: (123, 234, 123)\" style=\"width: 10px; height: 10px;background-color: rgb(123, 234, 123);\"></td><td title=\"Index: [79, 12]&#10;Color: (123, 234, 123)\" style=\"width: 10px; height: 10px;background-color: rgb(123, 234, 123);\"></td><td title=\"Index: [79, 13]&#10;Color: (123, 234, 123)\" style=\"width: 10px; height: 10px;background-color: rgb(123, 234, 123);\"></td><td title=\"Index: [79, 14]&#10;Color: (123, 234, 123)\" style=\"width: 10px; height: 10px;background-color: rgb(123, 234, 123);\"></td><td title=\"Index: [79, 15]&#10;Color: (123, 234, 123)\" style=\"width: 10px; height: 10px;background-color: rgb(123, 234, 123);\"></td><td title=\"Index: [79, 16]&#10;Color: (123, 234, 123)\" style=\"width: 10px; height: 10px;background-color: rgb(123, 234, 123);\"></td><td title=\"Index: [79, 17]&#10;Color: (0, 0, 0)\" style=\"width: 10px; height: 10px;background-color: rgb(0, 0, 0);\"></td><td title=\"Index: [79, 18]&#10;Color: (123, 234, 123)\" style=\"width: 10px; height: 10px;background-color: rgb(123, 234, 123);\"></td><td title=\"Index: [79, 19]&#10;Color: (123, 234, 123)\" style=\"width: 10px; height: 10px;background-color: rgb(123, 234, 123);\"></td><td title=\"Index: [79, 20]&#10;Color: (123, 234, 123)\" style=\"width: 10px; height: 10px;background-color: rgb(123, 234, 123);\"></td><td title=\"Index: [79, 21]&#10;Color: (123, 234, 123)\" style=\"width: 10px; height: 10px;background-color: rgb(123, 234, 123);\"></td><td title=\"Index: [79, 22]&#10;Color: (123, 234, 123)\" style=\"width: 10px; height: 10px;background-color: rgb(123, 234, 123);\"></td><td title=\"Index: [79, 23]&#10;Color: (123, 234, 123)\" style=\"width: 10px; height: 10px;background-color: rgb(123, 234, 123);\"></td><td title=\"Index: [79, 24]&#10;Color: (123, 234, 123)\" style=\"width: 10px; height: 10px;background-color: rgb(123, 234, 123);\"></td><td title=\"Index: [79, 25]&#10;Color: (123, 234, 123)\" style=\"width: 10px; height: 10px;background-color: rgb(123, 234, 123);\"></td><td title=\"Index: [79, 26]&#10;Color: (123, 234, 123)\" style=\"width: 10px; height: 10px;background-color: rgb(123, 234, 123);\"></td><td title=\"Index: [79, 27]&#10;Color: (123, 234, 123)\" style=\"width: 10px; height: 10px;background-color: rgb(123, 234, 123);\"></td><td title=\"Index: [79, 28]&#10;Color: (123, 234, 123)\" style=\"width: 10px; height: 10px;background-color: rgb(123, 234, 123);\"></td><td title=\"Index: [79, 29]&#10;Color: (123, 234, 123)\" style=\"width: 10px; height: 10px;background-color: rgb(123, 234, 123);\"></td><td title=\"Index: [79, 30]&#10;Color: (123, 234, 123)\" style=\"width: 10px; height: 10px;background-color: rgb(123, 234, 123);\"></td><td title=\"Index: [79, 31]&#10;Color: (123, 234, 123)\" style=\"width: 10px; height: 10px;background-color: rgb(123, 234, 123);\"></td><td title=\"Index: [79, 32]&#10;Color: (123, 234, 123)\" style=\"width: 10px; height: 10px;background-color: rgb(123, 234, 123);\"></td><td title=\"Index: [79, 33]&#10;Color: (123, 234, 123)\" style=\"width: 10px; height: 10px;background-color: rgb(123, 234, 123);\"></td><td title=\"Index: [79, 34]&#10;Color: (123, 234, 123)\" style=\"width: 10px; height: 10px;background-color: rgb(123, 234, 123);\"></td><td title=\"Index: [79, 35]&#10;Color: (123, 234, 123)\" style=\"width: 10px; height: 10px;background-color: rgb(123, 234, 123);\"></td><td title=\"Index: [79, 36]&#10;Color: (123, 234, 123)\" style=\"width: 10px; height: 10px;background-color: rgb(123, 234, 123);\"></td><td title=\"Index: [79, 37]&#10;Color: (123, 234, 123)\" style=\"width: 10px; height: 10px;background-color: rgb(123, 234, 123);\"></td><td title=\"Index: [79, 38]&#10;Color: (123, 234, 123)\" style=\"width: 10px; height: 10px;background-color: rgb(123, 234, 123);\"></td><td title=\"Index: [79, 39]&#10;Color: (0, 0, 0)\" style=\"width: 10px; height: 10px;background-color: rgb(0, 0, 0);\"></td><td title=\"Index: [79, 40]&#10;Color: (123, 234, 123)\" style=\"width: 10px; height: 10px;background-color: rgb(123, 234, 123);\"></td><td title=\"Index: [79, 41]&#10;Color: (123, 234, 123)\" style=\"width: 10px; height: 10px;background-color: rgb(123, 234, 123);\"></td><td title=\"Index: [79, 42]&#10;Color: (123, 234, 123)\" style=\"width: 10px; height: 10px;background-color: rgb(123, 234, 123);\"></td><td title=\"Index: [79, 43]&#10;Color: (123, 234, 123)\" style=\"width: 10px; height: 10px;background-color: rgb(123, 234, 123);\"></td><td title=\"Index: [79, 44]&#10;Color: (123, 234, 123)\" style=\"width: 10px; height: 10px;background-color: rgb(123, 234, 123);\"></td><td title=\"Index: [79, 45]&#10;Color: (123, 234, 123)\" style=\"width: 10px; height: 10px;background-color: rgb(123, 234, 123);\"></td><td title=\"Index: [79, 46]&#10;Color: (123, 234, 123)\" style=\"width: 10px; height: 10px;background-color: rgb(123, 234, 123);\"></td><td title=\"Index: [79, 47]&#10;Color: (123, 234, 123)\" style=\"width: 10px; height: 10px;background-color: rgb(123, 234, 123);\"></td><td title=\"Index: [79, 48]&#10;Color: (123, 234, 123)\" style=\"width: 10px; height: 10px;background-color: rgb(123, 234, 123);\"></td><td title=\"Index: [79, 49]&#10;Color: (123, 234, 123)\" style=\"width: 10px; height: 10px;background-color: rgb(123, 234, 123);\"></td></tr><tr><td title=\"Index: [80, 0]&#10;Color: (123, 234, 123)\" style=\"width: 10px; height: 10px;background-color: rgb(123, 234, 123);\"></td><td title=\"Index: [80, 1]&#10;Color: (0, 0, 0)\" style=\"width: 10px; height: 10px;background-color: rgb(0, 0, 0);\"></td><td title=\"Index: [80, 2]&#10;Color: (123, 234, 123)\" style=\"width: 10px; height: 10px;background-color: rgb(123, 234, 123);\"></td><td title=\"Index: [80, 3]&#10;Color: (0, 0, 0)\" style=\"width: 10px; height: 10px;background-color: rgb(0, 0, 0);\"></td><td title=\"Index: [80, 4]&#10;Color: (123, 234, 123)\" style=\"width: 10px; height: 10px;background-color: rgb(123, 234, 123);\"></td><td title=\"Index: [80, 5]&#10;Color: (123, 234, 123)\" style=\"width: 10px; height: 10px;background-color: rgb(123, 234, 123);\"></td><td title=\"Index: [80, 6]&#10;Color: (123, 234, 123)\" style=\"width: 10px; height: 10px;background-color: rgb(123, 234, 123);\"></td><td title=\"Index: [80, 7]&#10;Color: (0, 0, 0)\" style=\"width: 10px; height: 10px;background-color: rgb(0, 0, 0);\"></td><td title=\"Index: [80, 8]&#10;Color: (123, 234, 123)\" style=\"width: 10px; height: 10px;background-color: rgb(123, 234, 123);\"></td><td title=\"Index: [80, 9]&#10;Color: (123, 234, 123)\" style=\"width: 10px; height: 10px;background-color: rgb(123, 234, 123);\"></td><td title=\"Index: [80, 10]&#10;Color: (123, 234, 123)\" style=\"width: 10px; height: 10px;background-color: rgb(123, 234, 123);\"></td><td title=\"Index: [80, 11]&#10;Color: (123, 234, 123)\" style=\"width: 10px; height: 10px;background-color: rgb(123, 234, 123);\"></td><td title=\"Index: [80, 12]&#10;Color: (123, 234, 123)\" style=\"width: 10px; height: 10px;background-color: rgb(123, 234, 123);\"></td><td title=\"Index: [80, 13]&#10;Color: (0, 0, 0)\" style=\"width: 10px; height: 10px;background-color: rgb(0, 0, 0);\"></td><td title=\"Index: [80, 14]&#10;Color: (123, 234, 123)\" style=\"width: 10px; height: 10px;background-color: rgb(123, 234, 123);\"></td><td title=\"Index: [80, 15]&#10;Color: (123, 234, 123)\" style=\"width: 10px; height: 10px;background-color: rgb(123, 234, 123);\"></td><td title=\"Index: [80, 16]&#10;Color: (123, 234, 123)\" style=\"width: 10px; height: 10px;background-color: rgb(123, 234, 123);\"></td><td title=\"Index: [80, 17]&#10;Color: (123, 234, 123)\" style=\"width: 10px; height: 10px;background-color: rgb(123, 234, 123);\"></td><td title=\"Index: [80, 18]&#10;Color: (123, 234, 123)\" style=\"width: 10px; height: 10px;background-color: rgb(123, 234, 123);\"></td><td title=\"Index: [80, 19]&#10;Color: (0, 0, 0)\" style=\"width: 10px; height: 10px;background-color: rgb(0, 0, 0);\"></td><td title=\"Index: [80, 20]&#10;Color: (123, 234, 123)\" style=\"width: 10px; height: 10px;background-color: rgb(123, 234, 123);\"></td><td title=\"Index: [80, 21]&#10;Color: (0, 0, 0)\" style=\"width: 10px; height: 10px;background-color: rgb(0, 0, 0);\"></td><td title=\"Index: [80, 22]&#10;Color: (123, 234, 123)\" style=\"width: 10px; height: 10px;background-color: rgb(123, 234, 123);\"></td><td title=\"Index: [80, 23]&#10;Color: (123, 234, 123)\" style=\"width: 10px; height: 10px;background-color: rgb(123, 234, 123);\"></td><td title=\"Index: [80, 24]&#10;Color: (123, 234, 123)\" style=\"width: 10px; height: 10px;background-color: rgb(123, 234, 123);\"></td><td title=\"Index: [80, 25]&#10;Color: (123, 234, 123)\" style=\"width: 10px; height: 10px;background-color: rgb(123, 234, 123);\"></td><td title=\"Index: [80, 26]&#10;Color: (123, 234, 123)\" style=\"width: 10px; height: 10px;background-color: rgb(123, 234, 123);\"></td><td title=\"Index: [80, 27]&#10;Color: (0, 0, 0)\" style=\"width: 10px; height: 10px;background-color: rgb(0, 0, 0);\"></td><td title=\"Index: [80, 28]&#10;Color: (123, 234, 123)\" style=\"width: 10px; height: 10px;background-color: rgb(123, 234, 123);\"></td><td title=\"Index: [80, 29]&#10;Color: (123, 234, 123)\" style=\"width: 10px; height: 10px;background-color: rgb(123, 234, 123);\"></td><td title=\"Index: [80, 30]&#10;Color: (123, 234, 123)\" style=\"width: 10px; height: 10px;background-color: rgb(123, 234, 123);\"></td><td title=\"Index: [80, 31]&#10;Color: (123, 234, 123)\" style=\"width: 10px; height: 10px;background-color: rgb(123, 234, 123);\"></td><td title=\"Index: [80, 32]&#10;Color: (123, 234, 123)\" style=\"width: 10px; height: 10px;background-color: rgb(123, 234, 123);\"></td><td title=\"Index: [80, 33]&#10;Color: (123, 234, 123)\" style=\"width: 10px; height: 10px;background-color: rgb(123, 234, 123);\"></td><td title=\"Index: [80, 34]&#10;Color: (123, 234, 123)\" style=\"width: 10px; height: 10px;background-color: rgb(123, 234, 123);\"></td><td title=\"Index: [80, 35]&#10;Color: (123, 234, 123)\" style=\"width: 10px; height: 10px;background-color: rgb(123, 234, 123);\"></td><td title=\"Index: [80, 36]&#10;Color: (123, 234, 123)\" style=\"width: 10px; height: 10px;background-color: rgb(123, 234, 123);\"></td><td title=\"Index: [80, 37]&#10;Color: (123, 234, 123)\" style=\"width: 10px; height: 10px;background-color: rgb(123, 234, 123);\"></td><td title=\"Index: [80, 38]&#10;Color: (123, 234, 123)\" style=\"width: 10px; height: 10px;background-color: rgb(123, 234, 123);\"></td><td title=\"Index: [80, 39]&#10;Color: (123, 234, 123)\" style=\"width: 10px; height: 10px;background-color: rgb(123, 234, 123);\"></td><td title=\"Index: [80, 40]&#10;Color: (123, 234, 123)\" style=\"width: 10px; height: 10px;background-color: rgb(123, 234, 123);\"></td><td title=\"Index: [80, 41]&#10;Color: (123, 234, 123)\" style=\"width: 10px; height: 10px;background-color: rgb(123, 234, 123);\"></td><td title=\"Index: [80, 42]&#10;Color: (123, 234, 123)\" style=\"width: 10px; height: 10px;background-color: rgb(123, 234, 123);\"></td><td title=\"Index: [80, 43]&#10;Color: (123, 234, 123)\" style=\"width: 10px; height: 10px;background-color: rgb(123, 234, 123);\"></td><td title=\"Index: [80, 44]&#10;Color: (123, 234, 123)\" style=\"width: 10px; height: 10px;background-color: rgb(123, 234, 123);\"></td><td title=\"Index: [80, 45]&#10;Color: (123, 234, 123)\" style=\"width: 10px; height: 10px;background-color: rgb(123, 234, 123);\"></td><td title=\"Index: [80, 46]&#10;Color: (123, 234, 123)\" style=\"width: 10px; height: 10px;background-color: rgb(123, 234, 123);\"></td><td title=\"Index: [80, 47]&#10;Color: (123, 234, 123)\" style=\"width: 10px; height: 10px;background-color: rgb(123, 234, 123);\"></td><td title=\"Index: [80, 48]&#10;Color: (123, 234, 123)\" style=\"width: 10px; height: 10px;background-color: rgb(123, 234, 123);\"></td><td title=\"Index: [80, 49]&#10;Color: (0, 0, 0)\" style=\"width: 10px; height: 10px;background-color: rgb(0, 0, 0);\"></td></tr><tr><td title=\"Index: [81, 0]&#10;Color: (123, 234, 123)\" style=\"width: 10px; height: 10px;background-color: rgb(123, 234, 123);\"></td><td title=\"Index: [81, 1]&#10;Color: (0, 0, 0)\" style=\"width: 10px; height: 10px;background-color: rgb(0, 0, 0);\"></td><td title=\"Index: [81, 2]&#10;Color: (123, 234, 123)\" style=\"width: 10px; height: 10px;background-color: rgb(123, 234, 123);\"></td><td title=\"Index: [81, 3]&#10;Color: (123, 234, 123)\" style=\"width: 10px; height: 10px;background-color: rgb(123, 234, 123);\"></td><td title=\"Index: [81, 4]&#10;Color: (123, 234, 123)\" style=\"width: 10px; height: 10px;background-color: rgb(123, 234, 123);\"></td><td title=\"Index: [81, 5]&#10;Color: (123, 234, 123)\" style=\"width: 10px; height: 10px;background-color: rgb(123, 234, 123);\"></td><td title=\"Index: [81, 6]&#10;Color: (123, 234, 123)\" style=\"width: 10px; height: 10px;background-color: rgb(123, 234, 123);\"></td><td title=\"Index: [81, 7]&#10;Color: (0, 0, 0)\" style=\"width: 10px; height: 10px;background-color: rgb(0, 0, 0);\"></td><td title=\"Index: [81, 8]&#10;Color: (123, 234, 123)\" style=\"width: 10px; height: 10px;background-color: rgb(123, 234, 123);\"></td><td title=\"Index: [81, 9]&#10;Color: (123, 234, 123)\" style=\"width: 10px; height: 10px;background-color: rgb(123, 234, 123);\"></td><td title=\"Index: [81, 10]&#10;Color: (123, 234, 123)\" style=\"width: 10px; height: 10px;background-color: rgb(123, 234, 123);\"></td><td title=\"Index: [81, 11]&#10;Color: (123, 234, 123)\" style=\"width: 10px; height: 10px;background-color: rgb(123, 234, 123);\"></td><td title=\"Index: [81, 12]&#10;Color: (123, 234, 123)\" style=\"width: 10px; height: 10px;background-color: rgb(123, 234, 123);\"></td><td title=\"Index: [81, 13]&#10;Color: (123, 234, 123)\" style=\"width: 10px; height: 10px;background-color: rgb(123, 234, 123);\"></td><td title=\"Index: [81, 14]&#10;Color: (123, 234, 123)\" style=\"width: 10px; height: 10px;background-color: rgb(123, 234, 123);\"></td><td title=\"Index: [81, 15]&#10;Color: (123, 234, 123)\" style=\"width: 10px; height: 10px;background-color: rgb(123, 234, 123);\"></td><td title=\"Index: [81, 16]&#10;Color: (123, 234, 123)\" style=\"width: 10px; height: 10px;background-color: rgb(123, 234, 123);\"></td><td title=\"Index: [81, 17]&#10;Color: (123, 234, 123)\" style=\"width: 10px; height: 10px;background-color: rgb(123, 234, 123);\"></td><td title=\"Index: [81, 18]&#10;Color: (123, 234, 123)\" style=\"width: 10px; height: 10px;background-color: rgb(123, 234, 123);\"></td><td title=\"Index: [81, 19]&#10;Color: (123, 234, 123)\" style=\"width: 10px; height: 10px;background-color: rgb(123, 234, 123);\"></td><td title=\"Index: [81, 20]&#10;Color: (123, 234, 123)\" style=\"width: 10px; height: 10px;background-color: rgb(123, 234, 123);\"></td><td title=\"Index: [81, 21]&#10;Color: (123, 234, 123)\" style=\"width: 10px; height: 10px;background-color: rgb(123, 234, 123);\"></td><td title=\"Index: [81, 22]&#10;Color: (123, 234, 123)\" style=\"width: 10px; height: 10px;background-color: rgb(123, 234, 123);\"></td><td title=\"Index: [81, 23]&#10;Color: (0, 0, 0)\" style=\"width: 10px; height: 10px;background-color: rgb(0, 0, 0);\"></td><td title=\"Index: [81, 24]&#10;Color: (123, 234, 123)\" style=\"width: 10px; height: 10px;background-color: rgb(123, 234, 123);\"></td><td title=\"Index: [81, 25]&#10;Color: (123, 234, 123)\" style=\"width: 10px; height: 10px;background-color: rgb(123, 234, 123);\"></td><td title=\"Index: [81, 26]&#10;Color: (123, 234, 123)\" style=\"width: 10px; height: 10px;background-color: rgb(123, 234, 123);\"></td><td title=\"Index: [81, 27]&#10;Color: (123, 234, 123)\" style=\"width: 10px; height: 10px;background-color: rgb(123, 234, 123);\"></td><td title=\"Index: [81, 28]&#10;Color: (123, 234, 123)\" style=\"width: 10px; height: 10px;background-color: rgb(123, 234, 123);\"></td><td title=\"Index: [81, 29]&#10;Color: (0, 0, 0)\" style=\"width: 10px; height: 10px;background-color: rgb(0, 0, 0);\"></td><td title=\"Index: [81, 30]&#10;Color: (123, 234, 123)\" style=\"width: 10px; height: 10px;background-color: rgb(123, 234, 123);\"></td><td title=\"Index: [81, 31]&#10;Color: (123, 234, 123)\" style=\"width: 10px; height: 10px;background-color: rgb(123, 234, 123);\"></td><td title=\"Index: [81, 32]&#10;Color: (123, 234, 123)\" style=\"width: 10px; height: 10px;background-color: rgb(123, 234, 123);\"></td><td title=\"Index: [81, 33]&#10;Color: (123, 234, 123)\" style=\"width: 10px; height: 10px;background-color: rgb(123, 234, 123);\"></td><td title=\"Index: [81, 34]&#10;Color: (123, 234, 123)\" style=\"width: 10px; height: 10px;background-color: rgb(123, 234, 123);\"></td><td title=\"Index: [81, 35]&#10;Color: (123, 234, 123)\" style=\"width: 10px; height: 10px;background-color: rgb(123, 234, 123);\"></td><td title=\"Index: [81, 36]&#10;Color: (123, 234, 123)\" style=\"width: 10px; height: 10px;background-color: rgb(123, 234, 123);\"></td><td title=\"Index: [81, 37]&#10;Color: (123, 234, 123)\" style=\"width: 10px; height: 10px;background-color: rgb(123, 234, 123);\"></td><td title=\"Index: [81, 38]&#10;Color: (123, 234, 123)\" style=\"width: 10px; height: 10px;background-color: rgb(123, 234, 123);\"></td><td title=\"Index: [81, 39]&#10;Color: (123, 234, 123)\" style=\"width: 10px; height: 10px;background-color: rgb(123, 234, 123);\"></td><td title=\"Index: [81, 40]&#10;Color: (123, 234, 123)\" style=\"width: 10px; height: 10px;background-color: rgb(123, 234, 123);\"></td><td title=\"Index: [81, 41]&#10;Color: (0, 0, 0)\" style=\"width: 10px; height: 10px;background-color: rgb(0, 0, 0);\"></td><td title=\"Index: [81, 42]&#10;Color: (123, 234, 123)\" style=\"width: 10px; height: 10px;background-color: rgb(123, 234, 123);\"></td><td title=\"Index: [81, 43]&#10;Color: (0, 0, 0)\" style=\"width: 10px; height: 10px;background-color: rgb(0, 0, 0);\"></td><td title=\"Index: [81, 44]&#10;Color: (123, 234, 123)\" style=\"width: 10px; height: 10px;background-color: rgb(123, 234, 123);\"></td><td title=\"Index: [81, 45]&#10;Color: (123, 234, 123)\" style=\"width: 10px; height: 10px;background-color: rgb(123, 234, 123);\"></td><td title=\"Index: [81, 46]&#10;Color: (123, 234, 123)\" style=\"width: 10px; height: 10px;background-color: rgb(123, 234, 123);\"></td><td title=\"Index: [81, 47]&#10;Color: (123, 234, 123)\" style=\"width: 10px; height: 10px;background-color: rgb(123, 234, 123);\"></td><td title=\"Index: [81, 48]&#10;Color: (123, 234, 123)\" style=\"width: 10px; height: 10px;background-color: rgb(123, 234, 123);\"></td><td title=\"Index: [81, 49]&#10;Color: (0, 0, 0)\" style=\"width: 10px; height: 10px;background-color: rgb(0, 0, 0);\"></td></tr><tr><td title=\"Index: [82, 0]&#10;Color: (123, 234, 123)\" style=\"width: 10px; height: 10px;background-color: rgb(123, 234, 123);\"></td><td title=\"Index: [82, 1]&#10;Color: (123, 234, 123)\" style=\"width: 10px; height: 10px;background-color: rgb(123, 234, 123);\"></td><td title=\"Index: [82, 2]&#10;Color: (123, 234, 123)\" style=\"width: 10px; height: 10px;background-color: rgb(123, 234, 123);\"></td><td title=\"Index: [82, 3]&#10;Color: (123, 234, 123)\" style=\"width: 10px; height: 10px;background-color: rgb(123, 234, 123);\"></td><td title=\"Index: [82, 4]&#10;Color: (123, 234, 123)\" style=\"width: 10px; height: 10px;background-color: rgb(123, 234, 123);\"></td><td title=\"Index: [82, 5]&#10;Color: (123, 234, 123)\" style=\"width: 10px; height: 10px;background-color: rgb(123, 234, 123);\"></td><td title=\"Index: [82, 6]&#10;Color: (123, 234, 123)\" style=\"width: 10px; height: 10px;background-color: rgb(123, 234, 123);\"></td><td title=\"Index: [82, 7]&#10;Color: (123, 234, 123)\" style=\"width: 10px; height: 10px;background-color: rgb(123, 234, 123);\"></td><td title=\"Index: [82, 8]&#10;Color: (123, 234, 123)\" style=\"width: 10px; height: 10px;background-color: rgb(123, 234, 123);\"></td><td title=\"Index: [82, 9]&#10;Color: (123, 234, 123)\" style=\"width: 10px; height: 10px;background-color: rgb(123, 234, 123);\"></td><td title=\"Index: [82, 10]&#10;Color: (123, 234, 123)\" style=\"width: 10px; height: 10px;background-color: rgb(123, 234, 123);\"></td><td title=\"Index: [82, 11]&#10;Color: (0, 0, 0)\" style=\"width: 10px; height: 10px;background-color: rgb(0, 0, 0);\"></td><td title=\"Index: [82, 12]&#10;Color: (123, 234, 123)\" style=\"width: 10px; height: 10px;background-color: rgb(123, 234, 123);\"></td><td title=\"Index: [82, 13]&#10;Color: (123, 234, 123)\" style=\"width: 10px; height: 10px;background-color: rgb(123, 234, 123);\"></td><td title=\"Index: [82, 14]&#10;Color: (123, 234, 123)\" style=\"width: 10px; height: 10px;background-color: rgb(123, 234, 123);\"></td><td title=\"Index: [82, 15]&#10;Color: (123, 234, 123)\" style=\"width: 10px; height: 10px;background-color: rgb(123, 234, 123);\"></td><td title=\"Index: [82, 16]&#10;Color: (123, 234, 123)\" style=\"width: 10px; height: 10px;background-color: rgb(123, 234, 123);\"></td><td title=\"Index: [82, 17]&#10;Color: (123, 234, 123)\" style=\"width: 10px; height: 10px;background-color: rgb(123, 234, 123);\"></td><td title=\"Index: [82, 18]&#10;Color: (123, 234, 123)\" style=\"width: 10px; height: 10px;background-color: rgb(123, 234, 123);\"></td><td title=\"Index: [82, 19]&#10;Color: (123, 234, 123)\" style=\"width: 10px; height: 10px;background-color: rgb(123, 234, 123);\"></td><td title=\"Index: [82, 20]&#10;Color: (123, 234, 123)\" style=\"width: 10px; height: 10px;background-color: rgb(123, 234, 123);\"></td><td title=\"Index: [82, 21]&#10;Color: (123, 234, 123)\" style=\"width: 10px; height: 10px;background-color: rgb(123, 234, 123);\"></td><td title=\"Index: [82, 22]&#10;Color: (123, 234, 123)\" style=\"width: 10px; height: 10px;background-color: rgb(123, 234, 123);\"></td><td title=\"Index: [82, 23]&#10;Color: (123, 234, 123)\" style=\"width: 10px; height: 10px;background-color: rgb(123, 234, 123);\"></td><td title=\"Index: [82, 24]&#10;Color: (123, 234, 123)\" style=\"width: 10px; height: 10px;background-color: rgb(123, 234, 123);\"></td><td title=\"Index: [82, 25]&#10;Color: (123, 234, 123)\" style=\"width: 10px; height: 10px;background-color: rgb(123, 234, 123);\"></td><td title=\"Index: [82, 26]&#10;Color: (123, 234, 123)\" style=\"width: 10px; height: 10px;background-color: rgb(123, 234, 123);\"></td><td title=\"Index: [82, 27]&#10;Color: (0, 0, 0)\" style=\"width: 10px; height: 10px;background-color: rgb(0, 0, 0);\"></td><td title=\"Index: [82, 28]&#10;Color: (123, 234, 123)\" style=\"width: 10px; height: 10px;background-color: rgb(123, 234, 123);\"></td><td title=\"Index: [82, 29]&#10;Color: (0, 0, 0)\" style=\"width: 10px; height: 10px;background-color: rgb(0, 0, 0);\"></td><td title=\"Index: [82, 30]&#10;Color: (123, 234, 123)\" style=\"width: 10px; height: 10px;background-color: rgb(123, 234, 123);\"></td><td title=\"Index: [82, 31]&#10;Color: (123, 234, 123)\" style=\"width: 10px; height: 10px;background-color: rgb(123, 234, 123);\"></td><td title=\"Index: [82, 32]&#10;Color: (123, 234, 123)\" style=\"width: 10px; height: 10px;background-color: rgb(123, 234, 123);\"></td><td title=\"Index: [82, 33]&#10;Color: (0, 0, 0)\" style=\"width: 10px; height: 10px;background-color: rgb(0, 0, 0);\"></td><td title=\"Index: [82, 34]&#10;Color: (123, 234, 123)\" style=\"width: 10px; height: 10px;background-color: rgb(123, 234, 123);\"></td><td title=\"Index: [82, 35]&#10;Color: (123, 234, 123)\" style=\"width: 10px; height: 10px;background-color: rgb(123, 234, 123);\"></td><td title=\"Index: [82, 36]&#10;Color: (123, 234, 123)\" style=\"width: 10px; height: 10px;background-color: rgb(123, 234, 123);\"></td><td title=\"Index: [82, 37]&#10;Color: (123, 234, 123)\" style=\"width: 10px; height: 10px;background-color: rgb(123, 234, 123);\"></td><td title=\"Index: [82, 38]&#10;Color: (123, 234, 123)\" style=\"width: 10px; height: 10px;background-color: rgb(123, 234, 123);\"></td><td title=\"Index: [82, 39]&#10;Color: (0, 0, 0)\" style=\"width: 10px; height: 10px;background-color: rgb(0, 0, 0);\"></td><td title=\"Index: [82, 40]&#10;Color: (123, 234, 123)\" style=\"width: 10px; height: 10px;background-color: rgb(123, 234, 123);\"></td><td title=\"Index: [82, 41]&#10;Color: (123, 234, 123)\" style=\"width: 10px; height: 10px;background-color: rgb(123, 234, 123);\"></td><td title=\"Index: [82, 42]&#10;Color: (123, 234, 123)\" style=\"width: 10px; height: 10px;background-color: rgb(123, 234, 123);\"></td><td title=\"Index: [82, 43]&#10;Color: (123, 234, 123)\" style=\"width: 10px; height: 10px;background-color: rgb(123, 234, 123);\"></td><td title=\"Index: [82, 44]&#10;Color: (123, 234, 123)\" style=\"width: 10px; height: 10px;background-color: rgb(123, 234, 123);\"></td><td title=\"Index: [82, 45]&#10;Color: (123, 234, 123)\" style=\"width: 10px; height: 10px;background-color: rgb(123, 234, 123);\"></td><td title=\"Index: [82, 46]&#10;Color: (123, 234, 123)\" style=\"width: 10px; height: 10px;background-color: rgb(123, 234, 123);\"></td><td title=\"Index: [82, 47]&#10;Color: (123, 234, 123)\" style=\"width: 10px; height: 10px;background-color: rgb(123, 234, 123);\"></td><td title=\"Index: [82, 48]&#10;Color: (123, 234, 123)\" style=\"width: 10px; height: 10px;background-color: rgb(123, 234, 123);\"></td><td title=\"Index: [82, 49]&#10;Color: (123, 234, 123)\" style=\"width: 10px; height: 10px;background-color: rgb(123, 234, 123);\"></td></tr><tr><td title=\"Index: [83, 0]&#10;Color: (123, 234, 123)\" style=\"width: 10px; height: 10px;background-color: rgb(123, 234, 123);\"></td><td title=\"Index: [83, 1]&#10;Color: (123, 234, 123)\" style=\"width: 10px; height: 10px;background-color: rgb(123, 234, 123);\"></td><td title=\"Index: [83, 2]&#10;Color: (123, 234, 123)\" style=\"width: 10px; height: 10px;background-color: rgb(123, 234, 123);\"></td><td title=\"Index: [83, 3]&#10;Color: (0, 0, 0)\" style=\"width: 10px; height: 10px;background-color: rgb(0, 0, 0);\"></td><td title=\"Index: [83, 4]&#10;Color: (123, 234, 123)\" style=\"width: 10px; height: 10px;background-color: rgb(123, 234, 123);\"></td><td title=\"Index: [83, 5]&#10;Color: (123, 234, 123)\" style=\"width: 10px; height: 10px;background-color: rgb(123, 234, 123);\"></td><td title=\"Index: [83, 6]&#10;Color: (123, 234, 123)\" style=\"width: 10px; height: 10px;background-color: rgb(123, 234, 123);\"></td><td title=\"Index: [83, 7]&#10;Color: (0, 0, 0)\" style=\"width: 10px; height: 10px;background-color: rgb(0, 0, 0);\"></td><td title=\"Index: [83, 8]&#10;Color: (123, 234, 123)\" style=\"width: 10px; height: 10px;background-color: rgb(123, 234, 123);\"></td><td title=\"Index: [83, 9]&#10;Color: (0, 0, 0)\" style=\"width: 10px; height: 10px;background-color: rgb(0, 0, 0);\"></td><td title=\"Index: [83, 10]&#10;Color: (123, 234, 123)\" style=\"width: 10px; height: 10px;background-color: rgb(123, 234, 123);\"></td><td title=\"Index: [83, 11]&#10;Color: (123, 234, 123)\" style=\"width: 10px; height: 10px;background-color: rgb(123, 234, 123);\"></td><td title=\"Index: [83, 12]&#10;Color: (123, 234, 123)\" style=\"width: 10px; height: 10px;background-color: rgb(123, 234, 123);\"></td><td title=\"Index: [83, 13]&#10;Color: (123, 234, 123)\" style=\"width: 10px; height: 10px;background-color: rgb(123, 234, 123);\"></td><td title=\"Index: [83, 14]&#10;Color: (123, 234, 123)\" style=\"width: 10px; height: 10px;background-color: rgb(123, 234, 123);\"></td><td title=\"Index: [83, 15]&#10;Color: (123, 234, 123)\" style=\"width: 10px; height: 10px;background-color: rgb(123, 234, 123);\"></td><td title=\"Index: [83, 16]&#10;Color: (123, 234, 123)\" style=\"width: 10px; height: 10px;background-color: rgb(123, 234, 123);\"></td><td title=\"Index: [83, 17]&#10;Color: (123, 234, 123)\" style=\"width: 10px; height: 10px;background-color: rgb(123, 234, 123);\"></td><td title=\"Index: [83, 18]&#10;Color: (123, 234, 123)\" style=\"width: 10px; height: 10px;background-color: rgb(123, 234, 123);\"></td><td title=\"Index: [83, 19]&#10;Color: (123, 234, 123)\" style=\"width: 10px; height: 10px;background-color: rgb(123, 234, 123);\"></td><td title=\"Index: [83, 20]&#10;Color: (123, 234, 123)\" style=\"width: 10px; height: 10px;background-color: rgb(123, 234, 123);\"></td><td title=\"Index: [83, 21]&#10;Color: (123, 234, 123)\" style=\"width: 10px; height: 10px;background-color: rgb(123, 234, 123);\"></td><td title=\"Index: [83, 22]&#10;Color: (123, 234, 123)\" style=\"width: 10px; height: 10px;background-color: rgb(123, 234, 123);\"></td><td title=\"Index: [83, 23]&#10;Color: (123, 234, 123)\" style=\"width: 10px; height: 10px;background-color: rgb(123, 234, 123);\"></td><td title=\"Index: [83, 24]&#10;Color: (123, 234, 123)\" style=\"width: 10px; height: 10px;background-color: rgb(123, 234, 123);\"></td><td title=\"Index: [83, 25]&#10;Color: (123, 234, 123)\" style=\"width: 10px; height: 10px;background-color: rgb(123, 234, 123);\"></td><td title=\"Index: [83, 26]&#10;Color: (123, 234, 123)\" style=\"width: 10px; height: 10px;background-color: rgb(123, 234, 123);\"></td><td title=\"Index: [83, 27]&#10;Color: (0, 0, 0)\" style=\"width: 10px; height: 10px;background-color: rgb(0, 0, 0);\"></td><td title=\"Index: [83, 28]&#10;Color: (123, 234, 123)\" style=\"width: 10px; height: 10px;background-color: rgb(123, 234, 123);\"></td><td title=\"Index: [83, 29]&#10;Color: (123, 234, 123)\" style=\"width: 10px; height: 10px;background-color: rgb(123, 234, 123);\"></td><td title=\"Index: [83, 30]&#10;Color: (123, 234, 123)\" style=\"width: 10px; height: 10px;background-color: rgb(123, 234, 123);\"></td><td title=\"Index: [83, 31]&#10;Color: (123, 234, 123)\" style=\"width: 10px; height: 10px;background-color: rgb(123, 234, 123);\"></td><td title=\"Index: [83, 32]&#10;Color: (123, 234, 123)\" style=\"width: 10px; height: 10px;background-color: rgb(123, 234, 123);\"></td><td title=\"Index: [83, 33]&#10;Color: (123, 234, 123)\" style=\"width: 10px; height: 10px;background-color: rgb(123, 234, 123);\"></td><td title=\"Index: [83, 34]&#10;Color: (123, 234, 123)\" style=\"width: 10px; height: 10px;background-color: rgb(123, 234, 123);\"></td><td title=\"Index: [83, 35]&#10;Color: (123, 234, 123)\" style=\"width: 10px; height: 10px;background-color: rgb(123, 234, 123);\"></td><td title=\"Index: [83, 36]&#10;Color: (123, 234, 123)\" style=\"width: 10px; height: 10px;background-color: rgb(123, 234, 123);\"></td><td title=\"Index: [83, 37]&#10;Color: (123, 234, 123)\" style=\"width: 10px; height: 10px;background-color: rgb(123, 234, 123);\"></td><td title=\"Index: [83, 38]&#10;Color: (123, 234, 123)\" style=\"width: 10px; height: 10px;background-color: rgb(123, 234, 123);\"></td><td title=\"Index: [83, 39]&#10;Color: (123, 234, 123)\" style=\"width: 10px; height: 10px;background-color: rgb(123, 234, 123);\"></td><td title=\"Index: [83, 40]&#10;Color: (123, 234, 123)\" style=\"width: 10px; height: 10px;background-color: rgb(123, 234, 123);\"></td><td title=\"Index: [83, 41]&#10;Color: (123, 234, 123)\" style=\"width: 10px; height: 10px;background-color: rgb(123, 234, 123);\"></td><td title=\"Index: [83, 42]&#10;Color: (123, 234, 123)\" style=\"width: 10px; height: 10px;background-color: rgb(123, 234, 123);\"></td><td title=\"Index: [83, 43]&#10;Color: (123, 234, 123)\" style=\"width: 10px; height: 10px;background-color: rgb(123, 234, 123);\"></td><td title=\"Index: [83, 44]&#10;Color: (123, 234, 123)\" style=\"width: 10px; height: 10px;background-color: rgb(123, 234, 123);\"></td><td title=\"Index: [83, 45]&#10;Color: (123, 234, 123)\" style=\"width: 10px; height: 10px;background-color: rgb(123, 234, 123);\"></td><td title=\"Index: [83, 46]&#10;Color: (123, 234, 123)\" style=\"width: 10px; height: 10px;background-color: rgb(123, 234, 123);\"></td><td title=\"Index: [83, 47]&#10;Color: (123, 234, 123)\" style=\"width: 10px; height: 10px;background-color: rgb(123, 234, 123);\"></td><td title=\"Index: [83, 48]&#10;Color: (123, 234, 123)\" style=\"width: 10px; height: 10px;background-color: rgb(123, 234, 123);\"></td><td title=\"Index: [83, 49]&#10;Color: (123, 234, 123)\" style=\"width: 10px; height: 10px;background-color: rgb(123, 234, 123);\"></td></tr><tr><td title=\"Index: [84, 0]&#10;Color: (123, 234, 123)\" style=\"width: 10px; height: 10px;background-color: rgb(123, 234, 123);\"></td><td title=\"Index: [84, 1]&#10;Color: (0, 0, 0)\" style=\"width: 10px; height: 10px;background-color: rgb(0, 0, 0);\"></td><td title=\"Index: [84, 2]&#10;Color: (123, 234, 123)\" style=\"width: 10px; height: 10px;background-color: rgb(123, 234, 123);\"></td><td title=\"Index: [84, 3]&#10;Color: (123, 234, 123)\" style=\"width: 10px; height: 10px;background-color: rgb(123, 234, 123);\"></td><td title=\"Index: [84, 4]&#10;Color: (123, 234, 123)\" style=\"width: 10px; height: 10px;background-color: rgb(123, 234, 123);\"></td><td title=\"Index: [84, 5]&#10;Color: (123, 234, 123)\" style=\"width: 10px; height: 10px;background-color: rgb(123, 234, 123);\"></td><td title=\"Index: [84, 6]&#10;Color: (123, 234, 123)\" style=\"width: 10px; height: 10px;background-color: rgb(123, 234, 123);\"></td><td title=\"Index: [84, 7]&#10;Color: (123, 234, 123)\" style=\"width: 10px; height: 10px;background-color: rgb(123, 234, 123);\"></td><td title=\"Index: [84, 8]&#10;Color: (123, 234, 123)\" style=\"width: 10px; height: 10px;background-color: rgb(123, 234, 123);\"></td><td title=\"Index: [84, 9]&#10;Color: (123, 234, 123)\" style=\"width: 10px; height: 10px;background-color: rgb(123, 234, 123);\"></td><td title=\"Index: [84, 10]&#10;Color: (123, 234, 123)\" style=\"width: 10px; height: 10px;background-color: rgb(123, 234, 123);\"></td><td title=\"Index: [84, 11]&#10;Color: (0, 0, 0)\" style=\"width: 10px; height: 10px;background-color: rgb(0, 0, 0);\"></td><td title=\"Index: [84, 12]&#10;Color: (123, 234, 123)\" style=\"width: 10px; height: 10px;background-color: rgb(123, 234, 123);\"></td><td title=\"Index: [84, 13]&#10;Color: (123, 234, 123)\" style=\"width: 10px; height: 10px;background-color: rgb(123, 234, 123);\"></td><td title=\"Index: [84, 14]&#10;Color: (123, 234, 123)\" style=\"width: 10px; height: 10px;background-color: rgb(123, 234, 123);\"></td><td title=\"Index: [84, 15]&#10;Color: (123, 234, 123)\" style=\"width: 10px; height: 10px;background-color: rgb(123, 234, 123);\"></td><td title=\"Index: [84, 16]&#10;Color: (123, 234, 123)\" style=\"width: 10px; height: 10px;background-color: rgb(123, 234, 123);\"></td><td title=\"Index: [84, 17]&#10;Color: (0, 0, 0)\" style=\"width: 10px; height: 10px;background-color: rgb(0, 0, 0);\"></td><td title=\"Index: [84, 18]&#10;Color: (123, 234, 123)\" style=\"width: 10px; height: 10px;background-color: rgb(123, 234, 123);\"></td><td title=\"Index: [84, 19]&#10;Color: (0, 0, 0)\" style=\"width: 10px; height: 10px;background-color: rgb(0, 0, 0);\"></td><td title=\"Index: [84, 20]&#10;Color: (123, 234, 123)\" style=\"width: 10px; height: 10px;background-color: rgb(123, 234, 123);\"></td><td title=\"Index: [84, 21]&#10;Color: (123, 234, 123)\" style=\"width: 10px; height: 10px;background-color: rgb(123, 234, 123);\"></td><td title=\"Index: [84, 22]&#10;Color: (123, 234, 123)\" style=\"width: 10px; height: 10px;background-color: rgb(123, 234, 123);\"></td><td title=\"Index: [84, 23]&#10;Color: (123, 234, 123)\" style=\"width: 10px; height: 10px;background-color: rgb(123, 234, 123);\"></td><td title=\"Index: [84, 24]&#10;Color: (123, 234, 123)\" style=\"width: 10px; height: 10px;background-color: rgb(123, 234, 123);\"></td><td title=\"Index: [84, 25]&#10;Color: (123, 234, 123)\" style=\"width: 10px; height: 10px;background-color: rgb(123, 234, 123);\"></td><td title=\"Index: [84, 26]&#10;Color: (123, 234, 123)\" style=\"width: 10px; height: 10px;background-color: rgb(123, 234, 123);\"></td><td title=\"Index: [84, 27]&#10;Color: (123, 234, 123)\" style=\"width: 10px; height: 10px;background-color: rgb(123, 234, 123);\"></td><td title=\"Index: [84, 28]&#10;Color: (123, 234, 123)\" style=\"width: 10px; height: 10px;background-color: rgb(123, 234, 123);\"></td><td title=\"Index: [84, 29]&#10;Color: (0, 0, 0)\" style=\"width: 10px; height: 10px;background-color: rgb(0, 0, 0);\"></td><td title=\"Index: [84, 30]&#10;Color: (123, 234, 123)\" style=\"width: 10px; height: 10px;background-color: rgb(123, 234, 123);\"></td><td title=\"Index: [84, 31]&#10;Color: (0, 0, 0)\" style=\"width: 10px; height: 10px;background-color: rgb(0, 0, 0);\"></td><td title=\"Index: [84, 32]&#10;Color: (123, 234, 123)\" style=\"width: 10px; height: 10px;background-color: rgb(123, 234, 123);\"></td><td title=\"Index: [84, 33]&#10;Color: (123, 234, 123)\" style=\"width: 10px; height: 10px;background-color: rgb(123, 234, 123);\"></td><td title=\"Index: [84, 34]&#10;Color: (123, 234, 123)\" style=\"width: 10px; height: 10px;background-color: rgb(123, 234, 123);\"></td><td title=\"Index: [84, 35]&#10;Color: (123, 234, 123)\" style=\"width: 10px; height: 10px;background-color: rgb(123, 234, 123);\"></td><td title=\"Index: [84, 36]&#10;Color: (123, 234, 123)\" style=\"width: 10px; height: 10px;background-color: rgb(123, 234, 123);\"></td><td title=\"Index: [84, 37]&#10;Color: (123, 234, 123)\" style=\"width: 10px; height: 10px;background-color: rgb(123, 234, 123);\"></td><td title=\"Index: [84, 38]&#10;Color: (123, 234, 123)\" style=\"width: 10px; height: 10px;background-color: rgb(123, 234, 123);\"></td><td title=\"Index: [84, 39]&#10;Color: (123, 234, 123)\" style=\"width: 10px; height: 10px;background-color: rgb(123, 234, 123);\"></td><td title=\"Index: [84, 40]&#10;Color: (123, 234, 123)\" style=\"width: 10px; height: 10px;background-color: rgb(123, 234, 123);\"></td><td title=\"Index: [84, 41]&#10;Color: (0, 0, 0)\" style=\"width: 10px; height: 10px;background-color: rgb(0, 0, 0);\"></td><td title=\"Index: [84, 42]&#10;Color: (123, 234, 123)\" style=\"width: 10px; height: 10px;background-color: rgb(123, 234, 123);\"></td><td title=\"Index: [84, 43]&#10;Color: (0, 0, 0)\" style=\"width: 10px; height: 10px;background-color: rgb(0, 0, 0);\"></td><td title=\"Index: [84, 44]&#10;Color: (123, 234, 123)\" style=\"width: 10px; height: 10px;background-color: rgb(123, 234, 123);\"></td><td title=\"Index: [84, 45]&#10;Color: (123, 234, 123)\" style=\"width: 10px; height: 10px;background-color: rgb(123, 234, 123);\"></td><td title=\"Index: [84, 46]&#10;Color: (123, 234, 123)\" style=\"width: 10px; height: 10px;background-color: rgb(123, 234, 123);\"></td><td title=\"Index: [84, 47]&#10;Color: (123, 234, 123)\" style=\"width: 10px; height: 10px;background-color: rgb(123, 234, 123);\"></td><td title=\"Index: [84, 48]&#10;Color: (123, 234, 123)\" style=\"width: 10px; height: 10px;background-color: rgb(123, 234, 123);\"></td><td title=\"Index: [84, 49]&#10;Color: (123, 234, 123)\" style=\"width: 10px; height: 10px;background-color: rgb(123, 234, 123);\"></td></tr><tr><td title=\"Index: [85, 0]&#10;Color: (123, 234, 123)\" style=\"width: 10px; height: 10px;background-color: rgb(123, 234, 123);\"></td><td title=\"Index: [85, 1]&#10;Color: (123, 234, 123)\" style=\"width: 10px; height: 10px;background-color: rgb(123, 234, 123);\"></td><td title=\"Index: [85, 2]&#10;Color: (123, 234, 123)\" style=\"width: 10px; height: 10px;background-color: rgb(123, 234, 123);\"></td><td title=\"Index: [85, 3]&#10;Color: (0, 0, 0)\" style=\"width: 10px; height: 10px;background-color: rgb(0, 0, 0);\"></td><td title=\"Index: [85, 4]&#10;Color: (123, 234, 123)\" style=\"width: 10px; height: 10px;background-color: rgb(123, 234, 123);\"></td><td title=\"Index: [85, 5]&#10;Color: (123, 234, 123)\" style=\"width: 10px; height: 10px;background-color: rgb(123, 234, 123);\"></td><td title=\"Index: [85, 6]&#10;Color: (123, 234, 123)\" style=\"width: 10px; height: 10px;background-color: rgb(123, 234, 123);\"></td><td title=\"Index: [85, 7]&#10;Color: (123, 234, 123)\" style=\"width: 10px; height: 10px;background-color: rgb(123, 234, 123);\"></td><td title=\"Index: [85, 8]&#10;Color: (123, 234, 123)\" style=\"width: 10px; height: 10px;background-color: rgb(123, 234, 123);\"></td><td title=\"Index: [85, 9]&#10;Color: (0, 0, 0)\" style=\"width: 10px; height: 10px;background-color: rgb(0, 0, 0);\"></td><td title=\"Index: [85, 10]&#10;Color: (123, 234, 123)\" style=\"width: 10px; height: 10px;background-color: rgb(123, 234, 123);\"></td><td title=\"Index: [85, 11]&#10;Color: (0, 0, 0)\" style=\"width: 10px; height: 10px;background-color: rgb(0, 0, 0);\"></td><td title=\"Index: [85, 12]&#10;Color: (123, 234, 123)\" style=\"width: 10px; height: 10px;background-color: rgb(123, 234, 123);\"></td><td title=\"Index: [85, 13]&#10;Color: (123, 234, 123)\" style=\"width: 10px; height: 10px;background-color: rgb(123, 234, 123);\"></td><td title=\"Index: [85, 14]&#10;Color: (123, 234, 123)\" style=\"width: 10px; height: 10px;background-color: rgb(123, 234, 123);\"></td><td title=\"Index: [85, 15]&#10;Color: (123, 234, 123)\" style=\"width: 10px; height: 10px;background-color: rgb(123, 234, 123);\"></td><td title=\"Index: [85, 16]&#10;Color: (123, 234, 123)\" style=\"width: 10px; height: 10px;background-color: rgb(123, 234, 123);\"></td><td title=\"Index: [85, 17]&#10;Color: (123, 234, 123)\" style=\"width: 10px; height: 10px;background-color: rgb(123, 234, 123);\"></td><td title=\"Index: [85, 18]&#10;Color: (123, 234, 123)\" style=\"width: 10px; height: 10px;background-color: rgb(123, 234, 123);\"></td><td title=\"Index: [85, 19]&#10;Color: (123, 234, 123)\" style=\"width: 10px; height: 10px;background-color: rgb(123, 234, 123);\"></td><td title=\"Index: [85, 20]&#10;Color: (123, 234, 123)\" style=\"width: 10px; height: 10px;background-color: rgb(123, 234, 123);\"></td><td title=\"Index: [85, 21]&#10;Color: (0, 0, 0)\" style=\"width: 10px; height: 10px;background-color: rgb(0, 0, 0);\"></td><td title=\"Index: [85, 22]&#10;Color: (123, 234, 123)\" style=\"width: 10px; height: 10px;background-color: rgb(123, 234, 123);\"></td><td title=\"Index: [85, 23]&#10;Color: (0, 0, 0)\" style=\"width: 10px; height: 10px;background-color: rgb(0, 0, 0);\"></td><td title=\"Index: [85, 24]&#10;Color: (123, 234, 123)\" style=\"width: 10px; height: 10px;background-color: rgb(123, 234, 123);\"></td><td title=\"Index: [85, 25]&#10;Color: (123, 234, 123)\" style=\"width: 10px; height: 10px;background-color: rgb(123, 234, 123);\"></td><td title=\"Index: [85, 26]&#10;Color: (123, 234, 123)\" style=\"width: 10px; height: 10px;background-color: rgb(123, 234, 123);\"></td><td title=\"Index: [85, 27]&#10;Color: (123, 234, 123)\" style=\"width: 10px; height: 10px;background-color: rgb(123, 234, 123);\"></td><td title=\"Index: [85, 28]&#10;Color: (123, 234, 123)\" style=\"width: 10px; height: 10px;background-color: rgb(123, 234, 123);\"></td><td title=\"Index: [85, 29]&#10;Color: (123, 234, 123)\" style=\"width: 10px; height: 10px;background-color: rgb(123, 234, 123);\"></td><td title=\"Index: [85, 30]&#10;Color: (123, 234, 123)\" style=\"width: 10px; height: 10px;background-color: rgb(123, 234, 123);\"></td><td title=\"Index: [85, 31]&#10;Color: (123, 234, 123)\" style=\"width: 10px; height: 10px;background-color: rgb(123, 234, 123);\"></td><td title=\"Index: [85, 32]&#10;Color: (123, 234, 123)\" style=\"width: 10px; height: 10px;background-color: rgb(123, 234, 123);\"></td><td title=\"Index: [85, 33]&#10;Color: (0, 0, 0)\" style=\"width: 10px; height: 10px;background-color: rgb(0, 0, 0);\"></td><td title=\"Index: [85, 34]&#10;Color: (123, 234, 123)\" style=\"width: 10px; height: 10px;background-color: rgb(123, 234, 123);\"></td><td title=\"Index: [85, 35]&#10;Color: (123, 234, 123)\" style=\"width: 10px; height: 10px;background-color: rgb(123, 234, 123);\"></td><td title=\"Index: [85, 36]&#10;Color: (123, 234, 123)\" style=\"width: 10px; height: 10px;background-color: rgb(123, 234, 123);\"></td><td title=\"Index: [85, 37]&#10;Color: (123, 234, 123)\" style=\"width: 10px; height: 10px;background-color: rgb(123, 234, 123);\"></td><td title=\"Index: [85, 38]&#10;Color: (123, 234, 123)\" style=\"width: 10px; height: 10px;background-color: rgb(123, 234, 123);\"></td><td title=\"Index: [85, 39]&#10;Color: (0, 0, 0)\" style=\"width: 10px; height: 10px;background-color: rgb(0, 0, 0);\"></td><td title=\"Index: [85, 40]&#10;Color: (123, 234, 123)\" style=\"width: 10px; height: 10px;background-color: rgb(123, 234, 123);\"></td><td title=\"Index: [85, 41]&#10;Color: (123, 234, 123)\" style=\"width: 10px; height: 10px;background-color: rgb(123, 234, 123);\"></td><td title=\"Index: [85, 42]&#10;Color: (123, 234, 123)\" style=\"width: 10px; height: 10px;background-color: rgb(123, 234, 123);\"></td><td title=\"Index: [85, 43]&#10;Color: (123, 234, 123)\" style=\"width: 10px; height: 10px;background-color: rgb(123, 234, 123);\"></td><td title=\"Index: [85, 44]&#10;Color: (123, 234, 123)\" style=\"width: 10px; height: 10px;background-color: rgb(123, 234, 123);\"></td><td title=\"Index: [85, 45]&#10;Color: (123, 234, 123)\" style=\"width: 10px; height: 10px;background-color: rgb(123, 234, 123);\"></td><td title=\"Index: [85, 46]&#10;Color: (123, 234, 123)\" style=\"width: 10px; height: 10px;background-color: rgb(123, 234, 123);\"></td><td title=\"Index: [85, 47]&#10;Color: (0, 0, 0)\" style=\"width: 10px; height: 10px;background-color: rgb(0, 0, 0);\"></td><td title=\"Index: [85, 48]&#10;Color: (123, 234, 123)\" style=\"width: 10px; height: 10px;background-color: rgb(123, 234, 123);\"></td><td title=\"Index: [85, 49]&#10;Color: (123, 234, 123)\" style=\"width: 10px; height: 10px;background-color: rgb(123, 234, 123);\"></td></tr><tr><td title=\"Index: [86, 0]&#10;Color: (123, 234, 123)\" style=\"width: 10px; height: 10px;background-color: rgb(123, 234, 123);\"></td><td title=\"Index: [86, 1]&#10;Color: (123, 234, 123)\" style=\"width: 10px; height: 10px;background-color: rgb(123, 234, 123);\"></td><td title=\"Index: [86, 2]&#10;Color: (123, 234, 123)\" style=\"width: 10px; height: 10px;background-color: rgb(123, 234, 123);\"></td><td title=\"Index: [86, 3]&#10;Color: (123, 234, 123)\" style=\"width: 10px; height: 10px;background-color: rgb(123, 234, 123);\"></td><td title=\"Index: [86, 4]&#10;Color: (123, 234, 123)\" style=\"width: 10px; height: 10px;background-color: rgb(123, 234, 123);\"></td><td title=\"Index: [86, 5]&#10;Color: (123, 234, 123)\" style=\"width: 10px; height: 10px;background-color: rgb(123, 234, 123);\"></td><td title=\"Index: [86, 6]&#10;Color: (123, 234, 123)\" style=\"width: 10px; height: 10px;background-color: rgb(123, 234, 123);\"></td><td title=\"Index: [86, 7]&#10;Color: (123, 234, 123)\" style=\"width: 10px; height: 10px;background-color: rgb(123, 234, 123);\"></td><td title=\"Index: [86, 8]&#10;Color: (123, 234, 123)\" style=\"width: 10px; height: 10px;background-color: rgb(123, 234, 123);\"></td><td title=\"Index: [86, 9]&#10;Color: (123, 234, 123)\" style=\"width: 10px; height: 10px;background-color: rgb(123, 234, 123);\"></td><td title=\"Index: [86, 10]&#10;Color: (123, 234, 123)\" style=\"width: 10px; height: 10px;background-color: rgb(123, 234, 123);\"></td><td title=\"Index: [86, 11]&#10;Color: (123, 234, 123)\" style=\"width: 10px; height: 10px;background-color: rgb(123, 234, 123);\"></td><td title=\"Index: [86, 12]&#10;Color: (123, 234, 123)\" style=\"width: 10px; height: 10px;background-color: rgb(123, 234, 123);\"></td><td title=\"Index: [86, 13]&#10;Color: (123, 234, 123)\" style=\"width: 10px; height: 10px;background-color: rgb(123, 234, 123);\"></td><td title=\"Index: [86, 14]&#10;Color: (123, 234, 123)\" style=\"width: 10px; height: 10px;background-color: rgb(123, 234, 123);\"></td><td title=\"Index: [86, 15]&#10;Color: (123, 234, 123)\" style=\"width: 10px; height: 10px;background-color: rgb(123, 234, 123);\"></td><td title=\"Index: [86, 16]&#10;Color: (123, 234, 123)\" style=\"width: 10px; height: 10px;background-color: rgb(123, 234, 123);\"></td><td title=\"Index: [86, 17]&#10;Color: (123, 234, 123)\" style=\"width: 10px; height: 10px;background-color: rgb(123, 234, 123);\"></td><td title=\"Index: [86, 18]&#10;Color: (123, 234, 123)\" style=\"width: 10px; height: 10px;background-color: rgb(123, 234, 123);\"></td><td title=\"Index: [86, 19]&#10;Color: (123, 234, 123)\" style=\"width: 10px; height: 10px;background-color: rgb(123, 234, 123);\"></td><td title=\"Index: [86, 20]&#10;Color: (123, 234, 123)\" style=\"width: 10px; height: 10px;background-color: rgb(123, 234, 123);\"></td><td title=\"Index: [86, 21]&#10;Color: (123, 234, 123)\" style=\"width: 10px; height: 10px;background-color: rgb(123, 234, 123);\"></td><td title=\"Index: [86, 22]&#10;Color: (123, 234, 123)\" style=\"width: 10px; height: 10px;background-color: rgb(123, 234, 123);\"></td><td title=\"Index: [86, 23]&#10;Color: (123, 234, 123)\" style=\"width: 10px; height: 10px;background-color: rgb(123, 234, 123);\"></td><td title=\"Index: [86, 24]&#10;Color: (123, 234, 123)\" style=\"width: 10px; height: 10px;background-color: rgb(123, 234, 123);\"></td><td title=\"Index: [86, 25]&#10;Color: (123, 234, 123)\" style=\"width: 10px; height: 10px;background-color: rgb(123, 234, 123);\"></td><td title=\"Index: [86, 26]&#10;Color: (123, 234, 123)\" style=\"width: 10px; height: 10px;background-color: rgb(123, 234, 123);\"></td><td title=\"Index: [86, 27]&#10;Color: (0, 0, 0)\" style=\"width: 10px; height: 10px;background-color: rgb(0, 0, 0);\"></td><td title=\"Index: [86, 28]&#10;Color: (123, 234, 123)\" style=\"width: 10px; height: 10px;background-color: rgb(123, 234, 123);\"></td><td title=\"Index: [86, 29]&#10;Color: (123, 234, 123)\" style=\"width: 10px; height: 10px;background-color: rgb(123, 234, 123);\"></td><td title=\"Index: [86, 30]&#10;Color: (123, 234, 123)\" style=\"width: 10px; height: 10px;background-color: rgb(123, 234, 123);\"></td><td title=\"Index: [86, 31]&#10;Color: (123, 234, 123)\" style=\"width: 10px; height: 10px;background-color: rgb(123, 234, 123);\"></td><td title=\"Index: [86, 32]&#10;Color: (123, 234, 123)\" style=\"width: 10px; height: 10px;background-color: rgb(123, 234, 123);\"></td><td title=\"Index: [86, 33]&#10;Color: (123, 234, 123)\" style=\"width: 10px; height: 10px;background-color: rgb(123, 234, 123);\"></td><td title=\"Index: [86, 34]&#10;Color: (123, 234, 123)\" style=\"width: 10px; height: 10px;background-color: rgb(123, 234, 123);\"></td><td title=\"Index: [86, 35]&#10;Color: (123, 234, 123)\" style=\"width: 10px; height: 10px;background-color: rgb(123, 234, 123);\"></td><td title=\"Index: [86, 36]&#10;Color: (123, 234, 123)\" style=\"width: 10px; height: 10px;background-color: rgb(123, 234, 123);\"></td><td title=\"Index: [86, 37]&#10;Color: (0, 0, 0)\" style=\"width: 10px; height: 10px;background-color: rgb(0, 0, 0);\"></td><td title=\"Index: [86, 38]&#10;Color: (123, 234, 123)\" style=\"width: 10px; height: 10px;background-color: rgb(123, 234, 123);\"></td><td title=\"Index: [86, 39]&#10;Color: (0, 0, 0)\" style=\"width: 10px; height: 10px;background-color: rgb(0, 0, 0);\"></td><td title=\"Index: [86, 40]&#10;Color: (123, 234, 123)\" style=\"width: 10px; height: 10px;background-color: rgb(123, 234, 123);\"></td><td title=\"Index: [86, 41]&#10;Color: (123, 234, 123)\" style=\"width: 10px; height: 10px;background-color: rgb(123, 234, 123);\"></td><td title=\"Index: [86, 42]&#10;Color: (123, 234, 123)\" style=\"width: 10px; height: 10px;background-color: rgb(123, 234, 123);\"></td><td title=\"Index: [86, 43]&#10;Color: (123, 234, 123)\" style=\"width: 10px; height: 10px;background-color: rgb(123, 234, 123);\"></td><td title=\"Index: [86, 44]&#10;Color: (123, 234, 123)\" style=\"width: 10px; height: 10px;background-color: rgb(123, 234, 123);\"></td><td title=\"Index: [86, 45]&#10;Color: (123, 234, 123)\" style=\"width: 10px; height: 10px;background-color: rgb(123, 234, 123);\"></td><td title=\"Index: [86, 46]&#10;Color: (123, 234, 123)\" style=\"width: 10px; height: 10px;background-color: rgb(123, 234, 123);\"></td><td title=\"Index: [86, 47]&#10;Color: (123, 234, 123)\" style=\"width: 10px; height: 10px;background-color: rgb(123, 234, 123);\"></td><td title=\"Index: [86, 48]&#10;Color: (123, 234, 123)\" style=\"width: 10px; height: 10px;background-color: rgb(123, 234, 123);\"></td><td title=\"Index: [86, 49]&#10;Color: (0, 0, 0)\" style=\"width: 10px; height: 10px;background-color: rgb(0, 0, 0);\"></td></tr><tr><td title=\"Index: [87, 0]&#10;Color: (123, 234, 123)\" style=\"width: 10px; height: 10px;background-color: rgb(123, 234, 123);\"></td><td title=\"Index: [87, 1]&#10;Color: (123, 234, 123)\" style=\"width: 10px; height: 10px;background-color: rgb(123, 234, 123);\"></td><td title=\"Index: [87, 2]&#10;Color: (123, 234, 123)\" style=\"width: 10px; height: 10px;background-color: rgb(123, 234, 123);\"></td><td title=\"Index: [87, 3]&#10;Color: (123, 234, 123)\" style=\"width: 10px; height: 10px;background-color: rgb(123, 234, 123);\"></td><td title=\"Index: [87, 4]&#10;Color: (123, 234, 123)\" style=\"width: 10px; height: 10px;background-color: rgb(123, 234, 123);\"></td><td title=\"Index: [87, 5]&#10;Color: (123, 234, 123)\" style=\"width: 10px; height: 10px;background-color: rgb(123, 234, 123);\"></td><td title=\"Index: [87, 6]&#10;Color: (123, 234, 123)\" style=\"width: 10px; height: 10px;background-color: rgb(123, 234, 123);\"></td><td title=\"Index: [87, 7]&#10;Color: (0, 0, 0)\" style=\"width: 10px; height: 10px;background-color: rgb(0, 0, 0);\"></td><td title=\"Index: [87, 8]&#10;Color: (123, 234, 123)\" style=\"width: 10px; height: 10px;background-color: rgb(123, 234, 123);\"></td><td title=\"Index: [87, 9]&#10;Color: (123, 234, 123)\" style=\"width: 10px; height: 10px;background-color: rgb(123, 234, 123);\"></td><td title=\"Index: [87, 10]&#10;Color: (123, 234, 123)\" style=\"width: 10px; height: 10px;background-color: rgb(123, 234, 123);\"></td><td title=\"Index: [87, 11]&#10;Color: (123, 234, 123)\" style=\"width: 10px; height: 10px;background-color: rgb(123, 234, 123);\"></td><td title=\"Index: [87, 12]&#10;Color: (123, 234, 123)\" style=\"width: 10px; height: 10px;background-color: rgb(123, 234, 123);\"></td><td title=\"Index: [87, 13]&#10;Color: (0, 0, 0)\" style=\"width: 10px; height: 10px;background-color: rgb(0, 0, 0);\"></td><td title=\"Index: [87, 14]&#10;Color: (123, 234, 123)\" style=\"width: 10px; height: 10px;background-color: rgb(123, 234, 123);\"></td><td title=\"Index: [87, 15]&#10;Color: (123, 234, 123)\" style=\"width: 10px; height: 10px;background-color: rgb(123, 234, 123);\"></td><td title=\"Index: [87, 16]&#10;Color: (123, 234, 123)\" style=\"width: 10px; height: 10px;background-color: rgb(123, 234, 123);\"></td><td title=\"Index: [87, 17]&#10;Color: (123, 234, 123)\" style=\"width: 10px; height: 10px;background-color: rgb(123, 234, 123);\"></td><td title=\"Index: [87, 18]&#10;Color: (123, 234, 123)\" style=\"width: 10px; height: 10px;background-color: rgb(123, 234, 123);\"></td><td title=\"Index: [87, 19]&#10;Color: (123, 234, 123)\" style=\"width: 10px; height: 10px;background-color: rgb(123, 234, 123);\"></td><td title=\"Index: [87, 20]&#10;Color: (123, 234, 123)\" style=\"width: 10px; height: 10px;background-color: rgb(123, 234, 123);\"></td><td title=\"Index: [87, 21]&#10;Color: (123, 234, 123)\" style=\"width: 10px; height: 10px;background-color: rgb(123, 234, 123);\"></td><td title=\"Index: [87, 22]&#10;Color: (123, 234, 123)\" style=\"width: 10px; height: 10px;background-color: rgb(123, 234, 123);\"></td><td title=\"Index: [87, 23]&#10;Color: (0, 0, 0)\" style=\"width: 10px; height: 10px;background-color: rgb(0, 0, 0);\"></td><td title=\"Index: [87, 24]&#10;Color: (123, 234, 123)\" style=\"width: 10px; height: 10px;background-color: rgb(123, 234, 123);\"></td><td title=\"Index: [87, 25]&#10;Color: (123, 234, 123)\" style=\"width: 10px; height: 10px;background-color: rgb(123, 234, 123);\"></td><td title=\"Index: [87, 26]&#10;Color: (123, 234, 123)\" style=\"width: 10px; height: 10px;background-color: rgb(123, 234, 123);\"></td><td title=\"Index: [87, 27]&#10;Color: (123, 234, 123)\" style=\"width: 10px; height: 10px;background-color: rgb(123, 234, 123);\"></td><td title=\"Index: [87, 28]&#10;Color: (123, 234, 123)\" style=\"width: 10px; height: 10px;background-color: rgb(123, 234, 123);\"></td><td title=\"Index: [87, 29]&#10;Color: (123, 234, 123)\" style=\"width: 10px; height: 10px;background-color: rgb(123, 234, 123);\"></td><td title=\"Index: [87, 30]&#10;Color: (123, 234, 123)\" style=\"width: 10px; height: 10px;background-color: rgb(123, 234, 123);\"></td><td title=\"Index: [87, 31]&#10;Color: (123, 234, 123)\" style=\"width: 10px; height: 10px;background-color: rgb(123, 234, 123);\"></td><td title=\"Index: [87, 32]&#10;Color: (123, 234, 123)\" style=\"width: 10px; height: 10px;background-color: rgb(123, 234, 123);\"></td><td title=\"Index: [87, 33]&#10;Color: (123, 234, 123)\" style=\"width: 10px; height: 10px;background-color: rgb(123, 234, 123);\"></td><td title=\"Index: [87, 34]&#10;Color: (123, 234, 123)\" style=\"width: 10px; height: 10px;background-color: rgb(123, 234, 123);\"></td><td title=\"Index: [87, 35]&#10;Color: (123, 234, 123)\" style=\"width: 10px; height: 10px;background-color: rgb(123, 234, 123);\"></td><td title=\"Index: [87, 36]&#10;Color: (123, 234, 123)\" style=\"width: 10px; height: 10px;background-color: rgb(123, 234, 123);\"></td><td title=\"Index: [87, 37]&#10;Color: (123, 234, 123)\" style=\"width: 10px; height: 10px;background-color: rgb(123, 234, 123);\"></td><td title=\"Index: [87, 38]&#10;Color: (123, 234, 123)\" style=\"width: 10px; height: 10px;background-color: rgb(123, 234, 123);\"></td><td title=\"Index: [87, 39]&#10;Color: (123, 234, 123)\" style=\"width: 10px; height: 10px;background-color: rgb(123, 234, 123);\"></td><td title=\"Index: [87, 40]&#10;Color: (123, 234, 123)\" style=\"width: 10px; height: 10px;background-color: rgb(123, 234, 123);\"></td><td title=\"Index: [87, 41]&#10;Color: (0, 0, 0)\" style=\"width: 10px; height: 10px;background-color: rgb(0, 0, 0);\"></td><td title=\"Index: [87, 42]&#10;Color: (123, 234, 123)\" style=\"width: 10px; height: 10px;background-color: rgb(123, 234, 123);\"></td><td title=\"Index: [87, 43]&#10;Color: (123, 234, 123)\" style=\"width: 10px; height: 10px;background-color: rgb(123, 234, 123);\"></td><td title=\"Index: [87, 44]&#10;Color: (123, 234, 123)\" style=\"width: 10px; height: 10px;background-color: rgb(123, 234, 123);\"></td><td title=\"Index: [87, 45]&#10;Color: (123, 234, 123)\" style=\"width: 10px; height: 10px;background-color: rgb(123, 234, 123);\"></td><td title=\"Index: [87, 46]&#10;Color: (123, 234, 123)\" style=\"width: 10px; height: 10px;background-color: rgb(123, 234, 123);\"></td><td title=\"Index: [87, 47]&#10;Color: (0, 0, 0)\" style=\"width: 10px; height: 10px;background-color: rgb(0, 0, 0);\"></td><td title=\"Index: [87, 48]&#10;Color: (123, 234, 123)\" style=\"width: 10px; height: 10px;background-color: rgb(123, 234, 123);\"></td><td title=\"Index: [87, 49]&#10;Color: (123, 234, 123)\" style=\"width: 10px; height: 10px;background-color: rgb(123, 234, 123);\"></td></tr><tr><td title=\"Index: [88, 0]&#10;Color: (123, 234, 123)\" style=\"width: 10px; height: 10px;background-color: rgb(123, 234, 123);\"></td><td title=\"Index: [88, 1]&#10;Color: (123, 234, 123)\" style=\"width: 10px; height: 10px;background-color: rgb(123, 234, 123);\"></td><td title=\"Index: [88, 2]&#10;Color: (123, 234, 123)\" style=\"width: 10px; height: 10px;background-color: rgb(123, 234, 123);\"></td><td title=\"Index: [88, 3]&#10;Color: (123, 234, 123)\" style=\"width: 10px; height: 10px;background-color: rgb(123, 234, 123);\"></td><td title=\"Index: [88, 4]&#10;Color: (123, 234, 123)\" style=\"width: 10px; height: 10px;background-color: rgb(123, 234, 123);\"></td><td title=\"Index: [88, 5]&#10;Color: (123, 234, 123)\" style=\"width: 10px; height: 10px;background-color: rgb(123, 234, 123);\"></td><td title=\"Index: [88, 6]&#10;Color: (123, 234, 123)\" style=\"width: 10px; height: 10px;background-color: rgb(123, 234, 123);\"></td><td title=\"Index: [88, 7]&#10;Color: (123, 234, 123)\" style=\"width: 10px; height: 10px;background-color: rgb(123, 234, 123);\"></td><td title=\"Index: [88, 8]&#10;Color: (123, 234, 123)\" style=\"width: 10px; height: 10px;background-color: rgb(123, 234, 123);\"></td><td title=\"Index: [88, 9]&#10;Color: (0, 0, 0)\" style=\"width: 10px; height: 10px;background-color: rgb(0, 0, 0);\"></td><td title=\"Index: [88, 10]&#10;Color: (123, 234, 123)\" style=\"width: 10px; height: 10px;background-color: rgb(123, 234, 123);\"></td><td title=\"Index: [88, 11]&#10;Color: (123, 234, 123)\" style=\"width: 10px; height: 10px;background-color: rgb(123, 234, 123);\"></td><td title=\"Index: [88, 12]&#10;Color: (123, 234, 123)\" style=\"width: 10px; height: 10px;background-color: rgb(123, 234, 123);\"></td><td title=\"Index: [88, 13]&#10;Color: (123, 234, 123)\" style=\"width: 10px; height: 10px;background-color: rgb(123, 234, 123);\"></td><td title=\"Index: [88, 14]&#10;Color: (123, 234, 123)\" style=\"width: 10px; height: 10px;background-color: rgb(123, 234, 123);\"></td><td title=\"Index: [88, 15]&#10;Color: (123, 234, 123)\" style=\"width: 10px; height: 10px;background-color: rgb(123, 234, 123);\"></td><td title=\"Index: [88, 16]&#10;Color: (123, 234, 123)\" style=\"width: 10px; height: 10px;background-color: rgb(123, 234, 123);\"></td><td title=\"Index: [88, 17]&#10;Color: (123, 234, 123)\" style=\"width: 10px; height: 10px;background-color: rgb(123, 234, 123);\"></td><td title=\"Index: [88, 18]&#10;Color: (123, 234, 123)\" style=\"width: 10px; height: 10px;background-color: rgb(123, 234, 123);\"></td><td title=\"Index: [88, 19]&#10;Color: (123, 234, 123)\" style=\"width: 10px; height: 10px;background-color: rgb(123, 234, 123);\"></td><td title=\"Index: [88, 20]&#10;Color: (123, 234, 123)\" style=\"width: 10px; height: 10px;background-color: rgb(123, 234, 123);\"></td><td title=\"Index: [88, 21]&#10;Color: (0, 0, 0)\" style=\"width: 10px; height: 10px;background-color: rgb(0, 0, 0);\"></td><td title=\"Index: [88, 22]&#10;Color: (123, 234, 123)\" style=\"width: 10px; height: 10px;background-color: rgb(123, 234, 123);\"></td><td title=\"Index: [88, 23]&#10;Color: (0, 0, 0)\" style=\"width: 10px; height: 10px;background-color: rgb(0, 0, 0);\"></td><td title=\"Index: [88, 24]&#10;Color: (123, 234, 123)\" style=\"width: 10px; height: 10px;background-color: rgb(123, 234, 123);\"></td><td title=\"Index: [88, 25]&#10;Color: (123, 234, 123)\" style=\"width: 10px; height: 10px;background-color: rgb(123, 234, 123);\"></td><td title=\"Index: [88, 26]&#10;Color: (123, 234, 123)\" style=\"width: 10px; height: 10px;background-color: rgb(123, 234, 123);\"></td><td title=\"Index: [88, 27]&#10;Color: (123, 234, 123)\" style=\"width: 10px; height: 10px;background-color: rgb(123, 234, 123);\"></td><td title=\"Index: [88, 28]&#10;Color: (123, 234, 123)\" style=\"width: 10px; height: 10px;background-color: rgb(123, 234, 123);\"></td><td title=\"Index: [88, 29]&#10;Color: (123, 234, 123)\" style=\"width: 10px; height: 10px;background-color: rgb(123, 234, 123);\"></td><td title=\"Index: [88, 30]&#10;Color: (123, 234, 123)\" style=\"width: 10px; height: 10px;background-color: rgb(123, 234, 123);\"></td><td title=\"Index: [88, 31]&#10;Color: (123, 234, 123)\" style=\"width: 10px; height: 10px;background-color: rgb(123, 234, 123);\"></td><td title=\"Index: [88, 32]&#10;Color: (123, 234, 123)\" style=\"width: 10px; height: 10px;background-color: rgb(123, 234, 123);\"></td><td title=\"Index: [88, 33]&#10;Color: (123, 234, 123)\" style=\"width: 10px; height: 10px;background-color: rgb(123, 234, 123);\"></td><td title=\"Index: [88, 34]&#10;Color: (123, 234, 123)\" style=\"width: 10px; height: 10px;background-color: rgb(123, 234, 123);\"></td><td title=\"Index: [88, 35]&#10;Color: (123, 234, 123)\" style=\"width: 10px; height: 10px;background-color: rgb(123, 234, 123);\"></td><td title=\"Index: [88, 36]&#10;Color: (123, 234, 123)\" style=\"width: 10px; height: 10px;background-color: rgb(123, 234, 123);\"></td><td title=\"Index: [88, 37]&#10;Color: (123, 234, 123)\" style=\"width: 10px; height: 10px;background-color: rgb(123, 234, 123);\"></td><td title=\"Index: [88, 38]&#10;Color: (123, 234, 123)\" style=\"width: 10px; height: 10px;background-color: rgb(123, 234, 123);\"></td><td title=\"Index: [88, 39]&#10;Color: (123, 234, 123)\" style=\"width: 10px; height: 10px;background-color: rgb(123, 234, 123);\"></td><td title=\"Index: [88, 40]&#10;Color: (123, 234, 123)\" style=\"width: 10px; height: 10px;background-color: rgb(123, 234, 123);\"></td><td title=\"Index: [88, 41]&#10;Color: (0, 0, 0)\" style=\"width: 10px; height: 10px;background-color: rgb(0, 0, 0);\"></td><td title=\"Index: [88, 42]&#10;Color: (123, 234, 123)\" style=\"width: 10px; height: 10px;background-color: rgb(123, 234, 123);\"></td><td title=\"Index: [88, 43]&#10;Color: (123, 234, 123)\" style=\"width: 10px; height: 10px;background-color: rgb(123, 234, 123);\"></td><td title=\"Index: [88, 44]&#10;Color: (123, 234, 123)\" style=\"width: 10px; height: 10px;background-color: rgb(123, 234, 123);\"></td><td title=\"Index: [88, 45]&#10;Color: (123, 234, 123)\" style=\"width: 10px; height: 10px;background-color: rgb(123, 234, 123);\"></td><td title=\"Index: [88, 46]&#10;Color: (123, 234, 123)\" style=\"width: 10px; height: 10px;background-color: rgb(123, 234, 123);\"></td><td title=\"Index: [88, 47]&#10;Color: (0, 0, 0)\" style=\"width: 10px; height: 10px;background-color: rgb(0, 0, 0);\"></td><td title=\"Index: [88, 48]&#10;Color: (123, 234, 123)\" style=\"width: 10px; height: 10px;background-color: rgb(123, 234, 123);\"></td><td title=\"Index: [88, 49]&#10;Color: (123, 234, 123)\" style=\"width: 10px; height: 10px;background-color: rgb(123, 234, 123);\"></td></tr><tr><td title=\"Index: [89, 0]&#10;Color: (123, 234, 123)\" style=\"width: 10px; height: 10px;background-color: rgb(123, 234, 123);\"></td><td title=\"Index: [89, 1]&#10;Color: (0, 0, 0)\" style=\"width: 10px; height: 10px;background-color: rgb(0, 0, 0);\"></td><td title=\"Index: [89, 2]&#10;Color: (123, 234, 123)\" style=\"width: 10px; height: 10px;background-color: rgb(123, 234, 123);\"></td><td title=\"Index: [89, 3]&#10;Color: (123, 234, 123)\" style=\"width: 10px; height: 10px;background-color: rgb(123, 234, 123);\"></td><td title=\"Index: [89, 4]&#10;Color: (123, 234, 123)\" style=\"width: 10px; height: 10px;background-color: rgb(123, 234, 123);\"></td><td title=\"Index: [89, 5]&#10;Color: (123, 234, 123)\" style=\"width: 10px; height: 10px;background-color: rgb(123, 234, 123);\"></td><td title=\"Index: [89, 6]&#10;Color: (123, 234, 123)\" style=\"width: 10px; height: 10px;background-color: rgb(123, 234, 123);\"></td><td title=\"Index: [89, 7]&#10;Color: (0, 0, 0)\" style=\"width: 10px; height: 10px;background-color: rgb(0, 0, 0);\"></td><td title=\"Index: [89, 8]&#10;Color: (123, 234, 123)\" style=\"width: 10px; height: 10px;background-color: rgb(123, 234, 123);\"></td><td title=\"Index: [89, 9]&#10;Color: (123, 234, 123)\" style=\"width: 10px; height: 10px;background-color: rgb(123, 234, 123);\"></td><td title=\"Index: [89, 10]&#10;Color: (123, 234, 123)\" style=\"width: 10px; height: 10px;background-color: rgb(123, 234, 123);\"></td><td title=\"Index: [89, 11]&#10;Color: (123, 234, 123)\" style=\"width: 10px; height: 10px;background-color: rgb(123, 234, 123);\"></td><td title=\"Index: [89, 12]&#10;Color: (123, 234, 123)\" style=\"width: 10px; height: 10px;background-color: rgb(123, 234, 123);\"></td><td title=\"Index: [89, 13]&#10;Color: (0, 0, 0)\" style=\"width: 10px; height: 10px;background-color: rgb(0, 0, 0);\"></td><td title=\"Index: [89, 14]&#10;Color: (123, 234, 123)\" style=\"width: 10px; height: 10px;background-color: rgb(123, 234, 123);\"></td><td title=\"Index: [89, 15]&#10;Color: (123, 234, 123)\" style=\"width: 10px; height: 10px;background-color: rgb(123, 234, 123);\"></td><td title=\"Index: [89, 16]&#10;Color: (123, 234, 123)\" style=\"width: 10px; height: 10px;background-color: rgb(123, 234, 123);\"></td><td title=\"Index: [89, 17]&#10;Color: (123, 234, 123)\" style=\"width: 10px; height: 10px;background-color: rgb(123, 234, 123);\"></td><td title=\"Index: [89, 18]&#10;Color: (123, 234, 123)\" style=\"width: 10px; height: 10px;background-color: rgb(123, 234, 123);\"></td><td title=\"Index: [89, 19]&#10;Color: (123, 234, 123)\" style=\"width: 10px; height: 10px;background-color: rgb(123, 234, 123);\"></td><td title=\"Index: [89, 20]&#10;Color: (123, 234, 123)\" style=\"width: 10px; height: 10px;background-color: rgb(123, 234, 123);\"></td><td title=\"Index: [89, 21]&#10;Color: (123, 234, 123)\" style=\"width: 10px; height: 10px;background-color: rgb(123, 234, 123);\"></td><td title=\"Index: [89, 22]&#10;Color: (123, 234, 123)\" style=\"width: 10px; height: 10px;background-color: rgb(123, 234, 123);\"></td><td title=\"Index: [89, 23]&#10;Color: (123, 234, 123)\" style=\"width: 10px; height: 10px;background-color: rgb(123, 234, 123);\"></td><td title=\"Index: [89, 24]&#10;Color: (123, 234, 123)\" style=\"width: 10px; height: 10px;background-color: rgb(123, 234, 123);\"></td><td title=\"Index: [89, 25]&#10;Color: (123, 234, 123)\" style=\"width: 10px; height: 10px;background-color: rgb(123, 234, 123);\"></td><td title=\"Index: [89, 26]&#10;Color: (123, 234, 123)\" style=\"width: 10px; height: 10px;background-color: rgb(123, 234, 123);\"></td><td title=\"Index: [89, 27]&#10;Color: (123, 234, 123)\" style=\"width: 10px; height: 10px;background-color: rgb(123, 234, 123);\"></td><td title=\"Index: [89, 28]&#10;Color: (123, 234, 123)\" style=\"width: 10px; height: 10px;background-color: rgb(123, 234, 123);\"></td><td title=\"Index: [89, 29]&#10;Color: (123, 234, 123)\" style=\"width: 10px; height: 10px;background-color: rgb(123, 234, 123);\"></td><td title=\"Index: [89, 30]&#10;Color: (123, 234, 123)\" style=\"width: 10px; height: 10px;background-color: rgb(123, 234, 123);\"></td><td title=\"Index: [89, 31]&#10;Color: (0, 0, 0)\" style=\"width: 10px; height: 10px;background-color: rgb(0, 0, 0);\"></td><td title=\"Index: [89, 32]&#10;Color: (123, 234, 123)\" style=\"width: 10px; height: 10px;background-color: rgb(123, 234, 123);\"></td><td title=\"Index: [89, 33]&#10;Color: (0, 0, 0)\" style=\"width: 10px; height: 10px;background-color: rgb(0, 0, 0);\"></td><td title=\"Index: [89, 34]&#10;Color: (123, 234, 123)\" style=\"width: 10px; height: 10px;background-color: rgb(123, 234, 123);\"></td><td title=\"Index: [89, 35]&#10;Color: (123, 234, 123)\" style=\"width: 10px; height: 10px;background-color: rgb(123, 234, 123);\"></td><td title=\"Index: [89, 36]&#10;Color: (123, 234, 123)\" style=\"width: 10px; height: 10px;background-color: rgb(123, 234, 123);\"></td><td title=\"Index: [89, 37]&#10;Color: (123, 234, 123)\" style=\"width: 10px; height: 10px;background-color: rgb(123, 234, 123);\"></td><td title=\"Index: [89, 38]&#10;Color: (123, 234, 123)\" style=\"width: 10px; height: 10px;background-color: rgb(123, 234, 123);\"></td><td title=\"Index: [89, 39]&#10;Color: (123, 234, 123)\" style=\"width: 10px; height: 10px;background-color: rgb(123, 234, 123);\"></td><td title=\"Index: [89, 40]&#10;Color: (123, 234, 123)\" style=\"width: 10px; height: 10px;background-color: rgb(123, 234, 123);\"></td><td title=\"Index: [89, 41]&#10;Color: (123, 234, 123)\" style=\"width: 10px; height: 10px;background-color: rgb(123, 234, 123);\"></td><td title=\"Index: [89, 42]&#10;Color: (123, 234, 123)\" style=\"width: 10px; height: 10px;background-color: rgb(123, 234, 123);\"></td><td title=\"Index: [89, 43]&#10;Color: (0, 0, 0)\" style=\"width: 10px; height: 10px;background-color: rgb(0, 0, 0);\"></td><td title=\"Index: [89, 44]&#10;Color: (123, 234, 123)\" style=\"width: 10px; height: 10px;background-color: rgb(123, 234, 123);\"></td><td title=\"Index: [89, 45]&#10;Color: (123, 234, 123)\" style=\"width: 10px; height: 10px;background-color: rgb(123, 234, 123);\"></td><td title=\"Index: [89, 46]&#10;Color: (123, 234, 123)\" style=\"width: 10px; height: 10px;background-color: rgb(123, 234, 123);\"></td><td title=\"Index: [89, 47]&#10;Color: (123, 234, 123)\" style=\"width: 10px; height: 10px;background-color: rgb(123, 234, 123);\"></td><td title=\"Index: [89, 48]&#10;Color: (123, 234, 123)\" style=\"width: 10px; height: 10px;background-color: rgb(123, 234, 123);\"></td><td title=\"Index: [89, 49]&#10;Color: (123, 234, 123)\" style=\"width: 10px; height: 10px;background-color: rgb(123, 234, 123);\"></td></tr><tr><td title=\"Index: [90, 0]&#10;Color: (123, 234, 123)\" style=\"width: 10px; height: 10px;background-color: rgb(123, 234, 123);\"></td><td title=\"Index: [90, 1]&#10;Color: (123, 234, 123)\" style=\"width: 10px; height: 10px;background-color: rgb(123, 234, 123);\"></td><td title=\"Index: [90, 2]&#10;Color: (123, 234, 123)\" style=\"width: 10px; height: 10px;background-color: rgb(123, 234, 123);\"></td><td title=\"Index: [90, 3]&#10;Color: (123, 234, 123)\" style=\"width: 10px; height: 10px;background-color: rgb(123, 234, 123);\"></td><td title=\"Index: [90, 4]&#10;Color: (123, 234, 123)\" style=\"width: 10px; height: 10px;background-color: rgb(123, 234, 123);\"></td><td title=\"Index: [90, 5]&#10;Color: (123, 234, 123)\" style=\"width: 10px; height: 10px;background-color: rgb(123, 234, 123);\"></td><td title=\"Index: [90, 6]&#10;Color: (123, 234, 123)\" style=\"width: 10px; height: 10px;background-color: rgb(123, 234, 123);\"></td><td title=\"Index: [90, 7]&#10;Color: (0, 0, 0)\" style=\"width: 10px; height: 10px;background-color: rgb(0, 0, 0);\"></td><td title=\"Index: [90, 8]&#10;Color: (123, 234, 123)\" style=\"width: 10px; height: 10px;background-color: rgb(123, 234, 123);\"></td><td title=\"Index: [90, 9]&#10;Color: (123, 234, 123)\" style=\"width: 10px; height: 10px;background-color: rgb(123, 234, 123);\"></td><td title=\"Index: [90, 10]&#10;Color: (123, 234, 123)\" style=\"width: 10px; height: 10px;background-color: rgb(123, 234, 123);\"></td><td title=\"Index: [90, 11]&#10;Color: (123, 234, 123)\" style=\"width: 10px; height: 10px;background-color: rgb(123, 234, 123);\"></td><td title=\"Index: [90, 12]&#10;Color: (123, 234, 123)\" style=\"width: 10px; height: 10px;background-color: rgb(123, 234, 123);\"></td><td title=\"Index: [90, 13]&#10;Color: (0, 0, 0)\" style=\"width: 10px; height: 10px;background-color: rgb(0, 0, 0);\"></td><td title=\"Index: [90, 14]&#10;Color: (123, 234, 123)\" style=\"width: 10px; height: 10px;background-color: rgb(123, 234, 123);\"></td><td title=\"Index: [90, 15]&#10;Color: (123, 234, 123)\" style=\"width: 10px; height: 10px;background-color: rgb(123, 234, 123);\"></td><td title=\"Index: [90, 16]&#10;Color: (123, 234, 123)\" style=\"width: 10px; height: 10px;background-color: rgb(123, 234, 123);\"></td><td title=\"Index: [90, 17]&#10;Color: (0, 0, 0)\" style=\"width: 10px; height: 10px;background-color: rgb(0, 0, 0);\"></td><td title=\"Index: [90, 18]&#10;Color: (123, 234, 123)\" style=\"width: 10px; height: 10px;background-color: rgb(123, 234, 123);\"></td><td title=\"Index: [90, 19]&#10;Color: (0, 0, 0)\" style=\"width: 10px; height: 10px;background-color: rgb(0, 0, 0);\"></td><td title=\"Index: [90, 20]&#10;Color: (123, 234, 123)\" style=\"width: 10px; height: 10px;background-color: rgb(123, 234, 123);\"></td><td title=\"Index: [90, 21]&#10;Color: (123, 234, 123)\" style=\"width: 10px; height: 10px;background-color: rgb(123, 234, 123);\"></td><td title=\"Index: [90, 22]&#10;Color: (123, 234, 123)\" style=\"width: 10px; height: 10px;background-color: rgb(123, 234, 123);\"></td><td title=\"Index: [90, 23]&#10;Color: (0, 0, 0)\" style=\"width: 10px; height: 10px;background-color: rgb(0, 0, 0);\"></td><td title=\"Index: [90, 24]&#10;Color: (123, 234, 123)\" style=\"width: 10px; height: 10px;background-color: rgb(123, 234, 123);\"></td><td title=\"Index: [90, 25]&#10;Color: (123, 234, 123)\" style=\"width: 10px; height: 10px;background-color: rgb(123, 234, 123);\"></td><td title=\"Index: [90, 26]&#10;Color: (123, 234, 123)\" style=\"width: 10px; height: 10px;background-color: rgb(123, 234, 123);\"></td><td title=\"Index: [90, 27]&#10;Color: (123, 234, 123)\" style=\"width: 10px; height: 10px;background-color: rgb(123, 234, 123);\"></td><td title=\"Index: [90, 28]&#10;Color: (123, 234, 123)\" style=\"width: 10px; height: 10px;background-color: rgb(123, 234, 123);\"></td><td title=\"Index: [90, 29]&#10;Color: (123, 234, 123)\" style=\"width: 10px; height: 10px;background-color: rgb(123, 234, 123);\"></td><td title=\"Index: [90, 30]&#10;Color: (123, 234, 123)\" style=\"width: 10px; height: 10px;background-color: rgb(123, 234, 123);\"></td><td title=\"Index: [90, 31]&#10;Color: (123, 234, 123)\" style=\"width: 10px; height: 10px;background-color: rgb(123, 234, 123);\"></td><td title=\"Index: [90, 32]&#10;Color: (123, 234, 123)\" style=\"width: 10px; height: 10px;background-color: rgb(123, 234, 123);\"></td><td title=\"Index: [90, 33]&#10;Color: (123, 234, 123)\" style=\"width: 10px; height: 10px;background-color: rgb(123, 234, 123);\"></td><td title=\"Index: [90, 34]&#10;Color: (123, 234, 123)\" style=\"width: 10px; height: 10px;background-color: rgb(123, 234, 123);\"></td><td title=\"Index: [90, 35]&#10;Color: (123, 234, 123)\" style=\"width: 10px; height: 10px;background-color: rgb(123, 234, 123);\"></td><td title=\"Index: [90, 36]&#10;Color: (123, 234, 123)\" style=\"width: 10px; height: 10px;background-color: rgb(123, 234, 123);\"></td><td title=\"Index: [90, 37]&#10;Color: (123, 234, 123)\" style=\"width: 10px; height: 10px;background-color: rgb(123, 234, 123);\"></td><td title=\"Index: [90, 38]&#10;Color: (123, 234, 123)\" style=\"width: 10px; height: 10px;background-color: rgb(123, 234, 123);\"></td><td title=\"Index: [90, 39]&#10;Color: (123, 234, 123)\" style=\"width: 10px; height: 10px;background-color: rgb(123, 234, 123);\"></td><td title=\"Index: [90, 40]&#10;Color: (123, 234, 123)\" style=\"width: 10px; height: 10px;background-color: rgb(123, 234, 123);\"></td><td title=\"Index: [90, 41]&#10;Color: (123, 234, 123)\" style=\"width: 10px; height: 10px;background-color: rgb(123, 234, 123);\"></td><td title=\"Index: [90, 42]&#10;Color: (123, 234, 123)\" style=\"width: 10px; height: 10px;background-color: rgb(123, 234, 123);\"></td><td title=\"Index: [90, 43]&#10;Color: (123, 234, 123)\" style=\"width: 10px; height: 10px;background-color: rgb(123, 234, 123);\"></td><td title=\"Index: [90, 44]&#10;Color: (123, 234, 123)\" style=\"width: 10px; height: 10px;background-color: rgb(123, 234, 123);\"></td><td title=\"Index: [90, 45]&#10;Color: (123, 234, 123)\" style=\"width: 10px; height: 10px;background-color: rgb(123, 234, 123);\"></td><td title=\"Index: [90, 46]&#10;Color: (123, 234, 123)\" style=\"width: 10px; height: 10px;background-color: rgb(123, 234, 123);\"></td><td title=\"Index: [90, 47]&#10;Color: (0, 0, 0)\" style=\"width: 10px; height: 10px;background-color: rgb(0, 0, 0);\"></td><td title=\"Index: [90, 48]&#10;Color: (123, 234, 123)\" style=\"width: 10px; height: 10px;background-color: rgb(123, 234, 123);\"></td><td title=\"Index: [90, 49]&#10;Color: (0, 0, 0)\" style=\"width: 10px; height: 10px;background-color: rgb(0, 0, 0);\"></td></tr><tr><td title=\"Index: [91, 0]&#10;Color: (123, 234, 123)\" style=\"width: 10px; height: 10px;background-color: rgb(123, 234, 123);\"></td><td title=\"Index: [91, 1]&#10;Color: (123, 234, 123)\" style=\"width: 10px; height: 10px;background-color: rgb(123, 234, 123);\"></td><td title=\"Index: [91, 2]&#10;Color: (123, 234, 123)\" style=\"width: 10px; height: 10px;background-color: rgb(123, 234, 123);\"></td><td title=\"Index: [91, 3]&#10;Color: (123, 234, 123)\" style=\"width: 10px; height: 10px;background-color: rgb(123, 234, 123);\"></td><td title=\"Index: [91, 4]&#10;Color: (123, 234, 123)\" style=\"width: 10px; height: 10px;background-color: rgb(123, 234, 123);\"></td><td title=\"Index: [91, 5]&#10;Color: (123, 234, 123)\" style=\"width: 10px; height: 10px;background-color: rgb(123, 234, 123);\"></td><td title=\"Index: [91, 6]&#10;Color: (123, 234, 123)\" style=\"width: 10px; height: 10px;background-color: rgb(123, 234, 123);\"></td><td title=\"Index: [91, 7]&#10;Color: (123, 234, 123)\" style=\"width: 10px; height: 10px;background-color: rgb(123, 234, 123);\"></td><td title=\"Index: [91, 8]&#10;Color: (123, 234, 123)\" style=\"width: 10px; height: 10px;background-color: rgb(123, 234, 123);\"></td><td title=\"Index: [91, 9]&#10;Color: (123, 234, 123)\" style=\"width: 10px; height: 10px;background-color: rgb(123, 234, 123);\"></td><td title=\"Index: [91, 10]&#10;Color: (123, 234, 123)\" style=\"width: 10px; height: 10px;background-color: rgb(123, 234, 123);\"></td><td title=\"Index: [91, 11]&#10;Color: (0, 0, 0)\" style=\"width: 10px; height: 10px;background-color: rgb(0, 0, 0);\"></td><td title=\"Index: [91, 12]&#10;Color: (123, 234, 123)\" style=\"width: 10px; height: 10px;background-color: rgb(123, 234, 123);\"></td><td title=\"Index: [91, 13]&#10;Color: (123, 234, 123)\" style=\"width: 10px; height: 10px;background-color: rgb(123, 234, 123);\"></td><td title=\"Index: [91, 14]&#10;Color: (123, 234, 123)\" style=\"width: 10px; height: 10px;background-color: rgb(123, 234, 123);\"></td><td title=\"Index: [91, 15]&#10;Color: (123, 234, 123)\" style=\"width: 10px; height: 10px;background-color: rgb(123, 234, 123);\"></td><td title=\"Index: [91, 16]&#10;Color: (123, 234, 123)\" style=\"width: 10px; height: 10px;background-color: rgb(123, 234, 123);\"></td><td title=\"Index: [91, 17]&#10;Color: (0, 0, 0)\" style=\"width: 10px; height: 10px;background-color: rgb(0, 0, 0);\"></td><td title=\"Index: [91, 18]&#10;Color: (123, 234, 123)\" style=\"width: 10px; height: 10px;background-color: rgb(123, 234, 123);\"></td><td title=\"Index: [91, 19]&#10;Color: (123, 234, 123)\" style=\"width: 10px; height: 10px;background-color: rgb(123, 234, 123);\"></td><td title=\"Index: [91, 20]&#10;Color: (123, 234, 123)\" style=\"width: 10px; height: 10px;background-color: rgb(123, 234, 123);\"></td><td title=\"Index: [91, 21]&#10;Color: (123, 234, 123)\" style=\"width: 10px; height: 10px;background-color: rgb(123, 234, 123);\"></td><td title=\"Index: [91, 22]&#10;Color: (123, 234, 123)\" style=\"width: 10px; height: 10px;background-color: rgb(123, 234, 123);\"></td><td title=\"Index: [91, 23]&#10;Color: (123, 234, 123)\" style=\"width: 10px; height: 10px;background-color: rgb(123, 234, 123);\"></td><td title=\"Index: [91, 24]&#10;Color: (123, 234, 123)\" style=\"width: 10px; height: 10px;background-color: rgb(123, 234, 123);\"></td><td title=\"Index: [91, 25]&#10;Color: (123, 234, 123)\" style=\"width: 10px; height: 10px;background-color: rgb(123, 234, 123);\"></td><td title=\"Index: [91, 26]&#10;Color: (123, 234, 123)\" style=\"width: 10px; height: 10px;background-color: rgb(123, 234, 123);\"></td><td title=\"Index: [91, 27]&#10;Color: (123, 234, 123)\" style=\"width: 10px; height: 10px;background-color: rgb(123, 234, 123);\"></td><td title=\"Index: [91, 28]&#10;Color: (123, 234, 123)\" style=\"width: 10px; height: 10px;background-color: rgb(123, 234, 123);\"></td><td title=\"Index: [91, 29]&#10;Color: (123, 234, 123)\" style=\"width: 10px; height: 10px;background-color: rgb(123, 234, 123);\"></td><td title=\"Index: [91, 30]&#10;Color: (123, 234, 123)\" style=\"width: 10px; height: 10px;background-color: rgb(123, 234, 123);\"></td><td title=\"Index: [91, 31]&#10;Color: (123, 234, 123)\" style=\"width: 10px; height: 10px;background-color: rgb(123, 234, 123);\"></td><td title=\"Index: [91, 32]&#10;Color: (123, 234, 123)\" style=\"width: 10px; height: 10px;background-color: rgb(123, 234, 123);\"></td><td title=\"Index: [91, 33]&#10;Color: (0, 0, 0)\" style=\"width: 10px; height: 10px;background-color: rgb(0, 0, 0);\"></td><td title=\"Index: [91, 34]&#10;Color: (123, 234, 123)\" style=\"width: 10px; height: 10px;background-color: rgb(123, 234, 123);\"></td><td title=\"Index: [91, 35]&#10;Color: (123, 234, 123)\" style=\"width: 10px; height: 10px;background-color: rgb(123, 234, 123);\"></td><td title=\"Index: [91, 36]&#10;Color: (123, 234, 123)\" style=\"width: 10px; height: 10px;background-color: rgb(123, 234, 123);\"></td><td title=\"Index: [91, 37]&#10;Color: (123, 234, 123)\" style=\"width: 10px; height: 10px;background-color: rgb(123, 234, 123);\"></td><td title=\"Index: [91, 38]&#10;Color: (123, 234, 123)\" style=\"width: 10px; height: 10px;background-color: rgb(123, 234, 123);\"></td><td title=\"Index: [91, 39]&#10;Color: (123, 234, 123)\" style=\"width: 10px; height: 10px;background-color: rgb(123, 234, 123);\"></td><td title=\"Index: [91, 40]&#10;Color: (123, 234, 123)\" style=\"width: 10px; height: 10px;background-color: rgb(123, 234, 123);\"></td><td title=\"Index: [91, 41]&#10;Color: (0, 0, 0)\" style=\"width: 10px; height: 10px;background-color: rgb(0, 0, 0);\"></td><td title=\"Index: [91, 42]&#10;Color: (123, 234, 123)\" style=\"width: 10px; height: 10px;background-color: rgb(123, 234, 123);\"></td><td title=\"Index: [91, 43]&#10;Color: (123, 234, 123)\" style=\"width: 10px; height: 10px;background-color: rgb(123, 234, 123);\"></td><td title=\"Index: [91, 44]&#10;Color: (123, 234, 123)\" style=\"width: 10px; height: 10px;background-color: rgb(123, 234, 123);\"></td><td title=\"Index: [91, 45]&#10;Color: (123, 234, 123)\" style=\"width: 10px; height: 10px;background-color: rgb(123, 234, 123);\"></td><td title=\"Index: [91, 46]&#10;Color: (123, 234, 123)\" style=\"width: 10px; height: 10px;background-color: rgb(123, 234, 123);\"></td><td title=\"Index: [91, 47]&#10;Color: (0, 0, 0)\" style=\"width: 10px; height: 10px;background-color: rgb(0, 0, 0);\"></td><td title=\"Index: [91, 48]&#10;Color: (123, 234, 123)\" style=\"width: 10px; height: 10px;background-color: rgb(123, 234, 123);\"></td><td title=\"Index: [91, 49]&#10;Color: (123, 234, 123)\" style=\"width: 10px; height: 10px;background-color: rgb(123, 234, 123);\"></td></tr><tr><td title=\"Index: [92, 0]&#10;Color: (123, 234, 123)\" style=\"width: 10px; height: 10px;background-color: rgb(123, 234, 123);\"></td><td title=\"Index: [92, 1]&#10;Color: (123, 234, 123)\" style=\"width: 10px; height: 10px;background-color: rgb(123, 234, 123);\"></td><td title=\"Index: [92, 2]&#10;Color: (123, 234, 123)\" style=\"width: 10px; height: 10px;background-color: rgb(123, 234, 123);\"></td><td title=\"Index: [92, 3]&#10;Color: (0, 0, 0)\" style=\"width: 10px; height: 10px;background-color: rgb(0, 0, 0);\"></td><td title=\"Index: [92, 4]&#10;Color: (123, 234, 123)\" style=\"width: 10px; height: 10px;background-color: rgb(123, 234, 123);\"></td><td title=\"Index: [92, 5]&#10;Color: (123, 234, 123)\" style=\"width: 10px; height: 10px;background-color: rgb(123, 234, 123);\"></td><td title=\"Index: [92, 6]&#10;Color: (123, 234, 123)\" style=\"width: 10px; height: 10px;background-color: rgb(123, 234, 123);\"></td><td title=\"Index: [92, 7]&#10;Color: (123, 234, 123)\" style=\"width: 10px; height: 10px;background-color: rgb(123, 234, 123);\"></td><td title=\"Index: [92, 8]&#10;Color: (123, 234, 123)\" style=\"width: 10px; height: 10px;background-color: rgb(123, 234, 123);\"></td><td title=\"Index: [92, 9]&#10;Color: (123, 234, 123)\" style=\"width: 10px; height: 10px;background-color: rgb(123, 234, 123);\"></td><td title=\"Index: [92, 10]&#10;Color: (123, 234, 123)\" style=\"width: 10px; height: 10px;background-color: rgb(123, 234, 123);\"></td><td title=\"Index: [92, 11]&#10;Color: (123, 234, 123)\" style=\"width: 10px; height: 10px;background-color: rgb(123, 234, 123);\"></td><td title=\"Index: [92, 12]&#10;Color: (123, 234, 123)\" style=\"width: 10px; height: 10px;background-color: rgb(123, 234, 123);\"></td><td title=\"Index: [92, 13]&#10;Color: (123, 234, 123)\" style=\"width: 10px; height: 10px;background-color: rgb(123, 234, 123);\"></td><td title=\"Index: [92, 14]&#10;Color: (123, 234, 123)\" style=\"width: 10px; height: 10px;background-color: rgb(123, 234, 123);\"></td><td title=\"Index: [92, 15]&#10;Color: (123, 234, 123)\" style=\"width: 10px; height: 10px;background-color: rgb(123, 234, 123);\"></td><td title=\"Index: [92, 16]&#10;Color: (123, 234, 123)\" style=\"width: 10px; height: 10px;background-color: rgb(123, 234, 123);\"></td><td title=\"Index: [92, 17]&#10;Color: (123, 234, 123)\" style=\"width: 10px; height: 10px;background-color: rgb(123, 234, 123);\"></td><td title=\"Index: [92, 18]&#10;Color: (123, 234, 123)\" style=\"width: 10px; height: 10px;background-color: rgb(123, 234, 123);\"></td><td title=\"Index: [92, 19]&#10;Color: (123, 234, 123)\" style=\"width: 10px; height: 10px;background-color: rgb(123, 234, 123);\"></td><td title=\"Index: [92, 20]&#10;Color: (123, 234, 123)\" style=\"width: 10px; height: 10px;background-color: rgb(123, 234, 123);\"></td><td title=\"Index: [92, 21]&#10;Color: (0, 0, 0)\" style=\"width: 10px; height: 10px;background-color: rgb(0, 0, 0);\"></td><td title=\"Index: [92, 22]&#10;Color: (123, 234, 123)\" style=\"width: 10px; height: 10px;background-color: rgb(123, 234, 123);\"></td><td title=\"Index: [92, 23]&#10;Color: (123, 234, 123)\" style=\"width: 10px; height: 10px;background-color: rgb(123, 234, 123);\"></td><td title=\"Index: [92, 24]&#10;Color: (123, 234, 123)\" style=\"width: 10px; height: 10px;background-color: rgb(123, 234, 123);\"></td><td title=\"Index: [92, 25]&#10;Color: (123, 234, 123)\" style=\"width: 10px; height: 10px;background-color: rgb(123, 234, 123);\"></td><td title=\"Index: [92, 26]&#10;Color: (123, 234, 123)\" style=\"width: 10px; height: 10px;background-color: rgb(123, 234, 123);\"></td><td title=\"Index: [92, 27]&#10;Color: (123, 234, 123)\" style=\"width: 10px; height: 10px;background-color: rgb(123, 234, 123);\"></td><td title=\"Index: [92, 28]&#10;Color: (123, 234, 123)\" style=\"width: 10px; height: 10px;background-color: rgb(123, 234, 123);\"></td><td title=\"Index: [92, 29]&#10;Color: (123, 234, 123)\" style=\"width: 10px; height: 10px;background-color: rgb(123, 234, 123);\"></td><td title=\"Index: [92, 30]&#10;Color: (123, 234, 123)\" style=\"width: 10px; height: 10px;background-color: rgb(123, 234, 123);\"></td><td title=\"Index: [92, 31]&#10;Color: (123, 234, 123)\" style=\"width: 10px; height: 10px;background-color: rgb(123, 234, 123);\"></td><td title=\"Index: [92, 32]&#10;Color: (123, 234, 123)\" style=\"width: 10px; height: 10px;background-color: rgb(123, 234, 123);\"></td><td title=\"Index: [92, 33]&#10;Color: (123, 234, 123)\" style=\"width: 10px; height: 10px;background-color: rgb(123, 234, 123);\"></td><td title=\"Index: [92, 34]&#10;Color: (123, 234, 123)\" style=\"width: 10px; height: 10px;background-color: rgb(123, 234, 123);\"></td><td title=\"Index: [92, 35]&#10;Color: (123, 234, 123)\" style=\"width: 10px; height: 10px;background-color: rgb(123, 234, 123);\"></td><td title=\"Index: [92, 36]&#10;Color: (123, 234, 123)\" style=\"width: 10px; height: 10px;background-color: rgb(123, 234, 123);\"></td><td title=\"Index: [92, 37]&#10;Color: (0, 0, 0)\" style=\"width: 10px; height: 10px;background-color: rgb(0, 0, 0);\"></td><td title=\"Index: [92, 38]&#10;Color: (123, 234, 123)\" style=\"width: 10px; height: 10px;background-color: rgb(123, 234, 123);\"></td><td title=\"Index: [92, 39]&#10;Color: (0, 0, 0)\" style=\"width: 10px; height: 10px;background-color: rgb(0, 0, 0);\"></td><td title=\"Index: [92, 40]&#10;Color: (123, 234, 123)\" style=\"width: 10px; height: 10px;background-color: rgb(123, 234, 123);\"></td><td title=\"Index: [92, 41]&#10;Color: (123, 234, 123)\" style=\"width: 10px; height: 10px;background-color: rgb(123, 234, 123);\"></td><td title=\"Index: [92, 42]&#10;Color: (123, 234, 123)\" style=\"width: 10px; height: 10px;background-color: rgb(123, 234, 123);\"></td><td title=\"Index: [92, 43]&#10;Color: (0, 0, 0)\" style=\"width: 10px; height: 10px;background-color: rgb(0, 0, 0);\"></td><td title=\"Index: [92, 44]&#10;Color: (123, 234, 123)\" style=\"width: 10px; height: 10px;background-color: rgb(123, 234, 123);\"></td><td title=\"Index: [92, 45]&#10;Color: (123, 234, 123)\" style=\"width: 10px; height: 10px;background-color: rgb(123, 234, 123);\"></td><td title=\"Index: [92, 46]&#10;Color: (123, 234, 123)\" style=\"width: 10px; height: 10px;background-color: rgb(123, 234, 123);\"></td><td title=\"Index: [92, 47]&#10;Color: (123, 234, 123)\" style=\"width: 10px; height: 10px;background-color: rgb(123, 234, 123);\"></td><td title=\"Index: [92, 48]&#10;Color: (123, 234, 123)\" style=\"width: 10px; height: 10px;background-color: rgb(123, 234, 123);\"></td><td title=\"Index: [92, 49]&#10;Color: (0, 0, 0)\" style=\"width: 10px; height: 10px;background-color: rgb(0, 0, 0);\"></td></tr><tr><td title=\"Index: [93, 0]&#10;Color: (123, 234, 123)\" style=\"width: 10px; height: 10px;background-color: rgb(123, 234, 123);\"></td><td title=\"Index: [93, 1]&#10;Color: (0, 0, 0)\" style=\"width: 10px; height: 10px;background-color: rgb(0, 0, 0);\"></td><td title=\"Index: [93, 2]&#10;Color: (123, 234, 123)\" style=\"width: 10px; height: 10px;background-color: rgb(123, 234, 123);\"></td><td title=\"Index: [93, 3]&#10;Color: (123, 234, 123)\" style=\"width: 10px; height: 10px;background-color: rgb(123, 234, 123);\"></td><td title=\"Index: [93, 4]&#10;Color: (123, 234, 123)\" style=\"width: 10px; height: 10px;background-color: rgb(123, 234, 123);\"></td><td title=\"Index: [93, 5]&#10;Color: (123, 234, 123)\" style=\"width: 10px; height: 10px;background-color: rgb(123, 234, 123);\"></td><td title=\"Index: [93, 6]&#10;Color: (123, 234, 123)\" style=\"width: 10px; height: 10px;background-color: rgb(123, 234, 123);\"></td><td title=\"Index: [93, 7]&#10;Color: (0, 0, 0)\" style=\"width: 10px; height: 10px;background-color: rgb(0, 0, 0);\"></td><td title=\"Index: [93, 8]&#10;Color: (123, 234, 123)\" style=\"width: 10px; height: 10px;background-color: rgb(123, 234, 123);\"></td><td title=\"Index: [93, 9]&#10;Color: (123, 234, 123)\" style=\"width: 10px; height: 10px;background-color: rgb(123, 234, 123);\"></td><td title=\"Index: [93, 10]&#10;Color: (123, 234, 123)\" style=\"width: 10px; height: 10px;background-color: rgb(123, 234, 123);\"></td><td title=\"Index: [93, 11]&#10;Color: (123, 234, 123)\" style=\"width: 10px; height: 10px;background-color: rgb(123, 234, 123);\"></td><td title=\"Index: [93, 12]&#10;Color: (123, 234, 123)\" style=\"width: 10px; height: 10px;background-color: rgb(123, 234, 123);\"></td><td title=\"Index: [93, 13]&#10;Color: (0, 0, 0)\" style=\"width: 10px; height: 10px;background-color: rgb(0, 0, 0);\"></td><td title=\"Index: [93, 14]&#10;Color: (123, 234, 123)\" style=\"width: 10px; height: 10px;background-color: rgb(123, 234, 123);\"></td><td title=\"Index: [93, 15]&#10;Color: (123, 234, 123)\" style=\"width: 10px; height: 10px;background-color: rgb(123, 234, 123);\"></td><td title=\"Index: [93, 16]&#10;Color: (123, 234, 123)\" style=\"width: 10px; height: 10px;background-color: rgb(123, 234, 123);\"></td><td title=\"Index: [93, 17]&#10;Color: (123, 234, 123)\" style=\"width: 10px; height: 10px;background-color: rgb(123, 234, 123);\"></td><td title=\"Index: [93, 18]&#10;Color: (123, 234, 123)\" style=\"width: 10px; height: 10px;background-color: rgb(123, 234, 123);\"></td><td title=\"Index: [93, 19]&#10;Color: (123, 234, 123)\" style=\"width: 10px; height: 10px;background-color: rgb(123, 234, 123);\"></td><td title=\"Index: [93, 20]&#10;Color: (123, 234, 123)\" style=\"width: 10px; height: 10px;background-color: rgb(123, 234, 123);\"></td><td title=\"Index: [93, 21]&#10;Color: (123, 234, 123)\" style=\"width: 10px; height: 10px;background-color: rgb(123, 234, 123);\"></td><td title=\"Index: [93, 22]&#10;Color: (123, 234, 123)\" style=\"width: 10px; height: 10px;background-color: rgb(123, 234, 123);\"></td><td title=\"Index: [93, 23]&#10;Color: (0, 0, 0)\" style=\"width: 10px; height: 10px;background-color: rgb(0, 0, 0);\"></td><td title=\"Index: [93, 24]&#10;Color: (123, 234, 123)\" style=\"width: 10px; height: 10px;background-color: rgb(123, 234, 123);\"></td><td title=\"Index: [93, 25]&#10;Color: (123, 234, 123)\" style=\"width: 10px; height: 10px;background-color: rgb(123, 234, 123);\"></td><td title=\"Index: [93, 26]&#10;Color: (123, 234, 123)\" style=\"width: 10px; height: 10px;background-color: rgb(123, 234, 123);\"></td><td title=\"Index: [93, 27]&#10;Color: (123, 234, 123)\" style=\"width: 10px; height: 10px;background-color: rgb(123, 234, 123);\"></td><td title=\"Index: [93, 28]&#10;Color: (123, 234, 123)\" style=\"width: 10px; height: 10px;background-color: rgb(123, 234, 123);\"></td><td title=\"Index: [93, 29]&#10;Color: (0, 0, 0)\" style=\"width: 10px; height: 10px;background-color: rgb(0, 0, 0);\"></td><td title=\"Index: [93, 30]&#10;Color: (123, 234, 123)\" style=\"width: 10px; height: 10px;background-color: rgb(123, 234, 123);\"></td><td title=\"Index: [93, 31]&#10;Color: (123, 234, 123)\" style=\"width: 10px; height: 10px;background-color: rgb(123, 234, 123);\"></td><td title=\"Index: [93, 32]&#10;Color: (123, 234, 123)\" style=\"width: 10px; height: 10px;background-color: rgb(123, 234, 123);\"></td><td title=\"Index: [93, 33]&#10;Color: (123, 234, 123)\" style=\"width: 10px; height: 10px;background-color: rgb(123, 234, 123);\"></td><td title=\"Index: [93, 34]&#10;Color: (123, 234, 123)\" style=\"width: 10px; height: 10px;background-color: rgb(123, 234, 123);\"></td><td title=\"Index: [93, 35]&#10;Color: (123, 234, 123)\" style=\"width: 10px; height: 10px;background-color: rgb(123, 234, 123);\"></td><td title=\"Index: [93, 36]&#10;Color: (123, 234, 123)\" style=\"width: 10px; height: 10px;background-color: rgb(123, 234, 123);\"></td><td title=\"Index: [93, 37]&#10;Color: (123, 234, 123)\" style=\"width: 10px; height: 10px;background-color: rgb(123, 234, 123);\"></td><td title=\"Index: [93, 38]&#10;Color: (123, 234, 123)\" style=\"width: 10px; height: 10px;background-color: rgb(123, 234, 123);\"></td><td title=\"Index: [93, 39]&#10;Color: (123, 234, 123)\" style=\"width: 10px; height: 10px;background-color: rgb(123, 234, 123);\"></td><td title=\"Index: [93, 40]&#10;Color: (123, 234, 123)\" style=\"width: 10px; height: 10px;background-color: rgb(123, 234, 123);\"></td><td title=\"Index: [93, 41]&#10;Color: (0, 0, 0)\" style=\"width: 10px; height: 10px;background-color: rgb(0, 0, 0);\"></td><td title=\"Index: [93, 42]&#10;Color: (123, 234, 123)\" style=\"width: 10px; height: 10px;background-color: rgb(123, 234, 123);\"></td><td title=\"Index: [93, 43]&#10;Color: (123, 234, 123)\" style=\"width: 10px; height: 10px;background-color: rgb(123, 234, 123);\"></td><td title=\"Index: [93, 44]&#10;Color: (123, 234, 123)\" style=\"width: 10px; height: 10px;background-color: rgb(123, 234, 123);\"></td><td title=\"Index: [93, 45]&#10;Color: (123, 234, 123)\" style=\"width: 10px; height: 10px;background-color: rgb(123, 234, 123);\"></td><td title=\"Index: [93, 46]&#10;Color: (123, 234, 123)\" style=\"width: 10px; height: 10px;background-color: rgb(123, 234, 123);\"></td><td title=\"Index: [93, 47]&#10;Color: (123, 234, 123)\" style=\"width: 10px; height: 10px;background-color: rgb(123, 234, 123);\"></td><td title=\"Index: [93, 48]&#10;Color: (123, 234, 123)\" style=\"width: 10px; height: 10px;background-color: rgb(123, 234, 123);\"></td><td title=\"Index: [93, 49]&#10;Color: (123, 234, 123)\" style=\"width: 10px; height: 10px;background-color: rgb(123, 234, 123);\"></td></tr><tr><td title=\"Index: [94, 0]&#10;Color: (123, 234, 123)\" style=\"width: 10px; height: 10px;background-color: rgb(123, 234, 123);\"></td><td title=\"Index: [94, 1]&#10;Color: (123, 234, 123)\" style=\"width: 10px; height: 10px;background-color: rgb(123, 234, 123);\"></td><td title=\"Index: [94, 2]&#10;Color: (123, 234, 123)\" style=\"width: 10px; height: 10px;background-color: rgb(123, 234, 123);\"></td><td title=\"Index: [94, 3]&#10;Color: (0, 0, 0)\" style=\"width: 10px; height: 10px;background-color: rgb(0, 0, 0);\"></td><td title=\"Index: [94, 4]&#10;Color: (123, 234, 123)\" style=\"width: 10px; height: 10px;background-color: rgb(123, 234, 123);\"></td><td title=\"Index: [94, 5]&#10;Color: (123, 234, 123)\" style=\"width: 10px; height: 10px;background-color: rgb(123, 234, 123);\"></td><td title=\"Index: [94, 6]&#10;Color: (123, 234, 123)\" style=\"width: 10px; height: 10px;background-color: rgb(123, 234, 123);\"></td><td title=\"Index: [94, 7]&#10;Color: (123, 234, 123)\" style=\"width: 10px; height: 10px;background-color: rgb(123, 234, 123);\"></td><td title=\"Index: [94, 8]&#10;Color: (123, 234, 123)\" style=\"width: 10px; height: 10px;background-color: rgb(123, 234, 123);\"></td><td title=\"Index: [94, 9]&#10;Color: (123, 234, 123)\" style=\"width: 10px; height: 10px;background-color: rgb(123, 234, 123);\"></td><td title=\"Index: [94, 10]&#10;Color: (123, 234, 123)\" style=\"width: 10px; height: 10px;background-color: rgb(123, 234, 123);\"></td><td title=\"Index: [94, 11]&#10;Color: (123, 234, 123)\" style=\"width: 10px; height: 10px;background-color: rgb(123, 234, 123);\"></td><td title=\"Index: [94, 12]&#10;Color: (123, 234, 123)\" style=\"width: 10px; height: 10px;background-color: rgb(123, 234, 123);\"></td><td title=\"Index: [94, 13]&#10;Color: (123, 234, 123)\" style=\"width: 10px; height: 10px;background-color: rgb(123, 234, 123);\"></td><td title=\"Index: [94, 14]&#10;Color: (123, 234, 123)\" style=\"width: 10px; height: 10px;background-color: rgb(123, 234, 123);\"></td><td title=\"Index: [94, 15]&#10;Color: (123, 234, 123)\" style=\"width: 10px; height: 10px;background-color: rgb(123, 234, 123);\"></td><td title=\"Index: [94, 16]&#10;Color: (123, 234, 123)\" style=\"width: 10px; height: 10px;background-color: rgb(123, 234, 123);\"></td><td title=\"Index: [94, 17]&#10;Color: (123, 234, 123)\" style=\"width: 10px; height: 10px;background-color: rgb(123, 234, 123);\"></td><td title=\"Index: [94, 18]&#10;Color: (123, 234, 123)\" style=\"width: 10px; height: 10px;background-color: rgb(123, 234, 123);\"></td><td title=\"Index: [94, 19]&#10;Color: (123, 234, 123)\" style=\"width: 10px; height: 10px;background-color: rgb(123, 234, 123);\"></td><td title=\"Index: [94, 20]&#10;Color: (123, 234, 123)\" style=\"width: 10px; height: 10px;background-color: rgb(123, 234, 123);\"></td><td title=\"Index: [94, 21]&#10;Color: (0, 0, 0)\" style=\"width: 10px; height: 10px;background-color: rgb(0, 0, 0);\"></td><td title=\"Index: [94, 22]&#10;Color: (123, 234, 123)\" style=\"width: 10px; height: 10px;background-color: rgb(123, 234, 123);\"></td><td title=\"Index: [94, 23]&#10;Color: (0, 0, 0)\" style=\"width: 10px; height: 10px;background-color: rgb(0, 0, 0);\"></td><td title=\"Index: [94, 24]&#10;Color: (123, 234, 123)\" style=\"width: 10px; height: 10px;background-color: rgb(123, 234, 123);\"></td><td title=\"Index: [94, 25]&#10;Color: (123, 234, 123)\" style=\"width: 10px; height: 10px;background-color: rgb(123, 234, 123);\"></td><td title=\"Index: [94, 26]&#10;Color: (123, 234, 123)\" style=\"width: 10px; height: 10px;background-color: rgb(123, 234, 123);\"></td><td title=\"Index: [94, 27]&#10;Color: (123, 234, 123)\" style=\"width: 10px; height: 10px;background-color: rgb(123, 234, 123);\"></td><td title=\"Index: [94, 28]&#10;Color: (123, 234, 123)\" style=\"width: 10px; height: 10px;background-color: rgb(123, 234, 123);\"></td><td title=\"Index: [94, 29]&#10;Color: (0, 0, 0)\" style=\"width: 10px; height: 10px;background-color: rgb(0, 0, 0);\"></td><td title=\"Index: [94, 30]&#10;Color: (123, 234, 123)\" style=\"width: 10px; height: 10px;background-color: rgb(123, 234, 123);\"></td><td title=\"Index: [94, 31]&#10;Color: (123, 234, 123)\" style=\"width: 10px; height: 10px;background-color: rgb(123, 234, 123);\"></td><td title=\"Index: [94, 32]&#10;Color: (123, 234, 123)\" style=\"width: 10px; height: 10px;background-color: rgb(123, 234, 123);\"></td><td title=\"Index: [94, 33]&#10;Color: (0, 0, 0)\" style=\"width: 10px; height: 10px;background-color: rgb(0, 0, 0);\"></td><td title=\"Index: [94, 34]&#10;Color: (123, 234, 123)\" style=\"width: 10px; height: 10px;background-color: rgb(123, 234, 123);\"></td><td title=\"Index: [94, 35]&#10;Color: (123, 234, 123)\" style=\"width: 10px; height: 10px;background-color: rgb(123, 234, 123);\"></td><td title=\"Index: [94, 36]&#10;Color: (123, 234, 123)\" style=\"width: 10px; height: 10px;background-color: rgb(123, 234, 123);\"></td><td title=\"Index: [94, 37]&#10;Color: (123, 234, 123)\" style=\"width: 10px; height: 10px;background-color: rgb(123, 234, 123);\"></td><td title=\"Index: [94, 38]&#10;Color: (123, 234, 123)\" style=\"width: 10px; height: 10px;background-color: rgb(123, 234, 123);\"></td><td title=\"Index: [94, 39]&#10;Color: (123, 234, 123)\" style=\"width: 10px; height: 10px;background-color: rgb(123, 234, 123);\"></td><td title=\"Index: [94, 40]&#10;Color: (123, 234, 123)\" style=\"width: 10px; height: 10px;background-color: rgb(123, 234, 123);\"></td><td title=\"Index: [94, 41]&#10;Color: (123, 234, 123)\" style=\"width: 10px; height: 10px;background-color: rgb(123, 234, 123);\"></td><td title=\"Index: [94, 42]&#10;Color: (123, 234, 123)\" style=\"width: 10px; height: 10px;background-color: rgb(123, 234, 123);\"></td><td title=\"Index: [94, 43]&#10;Color: (123, 234, 123)\" style=\"width: 10px; height: 10px;background-color: rgb(123, 234, 123);\"></td><td title=\"Index: [94, 44]&#10;Color: (123, 234, 123)\" style=\"width: 10px; height: 10px;background-color: rgb(123, 234, 123);\"></td><td title=\"Index: [94, 45]&#10;Color: (123, 234, 123)\" style=\"width: 10px; height: 10px;background-color: rgb(123, 234, 123);\"></td><td title=\"Index: [94, 46]&#10;Color: (123, 234, 123)\" style=\"width: 10px; height: 10px;background-color: rgb(123, 234, 123);\"></td><td title=\"Index: [94, 47]&#10;Color: (123, 234, 123)\" style=\"width: 10px; height: 10px;background-color: rgb(123, 234, 123);\"></td><td title=\"Index: [94, 48]&#10;Color: (123, 234, 123)\" style=\"width: 10px; height: 10px;background-color: rgb(123, 234, 123);\"></td><td title=\"Index: [94, 49]&#10;Color: (123, 234, 123)\" style=\"width: 10px; height: 10px;background-color: rgb(123, 234, 123);\"></td></tr><tr><td title=\"Index: [95, 0]&#10;Color: (123, 234, 123)\" style=\"width: 10px; height: 10px;background-color: rgb(123, 234, 123);\"></td><td title=\"Index: [95, 1]&#10;Color: (0, 0, 0)\" style=\"width: 10px; height: 10px;background-color: rgb(0, 0, 0);\"></td><td title=\"Index: [95, 2]&#10;Color: (123, 234, 123)\" style=\"width: 10px; height: 10px;background-color: rgb(123, 234, 123);\"></td><td title=\"Index: [95, 3]&#10;Color: (123, 234, 123)\" style=\"width: 10px; height: 10px;background-color: rgb(123, 234, 123);\"></td><td title=\"Index: [95, 4]&#10;Color: (123, 234, 123)\" style=\"width: 10px; height: 10px;background-color: rgb(123, 234, 123);\"></td><td title=\"Index: [95, 5]&#10;Color: (123, 234, 123)\" style=\"width: 10px; height: 10px;background-color: rgb(123, 234, 123);\"></td><td title=\"Index: [95, 6]&#10;Color: (123, 234, 123)\" style=\"width: 10px; height: 10px;background-color: rgb(123, 234, 123);\"></td><td title=\"Index: [95, 7]&#10;Color: (123, 234, 123)\" style=\"width: 10px; height: 10px;background-color: rgb(123, 234, 123);\"></td><td title=\"Index: [95, 8]&#10;Color: (123, 234, 123)\" style=\"width: 10px; height: 10px;background-color: rgb(123, 234, 123);\"></td><td title=\"Index: [95, 9]&#10;Color: (0, 0, 0)\" style=\"width: 10px; height: 10px;background-color: rgb(0, 0, 0);\"></td><td title=\"Index: [95, 10]&#10;Color: (123, 234, 123)\" style=\"width: 10px; height: 10px;background-color: rgb(123, 234, 123);\"></td><td title=\"Index: [95, 11]&#10;Color: (123, 234, 123)\" style=\"width: 10px; height: 10px;background-color: rgb(123, 234, 123);\"></td><td title=\"Index: [95, 12]&#10;Color: (123, 234, 123)\" style=\"width: 10px; height: 10px;background-color: rgb(123, 234, 123);\"></td><td title=\"Index: [95, 13]&#10;Color: (123, 234, 123)\" style=\"width: 10px; height: 10px;background-color: rgb(123, 234, 123);\"></td><td title=\"Index: [95, 14]&#10;Color: (123, 234, 123)\" style=\"width: 10px; height: 10px;background-color: rgb(123, 234, 123);\"></td><td title=\"Index: [95, 15]&#10;Color: (123, 234, 123)\" style=\"width: 10px; height: 10px;background-color: rgb(123, 234, 123);\"></td><td title=\"Index: [95, 16]&#10;Color: (123, 234, 123)\" style=\"width: 10px; height: 10px;background-color: rgb(123, 234, 123);\"></td><td title=\"Index: [95, 17]&#10;Color: (123, 234, 123)\" style=\"width: 10px; height: 10px;background-color: rgb(123, 234, 123);\"></td><td title=\"Index: [95, 18]&#10;Color: (123, 234, 123)\" style=\"width: 10px; height: 10px;background-color: rgb(123, 234, 123);\"></td><td title=\"Index: [95, 19]&#10;Color: (123, 234, 123)\" style=\"width: 10px; height: 10px;background-color: rgb(123, 234, 123);\"></td><td title=\"Index: [95, 20]&#10;Color: (123, 234, 123)\" style=\"width: 10px; height: 10px;background-color: rgb(123, 234, 123);\"></td><td title=\"Index: [95, 21]&#10;Color: (123, 234, 123)\" style=\"width: 10px; height: 10px;background-color: rgb(123, 234, 123);\"></td><td title=\"Index: [95, 22]&#10;Color: (123, 234, 123)\" style=\"width: 10px; height: 10px;background-color: rgb(123, 234, 123);\"></td><td title=\"Index: [95, 23]&#10;Color: (123, 234, 123)\" style=\"width: 10px; height: 10px;background-color: rgb(123, 234, 123);\"></td><td title=\"Index: [95, 24]&#10;Color: (123, 234, 123)\" style=\"width: 10px; height: 10px;background-color: rgb(123, 234, 123);\"></td><td title=\"Index: [95, 25]&#10;Color: (123, 234, 123)\" style=\"width: 10px; height: 10px;background-color: rgb(123, 234, 123);\"></td><td title=\"Index: [95, 26]&#10;Color: (123, 234, 123)\" style=\"width: 10px; height: 10px;background-color: rgb(123, 234, 123);\"></td><td title=\"Index: [95, 27]&#10;Color: (123, 234, 123)\" style=\"width: 10px; height: 10px;background-color: rgb(123, 234, 123);\"></td><td title=\"Index: [95, 28]&#10;Color: (123, 234, 123)\" style=\"width: 10px; height: 10px;background-color: rgb(123, 234, 123);\"></td><td title=\"Index: [95, 29]&#10;Color: (123, 234, 123)\" style=\"width: 10px; height: 10px;background-color: rgb(123, 234, 123);\"></td><td title=\"Index: [95, 30]&#10;Color: (123, 234, 123)\" style=\"width: 10px; height: 10px;background-color: rgb(123, 234, 123);\"></td><td title=\"Index: [95, 31]&#10;Color: (123, 234, 123)\" style=\"width: 10px; height: 10px;background-color: rgb(123, 234, 123);\"></td><td title=\"Index: [95, 32]&#10;Color: (123, 234, 123)\" style=\"width: 10px; height: 10px;background-color: rgb(123, 234, 123);\"></td><td title=\"Index: [95, 33]&#10;Color: (0, 0, 0)\" style=\"width: 10px; height: 10px;background-color: rgb(0, 0, 0);\"></td><td title=\"Index: [95, 34]&#10;Color: (123, 234, 123)\" style=\"width: 10px; height: 10px;background-color: rgb(123, 234, 123);\"></td><td title=\"Index: [95, 35]&#10;Color: (123, 234, 123)\" style=\"width: 10px; height: 10px;background-color: rgb(123, 234, 123);\"></td><td title=\"Index: [95, 36]&#10;Color: (123, 234, 123)\" style=\"width: 10px; height: 10px;background-color: rgb(123, 234, 123);\"></td><td title=\"Index: [95, 37]&#10;Color: (0, 0, 0)\" style=\"width: 10px; height: 10px;background-color: rgb(0, 0, 0);\"></td><td title=\"Index: [95, 38]&#10;Color: (123, 234, 123)\" style=\"width: 10px; height: 10px;background-color: rgb(123, 234, 123);\"></td><td title=\"Index: [95, 39]&#10;Color: (0, 0, 0)\" style=\"width: 10px; height: 10px;background-color: rgb(0, 0, 0);\"></td><td title=\"Index: [95, 40]&#10;Color: (123, 234, 123)\" style=\"width: 10px; height: 10px;background-color: rgb(123, 234, 123);\"></td><td title=\"Index: [95, 41]&#10;Color: (123, 234, 123)\" style=\"width: 10px; height: 10px;background-color: rgb(123, 234, 123);\"></td><td title=\"Index: [95, 42]&#10;Color: (123, 234, 123)\" style=\"width: 10px; height: 10px;background-color: rgb(123, 234, 123);\"></td><td title=\"Index: [95, 43]&#10;Color: (0, 0, 0)\" style=\"width: 10px; height: 10px;background-color: rgb(0, 0, 0);\"></td><td title=\"Index: [95, 44]&#10;Color: (123, 234, 123)\" style=\"width: 10px; height: 10px;background-color: rgb(123, 234, 123);\"></td><td title=\"Index: [95, 45]&#10;Color: (123, 234, 123)\" style=\"width: 10px; height: 10px;background-color: rgb(123, 234, 123);\"></td><td title=\"Index: [95, 46]&#10;Color: (123, 234, 123)\" style=\"width: 10px; height: 10px;background-color: rgb(123, 234, 123);\"></td><td title=\"Index: [95, 47]&#10;Color: (123, 234, 123)\" style=\"width: 10px; height: 10px;background-color: rgb(123, 234, 123);\"></td><td title=\"Index: [95, 48]&#10;Color: (123, 234, 123)\" style=\"width: 10px; height: 10px;background-color: rgb(123, 234, 123);\"></td><td title=\"Index: [95, 49]&#10;Color: (0, 0, 0)\" style=\"width: 10px; height: 10px;background-color: rgb(0, 0, 0);\"></td></tr><tr><td title=\"Index: [96, 0]&#10;Color: (123, 234, 123)\" style=\"width: 10px; height: 10px;background-color: rgb(123, 234, 123);\"></td><td title=\"Index: [96, 1]&#10;Color: (0, 0, 0)\" style=\"width: 10px; height: 10px;background-color: rgb(0, 0, 0);\"></td><td title=\"Index: [96, 2]&#10;Color: (123, 234, 123)\" style=\"width: 10px; height: 10px;background-color: rgb(123, 234, 123);\"></td><td title=\"Index: [96, 3]&#10;Color: (123, 234, 123)\" style=\"width: 10px; height: 10px;background-color: rgb(123, 234, 123);\"></td><td title=\"Index: [96, 4]&#10;Color: (123, 234, 123)\" style=\"width: 10px; height: 10px;background-color: rgb(123, 234, 123);\"></td><td title=\"Index: [96, 5]&#10;Color: (123, 234, 123)\" style=\"width: 10px; height: 10px;background-color: rgb(123, 234, 123);\"></td><td title=\"Index: [96, 6]&#10;Color: (123, 234, 123)\" style=\"width: 10px; height: 10px;background-color: rgb(123, 234, 123);\"></td><td title=\"Index: [96, 7]&#10;Color: (123, 234, 123)\" style=\"width: 10px; height: 10px;background-color: rgb(123, 234, 123);\"></td><td title=\"Index: [96, 8]&#10;Color: (123, 234, 123)\" style=\"width: 10px; height: 10px;background-color: rgb(123, 234, 123);\"></td><td title=\"Index: [96, 9]&#10;Color: (123, 234, 123)\" style=\"width: 10px; height: 10px;background-color: rgb(123, 234, 123);\"></td><td title=\"Index: [96, 10]&#10;Color: (123, 234, 123)\" style=\"width: 10px; height: 10px;background-color: rgb(123, 234, 123);\"></td><td title=\"Index: [96, 11]&#10;Color: (123, 234, 123)\" style=\"width: 10px; height: 10px;background-color: rgb(123, 234, 123);\"></td><td title=\"Index: [96, 12]&#10;Color: (123, 234, 123)\" style=\"width: 10px; height: 10px;background-color: rgb(123, 234, 123);\"></td><td title=\"Index: [96, 13]&#10;Color: (0, 0, 0)\" style=\"width: 10px; height: 10px;background-color: rgb(0, 0, 0);\"></td><td title=\"Index: [96, 14]&#10;Color: (123, 234, 123)\" style=\"width: 10px; height: 10px;background-color: rgb(123, 234, 123);\"></td><td title=\"Index: [96, 15]&#10;Color: (123, 234, 123)\" style=\"width: 10px; height: 10px;background-color: rgb(123, 234, 123);\"></td><td title=\"Index: [96, 16]&#10;Color: (123, 234, 123)\" style=\"width: 10px; height: 10px;background-color: rgb(123, 234, 123);\"></td><td title=\"Index: [96, 17]&#10;Color: (0, 0, 0)\" style=\"width: 10px; height: 10px;background-color: rgb(0, 0, 0);\"></td><td title=\"Index: [96, 18]&#10;Color: (123, 234, 123)\" style=\"width: 10px; height: 10px;background-color: rgb(123, 234, 123);\"></td><td title=\"Index: [96, 19]&#10;Color: (123, 234, 123)\" style=\"width: 10px; height: 10px;background-color: rgb(123, 234, 123);\"></td><td title=\"Index: [96, 20]&#10;Color: (123, 234, 123)\" style=\"width: 10px; height: 10px;background-color: rgb(123, 234, 123);\"></td><td title=\"Index: [96, 21]&#10;Color: (123, 234, 123)\" style=\"width: 10px; height: 10px;background-color: rgb(123, 234, 123);\"></td><td title=\"Index: [96, 22]&#10;Color: (123, 234, 123)\" style=\"width: 10px; height: 10px;background-color: rgb(123, 234, 123);\"></td><td title=\"Index: [96, 23]&#10;Color: (123, 234, 123)\" style=\"width: 10px; height: 10px;background-color: rgb(123, 234, 123);\"></td><td title=\"Index: [96, 24]&#10;Color: (123, 234, 123)\" style=\"width: 10px; height: 10px;background-color: rgb(123, 234, 123);\"></td><td title=\"Index: [96, 25]&#10;Color: (123, 234, 123)\" style=\"width: 10px; height: 10px;background-color: rgb(123, 234, 123);\"></td><td title=\"Index: [96, 26]&#10;Color: (123, 234, 123)\" style=\"width: 10px; height: 10px;background-color: rgb(123, 234, 123);\"></td><td title=\"Index: [96, 27]&#10;Color: (123, 234, 123)\" style=\"width: 10px; height: 10px;background-color: rgb(123, 234, 123);\"></td><td title=\"Index: [96, 28]&#10;Color: (123, 234, 123)\" style=\"width: 10px; height: 10px;background-color: rgb(123, 234, 123);\"></td><td title=\"Index: [96, 29]&#10;Color: (123, 234, 123)\" style=\"width: 10px; height: 10px;background-color: rgb(123, 234, 123);\"></td><td title=\"Index: [96, 30]&#10;Color: (123, 234, 123)\" style=\"width: 10px; height: 10px;background-color: rgb(123, 234, 123);\"></td><td title=\"Index: [96, 31]&#10;Color: (0, 0, 0)\" style=\"width: 10px; height: 10px;background-color: rgb(0, 0, 0);\"></td><td title=\"Index: [96, 32]&#10;Color: (123, 234, 123)\" style=\"width: 10px; height: 10px;background-color: rgb(123, 234, 123);\"></td><td title=\"Index: [96, 33]&#10;Color: (123, 234, 123)\" style=\"width: 10px; height: 10px;background-color: rgb(123, 234, 123);\"></td><td title=\"Index: [96, 34]&#10;Color: (123, 234, 123)\" style=\"width: 10px; height: 10px;background-color: rgb(123, 234, 123);\"></td><td title=\"Index: [96, 35]&#10;Color: (123, 234, 123)\" style=\"width: 10px; height: 10px;background-color: rgb(123, 234, 123);\"></td><td title=\"Index: [96, 36]&#10;Color: (123, 234, 123)\" style=\"width: 10px; height: 10px;background-color: rgb(123, 234, 123);\"></td><td title=\"Index: [96, 37]&#10;Color: (123, 234, 123)\" style=\"width: 10px; height: 10px;background-color: rgb(123, 234, 123);\"></td><td title=\"Index: [96, 38]&#10;Color: (123, 234, 123)\" style=\"width: 10px; height: 10px;background-color: rgb(123, 234, 123);\"></td><td title=\"Index: [96, 39]&#10;Color: (123, 234, 123)\" style=\"width: 10px; height: 10px;background-color: rgb(123, 234, 123);\"></td><td title=\"Index: [96, 40]&#10;Color: (123, 234, 123)\" style=\"width: 10px; height: 10px;background-color: rgb(123, 234, 123);\"></td><td title=\"Index: [96, 41]&#10;Color: (123, 234, 123)\" style=\"width: 10px; height: 10px;background-color: rgb(123, 234, 123);\"></td><td title=\"Index: [96, 42]&#10;Color: (123, 234, 123)\" style=\"width: 10px; height: 10px;background-color: rgb(123, 234, 123);\"></td><td title=\"Index: [96, 43]&#10;Color: (123, 234, 123)\" style=\"width: 10px; height: 10px;background-color: rgb(123, 234, 123);\"></td><td title=\"Index: [96, 44]&#10;Color: (123, 234, 123)\" style=\"width: 10px; height: 10px;background-color: rgb(123, 234, 123);\"></td><td title=\"Index: [96, 45]&#10;Color: (123, 234, 123)\" style=\"width: 10px; height: 10px;background-color: rgb(123, 234, 123);\"></td><td title=\"Index: [96, 46]&#10;Color: (123, 234, 123)\" style=\"width: 10px; height: 10px;background-color: rgb(123, 234, 123);\"></td><td title=\"Index: [96, 47]&#10;Color: (123, 234, 123)\" style=\"width: 10px; height: 10px;background-color: rgb(123, 234, 123);\"></td><td title=\"Index: [96, 48]&#10;Color: (123, 234, 123)\" style=\"width: 10px; height: 10px;background-color: rgb(123, 234, 123);\"></td><td title=\"Index: [96, 49]&#10;Color: (123, 234, 123)\" style=\"width: 10px; height: 10px;background-color: rgb(123, 234, 123);\"></td></tr><tr><td title=\"Index: [97, 0]&#10;Color: (123, 234, 123)\" style=\"width: 10px; height: 10px;background-color: rgb(123, 234, 123);\"></td><td title=\"Index: [97, 1]&#10;Color: (123, 234, 123)\" style=\"width: 10px; height: 10px;background-color: rgb(123, 234, 123);\"></td><td title=\"Index: [97, 2]&#10;Color: (123, 234, 123)\" style=\"width: 10px; height: 10px;background-color: rgb(123, 234, 123);\"></td><td title=\"Index: [97, 3]&#10;Color: (123, 234, 123)\" style=\"width: 10px; height: 10px;background-color: rgb(123, 234, 123);\"></td><td title=\"Index: [97, 4]&#10;Color: (123, 234, 123)\" style=\"width: 10px; height: 10px;background-color: rgb(123, 234, 123);\"></td><td title=\"Index: [97, 5]&#10;Color: (123, 234, 123)\" style=\"width: 10px; height: 10px;background-color: rgb(123, 234, 123);\"></td><td title=\"Index: [97, 6]&#10;Color: (123, 234, 123)\" style=\"width: 10px; height: 10px;background-color: rgb(123, 234, 123);\"></td><td title=\"Index: [97, 7]&#10;Color: (123, 234, 123)\" style=\"width: 10px; height: 10px;background-color: rgb(123, 234, 123);\"></td><td title=\"Index: [97, 8]&#10;Color: (123, 234, 123)\" style=\"width: 10px; height: 10px;background-color: rgb(123, 234, 123);\"></td><td title=\"Index: [97, 9]&#10;Color: (123, 234, 123)\" style=\"width: 10px; height: 10px;background-color: rgb(123, 234, 123);\"></td><td title=\"Index: [97, 10]&#10;Color: (123, 234, 123)\" style=\"width: 10px; height: 10px;background-color: rgb(123, 234, 123);\"></td><td title=\"Index: [97, 11]&#10;Color: (0, 0, 0)\" style=\"width: 10px; height: 10px;background-color: rgb(0, 0, 0);\"></td><td title=\"Index: [97, 12]&#10;Color: (123, 234, 123)\" style=\"width: 10px; height: 10px;background-color: rgb(123, 234, 123);\"></td><td title=\"Index: [97, 13]&#10;Color: (123, 234, 123)\" style=\"width: 10px; height: 10px;background-color: rgb(123, 234, 123);\"></td><td title=\"Index: [97, 14]&#10;Color: (123, 234, 123)\" style=\"width: 10px; height: 10px;background-color: rgb(123, 234, 123);\"></td><td title=\"Index: [97, 15]&#10;Color: (123, 234, 123)\" style=\"width: 10px; height: 10px;background-color: rgb(123, 234, 123);\"></td><td title=\"Index: [97, 16]&#10;Color: (123, 234, 123)\" style=\"width: 10px; height: 10px;background-color: rgb(123, 234, 123);\"></td><td title=\"Index: [97, 17]&#10;Color: (123, 234, 123)\" style=\"width: 10px; height: 10px;background-color: rgb(123, 234, 123);\"></td><td title=\"Index: [97, 18]&#10;Color: (123, 234, 123)\" style=\"width: 10px; height: 10px;background-color: rgb(123, 234, 123);\"></td><td title=\"Index: [97, 19]&#10;Color: (123, 234, 123)\" style=\"width: 10px; height: 10px;background-color: rgb(123, 234, 123);\"></td><td title=\"Index: [97, 20]&#10;Color: (123, 234, 123)\" style=\"width: 10px; height: 10px;background-color: rgb(123, 234, 123);\"></td><td title=\"Index: [97, 21]&#10;Color: (0, 0, 0)\" style=\"width: 10px; height: 10px;background-color: rgb(0, 0, 0);\"></td><td title=\"Index: [97, 22]&#10;Color: (123, 234, 123)\" style=\"width: 10px; height: 10px;background-color: rgb(123, 234, 123);\"></td><td title=\"Index: [97, 23]&#10;Color: (123, 234, 123)\" style=\"width: 10px; height: 10px;background-color: rgb(123, 234, 123);\"></td><td title=\"Index: [97, 24]&#10;Color: (123, 234, 123)\" style=\"width: 10px; height: 10px;background-color: rgb(123, 234, 123);\"></td><td title=\"Index: [97, 25]&#10;Color: (123, 234, 123)\" style=\"width: 10px; height: 10px;background-color: rgb(123, 234, 123);\"></td><td title=\"Index: [97, 26]&#10;Color: (123, 234, 123)\" style=\"width: 10px; height: 10px;background-color: rgb(123, 234, 123);\"></td><td title=\"Index: [97, 27]&#10;Color: (0, 0, 0)\" style=\"width: 10px; height: 10px;background-color: rgb(0, 0, 0);\"></td><td title=\"Index: [97, 28]&#10;Color: (123, 234, 123)\" style=\"width: 10px; height: 10px;background-color: rgb(123, 234, 123);\"></td><td title=\"Index: [97, 29]&#10;Color: (123, 234, 123)\" style=\"width: 10px; height: 10px;background-color: rgb(123, 234, 123);\"></td><td title=\"Index: [97, 30]&#10;Color: (123, 234, 123)\" style=\"width: 10px; height: 10px;background-color: rgb(123, 234, 123);\"></td><td title=\"Index: [97, 31]&#10;Color: (123, 234, 123)\" style=\"width: 10px; height: 10px;background-color: rgb(123, 234, 123);\"></td><td title=\"Index: [97, 32]&#10;Color: (123, 234, 123)\" style=\"width: 10px; height: 10px;background-color: rgb(123, 234, 123);\"></td><td title=\"Index: [97, 33]&#10;Color: (123, 234, 123)\" style=\"width: 10px; height: 10px;background-color: rgb(123, 234, 123);\"></td><td title=\"Index: [97, 34]&#10;Color: (123, 234, 123)\" style=\"width: 10px; height: 10px;background-color: rgb(123, 234, 123);\"></td><td title=\"Index: [97, 35]&#10;Color: (123, 234, 123)\" style=\"width: 10px; height: 10px;background-color: rgb(123, 234, 123);\"></td><td title=\"Index: [97, 36]&#10;Color: (123, 234, 123)\" style=\"width: 10px; height: 10px;background-color: rgb(123, 234, 123);\"></td><td title=\"Index: [97, 37]&#10;Color: (123, 234, 123)\" style=\"width: 10px; height: 10px;background-color: rgb(123, 234, 123);\"></td><td title=\"Index: [97, 38]&#10;Color: (123, 234, 123)\" style=\"width: 10px; height: 10px;background-color: rgb(123, 234, 123);\"></td><td title=\"Index: [97, 39]&#10;Color: (0, 0, 0)\" style=\"width: 10px; height: 10px;background-color: rgb(0, 0, 0);\"></td><td title=\"Index: [97, 40]&#10;Color: (123, 234, 123)\" style=\"width: 10px; height: 10px;background-color: rgb(123, 234, 123);\"></td><td title=\"Index: [97, 41]&#10;Color: (123, 234, 123)\" style=\"width: 10px; height: 10px;background-color: rgb(123, 234, 123);\"></td><td title=\"Index: [97, 42]&#10;Color: (123, 234, 123)\" style=\"width: 10px; height: 10px;background-color: rgb(123, 234, 123);\"></td><td title=\"Index: [97, 43]&#10;Color: (123, 234, 123)\" style=\"width: 10px; height: 10px;background-color: rgb(123, 234, 123);\"></td><td title=\"Index: [97, 44]&#10;Color: (123, 234, 123)\" style=\"width: 10px; height: 10px;background-color: rgb(123, 234, 123);\"></td><td title=\"Index: [97, 45]&#10;Color: (123, 234, 123)\" style=\"width: 10px; height: 10px;background-color: rgb(123, 234, 123);\"></td><td title=\"Index: [97, 46]&#10;Color: (123, 234, 123)\" style=\"width: 10px; height: 10px;background-color: rgb(123, 234, 123);\"></td><td title=\"Index: [97, 47]&#10;Color: (123, 234, 123)\" style=\"width: 10px; height: 10px;background-color: rgb(123, 234, 123);\"></td><td title=\"Index: [97, 48]&#10;Color: (123, 234, 123)\" style=\"width: 10px; height: 10px;background-color: rgb(123, 234, 123);\"></td><td title=\"Index: [97, 49]&#10;Color: (123, 234, 123)\" style=\"width: 10px; height: 10px;background-color: rgb(123, 234, 123);\"></td></tr><tr><td title=\"Index: [98, 0]&#10;Color: (123, 234, 123)\" style=\"width: 10px; height: 10px;background-color: rgb(123, 234, 123);\"></td><td title=\"Index: [98, 1]&#10;Color: (123, 234, 123)\" style=\"width: 10px; height: 10px;background-color: rgb(123, 234, 123);\"></td><td title=\"Index: [98, 2]&#10;Color: (123, 234, 123)\" style=\"width: 10px; height: 10px;background-color: rgb(123, 234, 123);\"></td><td title=\"Index: [98, 3]&#10;Color: (0, 0, 0)\" style=\"width: 10px; height: 10px;background-color: rgb(0, 0, 0);\"></td><td title=\"Index: [98, 4]&#10;Color: (123, 234, 123)\" style=\"width: 10px; height: 10px;background-color: rgb(123, 234, 123);\"></td><td title=\"Index: [98, 5]&#10;Color: (123, 234, 123)\" style=\"width: 10px; height: 10px;background-color: rgb(123, 234, 123);\"></td><td title=\"Index: [98, 6]&#10;Color: (123, 234, 123)\" style=\"width: 10px; height: 10px;background-color: rgb(123, 234, 123);\"></td><td title=\"Index: [98, 7]&#10;Color: (123, 234, 123)\" style=\"width: 10px; height: 10px;background-color: rgb(123, 234, 123);\"></td><td title=\"Index: [98, 8]&#10;Color: (123, 234, 123)\" style=\"width: 10px; height: 10px;background-color: rgb(123, 234, 123);\"></td><td title=\"Index: [98, 9]&#10;Color: (0, 0, 0)\" style=\"width: 10px; height: 10px;background-color: rgb(0, 0, 0);\"></td><td title=\"Index: [98, 10]&#10;Color: (123, 234, 123)\" style=\"width: 10px; height: 10px;background-color: rgb(123, 234, 123);\"></td><td title=\"Index: [98, 11]&#10;Color: (123, 234, 123)\" style=\"width: 10px; height: 10px;background-color: rgb(123, 234, 123);\"></td><td title=\"Index: [98, 12]&#10;Color: (123, 234, 123)\" style=\"width: 10px; height: 10px;background-color: rgb(123, 234, 123);\"></td><td title=\"Index: [98, 13]&#10;Color: (123, 234, 123)\" style=\"width: 10px; height: 10px;background-color: rgb(123, 234, 123);\"></td><td title=\"Index: [98, 14]&#10;Color: (123, 234, 123)\" style=\"width: 10px; height: 10px;background-color: rgb(123, 234, 123);\"></td><td title=\"Index: [98, 15]&#10;Color: (123, 234, 123)\" style=\"width: 10px; height: 10px;background-color: rgb(123, 234, 123);\"></td><td title=\"Index: [98, 16]&#10;Color: (123, 234, 123)\" style=\"width: 10px; height: 10px;background-color: rgb(123, 234, 123);\"></td><td title=\"Index: [98, 17]&#10;Color: (123, 234, 123)\" style=\"width: 10px; height: 10px;background-color: rgb(123, 234, 123);\"></td><td title=\"Index: [98, 18]&#10;Color: (123, 234, 123)\" style=\"width: 10px; height: 10px;background-color: rgb(123, 234, 123);\"></td><td title=\"Index: [98, 19]&#10;Color: (0, 0, 0)\" style=\"width: 10px; height: 10px;background-color: rgb(0, 0, 0);\"></td><td title=\"Index: [98, 20]&#10;Color: (123, 234, 123)\" style=\"width: 10px; height: 10px;background-color: rgb(123, 234, 123);\"></td><td title=\"Index: [98, 21]&#10;Color: (123, 234, 123)\" style=\"width: 10px; height: 10px;background-color: rgb(123, 234, 123);\"></td><td title=\"Index: [98, 22]&#10;Color: (123, 234, 123)\" style=\"width: 10px; height: 10px;background-color: rgb(123, 234, 123);\"></td><td title=\"Index: [98, 23]&#10;Color: (123, 234, 123)\" style=\"width: 10px; height: 10px;background-color: rgb(123, 234, 123);\"></td><td title=\"Index: [98, 24]&#10;Color: (123, 234, 123)\" style=\"width: 10px; height: 10px;background-color: rgb(123, 234, 123);\"></td><td title=\"Index: [98, 25]&#10;Color: (123, 234, 123)\" style=\"width: 10px; height: 10px;background-color: rgb(123, 234, 123);\"></td><td title=\"Index: [98, 26]&#10;Color: (123, 234, 123)\" style=\"width: 10px; height: 10px;background-color: rgb(123, 234, 123);\"></td><td title=\"Index: [98, 27]&#10;Color: (123, 234, 123)\" style=\"width: 10px; height: 10px;background-color: rgb(123, 234, 123);\"></td><td title=\"Index: [98, 28]&#10;Color: (123, 234, 123)\" style=\"width: 10px; height: 10px;background-color: rgb(123, 234, 123);\"></td><td title=\"Index: [98, 29]&#10;Color: (123, 234, 123)\" style=\"width: 10px; height: 10px;background-color: rgb(123, 234, 123);\"></td><td title=\"Index: [98, 30]&#10;Color: (123, 234, 123)\" style=\"width: 10px; height: 10px;background-color: rgb(123, 234, 123);\"></td><td title=\"Index: [98, 31]&#10;Color: (0, 0, 0)\" style=\"width: 10px; height: 10px;background-color: rgb(0, 0, 0);\"></td><td title=\"Index: [98, 32]&#10;Color: (123, 234, 123)\" style=\"width: 10px; height: 10px;background-color: rgb(123, 234, 123);\"></td><td title=\"Index: [98, 33]&#10;Color: (0, 0, 0)\" style=\"width: 10px; height: 10px;background-color: rgb(0, 0, 0);\"></td><td title=\"Index: [98, 34]&#10;Color: (123, 234, 123)\" style=\"width: 10px; height: 10px;background-color: rgb(123, 234, 123);\"></td><td title=\"Index: [98, 35]&#10;Color: (123, 234, 123)\" style=\"width: 10px; height: 10px;background-color: rgb(123, 234, 123);\"></td><td title=\"Index: [98, 36]&#10;Color: (123, 234, 123)\" style=\"width: 10px; height: 10px;background-color: rgb(123, 234, 123);\"></td><td title=\"Index: [98, 37]&#10;Color: (0, 0, 0)\" style=\"width: 10px; height: 10px;background-color: rgb(0, 0, 0);\"></td><td title=\"Index: [98, 38]&#10;Color: (123, 234, 123)\" style=\"width: 10px; height: 10px;background-color: rgb(123, 234, 123);\"></td><td title=\"Index: [98, 39]&#10;Color: (123, 234, 123)\" style=\"width: 10px; height: 10px;background-color: rgb(123, 234, 123);\"></td><td title=\"Index: [98, 40]&#10;Color: (123, 234, 123)\" style=\"width: 10px; height: 10px;background-color: rgb(123, 234, 123);\"></td><td title=\"Index: [98, 41]&#10;Color: (123, 234, 123)\" style=\"width: 10px; height: 10px;background-color: rgb(123, 234, 123);\"></td><td title=\"Index: [98, 42]&#10;Color: (123, 234, 123)\" style=\"width: 10px; height: 10px;background-color: rgb(123, 234, 123);\"></td><td title=\"Index: [98, 43]&#10;Color: (0, 0, 0)\" style=\"width: 10px; height: 10px;background-color: rgb(0, 0, 0);\"></td><td title=\"Index: [98, 44]&#10;Color: (123, 234, 123)\" style=\"width: 10px; height: 10px;background-color: rgb(123, 234, 123);\"></td><td title=\"Index: [98, 45]&#10;Color: (123, 234, 123)\" style=\"width: 10px; height: 10px;background-color: rgb(123, 234, 123);\"></td><td title=\"Index: [98, 46]&#10;Color: (123, 234, 123)\" style=\"width: 10px; height: 10px;background-color: rgb(123, 234, 123);\"></td><td title=\"Index: [98, 47]&#10;Color: (123, 234, 123)\" style=\"width: 10px; height: 10px;background-color: rgb(123, 234, 123);\"></td><td title=\"Index: [98, 48]&#10;Color: (123, 234, 123)\" style=\"width: 10px; height: 10px;background-color: rgb(123, 234, 123);\"></td><td title=\"Index: [98, 49]&#10;Color: (123, 234, 123)\" style=\"width: 10px; height: 10px;background-color: rgb(123, 234, 123);\"></td></tr><tr><td title=\"Index: [99, 0]&#10;Color: (123, 234, 123)\" style=\"width: 10px; height: 10px;background-color: rgb(123, 234, 123);\"></td><td title=\"Index: [99, 1]&#10;Color: (0, 0, 0)\" style=\"width: 10px; height: 10px;background-color: rgb(0, 0, 0);\"></td><td title=\"Index: [99, 2]&#10;Color: (123, 234, 123)\" style=\"width: 10px; height: 10px;background-color: rgb(123, 234, 123);\"></td><td title=\"Index: [99, 3]&#10;Color: (123, 234, 123)\" style=\"width: 10px; height: 10px;background-color: rgb(123, 234, 123);\"></td><td title=\"Index: [99, 4]&#10;Color: (123, 234, 123)\" style=\"width: 10px; height: 10px;background-color: rgb(123, 234, 123);\"></td><td title=\"Index: [99, 5]&#10;Color: (123, 234, 123)\" style=\"width: 10px; height: 10px;background-color: rgb(123, 234, 123);\"></td><td title=\"Index: [99, 6]&#10;Color: (123, 234, 123)\" style=\"width: 10px; height: 10px;background-color: rgb(123, 234, 123);\"></td><td title=\"Index: [99, 7]&#10;Color: (0, 0, 0)\" style=\"width: 10px; height: 10px;background-color: rgb(0, 0, 0);\"></td><td title=\"Index: [99, 8]&#10;Color: (123, 234, 123)\" style=\"width: 10px; height: 10px;background-color: rgb(123, 234, 123);\"></td><td title=\"Index: [99, 9]&#10;Color: (123, 234, 123)\" style=\"width: 10px; height: 10px;background-color: rgb(123, 234, 123);\"></td><td title=\"Index: [99, 10]&#10;Color: (123, 234, 123)\" style=\"width: 10px; height: 10px;background-color: rgb(123, 234, 123);\"></td><td title=\"Index: [99, 11]&#10;Color: (123, 234, 123)\" style=\"width: 10px; height: 10px;background-color: rgb(123, 234, 123);\"></td><td title=\"Index: [99, 12]&#10;Color: (123, 234, 123)\" style=\"width: 10px; height: 10px;background-color: rgb(123, 234, 123);\"></td><td title=\"Index: [99, 13]&#10;Color: (123, 234, 123)\" style=\"width: 10px; height: 10px;background-color: rgb(123, 234, 123);\"></td><td title=\"Index: [99, 14]&#10;Color: (123, 234, 123)\" style=\"width: 10px; height: 10px;background-color: rgb(123, 234, 123);\"></td><td title=\"Index: [99, 15]&#10;Color: (123, 234, 123)\" style=\"width: 10px; height: 10px;background-color: rgb(123, 234, 123);\"></td><td title=\"Index: [99, 16]&#10;Color: (123, 234, 123)\" style=\"width: 10px; height: 10px;background-color: rgb(123, 234, 123);\"></td><td title=\"Index: [99, 17]&#10;Color: (0, 0, 0)\" style=\"width: 10px; height: 10px;background-color: rgb(0, 0, 0);\"></td><td title=\"Index: [99, 18]&#10;Color: (123, 234, 123)\" style=\"width: 10px; height: 10px;background-color: rgb(123, 234, 123);\"></td><td title=\"Index: [99, 19]&#10;Color: (0, 0, 0)\" style=\"width: 10px; height: 10px;background-color: rgb(0, 0, 0);\"></td><td title=\"Index: [99, 20]&#10;Color: (123, 234, 123)\" style=\"width: 10px; height: 10px;background-color: rgb(123, 234, 123);\"></td><td title=\"Index: [99, 21]&#10;Color: (123, 234, 123)\" style=\"width: 10px; height: 10px;background-color: rgb(123, 234, 123);\"></td><td title=\"Index: [99, 22]&#10;Color: (123, 234, 123)\" style=\"width: 10px; height: 10px;background-color: rgb(123, 234, 123);\"></td><td title=\"Index: [99, 23]&#10;Color: (0, 0, 0)\" style=\"width: 10px; height: 10px;background-color: rgb(0, 0, 0);\"></td><td title=\"Index: [99, 24]&#10;Color: (123, 234, 123)\" style=\"width: 10px; height: 10px;background-color: rgb(123, 234, 123);\"></td><td title=\"Index: [99, 25]&#10;Color: (123, 234, 123)\" style=\"width: 10px; height: 10px;background-color: rgb(123, 234, 123);\"></td><td title=\"Index: [99, 26]&#10;Color: (123, 234, 123)\" style=\"width: 10px; height: 10px;background-color: rgb(123, 234, 123);\"></td><td title=\"Index: [99, 27]&#10;Color: (123, 234, 123)\" style=\"width: 10px; height: 10px;background-color: rgb(123, 234, 123);\"></td><td title=\"Index: [99, 28]&#10;Color: (123, 234, 123)\" style=\"width: 10px; height: 10px;background-color: rgb(123, 234, 123);\"></td><td title=\"Index: [99, 29]&#10;Color: (123, 234, 123)\" style=\"width: 10px; height: 10px;background-color: rgb(123, 234, 123);\"></td><td title=\"Index: [99, 30]&#10;Color: (123, 234, 123)\" style=\"width: 10px; height: 10px;background-color: rgb(123, 234, 123);\"></td><td title=\"Index: [99, 31]&#10;Color: (123, 234, 123)\" style=\"width: 10px; height: 10px;background-color: rgb(123, 234, 123);\"></td><td title=\"Index: [99, 32]&#10;Color: (123, 234, 123)\" style=\"width: 10px; height: 10px;background-color: rgb(123, 234, 123);\"></td><td title=\"Index: [99, 33]&#10;Color: (123, 234, 123)\" style=\"width: 10px; height: 10px;background-color: rgb(123, 234, 123);\"></td><td title=\"Index: [99, 34]&#10;Color: (123, 234, 123)\" style=\"width: 10px; height: 10px;background-color: rgb(123, 234, 123);\"></td><td title=\"Index: [99, 35]&#10;Color: (123, 234, 123)\" style=\"width: 10px; height: 10px;background-color: rgb(123, 234, 123);\"></td><td title=\"Index: [99, 36]&#10;Color: (123, 234, 123)\" style=\"width: 10px; height: 10px;background-color: rgb(123, 234, 123);\"></td><td title=\"Index: [99, 37]&#10;Color: (0, 0, 0)\" style=\"width: 10px; height: 10px;background-color: rgb(0, 0, 0);\"></td><td title=\"Index: [99, 38]&#10;Color: (123, 234, 123)\" style=\"width: 10px; height: 10px;background-color: rgb(123, 234, 123);\"></td><td title=\"Index: [99, 39]&#10;Color: (123, 234, 123)\" style=\"width: 10px; height: 10px;background-color: rgb(123, 234, 123);\"></td><td title=\"Index: [99, 40]&#10;Color: (123, 234, 123)\" style=\"width: 10px; height: 10px;background-color: rgb(123, 234, 123);\"></td><td title=\"Index: [99, 41]&#10;Color: (123, 234, 123)\" style=\"width: 10px; height: 10px;background-color: rgb(123, 234, 123);\"></td><td title=\"Index: [99, 42]&#10;Color: (123, 234, 123)\" style=\"width: 10px; height: 10px;background-color: rgb(123, 234, 123);\"></td><td title=\"Index: [99, 43]&#10;Color: (0, 0, 0)\" style=\"width: 10px; height: 10px;background-color: rgb(0, 0, 0);\"></td><td title=\"Index: [99, 44]&#10;Color: (123, 234, 123)\" style=\"width: 10px; height: 10px;background-color: rgb(123, 234, 123);\"></td><td title=\"Index: [99, 45]&#10;Color: (123, 234, 123)\" style=\"width: 10px; height: 10px;background-color: rgb(123, 234, 123);\"></td><td title=\"Index: [99, 46]&#10;Color: (123, 234, 123)\" style=\"width: 10px; height: 10px;background-color: rgb(123, 234, 123);\"></td><td title=\"Index: [99, 47]&#10;Color: (123, 234, 123)\" style=\"width: 10px; height: 10px;background-color: rgb(123, 234, 123);\"></td><td title=\"Index: [99, 48]&#10;Color: (123, 234, 123)\" style=\"width: 10px; height: 10px;background-color: rgb(123, 234, 123);\"></td><td title=\"Index: [99, 49]&#10;Color: (0, 0, 0)\" style=\"width: 10px; height: 10px;background-color: rgb(0, 0, 0);\"></td></tr></tbody></table>"
      ],
      "text/plain": [
       "<ipythonblocks.BlockGrid at 0x7fe0ed39b790>"
      ]
     },
     "execution_count": 140,
     "metadata": {},
     "output_type": "execute_result"
    }
   ],
   "source": [
    "def eras(n):\n",
    "  siv=range(n+1)\n",
    "  # 1 is not prime\n",
    "  siv[1]=0\n",
    "  # The last possible factor is sqrt(n)\n",
    "  sqn=int(round(n**0.5))\n",
    "  for i in range(2,sqn+1):\n",
    "    if siv[i]!=0:\n",
    "        siv[2*i:n/i*i+1:i]=[0]*(n/i-1)\n",
    "  return filter(None,siv)\n",
    "\n",
    "index = eras(5000)\n",
    "\n",
    "col=50\n",
    "row=100\n",
    "grid = BlockGrid(col, row, block_size=10, fill=(123, 234, 123))\n",
    "grid[0,0]=(0,0,0)\n",
    "grid[0,1]=(0,0,0) \n",
    "\n",
    "for i in index:\n",
    "    grid[i/col,i%col]=[0,0,0]\n",
    "\n",
    "grid"
   ]
  },
  {
   "cell_type": "markdown",
   "metadata": {},
   "source": [
    "### Array operations\n",
    "\n",
    "Standard mathematical operations are applied on an **element-by-element basis**."
   ]
  },
  {
   "cell_type": "code",
   "execution_count": 141,
   "metadata": {},
   "outputs": [
    {
     "name": "stdout",
     "output_type": "stream",
     "text": [
      "[6. 4. 9.] [1. 0. 3.] [  1.   4. 729.]\n"
     ]
    }
   ],
   "source": [
    "a = np.array([1,2,3], float) \n",
    "b = np.array([5,2,6], float) \n",
    "print a + b, a % b, a ** b"
   ]
  },
  {
   "cell_type": "markdown",
   "metadata": {},
   "source": [
    "For two-dimensional arrays, multiplication remains elementwise and does not correspond to \n",
    "matrix multiplication. There are special functions for matrix math. "
   ]
  },
  {
   "cell_type": "code",
   "execution_count": 142,
   "metadata": {},
   "outputs": [
    {
     "data": {
      "text/plain": [
       "array([[ 2.,  0.],\n",
       "       [ 3., 12.]])"
      ]
     },
     "execution_count": 142,
     "metadata": {},
     "output_type": "execute_result"
    }
   ],
   "source": [
    "a = np.array([[1,2], [3,4]], float) \n",
    "b = np.array([[2,0], [1,3]], float) \n",
    "a * b "
   ]
  },
  {
   "cell_type": "markdown",
   "metadata": {},
   "source": [
    "Arrays that do not match in the number of dimensions will be **broadcasted** by Python \n",
    "to perform mathematical operations. This often means that the smaller array will be repeated \n",
    "as necessary to perform the operation indicated."
   ]
  },
  {
   "cell_type": "code",
   "execution_count": 143,
   "metadata": {},
   "outputs": [
    {
     "name": "stdout",
     "output_type": "stream",
     "text": [
      "[[1. 2.]\n",
      " [3. 4.]\n",
      " [5. 6.]] [-1.  3.]\n",
      "\n",
      "[[0. 5.]\n",
      " [2. 7.]\n",
      " [4. 9.]]\n"
     ]
    }
   ],
   "source": [
    "a = np.array([[1, 2], [3, 4], [5, 6]], float) \n",
    "b = np.array([-1, 3], float) \n",
    "print a , b\n",
    "print \n",
    "print a + b "
   ]
  },
  {
   "cell_type": "markdown",
   "metadata": {},
   "source": [
    "Sometimes, however, we can use the ``newaxis`` constant to specify how we \n",
    "want to broadcast:"
   ]
  },
  {
   "cell_type": "code",
   "execution_count": 144,
   "metadata": {},
   "outputs": [
    {
     "name": "stdout",
     "output_type": "stream",
     "text": [
      "[[0. 0.]\n",
      " [0. 0.]] [-1.  3.]\n",
      "\n",
      "[[-1.  3.]\n",
      " [-1.  3.]]\n",
      "\n",
      "[[-1.  3.]\n",
      " [-1.  3.]]\n",
      "\n",
      "[[-1. -1.]\n",
      " [ 3.  3.]]\n"
     ]
    }
   ],
   "source": [
    "a = np.zeros((2,2), float) \n",
    "b = np.array([-1., 3.], float) \n",
    "print a, b\n",
    "print\n",
    "print a + b \n",
    "print\n",
    "print a + b[np.newaxis,:] \n",
    "print\n",
    "print a + b[:,np.newaxis] \n"
   ]
  },
  {
   "cell_type": "markdown",
   "metadata": {},
   "source": [
    "NumPy offers a large library of common mathematical functions that can be applied elementwise to arrays. Among these are the functions: <code> abs,sign, sqrt, log, log10, exp, sin, cos, tan, arcsin, arccos, arctan, sinh, cosh, tanh, arcsinh, arccosh, </code> and <code>arctanh </code>. \n"
   ]
  },
  {
   "cell_type": "code",
   "execution_count": 145,
   "metadata": {},
   "outputs": [
    {
     "data": {
      "text/plain": [
       "array([ 0.84147098, -0.7568025 ,  0.41211849])"
      ]
     },
     "execution_count": 145,
     "metadata": {},
     "output_type": "execute_result"
    }
   ],
   "source": [
    "a = np.array([1, 4, 9], float) \n",
    "np.sin(a)"
   ]
  },
  {
   "cell_type": "markdown",
   "metadata": {},
   "source": [
    "It is possible to iterate over arrays in a manner similar to that of lists: "
   ]
  },
  {
   "cell_type": "code",
   "execution_count": 146,
   "metadata": {},
   "outputs": [
    {
     "name": "stdout",
     "output_type": "stream",
     "text": [
      "[1. 2.]\n",
      "[3. 4.]\n",
      "[5. 6.]\n"
     ]
    }
   ],
   "source": [
    "a = np.array([[1, 2], [3, 4], [5, 6]], float) \n",
    "for x in a: \n",
    "    print x"
   ]
  },
  {
   "cell_type": "code",
   "execution_count": 147,
   "metadata": {},
   "outputs": [
    {
     "name": "stdout",
     "output_type": "stream",
     "text": [
      "2.0\n",
      "12.0\n",
      "30.0\n"
     ]
    }
   ],
   "source": [
    "for [x, y] in a:             # Multiple assignment can also be used with array iteration\n",
    "    print x * y"
   ]
  },
  {
   "cell_type": "code",
   "execution_count": 148,
   "metadata": {},
   "outputs": [
    {
     "name": "stdout",
     "output_type": "stream",
     "text": [
      "[-1.  0.  2.  5.  6.]\n"
     ]
    }
   ],
   "source": [
    "a = np.array([6, 2, 5, -1, 0], float) \n",
    "a.sort() \n",
    "print a"
   ]
  },
  {
   "cell_type": "markdown",
   "metadata": {},
   "source": [
    "### Comparison operators and value testing \n",
    "Boolean comparisons can be used to compare members elementwise on arrays of equal size. \n"
   ]
  },
  {
   "cell_type": "code",
   "execution_count": 149,
   "metadata": {},
   "outputs": [
    {
     "name": "stdout",
     "output_type": "stream",
     "text": [
      "[ True False False]\n",
      "[False  True False]\n",
      "[False  True  True]\n"
     ]
    }
   ],
   "source": [
    "a = np.array([1, 3, 0], float) \n",
    "b = np.array([0, 3, 2], float) \n",
    "print a > b \n",
    "print a == b \n",
    "print a <= b \n"
   ]
  },
  {
   "cell_type": "markdown",
   "metadata": {},
   "source": [
    "Arrays can be compared to single values using broadcasting: "
   ]
  },
  {
   "cell_type": "code",
   "execution_count": 150,
   "metadata": {},
   "outputs": [
    {
     "data": {
      "text/plain": [
       "array([False,  True, False])"
      ]
     },
     "execution_count": 150,
     "metadata": {},
     "output_type": "execute_result"
    }
   ],
   "source": [
    "a = np.array([1, 3, 0], float) \n",
    "a > 2"
   ]
  },
  {
   "cell_type": "markdown",
   "metadata": {},
   "source": [
    "The <code>any</code> and <code>all</code> operators can be used to determine whether or not any or all elements of a \n",
    "Boolean array are true: "
   ]
  },
  {
   "cell_type": "code",
   "execution_count": 151,
   "metadata": {},
   "outputs": [
    {
     "name": "stdout",
     "output_type": "stream",
     "text": [
      "True False\n"
     ]
    }
   ],
   "source": [
    "c = np.array([ True, False, False], bool) \n",
    "print any(c), all(c)"
   ]
  },
  {
   "cell_type": "markdown",
   "metadata": {},
   "source": [
    "Compound Boolean expressions can be applied to arrays on an element-by-element basis using \n",
    "special functions ``logical_and``, ``logical_or``, and ``logical_not``. "
   ]
  },
  {
   "cell_type": "code",
   "execution_count": 152,
   "metadata": {},
   "outputs": [
    {
     "name": "stdout",
     "output_type": "stream",
     "text": [
      "[ True False False]\n",
      "[False  True False]\n",
      "[ True  True  True]\n"
     ]
    }
   ],
   "source": [
    "a = np.array([1, 3, 0], float) \n",
    "print np.logical_and(a > 0, a < 3) \n",
    "b = np.array([True, False, True], bool) \n",
    "print np.logical_not(b) \n",
    "c = np.array([False, True, False], bool) \n",
    "print np.logical_or(b, c) \n"
   ]
  },
  {
   "cell_type": "markdown",
   "metadata": {},
   "source": [
    "The ``where`` function forms a new array from two arrays of equivalent size using a Boolean filter  to choose between elements of the two. Its basic syntax is: <br>\n",
    "<code>where(boolarray, truearray, falsearray)</code>"
   ]
  },
  {
   "cell_type": "code",
   "execution_count": 153,
   "metadata": {},
   "outputs": [
    {
     "name": "stdout",
     "output_type": "stream",
     "text": [
      "[1.         0.33333333 1.        ]\n"
     ]
    },
    {
     "name": "stderr",
     "output_type": "stream",
     "text": [
      "/home/alourido/anaconda3/envs/py27/lib/python2.7/site-packages/ipykernel_launcher.py:2: RuntimeWarning: divide by zero encountered in divide\n",
      "  \n"
     ]
    }
   ],
   "source": [
    "a = np.array([1, 3, 0], float) \n",
    "b = np.where(a != 0, 1 / a, 1) \n",
    "print b\n"
   ]
  },
  {
   "cell_type": "markdown",
   "metadata": {},
   "source": [
    "### Array item selection and manipulation \n",
    "We can use array selectors to **filter** for specific subsets of elements of other arrays. "
   ]
  },
  {
   "cell_type": "code",
   "execution_count": 154,
   "metadata": {},
   "outputs": [
    {
     "data": {
      "text/plain": [
       "array([[ True, False],\n",
       "       [False,  True]])"
      ]
     },
     "execution_count": 154,
     "metadata": {},
     "output_type": "execute_result"
    }
   ],
   "source": [
    "a = np.array([[6, 4], [5, 9]], float) \n",
    "a >= 6"
   ]
  },
  {
   "cell_type": "code",
   "execution_count": 155,
   "metadata": {},
   "outputs": [
    {
     "data": {
      "text/plain": [
       "array([6., 9.])"
      ]
     },
     "execution_count": 155,
     "metadata": {},
     "output_type": "execute_result"
    }
   ],
   "source": [
    "a[a >= 6] "
   ]
  },
  {
   "cell_type": "code",
   "execution_count": 156,
   "metadata": {},
   "outputs": [
    {
     "data": {
      "text/plain": [
       "array([6., 9.])"
      ]
     },
     "execution_count": 156,
     "metadata": {},
     "output_type": "execute_result"
    }
   ],
   "source": [
    "a = np.array([[6, 4], [5, 9]], float) \n",
    "sel = (a >= 6) \n",
    "a[sel] "
   ]
  },
  {
   "cell_type": "markdown",
   "metadata": {},
   "source": [
    "It is also possible to select using integer arrays that represent indexes."
   ]
  },
  {
   "cell_type": "code",
   "execution_count": 157,
   "metadata": {},
   "outputs": [
    {
     "data": {
      "text/plain": [
       "array([2., 2., 4., 8., 6., 4.])"
      ]
     },
     "execution_count": 157,
     "metadata": {},
     "output_type": "execute_result"
    }
   ],
   "source": [
    "a = np.array([2, 4, 6, 8], float) \n",
    "b = np.array([0, 0, 1, 3, 2, 1], int)  # the 0th, 0th, 1st, 3rd, 2nd, and 1st elements of a\n",
    "a[b] "
   ]
  },
  {
   "cell_type": "markdown",
   "metadata": {},
   "source": [
    "For multidimensional arrays, we have to send multiple one-dimensional integer arrays to the \n",
    "selection bracket, one for each axis."
   ]
  },
  {
   "cell_type": "code",
   "execution_count": 158,
   "metadata": {},
   "outputs": [
    {
     "data": {
      "text/plain": [
       "array([ 1.,  4., 16., 16.,  4.])"
      ]
     },
     "execution_count": 158,
     "metadata": {},
     "output_type": "execute_result"
    }
   ],
   "source": [
    "a = np.array([[1, 4], [9, 16]], float) \n",
    "b = np.array([0, 0, 1, 1, 0], int) \n",
    "c = np.array([0, 1, 1, 1, 1], int) \n",
    "a[b,c] \n"
   ]
  },
  {
   "cell_type": "markdown",
   "metadata": {},
   "source": [
    "### Vector and matrix mathematics"
   ]
  },
  {
   "cell_type": "code",
   "execution_count": 159,
   "metadata": {},
   "outputs": [
    {
     "data": {
      "text/plain": [
       "5.0"
      ]
     },
     "execution_count": 159,
     "metadata": {},
     "output_type": "execute_result"
    }
   ],
   "source": [
    "a = np.array([1, 2, 3], float) \n",
    "b = np.array([0, 1, 1], float) \n",
    "np.dot(a, b) \n"
   ]
  },
  {
   "cell_type": "code",
   "execution_count": 160,
   "metadata": {},
   "outputs": [
    {
     "name": "stdout",
     "output_type": "stream",
     "text": [
      "[ 6. 11.]\n",
      "[[ 4.  0.]\n",
      " [14.  2.]]\n"
     ]
    }
   ],
   "source": [
    "a = np.array([[0, 1], [2, 3]], float) \n",
    "b = np.array([2, 3], float) \n",
    "c = np.array([[1, 1], [4, 0]], float) \n",
    "print np.dot(b, a)\n",
    "print np.dot(a, c) "
   ]
  },
  {
   "cell_type": "markdown",
   "metadata": {},
   "source": [
    "It is also possible to generate inner, outer, and cross products of matrices and vectors."
   ]
  },
  {
   "cell_type": "code",
   "execution_count": 161,
   "metadata": {},
   "outputs": [
    {
     "name": "stdout",
     "output_type": "stream",
     "text": [
      "10.0\n",
      "[ 4. -1. -6.]\n"
     ]
    }
   ],
   "source": [
    "a = np.array([1, 4, 0], float) \n",
    "b = np.array([2, 2, 1], float) \n",
    "np.outer(a, b) \n",
    "\n",
    "print np.inner(a, b) \n",
    "\n",
    "print np.cross(a, b) "
   ]
  },
  {
   "cell_type": "markdown",
   "metadata": {},
   "source": [
    "NumPy also comes with a number of built-in routines for linear algebra calculations. "
   ]
  },
  {
   "cell_type": "code",
   "execution_count": 162,
   "metadata": {},
   "outputs": [
    {
     "data": {
      "text/plain": [
       "-48.00000000000003"
      ]
     },
     "execution_count": 162,
     "metadata": {},
     "output_type": "execute_result"
    }
   ],
   "source": [
    "a = np.array([[4, 2, 0], [9, 3, 7], [1, 2, 1]], float)\n",
    "np.linalg.det(a)                 # These can be found in the sub-module linalg"
   ]
  },
  {
   "cell_type": "code",
   "execution_count": 163,
   "metadata": {},
   "outputs": [
    {
     "name": "stdout",
     "output_type": "stream",
     "text": [
      "[ 8.85591316  1.9391628  -2.79507597]\n",
      "\n",
      "[[-0.3663565  -0.54736745  0.25928158]\n",
      " [-0.88949768  0.5640176  -0.88091903]\n",
      " [-0.27308752  0.61828231  0.39592263]]\n"
     ]
    }
   ],
   "source": [
    "vals, vecs = np.linalg.eig(a)\n",
    "print vals\n",
    "print\n",
    "print vecs"
   ]
  },
  {
   "cell_type": "code",
   "execution_count": 164,
   "metadata": {},
   "outputs": [
    {
     "name": "stdout",
     "output_type": "stream",
     "text": [
      "[[ 0.22916667  0.04166667 -0.29166667]\n",
      " [ 0.04166667 -0.08333333  0.58333333]\n",
      " [-0.3125      0.125       0.125     ]]\n"
     ]
    }
   ],
   "source": [
    "b = np.linalg.inv(a) \n",
    "print b"
   ]
  },
  {
   "cell_type": "markdown",
   "metadata": {},
   "source": [
    "## Advanced programming for data analysis: pandas.\n",
    "\n",
    "pandas is a fundamental high-level building block for doing practical, real world data analysis in Python.\n",
    "\n",
    "pandas is well suited for:\n",
    "\n",
    "+ Tabular data with heterogeneously-typed columns, as in an SQL table or Excel spreadsheet\n",
    "+ Ordered and unordered (not necessarily fixed-frequency) time series data.\n",
    "+ Arbitrary matrix data (homogeneously typed or heterogeneous) with row and column labels.\n"
   ]
  },
  {
   "cell_type": "markdown",
   "metadata": {},
   "source": [
    "> **pandas is a Python package providing fast, flexible, and expressive data structures designed to work with both relational or labeled data. **.\n"
   ]
  },
  {
   "cell_type": "markdown",
   "metadata": {},
   "source": [
    "Key features:\n",
    "\n",
    "+ Easy handling of missing data\n",
    "+ Size mutability: columns can be inserted and deleted from DataFrame\n",
    "+ Powerful, flexible ``group by`` functionality to perform split-apply-combine operations on data sets\n",
    "+ Intelligent label-based slicing, fancy indexing, and subsetting of large data sets\n",
    "+ Intuitive merging and joining data sets\n",
    "+ Flexible reshaping and pivoting of data sets\n",
    "+ Hierarchical labeling of axes\n",
    "+ Robust IO tools for loading data from flat files, Excel files, databases, and HDF5\n",
    "+ Time series functionality: date range generation and frequency conversion, moving window statistics, moving window linear regressions, date shifting and lagging, etc."
   ]
  },
  {
   "cell_type": "markdown",
   "metadata": {},
   "source": [
    "Pandas has a lot of functionality, so we'll only be able to cover a **small** fraction of what you can do. Check out the (very readable) pandas docs if you want to learn more:\n",
    "\n",
    "http://pandas.pydata.org/pandas-docs/stable/"
   ]
  },
  {
   "cell_type": "markdown",
   "metadata": {},
   "source": [
    "### Series and DataFrames\n",
    "\n",
    "A Series is a single vector of data with an index that labels every element in the vector. \n",
    "\n",
    "If we do not specify the index, a sequence of integers is assigned as index."
   ]
  },
  {
   "cell_type": "code",
   "execution_count": 165,
   "metadata": {},
   "outputs": [
    {
     "data": {
      "text/plain": [
       "0    1956\n",
       "1    1967\n",
       "2    1989\n",
       "3    2000\n",
       "dtype: int64"
      ]
     },
     "execution_count": 165,
     "metadata": {},
     "output_type": "execute_result"
    }
   ],
   "source": [
    "import pandas as pd                            # convention, alias 'pd'\n",
    "c = pd.Series([1956, 1967, 1989, 2000])\n",
    "c"
   ]
  },
  {
   "cell_type": "markdown",
   "metadata": {},
   "source": [
    "Its values are stores in a NumPy array (``values``) and the index in a pandas ``Index`` object:"
   ]
  },
  {
   "cell_type": "code",
   "execution_count": 166,
   "metadata": {},
   "outputs": [
    {
     "data": {
      "text/plain": [
       "array([1956, 1967, 1989, 2000])"
      ]
     },
     "execution_count": 166,
     "metadata": {},
     "output_type": "execute_result"
    }
   ],
   "source": [
    "c.values"
   ]
  },
  {
   "cell_type": "code",
   "execution_count": 167,
   "metadata": {},
   "outputs": [
    {
     "data": {
      "text/plain": [
       "RangeIndex(start=0, stop=4, step=1)"
      ]
     },
     "execution_count": 167,
     "metadata": {},
     "output_type": "execute_result"
    }
   ],
   "source": [
    "c.index"
   ]
  },
  {
   "cell_type": "code",
   "execution_count": 168,
   "metadata": {},
   "outputs": [
    {
     "data": {
      "text/plain": [
       "a    1956\n",
       "b    1967\n",
       "c    1989\n",
       "d    2000\n",
       "dtype: int64"
      ]
     },
     "execution_count": 168,
     "metadata": {},
     "output_type": "execute_result"
    }
   ],
   "source": [
    "c = pd.Series([1956, 1967, 1989, 2000], index = ['a','b','c','d'])\n",
    "c"
   ]
  },
  {
   "cell_type": "code",
   "execution_count": 169,
   "metadata": {},
   "outputs": [
    {
     "name": "stdout",
     "output_type": "stream",
     "text": [
      "2000 2000\n"
     ]
    }
   ],
   "source": [
    "print c['d'], c[3]"
   ]
  },
  {
   "cell_type": "markdown",
   "metadata": {},
   "source": [
    "DataFrames are designed to store heterogeneous multivariate data."
   ]
  },
  {
   "cell_type": "code",
   "execution_count": 170,
   "metadata": {},
   "outputs": [
    {
     "data": {
      "text/html": [
       "<div>\n",
       "<style scoped>\n",
       "    .dataframe tbody tr th:only-of-type {\n",
       "        vertical-align: middle;\n",
       "    }\n",
       "\n",
       "    .dataframe tbody tr th {\n",
       "        vertical-align: top;\n",
       "    }\n",
       "\n",
       "    .dataframe thead th {\n",
       "        text-align: right;\n",
       "    }\n",
       "</style>\n",
       "<table border=\"1\" class=\"dataframe\">\n",
       "  <thead>\n",
       "    <tr style=\"text-align: right;\">\n",
       "      <th></th>\n",
       "      <th>VarA</th>\n",
       "      <th>VarB</th>\n",
       "    </tr>\n",
       "  </thead>\n",
       "  <tbody>\n",
       "    <tr>\n",
       "      <th>Case1</th>\n",
       "      <td>aa</td>\n",
       "      <td>22.2</td>\n",
       "    </tr>\n",
       "    <tr>\n",
       "      <th>Case2</th>\n",
       "      <td>bb</td>\n",
       "      <td>33.3</td>\n",
       "    </tr>\n",
       "  </tbody>\n",
       "</table>\n",
       "</div>"
      ],
      "text/plain": [
       "      VarA  VarB\n",
       "Case1   aa  22.2\n",
       "Case2   bb  33.3"
      ]
     },
     "execution_count": 170,
     "metadata": {},
     "output_type": "execute_result"
    }
   ],
   "source": [
    "c = pd.DataFrame({'VarA':['aa','bb'], 'VarB':[22.2,33.3]}, \\\n",
    "                 index = ['Case1','Case2'])\n",
    "c"
   ]
  },
  {
   "cell_type": "markdown",
   "metadata": {},
   "source": [
    "### EXERCISE:\n",
    "\n",
    "Create your own dataframe from this dict: {'Player':['Messi','Ronaldo'], 'NGoals':[43,39]}"
   ]
  },
  {
   "cell_type": "code",
   "execution_count": 171,
   "metadata": {},
   "outputs": [
    {
     "data": {
      "text/html": [
       "<div>\n",
       "<style scoped>\n",
       "    .dataframe tbody tr th:only-of-type {\n",
       "        vertical-align: middle;\n",
       "    }\n",
       "\n",
       "    .dataframe tbody tr th {\n",
       "        vertical-align: top;\n",
       "    }\n",
       "\n",
       "    .dataframe thead th {\n",
       "        text-align: right;\n",
       "    }\n",
       "</style>\n",
       "<table border=\"1\" class=\"dataframe\">\n",
       "  <thead>\n",
       "    <tr style=\"text-align: right;\">\n",
       "      <th></th>\n",
       "      <th>NGoals</th>\n",
       "      <th>Player</th>\n",
       "    </tr>\n",
       "  </thead>\n",
       "  <tbody>\n",
       "    <tr>\n",
       "      <th>0</th>\n",
       "      <td>43</td>\n",
       "      <td>Messi</td>\n",
       "    </tr>\n",
       "    <tr>\n",
       "      <th>1</th>\n",
       "      <td>39</td>\n",
       "      <td>Ronaldo</td>\n",
       "    </tr>\n",
       "  </tbody>\n",
       "</table>\n",
       "</div>"
      ],
      "text/plain": [
       "   NGoals   Player\n",
       "0      43    Messi\n",
       "1      39  Ronaldo"
      ]
     },
     "execution_count": 171,
     "metadata": {},
     "output_type": "execute_result"
    }
   ],
   "source": [
    "data = {'Player': ['Messi', 'Ronaldo'], 'NGoals': [43, 39]}\n",
    "pd.DataFrame(data)"
   ]
  },
  {
   "cell_type": "markdown",
   "metadata": {},
   "source": [
    "A DataFrame has a second index representing columns:"
   ]
  },
  {
   "cell_type": "code",
   "execution_count": 172,
   "metadata": {},
   "outputs": [
    {
     "data": {
      "text/plain": [
       "Index([u'VarA', u'VarB'], dtype='object')"
      ]
     },
     "execution_count": 172,
     "metadata": {},
     "output_type": "execute_result"
    }
   ],
   "source": [
    "c.columns"
   ]
  },
  {
   "cell_type": "markdown",
   "metadata": {},
   "source": [
    "We can access **columns** as in a dictionary or with the ``.`` notation:"
   ]
  },
  {
   "cell_type": "code",
   "execution_count": 173,
   "metadata": {},
   "outputs": [
    {
     "data": {
      "text/plain": [
       "Case1    aa\n",
       "Case2    bb\n",
       "Name: VarA, dtype: object"
      ]
     },
     "execution_count": 173,
     "metadata": {},
     "output_type": "execute_result"
    }
   ],
   "source": [
    "c.VarA"
   ]
  },
  {
   "cell_type": "code",
   "execution_count": 174,
   "metadata": {},
   "outputs": [
    {
     "data": {
      "text/plain": [
       "Case1    aa\n",
       "Case2    bb\n",
       "Name: VarA, dtype: object"
      ]
     },
     "execution_count": 174,
     "metadata": {},
     "output_type": "execute_result"
    }
   ],
   "source": [
    "c['VarA']"
   ]
  },
  {
   "cell_type": "markdown",
   "metadata": {},
   "source": [
    "These two methods return a ``Series`` object:"
   ]
  },
  {
   "cell_type": "code",
   "execution_count": 175,
   "metadata": {},
   "outputs": [
    {
     "data": {
      "text/plain": [
       "(pandas.core.series.Series, pandas.core.series.Series)"
      ]
     },
     "execution_count": 175,
     "metadata": {},
     "output_type": "execute_result"
    }
   ],
   "source": [
    "type(c.VarA), type(c['VarA'])"
   ]
  },
  {
   "cell_type": "markdown",
   "metadata": {},
   "source": [
    "If we want to access a **row** in a DataFrame we can index its ``ix`` attribute:"
   ]
  },
  {
   "cell_type": "code",
   "execution_count": 176,
   "metadata": {},
   "outputs": [
    {
     "name": "stdout",
     "output_type": "stream",
     "text": [
      "VarA      aa\n",
      "VarB    22.2\n",
      "Name: Case1, dtype: object\n",
      "VarA      aa\n",
      "VarB    22.2\n",
      "Name: Case1, dtype: object\n"
     ]
    },
    {
     "name": "stderr",
     "output_type": "stream",
     "text": [
      "/home/alourido/anaconda3/envs/py27/lib/python2.7/site-packages/ipykernel_launcher.py:1: DeprecationWarning: \n",
      ".ix is deprecated. Please use\n",
      ".loc for label based indexing or\n",
      ".iloc for positional indexing\n",
      "\n",
      "See the documentation here:\n",
      "http://pandas.pydata.org/pandas-docs/stable/indexing.html#ix-indexer-is-deprecated\n",
      "  \"\"\"Entry point for launching an IPython kernel.\n",
      "/home/alourido/anaconda3/envs/py27/lib/python2.7/site-packages/ipykernel_launcher.py:2: DeprecationWarning: \n",
      ".ix is deprecated. Please use\n",
      ".loc for label based indexing or\n",
      ".iloc for positional indexing\n",
      "\n",
      "See the documentation here:\n",
      "http://pandas.pydata.org/pandas-docs/stable/indexing.html#ix-indexer-is-deprecated\n",
      "  \n"
     ]
    }
   ],
   "source": [
    "print c.ix[0]\n",
    "print c.ix['Case1']"
   ]
  },
  {
   "cell_type": "markdown",
   "metadata": {},
   "source": [
    "Or to use the ``irow`` *function*, that let's you grab the ith row from a DataFrame:"
   ]
  },
  {
   "cell_type": "code",
   "execution_count": 177,
   "metadata": {},
   "outputs": [
    {
     "ename": "AttributeError",
     "evalue": "'DataFrame' object has no attribute 'irow'",
     "output_type": "error",
     "traceback": [
      "\u001b[0;31m---------------------------------------------------------------------------\u001b[0m",
      "\u001b[0;31mAttributeError\u001b[0m                            Traceback (most recent call last)",
      "\u001b[0;32m<ipython-input-177-37f932ecd6b2>\u001b[0m in \u001b[0;36m<module>\u001b[0;34m()\u001b[0m\n\u001b[0;32m----> 1\u001b[0;31m \u001b[0;32mprint\u001b[0m \u001b[0mc\u001b[0m\u001b[0;34m.\u001b[0m\u001b[0mirow\u001b[0m\u001b[0;34m(\u001b[0m\u001b[0;36m0\u001b[0m\u001b[0;34m)\u001b[0m\u001b[0;34m\u001b[0m\u001b[0m\n\u001b[0m",
      "\u001b[0;32m/home/alourido/anaconda3/envs/py27/lib/python2.7/site-packages/pandas/core/generic.pyc\u001b[0m in \u001b[0;36m__getattr__\u001b[0;34m(self, name)\u001b[0m\n\u001b[1;32m   5065\u001b[0m             \u001b[0;32mif\u001b[0m \u001b[0mself\u001b[0m\u001b[0;34m.\u001b[0m\u001b[0m_info_axis\u001b[0m\u001b[0;34m.\u001b[0m\u001b[0m_can_hold_identifiers_and_holds_name\u001b[0m\u001b[0;34m(\u001b[0m\u001b[0mname\u001b[0m\u001b[0;34m)\u001b[0m\u001b[0;34m:\u001b[0m\u001b[0;34m\u001b[0m\u001b[0m\n\u001b[1;32m   5066\u001b[0m                 \u001b[0;32mreturn\u001b[0m \u001b[0mself\u001b[0m\u001b[0;34m[\u001b[0m\u001b[0mname\u001b[0m\u001b[0;34m]\u001b[0m\u001b[0;34m\u001b[0m\u001b[0m\n\u001b[0;32m-> 5067\u001b[0;31m             \u001b[0;32mreturn\u001b[0m \u001b[0mobject\u001b[0m\u001b[0;34m.\u001b[0m\u001b[0m__getattribute__\u001b[0m\u001b[0;34m(\u001b[0m\u001b[0mself\u001b[0m\u001b[0;34m,\u001b[0m \u001b[0mname\u001b[0m\u001b[0;34m)\u001b[0m\u001b[0;34m\u001b[0m\u001b[0m\n\u001b[0m\u001b[1;32m   5068\u001b[0m \u001b[0;34m\u001b[0m\u001b[0m\n\u001b[1;32m   5069\u001b[0m     \u001b[0;32mdef\u001b[0m \u001b[0m__setattr__\u001b[0m\u001b[0;34m(\u001b[0m\u001b[0mself\u001b[0m\u001b[0;34m,\u001b[0m \u001b[0mname\u001b[0m\u001b[0;34m,\u001b[0m \u001b[0mvalue\u001b[0m\u001b[0;34m)\u001b[0m\u001b[0;34m:\u001b[0m\u001b[0;34m\u001b[0m\u001b[0m\n",
      "\u001b[0;31mAttributeError\u001b[0m: 'DataFrame' object has no attribute 'irow'"
     ]
    }
   ],
   "source": [
    "print c.irow(0)"
   ]
  },
  {
   "cell_type": "code",
   "execution_count": 178,
   "metadata": {},
   "outputs": [
    {
     "name": "stdout",
     "output_type": "stream",
     "text": [
      "VarA      aa\n",
      "VarB    22.2\n",
      "Name: Case1, dtype: object\n"
     ]
    }
   ],
   "source": [
    "print c.iloc[0]"
   ]
  },
  {
   "cell_type": "markdown",
   "metadata": {},
   "source": [
    "### Reading tabular data from a file\n",
    "\n",
    "The ‘pandas’ Python library provides several operators, <code>read_csv(), read_tab(), ...</code> that allows you to access data ﬁles in tabular format on your computer as well as data stored in web repositories.\n",
    "\n",
    "Reading in a data table is simply a matter of knowing the name (and location) of the data set."
   ]
  },
  {
   "cell_type": "code",
   "execution_count": 179,
   "metadata": {},
   "outputs": [
    {
     "ename": "OptionError",
     "evalue": "'Pattern matched multiple keys'",
     "output_type": "error",
     "traceback": [
      "\u001b[0;31m---------------------------------------------------------------------------\u001b[0m",
      "\u001b[0;31mOptionError\u001b[0m                               Traceback (most recent call last)",
      "\u001b[0;32m<ipython-input-179-ff5f3f7b772d>\u001b[0m in \u001b[0;36m<module>\u001b[0;34m()\u001b[0m\n\u001b[1;32m      3\u001b[0m \u001b[0;34m\u001b[0m\u001b[0m\n\u001b[1;32m      4\u001b[0m \u001b[0;31m# Set some Pandas options\u001b[0m\u001b[0;34m\u001b[0m\u001b[0;34m\u001b[0m\u001b[0m\n\u001b[0;32m----> 5\u001b[0;31m \u001b[0mpd\u001b[0m\u001b[0;34m.\u001b[0m\u001b[0mset_option\u001b[0m\u001b[0;34m(\u001b[0m\u001b[0;34m'html'\u001b[0m\u001b[0;34m,\u001b[0m \u001b[0mFalse\u001b[0m\u001b[0;34m)\u001b[0m\u001b[0;34m\u001b[0m\u001b[0m\n\u001b[0m\u001b[1;32m      6\u001b[0m \u001b[0mpd\u001b[0m\u001b[0;34m.\u001b[0m\u001b[0mset_option\u001b[0m\u001b[0;34m(\u001b[0m\u001b[0;34m'max_columns'\u001b[0m\u001b[0;34m,\u001b[0m \u001b[0;36m30\u001b[0m\u001b[0;34m)\u001b[0m\u001b[0;34m\u001b[0m\u001b[0m\n\u001b[1;32m      7\u001b[0m \u001b[0mpd\u001b[0m\u001b[0;34m.\u001b[0m\u001b[0mset_option\u001b[0m\u001b[0;34m(\u001b[0m\u001b[0;34m'max_rows'\u001b[0m\u001b[0;34m,\u001b[0m \u001b[0;36m20\u001b[0m\u001b[0;34m)\u001b[0m\u001b[0;34m\u001b[0m\u001b[0m\n",
      "\u001b[0;32m/home/alourido/anaconda3/envs/py27/lib/python2.7/site-packages/pandas/core/config.pyc\u001b[0m in \u001b[0;36m__call__\u001b[0;34m(self, *args, **kwds)\u001b[0m\n\u001b[1;32m    225\u001b[0m \u001b[0;34m\u001b[0m\u001b[0m\n\u001b[1;32m    226\u001b[0m     \u001b[0;32mdef\u001b[0m \u001b[0m__call__\u001b[0m\u001b[0;34m(\u001b[0m\u001b[0mself\u001b[0m\u001b[0;34m,\u001b[0m \u001b[0;34m*\u001b[0m\u001b[0margs\u001b[0m\u001b[0;34m,\u001b[0m \u001b[0;34m**\u001b[0m\u001b[0mkwds\u001b[0m\u001b[0;34m)\u001b[0m\u001b[0;34m:\u001b[0m\u001b[0;34m\u001b[0m\u001b[0m\n\u001b[0;32m--> 227\u001b[0;31m         \u001b[0;32mreturn\u001b[0m \u001b[0mself\u001b[0m\u001b[0;34m.\u001b[0m\u001b[0m__func__\u001b[0m\u001b[0;34m(\u001b[0m\u001b[0;34m*\u001b[0m\u001b[0margs\u001b[0m\u001b[0;34m,\u001b[0m \u001b[0;34m**\u001b[0m\u001b[0mkwds\u001b[0m\u001b[0;34m)\u001b[0m\u001b[0;34m\u001b[0m\u001b[0m\n\u001b[0m\u001b[1;32m    228\u001b[0m \u001b[0;34m\u001b[0m\u001b[0m\n\u001b[1;32m    229\u001b[0m     \u001b[0;34m@\u001b[0m\u001b[0mproperty\u001b[0m\u001b[0;34m\u001b[0m\u001b[0m\n",
      "\u001b[0;32m/home/alourido/anaconda3/envs/py27/lib/python2.7/site-packages/pandas/core/config.pyc\u001b[0m in \u001b[0;36m_set_option\u001b[0;34m(*args, **kwargs)\u001b[0m\n\u001b[1;32m    117\u001b[0m \u001b[0;34m\u001b[0m\u001b[0m\n\u001b[1;32m    118\u001b[0m     \u001b[0;32mfor\u001b[0m \u001b[0mk\u001b[0m\u001b[0;34m,\u001b[0m \u001b[0mv\u001b[0m \u001b[0;32min\u001b[0m \u001b[0mzip\u001b[0m\u001b[0;34m(\u001b[0m\u001b[0margs\u001b[0m\u001b[0;34m[\u001b[0m\u001b[0;34m:\u001b[0m\u001b[0;34m:\u001b[0m\u001b[0;36m2\u001b[0m\u001b[0;34m]\u001b[0m\u001b[0;34m,\u001b[0m \u001b[0margs\u001b[0m\u001b[0;34m[\u001b[0m\u001b[0;36m1\u001b[0m\u001b[0;34m:\u001b[0m\u001b[0;34m:\u001b[0m\u001b[0;36m2\u001b[0m\u001b[0;34m]\u001b[0m\u001b[0;34m)\u001b[0m\u001b[0;34m:\u001b[0m\u001b[0;34m\u001b[0m\u001b[0m\n\u001b[0;32m--> 119\u001b[0;31m         \u001b[0mkey\u001b[0m \u001b[0;34m=\u001b[0m \u001b[0m_get_single_key\u001b[0m\u001b[0;34m(\u001b[0m\u001b[0mk\u001b[0m\u001b[0;34m,\u001b[0m \u001b[0msilent\u001b[0m\u001b[0;34m)\u001b[0m\u001b[0;34m\u001b[0m\u001b[0m\n\u001b[0m\u001b[1;32m    120\u001b[0m \u001b[0;34m\u001b[0m\u001b[0m\n\u001b[1;32m    121\u001b[0m         \u001b[0mo\u001b[0m \u001b[0;34m=\u001b[0m \u001b[0m_get_registered_option\u001b[0m\u001b[0;34m(\u001b[0m\u001b[0mkey\u001b[0m\u001b[0;34m)\u001b[0m\u001b[0;34m\u001b[0m\u001b[0m\n",
      "\u001b[0;32m/home/alourido/anaconda3/envs/py27/lib/python2.7/site-packages/pandas/core/config.pyc\u001b[0m in \u001b[0;36m_get_single_key\u001b[0;34m(pat, silent)\u001b[0m\n\u001b[1;32m     83\u001b[0m         \u001b[0;32mraise\u001b[0m \u001b[0mOptionError\u001b[0m\u001b[0;34m(\u001b[0m\u001b[0;34m'No such keys(s): {pat!r}'\u001b[0m\u001b[0;34m.\u001b[0m\u001b[0mformat\u001b[0m\u001b[0;34m(\u001b[0m\u001b[0mpat\u001b[0m\u001b[0;34m=\u001b[0m\u001b[0mpat\u001b[0m\u001b[0;34m)\u001b[0m\u001b[0;34m)\u001b[0m\u001b[0;34m\u001b[0m\u001b[0m\n\u001b[1;32m     84\u001b[0m     \u001b[0;32mif\u001b[0m \u001b[0mlen\u001b[0m\u001b[0;34m(\u001b[0m\u001b[0mkeys\u001b[0m\u001b[0;34m)\u001b[0m \u001b[0;34m>\u001b[0m \u001b[0;36m1\u001b[0m\u001b[0;34m:\u001b[0m\u001b[0;34m\u001b[0m\u001b[0m\n\u001b[0;32m---> 85\u001b[0;31m         \u001b[0;32mraise\u001b[0m \u001b[0mOptionError\u001b[0m\u001b[0;34m(\u001b[0m\u001b[0;34m'Pattern matched multiple keys'\u001b[0m\u001b[0;34m)\u001b[0m\u001b[0;34m\u001b[0m\u001b[0m\n\u001b[0m\u001b[1;32m     86\u001b[0m     \u001b[0mkey\u001b[0m \u001b[0;34m=\u001b[0m \u001b[0mkeys\u001b[0m\u001b[0;34m[\u001b[0m\u001b[0;36m0\u001b[0m\u001b[0;34m]\u001b[0m\u001b[0;34m\u001b[0m\u001b[0m\n\u001b[1;32m     87\u001b[0m \u001b[0;34m\u001b[0m\u001b[0m\n",
      "\u001b[0;31mOptionError\u001b[0m: 'Pattern matched multiple keys'"
     ]
    }
   ],
   "source": [
    "import pandas as pd\n",
    "import numpy as np\n",
    "\n",
    "# Set some Pandas options\n",
    "pd.set_option('html', False)\n",
    "pd.set_option('max_columns', 30)\n",
    "pd.set_option('max_rows', 20)"
   ]
  },
  {
   "cell_type": "code",
   "execution_count": 180,
   "metadata": {},
   "outputs": [],
   "source": [
    "import pandas as pd\n",
    "import numpy as np\n",
    "\n",
    "# Set some Pandas options\n",
    "pd.set_option('display.html.table_schema', False)\n",
    "pd.set_option('max_columns', 30)\n",
    "pd.set_option('max_rows', 20)"
   ]
  },
  {
   "cell_type": "code",
   "execution_count": 181,
   "metadata": {},
   "outputs": [
    {
     "data": {
      "text/plain": [
       "(62, 3)"
      ]
     },
     "execution_count": 181,
     "metadata": {},
     "output_type": "execute_result"
    }
   ],
   "source": [
    "import pandas as pd\n",
    "data = pd.read_csv(\"http://www.mosaic-web.org/go/datasets/swim100m.csv\")\n",
    "data.shape   # an attribute to see how many cases and variables there are in a data frame"
   ]
  },
  {
   "cell_type": "code",
   "execution_count": 182,
   "metadata": {},
   "outputs": [
    {
     "data": {
      "text/plain": [
       "pandas.core.frame.DataFrame"
      ]
     },
     "execution_count": 182,
     "metadata": {},
     "output_type": "execute_result"
    }
   ],
   "source": [
    "type(data)"
   ]
  },
  {
   "cell_type": "code",
   "execution_count": 183,
   "metadata": {},
   "outputs": [
    {
     "data": {
      "text/html": [
       "<div>\n",
       "<style scoped>\n",
       "    .dataframe tbody tr th:only-of-type {\n",
       "        vertical-align: middle;\n",
       "    }\n",
       "\n",
       "    .dataframe tbody tr th {\n",
       "        vertical-align: top;\n",
       "    }\n",
       "\n",
       "    .dataframe thead th {\n",
       "        text-align: right;\n",
       "    }\n",
       "</style>\n",
       "<table border=\"1\" class=\"dataframe\">\n",
       "  <thead>\n",
       "    <tr style=\"text-align: right;\">\n",
       "      <th></th>\n",
       "      <th>year</th>\n",
       "      <th>time</th>\n",
       "      <th>sex</th>\n",
       "    </tr>\n",
       "  </thead>\n",
       "  <tbody>\n",
       "    <tr>\n",
       "      <th>0</th>\n",
       "      <td>1905</td>\n",
       "      <td>65.8</td>\n",
       "      <td>M</td>\n",
       "    </tr>\n",
       "    <tr>\n",
       "      <th>1</th>\n",
       "      <td>1908</td>\n",
       "      <td>65.6</td>\n",
       "      <td>M</td>\n",
       "    </tr>\n",
       "    <tr>\n",
       "      <th>2</th>\n",
       "      <td>1910</td>\n",
       "      <td>62.8</td>\n",
       "      <td>M</td>\n",
       "    </tr>\n",
       "    <tr>\n",
       "      <th>3</th>\n",
       "      <td>1912</td>\n",
       "      <td>61.6</td>\n",
       "      <td>M</td>\n",
       "    </tr>\n",
       "    <tr>\n",
       "      <th>4</th>\n",
       "      <td>1918</td>\n",
       "      <td>61.4</td>\n",
       "      <td>M</td>\n",
       "    </tr>\n",
       "  </tbody>\n",
       "</table>\n",
       "</div>"
      ],
      "text/plain": [
       "   year  time sex\n",
       "0  1905  65.8   M\n",
       "1  1908  65.6   M\n",
       "2  1910  62.8   M\n",
       "3  1912  61.6   M\n",
       "4  1918  61.4   M"
      ]
     },
     "execution_count": 183,
     "metadata": {},
     "output_type": "execute_result"
    }
   ],
   "source": [
    "data.head()  # display of the firsts rows"
   ]
  },
  {
   "cell_type": "code",
   "execution_count": 184,
   "metadata": {},
   "outputs": [
    {
     "data": {
      "text/html": [
       "<div>\n",
       "<style scoped>\n",
       "    .dataframe tbody tr th:only-of-type {\n",
       "        vertical-align: middle;\n",
       "    }\n",
       "\n",
       "    .dataframe tbody tr th {\n",
       "        vertical-align: top;\n",
       "    }\n",
       "\n",
       "    .dataframe thead th {\n",
       "        text-align: right;\n",
       "    }\n",
       "</style>\n",
       "<table border=\"1\" class=\"dataframe\">\n",
       "  <thead>\n",
       "    <tr style=\"text-align: right;\">\n",
       "      <th></th>\n",
       "      <th>mpg</th>\n",
       "      <th>cylinders</th>\n",
       "      <th>displacement</th>\n",
       "      <th>horsepower</th>\n",
       "      <th>weight</th>\n",
       "      <th>acceleration</th>\n",
       "      <th>year</th>\n",
       "      <th>origin</th>\n",
       "      <th>name</th>\n",
       "    </tr>\n",
       "  </thead>\n",
       "  <tbody>\n",
       "    <tr>\n",
       "      <th>392</th>\n",
       "      <td>27.0</td>\n",
       "      <td>4</td>\n",
       "      <td>140.0</td>\n",
       "      <td>86</td>\n",
       "      <td>2790</td>\n",
       "      <td>15.6</td>\n",
       "      <td>82</td>\n",
       "      <td>1</td>\n",
       "      <td>ford mustang gl</td>\n",
       "    </tr>\n",
       "    <tr>\n",
       "      <th>393</th>\n",
       "      <td>44.0</td>\n",
       "      <td>4</td>\n",
       "      <td>97.0</td>\n",
       "      <td>52</td>\n",
       "      <td>2130</td>\n",
       "      <td>24.6</td>\n",
       "      <td>82</td>\n",
       "      <td>2</td>\n",
       "      <td>vw pickup</td>\n",
       "    </tr>\n",
       "    <tr>\n",
       "      <th>394</th>\n",
       "      <td>32.0</td>\n",
       "      <td>4</td>\n",
       "      <td>135.0</td>\n",
       "      <td>84</td>\n",
       "      <td>2295</td>\n",
       "      <td>11.6</td>\n",
       "      <td>82</td>\n",
       "      <td>1</td>\n",
       "      <td>dodge rampage</td>\n",
       "    </tr>\n",
       "    <tr>\n",
       "      <th>395</th>\n",
       "      <td>28.0</td>\n",
       "      <td>4</td>\n",
       "      <td>120.0</td>\n",
       "      <td>79</td>\n",
       "      <td>2625</td>\n",
       "      <td>18.6</td>\n",
       "      <td>82</td>\n",
       "      <td>1</td>\n",
       "      <td>ford ranger</td>\n",
       "    </tr>\n",
       "    <tr>\n",
       "      <th>396</th>\n",
       "      <td>31.0</td>\n",
       "      <td>4</td>\n",
       "      <td>119.0</td>\n",
       "      <td>82</td>\n",
       "      <td>2720</td>\n",
       "      <td>19.4</td>\n",
       "      <td>82</td>\n",
       "      <td>1</td>\n",
       "      <td>chevy s-10</td>\n",
       "    </tr>\n",
       "  </tbody>\n",
       "</table>\n",
       "</div>"
      ],
      "text/plain": [
       "      mpg  cylinders  displacement horsepower  weight  acceleration  year  \\\n",
       "392  27.0          4         140.0         86    2790          15.6    82   \n",
       "393  44.0          4          97.0         52    2130          24.6    82   \n",
       "394  32.0          4         135.0         84    2295          11.6    82   \n",
       "395  28.0          4         120.0         79    2625          18.6    82   \n",
       "396  31.0          4         119.0         82    2720          19.4    82   \n",
       "\n",
       "     origin             name  \n",
       "392       1  ford mustang gl  \n",
       "393       2        vw pickup  \n",
       "394       1    dodge rampage  \n",
       "395       1      ford ranger  \n",
       "396       1       chevy s-10  "
      ]
     },
     "execution_count": 184,
     "metadata": {},
     "output_type": "execute_result"
    }
   ],
   "source": [
    "# Load car dataset\n",
    "auto = pd.read_csv(\"data/Auto.csv\")\n",
    "auto.tail()  # print the last lines"
   ]
  },
  {
   "cell_type": "markdown",
   "metadata": {},
   "source": [
    "Tabular data generally, involve variables and cases. \n",
    "\n",
    "In ‘pandas’ data frames, each of the variables is given a name. You can refer to the variable by name in a couple of diﬀerent ways:\n",
    "\n",
    "+ We can see the variable names in a data frame by using the columns attribute of the data frame object:"
   ]
  },
  {
   "cell_type": "code",
   "execution_count": 185,
   "metadata": {},
   "outputs": [
    {
     "data": {
      "text/plain": [
       "Index([u'year', u'time', u'sex'], dtype='object')"
      ]
     },
     "execution_count": 185,
     "metadata": {},
     "output_type": "execute_result"
    }
   ],
   "source": [
    "data.columns  # This is not a function; it is an attribute of the data frame."
   ]
  },
  {
   "cell_type": "markdown",
   "metadata": {},
   "source": [
    "+ Another way to get quick information about the variables in a data frame is with the function <code>describe()</code>:"
   ]
  },
  {
   "cell_type": "code",
   "execution_count": 186,
   "metadata": {},
   "outputs": [
    {
     "data": {
      "text/html": [
       "<div>\n",
       "<style scoped>\n",
       "    .dataframe tbody tr th:only-of-type {\n",
       "        vertical-align: middle;\n",
       "    }\n",
       "\n",
       "    .dataframe tbody tr th {\n",
       "        vertical-align: top;\n",
       "    }\n",
       "\n",
       "    .dataframe thead th {\n",
       "        text-align: right;\n",
       "    }\n",
       "</style>\n",
       "<table border=\"1\" class=\"dataframe\">\n",
       "  <thead>\n",
       "    <tr style=\"text-align: right;\">\n",
       "      <th></th>\n",
       "      <th>year</th>\n",
       "      <th>time</th>\n",
       "    </tr>\n",
       "  </thead>\n",
       "  <tbody>\n",
       "    <tr>\n",
       "      <th>count</th>\n",
       "      <td>62.000000</td>\n",
       "      <td>62.000000</td>\n",
       "    </tr>\n",
       "    <tr>\n",
       "      <th>mean</th>\n",
       "      <td>1952.145161</td>\n",
       "      <td>59.924194</td>\n",
       "    </tr>\n",
       "    <tr>\n",
       "      <th>std</th>\n",
       "      <td>29.472881</td>\n",
       "      <td>9.916588</td>\n",
       "    </tr>\n",
       "    <tr>\n",
       "      <th>min</th>\n",
       "      <td>1905.000000</td>\n",
       "      <td>47.840000</td>\n",
       "    </tr>\n",
       "    <tr>\n",
       "      <th>25%</th>\n",
       "      <td>1924.500000</td>\n",
       "      <td>53.642500</td>\n",
       "    </tr>\n",
       "    <tr>\n",
       "      <th>50%</th>\n",
       "      <td>1956.500000</td>\n",
       "      <td>56.880000</td>\n",
       "    </tr>\n",
       "    <tr>\n",
       "      <th>75%</th>\n",
       "      <td>1975.750000</td>\n",
       "      <td>65.200000</td>\n",
       "    </tr>\n",
       "    <tr>\n",
       "      <th>max</th>\n",
       "      <td>2004.000000</td>\n",
       "      <td>95.000000</td>\n",
       "    </tr>\n",
       "  </tbody>\n",
       "</table>\n",
       "</div>"
      ],
      "text/plain": [
       "              year       time\n",
       "count    62.000000  62.000000\n",
       "mean   1952.145161  59.924194\n",
       "std      29.472881   9.916588\n",
       "min    1905.000000  47.840000\n",
       "25%    1924.500000  53.642500\n",
       "50%    1956.500000  56.880000\n",
       "75%    1975.750000  65.200000\n",
       "max    2004.000000  95.000000"
      ]
     },
     "execution_count": 186,
     "metadata": {},
     "output_type": "execute_result"
    }
   ],
   "source": [
    "data.describe()  # the output from describe() is itself a data frame."
   ]
  },
  {
   "cell_type": "markdown",
   "metadata": {},
   "source": [
    "### Reading from the clipboard\n",
    "\n",
    "We can also read data directly from the clipboard."
   ]
  },
  {
   "cell_type": "code",
   "execution_count": 187,
   "metadata": {},
   "outputs": [
    {
     "ename": "PyperclipException",
     "evalue": "\n    Pyperclip could not find a copy/paste mechanism for your system.\n    For more information, please visit https://pyperclip.readthedocs.org ",
     "output_type": "error",
     "traceback": [
      "\u001b[0;31m---------------------------------------------------------------------------\u001b[0m",
      "\u001b[0;31mPyperclipException\u001b[0m                        Traceback (most recent call last)",
      "\u001b[0;32m<ipython-input-187-fb35b7643c5e>\u001b[0m in \u001b[0;36m<module>\u001b[0;34m()\u001b[0m\n\u001b[1;32m      4\u001b[0m \u001b[0;32mimport\u001b[0m \u001b[0mnumpy\u001b[0m \u001b[0;32mas\u001b[0m \u001b[0mnp\u001b[0m\u001b[0;34m\u001b[0m\u001b[0m\n\u001b[1;32m      5\u001b[0m \u001b[0;32mimport\u001b[0m \u001b[0mmatplotlib\u001b[0m\u001b[0;34m.\u001b[0m\u001b[0mpyplot\u001b[0m \u001b[0;32mas\u001b[0m \u001b[0mplt\u001b[0m\u001b[0;34m\u001b[0m\u001b[0m\n\u001b[0;32m----> 6\u001b[0;31m \u001b[0mbedford\u001b[0m \u001b[0;34m=\u001b[0m \u001b[0mpd\u001b[0m\u001b[0;34m.\u001b[0m\u001b[0mread_clipboard\u001b[0m\u001b[0;34m(\u001b[0m\u001b[0;34m)\u001b[0m\u001b[0;34m\u001b[0m\u001b[0m\n\u001b[0m\u001b[1;32m      7\u001b[0m \u001b[0mbedford\u001b[0m\u001b[0;34m.\u001b[0m\u001b[0mhead\u001b[0m\u001b[0;34m(\u001b[0m\u001b[0;34m)\u001b[0m\u001b[0;34m\u001b[0m\u001b[0m\n",
      "\u001b[0;32m/home/alourido/anaconda3/envs/py27/lib/python2.7/site-packages/pandas/io/clipboards.pyc\u001b[0m in \u001b[0;36mread_clipboard\u001b[0;34m(sep, **kwargs)\u001b[0m\n\u001b[1;32m     35\u001b[0m     \u001b[0;32mfrom\u001b[0m \u001b[0mpandas\u001b[0m\u001b[0;34m.\u001b[0m\u001b[0mio\u001b[0m\u001b[0;34m.\u001b[0m\u001b[0mclipboard\u001b[0m \u001b[0;32mimport\u001b[0m \u001b[0mclipboard_get\u001b[0m\u001b[0;34m\u001b[0m\u001b[0m\n\u001b[1;32m     36\u001b[0m     \u001b[0;32mfrom\u001b[0m \u001b[0mpandas\u001b[0m\u001b[0;34m.\u001b[0m\u001b[0mio\u001b[0m\u001b[0;34m.\u001b[0m\u001b[0mparsers\u001b[0m \u001b[0;32mimport\u001b[0m \u001b[0mread_csv\u001b[0m\u001b[0;34m\u001b[0m\u001b[0m\n\u001b[0;32m---> 37\u001b[0;31m     \u001b[0mtext\u001b[0m \u001b[0;34m=\u001b[0m \u001b[0mclipboard_get\u001b[0m\u001b[0;34m(\u001b[0m\u001b[0;34m)\u001b[0m\u001b[0;34m\u001b[0m\u001b[0m\n\u001b[0m\u001b[1;32m     38\u001b[0m \u001b[0;34m\u001b[0m\u001b[0m\n\u001b[1;32m     39\u001b[0m     \u001b[0;31m# try to decode (if needed on PY3)\u001b[0m\u001b[0;34m\u001b[0m\u001b[0;34m\u001b[0m\u001b[0m\n",
      "\u001b[0;32m/home/alourido/anaconda3/envs/py27/lib/python2.7/site-packages/pandas/io/clipboard/clipboards.pyc\u001b[0m in \u001b[0;36m__call__\u001b[0;34m(self, *args, **kwargs)\u001b[0m\n\u001b[1;32m    134\u001b[0m \u001b[0;34m\u001b[0m\u001b[0m\n\u001b[1;32m    135\u001b[0m         \u001b[0;32mdef\u001b[0m \u001b[0m__call__\u001b[0m\u001b[0;34m(\u001b[0m\u001b[0mself\u001b[0m\u001b[0;34m,\u001b[0m \u001b[0;34m*\u001b[0m\u001b[0margs\u001b[0m\u001b[0;34m,\u001b[0m \u001b[0;34m**\u001b[0m\u001b[0mkwargs\u001b[0m\u001b[0;34m)\u001b[0m\u001b[0;34m:\u001b[0m\u001b[0;34m\u001b[0m\u001b[0m\n\u001b[0;32m--> 136\u001b[0;31m             \u001b[0;32mraise\u001b[0m \u001b[0mPyperclipException\u001b[0m\u001b[0;34m(\u001b[0m\u001b[0mEXCEPT_MSG\u001b[0m\u001b[0;34m)\u001b[0m\u001b[0;34m\u001b[0m\u001b[0m\n\u001b[0m\u001b[1;32m    137\u001b[0m \u001b[0;34m\u001b[0m\u001b[0m\n\u001b[1;32m    138\u001b[0m         \u001b[0;32mif\u001b[0m \u001b[0mPY2\u001b[0m\u001b[0;34m:\u001b[0m\u001b[0;34m\u001b[0m\u001b[0m\n",
      "\u001b[0;31mPyperclipException\u001b[0m: \n    Pyperclip could not find a copy/paste mechanism for your system.\n    For more information, please visit https://pyperclip.readthedocs.org "
     ]
    }
   ],
   "source": [
    "# we can select a part of a DataFrame of this page to build a new one.\n",
    "\n",
    "import pandas as pd\n",
    "import numpy as np\n",
    "import matplotlib.pyplot as plt\n",
    "bedford = pd.read_clipboard()\n",
    "bedford.head()"
   ]
  },
  {
   "cell_type": "markdown",
   "metadata": {},
   "source": [
    "### Reading from APIs\n",
    "\n",
    "We can read online data from public API's such as http://www.citybik.es/"
   ]
  },
  {
   "cell_type": "code",
   "execution_count": null,
   "metadata": {},
   "outputs": [],
   "source": [
    "import pandas as pd\n",
    "import seaborn as sn\n",
    "d = pd.read_json('http://api.citybik.es/bicing.json')   \n",
    "d.info()"
   ]
  },
  {
   "cell_type": "code",
   "execution_count": null,
   "metadata": {},
   "outputs": [],
   "source": [
    "d.head(1)"
   ]
  },
  {
   "cell_type": "code",
   "execution_count": null,
   "metadata": {},
   "outputs": [],
   "source": [
    "%matplotlib inline\n",
    "import matplotlib.pylab as plt\n",
    "a = plt.hist(d.bikes, bins=10)"
   ]
  },
  {
   "cell_type": "markdown",
   "metadata": {},
   "source": [
    "### ‘pandas’ methods and ‘numpy’ operators and other functions.\n",
    "\n",
    "There are a lot of methods that can be applied to data:"
   ]
  },
  {
   "cell_type": "code",
   "execution_count": 188,
   "metadata": {},
   "outputs": [
    {
     "data": {
      "text/plain": [
       "0     1905\n",
       "1     1908\n",
       "2     1910\n",
       "3     1912\n",
       "4     1918\n",
       "5     1920\n",
       "6     1922\n",
       "7     1924\n",
       "8     1934\n",
       "9     1935\n",
       "      ... \n",
       "52    1973\n",
       "53    1974\n",
       "54    1976\n",
       "55    1978\n",
       "56    1980\n",
       "57    1986\n",
       "58    1992\n",
       "59    1994\n",
       "60    2000\n",
       "61    2004\n",
       "Name: year, Length: 62, dtype: int64"
      ]
     },
     "execution_count": 188,
     "metadata": {},
     "output_type": "execute_result"
    }
   ],
   "source": [
    "data['year']"
   ]
  },
  {
   "cell_type": "code",
   "execution_count": 189,
   "metadata": {},
   "outputs": [
    {
     "name": "stdout",
     "output_type": "stream",
     "text": [
      "62\n",
      "1952.1451612903227\n",
      "0\n",
      "1905\n",
      "121033\n"
     ]
    },
    {
     "name": "stderr",
     "output_type": "stream",
     "text": [
      "/home/alourido/anaconda3/envs/py27/lib/python2.7/site-packages/ipykernel_launcher.py:3: FutureWarning: \n",
      "The current behaviour of 'Series.argmin' is deprecated, use 'idxmin'\n",
      "instead.\n",
      "The behavior of 'argmin' will be corrected to return the positional\n",
      "minimum in the future. For now, use 'series.values.argmin' or\n",
      "'np.argmin(np.array(values))' to get the position of the minimum\n",
      "row.\n",
      "  This is separate from the ipykernel package so we can avoid doing imports until\n"
     ]
    }
   ],
   "source": [
    "print data.year.count()    # number of non-NaN values\n",
    "print data.year.mean()     # mean value \n",
    "print data.year.argmin()   # index location at which min is obtained\n",
    "print data.year.min()      # min value\n",
    "print data.year.sum()   # sum of values"
   ]
  },
  {
   "cell_type": "markdown",
   "metadata": {},
   "source": [
    "It is also possible to combine ‘numpy’ operators with ‘pandas’ variables:"
   ]
  },
  {
   "cell_type": "code",
   "execution_count": 190,
   "metadata": {},
   "outputs": [
    {
     "data": {
      "text/plain": [
       "1905"
      ]
     },
     "execution_count": 190,
     "metadata": {},
     "output_type": "execute_result"
    }
   ],
   "source": [
    "np.min(data[\"year\"])"
   ]
  },
  {
   "cell_type": "markdown",
   "metadata": {},
   "source": [
    "When you encounter a function that isn’t supported by data frames, you can use ‘numpy’ functions or the special <code>apply</code> function built-into data frames.\n",
    "\n",
    "Using the ``apply()``method, which takes an anonymous function, we can apply any function to each value in a column."
   ]
  },
  {
   "cell_type": "code",
   "execution_count": 191,
   "metadata": {},
   "outputs": [
    {
     "data": {
      "text/html": [
       "<div>\n",
       "<style scoped>\n",
       "    .dataframe tbody tr th:only-of-type {\n",
       "        vertical-align: middle;\n",
       "    }\n",
       "\n",
       "    .dataframe tbody tr th {\n",
       "        vertical-align: top;\n",
       "    }\n",
       "\n",
       "    .dataframe thead th {\n",
       "        text-align: right;\n",
       "    }\n",
       "</style>\n",
       "<table border=\"1\" class=\"dataframe\">\n",
       "  <thead>\n",
       "    <tr style=\"text-align: right;\">\n",
       "      <th></th>\n",
       "      <th>VarA</th>\n",
       "      <th>VarB</th>\n",
       "    </tr>\n",
       "  </thead>\n",
       "  <tbody>\n",
       "    <tr>\n",
       "      <th>Case1</th>\n",
       "      <td>aa</td>\n",
       "      <td>400</td>\n",
       "    </tr>\n",
       "    <tr>\n",
       "      <th>Case2</th>\n",
       "      <td>bb</td>\n",
       "      <td>900</td>\n",
       "    </tr>\n",
       "  </tbody>\n",
       "</table>\n",
       "</div>"
      ],
      "text/plain": [
       "      VarA  VarB\n",
       "Case1   aa   400\n",
       "Case2   bb   900"
      ]
     },
     "execution_count": 191,
     "metadata": {},
     "output_type": "execute_result"
    }
   ],
   "source": [
    "c = pd.DataFrame({'VarA':['aa','bb'], 'VarB':[20,30]}, index = ['Case1','Case2'])\n",
    "\n",
    "def f(a):\n",
    "    return a**2\n",
    "\n",
    "c.VarB = c.VarB.apply(lambda d: f(d))\n",
    "c"
   ]
  },
  {
   "cell_type": "code",
   "execution_count": 192,
   "metadata": {},
   "outputs": [
    {
     "data": {
      "text/plain": [
       "0    43.646306\n",
       "1    43.680659\n",
       "2    43.703547\n",
       "3    43.726422\n",
       "4    43.794977\n",
       "5    43.817805\n",
       "6    43.840620\n",
       "7    43.863424\n",
       "8    43.977267\n",
       "9    43.988635\n",
       "Name: year, dtype: float64"
      ]
     },
     "execution_count": 192,
     "metadata": {},
     "output_type": "execute_result"
    }
   ],
   "source": [
    "data.year.apply(np.sqrt).head(10) "
   ]
  },
  {
   "cell_type": "markdown",
   "metadata": {},
   "source": [
    "Alternatively, since columns are basically just arrays, we can use built-in numpy functions directly on the columns:"
   ]
  },
  {
   "cell_type": "code",
   "execution_count": 193,
   "metadata": {},
   "outputs": [
    {
     "data": {
      "text/plain": [
       "0    43.646306\n",
       "1    43.680659\n",
       "2    43.703547\n",
       "3    43.726422\n",
       "4    43.794977\n",
       "Name: year, dtype: float64"
      ]
     },
     "execution_count": 193,
     "metadata": {},
     "output_type": "execute_result"
    }
   ],
   "source": [
    "np.sqrt(data.year).head()"
   ]
  },
  {
   "cell_type": "markdown",
   "metadata": {},
   "source": [
    "### Aggregating\n",
    "\n",
    "<code>groupby</code> is the ‘pandas’ way of grouping or aggregating data frames by columns.\n",
    "\n",
    "You can construct statements that involve more than one column within a data frame. \n",
    "\n",
    "For instance, here’s a calculation of the mean year, separately for (grouping by) the different sexes:"
   ]
  },
  {
   "cell_type": "code",
   "execution_count": 194,
   "metadata": {},
   "outputs": [
    {
     "data": {
      "text/plain": [
       "sex\n",
       "F    1950.677419\n",
       "M    1953.612903\n",
       "Name: year, dtype: float64"
      ]
     },
     "execution_count": 194,
     "metadata": {},
     "output_type": "execute_result"
    }
   ],
   "source": [
    "data.groupby('sex')['year'].mean()"
   ]
  },
  {
   "cell_type": "code",
   "execution_count": 195,
   "metadata": {},
   "outputs": [
    {
     "data": {
      "text/plain": [
       "sex  year\n",
       "M    1936    56.40\n",
       "     1944    55.90\n",
       "     1947    55.80\n",
       "     1948    55.40\n",
       "     1955    54.80\n",
       "     1957    54.60\n",
       "     1961    53.60\n",
       "     1964    52.90\n",
       "     1967    52.60\n",
       "     1968    52.20\n",
       "     1970    51.90\n",
       "     1972    51.22\n",
       "     1975    50.59\n",
       "     1976    49.44\n",
       "     1981    49.36\n",
       "     1985    49.24\n",
       "     1986    48.74\n",
       "     1988    48.42\n",
       "     1994    48.21\n",
       "     2000    48.01\n",
       "Name: time, dtype: float64"
      ]
     },
     "execution_count": 195,
     "metadata": {},
     "output_type": "execute_result"
    }
   ],
   "source": [
    "res = data.groupby(['sex','year'])['time'].mean()\n",
    "res.tail(20)"
   ]
  },
  {
   "cell_type": "markdown",
   "metadata": {},
   "source": [
    "You can iterate through the result of a ``groupby`` (that returns a tuple). The first item is the column values and the second is a filtered dataframe. "
   ]
  },
  {
   "cell_type": "code",
   "execution_count": 196,
   "metadata": {},
   "outputs": [
    {
     "data": {
      "text/html": [
       "<div>\n",
       "<style scoped>\n",
       "    .dataframe tbody tr th:only-of-type {\n",
       "        vertical-align: middle;\n",
       "    }\n",
       "\n",
       "    .dataframe tbody tr th {\n",
       "        vertical-align: top;\n",
       "    }\n",
       "\n",
       "    .dataframe thead th {\n",
       "        text-align: right;\n",
       "    }\n",
       "</style>\n",
       "<table border=\"1\" class=\"dataframe\">\n",
       "  <thead>\n",
       "    <tr style=\"text-align: right;\">\n",
       "      <th></th>\n",
       "      <th>year</th>\n",
       "      <th>time</th>\n",
       "      <th>sex</th>\n",
       "    </tr>\n",
       "  </thead>\n",
       "  <tbody>\n",
       "    <tr>\n",
       "      <th>0</th>\n",
       "      <td>1905</td>\n",
       "      <td>65.8</td>\n",
       "      <td>M</td>\n",
       "    </tr>\n",
       "    <tr>\n",
       "      <th>1</th>\n",
       "      <td>1908</td>\n",
       "      <td>65.6</td>\n",
       "      <td>M</td>\n",
       "    </tr>\n",
       "    <tr>\n",
       "      <th>2</th>\n",
       "      <td>1910</td>\n",
       "      <td>62.8</td>\n",
       "      <td>M</td>\n",
       "    </tr>\n",
       "    <tr>\n",
       "      <th>3</th>\n",
       "      <td>1912</td>\n",
       "      <td>61.6</td>\n",
       "      <td>M</td>\n",
       "    </tr>\n",
       "    <tr>\n",
       "      <th>4</th>\n",
       "      <td>1918</td>\n",
       "      <td>61.4</td>\n",
       "      <td>M</td>\n",
       "    </tr>\n",
       "  </tbody>\n",
       "</table>\n",
       "</div>"
      ],
      "text/plain": [
       "   year  time sex\n",
       "0  1905  65.8   M\n",
       "1  1908  65.6   M\n",
       "2  1910  62.8   M\n",
       "3  1912  61.6   M\n",
       "4  1918  61.4   M"
      ]
     },
     "execution_count": 196,
     "metadata": {},
     "output_type": "execute_result"
    }
   ],
   "source": [
    "data.head()"
   ]
  },
  {
   "cell_type": "code",
   "execution_count": 197,
   "metadata": {},
   "outputs": [
    {
     "name": "stdout",
     "output_type": "stream",
     "text": [
      "{'M': year    1953.612903\n",
      "time      54.656129\n",
      "dtype: float64, 'F': year    1950.677419\n",
      "time      65.192258\n",
      "dtype: float64}\n"
     ]
    }
   ],
   "source": [
    "dic = {}\n",
    "for i,j in data.groupby('sex'):\n",
    "    dic[i] = j.mean()\n",
    "    \n",
    "print dic,"
   ]
  },
  {
   "cell_type": "markdown",
   "metadata": {},
   "source": [
    "You can group by more than one column as well: the first tuple item will itself be a tuple with the value of each column."
   ]
  },
  {
   "cell_type": "code",
   "execution_count": 198,
   "metadata": {},
   "outputs": [
    {
     "data": {
      "text/html": [
       "<div>\n",
       "<style scoped>\n",
       "    .dataframe tbody tr th:only-of-type {\n",
       "        vertical-align: middle;\n",
       "    }\n",
       "\n",
       "    .dataframe tbody tr th {\n",
       "        vertical-align: top;\n",
       "    }\n",
       "\n",
       "    .dataframe thead th {\n",
       "        text-align: right;\n",
       "    }\n",
       "</style>\n",
       "<table border=\"1\" class=\"dataframe\">\n",
       "  <thead>\n",
       "    <tr style=\"text-align: right;\">\n",
       "      <th></th>\n",
       "      <th>mpg</th>\n",
       "      <th>cylinders</th>\n",
       "      <th>displacement</th>\n",
       "      <th>horsepower</th>\n",
       "      <th>weight</th>\n",
       "      <th>acceleration</th>\n",
       "      <th>year</th>\n",
       "      <th>origin</th>\n",
       "      <th>name</th>\n",
       "    </tr>\n",
       "  </thead>\n",
       "  <tbody>\n",
       "    <tr>\n",
       "      <th>0</th>\n",
       "      <td>18.0</td>\n",
       "      <td>8</td>\n",
       "      <td>307.0</td>\n",
       "      <td>130</td>\n",
       "      <td>3504</td>\n",
       "      <td>12.0</td>\n",
       "      <td>70</td>\n",
       "      <td>1</td>\n",
       "      <td>chevrolet chevelle malibu</td>\n",
       "    </tr>\n",
       "    <tr>\n",
       "      <th>1</th>\n",
       "      <td>15.0</td>\n",
       "      <td>8</td>\n",
       "      <td>350.0</td>\n",
       "      <td>165</td>\n",
       "      <td>3693</td>\n",
       "      <td>11.5</td>\n",
       "      <td>70</td>\n",
       "      <td>1</td>\n",
       "      <td>buick skylark 320</td>\n",
       "    </tr>\n",
       "    <tr>\n",
       "      <th>2</th>\n",
       "      <td>18.0</td>\n",
       "      <td>8</td>\n",
       "      <td>318.0</td>\n",
       "      <td>150</td>\n",
       "      <td>3436</td>\n",
       "      <td>11.0</td>\n",
       "      <td>70</td>\n",
       "      <td>1</td>\n",
       "      <td>plymouth satellite</td>\n",
       "    </tr>\n",
       "    <tr>\n",
       "      <th>3</th>\n",
       "      <td>16.0</td>\n",
       "      <td>8</td>\n",
       "      <td>304.0</td>\n",
       "      <td>150</td>\n",
       "      <td>3433</td>\n",
       "      <td>12.0</td>\n",
       "      <td>70</td>\n",
       "      <td>1</td>\n",
       "      <td>amc rebel sst</td>\n",
       "    </tr>\n",
       "    <tr>\n",
       "      <th>4</th>\n",
       "      <td>17.0</td>\n",
       "      <td>8</td>\n",
       "      <td>302.0</td>\n",
       "      <td>140</td>\n",
       "      <td>3449</td>\n",
       "      <td>10.5</td>\n",
       "      <td>70</td>\n",
       "      <td>1</td>\n",
       "      <td>ford torino</td>\n",
       "    </tr>\n",
       "  </tbody>\n",
       "</table>\n",
       "</div>"
      ],
      "text/plain": [
       "    mpg  cylinders  displacement horsepower  weight  acceleration  year  \\\n",
       "0  18.0          8         307.0        130    3504          12.0    70   \n",
       "1  15.0          8         350.0        165    3693          11.5    70   \n",
       "2  18.0          8         318.0        150    3436          11.0    70   \n",
       "3  16.0          8         304.0        150    3433          12.0    70   \n",
       "4  17.0          8         302.0        140    3449          10.5    70   \n",
       "\n",
       "   origin                       name  \n",
       "0       1  chevrolet chevelle malibu  \n",
       "1       1          buick skylark 320  \n",
       "2       1         plymouth satellite  \n",
       "3       1              amc rebel sst  \n",
       "4       1                ford torino  "
      ]
     },
     "execution_count": 198,
     "metadata": {},
     "output_type": "execute_result"
    }
   ],
   "source": [
    "auto.head()"
   ]
  },
  {
   "cell_type": "code",
   "execution_count": 203,
   "metadata": {},
   "outputs": [
    {
     "data": {
      "text/plain": [
       "<pandas.core.groupby.generic.DataFrameGroupBy object at 0x7fe0cfeb1c50>"
      ]
     },
     "execution_count": 203,
     "metadata": {},
     "output_type": "execute_result"
    }
   ],
   "source": [
    "auto.groupby('cylinders')"
   ]
  },
  {
   "cell_type": "code",
   "execution_count": 204,
   "metadata": {},
   "outputs": [
    {
     "data": {
      "text/plain": [
       "{('100', 3): mpg               23.7\n",
       " cylinders          3.0\n",
       " displacement      70.0\n",
       " horsepower       100.0\n",
       " weight          2420.0\n",
       " acceleration      12.5\n",
       " year              80.0\n",
       " origin             3.0\n",
       " dtype: float64, ('100', 4): mpg               32.9\n",
       " cylinders          4.0\n",
       " displacement     119.0\n",
       " horsepower       100.0\n",
       " weight          2615.0\n",
       " acceleration      14.8\n",
       " year              81.0\n",
       " origin             3.0\n",
       " dtype: float64, ('100', 6): mpg             1.843333e+01\n",
       " cylinders       6.000000e+00\n",
       " displacement    2.361333e+02\n",
       " horsepower      6.673340e+42\n",
       " weight          3.228067e+03\n",
       " acceleration    1.613333e+01\n",
       " year            7.380000e+01\n",
       " origin          1.000000e+00\n",
       " dtype: float64, ('102', 4): mpg               20.0\n",
       " cylinders          4.0\n",
       " displacement     130.0\n",
       " horsepower       102.0\n",
       " weight          3150.0\n",
       " acceleration      15.7\n",
       " year              76.0\n",
       " origin             2.0\n",
       " dtype: float64, ('103', 5): mpg               20.3\n",
       " cylinders          5.0\n",
       " displacement     131.0\n",
       " horsepower       103.0\n",
       " weight          2830.0\n",
       " acceleration      15.9\n",
       " year              78.0\n",
       " origin             2.0\n",
       " dtype: float64, ('105', 4): mpg                25.55\n",
       " cylinders           4.00\n",
       " displacement      156.00\n",
       " horsepower      52552.50\n",
       " weight           2772.50\n",
       " acceleration       15.55\n",
       " year               79.00\n",
       " origin              1.00\n",
       " dtype: float64, ('105', 6): mpg             1.870000e+01\n",
       " cylinders       6.000000e+00\n",
       " displacement    2.353333e+02\n",
       " horsepower      1.167835e+25\n",
       " weight          3.469111e+03\n",
       " acceleration    1.660000e+01\n",
       " year            7.522222e+01\n",
       " origin          1.000000e+00\n",
       " dtype: float64, ('105', 8): mpg               26.6\n",
       " cylinders          8.0\n",
       " displacement     350.0\n",
       " horsepower       105.0\n",
       " weight          3725.0\n",
       " acceleration      19.0\n",
       " year              81.0\n",
       " origin             1.0\n",
       " dtype: float64, ('107', 6): mpg               21.0\n",
       " cylinders          6.0\n",
       " displacement     155.0\n",
       " horsepower       107.0\n",
       " weight          2472.0\n",
       " acceleration      14.0\n",
       " year              73.0\n",
       " origin             1.0\n",
       " dtype: float64, ('108', 6): mpg               19.0\n",
       " cylinders          6.0\n",
       " displacement     156.0\n",
       " horsepower       108.0\n",
       " weight          2930.0\n",
       " acceleration      15.5\n",
       " year              76.0\n",
       " origin             3.0\n",
       " dtype: float64, ('110', 3): mpg               21.5\n",
       " cylinders          3.0\n",
       " displacement      80.0\n",
       " horsepower       110.0\n",
       " weight          2720.0\n",
       " acceleration      13.5\n",
       " year              77.0\n",
       " origin             3.0\n",
       " dtype: float64, ('110', 4): mpg                22.75\n",
       " cylinders           4.00\n",
       " displacement      121.00\n",
       " horsepower      55055.00\n",
       " weight           2630.00\n",
       " acceleration       13.40\n",
       " year               75.00\n",
       " origin              2.00\n",
       " dtype: float64, ('110', 6): mpg             1.942500e+01\n",
       " cylinders       6.000000e+00\n",
       " displacement    2.309167e+02\n",
       " horsepower      9.175843e+33\n",
       " weight          3.375000e+03\n",
       " acceleration    1.660000e+01\n",
       " year            7.700000e+01\n",
       " origin          1.000000e+00\n",
       " dtype: float64, ('110', 8): mpg             1.896667e+01\n",
       " cylinders       8.000000e+00\n",
       " displacement    2.606667e+02\n",
       " horsepower      3.670337e+07\n",
       " weight          3.548667e+03\n",
       " acceleration    1.600000e+01\n",
       " year            7.666667e+01\n",
       " origin          1.000000e+00\n",
       " dtype: float64, ('112', 4): mpg                18.5\n",
       " cylinders           4.0\n",
       " displacement      121.0\n",
       " horsepower      56056.0\n",
       " weight           2900.5\n",
       " acceleration       15.0\n",
       " year               72.5\n",
       " origin              2.0\n",
       " dtype: float64, ('112', 6): mpg               22.0\n",
       " cylinders          6.0\n",
       " displacement     232.0\n",
       " horsepower       112.0\n",
       " weight          2835.0\n",
       " acceleration      14.7\n",
       " year              82.0\n",
       " origin             1.0\n",
       " dtype: float64, ('113', 4): mpg               26.0\n",
       " cylinders          4.0\n",
       " displacement     121.0\n",
       " horsepower       113.0\n",
       " weight          2234.0\n",
       " acceleration      12.5\n",
       " year              70.0\n",
       " origin             2.0\n",
       " dtype: float64, ('115', 4): mpg                23.3\n",
       " cylinders           4.0\n",
       " displacement      121.0\n",
       " horsepower      57557.5\n",
       " weight           2733.0\n",
       " acceleration       14.6\n",
       " year               76.5\n",
       " origin              2.0\n",
       " dtype: float64, ('115', 6): mpg             2.570000e+01\n",
       " cylinders       6.000000e+00\n",
       " displacement    1.923333e+02\n",
       " horsepower      3.837170e+07\n",
       " weight          2.846667e+03\n",
       " acceleration    1.320000e+01\n",
       " year            7.900000e+01\n",
       " origin          1.000000e+00\n",
       " dtype: float64, ('116', 6): mpg               25.4\n",
       " cylinders          6.0\n",
       " displacement     168.0\n",
       " horsepower       116.0\n",
       " weight          2900.0\n",
       " acceleration      12.6\n",
       " year              81.0\n",
       " origin             3.0\n",
       " dtype: float64, ('120', 6): mpg             1.960000e+01\n",
       " cylinders       6.000000e+00\n",
       " displacement    1.906667e+02\n",
       " horsepower      4.004004e+07\n",
       " weight          3.386667e+03\n",
       " acceleration    1.520000e+01\n",
       " year            7.833333e+01\n",
       " origin          2.000000e+00\n",
       " dtype: float64, ('120', 8): mpg               15.5\n",
       " cylinders          8.0\n",
       " displacement     304.0\n",
       " horsepower       120.0\n",
       " weight          3962.0\n",
       " acceleration      13.9\n",
       " year              76.0\n",
       " origin             1.0\n",
       " dtype: float64, ('122', 6): mpg               20.0\n",
       " cylinders          6.0\n",
       " displacement     156.0\n",
       " horsepower       122.0\n",
       " weight          2807.0\n",
       " acceleration      13.5\n",
       " year              73.0\n",
       " origin             3.0\n",
       " dtype: float64, ('125', 6): mpg               17.0\n",
       " cylinders          6.0\n",
       " displacement     163.0\n",
       " horsepower       125.0\n",
       " weight          3140.0\n",
       " acceleration      13.6\n",
       " year              78.0\n",
       " origin             2.0\n",
       " dtype: float64, ('125', 8): mpg                21.1\n",
       " cylinders           8.0\n",
       " displacement      308.5\n",
       " horsepower      62562.5\n",
       " weight           3752.5\n",
       " acceleration       16.2\n",
       " year               79.0\n",
       " origin              1.0\n",
       " dtype: float64, ('129', 8): mpg                15.3\n",
       " cylinders           8.0\n",
       " displacement      302.0\n",
       " horsepower      64564.5\n",
       " weight           3447.0\n",
       " acceleration       12.7\n",
       " year               77.0\n",
       " origin              1.0\n",
       " dtype: float64, ('130', 8): mpg             1.520000e+01\n",
       " cylinders       8.000000e+00\n",
       " displacement    3.046000e+02\n",
       " horsepower      2.602603e+13\n",
       " weight          3.921400e+03\n",
       " acceleration    1.426000e+01\n",
       " year            7.480000e+01\n",
       " origin          1.000000e+00\n",
       " dtype: float64, ('132', 6): mpg               32.7\n",
       " cylinders          6.0\n",
       " displacement     168.0\n",
       " horsepower       132.0\n",
       " weight          2910.0\n",
       " acceleration      11.4\n",
       " year              80.0\n",
       " origin             3.0\n",
       " dtype: float64, ('133', 6): mpg               16.2\n",
       " cylinders          6.0\n",
       " displacement     163.0\n",
       " horsepower       133.0\n",
       " weight          3410.0\n",
       " acceleration      15.8\n",
       " year              78.0\n",
       " origin             2.0\n",
       " dtype: float64, ('135', 8): mpg               18.2\n",
       " cylinders          8.0\n",
       " displacement     318.0\n",
       " horsepower       135.0\n",
       " weight          3830.0\n",
       " acceleration      15.2\n",
       " year              79.0\n",
       " origin             1.0\n",
       " dtype: float64, ('137', 8): mpg               14.0\n",
       " cylinders          8.0\n",
       " displacement     302.0\n",
       " horsepower       137.0\n",
       " weight          4042.0\n",
       " acceleration      14.5\n",
       " year              73.0\n",
       " origin             1.0\n",
       " dtype: float64, ('138', 8): mpg               16.5\n",
       " cylinders          8.0\n",
       " displacement     351.0\n",
       " horsepower       138.0\n",
       " weight          3955.0\n",
       " acceleration      13.2\n",
       " year              79.0\n",
       " origin             1.0\n",
       " dtype: float64, ('139', 8): mpg                19.15\n",
       " cylinders           8.00\n",
       " displacement      302.00\n",
       " horsepower      69569.50\n",
       " weight           3387.50\n",
       " acceleration       12.00\n",
       " year               78.00\n",
       " origin              1.00\n",
       " dtype: float64, ('140', 8): mpg             1.634286e+01\n",
       " cylinders       8.000000e+00\n",
       " displacement    3.070000e+02\n",
       " horsepower      2.002002e+19\n",
       " weight          4.078857e+03\n",
       " acceleration    1.377143e+01\n",
       " year            7.457143e+01\n",
       " origin          1.000000e+00\n",
       " dtype: float64, ('142', 8): mpg               15.5\n",
       " cylinders          8.0\n",
       " displacement     351.0\n",
       " horsepower       142.0\n",
       " weight          4054.0\n",
       " acceleration      14.3\n",
       " year              79.0\n",
       " origin             1.0\n",
       " dtype: float64, ('145', 8): mpg             1.545714e+01\n",
       " cylinders       8.000000e+00\n",
       " displacement    3.325714e+02\n",
       " horsepower      2.073502e+19\n",
       " weight          4.001429e+03\n",
       " acceleration    1.305714e+01\n",
       " year            7.557143e+01\n",
       " origin          1.000000e+00\n",
       " dtype: float64, ('148', 8): mpg               14.0\n",
       " cylinders          8.0\n",
       " displacement     351.0\n",
       " horsepower       148.0\n",
       " weight          4657.0\n",
       " acceleration      13.5\n",
       " year              75.0\n",
       " origin             1.0\n",
       " dtype: float64, ('149', 8): mpg               16.0\n",
       " cylinders          8.0\n",
       " displacement     351.0\n",
       " horsepower       149.0\n",
       " weight          4335.0\n",
       " acceleration      14.5\n",
       " year              77.0\n",
       " origin             1.0\n",
       " dtype: float64, ('150', 8): mpg             1.470455e+01\n",
       " cylinders       8.000000e+00\n",
       " displacement    3.293636e+02\n",
       " horsepower      6.825007e+63\n",
       " weight          4.035636e+03\n",
       " acceleration    1.289545e+01\n",
       " year            7.322727e+01\n",
       " origin          1.000000e+00\n",
       " dtype: float64, ('152', 8): mpg               14.5\n",
       " cylinders          8.0\n",
       " displacement     351.0\n",
       " horsepower       152.0\n",
       " weight          4215.0\n",
       " acceleration      12.8\n",
       " year              76.0\n",
       " origin             1.0\n",
       " dtype: float64, ('153', 8): mpg                14.00\n",
       " cylinders           8.00\n",
       " displacement      351.00\n",
       " horsepower      76576.50\n",
       " weight           4141.50\n",
       " acceleration       13.25\n",
       " year               71.50\n",
       " origin              1.00\n",
       " dtype: float64, ('155', 8): mpg                14.95\n",
       " cylinders           8.00\n",
       " displacement      350.00\n",
       " horsepower      77577.50\n",
       " weight           4431.00\n",
       " acceleration       14.20\n",
       " year               75.50\n",
       " origin              1.00\n",
       " dtype: float64, ('158', 8): mpg               13.0\n",
       " cylinders          8.0\n",
       " displacement     351.0\n",
       " horsepower       158.0\n",
       " weight          4363.0\n",
       " acceleration      13.0\n",
       " year              73.0\n",
       " origin             1.0\n",
       " dtype: float64, ('160', 8): mpg                13.00\n",
       " cylinders           8.00\n",
       " displacement      345.00\n",
       " horsepower      80080.00\n",
       " weight           4032.50\n",
       " acceleration       10.75\n",
       " year               71.00\n",
       " origin              1.00\n",
       " dtype: float64, ('165', 6): mpg               17.7\n",
       " cylinders          6.0\n",
       " displacement     231.0\n",
       " horsepower       165.0\n",
       " weight          3445.0\n",
       " acceleration      13.4\n",
       " year              78.0\n",
       " origin             1.0\n",
       " dtype: float64, ('165', 8): mpg             1.400000e+01\n",
       " cylinders       8.000000e+00\n",
       " displacement    3.500000e+02\n",
       " horsepower      5.505506e+07\n",
       " weight          4.058667e+03\n",
       " acceleration    1.183333e+01\n",
       " year            7.100000e+01\n",
       " origin          1.000000e+00\n",
       " dtype: float64, ('167', 8): mpg               12.0\n",
       " cylinders          8.0\n",
       " displacement     400.0\n",
       " horsepower       167.0\n",
       " weight          4906.0\n",
       " acceleration      12.5\n",
       " year              73.0\n",
       " origin             1.0\n",
       " dtype: float64, ('170', 8): mpg             1.450000e+01\n",
       " cylinders       8.000000e+00\n",
       " displacement    3.786000e+02\n",
       " horsepower      3.403403e+13\n",
       " weight          4.359200e+03\n",
       " acceleration    1.158000e+01\n",
       " year            7.320000e+01\n",
       " origin          1.000000e+00\n",
       " dtype: float64, ('175', 8): mpg             1.340000e+01\n",
       " cylinders       8.000000e+00\n",
       " displacement    3.820000e+02\n",
       " horsepower      3.503504e+13\n",
       " weight          4.382000e+03\n",
       " acceleration    1.190000e+01\n",
       " year            7.200000e+01\n",
       " origin          1.000000e+00\n",
       " dtype: float64, ('180', 8): mpg             1.350000e+01\n",
       " cylinders       8.000000e+00\n",
       " displacement    3.666000e+02\n",
       " horsepower      3.603604e+13\n",
       " weight          4.343600e+03\n",
       " acceleration    1.164000e+01\n",
       " year            7.400000e+01\n",
       " origin          1.000000e+00\n",
       " dtype: float64, ('190', 8): mpg             1.450000e+01\n",
       " cylinders       8.000000e+00\n",
       " displacement    3.966667e+02\n",
       " horsepower      6.339673e+07\n",
       " weight          4.199000e+03\n",
       " acceleration    1.106667e+01\n",
       " year            7.300000e+01\n",
       " origin          1.000000e+00\n",
       " dtype: float64, ('193', 8): mpg                9.0\n",
       " cylinders          8.0\n",
       " displacement     304.0\n",
       " horsepower       193.0\n",
       " weight          4732.0\n",
       " acceleration      18.5\n",
       " year              70.0\n",
       " origin             1.0\n",
       " dtype: float64, ('198', 8): mpg                13.50\n",
       " cylinders           8.00\n",
       " displacement      429.00\n",
       " horsepower      99099.00\n",
       " weight           4646.50\n",
       " acceleration       10.75\n",
       " year               71.50\n",
       " origin              1.00\n",
       " dtype: float64, ('200', 8): mpg               10.0\n",
       " cylinders          8.0\n",
       " displacement     307.0\n",
       " horsepower       200.0\n",
       " weight          4376.0\n",
       " acceleration      15.0\n",
       " year              70.0\n",
       " origin             1.0\n",
       " dtype: float64, ('208', 8): mpg               11.0\n",
       " cylinders          8.0\n",
       " displacement     429.0\n",
       " horsepower       208.0\n",
       " weight          4633.0\n",
       " acceleration      11.0\n",
       " year              72.0\n",
       " origin             1.0\n",
       " dtype: float64, ('210', 8): mpg               11.0\n",
       " cylinders          8.0\n",
       " displacement     318.0\n",
       " horsepower       210.0\n",
       " weight          4382.0\n",
       " acceleration      13.5\n",
       " year              70.0\n",
       " origin             1.0\n",
       " dtype: float64, ('215', 8): mpg             1.233333e+01\n",
       " cylinders       8.000000e+00\n",
       " displacement    4.133333e+02\n",
       " horsepower      7.173840e+07\n",
       " weight          4.554000e+03\n",
       " acceleration    1.116667e+01\n",
       " year            7.100000e+01\n",
       " origin          1.000000e+00\n",
       " dtype: float64, ('220', 8): mpg               14.0\n",
       " cylinders          8.0\n",
       " displacement     454.0\n",
       " horsepower       220.0\n",
       " weight          4354.0\n",
       " acceleration       9.0\n",
       " year              70.0\n",
       " origin             1.0\n",
       " dtype: float64, ('225', 8): mpg             1.333333e+01\n",
       " cylinders       8.000000e+00\n",
       " displacement    4.550000e+02\n",
       " horsepower      7.507508e+07\n",
       " weight          4.154000e+03\n",
       " acceleration    1.033333e+01\n",
       " year            7.100000e+01\n",
       " origin          1.000000e+00\n",
       " dtype: float64, ('230', 8): mpg               16.0\n",
       " cylinders          8.0\n",
       " displacement     400.0\n",
       " horsepower       230.0\n",
       " weight          4278.0\n",
       " acceleration       9.5\n",
       " year              73.0\n",
       " origin             1.0\n",
       " dtype: float64, ('46', 4): mpg               26.00\n",
       " cylinders          4.00\n",
       " displacement      97.00\n",
       " horsepower      2323.00\n",
       " weight          1892.50\n",
       " acceleration      20.75\n",
       " year              71.50\n",
       " origin             2.00\n",
       " dtype: float64, ('48', 4): mpg                 43.600000\n",
       " cylinders            4.000000\n",
       " displacement        90.000000\n",
       " horsepower      161616.000000\n",
       " weight            2135.000000\n",
       " acceleration        22.300000\n",
       " year                79.333333\n",
       " origin               2.000000\n",
       " dtype: float64, ('49', 4): mpg               29.0\n",
       " cylinders          4.0\n",
       " displacement      68.0\n",
       " horsepower        49.0\n",
       " weight          1867.0\n",
       " acceleration      19.5\n",
       " year              73.0\n",
       " origin             2.0\n",
       " dtype: float64, ('52', 4): mpg             3.420000e+01\n",
       " cylinders       4.000000e+00\n",
       " displacement    8.400000e+01\n",
       " horsepower      1.313131e+07\n",
       " weight          1.949750e+03\n",
       " acceleration    2.067500e+01\n",
       " year            7.750000e+01\n",
       " origin          2.250000e+00\n",
       " dtype: float64, ('53', 4): mpg               33.00\n",
       " cylinders          4.00\n",
       " displacement      91.00\n",
       " horsepower      2676.50\n",
       " weight          1795.00\n",
       " acceleration      17.45\n",
       " year              75.50\n",
       " origin             3.00\n",
       " dtype: float64, ('54', 4): mpg               23.0\n",
       " cylinders          4.0\n",
       " displacement      97.0\n",
       " horsepower        54.0\n",
       " weight          2254.0\n",
       " acceleration      23.5\n",
       " year              72.0\n",
       " origin             2.0\n",
       " dtype: float64, ('58', 4): mpg               37.55\n",
       " cylinders          4.00\n",
       " displacement      79.00\n",
       " horsepower      2929.00\n",
       " weight          1790.00\n",
       " acceleration      17.75\n",
       " year              79.00\n",
       " origin             2.50\n",
       " dtype: float64, ('60', 4): mpg             3.216000e+01\n",
       " cylinders       4.000000e+00\n",
       " displacement    9.120000e+01\n",
       " horsepower      1.212121e+09\n",
       " weight          1.905200e+03\n",
       " acceleration    1.848000e+01\n",
       " year            7.720000e+01\n",
       " origin          2.400000e+00\n",
       " dtype: float64, ('61', 4): mpg               32.0\n",
       " cylinders          4.0\n",
       " displacement      83.0\n",
       " horsepower        61.0\n",
       " weight          2003.0\n",
       " acceleration      19.0\n",
       " year              74.0\n",
       " origin             3.0\n",
       " dtype: float64, ('62', 4): mpg               33.75\n",
       " cylinders          4.00\n",
       " displacement      89.00\n",
       " horsepower      3131.00\n",
       " weight          1947.50\n",
       " acceleration      16.30\n",
       " year              80.50\n",
       " origin             2.50\n",
       " dtype: float64, ('63', 4): mpg                 34.400000\n",
       " cylinders            4.000000\n",
       " displacement       102.666667\n",
       " horsepower      212121.000000\n",
       " weight            2130.333333\n",
       " acceleration        15.533333\n",
       " year                80.000000\n",
       " origin               1.000000\n",
       " dtype: float64, ('64', 4): mpg               39.0\n",
       " cylinders          4.0\n",
       " displacement      86.0\n",
       " horsepower        64.0\n",
       " weight          1875.0\n",
       " acceleration      16.4\n",
       " year              81.0\n",
       " origin             1.0\n",
       " dtype: float64, ('65', 4): mpg             3.548000e+01\n",
       " cylinders       4.000000e+00\n",
       " displacement    8.510000e+01\n",
       " horsepower      6.565657e+18\n",
       " weight          2.024300e+03\n",
       " acceleration    1.842000e+01\n",
       " year            7.860000e+01\n",
       " origin          2.600000e+00\n",
       " dtype: float64, ('66', 4): mpg               36.1\n",
       " cylinders          4.0\n",
       " displacement      98.0\n",
       " horsepower        66.0\n",
       " weight          1800.0\n",
       " acceleration      14.4\n",
       " year              78.0\n",
       " origin             1.0\n",
       " dtype: float64, ('67', 4): mpg             3.333636e+01\n",
       " cylinders       4.000000e+00\n",
       " displacement    9.436364e+01\n",
       " horsepower      6.152433e+20\n",
       " weight          2.103000e+03\n",
       " acceleration    1.683636e+01\n",
       " year            7.872727e+01\n",
       " origin          2.727273e+00\n",
       " dtype: float64, ('67', 5): mpg               36.4\n",
       " cylinders          5.0\n",
       " displacement     121.0\n",
       " horsepower        67.0\n",
       " weight          2950.0\n",
       " acceleration      19.9\n",
       " year              80.0\n",
       " origin             2.0\n",
       " dtype: float64, ('68', 4): mpg             3.218333e+01\n",
       " cylinders       4.000000e+00\n",
       " displacement    9.450000e+01\n",
       " horsepower      1.144781e+11\n",
       " weight          2.052500e+03\n",
       " acceleration    1.723333e+01\n",
       " year            7.966667e+01\n",
       " origin          2.666667e+00\n",
       " dtype: float64, ('69', 4): mpg                 32.766667\n",
       " cylinders            4.000000\n",
       " displacement        86.333333\n",
       " horsepower      232323.000000\n",
       " weight            1977.333333\n",
       " acceleration        16.900000\n",
       " year                74.000000\n",
       " origin               2.333333\n",
       " dtype: float64, ('70', 4): mpg             3.247500e+01\n",
       " cylinders       4.000000e+00\n",
       " displacement    9.325000e+01\n",
       " horsepower      5.892256e+22\n",
       " weight          2.062333e+03\n",
       " acceleration    1.653333e+01\n",
       " year            7.716667e+01\n",
       " origin          1.916667e+00\n",
       " dtype: float64, ('71', 4): mpg             2.902000e+01\n",
       " cylinders       4.000000e+00\n",
       " displacement    1.012000e+02\n",
       " horsepower      1.434343e+09\n",
       " weight          2.230600e+03\n",
       " acceleration    1.648000e+01\n",
       " year            7.740000e+01\n",
       " origin          2.000000e+00\n",
       " dtype: float64, ('72', 4): mpg             2.547500e+01\n",
       " cylinders       4.000000e+00\n",
       " displacement    1.317500e+02\n",
       " horsepower      1.818182e+07\n",
       " weight          2.416000e+03\n",
       " acceleration    1.727500e+01\n",
       " year            7.500000e+01\n",
       " origin          1.500000e+00\n",
       " dtype: float64, ('72', 6): mpg               15.00\n",
       " cylinders          6.00\n",
       " displacement     250.00\n",
       " horsepower      3636.00\n",
       " weight          3295.00\n",
       " acceleration      20.25\n",
       " year              75.00\n",
       " origin             1.00\n",
       " dtype: float64, ('74', 4): mpg                 33.533333\n",
       " cylinders            4.000000\n",
       " displacement       110.000000\n",
       " horsepower      249158.000000\n",
       " weight            2268.333333\n",
       " acceleration        15.933333\n",
       " year                81.333333\n",
       " origin               2.333333\n",
       " dtype: float64, ('75', 4): mpg             2.903571e+01\n",
       " cylinders       4.000000e+00\n",
       " displacement    1.070000e+02\n",
       " horsepower      5.411255e+26\n",
       " weight          2.255143e+03\n",
       " acceleration    1.571429e+01\n",
       " year            7.707143e+01\n",
       " origin          2.357143e+00\n",
       " dtype: float64, ('76', 4): mpg                 31.166667\n",
       " cylinders            4.000000\n",
       " displacement       102.333333\n",
       " horsepower      255892.000000\n",
       " weight            2240.000000\n",
       " acceleration        15.733333\n",
       " year                74.333333\n",
       " origin               2.000000\n",
       " dtype: float64, ('76', 6): mpg               30.7\n",
       " cylinders          6.0\n",
       " displacement     145.0\n",
       " horsepower        76.0\n",
       " weight          3160.0\n",
       " acceleration      19.6\n",
       " year              81.0\n",
       " origin             2.0\n",
       " dtype: float64, ('77', 5): mpg               25.4\n",
       " cylinders          5.0\n",
       " displacement     183.0\n",
       " horsepower        77.0\n",
       " weight          3530.0\n",
       " acceleration      20.1\n",
       " year              79.0\n",
       " origin             2.0\n",
       " dtype: float64, ('78', 4): mpg             2.856000e+01\n",
       " cylinders       4.000000e+00\n",
       " displacement    1.056000e+02\n",
       " horsepower      1.575758e+09\n",
       " weight          2.242000e+03\n",
       " acceleration    1.548000e+01\n",
       " year            7.660000e+01\n",
       " origin          1.800000e+00\n",
       " dtype: float64, ('78', 6): mpg               18.0\n",
       " cylinders          6.0\n",
       " displacement     250.0\n",
       " horsepower        78.0\n",
       " weight          3574.0\n",
       " acceleration      21.0\n",
       " year              76.0\n",
       " origin             1.0\n",
       " dtype: float64, ('79', 4): mpg               27.00\n",
       " cylinders          4.00\n",
       " displacement     109.00\n",
       " horsepower      3989.50\n",
       " weight          2440.00\n",
       " acceleration      18.15\n",
       " year              79.00\n",
       " origin             1.00\n",
       " dtype: float64, ('80', 4): mpg             2.860000e+01\n",
       " cylinders       4.000000e+00\n",
       " displacement    1.126429e+02\n",
       " horsepower      1.154401e+13\n",
       " weight          2.387286e+03\n",
       " acceleration    1.615714e+01\n",
       " year            7.628571e+01\n",
       " origin          1.142857e+00\n",
       " dtype: float64, ('81', 4): mpg               25.0\n",
       " cylinders          4.0\n",
       " displacement     116.0\n",
       " horsepower        81.0\n",
       " weight          2220.0\n",
       " acceleration      16.9\n",
       " year              76.0\n",
       " origin             2.0\n",
       " dtype: float64, ('81', 6): mpg               24.0\n",
       " cylinders          6.0\n",
       " displacement     200.0\n",
       " horsepower        81.0\n",
       " weight          3012.0\n",
       " acceleration      17.6\n",
       " year              76.0\n",
       " origin             1.0\n",
       " dtype: float64, ('82', 4): mpg               31.0\n",
       " cylinders          4.0\n",
       " displacement     119.0\n",
       " horsepower        82.0\n",
       " weight          2720.0\n",
       " acceleration      19.4\n",
       " year              82.0\n",
       " origin             1.0\n",
       " dtype: float64, ('83', 4): mpg             2.812500e+01\n",
       " cylinders       4.000000e+00\n",
       " displacement    1.092500e+02\n",
       " horsepower      2.095960e+07\n",
       " weight          2.283750e+03\n",
       " acceleration    1.617500e+01\n",
       " year            7.550000e+01\n",
       " origin          1.500000e+00\n",
       " dtype: float64, ('84', 4): mpg             3.013333e+01\n",
       " cylinders       4.000000e+00\n",
       " displacement    1.376667e+02\n",
       " horsepower      1.414141e+11\n",
       " weight          2.450000e+03\n",
       " acceleration    1.426667e+01\n",
       " year            8.150000e+01\n",
       " origin          1.000000e+00\n",
       " dtype: float64, ('85', 4): mpg                 24.600000\n",
       " cylinders            4.000000\n",
       " displacement       128.333333\n",
       " horsepower      286195.000000\n",
       " weight            2580.000000\n",
       " acceleration        17.433333\n",
       " year                77.666667\n",
       " origin               1.000000\n",
       " dtype: float64, ('85', 6): mpg             2.290000e+01\n",
       " cylinders       6.000000e+00\n",
       " displacement    2.145000e+02\n",
       " horsepower      1.430976e+11\n",
       " weight          3.015333e+03\n",
       " acceleration    1.671667e+01\n",
       " year            7.800000e+01\n",
       " origin          1.000000e+00\n",
       " dtype: float64, ('86', 4): mpg             2.420000e+01\n",
       " cylinders       4.000000e+00\n",
       " displacement    1.226000e+02\n",
       " horsepower      1.737374e+09\n",
       " weight          2.419000e+03\n",
       " acceleration    1.552000e+01\n",
       " year            7.460000e+01\n",
       " origin          1.200000e+00\n",
       " dtype: float64, ('87', 4): mpg               23.0\n",
       " cylinders          4.0\n",
       " displacement     115.0\n",
       " horsepower      4393.5\n",
       " weight          2825.5\n",
       " acceleration      18.5\n",
       " year              71.0\n",
       " origin             2.0\n",
       " dtype: float64, ('88', 4): mpg             2.675333e+01\n",
       " cylinders       4.000000e+00\n",
       " displacement    1.184667e+02\n",
       " horsepower      5.925926e+28\n",
       " weight          2.559067e+03\n",
       " acceleration    1.706667e+01\n",
       " year            7.726667e+01\n",
       " origin          1.866667e+00\n",
       " dtype: float64, ('88', 6): mpg                   18.8\n",
       " cylinders              6.0\n",
       " displacement         237.5\n",
       " horsepower      22222222.0\n",
       " weight              3130.5\n",
       " acceleration          15.9\n",
       " year                  74.0\n",
       " origin                 1.0\n",
       " dtype: float64, ('89', 4): mpg               25.5\n",
       " cylinders          4.0\n",
       " displacement     140.0\n",
       " horsepower        89.0\n",
       " weight          2755.0\n",
       " acceleration      15.8\n",
       " year              77.0\n",
       " origin             1.0\n",
       " dtype: float64, ('90', 3): mpg               18.0\n",
       " cylinders          3.0\n",
       " displacement      70.0\n",
       " horsepower        90.0\n",
       " weight          2124.0\n",
       " acceleration      13.5\n",
       " year              73.0\n",
       " origin             3.0\n",
       " dtype: float64, ('90', 4): mpg             2.700000e+01\n",
       " cylinders       4.000000e+00\n",
       " displacement    1.367500e+02\n",
       " horsepower      7.575758e+22\n",
       " weight          2.566083e+03\n",
       " acceleration    1.630000e+01\n",
       " year            7.658333e+01\n",
       " origin          1.416667e+00\n",
       " dtype: float64, ('90', 6): mpg             2.020000e+01\n",
       " cylinders       6.000000e+00\n",
       " displacement    2.253333e+02\n",
       " horsepower      1.515152e+11\n",
       " weight          3.133333e+03\n",
       " acceleration    1.728333e+01\n",
       " year            7.633333e+01\n",
       " origin          1.000000e+00\n",
       " dtype: float64, ('90', 8): mpg               23.9\n",
       " cylinders          8.0\n",
       " displacement     260.0\n",
       " horsepower        90.0\n",
       " weight          3420.0\n",
       " acceleration      22.2\n",
       " year              79.0\n",
       " origin             1.0\n",
       " dtype: float64, ('91', 4): mpg               20.0\n",
       " cylinders          4.0\n",
       " displacement     114.0\n",
       " horsepower        91.0\n",
       " weight          2582.0\n",
       " acceleration      14.0\n",
       " year              73.0\n",
       " origin             2.0\n",
       " dtype: float64, ('92', 4): mpg             2.763333e+01\n",
       " cylinders       4.000000e+00\n",
       " displacement    1.346667e+02\n",
       " horsepower      1.548822e+11\n",
       " weight          2.560667e+03\n",
       " acceleration    1.536667e+01\n",
       " year            7.883333e+01\n",
       " origin          1.666667e+00\n",
       " dtype: float64, ('93', 4): mpg               26.0\n",
       " cylinders          4.0\n",
       " displacement     108.0\n",
       " horsepower        93.0\n",
       " weight          2391.0\n",
       " acceleration      15.5\n",
       " year              74.0\n",
       " origin             3.0\n",
       " dtype: float64, ('94', 4): mpg               22.0\n",
       " cylinders          4.0\n",
       " displacement     108.0\n",
       " horsepower        94.0\n",
       " weight          2379.0\n",
       " acceleration      16.5\n",
       " year              73.0\n",
       " origin             3.0\n",
       " dtype: float64, ('95', 4): mpg             2.422857e+01\n",
       " cylinders       4.000000e+00\n",
       " displacement    1.180000e+02\n",
       " horsepower      1.370851e+13\n",
       " weight          2.431714e+03\n",
       " acceleration    1.514286e+01\n",
       " year            7.342857e+01\n",
       " origin          2.714286e+00\n",
       " dtype: float64, ('95', 6): mpg             2.000000e+01\n",
       " cylinders       6.000000e+00\n",
       " displacement    2.145714e+02\n",
       " horsepower      1.370851e+13\n",
       " weight          3.176571e+03\n",
       " acceleration    1.700000e+01\n",
       " year            7.442857e+01\n",
       " origin          1.000000e+00\n",
       " dtype: float64, ('96', 4): mpg                 27.166667\n",
       " cylinders            4.000000\n",
       " displacement       133.333333\n",
       " horsepower      323232.000000\n",
       " weight            2555.666667\n",
       " acceleration        14.300000\n",
       " year                78.000000\n",
       " origin               2.333333\n",
       " dtype: float64, ('97', 3): mpg               19.0\n",
       " cylinders          3.0\n",
       " displacement      70.0\n",
       " horsepower        97.0\n",
       " weight          2330.0\n",
       " acceleration      13.5\n",
       " year              72.0\n",
       " origin             3.0\n",
       " dtype: float64, ('97', 4): mpg             2.442000e+01\n",
       " cylinders       4.000000e+00\n",
       " displacement    1.194000e+02\n",
       " horsepower      1.959596e+09\n",
       " weight          2.449000e+03\n",
       " acceleration    1.522000e+01\n",
       " year            7.540000e+01\n",
       " origin          3.000000e+00\n",
       " dtype: float64, ('97', 6): mpg                 19.333333\n",
       " cylinders            6.000000\n",
       " displacement       172.000000\n",
       " horsepower      326599.000000\n",
       " weight            2857.666667\n",
       " acceleration        14.833333\n",
       " year                74.000000\n",
       " origin               1.666667\n",
       " dtype: float64, ('98', 4): mpg               22.0\n",
       " cylinders          4.0\n",
       " displacement     121.0\n",
       " horsepower        98.0\n",
       " weight          2945.0\n",
       " acceleration      14.5\n",
       " year              75.0\n",
       " origin             2.0\n",
       " dtype: float64, ('98', 6): mpg               18.5\n",
       " cylinders          6.0\n",
       " displacement     250.0\n",
       " horsepower        98.0\n",
       " weight          3525.0\n",
       " acceleration      19.0\n",
       " year              77.0\n",
       " origin             1.0\n",
       " dtype: float64, ('?', 4): mpg               31.00\n",
       " cylinders          4.00\n",
       " displacement     105.75\n",
       " weight          2276.50\n",
       " acceleration      16.60\n",
       " year              78.00\n",
       " origin             1.50\n",
       " dtype: float64, ('?', 6): mpg               21.0\n",
       " cylinders          6.0\n",
       " displacement     200.0\n",
       " weight          2875.0\n",
       " acceleration      17.0\n",
       " year              74.0\n",
       " origin             1.0\n",
       " dtype: float64}"
      ]
     },
     "execution_count": 204,
     "metadata": {},
     "output_type": "execute_result"
    }
   ],
   "source": [
    "dic = {}\n",
    "for (i,j), k in auto.groupby(['horsepower','cylinders']):\n",
    "    dic[i,j] = k.mean()\n",
    "    \n",
    "dic"
   ]
  },
  {
   "cell_type": "markdown",
   "metadata": {},
   "source": [
    "### Adding variables\n",
    "\n",
    "Adding a new variable to a data frame can be done similarly to accessing a variable. For instance, here is how to create a new variable in <code>data</code> that holds the <code>time</code> converted from seconds to units of minutes:"
   ]
  },
  {
   "cell_type": "code",
   "execution_count": 205,
   "metadata": {},
   "outputs": [],
   "source": [
    "data['minutes'] = data.time/60. # or data['time']/60."
   ]
  },
  {
   "cell_type": "markdown",
   "metadata": {},
   "source": [
    "By default, columns get inserted at the end. \n",
    "\n",
    "The <code>insert</code> function is available to insert at a particular location in the columns."
   ]
  },
  {
   "cell_type": "code",
   "execution_count": 206,
   "metadata": {},
   "outputs": [
    {
     "ename": "ValueError",
     "evalue": "cannot insert mins, already exists",
     "output_type": "error",
     "traceback": [
      "\u001b[0;31m---------------------------------------------------------------------------\u001b[0m",
      "\u001b[0;31mValueError\u001b[0m                                Traceback (most recent call last)",
      "\u001b[0;32m<ipython-input-206-ef4434dd21a4>\u001b[0m in \u001b[0;36m<module>\u001b[0;34m()\u001b[0m\n\u001b[0;32m----> 1\u001b[0;31m \u001b[0mdata\u001b[0m\u001b[0;34m.\u001b[0m\u001b[0minsert\u001b[0m\u001b[0;34m(\u001b[0m\u001b[0;36m1\u001b[0m\u001b[0;34m,\u001b[0m \u001b[0;34m'mins'\u001b[0m\u001b[0;34m,\u001b[0m \u001b[0mdata\u001b[0m\u001b[0;34m.\u001b[0m\u001b[0mtime\u001b[0m\u001b[0;34m/\u001b[0m\u001b[0;36m60.\u001b[0m\u001b[0;34m)\u001b[0m\u001b[0;34m\u001b[0m\u001b[0m\n\u001b[0m",
      "\u001b[0;32m/home/alourido/anaconda3/envs/py27/lib/python2.7/site-packages/pandas/core/frame.pyc\u001b[0m in \u001b[0;36minsert\u001b[0;34m(self, loc, column, value, allow_duplicates)\u001b[0m\n\u001b[1;32m   3471\u001b[0m         \u001b[0mvalue\u001b[0m \u001b[0;34m=\u001b[0m \u001b[0mself\u001b[0m\u001b[0;34m.\u001b[0m\u001b[0m_sanitize_column\u001b[0m\u001b[0;34m(\u001b[0m\u001b[0mcolumn\u001b[0m\u001b[0;34m,\u001b[0m \u001b[0mvalue\u001b[0m\u001b[0;34m,\u001b[0m \u001b[0mbroadcast\u001b[0m\u001b[0;34m=\u001b[0m\u001b[0mFalse\u001b[0m\u001b[0;34m)\u001b[0m\u001b[0;34m\u001b[0m\u001b[0m\n\u001b[1;32m   3472\u001b[0m         self._data.insert(loc, column, value,\n\u001b[0;32m-> 3473\u001b[0;31m                           allow_duplicates=allow_duplicates)\n\u001b[0m\u001b[1;32m   3474\u001b[0m \u001b[0;34m\u001b[0m\u001b[0m\n\u001b[1;32m   3475\u001b[0m     \u001b[0;32mdef\u001b[0m \u001b[0massign\u001b[0m\u001b[0;34m(\u001b[0m\u001b[0mself\u001b[0m\u001b[0;34m,\u001b[0m \u001b[0;34m**\u001b[0m\u001b[0mkwargs\u001b[0m\u001b[0;34m)\u001b[0m\u001b[0;34m:\u001b[0m\u001b[0;34m\u001b[0m\u001b[0m\n",
      "\u001b[0;32m/home/alourido/anaconda3/envs/py27/lib/python2.7/site-packages/pandas/core/internals/managers.pyc\u001b[0m in \u001b[0;36minsert\u001b[0;34m(self, loc, item, value, allow_duplicates)\u001b[0m\n\u001b[1;32m   1147\u001b[0m         \u001b[0;32mif\u001b[0m \u001b[0;32mnot\u001b[0m \u001b[0mallow_duplicates\u001b[0m \u001b[0;32mand\u001b[0m \u001b[0mitem\u001b[0m \u001b[0;32min\u001b[0m \u001b[0mself\u001b[0m\u001b[0;34m.\u001b[0m\u001b[0mitems\u001b[0m\u001b[0;34m:\u001b[0m\u001b[0;34m\u001b[0m\u001b[0m\n\u001b[1;32m   1148\u001b[0m             \u001b[0;31m# Should this be a different kind of error??\u001b[0m\u001b[0;34m\u001b[0m\u001b[0;34m\u001b[0m\u001b[0m\n\u001b[0;32m-> 1149\u001b[0;31m             \u001b[0;32mraise\u001b[0m \u001b[0mValueError\u001b[0m\u001b[0;34m(\u001b[0m\u001b[0;34m'cannot insert {}, already exists'\u001b[0m\u001b[0;34m.\u001b[0m\u001b[0mformat\u001b[0m\u001b[0;34m(\u001b[0m\u001b[0mitem\u001b[0m\u001b[0;34m)\u001b[0m\u001b[0;34m)\u001b[0m\u001b[0;34m\u001b[0m\u001b[0m\n\u001b[0m\u001b[1;32m   1150\u001b[0m \u001b[0;34m\u001b[0m\u001b[0m\n\u001b[1;32m   1151\u001b[0m         \u001b[0;32mif\u001b[0m \u001b[0;32mnot\u001b[0m \u001b[0misinstance\u001b[0m\u001b[0;34m(\u001b[0m\u001b[0mloc\u001b[0m\u001b[0;34m,\u001b[0m \u001b[0mint\u001b[0m\u001b[0;34m)\u001b[0m\u001b[0;34m:\u001b[0m\u001b[0;34m\u001b[0m\u001b[0m\n",
      "\u001b[0;31mValueError\u001b[0m: cannot insert mins, already exists"
     ]
    }
   ],
   "source": [
    "data.insert(1, 'mins', data.time/60.)"
   ]
  },
  {
   "cell_type": "code",
   "execution_count": null,
   "metadata": {},
   "outputs": [],
   "source": [
    "data['mins'] = data['time'] / 60.0"
   ]
  },
  {
   "cell_type": "markdown",
   "metadata": {},
   "source": [
    "You could also, if you want, redeﬁne an existing variable, for instance:"
   ]
  },
  {
   "cell_type": "code",
   "execution_count": 207,
   "metadata": {},
   "outputs": [
    {
     "data": {
      "text/html": [
       "<div>\n",
       "<style scoped>\n",
       "    .dataframe tbody tr th:only-of-type {\n",
       "        vertical-align: middle;\n",
       "    }\n",
       "\n",
       "    .dataframe tbody tr th {\n",
       "        vertical-align: top;\n",
       "    }\n",
       "\n",
       "    .dataframe thead th {\n",
       "        text-align: right;\n",
       "    }\n",
       "</style>\n",
       "<table border=\"1\" class=\"dataframe\">\n",
       "  <thead>\n",
       "    <tr style=\"text-align: right;\">\n",
       "      <th></th>\n",
       "      <th>year</th>\n",
       "      <th>mins</th>\n",
       "      <th>time</th>\n",
       "      <th>sex</th>\n",
       "      <th>minutes</th>\n",
       "    </tr>\n",
       "  </thead>\n",
       "  <tbody>\n",
       "    <tr>\n",
       "      <th>0</th>\n",
       "      <td>1905</td>\n",
       "      <td>1.096667</td>\n",
       "      <td>1.096667</td>\n",
       "      <td>M</td>\n",
       "      <td>1.096667</td>\n",
       "    </tr>\n",
       "    <tr>\n",
       "      <th>1</th>\n",
       "      <td>1908</td>\n",
       "      <td>1.093333</td>\n",
       "      <td>1.093333</td>\n",
       "      <td>M</td>\n",
       "      <td>1.093333</td>\n",
       "    </tr>\n",
       "    <tr>\n",
       "      <th>2</th>\n",
       "      <td>1910</td>\n",
       "      <td>1.046667</td>\n",
       "      <td>1.046667</td>\n",
       "      <td>M</td>\n",
       "      <td>1.046667</td>\n",
       "    </tr>\n",
       "    <tr>\n",
       "      <th>3</th>\n",
       "      <td>1912</td>\n",
       "      <td>1.026667</td>\n",
       "      <td>1.026667</td>\n",
       "      <td>M</td>\n",
       "      <td>1.026667</td>\n",
       "    </tr>\n",
       "    <tr>\n",
       "      <th>4</th>\n",
       "      <td>1918</td>\n",
       "      <td>1.023333</td>\n",
       "      <td>1.023333</td>\n",
       "      <td>M</td>\n",
       "      <td>1.023333</td>\n",
       "    </tr>\n",
       "  </tbody>\n",
       "</table>\n",
       "</div>"
      ],
      "text/plain": [
       "   year      mins      time sex   minutes\n",
       "0  1905  1.096667  1.096667   M  1.096667\n",
       "1  1908  1.093333  1.093333   M  1.093333\n",
       "2  1910  1.046667  1.046667   M  1.046667\n",
       "3  1912  1.026667  1.026667   M  1.026667\n",
       "4  1918  1.023333  1.023333   M  1.023333"
      ]
     },
     "execution_count": 207,
     "metadata": {},
     "output_type": "execute_result"
    }
   ],
   "source": [
    "data['time'] = data.time/60.\n",
    "data.head()"
   ]
  },
  {
   "cell_type": "markdown",
   "metadata": {},
   "source": [
    "The <code>ix[]</code> can also be used to get a subset of the dataframe:"
   ]
  },
  {
   "cell_type": "code",
   "execution_count": 208,
   "metadata": {},
   "outputs": [
    {
     "data": {
      "text/plain": [
       "(39, 8)"
      ]
     },
     "execution_count": 208,
     "metadata": {},
     "output_type": "execute_result"
    }
   ],
   "source": [
    "kids = pd.read_csv(\"http://www.mosaic-web.org/go/datasets/kidsfeet.csv\")\n",
    "kids.shape"
   ]
  },
  {
   "cell_type": "code",
   "execution_count": 209,
   "metadata": {},
   "outputs": [
    {
     "data": {
      "text/plain": [
       "RangeIndex(start=0, stop=39, step=1)"
      ]
     },
     "execution_count": 209,
     "metadata": {},
     "output_type": "execute_result"
    }
   ],
   "source": [
    "kids.index"
   ]
  },
  {
   "cell_type": "code",
   "execution_count": 210,
   "metadata": {},
   "outputs": [
    {
     "name": "stderr",
     "output_type": "stream",
     "text": [
      "/home/alourido/anaconda3/envs/py27/lib/python2.7/site-packages/ipykernel_launcher.py:4: DeprecationWarning: \n",
      ".ix is deprecated. Please use\n",
      ".loc for label based indexing or\n",
      ".iloc for positional indexing\n",
      "\n",
      "See the documentation here:\n",
      "http://pandas.pydata.org/pandas-docs/stable/indexing.html#ix-indexer-is-deprecated\n",
      "  after removing the cwd from sys.path.\n"
     ]
    },
    {
     "data": {
      "text/html": [
       "<div>\n",
       "<style scoped>\n",
       "    .dataframe tbody tr th:only-of-type {\n",
       "        vertical-align: middle;\n",
       "    }\n",
       "\n",
       "    .dataframe tbody tr th {\n",
       "        vertical-align: top;\n",
       "    }\n",
       "\n",
       "    .dataframe thead th {\n",
       "        text-align: right;\n",
       "    }\n",
       "</style>\n",
       "<table border=\"1\" class=\"dataframe\">\n",
       "  <thead>\n",
       "    <tr style=\"text-align: right;\">\n",
       "      <th></th>\n",
       "      <th>name</th>\n",
       "      <th>birthmonth</th>\n",
       "      <th>birthyear</th>\n",
       "      <th>length</th>\n",
       "      <th>width</th>\n",
       "      <th>sex</th>\n",
       "      <th>biggerfoot</th>\n",
       "      <th>domhand</th>\n",
       "    </tr>\n",
       "  </thead>\n",
       "  <tbody>\n",
       "    <tr>\n",
       "      <th>6</th>\n",
       "      <td>Edward</td>\n",
       "      <td>2</td>\n",
       "      <td>88</td>\n",
       "      <td>26.1</td>\n",
       "      <td>9.6</td>\n",
       "      <td>B</td>\n",
       "      <td>L</td>\n",
       "      <td>R</td>\n",
       "    </tr>\n",
       "    <tr>\n",
       "      <th>27</th>\n",
       "      <td>David</td>\n",
       "      <td>12</td>\n",
       "      <td>87</td>\n",
       "      <td>25.5</td>\n",
       "      <td>9.5</td>\n",
       "      <td>B</td>\n",
       "      <td>R</td>\n",
       "      <td>R</td>\n",
       "    </tr>\n",
       "    <tr>\n",
       "      <th>38</th>\n",
       "      <td>Alisha</td>\n",
       "      <td>9</td>\n",
       "      <td>88</td>\n",
       "      <td>24.6</td>\n",
       "      <td>8.8</td>\n",
       "      <td>G</td>\n",
       "      <td>L</td>\n",
       "      <td>R</td>\n",
       "    </tr>\n",
       "    <tr>\n",
       "      <th>34</th>\n",
       "      <td>Peter</td>\n",
       "      <td>4</td>\n",
       "      <td>88</td>\n",
       "      <td>24.7</td>\n",
       "      <td>8.6</td>\n",
       "      <td>B</td>\n",
       "      <td>R</td>\n",
       "      <td>L</td>\n",
       "    </tr>\n",
       "    <tr>\n",
       "      <th>1</th>\n",
       "      <td>Lars</td>\n",
       "      <td>10</td>\n",
       "      <td>87</td>\n",
       "      <td>25.4</td>\n",
       "      <td>8.8</td>\n",
       "      <td>B</td>\n",
       "      <td>L</td>\n",
       "      <td>L</td>\n",
       "    </tr>\n",
       "  </tbody>\n",
       "</table>\n",
       "</div>"
      ],
      "text/plain": [
       "      name  birthmonth  birthyear  length  width sex biggerfoot domhand\n",
       "6   Edward           2         88    26.1    9.6   B          L       R\n",
       "27   David          12         87    25.5    9.5   B          R       R\n",
       "38  Alisha           9         88    24.6    8.8   G          L       R\n",
       "34   Peter           4         88    24.7    8.6   B          R       L\n",
       "1     Lars          10         87    25.4    8.8   B          L       L"
      ]
     },
     "execution_count": 210,
     "metadata": {},
     "output_type": "execute_result"
    }
   ],
   "source": [
    "# random sample of 5 cases from this data frame\n",
    "rows = np.random.choice(kids.index, 5, replace=False) \n",
    "\n",
    "kids.ix[rows]"
   ]
  },
  {
   "cell_type": "markdown",
   "metadata": {},
   "source": [
    "The results returned by the above methods will never contain the same case more than once (because we told the function not to sample with replacement). \n",
    "\n",
    "In contrast, ‘re-sampling with replacement’ replaces each case after it is dealt so that it can appear more than once in the result. You wouldn’t want to do this to select from a sampling frame, but it turns out that there are valuable statistical uses for this sort of sampling with replacement."
   ]
  },
  {
   "cell_type": "markdown",
   "metadata": {},
   "source": [
    "### Droping rows and columns.\n",
    "\n",
    "We can delete entire rows and columns:"
   ]
  },
  {
   "cell_type": "code",
   "execution_count": null,
   "metadata": {},
   "outputs": [],
   "source": [
    "c = pd.DataFrame({'VarA':['aa','bb'], 'VarB':[20,30]}, index = ['Case1','Case2'])\n",
    "c = c.drop(['Case1'])\n",
    "c"
   ]
  },
  {
   "cell_type": "code",
   "execution_count": null,
   "metadata": {},
   "outputs": [],
   "source": [
    "c = pd.DataFrame({'VarA':['aa','bb'], 'VarB':[20,30]}, index = ['Case1','Case2'])\n",
    "c = c.drop(['VarA'], axis=1)\n",
    "c"
   ]
  },
  {
   "cell_type": "markdown",
   "metadata": {},
   "source": [
    "### Handling missing values.\n",
    "\n",
    "Pandas considers that values ``NaN`` and ``None`` represents missing data. \n",
    "\n",
    "The ``pandas.isnull`` function can be used to tell whether or not a value is missing."
   ]
  },
  {
   "cell_type": "code",
   "execution_count": null,
   "metadata": {},
   "outputs": [],
   "source": [
    "c = pd.DataFrame({'VarA':['aa', np.nan, 'cc'], 'VarB':[20,30,np.nan], \\\n",
    "                  'VarC':[1234, 3456, 6789]}, index = ['Case1','Case2','Case3'])\n",
    "c"
   ]
  },
  {
   "cell_type": "code",
   "execution_count": null,
   "metadata": {},
   "outputs": [],
   "source": [
    "empty = c.apply(lambda c: pd.isnull(c))\n",
    "empty     # Empty returns a boolean dataframe"
   ]
  },
  {
   "cell_type": "markdown",
   "metadata": {},
   "source": [
    "One option is to drop all rows with missing event values using the ``dropna`` function:"
   ]
  },
  {
   "cell_type": "code",
   "execution_count": null,
   "metadata": {},
   "outputs": [],
   "source": [
    "c.dropna(subset=[\"VarA\",\"VarB\", \"VarC\"])   # Returns a dataframe copy"
   ]
  },
  {
   "cell_type": "markdown",
   "metadata": {},
   "source": [
    "Another option od to use the ``fillna`` function to fillthem with empty strings:"
   ]
  },
  {
   "cell_type": "code",
   "execution_count": null,
   "metadata": {},
   "outputs": [],
   "source": [
    "c = pd.DataFrame({'VarA':['aa', np.nan, 'cc'], 'VarB':[20,30,55], 'VarC':[1234, 3456, 6789]}, \\\n",
    "                 index = ['Case1','Case2','Case3'])\n",
    "c = c.fillna(\"\")\n",
    "c"
   ]
  },
  {
   "cell_type": "markdown",
   "metadata": {},
   "source": [
    "### Filtering\n",
    "\n",
    "One of the main tasks when analyzing a dataset is to select rows by using simple operators. "
   ]
  },
  {
   "cell_type": "code",
   "execution_count": null,
   "metadata": {},
   "outputs": [],
   "source": [
    "vc = c[c.VarC > c.VarC.mean()]\n",
    "vc"
   ]
  },
  {
   "cell_type": "markdown",
   "metadata": {},
   "source": [
    "By using Boolean operators we can build combinde filters."
   ]
  },
  {
   "cell_type": "code",
   "execution_count": null,
   "metadata": {},
   "outputs": [],
   "source": [
    "vc = c[(c.VarC < c.VarC.mean()) & (c.VarC >= 1000)]\n",
    "vc"
   ]
  },
  {
   "cell_type": "markdown",
   "metadata": {},
   "source": [
    "A filter is a ``Series`` object with Boolean values:"
   ]
  },
  {
   "cell_type": "code",
   "execution_count": null,
   "metadata": {},
   "outputs": [],
   "source": [
    "filt = c.VarC < c.VarC.mean()\n",
    "filt"
   ]
  },
  {
   "cell_type": "code",
   "execution_count": null,
   "metadata": {},
   "outputs": [],
   "source": [
    "vc = c[filt]\n",
    "vc"
   ]
  },
  {
   "cell_type": "markdown",
   "metadata": {},
   "source": [
    "We can use the ``any`` funtion to see if there is any ``True`` value in a filter:"
   ]
  },
  {
   "cell_type": "code",
   "execution_count": null,
   "metadata": {},
   "outputs": [],
   "source": [
    "filt.any()"
   ]
  },
  {
   "cell_type": "markdown",
   "metadata": {},
   "source": [
    "### Writting data"
   ]
  },
  {
   "cell_type": "code",
   "execution_count": null,
   "metadata": {},
   "outputs": [],
   "source": [
    "bedford.to_csv(\"files/bedford2.csv\")"
   ]
  },
  {
   "cell_type": "code",
   "execution_count": null,
   "metadata": {},
   "outputs": [],
   "source": [
    "bedford.to_csv(\"files/bedford3.csv\", sep=\"\\t\")"
   ]
  },
  {
   "cell_type": "markdown",
   "metadata": {},
   "source": [
    "# Visualization"
   ]
  },
  {
   "cell_type": "code",
   "execution_count": null,
   "metadata": {},
   "outputs": [],
   "source": [
    "import pandas as pd  \n",
    "import matplotlib.pylab as plt\n",
    "%matplotlib inline\n",
    "\n",
    "# Load car dataset\n",
    "auto = pd.read_csv(\"data/Auto.csv\")\n",
    "\n",
    "# create a scatterplot of weight vs \"miles per galone\"\n",
    "auto.plot(kind='scatter', x='weight', y='mpg', color='Red', title='weight vs \"miles per galone\"', s=45, alpha=0.3);\n",
    "\n",
    "# create a histogram of \"miles per galone\"\n",
    "plt.figure()\n",
    "auto.hist('mpg', alpha=0.7)\n",
    "plt.title(\"Histogram of mpg (miles per galone)\")\n"
   ]
  },
  {
   "cell_type": "markdown",
   "metadata": {},
   "source": [
    "### EXERCISE:\n",
    "\n",
    "Create a scatter plot using two different columns from the auto dataset"
   ]
  },
  {
   "cell_type": "code",
   "execution_count": null,
   "metadata": {},
   "outputs": [],
   "source": []
  },
  {
   "cell_type": "code",
   "execution_count": null,
   "metadata": {},
   "outputs": [],
   "source": [
    "import numpy as np\n",
    "import pandas as pd\n",
    "var = pd.DataFrame({'n': np.random.normal(size=100),\n",
    "                    'g': np.random.gamma(1, size=100),\n",
    "                    'p': np.random.poisson(size=100)})\n",
    "var.cumsum(0).plot()"
   ]
  },
  {
   "cell_type": "code",
   "execution_count": null,
   "metadata": {},
   "outputs": [],
   "source": [
    "var.cumsum(0).plot(secondary_y='n')"
   ]
  },
  {
   "cell_type": "code",
   "execution_count": null,
   "metadata": {},
   "outputs": [],
   "source": [
    "fig, axes = plt.subplots(nrows=1, ncols=3, figsize=(12,4))\n",
    "for i,var2 in enumerate(['n','g','p']):\n",
    "    var[var2].cumsum(0).plot(ax=axes[i], title=var2)\n",
    "axes[0].set_ylabel('cum sum')"
   ]
  },
  {
   "cell_type": "code",
   "execution_count": null,
   "metadata": {},
   "outputs": [],
   "source": [
    "titanic = pd.read_excel('files/titanic.xls','titanic')"
   ]
  },
  {
   "cell_type": "code",
   "execution_count": null,
   "metadata": {},
   "outputs": [],
   "source": [
    "titanic.groupby('pclass').survived.sum().plot(kind='bar',alpha=0.4)"
   ]
  },
  {
   "cell_type": "code",
   "execution_count": null,
   "metadata": {},
   "outputs": [],
   "source": [
    "titanic.groupby(['sex','pclass']).survived.sum().plot(kind='barh', alpha=0.4)"
   ]
  },
  {
   "cell_type": "code",
   "execution_count": null,
   "metadata": {},
   "outputs": [],
   "source": [
    "death_counts = pd.crosstab([titanic.pclass, titanic.sex], titanic.survived.astype(bool))\n",
    "death_counts.plot(kind='bar',stacked=True, color=['lightgreen','lightblue'], grid=False)"
   ]
  },
  {
   "cell_type": "code",
   "execution_count": null,
   "metadata": {},
   "outputs": [],
   "source": [
    "death_counts.div(death_counts.sum(1).astype(float), axis=0).plot(kind='barh', \\\n",
    "            stacked=True, color=['grey','gold'])"
   ]
  },
  {
   "cell_type": "code",
   "execution_count": null,
   "metadata": {},
   "outputs": [],
   "source": [
    "titanic.fare.hist(bins=10, grid=False, alpha=0.5), titanic.fare.hist(bins=30, alpha=0.5)"
   ]
  },
  {
   "cell_type": "markdown",
   "metadata": {},
   "source": [
    "There are algorithms for determining an \"optimal\" number of bins, each of which varies somehow with the number of observations in the data series. It is always advisable to \"explore\" different numbers of bins."
   ]
  },
  {
   "cell_type": "code",
   "execution_count": null,
   "metadata": {},
   "outputs": [],
   "source": [
    "import numpy as np\n",
    "from scipy import stats\n",
    "\n",
    "np.random.seed(0)\n",
    "x = np.concatenate([stats.cauchy(-5, 1.8).rvs(500),\n",
    "                    stats.cauchy(-4, 0.8).rvs(2000),\n",
    "                    stats.cauchy(-1, 0.3).rvs(500),\n",
    "                    stats.cauchy(2, 0.8).rvs(1000),\n",
    "                    stats.cauchy(4, 1.5).rvs(500)])\n",
    "\n",
    "# truncate values to a reasonable range\n",
    "x = x[(x > -15) & (x < 15)]\n",
    "# Histogram the result\n",
    "import pylab as pl\n",
    "H = pl.hist(x, normed=True, alpha=0.5)"
   ]
  },
  {
   "cell_type": "code",
   "execution_count": null,
   "metadata": {},
   "outputs": [],
   "source": [
    "# Histogram with more bins\n",
    "H = pl.hist(x, bins=100, alpha=0.5, normed=True)\n",
    "#pl.savefig('bayesblocks2.png')"
   ]
  },
  {
   "cell_type": "code",
   "execution_count": null,
   "metadata": {},
   "outputs": [],
   "source": [
    "def bayesian_blocks(t):\n",
    "    \"\"\"Bayesian Blocks Implementation\n",
    "\n",
    "    By Jake Vanderplas.  License: BSD\n",
    "    Based on algorithm outlined in http://adsabs.harvard.edu/abs/2012arXiv1207.5578S\n",
    "\n",
    "    Parameters\n",
    "    ----------\n",
    "    t : ndarray, length N\n",
    "        data to be histogrammed\n",
    "\n",
    "    Returns\n",
    "    -------\n",
    "    bins : ndarray\n",
    "        array containing the (N+1) bin edges\n",
    "\n",
    "    Notes\n",
    "    -----\n",
    "    This is an incomplete implementation: it may fail for some\n",
    "    datasets.  Alternate fitness functions and prior forms can\n",
    "    be found in the paper listed above.\n",
    "    \"\"\"\n",
    "    # copy and sort the array\n",
    "    t = np.sort(t)\n",
    "    N = t.size\n",
    "\n",
    "    # create length-(N + 1) array of cell edges\n",
    "    edges = np.concatenate([t[:1],\n",
    "                            0.5 * (t[1:] + t[:-1]),\n",
    "                            t[-1:]])\n",
    "    block_length = t[-1] - edges\n",
    "\n",
    "    # arrays needed for the iteration\n",
    "    nn_vec = np.ones(N)\n",
    "    best = np.zeros(N, dtype=float)\n",
    "    last = np.zeros(N, dtype=int)\n",
    "\n",
    "    #-----------------------------------------------------------------\n",
    "    # Start with first data cell; add one cell at each iteration\n",
    "    #-----------------------------------------------------------------\n",
    "    for K in range(N):\n",
    "        # Compute the width and count of the final bin for all possible\n",
    "        # locations of the K^th changepoint\n",
    "        width = block_length[:K + 1] - block_length[K + 1]\n",
    "        count_vec = np.cumsum(nn_vec[:K + 1][::-1])[::-1]\n",
    "\n",
    "        # evaluate fitness function for these possibilities\n",
    "        fit_vec = count_vec * (np.log(count_vec) - np.log(width))\n",
    "        fit_vec -= 4  # 4 comes from the prior on the number of changepoints\n",
    "        fit_vec[1:] += best[:K]\n",
    "\n",
    "        # find the max of the fitness: this is the K^th changepoint\n",
    "        i_max = np.argmax(fit_vec)\n",
    "        last[K] = i_max\n",
    "        best[K] = fit_vec[i_max]\n",
    "    \n",
    "    #-----------------------------------------------------------------\n",
    "    # Recover changepoints by iteratively peeling off the last block\n",
    "    #-----------------------------------------------------------------\n",
    "    change_points =  np.zeros(N, dtype=int)\n",
    "    i_cp = N\n",
    "    ind = N\n",
    "    while True:\n",
    "        i_cp -= 1\n",
    "        change_points[i_cp] = ind\n",
    "        if ind == 0:\n",
    "            break\n",
    "        ind = last[ind - 1]\n",
    "    change_points = change_points[i_cp:]\n",
    "\n",
    "    return edges[change_points]"
   ]
  },
  {
   "cell_type": "code",
   "execution_count": null,
   "metadata": {},
   "outputs": [],
   "source": [
    "# plot a standard histogram in the background, with alpha transparency\n",
    "H1 = plt.hist(x, bins=200, histtype='stepfilled', alpha=0.3, normed=True)\n",
    "# plot an adaptive-width histogram on top\n",
    "H2 = plt.hist(x, bins=bayesian_blocks(x), color='red', histtype='step', normed=True)\n",
    "#pl.savefig('bayesblocks3.png')"
   ]
  },
  {
   "cell_type": "markdown",
   "metadata": {},
   "source": [
    "A different way of visualizing the distribution of data is the ``boxplot``, which is a display of common quantiles; these are typically the quartiles and the lower and upper 5 percent values."
   ]
  },
  {
   "cell_type": "code",
   "execution_count": null,
   "metadata": {},
   "outputs": [],
   "source": [
    "titanic.boxplot(column='fare', by='pclass', grid=False)"
   ]
  },
  {
   "cell_type": "code",
   "execution_count": null,
   "metadata": {},
   "outputs": [],
   "source": [
    "bp = titanic.boxplot(column='age', by='pclass', grid=False)\n",
    "for i in [1,2,3]:\n",
    "    y = titanic.age[titanic.pclass==i].dropna()\n",
    "    # Add some random \"jitter\" to the x-axis\n",
    "    x = np.random.normal(i, 0.04, size=len(y))\n",
    "    plt.plot(x, y, 'r.', alpha=0.2)"
   ]
  },
  {
   "cell_type": "markdown",
   "metadata": {},
   "source": [
    "Scatterplots"
   ]
  },
  {
   "cell_type": "code",
   "execution_count": null,
   "metadata": {},
   "outputs": [],
   "source": [
    "baseball = pd.read_csv(\"files/baseball.csv\")\n",
    "baseball.head()"
   ]
  },
  {
   "cell_type": "code",
   "execution_count": null,
   "metadata": {},
   "outputs": [],
   "source": [
    "plt.scatter(baseball.ab, baseball.h)\n",
    "plt.xlim(0, 700); plt.ylim(0, 200)"
   ]
  },
  {
   "cell_type": "code",
   "execution_count": null,
   "metadata": {},
   "outputs": [],
   "source": [
    "plt.scatter(baseball.ab, baseball.h, s=baseball.hr*10, alpha=0.3)\n",
    "plt.xlim(0, 700); plt.ylim(0, 200)"
   ]
  },
  {
   "cell_type": "code",
   "execution_count": null,
   "metadata": {},
   "outputs": [],
   "source": [
    "plt.scatter(baseball.ab, baseball.h, c=baseball.hr, s=baseball.hr*10, alpha=0.5, cmap='hot')\n",
    "plt.xlim(0, 700); plt.ylim(0, 200);"
   ]
  },
  {
   "cell_type": "markdown",
   "metadata": {},
   "source": [
    "To view scatterplots of a large numbers of variables simultaneously, we can use the scatter_matrix function that was recently added to Pandas. It generates a matrix of pair-wise scatterplots, optiorally with histograms or kernel density estimates on the diagonal."
   ]
  },
  {
   "cell_type": "code",
   "execution_count": null,
   "metadata": {},
   "outputs": [],
   "source": [
    "_ = pd.plotting.scatter_matrix(baseball.loc[:,'r':'sb'], figsize=(12,8), diagonal='kde')"
   ]
  },
  {
   "cell_type": "markdown",
   "metadata": {},
   "source": [
    "## Python Patterns and Anti-patterns"
   ]
  },
  {
   "cell_type": "markdown",
   "metadata": {},
   "source": [
    "#### Test for “truthy” and “falsy” values:\n",
    "\n",
    "+ Checking for truth doesn't tie the conditional expression to the type of object being checked.\n",
    "+ Checking for truth clearly shows the code's intention rather than drawing attention to a specific outcome."
   ]
  },
  {
   "cell_type": "code",
   "execution_count": null,
   "metadata": {},
   "outputs": [],
   "source": [
    "# GOOD\n",
    "name = 'Safe'\n",
    "pets = ['Dog', 'Cat', 'Hamster']\n",
    "owners = {'Safe': 'Cat', 'George': 'Dog'}\n",
    "if name and pets and owners:\n",
    "    print('We have pets!')\n",
    "\n",
    "# NOT SO GOOD\n",
    "if name != '' and len(pets) > 0 and owners != {}:\n",
    "    print('We have pets!')"
   ]
  },
  {
   "cell_type": "markdown",
   "metadata": {},
   "source": [
    "####  Use <code>in</code> where possible:\n",
    "\n",
    "+ Using ``in`` to check if an item is in a sequence is clear and concise.\n",
    "+ Can be used on lists, dicts (keys), sets, strings, and your own classes by implementing the <code>__contains__<code> special method.\n"
   ]
  },
  {
   "cell_type": "code",
   "execution_count": null,
   "metadata": {},
   "outputs": [],
   "source": [
    "# GOOD\n",
    "name = 'Safe Hammad'\n",
    "if 'H' in name:\n",
    "    print('This name has an H in it!')\n",
    "\n",
    "# NOT SO GOOD\n",
    "name = 'Safe Hammad'\n",
    "if name.find('H') != -1:\n",
    "    print('This name has an H in it!')\n"
   ]
  },
  {
   "cell_type": "markdown",
   "metadata": {},
   "source": [
    "+ Using ``in`` to for iteration over a sequence is clear and concise.\n",
    "+ Can be used on lists, dicts (keys), sets, strings, and your own classes by implementing the <code>__iter__</code> special method."
   ]
  },
  {
   "cell_type": "code",
   "execution_count": null,
   "metadata": {},
   "outputs": [],
   "source": [
    "# GOOD\n",
    "pets = ['Dog', 'Cat', 'Hamster']\n",
    "for pet in pets:\n",
    "    print('A', pet, 'can be very cute!')\n",
    "    \n",
    "# NOT SO GOOD\n",
    "pets = ['Dog', 'Cat', 'Hamster']\n",
    "i = 0\n",
    "while i < len(pets):\n",
    "    print('A', pets[i], 'can be very cute!')\n",
    "    i += 1\n"
   ]
  },
  {
   "cell_type": "markdown",
   "metadata": {},
   "source": [
    "####  Swap values without temp variable: Avoids polluting namespace with temp variable used only once."
   ]
  },
  {
   "cell_type": "code",
   "execution_count": null,
   "metadata": {},
   "outputs": [],
   "source": [
    "# GOOD\n",
    "a, b = 5, 6\n",
    "print(a, b) # 5, 6\n",
    "a, b = b, a\n",
    "print(a, b) # 6, 5\n",
    " \n",
    "# NOT SO GOOD\n",
    "a, b = 5, 6\n",
    "print(a, b) # 5, 6\n",
    " \n",
    "temp = a\n",
    "a = b\n",
    "b = temp\n",
    "print(a, b) # 6, 5\n"
   ]
  },
  {
   "cell_type": "markdown",
   "metadata": {},
   "source": [
    "####  Enumerate! "
   ]
  },
  {
   "cell_type": "code",
   "execution_count": null,
   "metadata": {},
   "outputs": [],
   "source": [
    "# GOOD\n",
    "names = ['Safe', 'George', 'Mildred']\n",
    "for i, name in enumerate(names):\n",
    "    print(i, name) # 0 Safe, 1 George etc.\n",
    "\n",
    "# NOT SO GOOD\n",
    "names = ['Safe', 'George', 'Mildred']\n",
    "count = 0\n",
    "for name in names:\n",
    "    print(i, name) # 0 Safe, 1 George etc.\n",
    "    count += 1"
   ]
  },
  {
   "cell_type": "markdown",
   "metadata": {},
   "source": [
    "Build lists (dictionaries) using list (dictionaries) comprehensions!"
   ]
  },
  {
   "cell_type": "code",
   "execution_count": null,
   "metadata": {},
   "outputs": [],
   "source": [
    "# GOOD\n",
    "data = [7, 20, 3, 15, 11]\n",
    "result = [i * 3 for i in data if i > 10]\n",
    "print(result) # [60, 45, 33]\n",
    "\n",
    "# NOT SO GOOD (MOST OF THE TIME)\n",
    "data = [7, 20, 3, 15, 11]\n",
    "result = [] \n",
    "for i in data:\n",
    "    if i > 10:\n",
    "        result.append(i * 3)\n",
    "print(result) # [60, 45, 33]"
   ]
  },
  {
   "cell_type": "markdown",
   "metadata": {},
   "source": [
    "####  Create dict from keys and values using zip."
   ]
  },
  {
   "cell_type": "code",
   "execution_count": null,
   "metadata": {},
   "outputs": [],
   "source": [
    "# GOOD\n",
    "keys = ['Safe', 'Bob', 'Thomas']\n",
    "values = ['Hammad', 'Builder', 'Engine'] \n",
    "d = dict(zip(keys, values))\n",
    "print(d) # {'Bob': 'Builder','Safe': 'Hammad','Thomas': 'Engine'}\n",
    "\n",
    "# NOT SO GOOD\n",
    "keys = ['Safe', 'Bob', 'Thomas']\n",
    "values = ['Hammad', 'Builder', 'Engine']\n",
    "d = {}\n",
    "for i, key in enumerate(keys):\n",
    "    d[key] = values[i]\n",
    "print(d) # {'Bob': 'Builder','Safe': 'Hammad','Thomas': 'Engine'}\n"
   ]
  },
  {
   "cell_type": "code",
   "execution_count": null,
   "metadata": {},
   "outputs": [],
   "source": [
    "keys = ['a', 'b', 'c']\n",
    "values = [1, 2, 3]\n",
    "dictionary = dict(zip(keys, values))\n",
    "print dictionary"
   ]
  },
  {
   "cell_type": "markdown",
   "metadata": {},
   "source": [
    "If you have to deal with millions of (immutable) strings, use a list to hold the substrings and join them with a string method:"
   ]
  },
  {
   "cell_type": "code",
   "execution_count": null,
   "metadata": {},
   "outputs": [],
   "source": [
    "def genChar1():\n",
    "    from random import randint\n",
    "    s = ''\n",
    "    for i in xrange(10000000):\n",
    "        s += 'a'\n",
    "    return s\n",
    "\n",
    "%timeit genChar1()"
   ]
  },
  {
   "cell_type": "code",
   "execution_count": null,
   "metadata": {},
   "outputs": [],
   "source": [
    "def genChar2():\n",
    "    from random import randint\n",
    "    s = []\n",
    "    for i in xrange(100000000):\n",
    "        s.append('a')\n",
    "    return ''.join(s)\n",
    "\n",
    "%timeit genChar2()"
   ]
  },
  {
   "cell_type": "markdown",
   "metadata": {},
   "source": [
    "If you are interested in some values computed from a whole list, you can use generator comprehension to avoid the list:"
   ]
  },
  {
   "cell_type": "code",
   "execution_count": null,
   "metadata": {},
   "outputs": [],
   "source": [
    "%timeit sum([x * x for x in xrange(100000000)])"
   ]
  },
  {
   "cell_type": "code",
   "execution_count": null,
   "metadata": {},
   "outputs": [],
   "source": [
    "%timeit sum(x * x for x in xrange(100000000))"
   ]
  },
  {
   "cell_type": "markdown",
   "metadata": {},
   "source": [
    "If you need to search in items, dictionaries and sets are preferable to lists."
   ]
  },
  {
   "cell_type": "code",
   "execution_count": null,
   "metadata": {},
   "outputs": [],
   "source": [
    "a = range(1000000)\n",
    "b = set(range(1000000))\n",
    "%timeit 9 in a\n",
    "%timeit 9 in b"
   ]
  },
  {
   "cell_type": "markdown",
   "metadata": {},
   "source": [
    "## Python paralell processing"
   ]
  },
  {
   "cell_type": "code",
   "execution_count": null,
   "metadata": {},
   "outputs": [],
   "source": [
    "def sample(n):\n",
    "    from numpy.random import rand\n",
    "    return(rand(n) **2.0 + rand(n)**2.0 <=1).sum()\n",
    "\n",
    "n = 1000000\n",
    "\n",
    "from IPython.parallel import Client\n",
    "rc = Client()\n",
    "v = rc[:]\n",
    "print len(v), 'cores'\n",
    "with v.sync_imports():\n",
    "    from numpy.random import random\n",
    "\n",
    "4.0 * sum(v.map_sync(sample, [n] * len(v)))/(n*len(v))"
   ]
  },
  {
   "cell_type": "markdown",
   "metadata": {},
   "source": [
    "# Python online resources\n",
    "\n",
    "+ Python Practice Book: [Link](http://anandology.com/python-practice-book/index.html)\n",
    "+ Python Online Course at Code Academy: [Link](http://www.codecademy.com/en/tracks/python)\n",
    "+ Think Python: How to Think Like a Computer Scientist Book: [Link](http://greenteapress.com/thinkpython/index.html)"
   ]
  }
 ],
 "metadata": {
  "kernelspec": {
   "display_name": "Python 2",
   "language": "python",
   "name": "python2"
  },
  "language_info": {
   "codemirror_mode": {
    "name": "ipython",
    "version": 2
   },
   "file_extension": ".py",
   "mimetype": "text/x-python",
   "name": "python",
   "nbconvert_exporter": "python",
   "pygments_lexer": "ipython2",
   "version": "2.7.18"
  }
 },
 "nbformat": 4,
 "nbformat_minor": 1
}
