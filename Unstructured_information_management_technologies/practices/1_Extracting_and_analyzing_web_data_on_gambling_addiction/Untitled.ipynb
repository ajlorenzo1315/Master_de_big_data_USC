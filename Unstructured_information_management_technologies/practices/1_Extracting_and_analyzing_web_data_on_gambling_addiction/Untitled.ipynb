{
 "cells": [
  {
   "cell_type": "code",
   "execution_count": 2,
   "id": "222be964",
   "metadata": {},
   "outputs": [
    {
     "name": "stdout",
     "output_type": "stream",
     "text": [
      "Collecting proxycrawl\n",
      "  Downloading proxycrawl-3.2.2.tar.gz (7.9 kB)\n",
      "  Preparing metadata (setup.py) ... \u001b[?25ldone\n",
      "\u001b[?25hBuilding wheels for collected packages: proxycrawl\n",
      "  Building wheel for proxycrawl (setup.py) ... \u001b[?25ldone\n",
      "\u001b[?25h  Created wheel for proxycrawl: filename=proxycrawl-3.2.2-py3-none-any.whl size=9405 sha256=c25169a18392d4a8ac22d1d6e7bb359acf8c02a2fb3f38fb78bea7cdc80639c8\n",
      "  Stored in directory: /home/alourido/.cache/pip/wheels/a4/03/88/5bfeaf533c5a86387cfbaea09ebb5f3863f22c0f98f69f774a\n",
      "Successfully built proxycrawl\n",
      "Installing collected packages: proxycrawl\n",
      "Successfully installed proxycrawl-3.2.2\n"
     ]
    }
   ],
   "source": [
    "#!pip3 install proxycrawl"
   ]
  },
  {
   "cell_type": "code",
   "execution_count": 22,
   "id": "ef2db913",
   "metadata": {},
   "outputs": [
    {
     "name": "stdout",
     "output_type": "stream",
     "text": [
      "Found existing installation: crawlbase 1.0.0\r\n",
      "Uninstalling crawlbase-1.0.0:\r\n",
      "  Successfully uninstalled crawlbase-1.0.0\r\n"
     ]
    }
   ],
   "source": [
    "!pip3 uninstall crawlbase -y"
   ]
  },
  {
   "cell_type": "markdown",
   "id": "64b9801f",
   "metadata": {},
   "source": [
    "out:\n",
    "\n",
    "    Collecting crawlbase\n",
    "      Downloading crawlbase-1.0.0.tar.gz (6.6 kB)\n",
    "      Preparing metadata (setup.py) ... done\n",
    "    Building wheels for collected packages: crawlbase\n",
    "      Building wheel for crawlbase (setup.py) ... done\n",
    "      Created wheel for crawlbase: filename=crawlbase-1.0.0-py3-none-any.whl size=8608 \n",
    "      sha256=67b75d7fa53922275a5b8999fa4047ee19031eb675672cf850f25885a7a2861a\n",
    "      Stored in directory: /home/alourido/.cache/pip/wheels/8b/6d/32/d68803d09452092216d95022b7ec07fd6ee4a1726e49947fe1\n",
    "    Successfully built crawlbase\n",
    "    Installing collected packages: crawlbase\n",
    "    Successfully installed crawlbase-1.0.0"
   ]
  },
  {
   "cell_type": "markdown",
   "id": "b9731d77",
   "metadata": {},
   "source": [
    "import proxycrawl\n",
    "\n",
    "proxycrawl.__version__\n",
    "\n",
    "\n",
    "    ================================================================================\n",
    "    DEPRECATION WARNING - 'proxycrawl'\n",
    "    ================================================================================\n",
    "\n",
    "    'proxycrawl' is deprecated and will not be maintained. Please switch to 'crawlbase'.\n",
    "\n",
    "    More details and migration guide: https://github.com/crawlbase-source/crawlbase-python\n",
    "    ================================================================================\n",
    " \n",
    "[link crawlbase-source](https://github.com/crawlbase-source/crawlbase-python)\n"
   ]
  },
  {
   "cell_type": "code",
   "execution_count": 19,
   "id": "22e72f34",
   "metadata": {},
   "outputs": [],
   "source": [
    "from crawlbase import CrawlingAPI\n",
    "\n",
    "api = CrawlingAPI({ 'token': 'YOUR_CRAWLBASE_TOKEN' })\n",
    "\n",
    "response = api.get('https://www.reddit.com/r/pics/comments/5bx4bx/thanks_obama/', {\n",
    "    'user_agent': 'Mozilla/5.0 (Windows NT 6.2; rv:20.0) Gecko/20121202 Firefox/30.0',\n",
    "    'format': 'json'\n",
    "})\n",
    "if response['status_code'] == 200:\n",
    "    print(response['body'])"
   ]
  },
  {
   "cell_type": "code",
   "execution_count": 20,
   "id": "69f00cce",
   "metadata": {},
   "outputs": [
    {
     "name": "stdout",
     "output_type": "stream",
     "text": [
      "\n"
     ]
    }
   ],
   "source": [
    "print(response['body'])\n"
   ]
  },
  {
   "cell_type": "code",
   "execution_count": null,
   "id": "51f2f8fd",
   "metadata": {},
   "outputs": [],
   "source": []
  }
 ],
 "metadata": {
  "kernelspec": {
   "display_name": "Python 3 (ipykernel)",
   "language": "python",
   "name": "python3"
  },
  "language_info": {
   "codemirror_mode": {
    "name": "ipython",
    "version": 3
   },
   "file_extension": ".py",
   "mimetype": "text/x-python",
   "name": "python",
   "nbconvert_exporter": "python",
   "pygments_lexer": "ipython3",
   "version": "3.7.16"
  }
 },
 "nbformat": 4,
 "nbformat_minor": 5
}
