{
 "cells": [
  {
   "cell_type": "markdown",
   "id": "f53def78",
   "metadata": {},
   "source": [
    "Generamos un nuevo proyecto"
   ]
  },
  {
   "cell_type": "code",
   "execution_count": 13,
   "id": "19acc882",
   "metadata": {},
   "outputs": [
    {
     "name": "stdout",
     "output_type": "stream",
     "text": [
      "New Scrapy project 'ludopatia', using template directory '/home/alourido/anaconda3/envs/TGINE/lib/python3.7/site-packages/scrapy/templates/project', created in:\r\n",
      "    /home/alourido/Escritorio/Master_de_big_data_USC/Unstructured_information_management_technologies/practices/1_Extracting_and_analyzing_web_data_on_gambling_addiction/ludopatia\r\n",
      "\r\n",
      "You can start your first spider with:\r\n",
      "    cd ludopatia\r\n",
      "    scrapy genspider example example.com\r\n"
     ]
    }
   ],
   "source": [
    "!scrapy startproject ludopatia"
   ]
  },
  {
   "cell_type": "code",
   "execution_count": 14,
   "id": "29147bbc",
   "metadata": {},
   "outputs": [
    {
     "name": "stdout",
     "output_type": "stream",
     "text": [
      "Created spider 'ludopatia_spider' using template 'basic' in module:\r\n",
      "  ludopatia.spiders.ludopatia_spider\r\n"
     ]
    }
   ],
   "source": [
    "!cd ludopatia && scrapy genspider ludopatia_spider ludopatia.org"
   ]
  },
  {
   "cell_type": "markdown",
   "id": "c994bd5c",
   "metadata": {},
   "source": [
    "2. Configurar la araña para raspar el foro:\n",
    "\n",
    "Abre el archivo ludopatia_spider.py en un editor de texto y modifícalo para que pueda raspar el foro \"https://www.ludopatia.org/forum/default.asp\". Tendrás que analizar la estructura HTML del sitio web y definir cómo planeas extraer los datos que necesitas.\n",
    "\n",
    "Como punto de partida, aquí hay un ejemplo simple de cómo podrías definir una araña que extrae los títulos de los hilos del foro:\n",
    "\n",
    "```python\n",
    "import scrapy\n",
    "\n",
    "class LudopatiaSpider(scrapy.Spider):\n",
    "    name = 'ludopatia'\n",
    "   \n",
    "    def start_requests(self):\n",
    "        url = \"https://www.ludopatia.org/forum/default.asp\"\n",
    "  \n",
    "        yield scrapy.Request(url, self.parse)\n",
    "  \n",
    "    \n",
    "    def parse(self, response):\n",
    "        for thread in response.css('div.thread-info'):\n",
    "            title = thread.css('a.title::text').get()\n",
    "            yield {\n",
    "                'title': title,\n",
    "            }\n",
    "\n",
    "        # Manejo de paginación (suponiendo que haya varias páginas)\n",
    "        next_page = response.css('a.next::attr(href)').get()\n",
    "        if next_page:\n",
    "            yield response.follow(next_page, self.parse)\n",
    "```"
   ]
  },
  {
   "cell_type": "markdown",
   "id": "6c64b42e",
   "metadata": {},
   "source": [
    " Ahora, en la misma clase ExampleSpider, configura cómo deseas exportar los datos utilizando la opción de \"FEED_EXPORTS\" en el archivo de configuración settings.py. Puedes configurar Scrapy para exportar los datos en formato JSON agregando el siguiente código en settings.py:\n",
    " \n",
    "```python\n",
    "FEED_FORMAT = 'json'\n",
    "FEED_URI = 'output.json' \n",
    "```"
   ]
  },
  {
   "cell_type": "code",
   "execution_count": 45,
   "id": "15b45e55",
   "metadata": {},
   "outputs": [
    {
     "name": "stdout",
     "output_type": "stream",
     "text": [
      "2023-09-29 18:31:35 [scrapy.utils.log] INFO: Scrapy 2.9.0 started (bot: ludopatia)\n",
      "2023-09-29 18:31:35 [scrapy.utils.log] INFO: Versions: lxml 4.9.3.0, libxml2 2.10.3, cssselect 1.2.0, parsel 1.8.1, w3lib 2.1.2, Twisted 22.10.0, Python 3.7.16 (default, Jan 17 2023, 22:20:44) - [GCC 11.2.0], pyOpenSSL 23.2.0 (OpenSSL 3.1.3 19 Sep 2023), cryptography 41.0.4, Platform Linux-6.2.0-33-generic-x86_64-with-debian-bookworm-sid\n",
      "2023-09-29 18:31:35 [scrapy.crawler] INFO: Overridden settings:\n",
      "{'BOT_NAME': 'ludopatia',\n",
      " 'FEED_EXPORT_ENCODING': 'utf-8',\n",
      " 'NEWSPIDER_MODULE': 'ludopatia.spiders',\n",
      " 'REQUEST_FINGERPRINTER_IMPLEMENTATION': '2.7',\n",
      " 'ROBOTSTXT_OBEY': True,\n",
      " 'SPIDER_MODULES': ['ludopatia.spiders'],\n",
      " 'TWISTED_REACTOR': 'twisted.internet.asyncioreactor.AsyncioSelectorReactor'}\n",
      "2023-09-29 18:31:35 [asyncio] DEBUG: Using selector: EpollSelector\n",
      "2023-09-29 18:31:35 [scrapy.utils.log] DEBUG: Using reactor: twisted.internet.asyncioreactor.AsyncioSelectorReactor\n",
      "2023-09-29 18:31:35 [scrapy.utils.log] DEBUG: Using asyncio event loop: asyncio.unix_events._UnixSelectorEventLoop\n",
      "2023-09-29 18:31:35 [scrapy.extensions.telnet] INFO: Telnet Password: a9f84c4ee30aafad\n",
      "2023-09-29 18:31:35 [py.warnings] WARNING: /home/alourido/anaconda3/envs/TGINE/lib/python3.7/site-packages/scrapy/extensions/feedexport.py:326: ScrapyDeprecationWarning: The `FEED_URI` and `FEED_FORMAT` settings have been deprecated in favor of the `FEEDS` setting. Please see the `FEEDS` setting docs for more details\n",
      "  exporter = cls(crawler)\n",
      "\n",
      "2023-09-29 18:31:35 [scrapy.middleware] INFO: Enabled extensions:\n",
      "['scrapy.extensions.corestats.CoreStats',\n",
      " 'scrapy.extensions.telnet.TelnetConsole',\n",
      " 'scrapy.extensions.memusage.MemoryUsage',\n",
      " 'scrapy.extensions.feedexport.FeedExporter',\n",
      " 'scrapy.extensions.logstats.LogStats']\n",
      "2023-09-29 18:31:35 [scrapy.middleware] INFO: Enabled downloader middlewares:\n",
      "['scrapy.downloadermiddlewares.robotstxt.RobotsTxtMiddleware',\n",
      " 'scrapy.downloadermiddlewares.httpauth.HttpAuthMiddleware',\n",
      " 'scrapy.downloadermiddlewares.downloadtimeout.DownloadTimeoutMiddleware',\n",
      " 'scrapy.downloadermiddlewares.defaultheaders.DefaultHeadersMiddleware',\n",
      " 'scrapy.downloadermiddlewares.useragent.UserAgentMiddleware',\n",
      " 'scrapy.downloadermiddlewares.retry.RetryMiddleware',\n",
      " 'scrapy.downloadermiddlewares.redirect.MetaRefreshMiddleware',\n",
      " 'scrapy.downloadermiddlewares.httpcompression.HttpCompressionMiddleware',\n",
      " 'scrapy.downloadermiddlewares.redirect.RedirectMiddleware',\n",
      " 'scrapy.downloadermiddlewares.cookies.CookiesMiddleware',\n",
      " 'scrapy.downloadermiddlewares.httpproxy.HttpProxyMiddleware',\n",
      " 'scrapy.downloadermiddlewares.stats.DownloaderStats']\n",
      "2023-09-29 18:31:35 [scrapy.middleware] INFO: Enabled spider middlewares:\n",
      "['scrapy.spidermiddlewares.httperror.HttpErrorMiddleware',\n",
      " 'scrapy.spidermiddlewares.offsite.OffsiteMiddleware',\n",
      " 'scrapy.spidermiddlewares.referer.RefererMiddleware',\n",
      " 'scrapy.spidermiddlewares.urllength.UrlLengthMiddleware',\n",
      " 'scrapy.spidermiddlewares.depth.DepthMiddleware']\n",
      "2023-09-29 18:31:35 [scrapy.middleware] INFO: Enabled item pipelines:\n",
      "[]\n",
      "2023-09-29 18:31:35 [scrapy.core.engine] INFO: Spider opened\n",
      "2023-09-29 18:31:35 [scrapy.extensions.logstats] INFO: Crawled 0 pages (at 0 pages/min), scraped 0 items (at 0 items/min)\n",
      "2023-09-29 18:31:35 [scrapy.extensions.telnet] INFO: Telnet console listening on 127.0.0.1:6023\n",
      "2023-09-29 18:31:36 [scrapy.core.engine] DEBUG: Crawled (200) <GET https://www.ludopatia.org/robots.txt> (referer: None)\n",
      "2023-09-29 18:31:37 [scrapy.core.engine] DEBUG: Crawled (200) <GET https://www.ludopatia.org/forum/default.asp> (referer: None)\n",
      "URL de la página actual: https://www.ludopatia.org/forum/default.asp\n",
      "2023-09-29 18:31:37 [scrapy.core.scraper] DEBUG: Scraped from <200 https://www.ludopatia.org/forum/default.asp>\n",
      "{'forum_url': 'forum_topics.asp?FID=16', 'forum_name': 'ASAMBLEA  FORA DE JOC', 'next_urls': 'https://www.ludopatia.org/forum/forum_topics.asp?FID=16'}\n",
      "2023-09-29 18:31:37 [scrapy.core.scraper] ERROR: Spider error processing <GET https://www.ludopatia.org/forum/default.asp> (referer: None)\n",
      "Traceback (most recent call last):\n",
      "  File \"/home/alourido/anaconda3/envs/TGINE/lib/python3.7/site-packages/scrapy/utils/defer.py\", line 260, in iter_errback\n",
      "    yield next(it)\n",
      "  File \"/home/alourido/anaconda3/envs/TGINE/lib/python3.7/site-packages/scrapy/utils/python.py\", line 336, in __next__\n",
      "    return next(self.data)\n",
      "  File \"/home/alourido/anaconda3/envs/TGINE/lib/python3.7/site-packages/scrapy/utils/python.py\", line 336, in __next__\n",
      "    return next(self.data)\n",
      "  File \"/home/alourido/anaconda3/envs/TGINE/lib/python3.7/site-packages/scrapy/core/spidermw.py\", line 106, in process_sync\n",
      "    for r in iterable:\n",
      "  File \"/home/alourido/anaconda3/envs/TGINE/lib/python3.7/site-packages/scrapy/spidermiddlewares/offsite.py\", line 28, in <genexpr>\n",
      "    return (r for r in result or () if self._filter(r, spider))\n",
      "  File \"/home/alourido/anaconda3/envs/TGINE/lib/python3.7/site-packages/scrapy/core/spidermw.py\", line 106, in process_sync\n",
      "    for r in iterable:\n",
      "  File \"/home/alourido/anaconda3/envs/TGINE/lib/python3.7/site-packages/scrapy/spidermiddlewares/referer.py\", line 352, in <genexpr>\n",
      "    return (self._set_referer(r, response) for r in result or ())\n",
      "  File \"/home/alourido/anaconda3/envs/TGINE/lib/python3.7/site-packages/scrapy/core/spidermw.py\", line 106, in process_sync\n",
      "    for r in iterable:\n",
      "  File \"/home/alourido/anaconda3/envs/TGINE/lib/python3.7/site-packages/scrapy/spidermiddlewares/urllength.py\", line 27, in <genexpr>\n",
      "    return (r for r in result or () if self._filter(r, spider))\n",
      "  File \"/home/alourido/anaconda3/envs/TGINE/lib/python3.7/site-packages/scrapy/core/spidermw.py\", line 106, in process_sync\n",
      "    for r in iterable:\n",
      "  File \"/home/alourido/anaconda3/envs/TGINE/lib/python3.7/site-packages/scrapy/spidermiddlewares/depth.py\", line 31, in <genexpr>\n",
      "    return (r for r in result or () if self._filter(r, response, spider))\n",
      "  File \"/home/alourido/anaconda3/envs/TGINE/lib/python3.7/site-packages/scrapy/core/spidermw.py\", line 106, in process_sync\n",
      "    for r in iterable:\n",
      "  File \"/home/alourido/Escritorio/Master_de_big_data_USC/Unstructured_information_management_technologies/practices/1_Extracting_and_analyzing_web_data_on_gambling_addiction/ludopatia/ludopatia/spiders/ludopatia_spider.py\", line 37, in parse\n",
      "    links_no_vistos.append(forum_url)\n",
      "NameError: name 'links_no_vistos' is not defined\n",
      "2023-09-29 18:31:37 [scrapy.core.engine] INFO: Closing spider (finished)\n",
      "2023-09-29 18:31:37 [scrapy.extensions.feedexport] INFO: Stored json feed (1 items) in: output.json\n",
      "2023-09-29 18:31:37 [scrapy.statscollectors] INFO: Dumping Scrapy stats:\n",
      "{'downloader/request_bytes': 461,\n",
      " 'downloader/request_count': 2,\n",
      " 'downloader/request_method_count/GET': 2,\n",
      " 'downloader/response_bytes': 4626,\n",
      " 'downloader/response_count': 2,\n",
      " 'downloader/response_status_count/200': 2,\n",
      " 'elapsed_time_seconds': 1.498081,\n",
      " 'feedexport/success_count/FileFeedStorage': 1,\n",
      " 'finish_reason': 'finished',\n",
      " 'finish_time': datetime.datetime(2023, 9, 29, 16, 31, 37, 428721),\n",
      " 'httpcompression/response_bytes': 14933,\n",
      " 'httpcompression/response_count': 2,\n",
      " 'item_scraped_count': 1,\n",
      " 'log_count/DEBUG': 6,\n",
      " 'log_count/ERROR': 1,\n",
      " 'log_count/INFO': 11,\n",
      " 'log_count/WARNING': 1,\n",
      " 'memusage/max': 67207168,\n",
      " 'memusage/startup': 67207168,\n",
      " 'response_received_count': 2,\n",
      " 'robotstxt/request_count': 1,\n",
      " 'robotstxt/response_count': 1,\n",
      " 'robotstxt/response_status_count/200': 1,\n",
      " 'scheduler/dequeued': 1,\n",
      " 'scheduler/dequeued/memory': 1,\n",
      " 'scheduler/enqueued': 1,\n",
      " 'scheduler/enqueued/memory': 1,\n",
      " 'spider_exceptions/NameError': 1,\n",
      " 'start_time': datetime.datetime(2023, 9, 29, 16, 31, 35, 930640)}\n",
      "2023-09-29 18:31:37 [scrapy.core.engine] INFO: Spider closed (finished)\n"
     ]
    }
   ],
   "source": [
    "!cd ludopatia && scrapy crawl ludopatia_spider"
   ]
  },
  {
   "cell_type": "code",
   "execution_count": null,
   "id": "739078a5",
   "metadata": {},
   "outputs": [],
   "source": []
  }
 ],
 "metadata": {
  "kernelspec": {
   "display_name": "Python 3 (ipykernel)",
   "language": "python",
   "name": "python3"
  },
  "language_info": {
   "codemirror_mode": {
    "name": "ipython",
    "version": 3
   },
   "file_extension": ".py",
   "mimetype": "text/x-python",
   "name": "python",
   "nbconvert_exporter": "python",
   "pygments_lexer": "ipython3",
   "version": "3.11.5"
  }
 },
 "nbformat": 4,
 "nbformat_minor": 5
}
